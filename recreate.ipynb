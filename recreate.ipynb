{
 "cells": [
  {
   "cell_type": "code",
   "execution_count": 1,
   "metadata": {},
   "outputs": [
    {
     "name": "stdout",
     "output_type": "stream",
     "text": [
      "/Users/orlandotimmerman/Library/CloudStorage/OneDrive-UniversityofCambridge/cambridge/phd/coralshift\n"
     ]
    }
   ],
   "source": [
    "!pwd"
   ]
  },
  {
   "cell_type": "code",
   "execution_count": 12,
   "metadata": {},
   "outputs": [
    {
     "name": "stdout",
     "output_type": "stream",
     "text": [
      "The autoreload extension is already loaded. To reload it, use:\n",
      "  %reload_ext autoreload\n"
     ]
    }
   ],
   "source": [
    "%load_ext autoreload\n",
    "%autoreload 2\n",
    "\n",
    "import os\n",
    "import sys\n",
    "\n",
    "os.chdir(\"/lustre_scratch/orlando-code/coralshift/\")\n",
    "\n",
    "import geopandas as gpd\n",
    "import numpy as np\n",
    "import xarray as xa\n",
    "import pandas as pd"
   ]
  },
  {
   "cell_type": "markdown",
   "metadata": {},
   "source": [
    "## Random forest classifier using scikit-learn"
   ]
  },
  {
   "cell_type": "code",
   "execution_count": 2,
   "metadata": {},
   "outputs": [
    {
     "name": "stdout",
     "output_type": "stream",
     "text": [
      "/lustre_scratch/orlando-code/coralshift\n"
     ]
    }
   ],
   "source": [
    "# import necessary coralshift and other packages\n",
    "!pwd\n"
   ]
  },
  {
   "cell_type": "code",
   "execution_count": 3,
   "metadata": {},
   "outputs": [],
   "source": [
    "# navigate to data directory\n",
    "os.chdir(\"/lustre_scratch/orlando-code/datasets/\")"
   ]
  },
  {
   "cell_type": "code",
   "execution_count": 13,
   "metadata": {},
   "outputs": [],
   "source": [
    "def rasterize_geodf(geo_df: gpd.geodataframe, lat_resolution: float=1., lon_resolution: float=1.) -> np.ndarray:\n",
    "    \"\"\"Rasterize a geodataframe to a numpy array.\n",
    "    \n",
    "    Args:\n",
    "        geo_df (gpd.geodataframe): Geodataframe to rasterize\n",
    "        lat_resolution (float): Resolution of the raster in degrees latitude\n",
    "        lon_resolution (float): Resolution of the raster in degrees longitude\n",
    "\n",
    "    Returns:\n",
    "        np.ndarray: Rasterized numpy array\n",
    "    TODO: add crs customisation. Probably from class object elsewhere. Currently assumes EPSG:4326.\"\"\"\n",
    "\n",
    "    xmin, ymin, xmax, ymax, width, height = lat_lon_vals_from_geo_df(geo_df, lon_resolution, lat_resolution)\n",
    "    # Create the transform based on the extent and resolution\n",
    "    transform = rasterio.transform.from_bounds(xmin, ymin, xmax, ymax, width, height)\n",
    "    transform.crs = rasterio.crs.CRS.from_epsg(4326)\n",
    "\n",
    "    # Any chance of a loading bar? No: would have to dig into the function istelf.\n",
    "    # could be interesting...\n",
    "    return features.rasterize(\n",
    "        [(shape, 1) for shape in geo_df['geometry']],\n",
    "        out_shape=(height, width),\n",
    "        transform=transform,\n",
    "        fill=0,\n",
    "        all_touched=True,\n",
    "        dtype=rasterio.uint8)\n",
    "\n",
    "\n",
    "def raster_to_xarray(raster: np.ndarray, x_y_limits: np.ndarray, lat_resolution: float=1., lon_resolution: float=1.) -> xa.DataArray:\n",
    "    \"\"\"Convert a raster to an xarray DataArray.\n",
    "    \n",
    "    Args:\n",
    "        raster (np.ndarray): Raster to convert\n",
    "        lat_resolution (float): Resolution of the raster in degrees latitude\n",
    "        lon_resolution (float): Resolution of the raster in degrees longitude\n",
    "\n",
    "    Returns:\n",
    "        xa.DataArray: DataArray of the raster\n",
    "    TODO: add attributes kwarg    \n",
    "    \"\"\"\n",
    "\n",
    "    lon_min, lat_min, lon_max, lat_max = x_y_limits\n",
    "    width = int((lon_max - lon_min) / lon_resolution)\n",
    "    height = int((lat_max - lat_min) / lat_resolution)\n",
    "\n",
    "    # Create longitude and latitude arrays\n",
    "    longitudes = np.linspace(lon_min, lon_max, width)\n",
    "    # reversed because raster inverted\n",
    "    latitudes = np.linspace(lat_max, lat_min, height)\n",
    "\n",
    "    # Create an xarray DataArray with longitude and latitude coordinates\n",
    "    xa_array = xa.DataArray(raster, coords={\n",
    "        'latitude': latitudes, 'longitude': longitudes}, dims=['latitude', 'longitude']\n",
    "        )\n",
    "    # Set the CRS (coordinate reference system) if needed\n",
    "    # TODO: make kwarg\n",
    "    xa_array.attrs['crs'] = 'EPSG:4326'  # Example CRS, use the appropriate CRS\n",
    "    # TODO: set attributes if required\n",
    "    #     attrs=dict(\n",
    "#         description=\"Rasterised Reef Check coral presence survey data\"\n",
    "#     ))\n",
    "    return xa_array\n",
    "\n",
    "\n",
    "def lat_lon_vals_from_geo_df(geo_df: gpd.geodataframe, lon_resolution: float=1., lat_resolution: float=1.):\n",
    "    # Calculate the extent in degrees from bounds of geometry objects\n",
    "    lon_min, lat_min, lon_max, lat_max = geo_df['geometry'].total_bounds\n",
    "    # Calculate the width and height of the raster in pixels based on the extent and resolution\n",
    "    width = int((lon_max - lon_min) / lon_resolution)\n",
    "    height = int((lat_max - lat_min) / lat_resolution)\n",
    "\n",
    "    return lon_min, lat_min, lon_max, lat_max, width, height\n",
    "\n",
    "\n",
    "def rasterise_points_df(df: pd.DataFrame, lat_column: str, lon_column: str,\n",
    "    lat_resolution: float=1., lon_resolution: float=1., \n",
    "    bbox: list[float]=[-90,-180,90,180]) -> np.ndarray:\n",
    "    \"\"\"Rasterize a pandas dataframe of points to a numpy array.\n",
    "    \n",
    "    Args:\n",
    "        df (pd.DataFrame): Dataframe of points to rasterize\n",
    "        lat_resolution (float): Resolution of the raster in degrees latitude\n",
    "        lon_resolution (float): Resolution of the raster in degrees longitude\n",
    "\n",
    "    Returns:\n",
    "        np.ndarray: Rasterized numpy array\"\"\"\n",
    "\n",
    "    # extract bbox limits of your raster\n",
    "    min_lat, min_lon, max_lat, max_lon = bbox\n",
    "\n",
    "    # Calculate the number of rows and columns in the raster\n",
    "    num_rows = int((max_lat - min_lat) / lat_resolution)\n",
    "    num_cols = int((max_lon - min_lon) / lon_resolution)\n",
    "\n",
    "    # Initialize an empty raster (of zeros)\n",
    "    raster = np.zeros((num_rows, num_cols), dtype=int)\n",
    "\n",
    "    # Convert latitude and longitude points to row and column indices of raster\n",
    "    row_indices = ((max_lat - df[lat_column]) // lat_resolution).astype(int)\n",
    "    col_indices = ((df[lon_column] - min_lon) // lon_resolution).astype(int)\n",
    "\n",
    "    # Filter coordinates that fall within the bounding box: this produces a binary mask\n",
    "    valid_indices = ((min_lat <= df[lat_column]) & (df[lat_column] <= max_lat) &\n",
    "                    (min_lon <= df[lon_column]) & (df[lon_column] <= max_lon))\n",
    "\n",
    "    # # Update the raster with counts of valid coordinates\n",
    "    raster[row_indices[valid_indices], col_indices[valid_indices]] += 1\n",
    "\n",
    "    # list of row, column indices corresponding to each latitude/longitude point\n",
    "    valid_coordinates = list(zip(row_indices[valid_indices], col_indices[valid_indices]))\n",
    "    # count number of repeated index pairs and return unique\n",
    "    unique_coordinates, counts = np.unique(valid_coordinates, axis=0, return_counts=True)\n",
    "    # assign number of counts to each unique raster\n",
    "    raster[unique_coordinates[:, 0], unique_coordinates[:, 1]] = counts\n",
    "\n",
    "    return raster"
   ]
  },
  {
   "cell_type": "code",
   "execution_count": null,
   "metadata": {},
   "outputs": [
    {
     "ename": "",
     "evalue": "",
     "output_type": "error",
     "traceback": [
      "\u001b[1;31mFailed to start the Kernel. \n",
      "\u001b[1;31mKernel is dead. \n",
      "\u001b[1;31mView Jupyter <a href='command:jupyter.viewOutput'>log</a> for further details."
     ]
    }
   ],
   "source": [
    "# load in ground truth\n",
    "unep_fp = Path(\"unep-wcmc/01_Data/WCMC008_CoralReef2021_Py_v4_1.shp\")\n",
    "unep_gdf = gpd.read_file(unep_fp)\n",
    "\n",
    "lon_resolution, lat_resolution = 0.01, 0.01\n",
    "unep_raster = rasterize_geodf(unep_gdf, lat_resolution=lat_resolution, lon_resolution=lon_resolution)\n"
   ]
  },
  {
   "cell_type": "code",
   "execution_count": null,
   "metadata": {},
   "outputs": [
    {
     "ename": "",
     "evalue": "",
     "output_type": "error",
     "traceback": [
      "\u001b[1;31mFailed to start the Kernel. \n",
      "\u001b[1;31mKernel is dead. \n",
      "\u001b[1;31mView Jupyter <a href='command:jupyter.viewOutput'>log</a> for further details."
     ]
    }
   ],
   "source": [
    "# load in environmental data\n"
   ]
  }
 ],
 "metadata": {
  "kernelspec": {
   "display_name": "coralshift",
   "language": "python",
   "name": "python3"
  },
  "language_info": {
   "codemirror_mode": {
    "name": "ipython",
    "version": 3
   },
   "file_extension": ".py",
   "mimetype": "text/x-python",
   "name": "python",
   "nbconvert_exporter": "python",
   "pygments_lexer": "ipython3",
   "version": "3.12.0"
  }
 },
 "nbformat": 4,
 "nbformat_minor": 2
}
