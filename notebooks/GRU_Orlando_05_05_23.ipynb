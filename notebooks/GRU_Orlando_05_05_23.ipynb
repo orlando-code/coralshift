{
 "cells": [
  {
   "cell_type": "code",
   "execution_count": 24,
   "id": "71072828",
   "metadata": {},
   "outputs": [],
   "source": [
    "import tensorflow as tf\n",
    "\n",
    "class gru_model(tf.keras.Model):\n",
    "    def __init__(self, rnn_units, num_layers):\n",
    "        super(gru_model, self).__init__()\n",
    "        self.num_layers = num_layers\n",
    "        self.rnn_units = rnn_units\n",
    "        self.grus = [tf.keras.layers.GRU(rnn_units[i],\n",
    "                                   return_sequences=True, \n",
    "                                   return_state=True) for i in range(num_layers)]\n",
    "        \n",
    "        self.w1 = tf.keras.layers.Dense(10) ## Dense is a linear layer \n",
    "\n",
    "        self.w2 = tf.keras.layers.Dense(1) \n",
    "\n",
    "\n",
    "    def call(self, inputs, training=False):\n",
    "        #input shape: (batch_size, seq_length, features)\n",
    "        assert self.num_layers == len(self.rnn_units)\n",
    "        x = inputs\n",
    "        if (len(x.shape) != 3):\n",
    "            print('what are you doing? this is wrong shape')\n",
    "        print('input dim ({}, {}, {})'.format(x.shape[0], x.shape[1], x.shape[2]))\n",
    "        whole_seq = x\n",
    "\n",
    "        ## RNN stuff\n",
    "        for i in range(self.num_layers):\n",
    "            whole_seq, final_s = self.grus[i](whole_seq, training=training)\n",
    "        ##\n",
    "        \n",
    "        ## extra layers\n",
    "        target = self.w1(final_s)\n",
    "        target = tf.nn.relu(target) ## just non-linearity \n",
    "        target = self.w2(target)\n",
    "        \n",
    "        ### The Dense layer right before the sigmoid must be dimension 1. \n",
    "        ### We must keep sigmoid for probability in [0, 1]\n",
    "        target = tf.nn.sigmoid(target)\n",
    "        \n",
    "        return target"
   ]
  },
  {
   "cell_type": "code",
   "execution_count": 25,
   "id": "c3e92c3f",
   "metadata": {},
   "outputs": [],
   "source": [
    "## if inputs are [x1, x2]\n",
    "## Dense(x1, x2) == w1x1 + w2x2 "
   ]
  },
  {
   "cell_type": "code",
   "execution_count": 26,
   "id": "8babe04f",
   "metadata": {},
   "outputs": [],
   "source": [
    "import tensorflow as tf\n",
    "import math as m\n",
    "\n",
    "\n",
    "def nll(y, y_pred):\n",
    "    '''y_pred is a probability value between 0 to 1'''\n",
    "    bce = tf.keras.losses.BinaryCrossentropy()    \n",
    "    return bce(y, y_pred)\n"
   ]
  },
  {
   "cell_type": "code",
   "execution_count": 27,
   "id": "26194d20",
   "metadata": {},
   "outputs": [],
   "source": [
    "\n",
    "def build_graph():\n",
    "    \n",
    "    @tf.function(experimental_relax_shapes=True)\n",
    "    def train_step(gru, optimizer, x,y, training=True):\n",
    "\n",
    "        with tf.GradientTape(persistent=True) as tape:\n",
    "\n",
    "            μ = gru(x, training) \n",
    "            xent = nll(y, μ)\n",
    "        \n",
    "        gradients = tape.gradient(xent, gru.trainable_variables)\n",
    "        optimizer.apply_gradients(zip(gradients, gru.trainable_variables))\n",
    "        return μ, xent\n",
    "\n",
    "    tf.keras.backend.set_floatx('float32')\n",
    "    return train_step"
   ]
  },
  {
   "cell_type": "code",
   "execution_count": 28,
   "id": "9717ee51",
   "metadata": {},
   "outputs": [],
   "source": [
    "import numpy as np "
   ]
  },
  {
   "cell_type": "code",
   "execution_count": 29,
   "id": "a6e3c11c",
   "metadata": {},
   "outputs": [],
   "source": [
    "y = np.random.choice([0, 1], size = 32) "
   ]
  },
  {
   "cell_type": "code",
   "execution_count": 30,
   "id": "c35665f4",
   "metadata": {},
   "outputs": [],
   "source": [
    "array = np.random.normal(size = (32, 20, 1))"
   ]
  },
  {
   "cell_type": "code",
   "execution_count": 31,
   "id": "e44d1811",
   "metadata": {},
   "outputs": [
    {
     "data": {
      "text/plain": [
       "(32, 20, 1)"
      ]
     },
     "execution_count": 31,
     "metadata": {},
     "output_type": "execute_result"
    }
   ],
   "source": [
    "array.shape # batch_size X seq_len (timestamps in time-series) X features"
   ]
  },
  {
   "cell_type": "code",
   "execution_count": 32,
   "id": "94265c50",
   "metadata": {},
   "outputs": [],
   "source": [
    "g_model = gru_model([32], 1) #term in [] is size of hidden layers"
   ]
  },
  {
   "cell_type": "code",
   "execution_count": 33,
   "id": "bee77090",
   "metadata": {
    "collapsed": true,
    "jupyter": {
     "outputs_hidden": true
    }
   },
   "outputs": [
    {
     "name": "stdout",
     "output_type": "stream",
     "text": [
      "input dim (32, 20, 1)\n"
     ]
    },
    {
     "data": {
      "text/plain": [
       "<tf.Tensor: shape=(32, 1), dtype=float32, numpy=\n",
       "array([[0.50750875],\n",
       "       [0.50618815],\n",
       "       [0.5028637 ],\n",
       "       [0.5173028 ],\n",
       "       [0.5000554 ],\n",
       "       [0.5002938 ],\n",
       "       [0.50272197],\n",
       "       [0.51302785],\n",
       "       [0.50136375],\n",
       "       [0.4988638 ],\n",
       "       [0.49182937],\n",
       "       [0.51158327],\n",
       "       [0.5231224 ],\n",
       "       [0.5096445 ],\n",
       "       [0.5024818 ],\n",
       "       [0.503356  ],\n",
       "       [0.49717882],\n",
       "       [0.5076286 ],\n",
       "       [0.50474733],\n",
       "       [0.5098654 ],\n",
       "       [0.49854904],\n",
       "       [0.50177366],\n",
       "       [0.49526474],\n",
       "       [0.5010304 ],\n",
       "       [0.5098653 ],\n",
       "       [0.5176404 ],\n",
       "       [0.50219506],\n",
       "       [0.5025526 ],\n",
       "       [0.4970097 ],\n",
       "       [0.493574  ],\n",
       "       [0.50689775],\n",
       "       [0.50466263]], dtype=float32)>"
      ]
     },
     "execution_count": 33,
     "metadata": {},
     "output_type": "execute_result"
    }
   ],
   "source": [
    "g_model(array)\n",
    "# output shape batch_size X 1 \n",
    "# outptut is a probability between 0 to 1 \n",
    "# interpretation is how likely each sequence to be a coral/not coral  "
   ]
  },
  {
   "cell_type": "code",
   "execution_count": 34,
   "id": "171eecc8",
   "metadata": {},
   "outputs": [
    {
     "name": "stdout",
     "output_type": "stream",
     "text": [
      "input dim (32, 20, 1)\n"
     ]
    },
    {
     "data": {
      "text/plain": [
       "<tf.Tensor: shape=(), dtype=float32, numpy=0.69328344>"
      ]
     },
     "execution_count": 34,
     "metadata": {},
     "output_type": "execute_result"
    }
   ],
   "source": [
    "nll(y, g_model(array))"
   ]
  },
  {
   "cell_type": "code",
   "execution_count": 35,
   "id": "e9505ff7",
   "metadata": {},
   "outputs": [],
   "source": [
    "optimizer = tf.keras.optimizers.Adam(3e-4)"
   ]
  },
  {
   "cell_type": "code",
   "execution_count": 36,
   "id": "a225e6c4",
   "metadata": {},
   "outputs": [],
   "source": [
    "import tensorflow as tf"
   ]
  },
  {
   "cell_type": "code",
   "execution_count": 37,
   "id": "6d1b2a44",
   "metadata": {},
   "outputs": [],
   "source": []
  },
  {
   "cell_type": "code",
   "execution_count": 40,
   "id": "2ebc3b40",
   "metadata": {},
   "outputs": [
    {
     "name": "stdout",
     "output_type": "stream",
     "text": [
      "input dim (32, 20, 1)\n",
      "input dim (32, 20, 1)\n"
     ]
    },
    {
     "name": "stderr",
     "output_type": "stream",
     "text": [
      "2023-05-05 18:15:34.210029: I tensorflow/core/grappler/optimizers/custom_graph_optimizer_registry.cc:113] Plugin optimizer for device_type GPU is enabled.\n"
     ]
    }
   ],
   "source": [
    "with tf.device(\"/CPU:0\"):\n",
    "    num_epochs = 1\n",
    "    num_batches = 100\n",
    "    tr_step = build_graph()\n",
    "    for epoch in range(num_epochs):\n",
    "        for batch in range(num_batches):\n",
    "            array = np.random.normal(size = (32, 20, 1))# fake data\n",
    "            y = np.random.choice([0, 1], size = 32)  # fake             \n",
    "            ### array, y  = batcher_fun(data, training = True) shapes: (batch_s, seq_l, features), (batch_s, 1)\n",
    "            y_pred, xent = tr_step(g_model, optimizer, array, y, training=True)\n",
    "            \n",
    "         ## validation set \n",
    "         ## test_set "
   ]
  },
  {
   "cell_type": "code",
   "execution_count": null,
   "id": "629a7f1b",
   "metadata": {},
   "outputs": [],
   "source": []
  }
 ],
 "metadata": {
  "kernelspec": {
   "display_name": "Python 3 (ipykernel)",
   "language": "python",
   "name": "python3"
  },
  "language_info": {
   "codemirror_mode": {
    "name": "ipython",
    "version": 3
   },
   "file_extension": ".py",
   "mimetype": "text/x-python",
   "name": "python",
   "nbconvert_exporter": "python",
   "pygments_lexer": "ipython3",
   "version": "3.8.13"
  }
 },
 "nbformat": 4,
 "nbformat_minor": 5
}
