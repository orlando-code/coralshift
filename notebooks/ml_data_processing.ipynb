{
 "cells": [
  {
   "cell_type": "code",
   "execution_count": 1,
   "metadata": {},
   "outputs": [],
   "source": [
    "%load_ext autoreload\n",
    "%autoreload 2\n",
    "\n",
    "import sys\n",
    "import os\n",
    "sys.path.append(\"../\")"
   ]
  },
  {
   "cell_type": "code",
   "execution_count": 2,
   "metadata": {},
   "outputs": [],
   "source": [
    "# choose whether to work on a remote machine\n",
    "location = \"remote\"\n",
    "if location == \"remote\":\n",
    "    # change this line to the where the GitHub repository is located\n",
    "    os.chdir(\"/lustre_scratch/orlando-code/coralshift/\")"
   ]
  },
  {
   "cell_type": "code",
   "execution_count": 3,
   "metadata": {},
   "outputs": [
    {
     "name": "stderr",
     "output_type": "stream",
     "text": [
      "2023-07-11 11:15:21.636263: I tensorflow/core/platform/cpu_feature_guard.cc:193] This TensorFlow binary is optimized with oneAPI Deep Neural Network Library (oneDNN) to use the following CPU instructions in performance-critical operations:  SSE4.1 SSE4.2 AVX AVX2 FMA\n",
      "To enable them in other operations, rebuild TensorFlow with the appropriate compiler flags.\n",
      "ERROR 1: PROJ: proj_create_from_database: Open of /home/jovyan/lustre_scratch/conda-envs/coralshift/share/proj failed\n"
     ]
    }
   ],
   "source": [
    "# import relevant packages\n",
    "\n",
    "from __future__ import annotations\n",
    "import pickle\n",
    "from pathlib import Path\n",
    "import xarray as xa\n",
    "import numpy as np\n",
    "# import math as m\n",
    "# import pandas as pd\n",
    "import tensorflow as tf\n",
    "import matplotlib.pyplot as plt\n",
    "import matplotlib.patches as patches\n",
    "import matplotlib.gridspec as gridspec\n",
    "import cartopy.crs as ccrs\n",
    "\n",
    "import wandb\n",
    "from tqdm import tqdm\n",
    "from sklearn import model_selection\n",
    "from sklearn.preprocessing import normalize\n",
    "from scipy.interpolate import interp2d\n",
    "from sklearn.utils import class_weight\n",
    "from scipy.ndimage import gaussian_gradient_magnitude\n",
    "import xbatcher\n",
    "import pandas as pd\n",
    "\n",
    "import rasterio\n",
    "# from rasterio.plot import show\n",
    "import rioxarray as rio\n",
    "\n",
    "import sklearn.metrics as sklmetrics\n",
    "\n",
    "from coralshift.utils import file_ops, directories, utils\n",
    "from coralshift.processing import spatial_data\n",
    "from coralshift.plotting import spatial_plots, model_results\n",
    "from coralshift.dataloading import data_structure, climate_data, bathymetry, reef_extent\n",
    "from coralshift.machine_learning import baselines"
   ]
  },
  {
   "cell_type": "code",
   "execution_count": 4,
   "metadata": {},
   "outputs": [
    {
     "name": "stdout",
     "output_type": "stream",
     "text": [
      "{'warm_start': False, 'verbose': 2, 'tol': 0.001, 'solver': 'saga', 'penalty': 'l1', 'multi_class': 'multinomial', 'max_iter': 100, 'intercept_scaling': 2.0, 'fit_intercept': False, 'dual': False, 'C': 10.0}\n",
      "{'n_estimators': 2000, 'min_samples_split': 10, 'min_samples_leaf': 1, 'max_depth': 10, 'bootstrap': True}\n",
      "{'subsample': 0.6, 'n_estimators': 733, 'min_samples_split': 10, 'min_samples_leaf': 2, 'max_features': 'sqrt', 'max_depth': 7, 'loss': 'huber', 'learning_rate': 0.1, 'criterion': 'friedman_mse'}\n",
      "{'n_estimators': 200, 'min_samples_split': 2, 'min_samples_leaf': 1, 'max_depth': 80, 'bootstrap': True}\n"
     ]
    }
   ],
   "source": [
    "# # best models\n",
    "maxent = baselines.load_model(\"pixelwise_all_data/maxent_0-0370d_tuned.pickle\")\n",
    "rf_reg = baselines.load_model(\"pixelwise_all_data/rf_reg_0-0370d_tuned.pickle\")\n",
    "brt = baselines.load_model(\"pixelwise_all_data/brt_0-0370d_tuned.pickle\")\n",
    "rf_cla = baselines.load_model(\"pixelwise_all_data/rf_cla_0-0370d_tuned.pickle\")\n",
    "\n",
    "# 30 iter spatials, trained on above -18\n",
    "# maxent = baselines.load_model(\"spatial_cv_30/maxent_0-0370d_tuned.pickle\")\n",
    "# rf_reg = baselines.load_model(\"spatial_cv_30/rf_reg_0-0370d_tuned.pickle\")\n",
    "# brt = baselines.load_model(\"spatial_cv_30/brt_0-0370d_tuned.pickle\")\n",
    "# rf_cla = baselines.load_model(\"spatial_cv_30/rf_cla_0-0370d_tuned.pickle\")\n",
    "\n",
    "# 60 iter spatials, trainied on above -18\n",
    "# rf_reg60= baselines.load_model(\"spatial_cv_60/rf_reg_0-0370d_tuned.pickle\")\n",
    "# brt60 = baselines.load_model(\"spatial_cv_60/brt_0-0370d_tuned.pickle\")\n",
    "\n",
    "# grid search models\n",
    "# rf_reg = baselines.load_model(\"spatial_gs/rf_reg_0-0370d_tuned.pickle\")\n",
    "# brt = baselines.load_model(\"spatial_gs/brt_0-0370d_tuned.pickle\")\n",
    "\n",
    "# 0.25 models\n",
    "# maxent = baselines.load_model(\"maxent_0-2500d_tuned.pickle\")\n",
    "# rf_reg = baselines.load_model(\"rf_reg_0-2500d_tuned.pickle\")\n",
    "# brt = baselines.load_model(\"brt_0-2500d_tuned.pickle\")\n",
    "# rf_cla = baselines.load_model(\"rf_cla_0-2500d_tuned.pickle\")"
   ]
  },
  {
   "cell_type": "code",
   "execution_count": null,
   "metadata": {},
   "outputs": [],
   "source": [
    "brt.best_params_"
   ]
  },
  {
   "cell_type": "code",
   "execution_count": null,
   "metadata": {},
   "outputs": [],
   "source": [
    "from sklearn.model_selection import ParameterGrid, GridSearchCV\n",
    "from sklearn.ensemble import (\n",
    "    RandomForestRegressor,\n",
    "    RandomForestClassifier,\n",
    "    GradientBoostingRegressor,\n",
    ")\n",
    "\n",
    "\n",
    "\n",
    "grid_search = initialise_grid_search(\"brt\", brt.best_params_, cv=2)\n",
    "\n",
    "all_data = baselines.get_comparison_xa_ds(d_resolution=1/27)\n",
    "all_data = spatial_data.combine_ds_tiles(all_data, 1/27)\n",
    "train_test_lat_divide = -18\n",
    "train_direction = \"S\"\n",
    "# res_string = utils.replace_dot_with_dash(f\"{1/27:.04f}d\")\n",
    "\n",
    "# define train/test split so it's the same for all models\n",
    "(X_trains, X_tests, y_trains, y_tests, _, _) = baselines.spatial_split_train_test(\n",
    "    xa_dss = all_data,\n",
    "    gt_label = \"gt\",\n",
    "    split_type=\"spatial\",\n",
    "    # test_fraction=test_fraction,\n",
    "    train_test_lat_divide=train_test_lat_divide,\n",
    "    train_direction = train_direction\n",
    ")\n",
    "\n"
   ]
  },
  {
   "cell_type": "code",
   "execution_count": null,
   "metadata": {},
   "outputs": [],
   "source": [
    "get_multiindex_min_max(all_data.to_dataframe())"
   ]
  },
  {
   "cell_type": "code",
   "execution_count": null,
   "metadata": {},
   "outputs": [],
   "source": []
  },
  {
   "cell_type": "code",
   "execution_count": null,
   "metadata": {},
   "outputs": [],
   "source": []
  },
  {
   "cell_type": "code",
   "execution_count": null,
   "metadata": {},
   "outputs": [],
   "source": [
    "grid_search"
   ]
  },
  {
   "cell_type": "code",
   "execution_count": null,
   "metadata": {},
   "outputs": [],
   "source": [
    "3**4"
   ]
  },
  {
   "cell_type": "code",
   "execution_count": null,
   "metadata": {},
   "outputs": [],
   "source": [
    "len(list(grid))"
   ]
  },
  {
   "cell_type": "code",
   "execution_count": null,
   "metadata": {},
   "outputs": [],
   "source": [
    "len(remove_duplicates(grid))"
   ]
  },
  {
   "cell_type": "code",
   "execution_count": null,
   "metadata": {},
   "outputs": [],
   "source": [
    "\n",
    "rf_reg_no = RandomForestRegressor(n_estimators=1000, random_state=42, max_depth=10, min_samples_leaf=10, max_features=6)\n",
    "\n",
    "X_train, X_test, y_train, y_test, _, _ = baselines.spatial_split_train_test(\n",
    "    xa_dss = all_data, \n",
    "    split_type=\"spatial\",\n",
    "    train_test_lat_divide = -18,\n",
    "    train_direction = \"S\",\n",
    "    bath_mask=True\n",
    ")\n",
    "\n"
   ]
  },
  {
   "cell_type": "code",
   "execution_count": null,
   "metadata": {},
   "outputs": [],
   "source": [
    "def visualise_region_class_imbalance(region_imbalance_dict: dict):\n",
    "    df = pd.DataFrame.from_dict(\n",
    "        region_imbalance_dict,\n",
    "        orient=\"index\",\n",
    "        columns=[\"Total Grid Cells\", \"Fractional Coral Presence\"],\n",
    "    )\n",
    "    df = df.reset_index().rename(columns={\"index\": \"Region\"})\n",
    "\n",
    "    xs, y1s, y2s = df.columns[0], df.columns[1], df.columns[2]\n",
    "\n",
    "    colors = [\"#78B7C5\", \"#E1AF00\"]\n",
    "    plt.figure(figsize=(10, 6))\n",
    "\n",
    "    ax = sns.barplot(\n",
    "        x=xs, y=y1s, data=df, color=colors[0], label=\"total grid cells containing coral\"\n",
    "    )\n",
    "    ax2 = ax.twinx()\n",
    "    sns.barplot(\n",
    "        x=xs,\n",
    "        y=y2s,\n",
    "        data=df,\n",
    "        color=colors[1],\n",
    "        label=\"fraction of grid cells containing coral\",\n",
    "    )\n",
    "\n",
    "    # format bar widths\n",
    "    width_scale = 0.45\n",
    "    for bar in ax.containers[0]:\n",
    "        bar.set_width(bar.get_width() * width_scale)\n",
    "    for bar in ax2.containers[0]:\n",
    "        x = bar.get_x()\n",
    "        w = bar.get_width()\n",
    "        bar.set_x(x + w * (1 - width_scale))\n",
    "        bar.set_width(w * width_scale)\n",
    "\n",
    "    # format legend\n",
    "    (h1, l1), (h2, l2) = ax.get_legend_handles_labels(), ax2.get_legend_handles_labels()\n",
    "    ax.legend(h1, l1, loc=\"upper left\")\n",
    "    ax2.legend(h2, l2, loc=\"upper right\")\n",
    "\n",
    "    # formatting\n",
    "    ax.set_xlabel(\"GBR Region\")\n",
    "    ax.set_ylabel(\"Total Grid Cells\")\n",
    "    ax2.set_ylabel(\"Coral Presence\")\n",
    "    ax2.yaxis.set_major_formatter(PercentFormatter(1))\n",
    "    ax.set_ylim((0, 4500))\n",
    "    ax2.set_ylim((0, 0.2))"
   ]
  },
  {
   "cell_type": "code",
   "execution_count": 5,
   "metadata": {},
   "outputs": [
    {
     "name": "stderr",
     "output_type": "stream",
     "text": [
      "Pre-processing xarray objects: 4it [00:01,  3.45it/s]                       \n",
      " Combining data: 100%|██████████| 3/3 [00:00<00:00, 38.99it/s]\n",
      "Inference on 10 train-test splits:   0%|          | 0/10 [00:00<?, ?it/s][Parallel(n_jobs=1)]: Using backend SequentialBackend with 1 concurrent workers.\n",
      "[Parallel(n_jobs=1)]: Done 200 out of 200 | elapsed:    0.4s finished\n",
      "Inference on 10 train-test splits:  10%|█         | 1/10 [00:01<00:14,  1.63s/it][Parallel(n_jobs=1)]: Using backend SequentialBackend with 1 concurrent workers.\n",
      "[Parallel(n_jobs=1)]: Done 200 out of 200 | elapsed:    0.4s finished\n",
      "Inference on 10 train-test splits:  20%|██        | 2/10 [00:02<00:09,  1.18s/it][Parallel(n_jobs=1)]: Using backend SequentialBackend with 1 concurrent workers.\n",
      "[Parallel(n_jobs=1)]: Done 200 out of 200 | elapsed:    0.4s finished\n",
      "Inference on 10 train-test splits:  30%|███       | 3/10 [00:03<00:07,  1.13s/it][Parallel(n_jobs=1)]: Using backend SequentialBackend with 1 concurrent workers.\n",
      "[Parallel(n_jobs=1)]: Done 200 out of 200 | elapsed:    0.4s finished\n",
      "Inference on 10 train-test splits:  40%|████      | 4/10 [00:04<00:06,  1.11s/it][Parallel(n_jobs=1)]: Using backend SequentialBackend with 1 concurrent workers.\n",
      "[Parallel(n_jobs=1)]: Done 200 out of 200 | elapsed:    0.4s finished\n",
      "Inference on 10 train-test splits:  50%|█████     | 5/10 [00:05<00:05,  1.10s/it][Parallel(n_jobs=1)]: Using backend SequentialBackend with 1 concurrent workers.\n",
      "[Parallel(n_jobs=1)]: Done 200 out of 200 | elapsed:    0.4s finished\n",
      "Inference on 10 train-test splits:  60%|██████    | 6/10 [00:06<00:04,  1.02s/it][Parallel(n_jobs=1)]: Using backend SequentialBackend with 1 concurrent workers.\n",
      "[Parallel(n_jobs=1)]: Done 200 out of 200 | elapsed:    0.4s finished\n",
      "Inference on 10 train-test splits:  70%|███████   | 7/10 [00:07<00:03,  1.06s/it][Parallel(n_jobs=1)]: Using backend SequentialBackend with 1 concurrent workers.\n",
      "[Parallel(n_jobs=1)]: Done 200 out of 200 | elapsed:    0.4s finished\n",
      "Inference on 10 train-test splits:  80%|████████  | 8/10 [00:08<00:02,  1.07s/it][Parallel(n_jobs=1)]: Using backend SequentialBackend with 1 concurrent workers.\n",
      "[Parallel(n_jobs=1)]: Done 200 out of 200 | elapsed:    0.4s finished\n",
      "Inference on 10 train-test splits:  90%|█████████ | 9/10 [00:09<00:01,  1.08s/it][Parallel(n_jobs=1)]: Using backend SequentialBackend with 1 concurrent workers.\n",
      "[Parallel(n_jobs=1)]: Done 200 out of 200 | elapsed:    0.4s finished\n",
      "Inference on 10 train-test splits: 100%|██████████| 10/10 [00:10<00:00,  1.08s/it]\n",
      "Inference on 10 train-test splits: 100%|██████████| 10/10 [00:08<00:00,  1.16it/s]\n"
     ]
    }
   ],
   "source": [
    "\n",
    "\n",
    "all_ds_to_combine = baselines.get_comparison_xa_ds(d_resolution=1/27)\n",
    "all_data = spatial_data.combine_ds_tiles(all_ds_to_combine, resolution_d=1/27)\n",
    "\n",
    "models_output_dict = baselines.n_random_runs_preds_across_models(\n",
    "    # model_types=[\"maxent\", \"rf_reg\", \"brt\", \"rf_cla\"],\n",
    "    # models=[maxent, rf_reg, brt, rf_cla], \n",
    "    # model_types = [\"rf_reg\", \"brt\"],\n",
    "    # models = [rf_reg, brt],\n",
    "    model_types=[\"rf_cla\", \"maxent\"],\n",
    "    models = [rf_cla, maxent],\n",
    "    xa_dss = all_data, \n",
    "    runs_n=10,\n",
    "    split_type=\"spatial\",\n",
    "    train_test_lat_divide=-18,\n",
    "    train_direction=\"N\")\n",
    "\n",
    "# rocs_n_runs(models_output_dict[\"brt\"], binarize_threshold=0.2)"
   ]
  },
  {
   "cell_type": "code",
   "execution_count": 8,
   "metadata": {},
   "outputs": [
    {
     "name": "stderr",
     "output_type": "stream",
     "text": [
      "Iterating over models: 100%|██████████| 1/1 [00:00<00:00, 37.01it/s]\n"
     ]
    },
    {
     "data": {
      "image/png": "[encoded data removed]",
      "text/plain": [
       "<Figure size 700x700 with 1 Axes>"
      ]
     },
     "metadata": {},
     "output_type": "display_data"
    }
   ],
   "source": [
    "me_dict = {\"maxent\": models_output_dict[\"maxent\"]}\n",
    "baselines.models_rocs_n_runs(me_dict, binarize_threshold=0.25)"
   ]
  },
  {
   "cell_type": "code",
   "execution_count": 9,
   "metadata": {},
   "outputs": [
    {
     "name": "stderr",
     "output_type": "stream",
     "text": [
      "Iterating over models: 100%|██████████| 1/1 [00:00<00:00, 37.58it/s]\n"
     ]
    },
    {
     "data": {
      "image/png": "[encoded data removed]",
      "text/plain": [
       "<Figure size 700x700 with 1 Axes>"
      ]
     },
     "metadata": {},
     "output_type": "display_data"
    }
   ],
   "source": [
    "rf_cla_dict = {\"rf_cla\": models_output_dict[\"rf_cla\"]}\n",
    "baselines.models_rocs_n_runs(rf_cla_dict, binarize_threshold=0.25)"
   ]
  },
  {
   "cell_type": "code",
   "execution_count": 6,
   "metadata": {},
   "outputs": [
    {
     "name": "stderr",
     "output_type": "stream",
     "text": [
      "Iterating over models: 100%|██████████| 2/2 [00:00<00:00, 40.86it/s]\n"
     ]
    },
    {
     "data": {
      "image/png": "[encoded data removed]",
      "text/plain": [
       "<Figure size 700x700 with 1 Axes>"
      ]
     },
     "metadata": {},
     "output_type": "display_data"
    }
   ],
   "source": [
    "baselines.models_rocs_n_runs(models_output_dict, binarize_threshold=0.25)"
   ]
  },
  {
   "cell_type": "code",
   "execution_count": 19,
   "metadata": {},
   "outputs": [
    {
     "data": {
      "image/png": "[encoded data removed]",
      "text/plain": [
       "<Figure size 640x480 with 1 Axes>"
      ]
     },
     "metadata": {},
     "output_type": "display_data"
    }
   ],
   "source": [
    "import matplotlib.pyplot as plt\n",
    "\n",
    "plt.rcParams.update({\n",
    "    \"lines.color\": \"white\",\n",
    "    \"patch.edgecolor\": \"white\",\n",
    "    \"text.color\": \"#212121\",\n",
    "    \"axes.facecolor\": \"#212121\",\n",
    "    \"axes.edgecolor\": \"lightgray\",\n",
    "    \"axes.labelcolor\": \"#212121\",\n",
    "    \"xtick.color\": \"white\",\n",
    "    \"ytick.color\": \"white\",\n",
    "    \"grid.color\": \"lightgrey\",\n",
    "    \"figure.facecolor\": \"#212121\",\n",
    "    \"figure.edgecolor\": \"#212121\",\n",
    "    \"savefig.facecolor\": \"#212121\",\n",
    "    \"savefig.edgecolor\": \"#212121\"})\n",
    "\n",
    "values = {\n",
    "        \"Random Forest classifier\": 0.90,\n",
    "    \"Maximum Entropy\": 0.82,\n",
    "}\n",
    "\n",
    "# Extract labels and heights from the dictionary\n",
    "labels = list(values.keys())\n",
    "heights = list(values.values())\n",
    "\n",
    "colors = [\"#3B9AB2\", \"#d83c04\"]\n",
    "# Create a figure and axis\n",
    "fig, ax = plt.subplots()\n",
    "\n",
    "# Create the bar chart\n",
    "ax.bar(labels, heights, color=colors)\n",
    "\n",
    "# Set the title and labels\n",
    "# ax.set_title(\"Bar Chart\")\n",
    "ax.set_xlabel(\"Models\")\n",
    "ax.set_ylabel(\"Values\")\n",
    "ax.set_ylim([0.75,1])\n",
    "ax.grid()\n",
    "\n",
    "# Display the chart\n",
    "plt.show()\n"
   ]
  },
  {
   "cell_type": "code",
   "execution_count": null,
   "metadata": {},
   "outputs": [],
   "source": [
    "models_rocs_n_runs(models_output_dict, binarize_threshold=0.25)"
   ]
  },
  {
   "cell_type": "code",
   "execution_count": null,
   "metadata": {},
   "outputs": [],
   "source": [
    "model_type=\"brt\"\n",
    "ds = outputs_to_xa_ds(models_output_dict[model_type][0][0],(models_output_dict[model_type][0][1]))\n",
    "plot_spatial_diffs(ds[\"predictions\"], ds[\"labels\"], figsize=(16,14), cbar_pad =0.11)"
   ]
  },
  {
   "cell_type": "code",
   "execution_count": null,
   "metadata": {},
   "outputs": [],
   "source": [
    "# def plot_confusion_matrix(labels, predictions, label_threshold: float = 0, fax=None) -> None:\n",
    "#     cmap = spatial_plots.get_cbar(\"lim\")\n",
    "\n",
    "#     if not check_discrete(predictions):\n",
    "#         labels = baselines.threshold_array(labels, threshold=label_threshold)\n",
    "#         predictions = baselines.threshold_array(predictions, threshold=label_threshold)\n",
    "\n",
    "#     classes = [\"coral absent\", \"coral present\"]\n",
    "#     # initialise confusion matrix\n",
    "#     cm = sklmetrics.confusion_matrix(labels, predictions)\n",
    "#     disp = sklmetrics.ConfusionMatrixDisplay(confusion_matrix=cm, \n",
    "#         display_labels=classes\n",
    "#         )\n",
    "#     if fax:\n",
    "#         disp.plot(cmap=cmap, text_kw={\"color\": \"black\"}, ax=fax[1])\n",
    "#     else:\n",
    "#         disp.plot(cmap=cmap, text_kw={\"color\": \"black\"})\n",
    "\n",
    "model_type=\"rf_reg\"\n",
    "plot_confusion_matrix(models_output_dict[model_type][0][0],models_output_dict[model_type][0][1], label_threshold=0.25)"
   ]
  },
  {
   "cell_type": "code",
   "execution_count": null,
   "metadata": {},
   "outputs": [],
   "source": [
    "model_type=\"rf_reg\"\n",
    "baselines.investigate_label_thresholds(np.linspace(0,0.9999,10), models_output_dict[model_type][0][0],models_output_dict[model_type][0][1])"
   ]
  },
  {
   "cell_type": "code",
   "execution_count": 11,
   "metadata": {},
   "outputs": [
    {
     "data": {
      "image/png": "[encoded data removed]",
      "text/plain": [
       "<Figure size 1500x1000 with 4 Axes>"
      ]
     },
     "metadata": {},
     "output_type": "display_data"
    }
   ],
   "source": [
    "def plot_model_result(all_data, labels, predictions, model_type: str =\" \", figsize = [15,10]):\n",
    "\n",
    "    fig = plt.figure(figsize=figsize)\n",
    "    gs = gridspec.GridSpec(2, 2)\n",
    "\n",
    "    # left plot (total map)\n",
    "    ax_context = fig.add_subplot(gs[:, 0], projection=ccrs.PlateCarree())\n",
    "    spatial_plots.plot_spatial(fax=(fig, ax_context), xa_da=all_data[\"gt\"], cbar=False)\n",
    "\n",
    "    # determine the test coords\n",
    "    limits_dict = utils.get_multiindex_min_max(labels)\n",
    "    lat_min, lat_max = limits_dict[\"latitude\"][\"min\"], limits_dict[\"latitude\"][\"max\"]\n",
    "    lon_min, lon_max = limits_dict[\"longitude\"][\"min\"], limits_dict[\"longitude\"][\"max\"]\n",
    "    rectangle = patches.Rectangle(\n",
    "        (lon_min, lat_min), lon_max - lon_min, lat_max - lat_min, linewidth=3, edgecolor='k', facecolor='none', zorder=10)\n",
    "    ax_context.add_patch(rectangle)\n",
    "    \n",
    "    legend_patches = [patches.Patch(facecolor='none', edgecolor='k', label='Test area')]\n",
    "    ax_context.legend(handles=legend_patches)\n",
    "\n",
    "     \n",
    "    # right plots (spatial cm, cm)\n",
    "    ax_spatial_cm = fig.add_subplot(gs[0, 1], projection=ccrs.PlateCarree())\n",
    "    model_results.model_output_to_spatial_confusion(labels, predictions, fax=(fig, ax_spatial_cm), cbar_pad=0.11)\n",
    "    ax_cm = fig.add_subplot(gs[1, 1])\n",
    "    model_results.plot_confusion_matrix(labels, predictions, fax=(fig, ax_cm))\n",
    "\n",
    "\n",
    "model_type = \"rf_cla\"\n",
    "plot_model_result(\n",
    "    all_data, models_output_dict[model_type][0][0], models_output_dict[model_type][0][1], model_type=model_type)\n"
   ]
  },
  {
   "cell_type": "code",
   "execution_count": null,
   "metadata": {},
   "outputs": [],
   "source": [
    "len(models_output_dict[model_type][0][0])"
   ]
  },
  {
   "cell_type": "code",
   "execution_count": null,
   "metadata": {},
   "outputs": [],
   "source": [
    "np.where(models_output_dict[model_type][0][0].to_numpy() > 0)"
   ]
  },
  {
   "cell_type": "code",
   "execution_count": null,
   "metadata": {},
   "outputs": [],
   "source": [
    "(models_output_dict[model_type][0][0] > 0).sum()/len(models_output_dict[model_type][0][0])"
   ]
  },
  {
   "cell_type": "code",
   "execution_count": null,
   "metadata": {},
   "outputs": [],
   "source": [
    "sum(sum(np.where(models_output_dict[model_type][0][0] > 0)))"
   ]
  },
  {
   "cell_type": "code",
   "execution_count": null,
   "metadata": {},
   "outputs": [],
   "source": [
    "# def model_output_to_spatial_confusion(label, prediction, lat_lims: tuple[float]=None, lon_lims: tuple[float]=None, fax=None, cbar_pad=0.1) -> None:    \n",
    "#     ds = outputs_to_xa_ds(label, prediction)\n",
    "#     confusion_values, vals_dict = model_results.spatial_confusion_matrix_da(\n",
    "#         ds[\"predictions\"], ds[\"labels\"]\n",
    "#     )\n",
    "#     if lat_lims and lon_lims:\n",
    "#         region = {\"latitude\": slice(min(lat_lims), max(lat_lims)), \"longitude\": slice(min(lon_lims), max(lon_lims))}\n",
    "#         ds = confusion_values.sel(region)\n",
    "#     ds[\"comparison\"] = confusion_values\n",
    "\n",
    "#     plot_spatial_confusion(ds, \"labels\", \"predictions\", vals_dict=vals_dict, fax=fax, cbar_pad=cbar_pad)\n",
    "\n",
    "\n",
    "# def plot_pixelwise_model_result(all_data, labels, predictions, model_type: str =\" \", figsize = [20,20], thresh_val = -0.25,\n",
    "#     lat_lims=None, lon_lims=None):\n",
    "#     fig = plt.figure(figsize=figsize)\n",
    "#     gs = gridspec.GridSpec(2, 2)\n",
    "\n",
    "#     # left plot (total map)\n",
    "#     # ax_context = fig.add_subplot(gs[:, 0], projection=ccrs.PlateCarree())\n",
    "#     # spatial_plots.plot_spatial(fax=(fig, ax_context), xa_da=all_data[\"gt\"], cbar=False)\n",
    "#     if model_type == \"brt\" or model_type == \"rf_reg\":\n",
    "#         predictions = baselines.threshold_array(predictions, thresh_val)\n",
    "\n",
    "#     # right plots (spatial cm, cm)\n",
    "#     ax_spatial_cm = fig.add_subplot(gs[0,0], projection=ccrs.PlateCarree())\n",
    "#     model_output_to_spatial_confusion(\n",
    "#         labels, predictions, lat_lims=lat_lims, lon_lims=lon_lims, fax=(fig, ax_spatial_cm), cbar_pad=0.11)\n",
    "#     # ax_cm = fig.add_subplot(gs[1,0])\n",
    "#     # plot_confusion_matrix(labels, predictions, fax=(fig, ax_cm), colorbar=False)\n",
    "\n",
    "\n",
    "\n",
    "\n",
    "    # fig, ax = plt.subplots(1,2,figsize=figsize, subplot_kw={\"projection\": ccrs.PlateCarree()})\n",
    "    # plot_confusion_matrix(labels, predictions, fax=(fig, ax[1]))\n",
    "    # model_output_to_spatial_confusion(labels, predictions, fax=(fig, ax[0]), cbar_pad=0.11)\n",
    "\n",
    "\n",
    "model_type = \"brt\"\n",
    "\n",
    "plot_pixelwise_model_result(\n",
    "    all_data, models_output_dict[model_type][0][0], models_output_dict[model_type][0][1], model_type=model_type, thresh_val = 0.25,\n",
    "    # lat_lims=(-17,-10), lon_lims=(142,147)\n",
    "    # lat_lims=(-17,-10), lon_lims=(146,148)\n",
    "    # lat_lims=(-25,-20), lon_lims=(145,154)\n",
    "\n",
    "    )"
   ]
  },
  {
   "cell_type": "code",
   "execution_count": null,
   "metadata": {},
   "outputs": [],
   "source": [
    "plot_confusion_matrix(models_output_dict[model_type][0][0],models_output_dict[model_type][0][1], label_threshold=0.25)"
   ]
  },
  {
   "cell_type": "code",
   "execution_count": null,
   "metadata": {},
   "outputs": [],
   "source": [
    "model_type = \"rf_cla\"\n",
    "sklmetrics.balanced_accuracy_score(models_output_dict[model_type][0][0], models_output_dict[model_type][0][1])"
   ]
  },
  {
   "cell_type": "code",
   "execution_count": null,
   "metadata": {},
   "outputs": [],
   "source": [
    "spatial_plots.plot_spatial(all_data[\"gt\"])"
   ]
  },
  {
   "cell_type": "code",
   "execution_count": null,
   "metadata": {},
   "outputs": [],
   "source": [
    "# new_brt = GradientBoostingRegressor(random_state=42)\n",
    "# new_brt.fit(timeav_X[:100000], timeav_y[:100000])\n",
    "\n",
    "# preds = new_brt.predict(X_test.drop(columns=[\"latitude\", \"longitude\"]).groupby(['latitude', 'longitude']).mean())\n",
    "# y_test = y_test.groupby(['latitude', 'longitude']).mean()\n",
    "# rocs_n_runs([(y_test, preds)])"
   ]
  },
  {
   "cell_type": "code",
   "execution_count": null,
   "metadata": {},
   "outputs": [],
   "source": [
    "rf_cla_outcomes = models_output_dict[\"rf_cla\"]\n",
    "rf_cla_outcomes[0][0]"
   ]
  },
  {
   "cell_type": "code",
   "execution_count": null,
   "metadata": {},
   "outputs": [],
   "source": [
    "# def check_discrete(array):\n",
    "#     # Check if all elements are whole numbers (integers)\n",
    "#     if np.all(np.equal(np.mod(array, 1), 0)):\n",
    "#         return True\n",
    "#     # Check if any elements are decimals (floating-point numbers)\n",
    "#     elif np.any(np.not_equal(np.mod(array, 1), 0)):\n",
    "#         return False\n",
    "#     else:\n",
    "#         return False\n",
    "\n",
    "\n",
    "# def plot_confusion_matrix(labels, predictions, label_threshold: float = 0, fax=None, colorbar: bool=False) -> None:\n",
    "#     cmap = spatial_plots.get_cbar(\"lim\")\n",
    "\n",
    "#     if not check_discrete(predictions):\n",
    "#         labels = baselines.threshold_array(predictions, threshold=label_threshold)\n",
    "#         predictions = baselines.threshold_array(predictions, threshold=label_threshold)\n",
    "\n",
    "#     classes = [\"coral absent\", \"coral present\"]\n",
    "#     # initialise confusion matrix\n",
    "#     cm = sklmetrics.confusion_matrix(labels, predictions)\n",
    "#     disp = sklmetrics.ConfusionMatrixDisplay(confusion_matrix=cm, \n",
    "#         display_labels=classes\n",
    "#         )\n",
    "#     if fax:\n",
    "#         disp.plot(cmap=cmap, colorbar = colorbar, text_kw={\"color\": \"black\"}, ax=fax[1])\n",
    "#     else:\n",
    "#         disp.plot(cmap=cmap, colorbar = colorbar, text_kw={\"color\": \"black\"})\n",
    "\n",
    "\n",
    "plot_confusion_matrix(models_output_dict[\"rf_cla\"][0][0],models_output_dict[\"rf_cla\"][0][1])\n",
    "                        "
   ]
  },
  {
   "cell_type": "code",
   "execution_count": null,
   "metadata": {},
   "outputs": [],
   "source": [
    "(baselines.threshold_array(models_output_dict[\"brt\"][0][1], threshold=0))"
   ]
  },
  {
   "cell_type": "code",
   "execution_count": null,
   "metadata": {},
   "outputs": [],
   "source": [
    "check_discrete(models_output_dict[\"rf_reg\"][0][0])"
   ]
  },
  {
   "cell_type": "code",
   "execution_count": null,
   "metadata": {},
   "outputs": [],
   "source": [
    "# import seaborn as sns\n",
    "# import matplotlib.colors as mcolors\n",
    "# import cartopy.feature as cfeature\n",
    "# import cartopy.crs as ccrs\n",
    "\n",
    "# def plot_spatial_confusion(\n",
    "#     xa_ds: xa.Dataset, ground_truth_var: str, predicted_var: str, vals_dict: dict, fax = None, cbar_pad = 0.1\n",
    "# ) -> xa.Dataset:\n",
    "#     \"\"\"Plot a spatial confusion matrix based on the predicted and ground truth variables in the xarray dataset.\n",
    "\n",
    "#     Parameters\n",
    "#     ----------\n",
    "#         xa_ds (xarray.Dataset): Input xarray dataset.\n",
    "#         ground_truth_var (str): Name of the ground truth variable in the dataset.\n",
    "#         predicted_var (str): Name of the predicted variable in the dataset.\n",
    "\n",
    "#     Returns\n",
    "#     -------    -------\n",
    "#         xarray.Dataset: Updated xarray dataset with the \"comparison\" variable added.\n",
    "#     \"\"\"\n",
    "#     # calculate spatial confusion values and assign to new variable in Dataset\n",
    "#     map_proj = ccrs.PlateCarree()\n",
    "#     if not fax:\n",
    "#         # may need to change this\n",
    "#         fig = plt.figure(figsize=[16,8])\n",
    "#         ax = plt.axes(projection=map_proj)\n",
    "#     else:\n",
    "#         fig = fax[0]\n",
    "#         ax = fax[1]\n",
    "        \n",
    "#     # from Wes Anderson: https://github.com/karthik/wesanderson/blob/master/R/colors.R\n",
    "#     cmap_colors = [\"#EEEEEE\", \"#3B9AB2\", \"#78B7C5\", \"#d83c04\", \"#E1AF00\"]\n",
    "\n",
    "#     im = xa_ds[\"comparison\"].plot.imshow(ax=ax, vmin=0, vmax=4, cmap = mcolors.ListedColormap(cmap_colors))\n",
    "\n",
    "#     spatial_plots.format_spatial_plot(im, fig, ax, title=\"\", name=\"\", cbar=False, edgecolor=\"black\")\n",
    "#     ax.set_aspect(\"equal\")\n",
    "#     # remove old colorbar\n",
    "#     cb = im.colorbar\n",
    "#     cb.remove()\n",
    "\n",
    "#     colorbar = plt.colorbar(im, ax = [ax], location = 'right', pad=cbar_pad)\n",
    "#     num_ticks = len(cmap_colors)\n",
    "#     vmin, vmax = colorbar.vmin, colorbar.vmax\n",
    "#     colorbar.set_ticks([vmin + (vmax - vmin) / num_ticks * (0.5 + i) for i in range(num_ticks)])\n",
    "#     colorbar.set_ticklabels(list(vals_dict.keys()), rotation=0)\n",
    "\n",
    "\n",
    "# # plot_spatial_confusion(ds, \"gt\", \"prediction\")"
   ]
  },
  {
   "cell_type": "code",
   "execution_count": null,
   "metadata": {},
   "outputs": [],
   "source": []
  },
  {
   "cell_type": "code",
   "execution_count": null,
   "metadata": {},
   "outputs": [],
   "source": [
    "\n",
    "\n",
    "model_output_to_spatial_confusion(models_output_dict[\"maxent\"][0][0], models_output_dict[\"maxent\"][0][1])"
   ]
  },
  {
   "cell_type": "code",
   "execution_count": null,
   "metadata": {},
   "outputs": [],
   "source": [
    "sum(sum(mask.values))"
   ]
  },
  {
   "cell_type": "code",
   "execution_count": null,
   "metadata": {},
   "outputs": [],
   "source": [
    "mask.compute()"
   ]
  },
  {
   "cell_type": "code",
   "execution_count": null,
   "metadata": {},
   "outputs": [],
   "source": [
    "\n",
    "# def plot_shallow_mask(xa_d: xa.Dataset | xa.DataArray, limits: tuple[float] = [-2000,0], title: str = \" \") -> None:\n",
    "#     # plot shallow water mask\n",
    "#     shallow_mask = spatial_data.generate_var_mask(xa_d)\n",
    "#     spatial_plots.plot_spatial(shallow_mask, cmap_type=\"lim\", title=title, cbar=False)\n",
    "#     return shallow_mask\n",
    "\n",
    "mask = spatial_plots.plot_variable_mask(all_data)\n"
   ]
  },
  {
   "attachments": {},
   "cell_type": "markdown",
   "metadata": {},
   "source": [
    "# Here I take my stand"
   ]
  },
  {
   "cell_type": "code",
   "execution_count": null,
   "metadata": {},
   "outputs": [],
   "source": []
  },
  {
   "cell_type": "code",
   "execution_count": null,
   "metadata": {},
   "outputs": [],
   "source": [
    "all_ds = baselines.get_comparison_xa_ds(d_resolution=1/27)\n",
    "combined = spatial_data.combine_ds_tiles(all_ds, resolution_d=1/27)\n",
    "\n",
    "spatial_plots.plot_spatial(combined[\"gt\"].sel({\"latitude\": slice(-20,-17), \"longitude\": slice(146,148)}))"
   ]
  },
  {
   "cell_type": "code",
   "execution_count": null,
   "metadata": {},
   "outputs": [],
   "source": [
    "all_ds[1][\"gt\"].plot(vmax=0.2)"
   ]
  },
  {
   "cell_type": "code",
   "execution_count": null,
   "metadata": {},
   "outputs": [],
   "source": [
    "spatial_plots.plot_spatial(combined[\"gt\"])"
   ]
  },
  {
   "cell_type": "code",
   "execution_count": null,
   "metadata": {},
   "outputs": [],
   "source": [
    "# get list of region das\n",
    "\n",
    "# \n",
    "\n",
    "# class weighting necessary, as shown by this plot\n",
    "region_dict = dict(zip([da.region for da in das], das))\n",
    "region_imbalance = calculate_region_class_imbalance(region_dict)\n",
    "model_results.visualise_region_class_imbalance(region_imbalance_dict)\n",
    "model_results.visualise_region_class_imbalance(region_imbalance)"
   ]
  },
  {
   "cell_type": "code",
   "execution_count": null,
   "metadata": {},
   "outputs": [],
   "source": [
    "X_trains, X_tests, y_trains, y_tests, train_coords_list, test_coords_list = spatial_split_train_test(dss, data_type=\"discrete\", bath_mask=False)\n",
    "sum(y_tests[0])/len(y_tests[0])"
   ]
  },
  {
   "cell_type": "code",
   "execution_count": null,
   "metadata": {},
   "outputs": [],
   "source": [
    "dss[0][\"current_m_max\"]"
   ]
  },
  {
   "cell_type": "code",
   "execution_count": null,
   "metadata": {},
   "outputs": [],
   "source": [
    "xa_dss_to_df(dss)[0][0]"
   ]
  },
  {
   "cell_type": "code",
   "execution_count": null,
   "metadata": {},
   "outputs": [],
   "source": []
  },
  {
   "cell_type": "code",
   "execution_count": null,
   "metadata": {},
   "outputs": [],
   "source": [
    "confusion_values, vals_dict = model_results.spatial_confusion_matrix_da(\n",
    "    ds[\"prediction\"], ds[\"gt\"]\n",
    ")\n",
    "ds[\"comparison\"] = confusion_values\n",
    "\n",
    "ds[\"comparison\"].isel(time=0).plot.imshow(vmin=0, vmax=4)\n"
   ]
  },
  {
   "cell_type": "code",
   "execution_count": null,
   "metadata": {},
   "outputs": [],
   "source": [
    "sum(ds.isel(time=0)[\"prediction\"]==1)"
   ]
  },
  {
   "cell_type": "code",
   "execution_count": null,
   "metadata": {},
   "outputs": [],
   "source": [
    "df = pd.DataFrame({\"gt\": models_output_dict[\"rf_cla\"][0][0], \"prediction\": models_output_dict[\"rf_cla\"][0][1]})\n",
    "df.head()\n",
    "selected_rows = df.loc[(-16 <= df.index.get_level_values('latitude')) & (df.index.get_level_values('latitude') <= -10) &\n",
    "                       (142 <= df.index.get_level_values('longitude')) & (df.index.get_level_values('longitude') <= 144)]\n",
    "\n",
    "ds = selected_rows.to_xarray().sortby([\"longitude\", \"latitude\"])"
   ]
  },
  {
   "cell_type": "code",
   "execution_count": null,
   "metadata": {},
   "outputs": [],
   "source": [
    "f, ax = plt.subplots(1,2, figsize=(10,7))\n",
    "\n",
    "ds.isel(time=0)[\"gt\"].plot(ax=ax[0])\n",
    "ds.isel(time=0)[\"prediction\"].plot(ax=ax[1])\n",
    "\n",
    "ax[0].set_aspect(\"equal\")\n",
    "ax[1].set_aspect(\"equal\")"
   ]
  },
  {
   "cell_type": "code",
   "execution_count": null,
   "metadata": {},
   "outputs": [],
   "source": [
    "plot_spatial_confusion(ds.isel(time=0), \"gt\", \"prediction\")"
   ]
  },
  {
   "cell_type": "code",
   "execution_count": null,
   "metadata": {},
   "outputs": [],
   "source": [
    "df = pd.DataFrame({\"gt\": models_output_dict[\"rf_cla\"][0][0], \"prediction\": models_output_dict[\"rf_cla\"][0][1]})\n",
    "confusion_values, vals_dict = model_results.spatial_confusion_matrix_da(\n",
    "    ds[\"prediction\"], ds[\"gt\"]\n",
    ")\n",
    "ds = df.to_xarray().sortby([\"longitude\", \"latitude\"])\n",
    "ds[\"comparison\"] = confusion_values\n",
    "\n",
    "spplot_spatial_confusion(ds, \"gt\", \"prediction\")"
   ]
  },
  {
   "cell_type": "code",
   "execution_count": null,
   "metadata": {},
   "outputs": [],
   "source": [
    "series = models_output_dict[\"rf_reg\"][0][0]\n",
    "\n",
    "# problems with casting, obviously. Need to run on one area at a time\n",
    "series.to_xarray().isel(time=0).plot()"
   ]
  },
  {
   "cell_type": "code",
   "execution_count": null,
   "metadata": {},
   "outputs": [],
   "source": []
  },
  {
   "cell_type": "code",
   "execution_count": null,
   "metadata": {},
   "outputs": [],
   "source": [
    "f, ax = plt.subplots(1,2, figsize=(10,7))\n",
    "\n",
    "ds.isel(time=0)[\"gt\"].plot(ax=ax[0])\n",
    "ds.isel(time=0)[\"prediction\"].plot(ax=ax[1])\n",
    "\n",
    "ax[0].set_aspect(\"equal\")\n",
    "ax[1].set_aspect(\"equal\")"
   ]
  },
  {
   "cell_type": "code",
   "execution_count": null,
   "metadata": {},
   "outputs": [],
   "source": [
    "series.to_dataframe()"
   ]
  },
  {
   "cell_type": "code",
   "execution_count": null,
   "metadata": {},
   "outputs": [],
   "source": [
    "import pandas as pd\n",
    "\n",
    "# Define latitude and longitude ranges\n",
    "latitude_range = (-15, -10)\n",
    "longitude_range = (142, 143)\n",
    "\n",
    "# Perform boolean indexing to select the desired latitudes and longitudes\n",
    "selected_series = series[\n",
    "    (series.index.get_level_values(\"latitude\") >= latitude_range[0])\n",
    "    & (series.index.get_level_values(\"latitude\") <= latitude_range[1])\n",
    "    & (series.index.get_level_values(\"longitude\") >= longitude_range[0])\n",
    "    & (series.index.get_level_values(\"longitude\") <= longitude_range[1])\n",
    "]"
   ]
  },
  {
   "cell_type": "code",
   "execution_count": null,
   "metadata": {},
   "outputs": [],
   "source": [
    "index = pd.MultiIndex.from_product(\n",
    "    [[\"lat1\", \"lat2\"], [\"lon1\", \"lon2\"], [\"time1\", \"time2\"]],\n",
    "    names=[\"latitude\", \"longitude\", \"time\"],\n",
    ")\n",
    "data = [1, 2, 3, 4, 5, 6, 7, 8]\n",
    "series = pd.Series(data, index=index)\n",
    "\n",
    "series.unstack()"
   ]
  },
  {
   "cell_type": "code",
   "execution_count": null,
   "metadata": {},
   "outputs": [],
   "source": [
    "f,ax=plt.subplots()\n",
    "selected_series.to_xarray().sortby(\"longitude\").isel(time=0).plot(ax=ax)\n",
    "\n",
    "ax.set_aspect(\"equal\")"
   ]
  },
  {
   "cell_type": "code",
   "execution_count": null,
   "metadata": {},
   "outputs": [],
   "source": [
    "models_output_dict[\"maxent\"]"
   ]
  },
  {
   "cell_type": "code",
   "execution_count": null,
   "metadata": {},
   "outputs": [],
   "source": [
    "len(models_output_dict)"
   ]
  },
  {
   "cell_type": "code",
   "execution_count": null,
   "metadata": {},
   "outputs": [],
   "source": [
    "from sklearn.ensemble import RandomForestRegressor, GradientBoostingRegressor, RandomForestClassifier\n",
    "from sklearn.linear_model import LogisticRegression\n",
    "\n",
    " \n",
    "\n",
    "ModelInitialiser().get_search_grid(\"rf_cla\")"
   ]
  },
  {
   "cell_type": "code",
   "execution_count": null,
   "metadata": {},
   "outputs": [],
   "source": []
  },
  {
   "cell_type": "code",
   "execution_count": null,
   "metadata": {},
   "outputs": [],
   "source": [
    "all_data = baselines.get_comparison_xa_ds(d_resolution=0.0368)\n",
    "maxent = load_model(\"maxent_0-0368d_tuned.pickle\")\n",
    "(X_train, X_test, y_train, y_test, _, _) = baselines.spatial_split_train_test(\n",
    "    utils.list_if_not_already(all_data),\n",
    "    \"gt\",\n",
    "    split_type=\"pixel\",\n",
    "    test_fraction=0.25,\n",
    ")"
   ]
  },
  {
   "cell_type": "code",
   "execution_count": null,
   "metadata": {},
   "outputs": [],
   "source": [
    "run_outcomes = n_random_runs_preds(maxent, all_data, 20)"
   ]
  },
  {
   "cell_type": "code",
   "execution_count": null,
   "metadata": {},
   "outputs": [],
   "source": []
  },
  {
   "cell_type": "code",
   "execution_count": null,
   "metadata": {},
   "outputs": [],
   "source": [
    "from sklearn import metrics as sklmetrics\n",
    "\n",
    "\n",
    "rocs_n_runs(run_outcomes)"
   ]
  },
  {
   "cell_type": "code",
   "execution_count": null,
   "metadata": {},
   "outputs": [],
   "source": [
    "test = xa.open_dataset(directories.get_comparison_dir() / \"Great_Barrier_Reef_D/0-0368d_arrays/all_0-0368d_comparative.nc\")\n",
    "test"
   ]
  },
  {
   "cell_type": "code",
   "execution_count": null,
   "metadata": {},
   "outputs": [],
   "source": [
    "# choose resolution (should be above 1000m for processing in decent time)\n",
    "target_resolution_m, target_resolution_d = spatial_data.choose_resolution(\n",
    "    resolution=4000, unit=\"m\")"
   ]
  },
  {
   "attachments": {},
   "cell_type": "markdown",
   "metadata": {},
   "source": [
    "# Combining data and processing to be ML model-ready"
   ]
  },
  {
   "cell_type": "code",
   "execution_count": null,
   "metadata": {},
   "outputs": [],
   "source": [
    "chunk_dict = {\"latitude\": 10, \"longitude\": 10, \"time\": 50}\n",
    "monthly_means = xa.open_dataset(directories.get_datasets_dir() / \"test/cmems_gopr_monthly_A_old.nc\", chunks=chunk_dict)\n",
    "monthly_means"
   ]
  },
  {
   "cell_type": "code",
   "execution_count": null,
   "metadata": {},
   "outputs": [],
   "source": [
    "directories.get_datasets_dir()"
   ]
  },
  {
   "cell_type": "code",
   "execution_count": null,
   "metadata": {},
   "outputs": [],
   "source": [
    "def split_nc_files(dir_path, new_dir: str = None, incl_subdirs: bool=False):\n",
    "    nc_paths = file_ops.return_list_filepaths(dir_path, \".nc\", incl_subdirs=incl_subdirs)\n",
    "    save_dir = nc_paths[0].parent\n",
    "\n",
    "    if new_dir:\n",
    "        save_dir = file_ops.guarantee_existence(save_dir / new_dir)\n",
    "\n",
    "    for path in nc_paths:\n",
    "        split_nc_file(path, save_dir)\n",
    "\n",
    "\n",
    "def split_nc_file(path, save_dir):\n",
    "    # Load the NetCDF file as an xarray dataset\n",
    "    path = Path(path)\n",
    "\n",
    "    dataset = xa.open_dataset(path, decode_coords=\"all\")\n",
    "\n",
    "    # Check if the loaded object is an xarray dataset\n",
    "    # if isinstance(dataset, xa.DataArray):\n",
    "    if len(list(dataset.data_vars)) == 1:\n",
    "        # print(f\"{path} is already a xa.DataArray. No further action taken\")\n",
    "        # save copy to new folder\n",
    "        new_file_path = (save_dir / list(dataset.data_vars)[0]).with_suffix(\".nc\")\n",
    "        # TODO: replace with save_nc\n",
    "        if not new_file_path.is_file():\n",
    "            dataset.rio.write_crs(\"EPSG:4326\", inplace=True)\n",
    "            dataset.to_netcdf(new_file_path)\n",
    "        else:\n",
    "            print(f\"{new_file_path} already exists.\")\n",
    "        return None\n",
    "\n",
    "    # Get the folder path and file name\n",
    "    folder_path, file_name = path.parent, path.stem\n",
    "\n",
    "    # Iterate over each variable in the dataset\n",
    "    for variable in tqdm(dataset.data_vars, desc = f\" Unpacking data_vars in {path}\"):\n",
    "        # ignore spatial_data\n",
    "        if variable == \"spatial_data\":\n",
    "            continue  # Skip to the next iteration if the variable is \"spatial_data\"\n",
    "\n",
    "        # Get the data array for the variable\n",
    "        data_array = dataset[variable]\n",
    "\n",
    "        # Create a new file name based on the variable name\n",
    "        new_file_name = f\"{variable}.nc\"\n",
    "\n",
    "        # Create the new file path\n",
    "        new_file_path = (save_dir / new_file_name).with_suffix(\".nc\")\n",
    "        if not new_file_path.is_file():\n",
    "            data_array.rio.write_crs(\"EPSG:4326\", inplace=True)\n",
    "            # Write the new dataset to a NetCDF file\n",
    "            data_array.to_netcdf(new_file_path)\n",
    "        else:\n",
    "            print(f\"{new_file_path} already exists.\")\n",
    "\n",
    "\n",
    "def ncfile_to_resolution_tensor(ncfile_path, target_resolution_d: float = target_resolution_d, name: str=None) -> tf.Tensor:\n",
    "\n",
    "    da = xa.open_dataarray(ncfile_path, engine=\"netcdf4\", decode_coords=\"all\")  # may not need type\n",
    "    # resolve\n",
    "    upsampled_ds = upsample_xarray_to_target(spatial_data.process_xa_d(da), target_resolution_d)\n",
    "\n",
    "    data = upsampled_ds.data\n",
    "    # get data as tensor\n",
    "    return tf.convert_to_tensor(data, name=Path(ncfile_path).stem)   # not sure about name here\n",
    "\n",
    "\n",
    "def ncfiles_to_tf_dataset(ncfile_paths, target_resolution_d: float, name: str = None) -> tf.data.Dataset:\n",
    "    # gen = lambda: (ncfile_to_resolution_tensor(x, target_resolution_d, name) for x in ncfiles)\n",
    "    gen = lambda: (ncfile_to_resolution_tensor(x) for x in ncfile_paths)\n",
    "\n",
    "    return tf.data.Dataset.from_generator(gen, output_types=tf.float32, name=\"asdf\")\n",
    "\n",
    "\n",
    "def remove_empty_variables(dataset):\n",
    "    # Create a mask indicating variables with all zeros, all NaNs, or a mix of zeros and NaNs\n",
    "    mask = ((dataset == 0) | np.isnan(dataset)).all(dim=['latitude', 'longitude', 'time'])\n",
    "    \n",
    "    # Filter out variables based on the mask\n",
    "    variables = np.array(dataset.data_vars)[~mask.to_array().values]\n",
    "    dropped_variables = list(set(dataset.data_vars) - set(variables))\n",
    "    print(f\"{dropped_variables} were removed from the dataset\")\n",
    "\n",
    "    filtered_dataset = dataset.drop_vars(names=dropped_variables)\n",
    "\n",
    "    return filtered_dataset, dropped_variables\n",
    "\n",
    "\n",
    "def convert_dataset_to_array(dataset):\n",
    "    # Convert the dataset to a NumPy array\n",
    "    array = dataset.to_array().values\n",
    "    \n",
    "    # Transpose the dimensions to match the desired shape (latitudes x longitudes x variable_num x time)\n",
    "    array = np.transpose(array, (1, 2, 0, 3))\n",
    "    \n",
    "    return array\n",
    "\n",
    "\n",
    "def process_xa_ds_ml_ready(\n",
    "    xa_ds: xa.Dataset,\n",
    "    feature_vars: list[str] = [\"vo\", \"so\", \"thetao\"],\n",
    "    gt_var: str = None,\n",
    "    normalise: bool = True,\n",
    "    onehot: bool = True,\n",
    "    conv: bool = False):\n",
    "\n",
    "    # remove any variables which are entirely none/all zero (looking at you sea ice)\n",
    "    xa_ds, dropped = remove_empty_variables(xa_ds)\n",
    "\n",
    "    # features array (discarding nans)\n",
    "    X_array = xa_ds[[feature for feature in feature_vars if feature not in dropped]]\n",
    "    # gt array\n",
    "    y_array = xa_ds.isel(time=-1)[gt_var]\n",
    "\n",
    "    Xs = convert_dataset_to_array(X_array)\n",
    "    ys = y_array.values\n",
    "\n",
    "    if normalise:\n",
    "        Xs = spatial_data.normalise_3d_array(Xs)\n",
    "\n",
    "    if onehot:\n",
    "        Xs = spatial_data.encode_nans_one_hot(Xs)\n",
    "    Xs = spatial_data.naive_nan_replacement(Xs)\n",
    "\n",
    "    if not conv:\n",
    "        # if not conv (standard lstm), cast to column\n",
    "        Xs = spatial_data.spatial_array_to_column(Xs)\n",
    "        ys = spatial_data.spatial_array_to_column(ys)\n",
    "\n",
    "    return Xs, ys\n",
    "\n",
    "\n",
    "def spatial_array_to_column(array: np.ndarray) -> np.ndarray:\n",
    "    \"\"\"Reshape the first two dimensions of a 3D NumPy array to a column vector.\n",
    "\n",
    "    Parameters\n",
    "    ----------\n",
    "    array (np.ndarray): The input 3D NumPy array.\n",
    "\n",
    "    Returns\n",
    "    -------\n",
    "    np.ndarray: The reshaped column vector.\n",
    "\n",
    "    Examples\n",
    "    --------\n",
    "    array = np.random.rand(lat, lon, var, ...)\n",
    "    column_vector = spatial_array_to_column(array)\n",
    "    print(column_vector.shape)\n",
    "    (lat x lon, var, ...)\n",
    "    \"\"\"\n",
    "    array_shape = array.shape\n",
    "    new_shape = (array_shape[0] * array_shape[1], *array.shape[2:])\n",
    "    return np.reshape(array, new_shape)\n",
    "\n",
    "\n",
    "def upsample_xarray_to_target(\n",
    "    xa_array: xa.DataArray | xa.Dataset,\n",
    "    target_resolution: float,\n",
    "    method=rasterio.enums.Resampling.bilinear,\n",
    "    name: str = None,\n",
    ") -> xa.Dataset:\n",
    "    \"\"\"\n",
    "    Upsamples an xarray DataArray or Dataset to a target resolution.\n",
    "\n",
    "    Parameters\n",
    "    ----------\n",
    "        xa_array (xarray.DataArray or xarray.Dataset): The input xarray object to upsample.\n",
    "        target_resolution (float): The target resolution in degrees.\n",
    "\n",
    "    Returns\n",
    "    -------\n",
    "        xarray.Dataset: The upsampled dataset.\n",
    "\n",
    "    Notes\n",
    "    -----\n",
    "        - The function resamples the input xarray object by coarsening it to a target resolution.\n",
    "        - The current implementation supports upsampling along latitude and longitude dimensions only.\n",
    "        - The function calculates the degree resolution of the input dataset and scales it to match the target\n",
    "        resolution.\n",
    "        - The resampling is performed by coarsening the dataset using a mean operation.\n",
    "    \"\"\"\n",
    "    # N.B. not perfect at getting starts/ends matching up It works fine when not trying to match the coords of another\n",
    "    # TODO: enable flexible upsampling by time also\n",
    "    lat_lims = spatial_data.xarray_coord_limits(xa_array, \"latitude\")\n",
    "    lon_lims = spatial_data.xarray_coord_limits(xa_array, \"longitude\")\n",
    "\n",
    "    dummy_xa = spatial_data.generate_dummy_xa(target_resolution, lat_lims, lon_lims)\n",
    "\n",
    "    return upsample_xa_d_to_other(xa_array, dummy_xa, method=method, name=name)\n",
    "\n",
    "    \n",
    "def upsample_xa_d_to_other(\n",
    "    xa_d: xa.DataArray | xa.Dataset,\n",
    "    target_xa_d: xa.DataArray | xa.Dataset,\n",
    "    method=rasterio.enums.Resampling.bilinear,\n",
    "    name: str = None,\n",
    "    var_name: str = None,\n",
    ") -> xa.DataArray | xa.Dataset:\n",
    "    \"\"\"\n",
    "    Upsample a given xarray DataArray or Dataset to match the spatial characteristics of another DataArray or Dataset.\n",
    "\n",
    "    Parameters\n",
    "    ----------\n",
    "    xa_d (xarray.DataArray or xarray.Dataset): The xarray object to upsample.\n",
    "    target_xa_d (xarray.DataArray or xarray.Dataset): The target xarray object with the desired spatial characteristics\n",
    "        (e.g., resolution, extent).\n",
    "    method (rasterio.enums.Resampling, optional): The resampling method to use during upsampling. Default is\n",
    "        rasterio.enums.Resampling.bilinear.\n",
    "    name (str, optional): The name to assign to the upsampled DataArray or Dataset. If not provided, the original\n",
    "        name is used.\n",
    "\n",
    "    Returns\n",
    "    -------\n",
    "    xarray.DataArray or xarray.Dataset: The upsampled xarray object with matching spatial characteristics as the target.\n",
    "    \"\"\"\n",
    "    xa_da = file_ops.extract_variable(xa_d, var_name)\n",
    "    xa_resampled = xa_da.rio.reproject_match(target_xa_d, resampling=method)\n",
    "    xa_processed = spatial_data.process_xa_d(xa_resampled)\n",
    "    if name:\n",
    "        return xa_processed.rename(name)\n",
    "    else:\n",
    "        return xa_processed"
   ]
  },
  {
   "cell_type": "code",
   "execution_count": null,
   "metadata": {},
   "outputs": [],
   "source": [
    "daily_climate = spatial_data.process_xa_d(xa.open_dataset(\n",
    "    directories.get_daily_cmems_dir() / \"cmems_gopr_daily.nc\", chunks=chunk_dict, decode_coords=\"all\"))\n",
    "\n",
    "bath = spatial_data.process_xa_d(xa.open_dataarray(\n",
    "    directories.get_bathymetry_datasets_dir() / \"bathymetry_A_0-03691_upsampled.nc\", chunks=chunk_dict, decode_coords=\"all\"))\n",
    "\n",
    "slopes = spatial_data.process_xa_d(xa.open_dataarray(\n",
    "    directories.get_gradients_dir() / \"bathymetry_B_0.03668_gradients.nc\", chunks=chunk_dict, decode_coords=\"all\"))\n",
    "\n",
    "gt = spatial_data.process_xa_d(xa.open_dataarray(\n",
    "    directories.get_gt_files_dir() / \"coral_region_A_1000m_mean.nc\", chunks=chunk_dict, decode_coords=\"all\"))\n"
   ]
  },
  {
   "cell_type": "code",
   "execution_count": null,
   "metadata": {},
   "outputs": [],
   "source": [
    "from coralshift.utils import utils \n",
    "def resample_list_xa_ds_to_target_res_and_save(\n",
    "    xa_das: list[xa.DataArray],\n",
    "    target_resolution_d: float,\n",
    "    save_dir: Path = None,\n",
    "    lat_lims: tuple[float] = (-10, -17),\n",
    "    lon_lims: tuple[float] = (142, 147),\n",
    ") -> None:\n",
    "    \"\"\"\n",
    "    Resamples a list of xarray DataArrays to a target resolution, and saves the resampled DataArrays to NetCDF files.\n",
    "\n",
    "    Parameters\n",
    "    ----------\n",
    "        xa_das (list[xa.DataArray]): A list of xarray DataArrays to be resampled.\n",
    "        target_resolution_d (float): The target resolution in degrees or meters, depending on the unit specified.\n",
    "        unit (str, optional): The unit of the target resolution. Defaults to \"m\".\n",
    "        lat_lims (tuple[float], optional): Latitude limits for the dummy DataArray used for resampling.\n",
    "            Defaults to (-10, -17).\n",
    "        lon_lims (tuple[float], optional): Longitude limits for the dummy DataArray used for resampling.\n",
    "            Defaults to (142, 147).\n",
    "\n",
    "    Returns\n",
    "    -------\n",
    "        None\n",
    "    \"\"\"\n",
    "\n",
    "    dummy_xa = spatial_data.generate_dummy_xa(target_resolution_d, lat_lims, lon_lims)\n",
    "\n",
    "    if not save_dir:\n",
    "        save_dir = file_ops.generate_filepath(\n",
    "            (\n",
    "                directories.get_comparison_dir()\n",
    "                / utils.replace_dot_with_dash(f\"{target_resolution_d:.05f}d_arrays\")\n",
    "            )\n",
    "        )\n",
    "\n",
    "    for xa_da in tqdm(\n",
    "        xa_das,\n",
    "        desc=f\"Resampling xarray DataArrays to {target_resolution_d:.05f}d\",\n",
    "        position=1,\n",
    "        leave=True,\n",
    "    ):\n",
    "        if isinstance(xa_da, xa.Dataset):\n",
    "            name = \"ds\"\n",
    "        else:\n",
    "            name = xa_da.name\n",
    "        filename = utils.replace_dot_with_dash(\n",
    "            f\"{name}_{target_resolution_d:.05f}d\"\n",
    "        )\n",
    "        save_path = (save_dir / filename).with_suffix(\".nc\")\n",
    "\n",
    "        if not save_path.is_file():\n",
    "            xa_resampled = spatial_data.process_xa_d(\n",
    "                spatial_data.upsample_xa_d_to_other(\n",
    "                    spatial_data.process_xa_d(xa_da), dummy_xa, name=name\n",
    "                )\n",
    "            )\n",
    "            # grid_mapping causes problems with saving\n",
    "            if \"grid_mapping\" in xa_resampled.attrs:\n",
    "                del xa_resampled.attrs[\"grid_mapping\"]\n",
    "\n",
    "            xa_resampled.astype(\"float32\").to_netcdf(save_path)\n",
    "        else:\n",
    "            print(f\"{filename} already exists in {save_dir}\")"
   ]
  },
  {
   "cell_type": "code",
   "execution_count": null,
   "metadata": {},
   "outputs": [],
   "source": [
    "def upsample_xarray_to_target(\n",
    "    xa_array: xa.DataArray | xa.Dataset,\n",
    "    target_resolution: float,\n",
    "    method=rasterio.enums.Resampling.bilinear,\n",
    "    name: str = None,\n",
    ") -> xa.Dataset:\n",
    "    \"\"\"\n",
    "    Upsamples an xarray DataArray or Dataset to a target resolution.\n",
    "\n",
    "    Parameters\n",
    "    ----------\n",
    "        xa_array (xarray.DataArray or xarray.Dataset): The input xarray object to upsample.\n",
    "        target_resolution (float): The target resolution in degrees.\n",
    "\n",
    "    Returns\n",
    "    -------\n",
    "        xarray.Dataset: The upsampled dataset.\n",
    "\n",
    "    Notes\n",
    "    -----\n",
    "        - The function resamples the input xarray object by coarsening it to a target resolution.\n",
    "        - The current implementation supports upsampling along latitude and longitude dimensions only.\n",
    "        - The function calculates the degree resolution of the input dataset and scales it to match the target\n",
    "        resolution.\n",
    "        - The resampling is performed by coarsening the dataset using a mean operation.\n",
    "    \"\"\"\n",
    "    # N.B. not perfect at getting starts/ends matching up It works fine when not trying to match the coords of another\n",
    "    # TODO: enable flexible upsampling by time also\n",
    "    lat_lims = spatial_data.xarray_coord_limits(xa_array, \"latitude\")\n",
    "    lon_lims = spatial_data.xarray_coord_limits(xa_array, \"longitude\")\n",
    "\n",
    "    dummy_xa = generate_dummy_xa(target_resolution, lat_lims, lon_lims)\n",
    "\n",
    "    return upsample_xa_d_to_other(xa_array, dummy_xa, method=method, name=name)\n",
    "\n",
    "def generate_dummy_xa(\n",
    "    resolution: float, lat_lims: tuple[float], lon_lims: tuple[float]\n",
    ") -> xa.DataArray:\n",
    "    \"\"\"\n",
    "    Generate a dummy xarray DataArray with consistent coordinate order.\n",
    "\n",
    "    Parameters\n",
    "    ----------\n",
    "    resolution (float): The resolution in degrees for the latitude and longitude values.\n",
    "    lat_lims (tuple[float]): The latitude limits as a tuple of (min, max) values.\n",
    "    lon_lims (tuple[float]): The longitude limits as a tuple of (min, max) values.\n",
    "\n",
    "    Returns\n",
    "    -------\n",
    "    xa.DataArray: The generated dummy xarray DataArray.\n",
    "    \"\"\"\n",
    "    # Generate latitude and longitude values\n",
    "    lat_vals = np.arange(min(lat_lims), max(lat_lims) + resolution / 2, resolution)\n",
    "    lon_vals = np.arange(min(lon_lims), max(lon_lims) + resolution / 2, resolution)\n",
    "\n",
    "    # Create a DataArray filled with NaN values\n",
    "    data = np.full((len(lat_vals), len(lon_vals)), np.nan)\n",
    "\n",
    "    # Create xarray DataArray\n",
    "    xa_dummy = (\n",
    "        xa.DataArray(data, coords=[lat_vals, lon_vals], dims=[\"latitude\", \"longitude\"])\n",
    "        .rio.write_crs(\"EPSG:4326\")\n",
    "        .rename(\"dummy\")\n",
    "    )\n",
    "\n",
    "    # Reindex the DataArray to ensure consistent coordinate order\n",
    "    xa_dummy = xa_dummy.reindex(\n",
    "        latitude=sorted(xa_dummy.latitude), longitude=sorted(xa_dummy.longitude)\n",
    "    )\n",
    "\n",
    "    return xa_dummy\n",
    "\n",
    "\n",
    "def upsample_xa_d_to_other(\n",
    "    xa_d: xa.DataArray | xa.Dataset,\n",
    "    target_xa_d: xa.DataArray | xa.Dataset,\n",
    "    method=rasterio.enums.Resampling.bilinear,\n",
    "    name: str = None,\n",
    "    var_name: str = None,\n",
    ") -> xa.DataArray | xa.Dataset:\n",
    "    \"\"\"\n",
    "    Upsample a given xarray DataArray or Dataset to match the spatial characteristics of another DataArray or Dataset.\n",
    "\n",
    "    Parameters\n",
    "    ----------\n",
    "    xa_d (xarray.DataArray or xarray.Dataset): The xarray object to upsample.\n",
    "    target_xa_d (xarray.DataArray or xarray.Dataset): The target xarray object with the desired spatial characteristics\n",
    "        (e.g., resolution, extent).\n",
    "    method (rasterio.enums.Resampling, optional): The resampling method to use during upsampling. Default is\n",
    "        rasterio.enums.Resampling.bilinear.\n",
    "    name (str, optional): The name to assign to the upsampled DataArray or Dataset. If not provided, the original\n",
    "        name is used.\n",
    "\n",
    "    Returns\n",
    "    -------\n",
    "    xarray.DataArray or xarray.Dataset: The upsampled xarray object with matching spatial characteristics as the target.\n",
    "    \"\"\"\n",
    "    # xa_da = file_ops.extract_variable(xa_d, var_name)\n",
    "    # xa_resampled = xa_da.rio.reproject_match(target_xa_d, resampling=method)\n",
    "    xa_d.rio.write_crs(\"EPSG:4326\", inplace=True)\n",
    "    xa_resampled = xa_d.rio.reproject_match(target_xa_d, resampling=method)\n",
    "\n",
    "    xa_processed = spatial_data.process_xa_d(xa_resampled)\n",
    "    if name:\n",
    "        return xa_processed.rename(name)\n",
    "    else:\n",
    "        return xa_processed"
   ]
  },
  {
   "cell_type": "code",
   "execution_count": null,
   "metadata": {},
   "outputs": [],
   "source": [
    "daily_climate = xa.open_dataset(directories.get_daily_cmems_dir() / \"Great_Barrier_Reef_A/cmems_gopr_daily_A.nc\").isel(depth=0)\n",
    "# daily_climate = xa.open_dataarray(directories.get_monthly_cmems_dir() / \"Great_Barrier_Reef_A/bottomT/VARS_bottomT_DATES_1992-12-31_1993-12-31_LONS_142_147_LATS_-10_-17_DEPTHS_0-3_1.nc\")\n",
    "daily_climate\n"
   ]
  },
  {
   "cell_type": "code",
   "execution_count": null,
   "metadata": {},
   "outputs": [],
   "source": [
    "def upsample_xarray_to_target(\n",
    "    xa_array: xa.DataArray | xa.Dataset,\n",
    "    target_resolution: float,\n",
    "    method=rasterio.enums.Resampling.bilinear,\n",
    "    name: str = None,\n",
    ") -> xa.Dataset:\n",
    "    \"\"\"\n",
    "    Upsamples an xarray DataArray or Dataset to a target resolution.\n",
    "\n",
    "    Parameters\n",
    "    ----------\n",
    "        xa_array (xarray.DataArray or xarray.Dataset): The input xarray object to upsample.\n",
    "        target_resolution (float): The target resolution in degrees.\n",
    "\n",
    "    Returns\n",
    "    -------\n",
    "        xarray.Dataset: The upsampled dataset.\n",
    "\n",
    "    Notes\n",
    "    -----\n",
    "        - The function resamples the input xarray object by coarsening it to a target resolution.\n",
    "        - The current implementation supports upsampling along latitude and longitude dimensions only.\n",
    "        - The function calculates the degree resolution of the input dataset and scales it to match the target\n",
    "        resolution.\n",
    "        - The resampling is performed by coarsening the dataset using a mean operation.\n",
    "    \"\"\"\n",
    "    # N.B. not perfect at getting starts/ends matching up It works fine when not trying to match the coords of another\n",
    "    # write crs\n",
    "    xa_array.rio.write_crs(\"EPSG:4326\", inplace=True)\n",
    "    return spatial_data.process_xa_d(\n",
    "        xa_array.rio.reproject(\"EPSG:4326\", target_resolution, resampling=method)\n",
    "    )"
   ]
  },
  {
   "cell_type": "code",
   "execution_count": null,
   "metadata": {},
   "outputs": [],
   "source": [
    "upsampled_climate = upsample_xarray_to_target(daily_climate, target_resolution_d)"
   ]
  },
  {
   "cell_type": "code",
   "execution_count": null,
   "metadata": {},
   "outputs": [],
   "source": [
    "resample_list_xa_ds_to_target_res_and_save([daily_climate.isel(depth=0), bath, slopes.rename(\"slopes\"), gt], target_resolution_d, \n",
    "    save_dir = directories.get_datasets_dir() / \"test/daily_upsamples\")"
   ]
  },
  {
   "cell_type": "code",
   "execution_count": null,
   "metadata": {},
   "outputs": [],
   "source": [
    "filenames = file_ops.return_list_filepaths(directories.get_datasets_dir() / \"test/daily_upsamples/\", \".nc\")\n",
    "\n",
    "for fl in filenames:\n",
    "    print(list(xa.open_dataset(fl).data_vars))"
   ]
  },
  {
   "cell_type": "code",
   "execution_count": null,
   "metadata": {},
   "outputs": [],
   "source": []
  },
  {
   "cell_type": "code",
   "execution_count": null,
   "metadata": {},
   "outputs": [],
   "source": [
    "all_daily = xa.open_mfdataset(filenames)\n",
    "\n",
    "Xs_lstm_daily, ys_lstm_daily = process_xa_ds_ml_ready(\n",
    "    all_daily, gt_var=\"coral_region_A_1000m_mean\")"
   ]
  },
  {
   "cell_type": "code",
   "execution_count": null,
   "metadata": {},
   "outputs": [],
   "source": [
    "file_ops.merge_nc_files_in_dir(directories.get_datasets_dir() / \"test/daily_upsamples\", filename=\"dailies_merged\")"
   ]
  },
  {
   "cell_type": "code",
   "execution_count": null,
   "metadata": {},
   "outputs": [],
   "source": [
    "Xs_lstm, ys_lstm = process_xa_ds_ml_ready(\n",
    "    xa.open_dataset(dir_path / \"cmems_gopr_monthly_A_old.nc\"), gt_var=\"coral_algae_1-12_degree\")\n",
    "# Xs_conv, ys_conv = process_xa_ds_ml_ready(\n",
    "#     xa.open_dataset(dir_path / \"cmems_gopr_monthly_A_old.nc\"), gt_var=\"coral_algae_1-12_degree\", conv=True)"
   ]
  },
  {
   "cell_type": "code",
   "execution_count": null,
   "metadata": {},
   "outputs": [],
   "source": [
    "# Xs_conv.shape\n",
    "plt.imshow(Xs_conv[:,:,0,0])"
   ]
  },
  {
   "cell_type": "code",
   "execution_count": null,
   "metadata": {},
   "outputs": [],
   "source": [
    "# save arrays to npy files\n",
    "np.save(dir_path / \"Xs_lstm.npy\", Xs_lstm)\n",
    "np.save(dir_path / \"ys_lstm.npy\", ys_lstm)\n",
    "\n",
    "np.save(dir_path / \"Xs_conv.npy\", Xs_conv)\n",
    "np.save(dir_path / \"ys_conv.npy\", ys_conv)"
   ]
  },
  {
   "cell_type": "code",
   "execution_count": null,
   "metadata": {},
   "outputs": [],
   "source": [
    "\n",
    "dir_path = directories.get_datasets_dir() / \"test\"\n",
    "processed_dir = dir_path / \"split\"\n",
    "# split up any nc files into their variables into a new folder\n",
    "split_nc_files(\n",
    "    dir_path = dir_path,\n",
    "    new_dir = processed_dir\n",
    "    )\n",
    "\n",
    "# get list of individual nc files\n",
    "nc_files = file_ops.return_list_filepaths(processed_dir, \".nc\")\n",
    "# resample to desired resolution and send to tf dataset\n",
    "tf_ds = ncfiles_to_tf_dataset(nc_files, target_resolution_d)\n",
    "\n"
   ]
  },
  {
   "cell_type": "code",
   "execution_count": null,
   "metadata": {},
   "outputs": [],
   "source": [
    "# for elem in tf_ds:\n",
    "#     print(np.shape(elem.numpy()))\n",
    "\n",
    "it = iter(tf_ds)\n",
    "\n",
    "print(next(it).numpy())\n"
   ]
  },
  {
   "cell_type": "code",
   "execution_count": null,
   "metadata": {},
   "outputs": [],
   "source": [
    "xa.open_dataarray(nc_files[0]).data"
   ]
  },
  {
   "cell_type": "code",
   "execution_count": null,
   "metadata": {},
   "outputs": [],
   "source": []
  },
  {
   "cell_type": "code",
   "execution_count": null,
   "metadata": {},
   "outputs": [],
   "source": []
  },
  {
   "cell_type": "code",
   "execution_count": null,
   "metadata": {},
   "outputs": [],
   "source": [
    "processed_path = directories.get_processed_dir()\n",
    "path = directories.get_processed_dir() / \"combined_daily_1-12.nc\"\n",
    "# split_nc_file(path)\n",
    "split_nc_files(processed_path, \"arrays\")"
   ]
  },
  {
   "cell_type": "code",
   "execution_count": null,
   "metadata": {},
   "outputs": [],
   "source": [
    "nc_files = file_ops.return_list_filepaths(processed_path / \"arrays\", \".nc\")\n",
    "# xa.open_dataarray(processed_path / \"test/so.nc\").isel(time=0).plot()\n",
    "# upsample_xarray_to_target(xa.open_dataset(nc_files[8]), target_resolution_d)"
   ]
  },
  {
   "cell_type": "code",
   "execution_count": null,
   "metadata": {},
   "outputs": [],
   "source": []
  },
  {
   "cell_type": "code",
   "execution_count": null,
   "metadata": {},
   "outputs": [],
   "source": []
  },
  {
   "cell_type": "code",
   "execution_count": null,
   "metadata": {},
   "outputs": [],
   "source": [
    "import numpy as np"
   ]
  },
  {
   "cell_type": "code",
   "execution_count": null,
   "metadata": {},
   "outputs": [],
   "source": [
    "np.arange(0,3+0.1,0.1)"
   ]
  },
  {
   "cell_type": "code",
   "execution_count": null,
   "metadata": {},
   "outputs": [],
   "source": [
    "def generate_interp_lat_lons(xa_high_res, lat_lims: tuple=None, \n",
    "    lon_lims: tuple=None, target_resolution_d = float: None):\n",
    "    \"\"\"\n",
    "    Generate latitude and longitude values for interpolation based on the specified limits or target resolution.\n",
    "\n",
    "    Args:\n",
    "        xa_high_res: The high-resolution xarray dataset from which to generate latitude and longitude values.\n",
    "        lat_lims: A tuple of latitude limits (min, max). If None, the latitude values from `xa_high_res` will be used.\n",
    "        lon_lims: A tuple of longitude limits (min, max). If None, the longitude values from `xa_high_res` will be used.\n",
    "        target_resolution_d: The target resolution for latitude and longitude values. If None, the original values from \n",
    "            `xa_high_res` will be used.\n",
    "\n",
    "    Returns:\n",
    "        lat_vals: The generated latitude values for interpolation.\n",
    "        lon_vals: The generated longitude values for interpolation.\n",
    "    \"\"\"\n",
    "    if not (lat_lims or lon_lims or target_resolution_d):\n",
    "        lat_vals, lon_vals = xa_high_res[\"latitude\"], xa_high_res[\"longitude\"]\n",
    "    else:\n",
    "        lat_vals = np.arange(min(lat_lims), max(lat_lims+target_resolution_d), target_resolution_d)\n",
    "        lon_vals = np.arange(min(lon_lims), max(lon_lims+target_resolution_d), target_resolution_d)\n",
    "    return lat_vals, lon_vals\n",
    "\n",
    "lat_vals, lon_vals = generate_interp_lat_lons(xa.open_dataarray(processed_path / \"arrays/coral_raster_1000m.nc\"))"
   ]
  },
  {
   "cell_type": "code",
   "execution_count": null,
   "metadata": {},
   "outputs": [],
   "source": [
    "def downsample_interp(xa_d, lat_vals, lon_vals, interp_method: str):\n",
    "   return xa_d.interp(latitude=lat_vals, longitude=lon_vals, method=interp_method)\n",
    "\n",
    "# downsample_interp(xa.open_dataarray(processed_path / \"arrays/bottomT.nc\"), lat_vals, lon_vals, \"nearest\")"
   ]
  },
  {
   "cell_type": "code",
   "execution_count": null,
   "metadata": {},
   "outputs": [],
   "source": [
    "def load_upsample_nc_dir(nc_dir: Path | str, \n",
    "    lat_vals: tuple[float], lon_vals: tuple[float], interp_method: str = \"nearest\"):\n",
    "    \"\"\"\n",
    "    Load and downsample NetCDF files from a directory using TensorFlow and xarray.\n",
    "\n",
    "    Parameters\n",
    "    ----------\n",
    "        nc_dir (str): The directory path containing the NetCDF files.\n",
    "        lat_vals (array-like): Array-like object containing the latitude values.\n",
    "        lon_vals (array-like): Array-like object containing the longitude values.\n",
    "        interp_method (str, optional): The interpolation method to use during downsampling.\n",
    "            Defaults to \"nearest\".\n",
    "\n",
    "    Returns\n",
    "    -------\n",
    "        tf.data.Dataset: A TensorFlow dataset containing the downsampled data arrays.\n",
    "    \"\"\"\n",
    "    # Define the function to open a NetCDF file and perform downsampling\n",
    "    def open_path(path_tensor: tf.Tensor):\n",
    "        # Open the NetCDF file using xarray and convert to float32 dtype\n",
    "        ds = xa.open_dataarray(path_tensor.numpy().decode()).astype(\"float32\")\n",
    "        # Perform downsampling using the downsample_interp function via specified interp_method\n",
    "        downsampled_ds = downsample_interp(ds, lat_vals, lon_vals, interp_method)\n",
    "        # downsampled_ds = ds\n",
    "        # Convert the downsampled data to a TensorFlow tensor\n",
    "        data_tensor = tf.convert_to_tensor(downsampled_ds.data)      \n",
    "        return tf.identity(data_tensor, name=\"asdf\")\n",
    "\n",
    "    file_dataset = tf.data.Dataset.list_files(str(Path(nc_dir).joinpath(\"*.nc\")))\n",
    "    # Map the open_path function to each file path in the dataset\n",
    "    return file_dataset.map(\n",
    "        lambda path: tf.py_function(open_path, [path], Tout=tf.float32))"
   ]
  },
  {
   "cell_type": "code",
   "execution_count": null,
   "metadata": {},
   "outputs": [],
   "source": [
    "test_tf_ds = load_upsample_nc_dir(processed_path / \"arrays\", lat_vals, lon_vals)\n",
    "test_tf_ds.element_spec"
   ]
  },
  {
   "cell_type": "code",
   "execution_count": null,
   "metadata": {},
   "outputs": [],
   "source": [
    "[batch.shape for batch in test_tf_ds]"
   ]
  },
  {
   "cell_type": "code",
   "execution_count": null,
   "metadata": {},
   "outputs": [],
   "source": [
    "test_tf_ds.element_spec"
   ]
  },
  {
   "cell_type": "code",
   "execution_count": null,
   "metadata": {},
   "outputs": [],
   "source": [
    "tf_dataset = ncfiles_to_tf_dataset(nc_files, name=\"upsampled\", target_resolution_d=target_resolution_d)"
   ]
  },
  {
   "cell_type": "code",
   "execution_count": null,
   "metadata": {},
   "outputs": [],
   "source": [
    "tf_dataset.element_spec"
   ]
  },
  {
   "cell_type": "code",
   "execution_count": null,
   "metadata": {},
   "outputs": [],
   "source": [
    "[batch.shape[0] for batch in test_tf_ds]"
   ]
  },
  {
   "cell_type": "code",
   "execution_count": null,
   "metadata": {},
   "outputs": [],
   "source": [
    "tf_dataset.element_spec"
   ]
  },
  {
   "cell_type": "code",
   "execution_count": null,
   "metadata": {},
   "outputs": [],
   "source": [
    "titanic_file = tf.keras.utils.get_file(\"train.csv\", \"https://storage.googleapis.com/tf-datasets/titanic/train.csv\")\n",
    "titanic_lines = tf.data.TextLineDataset(titanic_file)\n",
    "\n",
    "def plot_batch_sizes(ds):\n",
    "  batch_sizes = [batch.shape[0] for batch in ds]\n",
    "  plt.bar(range(len(batch_sizes)), batch_sizes)\n",
    "  plt.xlabel('Batch number')\n",
    "  plt.ylabel('Batch size')\n",
    "\n",
    "titanic_batches = titanic_lines.repeat(3).batch(128)\n",
    "plot_batch_sizes(titanic_batches)"
   ]
  },
  {
   "cell_type": "code",
   "execution_count": null,
   "metadata": {},
   "outputs": [],
   "source": [
    "ds_man = data_structure.MyDatasets()"
   ]
  },
  {
   "cell_type": "code",
   "execution_count": null,
   "metadata": {},
   "outputs": [],
   "source": [
    "chunks = {\"latitude\": 10, \"longitude\": 10, \"time\": 100}\n",
    "\n",
    "# load in climate data (daily): TODO: spatial_padded_1.nc needs renaming and putting with dailies. Get rid of coral_climate_1_12.nc and replace with bathA area only\n",
    "climate_daily_1_12_padded = spatial_data.process_xa_d(xa.open_dataset(directories.get_monthly_cmems_dir() / \n",
    "        # ds_man.get_location() / \"global_ocean_reanalysis/monthly_means/coral_climate_1_12.nc\")\n",
    "        \"spatial_padded_1.nc\"), squeeze_coords=False)\n",
    "\n",
    "# load in reef ground truth\n",
    "coral_gt = spatial_data.process_xa_d(xa.open_dataset(directories.get_monthly_cmems_dir() / \n",
    "        # ds_man.get_location() / \"global_ocean_reanalysis/monthly_means/coral_climate_1_12.nc\")\n",
    "        \"coral_climate_1_12.nc\"), squeeze_coords=False)[\"coral_algae_1-12_degree\"].sel({\"latitude\": slice(-17.01,-9.99), \"longitude\": slice(141.99, 147.01)}).isel(time=0)\n",
    "        \n",
    "# load in bathymetry and upsample to climate\n",
    "bath_area = xa.open_dataset(\n",
    "    directories.get_bathymetry_datasets_dir() / \"bathymetry_A_0-08333_upsampled.nc\").squeeze(\"band\")"
   ]
  },
  {
   "cell_type": "code",
   "execution_count": null,
   "metadata": {},
   "outputs": [],
   "source": [
    "def add_data_to_chunk(xa_chunk_data, xa_new_data, interp_method: str=\"nearest\", broadcast: bool=True):\n",
    "    # TODO: add in checking about relative resolutions\n",
    "    interped = xa_new_data.interp(\n",
    "        latitude=xa_chunk_data[\"latitude\"], longitude=xa_chunk_data[\"longitude\"], method=interp_method)\n",
    "    # TODO: issue with time broadcasting?\n",
    "    merged_ds = xa.combine_by_coords([xa_chunk_data, interped], coords=['latitude', 'longitude', 'time'], join=\"inner\")\n",
    "    if broadcast:\n",
    "        (merged_ds,) = xa.broadcast(merged_ds)\n",
    "    return merged_ds\n",
    "    # save file"
   ]
  },
  {
   "cell_type": "code",
   "execution_count": null,
   "metadata": {},
   "outputs": [],
   "source": [
    "# combine arrays\n",
    "gt_climate = add_data_to_chunk(climate_daily_1_12_padded, coral_gt)\n",
    "all_data = add_data_to_chunk(gt_climate, bath_area)\n",
    "\n",
    "xa_all_1_12 = file_ops.save_nc(\n",
    "    directories.get_processed_dir(), \"combined_daily_1-12\", all_data, return_array=True)\n",
    "# climate_monthly_1_12_padded\n",
    "# coral_gt\n",
    "# bath_area\n"
   ]
  },
  {
   "cell_type": "code",
   "execution_count": null,
   "metadata": {},
   "outputs": [],
   "source": [
    "xa_all_1_12.isel(time=0)[\"coral_algae_1-12_degree\"].plot()"
   ]
  },
  {
   "cell_type": "code",
   "execution_count": null,
   "metadata": {},
   "outputs": [],
   "source": [
    "# climate_monthly_1_12_padded\n",
    "coral_gt"
   ]
  },
  {
   "attachments": {},
   "cell_type": "markdown",
   "metadata": {},
   "source": [
    "## Process to numpy array for machine learning"
   ]
  },
  {
   "cell_type": "code",
   "execution_count": null,
   "metadata": {},
   "outputs": [],
   "source": [
    "def generate_patch(\n",
    "    xa_ds: xa.DataArray | xa.Dataset,\n",
    "    lat_lon_starts: tuple[float, float],\n",
    "    coord_lengths: tuple[float, float] = None,\n",
    "    coord_range: tuple[int, int] = None,\n",
    "    feature_vars: list[str] = [\"bottomT\", \"so\", \"mlotst\", \"uo\", \"vo\", \"zos\", \"thetao\"],\n",
    "    gt_var: str = \"coral_algae_1-12_degree\",\n",
    "    normalise: bool = True,\n",
    "    onehot: bool = True,\n",
    ") -> tuple[np.ndarray, xa.Dataset | xa.DataArray, dict]:\n",
    "    \"\"\"Generate a patch for training or evaluation.\n",
    "    Parameters\n",
    "    ----------\n",
    "    xa_ds (xa.Dataset): The input xarray dataset.\n",
    "    lat_lon_starts (tuple): The starting latitude and longitude indices for sampling the patch.\n",
    "    coord_lengths (tuple): The latitude and longitude range for sampling the patch.\n",
    "    feature_vars (list[str], optional): List of variable names to be used as features.\n",
    "        Default is [\"bottomT\", \"so\", \"mlotst\", \"uo\", \"vo\", \"zos\", \"thetao\"].\n",
    "    gt_var (str, optional): The variable name for the ground truth. Default is \"coral_algae_1-12_degree\".\n",
    "    normalise (bool, optional): Flag indicating whether to normalize each variable between 0 and 1. Default is True.\n",
    "    onehot (bool, optional): Flag indicating whether to encode NaN values using the one-hot method. Default is True.\n",
    "\n",
    "    Returns\n",
    "    -------\n",
    "    tuple[np.ndarray, xa.Dataset | xa.DataArray, dict]: A tuple containing the feature array, ground truth array,\n",
    "        subsampled dataset, and latitude/longitude values.\n",
    "    \"\"\"\n",
    "    subsample, lat_lon_vals_dict = sample_spatial_batch(\n",
    "        xa_ds,\n",
    "        lat_lon_starts=lat_lon_starts,\n",
    "        coord_lengths=coord_lengths,\n",
    "        coord_range=coord_range,\n",
    "    )\n",
    "\n",
    "    output = process_xa_ds_for_ml(\n",
    "        xa_ds=subsample,\n",
    "        feature_vars=feature_vars,\n",
    "        gt_var=gt_var,\n",
    "        normalise=normalise,\n",
    "        onehot=onehot,\n",
    "    )\n",
    "\n",
    "    return output, subsample, lat_lon_vals_dict\n",
    "\n",
    "def sample_spatial_batch(\n",
    "    xa_d: xa.Dataset,\n",
    "    lat_lon_starts: tuple = (0, 0),\n",
    "    coord_lengths: tuple[int, int] = (6, 6),\n",
    "    coord_range: tuple[float] = None,\n",
    "    variables: list[str] = None,\n",
    ") -> np.ndarray:\n",
    "    \"\"\"Sample a spatial batch from an xarray Dataset.\n",
    "    Parameters\n",
    "    ----------\n",
    "    xa_d (xa.Dataset): The input xarray Dataset.\n",
    "    lat_lon_starts (tuple): Tuple specifying the starting latitude and longitude indices of the batch.\n",
    "    coord_range (tuple[int, int]): Tuple specifying the dimensions (number of cells) of the spatial window.\n",
    "    coord_range (tuple[float], optional): Tuple specifying the latitude and longitude range (in degrees) of the spatial\n",
    "        window. If provided, it overrides the coord_range parameter.\n",
    "    variables (list[str], optional): List of variable names to include in the spatial batch. If None, includes all\n",
    "        variables.\n",
    "\n",
    "    Returns\n",
    "    -------\n",
    "    np.ndarray: The sampled spatial batch as a NumPy array.\n",
    "    \"\"\"\n",
    "    # if selection of variables specified\n",
    "    if variables is not None:\n",
    "        xa_d = xa_d[variables]\n",
    "\n",
    "    subsample = xa_region_from_window(xa_d, lat_lon_starts, coord_lengths, coord_range)\n",
    "\n",
    "    # # N.B. have to be careful when providing coordinate ranges for areas with negative coords. TODO: make universal\n",
    "    # lat_start, lon_start = lat_lon_starts[0], lat_lon_starts[1]\n",
    "\n",
    "    # if not coord_range:\n",
    "    #     subsample = xa_d.isel(\n",
    "    #         {\n",
    "    #             \"latitude\": slice(lat_start, coord_range[0]),\n",
    "    #             \"longitude\": slice(lon_start, coord_range[1]),\n",
    "    #         }\n",
    "    #     )\n",
    "    # else:\n",
    "    #     lat_cells, lon_cells = coord_range[0], coord_range[1]\n",
    "    #     subsample = xa_d.sel(\n",
    "    #         {\n",
    "    #             \"latitude\": slice(lat_start, lat_start + lat_cells),\n",
    "    #             \"longitude\": slice(lon_start, lon_start + lon_cells),\n",
    "    #         }\n",
    "    #     )\n",
    "\n",
    "    lat_slice = subsample[\"latitude\"].values\n",
    "    lon_slice = subsample[\"longitude\"].values\n",
    "    time_slice = subsample[\"time\"].values\n",
    "\n",
    "    return subsample, {\n",
    "        \"latitude\": lat_slice,\n",
    "        \"longitude\": lon_slice,\n",
    "        \"time\": time_slice,\n",
    "    }\n",
    "\n",
    "\n",
    "def xa_region_from_window(\n",
    "    xa_d: xa.Dataset | xa.DataArray,\n",
    "    lat_lon_starts: tuple = (0, 0),\n",
    "    coord_lengths: tuple[int, int] = (6, 6),\n",
    "    coord_range: tuple[float, float] = None,\n",
    "):\n",
    "    \"\"\"Sample a spatial batch from an xarray Dataset or DataArray.\n",
    "    # TODO: check this works\n",
    "    Parameters\n",
    "    ----------\n",
    "        xa_d (xarray.Dataset or xarray.DataArray): The input Dataset or DataArray to sample a spatial batch from.\n",
    "        lat_lon_starts (tuple, optional): A tuple containing the starting latitude and longitude coordinates.\n",
    "            Default is (0, 0).\n",
    "        coord_lengths (tuple[int, int], optional): A tuple specifying the number of latitude and longitude cells to\n",
    "            include in the spatial batch. Default is (6, 6).\n",
    "        coord_range (tuple[float, float], optional): A tuple containing the latitude and longitude range in degrees. If\n",
    "            provided, `coord_lengths` will be ignored, and the range will be used to determine the spatial batch size.\n",
    "            Default is None.\n",
    "\n",
    "    Returns\n",
    "    -------\n",
    "        xarray.Dataset or xarray.DataArray: The sampled spatial batch from `xa_d` based on the provided parameters.\n",
    "    \"\"\"\n",
    "    lat_start, lon_start = lat_lon_starts[0], lat_lon_starts[1]\n",
    "    if coord_range:\n",
    "        lat_cells, lon_cells = coord_range[0], coord_range[1]\n",
    "        lat_range = (lat_start, lat_start + lat_cells)\n",
    "        lon_range = (lon_start, lon_start + lon_cells)\n",
    "        subsample = xa_d.sel(\n",
    "            {\n",
    "                \"latitude\": slice(min(lat_range), max(lat_range)),\n",
    "                \"longitude\": slice(min(lon_range), max(lon_range)),\n",
    "            }\n",
    "        )\n",
    "    else:\n",
    "        subsample = xa_d.isel(\n",
    "            {\n",
    "                \"latitude\": slice(lat_start, coord_lengths[0]),\n",
    "                \"longitude\": slice(lon_start, coord_lengths[1]),\n",
    "            }\n",
    "        )\n",
    "    return subsample\n",
    "\n",
    "\n",
    "def process_xa_ds_for_ml(\n",
    "    xa_ds: xa.Dataset,\n",
    "    feature_vars: list[str] = None,\n",
    "    gt_var: str = None,\n",
    "    normalise: bool = True,\n",
    "    onehot: bool = True,\n",
    ") -> tuple[np.ndarray, ...]:\n",
    "    \"\"\"\n",
    "    Process xarray Dataset for machine learning.\n",
    "\n",
    "    Parameters\n",
    "    ----------\n",
    "    xa_ds : xa.Dataset\n",
    "        The input xarray dataset.\n",
    "    feature_vars : list[str], optional\n",
    "        List of variable names to be used as features. Default is None.\n",
    "    gt_var : str, optional\n",
    "        The variable name for the ground truth. Default is None.\n",
    "    normalise : bool, optional\n",
    "        Flag indicating whether to normalize each variable between 0 and 1. Default is True.\n",
    "    onehot : bool, optional\n",
    "        Flag indicating whether to encode NaN values using the one-hot method. Default is True.\n",
    "\n",
    "    Returns\n",
    "    -------\n",
    "    tuple[np.ndarray, ...]\n",
    "        A tuple containing the feature array and ground truth array.\n",
    "    \"\"\"\n",
    "    to_return = []\n",
    "    if feature_vars is not None:\n",
    "        # switch\n",
    "        # assign features and convert to lat, lon to latxlon column\n",
    "\n",
    "        Xs = spatial_array_to_column(xa_d_to_np_array(xa_ds[feature_vars]))\n",
    "\n",
    "        # if normalise = True, normalise each variable between 0 and 1\n",
    "        if normalise:\n",
    "            Xs = normalise_3d_array(Xs)\n",
    "        # remove columns containing only nans. TODO: enable removal of all nan dims\n",
    "        nans_array = exclude_all_nan_dim(Xs, dim=1)\n",
    "\n",
    "        # if encoding nans using onehot method\n",
    "        if onehot:\n",
    "            Xs = encode_nans_one_hot(nans_array)\n",
    "        to_return.append(naive_nan_replacement(Xs))\n",
    "\n",
    "    if gt_var:\n",
    "        # assign ground truth and convert to column vector\n",
    "        ys = spatial_array_to_column(xa_d_to_np_array(xa_ds[gt_var]))\n",
    "        # ys = naive_nan_replacement(ys)\n",
    "    \n",
    "        # take single time slice (since broadcasted back through time)\n",
    "        # ys = ys[:, 0]\n",
    "        to_return.append(naive_nan_replacement(ys))\n",
    "\n",
    "    return tuple(to_return)"
   ]
  },
  {
   "cell_type": "code",
   "execution_count": null,
   "metadata": {},
   "outputs": [],
   "source": [
    "# train area\n",
    "(train_Xs_lstm, train_ys_lstm), train_subsample, train_lat_lons_vals_dict = spatial_data.generate_patch(xa_ds=xa_all_1_12, lat_lon_starts=(-10,142), coord_range=(-3,3), onehot=True)\n",
    "# test area\n",
    "(test_Xs_lstm, test_ys_lstm), test_subsample, test_lat_lons_vals_dict = spatial_data.generate_patch(xa_ds=xa_all_1_12, lat_lon_starts=(-14,145), coord_range=(-1,1), onehot=True)\n",
    "\n",
    "print(\"train_Xs_lstm shape: \", train_Xs_lstm.shape, \"train_ys_lstm shape: \", train_ys_lstm.shape)\n",
    "print(\"test_Xs_lstm shape: \", test_Xs_lstm.shape, \"test_ys_lstm shape: \", test_ys_lstm.shape)"
   ]
  },
  {
   "cell_type": "code",
   "execution_count": null,
   "metadata": {},
   "outputs": [],
   "source": [
    "train_Xs_lstm_shape = train_Xs_lstm.shape\n",
    "train_ys_lstm_shape = train_ys_lstm.shape\n",
    "test_Xs_lstm_shape = test_Xs_lstm.shape\n",
    "test_ys_lstm_shape = test_ys_lstm.shape\n",
    "\n",
    "train_Xs_convlstm = train_Xs_lstm.reshape(\n",
    "    int(np.sqrt(train_Xs_lstm_shape[0])), int(np.sqrt(train_Xs_lstm_shape[0])),train_Xs_lstm_shape[1],train_Xs_lstm_shape[2])\n",
    "train_ys_convlstm = train_ys_lstm.reshape(\n",
    "    int(np.sqrt(train_ys_lstm_shape[0])), int(np.sqrt(train_ys_lstm_shape[0])), train_ys_lstm_shape[1])\n",
    "\n",
    "test_Xs_convlstm = test_Xs_lstm.reshape(\n",
    "    int(np.sqrt(test_Xs_lstm_shape[0])), int(np.sqrt(test_Xs_lstm_shape[0])),test_Xs_lstm_shape[1],test_Xs_lstm_shape[2])\n",
    "test_ys_convlstm = test_ys_lstm.reshape(\n",
    "    int(np.sqrt(test_ys_lstm_shape[0])), int(np.sqrt(test_ys_lstm_shape[0])), test_ys_lstm_shape[1])\n",
    "\n",
    "\n",
    "print(\"train_Xs_convlstm shape: \", train_Xs_convlstm.shape, \"train_ys_convlstm shape: \", train_ys_convlstm.shape)\n",
    "print(\"test_Xs_convlstm shape: \", test_Xs_convlstm.shape, \"test_ys_convlstm shape: \", test_ys_convlstm.shape)\n"
   ]
  },
  {
   "cell_type": "code",
   "execution_count": null,
   "metadata": {},
   "outputs": [],
   "source": []
  },
  {
   "cell_type": "code",
   "execution_count": null,
   "metadata": {},
   "outputs": [],
   "source": [
    "test_subsample[\"bathymetry_A\"].isel(time=0).plot()"
   ]
  },
  {
   "cell_type": "code",
   "execution_count": null,
   "metadata": {},
   "outputs": [],
   "source": [
    "spatial_Xs = train_Xs.reshape((72,72,336,8))\n",
    "spatial_ys = train_ys.reshape((72,72))\n",
    "\n",
    "print(\"spatial_Xs shape: \", spatial_Xs.shape)\n",
    "print(\"spatial_ys shape: \", spatial_ys.shape)"
   ]
  }
 ],
 "metadata": {
  "kernelspec": {
   "display_name": "CORALSHIFT",
   "language": "python",
   "name": "coralshift"
  },
  "language_info": {
   "codemirror_mode": {
    "name": "ipython",
    "version": 3
   },
   "file_extension": ".py",
   "mimetype": "text/x-python",
   "name": "python",
   "nbconvert_exporter": "python",
   "pygments_lexer": "ipython3",
   "version": "3.10.11"
  },
  "orig_nbformat": 4
 },
 "nbformat": 4,
 "nbformat_minor": 2
}
