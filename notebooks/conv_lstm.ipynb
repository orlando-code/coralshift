{
 "cells": [
  {
   "attachments": {},
   "cell_type": "markdown",
   "metadata": {},
   "source": [
    "Inspired by https://www.kaggle.com/code/kcostya/convlstm-convolutional-lstm-network-tutorial"
   ]
  },
  {
   "cell_type": "code",
   "execution_count": 1,
   "metadata": {},
   "outputs": [],
   "source": [
    "%load_ext autoreload\n",
    "%autoreload 2\n",
    "\n",
    "import sys\n",
    "import os\n",
    "sys.path.append(\"../\")\n",
    "\n",
    "location = \"remote\"\n",
    "if location == \"remote\":\n",
    "    # TODO: hacky, shouldn't be necessary\n",
    "    os.environ[\"WANDB_NOTEBOOK_NAME\"] = \"lustre_scratch/coralshift/notebooks/conv_lstm.ipynb\"\n",
    "    os.chdir(\"/lustre_scratch/orlando-code/coralshift/\")\n"
   ]
  },
  {
   "cell_type": "code",
   "execution_count": 3,
   "metadata": {},
   "outputs": [
    {
     "name": "stderr",
     "output_type": "stream",
     "text": [
      "2023-06-12 15:31:15.578042: I tensorflow/core/platform/cpu_feature_guard.cc:193] This TensorFlow binary is optimized with oneAPI Deep Neural Network Library (oneDNN) to use the following CPU instructions in performance-critical operations:  SSE4.1 SSE4.2 AVX AVX2 FMA\n",
      "To enable them in other operations, rebuild TensorFlow with the appropriate compiler flags.\n"
     ]
    }
   ],
   "source": [
    "from __future__ import annotations\n",
    "\n",
    "from pathlib import Path\n",
    "import xarray as xa\n",
    "import numpy as np\n",
    "\n",
    "import wandb\n",
    "from tqdm import tqdm\n",
    "import numpy as np\n",
    "import matplotlib.pyplot as plt\n",
    "\n",
    "import tensorflow as tf\n",
    "# importing entire keras library leads to quasi-errors: https://stackoverflow.com/questions/65493824/tensorflow-gpu-memory-allocation\n",
    "from tensorflow.keras import layers, models, losses, optimizers, callbacks\n",
    "\n",
    "\n",
    "import wandb\n",
    "from wandb.keras import WandbMetricsLogger, WandbModelCheckpoint, WandbCallback\n",
    "\n",
    "\n",
    "# from sklearn import model_selection\n",
    "# from sklearn.preprocessing import normalize\n",
    "# from scipy.interpolate import interp2d\n",
    "# from sklearn.utils import class_weight\n",
    "\n",
    "import xbatcher\n",
    "\n",
    "from sklearn.utils import class_weight\n",
    "# import rasterio\n",
    "# # from rasterio.plot import show\n",
    "# import rioxarray as rio\n",
    "\n",
    "# # from bs4 import BeautifulSoup\n",
    "# # import requests\n",
    "\n",
    "\n",
    "#issues with numpy deprecation in pytorch_env\n",
    "from coralshift.processing import spatial_data\n",
    "from coralshift.utils import file_ops, directories\n",
    "from coralshift.plotting import spatial_plots, model_results\n",
    "from coralshift.dataloading import data_structure, climate_data\n",
    "\n",
    "from keras.models import Sequential\n",
    "from keras.layers import Conv3D\n",
    "from keras.layers import ConvLSTM2D\n",
    "from keras.layers import BatchNormalization\n",
    "# import keras\n",
    "import numpy as np\n",
    "import pylab as plt\n",
    "\n",
    "# from keras.layers import Flatten"
   ]
  },
  {
   "cell_type": "code",
   "execution_count": 25,
   "metadata": {},
   "outputs": [
    {
     "name": "stdout",
     "output_type": "stream",
     "text": [
      "Mon Jun 12 16:05:29 2023       \n",
      "+-----------------------------------------------------------------------------+\n",
      "| NVIDIA-SMI 460.91.03    Driver Version: 460.91.03    CUDA Version: 11.3     |\n",
      "|-------------------------------+----------------------+----------------------+\n",
      "| GPU  Name        Persistence-M| Bus-Id        Disp.A | Volatile Uncorr. ECC |\n",
      "| Fan  Temp  Perf  Pwr:Usage/Cap|         Memory-Usage | GPU-Util  Compute M. |\n",
      "|                               |                      |               MIG M. |\n",
      "|===============================+======================+======================|\n",
      "|   0  Tesla V100-SXM2...  Off  | 00000000:85:00.0 Off |                    0 |\n",
      "| N/A   31C    P0    46W / 163W |  31984MiB / 32510MiB |      0%      Default |\n",
      "|                               |                      |                  N/A |\n",
      "+-------------------------------+----------------------+----------------------+\n",
      "|   1  Tesla V100-SXM2...  Off  | 00000000:86:00.0 Off |                    0 |\n",
      "| N/A   32C    P0    48W / 163W |  31984MiB / 32510MiB |      0%      Default |\n",
      "|                               |                      |                  N/A |\n",
      "+-------------------------------+----------------------+----------------------+\n",
      "                                                                               \n",
      "+-----------------------------------------------------------------------------+\n",
      "| Processes:                                                                  |\n",
      "|  GPU   GI   CI        PID   Type   Process name                  GPU Memory |\n",
      "|        ID   ID                                                   Usage      |\n",
      "|=============================================================================|\n",
      "+-----------------------------------------------------------------------------+\n",
      "[PhysicalDevice(name='/physical_device:CPU:0', device_type='CPU'), PhysicalDevice(name='/physical_device:GPU:0', device_type='GPU'), PhysicalDevice(name='/physical_device:GPU:1', device_type='GPU')]\n"
     ]
    }
   ],
   "source": [
    "!nvidia-smi\n",
    "print(tf.config.list_physical_devices())"
   ]
  },
  {
   "cell_type": "code",
   "execution_count": 5,
   "metadata": {},
   "outputs": [],
   "source": [
    "\n",
    "def calc_class_weights_dict(ys: np.array) -> dict:\n",
    "    y_vals = np.unique(ys)\n",
    "    weight_list = class_weight.compute_class_weight('balanced', classes=y_vals, y=np.reshape(ys,-1))\n",
    "    weight_dict = {}\n",
    "    for i, val in enumerate(y_vals):\n",
    "        weight_dict[val] = weight_list[i]\n",
    "\n",
    "    return weight_dict\n",
    "\n",
    "def negative_log_likelihood(y: np.ndarray, y_pred: np.ndarray, class_weights: np.ndarray = None) -> float:\n",
    "    \"\"\"Compute binary cross-entropy loss between ground-truth binary labels and predicted probabilities,\n",
    "    incorporating class weights.\n",
    "\n",
    "    Parameters\n",
    "    ----------\n",
    "    y (np.ndarray): true binary labels, where 0 represents the negative class\n",
    "    y_pred (np.ndarray): predicted labels (as probability value between 0 and 1)\n",
    "    class_weights (np.ndarray): weights for each class. If None, no class weights will be applied.\n",
    "\n",
    "    Returns\n",
    "    -------\n",
    "    float: negative log likelihood loss computed using binary cross-entropy loss between 'y' and 'y_pred',\n",
    "    incorporating class weights if provided\n",
    "    \"\"\"\n",
    "    bce = tf.keras.losses.BinaryCrossentropy()  \n",
    "\n",
    "    if class_weights is not None:\n",
    "        sample_weights = tf.gather(class_weights, np.asarray(y,dtype=np.int32))\n",
    "        return bce(y, y_pred, sample_weight=sample_weights)\n",
    "\n",
    "    return bce(y, y_pred)\n"
   ]
  },
  {
   "cell_type": "code",
   "execution_count": 6,
   "metadata": {},
   "outputs": [],
   "source": [
    "ds_man = data_structure.MyDatasets()\n",
    "ds_man.set_location(location)\n",
    "\n",
    "noaa_features = ['mlotst', 'bottomT', 'uo', 'so', 'zos', 'thetao', 'vo']\n",
    "\n",
    "# TODO: transparency in preprocessing to get to this (probably split into separate gt datarray)\n",
    "ds_man.add_dataset(\n",
    "    \"monthly_climate_1_12\", xa.open_dataset(\n",
    "        ds_man.get_location() / \"global_ocean_reanalysis/monthly_means/coral_climate_1_12.nc\")\n",
    ")\n",
    "\n",
    "ds_man.add_dataset(\n",
    "    \"monthly_climate_features\", ds_man.get_dataset(\"monthly_climate_1_12\")[noaa_features]\n",
    ")\n",
    "\n",
    "# # ds_man.add_dataset(\n",
    "# #     \"monthly_climate_1_12_X_y_np\", spatial_data.filter_out_nans(\n",
    "# #         spatial_data.xa_ds_to_3d_numpy(ds_man.get_dataset(\"monthly_climate_1_12\")), \n",
    "# #         np.array(ds_man.get_dataset(\"monthly_climate_1_12\")[\"coral_algae_1-12_degree\"].isel(time=-1)).reshape(-1, 1))\n",
    "# # )\n",
    "# ds_man.add_datasets(\n",
    "#     [\"monthly_climate_1_12_X\", \"monthly_climate_1_12_y\"], \n",
    "#         spatial_data.process_xa_ds_for_ml(ds_man.get_dataset(\"monthly_climate_1_12\"), \n",
    "#         feature_vars=noaa_features, gt_var=\"coral_algae_1-12_degree\")\n",
    "# )\n",
    "\n",
    "# # TODO: handle depth\n",
    "# ds_man.add_dataset(\n",
    "#     \"daily_climate_1_12\", spatial_data.generate_and_add_gt_to_xa_d(xa.open_dataset(\n",
    "#         Path(ds_man.get_location() / \"global_ocean_reanalysis/daily_means/dailies_combined.nc\")).isel(depth=0),\n",
    "#         ds_man.get_dataset(\"monthly_climate_1_12\")[\"coral_algae_1-12_degree\"])\n",
    "# )\n",
    "\n",
    "# # TODO: streamline checking and saving process\n",
    "# daily_climate_1_12_X_file_path = ds_man.get_location() / \"global_ocean_reanalysis/daily_means/daily_climate_1_12_X.npy\"\n",
    "# # if daily_climate_1_12_X numpy array doesn't exist, generate and save\n",
    "# if not file_ops.check_file_exists(filepath = daily_climate_1_12_X_file_path):\n",
    "#     daily_climate_1_12_X = spatial_data.process_xa_ds_for_ml(ds_man.get_dataset(\"daily_climate_1_12\"),\n",
    "#         feature_vars = noaa_features)\n",
    "#     np.save(daily_climate_1_12_X_file_path, daily_climate_1_12_X) \n",
    "#     ds_man.add_dataset(\"daily_climate_1_12_X\", np.load(daily_climate_1_12_X_file_path))\n",
    "# else:\n",
    "#     ds_man.add_dataset(\"daily_climate_1_12_X\", np.load(daily_climate_1_12_X_file_path))\n",
    "\n",
    "# daily_climate_1_12_padded_1_file_path = ds_man.get_location() / \"global_ocean_reanalysis/daily_means/daily_climate_1_12_padded_1.nc\"\n",
    "# # if daily_climate_1_12_padded_1 .nc file doesn't exist, generate and save\n",
    "# if not file_ops.check_file_exists(filepath = daily_climate_1_12_padded_1_file_path):\n",
    "#     daily_climate_1_12_padded_1 = spatial_data.spatially_buffer_timeseries(\n",
    "#         ds_man.get_dataset(\"daily_climate_1_12\"), buffer_size=1, exclude_vars = [\"spatial_ref\", \"coral_algae_gt\"])\n",
    "#     daily_climate_1_12_padded_1.to_netcdf(filepath = daily_climate_1_12_padded_1_file_path)\n",
    "#     ds_man.add_dataset(\"daily_climate_1_12_padded_1\", xa.open_dataset(daily_climate_1_12_padded_1_file_path))\n",
    "# else:\n",
    "#     ds_man.add_dataset(\"daily_climate_1_12_padded_1\", xa.open_dataset(daily_climate_1_12_padded_1_file_path))\n",
    "\n",
    "# # add in ground truth to padded\n",
    "# ds_man.add_dataset(\n",
    "#     \"daily_climate_1_12_padded_1_gt\", spatial_data.generate_and_add_gt_to_xa_d(\n",
    "#         ds_man.get_dataset(\"daily_climate_1_12_padded_1\"),\n",
    "#         ds_man.get_dataset(\"monthly_climate_1_12\")[\"coral_algae_1-12_degree\"])\n",
    "# )\n",
    "\n",
    "# ds_man.add_dataset(\n",
    "#     \"bathymetry_A\", rio.open_rasterio(\n",
    "#         rasterio.open(ds_man.get_location() / \"bathymetry/GBR_30m/Great_Barrier_Reef_A_2020_30m_MSL_cog.tif\"),\n",
    "#         ).rename(\"bathymetry_A\").rename({\"x\": \"longitude\", \"y\": \"latitude\"})\n",
    "# )"
   ]
  },
  {
   "cell_type": "code",
   "execution_count": 7,
   "metadata": {},
   "outputs": [],
   "source": [
    "# xa_coral_climate_1_12_features = ds_man.get_dataset(\"monthly_climate_features\")\n",
    "xa_coral_climate_1_12 = ds_man.get_dataset(\"monthly_climate_1_12\")\n",
    "\n",
    "# xa_coral_climate_1_12_working = xa_coral_climate_1_12"
   ]
  },
  {
   "cell_type": "code",
   "execution_count": 9,
   "metadata": {},
   "outputs": [
    {
     "name": "stderr",
     "output_type": "stream",
     "text": [
      "/lustre_scratch/orlando-code/coralshift/coralshift/processing/spatial_data.py:1062: UserWarning: rename 'latitude' to 'latitude' does not create an index anymore. Try using swap_dims instead or use set_index after rename to create an indexed coordinate.\n",
      "  temp_xa_d = xa_d.rename(\n",
      "/lustre_scratch/orlando-code/coralshift/coralshift/processing/spatial_data.py:1062: UserWarning: rename 'longitude' to 'longitude' does not create an index anymore. Try using swap_dims instead or use set_index after rename to create an indexed coordinate.\n",
      "  temp_xa_d = xa_d.rename(\n",
      "/lustre_scratch/orlando-code/coralshift/coralshift/processing/spatial_data.py:1062: UserWarning: rename 'time' to 'time' does not create an index anymore. Try using swap_dims instead or use set_index after rename to create an indexed coordinate.\n",
      "  temp_xa_d = xa_d.rename(\n",
      "/lustre_scratch/orlando-code/coralshift/coralshift/processing/spatial_data.py:1062: UserWarning: rename 'latitude' to 'latitude' does not create an index anymore. Try using swap_dims instead or use set_index after rename to create an indexed coordinate.\n",
      "  temp_xa_d = xa_d.rename(\n",
      "/lustre_scratch/orlando-code/coralshift/coralshift/processing/spatial_data.py:1062: UserWarning: rename 'longitude' to 'longitude' does not create an index anymore. Try using swap_dims instead or use set_index after rename to create an indexed coordinate.\n",
      "  temp_xa_d = xa_d.rename(\n",
      "/lustre_scratch/orlando-code/coralshift/coralshift/processing/spatial_data.py:1062: UserWarning: rename 'time' to 'time' does not create an index anymore. Try using swap_dims instead or use set_index after rename to create an indexed coordinate.\n",
      "  temp_xa_d = xa_d.rename(\n"
     ]
    },
    {
     "name": "stdout",
     "output_type": "stream",
     "text": [
      "train_Xs shape:  (5184, 336, 8) train_ys shape:  (5184, 336)\n",
      "test_Xs shape:  (5184, 336, 8) test_ys shape:  (5184, 336)\n",
      "train_spatial_Xs shape:  (72, 72, 336, 8) train_spatial_ys shape:  (72, 72)\n",
      "test_spatial_Xs shape:  (72, 72, 336, 8) test_spatial_ys shape:  (72, 72)\n"
     ]
    }
   ],
   "source": [
    "\n",
    "(train_Xs, train_ys), train_subsample, train_lat_lons_vals_dict = spatial_data.generate_patch(xa_ds=xa_coral_climate_1_12, lat_lon_starts=(-10,142), coord_range=(-6,6), onehot=True)\n",
    "(test_Xs, test_ys), test_subsample, test_lat_lons_vals_dict = spatial_data.generate_patch(xa_ds=xa_coral_climate_1_12, lat_lon_starts=(-10,142), coord_range=(-6,6))\n",
    "\n",
    "print(\"train_Xs shape: \", train_Xs.shape, \"train_ys shape: \", train_ys.shape)\n",
    "print(\"test_Xs shape: \", test_Xs.shape, \"test_ys shape: \", test_ys.shape)\n",
    "\n",
    "train_spatial_Xs = train_Xs.reshape((72,72,336,8))\n",
    "train_spatial_ys = train_ys.reshape((72,72,336))[:,:,0].squeeze()\n",
    "test_spatial_Xs = test_Xs.reshape((72,72,336,8))\n",
    "test_spatial_ys = test_ys.reshape((72,72,336))[:,:,0].squeeze()\n",
    "\n",
    "\n",
    "\n",
    "# train_Xs_lstm_shape = train_Xs_lstm.shape\n",
    "# train_ys_lstm_shape = train_ys_lstm.shape\n",
    "# test_Xs_lstm_shape = test_Xs_lstm.shape\n",
    "# test_ys_lstm_shape = test_ys_lstm.shape\n",
    "\n",
    "# train_Xs_convlstm = train_Xs_lstm.reshape(\n",
    "#     int(np.sqrt(train_Xs_lstm_shape[0])), int(np.sqrt(train_Xs_lstm_shape[0])),train_Xs_lstm_shape[1],train_Xs_lstm_shape[2])\n",
    "# train_ys_convlstm = train_ys_lstm.reshape(\n",
    "#     int(np.sqrt(train_ys_lstm_shape[0])), int(np.sqrt(train_ys_lstm_shape[0])), train_ys_lstm_shape[1])\n",
    "\n",
    "# test_Xs_convlstm = test_Xs_lstm.reshape(\n",
    "#     int(np.sqrt(test_Xs_lstm_shape[0])), int(np.sqrt(test_Xs_lstm_shape[0])),test_Xs_lstm_shape[1],test_Xs_lstm_shape[2])\n",
    "# test_ys_convlstm = test_ys_lstm.reshape(\n",
    "#     int(np.sqrt(test_ys_lstm_shape[0])), int(np.sqrt(test_ys_lstm_shape[0])), test_ys_lstm_shape[1])\n",
    "\n",
    "\n",
    "\n",
    "# train_spatial_Xs = train_Xs.reshape((72,72,336,8))\n",
    "# train_spatial_ys = train_ys.reshape((72,72,336))[:,:,0].squeeze()\n",
    "# test_spatial_Xs = test_Xs.reshape((72,72,336,8))\n",
    "# test_spatial_ys = test_ys.reshape((72,72,336))[:,:,0].squeeze()\n",
    "\n",
    "print(\"train_spatial_Xs shape: \", train_spatial_Xs.shape, \"train_spatial_ys shape: \", train_spatial_ys.shape)\n",
    "print(\"test_spatial_Xs shape: \", test_spatial_Xs.shape, \"test_spatial_ys shape: \", test_spatial_ys.shape)"
   ]
  },
  {
   "cell_type": "code",
   "execution_count": 10,
   "metadata": {},
   "outputs": [
    {
     "name": "stdout",
     "output_type": "stream",
     "text": [
      "For reference: (num_samples, sequence_length, width, height, num_features)\n",
      "padded_spatial_Xs shape:  (5, 10, 72, 72, 8) padded_spatial_ys shape:  (5, 10, 72, 72, 8)\n"
     ]
    }
   ],
   "source": [
    "num_samples = 5\n",
    "\n",
    "spatial_Xs = train_spatial_Xs\n",
    "spatial_ys = train_spatial_ys\n",
    "\n",
    "# Move the axes to the desired positions\n",
    "# Repeat the array 100 times along the first axis\n",
    "padded_spatial_Xs = np.tile(np.moveaxis(spatial_Xs, [0, 1, 2, 3], [1, 2, 0, 3]), (num_samples, 1, 1, 1, 1)).astype(\"float16\")[:,-10:,...]\n",
    "# padded_spatial_Xs.shape\n",
    "\n",
    "# Add an extra dimension at axis 1\n",
    "# Repeat the array num_samples times along the first axis and 3 times along the last axis\n",
    "padded_spatial_ys = np.tile(np.expand_dims(spatial_ys, axis=(0,1,4)), (num_samples, 336, 1, 1, 8)).astype(\"int8\")[:,-10:,...]\n",
    "\n",
    "print(\"For reference: (num_samples, sequence_length, width, height, num_features)\")\n",
    "print(\"padded_spatial_Xs shape: \", padded_spatial_Xs.shape, \"padded_spatial_ys shape: \", padded_spatial_ys.shape)"
   ]
  },
  {
   "cell_type": "code",
   "execution_count": null,
   "metadata": {},
   "outputs": [],
   "source": [
    "# # These are the usual ipython objects, including this one you are creating\n",
    "# ipython_vars = ['In', 'Out', 'exit', 'quit', 'get_ipython', 'ipython_vars']\n",
    "\n",
    "# # Get a sorted list of the objects and their sizes\n",
    "# list_of_sizes = sorted([(x, sys.getsizeof(globals().get(x))/1e6) for x in dir() if not x.startswith('_') and x not in sys.modules and x not in ipython_vars], key=lambda x: x[1], reverse=True)\n",
    "# print(\"MB\", list_of_sizes)"
   ]
  },
  {
   "cell_type": "code",
   "execution_count": null,
   "metadata": {},
   "outputs": [
    {
     "data": {
      "text/plain": [
       "{0: 0.5849695328368314, 1: 3.442231075697211}"
      ]
     },
     "execution_count": 265,
     "metadata": {},
     "output_type": "execute_result"
    }
   ],
   "source": [
    "class_weights = calc_class_weights_dict(padded_spatial_ys[0,0,:,:,0])\n",
    "class_weights"
   ]
  },
  {
   "cell_type": "code",
   "execution_count": 22,
   "metadata": {},
   "outputs": [
    {
     "data": {
      "text/plain": [
       "(72, 72)"
      ]
     },
     "execution_count": 22,
     "metadata": {},
     "output_type": "execute_result"
    }
   ],
   "source": [
    "train_spatial_ys.shape"
   ]
  },
  {
   "cell_type": "code",
   "execution_count": 24,
   "metadata": {},
   "outputs": [
    {
     "data": {
      "text/plain": [
       "<matplotlib.image.AxesImage at 0x7f1224a097e0>"
      ]
     },
     "execution_count": 24,
     "metadata": {},
     "output_type": "execute_result"
    },
    {
     "data": {
      "image/png": "[encoded data removed]",
      "text/plain": [
       "<Figure size 640x480 with 1 Axes>"
      ]
     },
     "metadata": {},
     "output_type": "display_data"
    }
   ],
   "source": [
    "plt.imshow(train_spatial_ys)"
   ]
  },
  {
   "cell_type": "code",
   "execution_count": 26,
   "metadata": {},
   "outputs": [
    {
     "name": "stdout",
     "output_type": "stream",
     "text": [
      "INFO:tensorflow:Using MirroredStrategy with devices ('/job:localhost/replica:0/task:0/device:GPU:0', '/job:localhost/replica:0/task:0/device:GPU:1')\n"
     ]
    }
   ],
   "source": [
    "# Construct the input layer with no definite frame size.\n",
    "inp = layers.Input(shape=(None, *padded_spatial_Xs.shape[2:]))\n",
    "# inp = layers.Input(shape=(None, *x_train.shape[2:]))\n",
    "\n",
    "# TODO: add config file, potentially with smaller learning rate\n",
    "# https://stackoverflow.com/questions/40050397/deep-learning-nan-loss-reasons\n",
    "# mirrored_strategy leads to nan loss values\n",
    "mirrored_strategy = tf.distribute.MirroredStrategy()\n",
    "\n",
    "with mirrored_strategy.scope():\n",
    "\n",
    "    # We will construct 3 `ConvLSTM2D` layers with batch normalization\n",
    "    # \n",
    "    x = layers.ConvLSTM2D(\n",
    "        filters=64,\n",
    "        kernel_size=(5, 5),\n",
    "        padding=\"same\",\n",
    "        return_sequences=True,\n",
    "        activation=\"relu\",\n",
    "    )(inp)\n",
    "    x = layers.BatchNormalization()(x)\n",
    "    x = layers.ConvLSTM2D(\n",
    "        filters=64,\n",
    "        kernel_size=(3, 3),\n",
    "        padding=\"same\",\n",
    "        return_sequences=True,\n",
    "        activation=\"relu\",\n",
    "    )(x)\n",
    "    x = layers.BatchNormalization()(x)\n",
    "    x = layers.ConvLSTM2D(\n",
    "        filters=64,\n",
    "        kernel_size=(1, 1),\n",
    "        padding=\"same\",\n",
    "        return_sequences=False,\n",
    "        activation=\"relu\",\n",
    "    )(x)\n",
    "\n",
    "    # Reshape the output tensor to match the target shape (num_samples, 1, rows, cols, 1)\n",
    "    # x = layers.Reshape((1, *x.shape[2:]))(x)\n",
    "    x= layers.Dense(1)(x)\n",
    "\n",
    "    # # Add a final Conv3D layer for the spatiotemporal outputs\n",
    "    # x = layers.Conv3D(\n",
    "    #     filters=8, kernel_size=(3, 3, 3), activation=\"sigmoid\", padding=\"same\"\n",
    "    # )(x)\n",
    "\n",
    "    # Next, we will build the complete model and compile it.\n",
    "    model = models.Model(inp, x)\n",
    "\n",
    "    # TODO: include weighting of classes: https://stackoverflow.com/questions/46009619/keras-weighted-binary-crossentropy\n",
    "    model.compile(\n",
    "        loss=losses.binary_crossentropy,\n",
    "        optimizer=optimizers.Adam(learning_rate=1e-3),\n",
    "    )\n",
    "\n",
    "\n",
    "# with mirrored_strategy.scope():\n",
    "\n",
    "#     # We will construct 3 `ConvLSTM2D` layers with batch normalization,\n",
    "#     # followed by a `Conv3D` layer for the spatiotemporal outputs.\n",
    "\n",
    "#     # apply first layer to oinput layer and assign layer output to 'x'\n",
    "#     x = layers.ConvLSTM2D(\n",
    "#         filters=64,\n",
    "#         kernel_size=(5, 5),\n",
    "#         padding=\"same\",\n",
    "#         return_sequences=True,\n",
    "#         activation=\"relu\",\n",
    "#     )(inp)\n",
    "#     # apply subsequent layers to the output of the previous layer via 'x'\n",
    "#     x = layers.BatchNormalization()(x)\n",
    "#     x = layers.ConvLSTM2D(\n",
    "#         filters=64,\n",
    "#         kernel_size=(3, 3),\n",
    "#         padding=\"same\",\n",
    "#         return_sequences=True,\n",
    "#         activation=\"relu\",\n",
    "#     )(x)\n",
    "#     x = layers.BatchNormalization()(x)\n",
    "#     x = layers.ConvLSTM2D(\n",
    "#         filters=64,\n",
    "#         kernel_size=(1, 1),\n",
    "#         padding=\"same\",\n",
    "#         return_sequences=True,\n",
    "#         activation=\"relu\",\n",
    "#     )(x)\n",
    "#     x = layers.Conv3D(\n",
    "#         filters=8, kernel_size=(3, 3, 3), activation=\"sigmoid\", padding=\"same\",\n",
    "#         # filters=1, kernel_size=(3, 3, 3), activation=\"sigmoid\", padding=\"same\"\n",
    "#     )(x)\n",
    "#     # TODO: what happens if I replace the conv3D layer with e.g. a dense or third convlstm2d?\n",
    "\n",
    "#     # the model is constructed from the input layer and 'x', the output from the last layer\n",
    "#     model = models.Model(inp, x)\n",
    "\n",
    "    \n",
    "#     # TODO: include weighting of classes: https://stackoverflow.com/questions/46009619/keras-weighted-binary-crossentropy\n",
    "#     model.compile(\n",
    "#         loss=losses.binary_crossentropy, optimizer=optimizers.Adam(learning_rate=1e-3),\n",
    "#     )\n",
    "\n",
    "\n",
    "\n",
    "# We will construct 3 `ConvLSTM2D` layers with batch normalization,\n",
    "# followed by a `Conv3D` layer for the spatiotemporal outputs.\n",
    "# x = layers.ConvLSTM2D(\n",
    "#     filters=64,\n",
    "#     kernel_size=(5, 5),\n",
    "#     padding=\"same\",\n",
    "#     return_sequences=True,\n",
    "#     activation=\"relu\",\n",
    "# )(inp)\n",
    "# x = layers.BatchNormalization()(x)\n",
    "# x = layers.ConvLSTM2D(\n",
    "#     filters=64,\n",
    "#     kernel_size=(3, 3),\n",
    "#     padding=\"same\",\n",
    "#     return_sequences=True,\n",
    "#     activation=\"relu\",\n",
    "# )(x)\n",
    "# x = layers.BatchNormalization()(x)\n",
    "# x = layers.ConvLSTM2D(\n",
    "#     filters=64,\n",
    "#     kernel_size=(1, 1),\n",
    "#     padding=\"same\",\n",
    "#     return_sequences=True,\n",
    "#     activation=\"relu\",\n",
    "# )(x)\n",
    "# x = layers.Conv3D(\n",
    "#     filters=8, kernel_size=(3, 3, 3), activation=\"sigmoid\", padding=\"same\",\n",
    "#     # filters=1, kernel_size=(3, 3, 3), activation=\"sigmoid\", padding=\"same\"\n",
    "\n",
    "# )(x)\n",
    "\n",
    "# mirrored_strategy = tf.distribute.MirroredStrategy()\n",
    "\n",
    "# # Next, we will build the complete model and compile it.\n",
    "# model = keras.models.Model(inp, x)\n",
    "\n",
    "# model.compile(\n",
    "#     loss=keras.losses.binary_crossentropy, optimizer=keras.optimizers.Adam(learning_rate=1e-3),\n",
    "# )"
   ]
  },
  {
   "cell_type": "code",
   "execution_count": 27,
   "metadata": {},
   "outputs": [
    {
     "name": "stdout",
     "output_type": "stream",
     "text": [
      "Model: \"model_3\"\n",
      "_________________________________________________________________\n",
      " Layer (type)                Output Shape              Param #   \n",
      "=================================================================\n",
      " input_4 (InputLayer)        [(None, None, 72, 72, 8)  0         \n",
      "                             ]                                   \n",
      "                                                                 \n",
      " conv_lstm2d_9 (ConvLSTM2D)  (None, None, 72, 72, 64)  461056    \n",
      "                                                                 \n",
      " batch_normalization_6 (Batc  (None, None, 72, 72, 64)  256      \n",
      " hNormalization)                                                 \n",
      "                                                                 \n",
      " conv_lstm2d_10 (ConvLSTM2D)  (None, None, 72, 72, 64)  295168   \n",
      "                                                                 \n",
      " batch_normalization_7 (Batc  (None, None, 72, 72, 64)  256      \n",
      " hNormalization)                                                 \n",
      "                                                                 \n",
      " conv_lstm2d_11 (ConvLSTM2D)  (None, 72, 72, 64)       33024     \n",
      "                                                                 \n",
      " dense_3 (Dense)             (None, 72, 72, 1)         65        \n",
      "                                                                 \n",
      "=================================================================\n",
      "Total params: 789,825\n",
      "Trainable params: 789,569\n",
      "Non-trainable params: 256\n",
      "_________________________________________________________________\n"
     ]
    }
   ],
   "source": [
    "model.summary()"
   ]
  },
  {
   "cell_type": "code",
   "execution_count": 14,
   "metadata": {},
   "outputs": [
    {
     "data": {
      "text/plain": [
       "(5, 10, 72, 72, 8)"
      ]
     },
     "execution_count": 14,
     "metadata": {},
     "output_type": "execute_result"
    }
   ],
   "source": [
    "padded_spatial_Xs.shape"
   ]
  },
  {
   "cell_type": "code",
   "execution_count": 13,
   "metadata": {},
   "outputs": [
    {
     "name": "stdout",
     "output_type": "stream",
     "text": [
      "Epoch 1/4\n",
      "INFO:tensorflow:batch_all_reduce: 15 all-reduces with algorithm = nccl, num_packs = 1\n",
      "INFO:tensorflow:batch_all_reduce: 15 all-reduces with algorithm = nccl, num_packs = 1\n"
     ]
    },
    {
     "name": "stderr",
     "output_type": "stream",
     "text": [
      "2023-06-12 15:33:06.615818: I tensorflow/compiler/xla/stream_executor/cuda/cuda_dnn.cc:428] Loaded cuDNN version 8401\n",
      "2023-06-12 15:33:07.203671: I tensorflow/compiler/xla/stream_executor/cuda/cuda_dnn.cc:428] Loaded cuDNN version 8401\n",
      "libibverbs: Warning: couldn't open config directory '/etc/libibverbs.d'.\n",
      "2023-06-12 15:33:12.043406: I tensorflow/compiler/xla/service/service.cc:173] XLA service 0x7ef30c3119d0 initialized for platform CUDA (this does not guarantee that XLA will be used). Devices:\n",
      "2023-06-12 15:33:12.043485: I tensorflow/compiler/xla/service/service.cc:181]   StreamExecutor device (0): Tesla V100-SXM2-32GB-LS, Compute Capability 7.0\n",
      "2023-06-12 15:33:12.043500: I tensorflow/compiler/xla/service/service.cc:181]   StreamExecutor device (1): Tesla V100-SXM2-32GB-LS, Compute Capability 7.0\n",
      "2023-06-12 15:33:12.055179: I tensorflow/compiler/mlir/tensorflow/utils/dump_mlir_util.cc:268] disabling MLIR crash reproducer, set env var `MLIR_CRASH_REPRODUCER_DIRECTORY` to enable.\n",
      "2023-06-12 15:33:12.224036: I tensorflow/compiler/jit/xla_compilation_cache.cc:477] Compiled cluster using XLA!  This line is logged at most once for the lifetime of the process.\n"
     ]
    },
    {
     "name": "stdout",
     "output_type": "stream",
     "text": [
      "2/3 [===================>..........] - ETA: 0s - loss: 0.9909 "
     ]
    },
    {
     "name": "stderr",
     "output_type": "stream",
     "text": [
      "2023-06-12 15:33:13.784077: W tensorflow/core/framework/op_kernel.cc:1830] OP_REQUIRES failed at transpose_op.cc:142 : INVALID_ARGUMENT: transpose expects a vector of size 4. But input(1) is a vector of size 5\n"
     ]
    },
    {
     "ename": "InvalidArgumentError",
     "evalue": "Graph execution error:\n\n3 root error(s) found.\n  (0) INVALID_ARGUMENT:  transpose expects a vector of size 4. But input(1) is a vector of size 5\n\t [[{{node gradient_tape/replica_1/model_1/batch_normalization_3/FusedBatchNormGradV3-0-0-TransposeNCDHWToNDHWC-LayoutOptimizer}}]]\n\t [[update_1_15/AssignAddVariableOp/_949]]\n\t [[div_no_nan/ReadVariableOp_2/_924]]\n  (1) INVALID_ARGUMENT:  transpose expects a vector of size 4. But input(1) is a vector of size 5\n\t [[{{node gradient_tape/replica_1/model_1/batch_normalization_3/FusedBatchNormGradV3-0-0-TransposeNCDHWToNDHWC-LayoutOptimizer}}]]\n\t [[update_1_15/AssignAddVariableOp/_949]]\n  (2) INVALID_ARGUMENT:  transpose expects a vector of size 4. But input(1) is a vector of size 5\n\t [[{{node gradient_tape/replica_1/model_1/batch_normalization_3/FusedBatchNormGradV3-0-0-TransposeNCDHWToNDHWC-LayoutOptimizer}}]]\n0 successful operations.\n0 derived errors ignored. [Op:__inference_train_function_23130]",
     "output_type": "error",
     "traceback": [
      "\u001b[0;31m---------------------------------------------------------------------------\u001b[0m",
      "\u001b[0;31mInvalidArgumentError\u001b[0m                      Traceback (most recent call last)",
      "Cell \u001b[0;32mIn[13], line 24\u001b[0m\n\u001b[1;32m      7\u001b[0m batch_size \u001b[39m=\u001b[39m \u001b[39m2\u001b[39m\n\u001b[1;32m      9\u001b[0m \u001b[39m# Start a run, tracking hyperparameters\u001b[39;00m\n\u001b[1;32m     10\u001b[0m \u001b[39m# wandb.init(\u001b[39;00m\n\u001b[1;32m     11\u001b[0m \u001b[39m#     # set the wandb project where this run will be logged\u001b[39;00m\n\u001b[0;32m   (...)\u001b[0m\n\u001b[1;32m     22\u001b[0m \u001b[39m# with tf.device(\"/GPU:0\"):\u001b[39;00m\n\u001b[1;32m     23\u001b[0m \u001b[39m# Fit the model to the training data.\u001b[39;00m\n\u001b[0;32m---> 24\u001b[0m model\u001b[39m.\u001b[39;49mfit(\n\u001b[1;32m     25\u001b[0m     \u001b[39m# x_train,\u001b[39;49;00m\n\u001b[1;32m     26\u001b[0m     \u001b[39m# y_train,\u001b[39;49;00m\n\u001b[1;32m     27\u001b[0m     padded_spatial_Xs,\n\u001b[1;32m     28\u001b[0m     padded_spatial_ys,\n\u001b[1;32m     29\u001b[0m     \u001b[39m# class_weight=class_weights,\u001b[39;49;00m\n\u001b[1;32m     30\u001b[0m     batch_size\u001b[39m=\u001b[39;49mbatch_size,\n\u001b[1;32m     31\u001b[0m     epochs\u001b[39m=\u001b[39;49mepochs,\n\u001b[1;32m     32\u001b[0m     \u001b[39m# validation_data=(x_val, y_val),\u001b[39;49;00m\n\u001b[1;32m     33\u001b[0m     validation_data\u001b[39m=\u001b[39;49m(padded_spatial_Xs[\u001b[39m-\u001b[39;49m\u001b[39m10\u001b[39;49m:], padded_spatial_ys[\u001b[39m-\u001b[39;49m\u001b[39m10\u001b[39;49m:]),\n\u001b[1;32m     34\u001b[0m     callbacks\u001b[39m=\u001b[39;49m[early_stopping, reduce_lr,\n\u001b[1;32m     35\u001b[0m         \u001b[39m# WandbMetricsLogger(log_freq=5), WandbModelCheckpoint(\"models\"),\u001b[39;49;00m\n\u001b[1;32m     36\u001b[0m         \u001b[39m# WandbCallback(training_data=(padded_spatial_Xs,padded_spatial_ys), log_weights=True, log_gradients=True)\u001b[39;49;00m\n\u001b[1;32m     37\u001b[0m ])\n\u001b[1;32m     39\u001b[0m \u001b[39m# wandb.finish()\u001b[39;00m\n",
      "File \u001b[0;32m~/lustre_scratch/conda-envs/coralshift/lib/python3.10/site-packages/wandb/integration/keras/keras.py:174\u001b[0m, in \u001b[0;36mpatch_tf_keras.<locals>.new_v2\u001b[0;34m(*args, **kwargs)\u001b[0m\n\u001b[1;32m    172\u001b[0m     \u001b[39mfor\u001b[39;00m cbk \u001b[39min\u001b[39;00m cbks:\n\u001b[1;32m    173\u001b[0m         set_wandb_attrs(cbk, val_data)\n\u001b[0;32m--> 174\u001b[0m \u001b[39mreturn\u001b[39;00m old_v2(\u001b[39m*\u001b[39;49margs, \u001b[39m*\u001b[39;49m\u001b[39m*\u001b[39;49mkwargs)\n",
      "File \u001b[0;32m~/lustre_scratch/conda-envs/coralshift/lib/python3.10/site-packages/wandb/integration/keras/keras.py:174\u001b[0m, in \u001b[0;36mpatch_tf_keras.<locals>.new_v2\u001b[0;34m(*args, **kwargs)\u001b[0m\n\u001b[1;32m    172\u001b[0m     \u001b[39mfor\u001b[39;00m cbk \u001b[39min\u001b[39;00m cbks:\n\u001b[1;32m    173\u001b[0m         set_wandb_attrs(cbk, val_data)\n\u001b[0;32m--> 174\u001b[0m \u001b[39mreturn\u001b[39;00m old_v2(\u001b[39m*\u001b[39;49margs, \u001b[39m*\u001b[39;49m\u001b[39m*\u001b[39;49mkwargs)\n",
      "File \u001b[0;32m~/lustre_scratch/conda-envs/coralshift/lib/python3.10/site-packages/wandb/integration/keras/keras.py:174\u001b[0m, in \u001b[0;36mpatch_tf_keras.<locals>.new_v2\u001b[0;34m(*args, **kwargs)\u001b[0m\n\u001b[1;32m    172\u001b[0m     \u001b[39mfor\u001b[39;00m cbk \u001b[39min\u001b[39;00m cbks:\n\u001b[1;32m    173\u001b[0m         set_wandb_attrs(cbk, val_data)\n\u001b[0;32m--> 174\u001b[0m \u001b[39mreturn\u001b[39;00m old_v2(\u001b[39m*\u001b[39;49margs, \u001b[39m*\u001b[39;49m\u001b[39m*\u001b[39;49mkwargs)\n",
      "File \u001b[0;32m~/lustre_scratch/conda-envs/coralshift/lib/python3.10/site-packages/keras/utils/traceback_utils.py:70\u001b[0m, in \u001b[0;36mfilter_traceback.<locals>.error_handler\u001b[0;34m(*args, **kwargs)\u001b[0m\n\u001b[1;32m     67\u001b[0m     filtered_tb \u001b[39m=\u001b[39m _process_traceback_frames(e\u001b[39m.\u001b[39m__traceback__)\n\u001b[1;32m     68\u001b[0m     \u001b[39m# To get the full stack trace, call:\u001b[39;00m\n\u001b[1;32m     69\u001b[0m     \u001b[39m# `tf.debugging.disable_traceback_filtering()`\u001b[39;00m\n\u001b[0;32m---> 70\u001b[0m     \u001b[39mraise\u001b[39;00m e\u001b[39m.\u001b[39mwith_traceback(filtered_tb) \u001b[39mfrom\u001b[39;00m \u001b[39mNone\u001b[39;00m\n\u001b[1;32m     71\u001b[0m \u001b[39mfinally\u001b[39;00m:\n\u001b[1;32m     72\u001b[0m     \u001b[39mdel\u001b[39;00m filtered_tb\n",
      "File \u001b[0;32m~/lustre_scratch/conda-envs/coralshift/lib/python3.10/site-packages/tensorflow/python/eager/execute.py:52\u001b[0m, in \u001b[0;36mquick_execute\u001b[0;34m(op_name, num_outputs, inputs, attrs, ctx, name)\u001b[0m\n\u001b[1;32m     50\u001b[0m \u001b[39mtry\u001b[39;00m:\n\u001b[1;32m     51\u001b[0m   ctx\u001b[39m.\u001b[39mensure_initialized()\n\u001b[0;32m---> 52\u001b[0m   tensors \u001b[39m=\u001b[39m pywrap_tfe\u001b[39m.\u001b[39mTFE_Py_Execute(ctx\u001b[39m.\u001b[39m_handle, device_name, op_name,\n\u001b[1;32m     53\u001b[0m                                       inputs, attrs, num_outputs)\n\u001b[1;32m     54\u001b[0m \u001b[39mexcept\u001b[39;00m core\u001b[39m.\u001b[39m_NotOkStatusException \u001b[39mas\u001b[39;00m e:\n\u001b[1;32m     55\u001b[0m   \u001b[39mif\u001b[39;00m name \u001b[39mis\u001b[39;00m \u001b[39mnot\u001b[39;00m \u001b[39mNone\u001b[39;00m:\n",
      "\u001b[0;31mInvalidArgumentError\u001b[0m: Graph execution error:\n\n3 root error(s) found.\n  (0) INVALID_ARGUMENT:  transpose expects a vector of size 4. But input(1) is a vector of size 5\n\t [[{{node gradient_tape/replica_1/model_1/batch_normalization_3/FusedBatchNormGradV3-0-0-TransposeNCDHWToNDHWC-LayoutOptimizer}}]]\n\t [[update_1_15/AssignAddVariableOp/_949]]\n\t [[div_no_nan/ReadVariableOp_2/_924]]\n  (1) INVALID_ARGUMENT:  transpose expects a vector of size 4. But input(1) is a vector of size 5\n\t [[{{node gradient_tape/replica_1/model_1/batch_normalization_3/FusedBatchNormGradV3-0-0-TransposeNCDHWToNDHWC-LayoutOptimizer}}]]\n\t [[update_1_15/AssignAddVariableOp/_949]]\n  (2) INVALID_ARGUMENT:  transpose expects a vector of size 4. But input(1) is a vector of size 5\n\t [[{{node gradient_tape/replica_1/model_1/batch_normalization_3/FusedBatchNormGradV3-0-0-TransposeNCDHWToNDHWC-LayoutOptimizer}}]]\n0 successful operations.\n0 derived errors ignored. [Op:__inference_train_function_23130]"
     ]
    }
   ],
   "source": [
    "# Define some callbacks to improve training. Patience measured in number of epochs.\n",
    "early_stopping = callbacks.EarlyStopping(monitor=\"val_loss\", patience=10)\n",
    "reduce_lr = callbacks.ReduceLROnPlateau(monitor=\"val_loss\", patience=5)\n",
    "\n",
    "# Define modifiable training hyperparameters.\n",
    "epochs = 4\n",
    "batch_size = 2\n",
    "\n",
    "# Start a run, tracking hyperparameters\n",
    "# wandb.init(\n",
    "#     # set the wandb project where this run will be logged\n",
    "#     project=\"coralshift_test\",\n",
    "# )\n",
    "\n",
    "# class myCallback(tf.keras.callbacks.Callback):\n",
    "#     def on_epoch_end(self, epoch, logs={}):\n",
    "#         print(np.sum(model.trainable_variables))\n",
    "# my_callback = myCallback()\n",
    "\n",
    "\n",
    "\n",
    "# with tf.device(\"/GPU:0\"):\n",
    "# Fit the model to the training data.\n",
    "model.fit(\n",
    "    # x_train,\n",
    "    # y_train,\n",
    "    padded_spatial_Xs,\n",
    "    padded_spatial_ys,\n",
    "    # class_weight=class_weights,\n",
    "    batch_size=batch_size,\n",
    "    epochs=epochs,\n",
    "    # validation_data=(x_val, y_val),\n",
    "    validation_data=(padded_spatial_Xs[-10:], padded_spatial_ys[-10:]),\n",
    "    callbacks=[early_stopping, reduce_lr,\n",
    "        # WandbMetricsLogger(log_freq=5), WandbModelCheckpoint(\"models\"),\n",
    "        # WandbCallback(training_data=(padded_spatial_Xs,padded_spatial_ys), log_weights=True, log_gradients=True)\n",
    "])\n",
    "\n",
    "# wandb.finish()"
   ]
  },
  {
   "cell_type": "code",
   "execution_count": 104,
   "metadata": {},
   "outputs": [
    {
     "data": {
      "text/plain": [
       "array([0.58496953, 3.44223108])"
      ]
     },
     "execution_count": 104,
     "metadata": {},
     "output_type": "execute_result"
    }
   ],
   "source": [
    "class_weights"
   ]
  },
  {
   "cell_type": "code",
   "execution_count": 149,
   "metadata": {},
   "outputs": [
    {
     "name": "stdout",
     "output_type": "stream",
     "text": [
      "4/4 [==============================] - 1s 164ms/step\n"
     ]
    }
   ],
   "source": [
    "pred = model.predict(padded_spatial_Xs)"
   ]
  },
  {
   "cell_type": "code",
   "execution_count": 150,
   "metadata": {},
   "outputs": [
    {
     "data": {
      "text/plain": [
       "(100, 12, 72, 72, 8)"
      ]
     },
     "execution_count": 150,
     "metadata": {},
     "output_type": "execute_result"
    }
   ],
   "source": [
    "padded_spatial_Xs.shape"
   ]
  },
  {
   "cell_type": "code",
   "execution_count": 146,
   "metadata": {},
   "outputs": [
    {
     "data": {
      "text/plain": [
       "(100, 12, 72, 72, 1)"
      ]
     },
     "execution_count": 146,
     "metadata": {},
     "output_type": "execute_result"
    }
   ],
   "source": [
    "pred.shape"
   ]
  },
  {
   "cell_type": "code",
   "execution_count": 153,
   "metadata": {},
   "outputs": [
    {
     "data": {
      "image/png": "[encoded data removed]",
      "text/plain": [
       "<Figure size 640x480 with 2 Axes>"
      ]
     },
     "metadata": {},
     "output_type": "display_data"
    }
   ],
   "source": [
    "f,ax = plt.subplots(1,2)\n",
    "im = ax[0].imshow(pred[0,0,:,:,0])\n",
    "im2 = ax[1].imshow(padded_spatial_ys[0,0,:,:,0])\n",
    "# f.colorbar(im)"
   ]
  },
  {
   "cell_type": "code",
   "execution_count": null,
   "metadata": {},
   "outputs": [],
   "source": [
    "# # inputs of form: (samples, seq_length, height, width, features)\n",
    "# # output will have a single feature: the ground truth\n",
    "# # where samples here are different snapshots of the landscape: will want to set\n",
    "# # up so can control geographically where they're (seq_length, height, width, features) \n",
    "# # drawn from \n",
    "# input_array = np.random.uniform(low=0, high=10, size=(100, 5, 40, 40, 3))\n",
    "# label_array = np.random.choice([0, 1], size=(100, 1, 40, 40, 3))\n",
    "\n",
    "# print(\"input_array shape: \", input_array.shape)\n",
    "# print(\"label_array shape: \", label_array.shape)\n",
    "\n",
    "# # generate 10 samples (10 chunks sent to ml-processed numpy arrays)\n",
    "\n"
   ]
  },
  {
   "cell_type": "code",
   "execution_count": 22,
   "metadata": {},
   "outputs": [
    {
     "ename": "NameError",
     "evalue": "name 'keras' is not defined",
     "output_type": "error",
     "traceback": [
      "\u001b[0;31m---------------------------------------------------------------------------\u001b[0m",
      "\u001b[0;31mNameError\u001b[0m                                 Traceback (most recent call last)",
      "Cell \u001b[0;32mIn[22], line 16\u001b[0m\n\u001b[1;32m     12\u001b[0m \u001b[39m# rows, cols = 40, 40\u001b[39;00m\n\u001b[1;32m     13\u001b[0m kernel_dim \u001b[39m=\u001b[39m \u001b[39m3\u001b[39m\n\u001b[0;32m---> 16\u001b[0m \u001b[39minput\u001b[39m \u001b[39m=\u001b[39m keras\u001b[39m.\u001b[39mInput(shape\u001b[39m=\u001b[39m(len_seq, rows, cols, num_features),name\u001b[39m=\u001b[39m\u001b[39m\"\u001b[39m\u001b[39minput\u001b[39m\u001b[39m\"\u001b[39m)\n\u001b[1;32m     18\u001b[0m \u001b[39m# class myConvLSTM:\u001b[39;00m\n\u001b[1;32m     19\u001b[0m \n\u001b[1;32m     20\u001b[0m     \u001b[39m# def model_structure(filters, kernel_dim)\u001b[39;00m\n\u001b[1;32m     21\u001b[0m seq\u001b[39m.\u001b[39madd(ConvLSTM2D(filters\u001b[39m=\u001b[39mfilters, kernel_size\u001b[39m=\u001b[39m(kernel_dim, kernel_dim),\n\u001b[1;32m     22\u001b[0m                 data_format\u001b[39m=\u001b[39m\u001b[39m\"\u001b[39m\u001b[39mchannels_first\u001b[39m\u001b[39m\"\u001b[39m, recurrent_activation\u001b[39m=\u001b[39m\u001b[39m\"\u001b[39m\u001b[39mhard_sigmoid\u001b[39m\u001b[39m\"\u001b[39m, activation\u001b[39m=\u001b[39m\u001b[39m\"\u001b[39m\u001b[39mtanh\u001b[39m\u001b[39m\"\u001b[39m,\n\u001b[1;32m     23\u001b[0m                 padding\u001b[39m=\u001b[39m\u001b[39m'\u001b[39m\u001b[39msame\u001b[39m\u001b[39m'\u001b[39m, return_sequences\u001b[39m=\u001b[39m\u001b[39mTrue\u001b[39;00m)(\u001b[39minput\u001b[39m))\n",
      "\u001b[0;31mNameError\u001b[0m: name 'keras' is not defined"
     ]
    }
   ],
   "source": [
    "seq = Sequential()\n",
    "\n",
    "filters = 40\n",
    "\n",
    "input_array = padded_spatial_Xs\n",
    "label_array = padded_spatial_ys\n",
    "\n",
    "rows, cols = input_array.shape[2], input_array.shape[3]\n",
    "len_seq = input_array.shape[1]\n",
    "num_features = input_array.shape[-1]\n",
    "num_samples = input_array.shape[0]\n",
    "# rows, cols = 40, 40\n",
    "kernel_dim = 3\n",
    "\n",
    "\n",
    "input = keras.Input(shape=(len_seq, rows, cols, num_features),name=\"input\")\n",
    "\n",
    "# class myConvLSTM:\n",
    "\n",
    "    # def model_structure(filters, kernel_dim)\n",
    "seq.add(ConvLSTM2D(filters=filters, kernel_size=(kernel_dim, kernel_dim),\n",
    "                data_format=\"channels_first\", recurrent_activation=\"hard_sigmoid\", activation=\"tanh\",\n",
    "                padding='same', return_sequences=True)(input))\n",
    "seq.add(BatchNormalization())\n",
    "\n",
    "seq.add(ConvLSTM2D(filters=filters, kernel_size=(kernel_dim, kernel_dim),\n",
    "                data_format=\"channels_first\",\n",
    "                padding='same', return_sequences=True))\n",
    "seq.add(BatchNormalization())\n",
    "\n",
    "# seq.add(ConvLSTM2D(filters=filters, kernel_size=(kernel_dim, kernel_dim),\n",
    "#                 padding='same', return_sequences=True))\n",
    "# seq.add(BatchNormalization())\n",
    "\n",
    "# seq.add(ConvLSTM2D(filters=filters, kernel_size=(kernel_dim, kernel_dim),\n",
    "#                 padding='same', return_sequences=True))\n",
    "# seq.add(BatchNormalization())\n",
    "\n",
    "seq.add(Conv3D(filters=1, kernel_size=(kernel_dim, kernel_dim, kernel_dim),\n",
    "            activation='sigmoid',\n",
    "            padding='same', data_format='channels_first'))\n",
    "\n",
    "# in order to evaluate against labels of shape (samples, 1, row, col, 1) I think I need to compress this down\n",
    "\n",
    "# seq.add(Flatten())\n",
    "seq.compile(loss='binary_crossentropy', optimizer='adadelta')\n",
    "\n",
    "# # Modify the loss function to account for the new label shape\n",
    "# def binary_sequence_loss(y, y_pred):\n",
    "#     return binary_crossentropy(y[:, -1], y_pred[:, -1, ...])\n",
    "\n",
    "# Compile the model with the new loss function\n",
    "# seq.compile(loss=binary_sequence_loss, optimizer='adadelta')\n",
    "# https://keras.io/api/losses/probabilistic_losses/#binarycrossentropy-class\n",
    "seq.summary()\n",
    "\n",
    "seq.fit(input_array, label_array, batch_size=10,\n",
    "        epochs=5, validation_split=0.05)"
   ]
  },
  {
   "cell_type": "code",
   "execution_count": null,
   "metadata": {},
   "outputs": [],
   "source": [
    "pred = seq.predict(input_array)"
   ]
  },
  {
   "cell_type": "code",
   "execution_count": 28,
   "metadata": {},
   "outputs": [
    {
     "ename": "NameError",
     "evalue": "name 'pred' is not defined",
     "output_type": "error",
     "traceback": [
      "\u001b[0;31m---------------------------------------------------------------------------\u001b[0m",
      "\u001b[0;31mNameError\u001b[0m                                 Traceback (most recent call last)",
      "Cell \u001b[0;32mIn[28], line 1\u001b[0m\n\u001b[0;32m----> 1\u001b[0m pred\u001b[39m.\u001b[39mshape\n\u001b[1;32m      2\u001b[0m plt\u001b[39m.\u001b[39mimshow(pred[\u001b[39m0\u001b[39m,\u001b[39m0\u001b[39m,:,:,\u001b[39m0\u001b[39m])\n",
      "\u001b[0;31mNameError\u001b[0m: name 'pred' is not defined"
     ]
    }
   ],
   "source": [
    "pred.shape\n",
    "plt.imshow(pred[0,0,:,:,0])"
   ]
  },
  {
   "cell_type": "code",
   "execution_count": null,
   "metadata": {},
   "outputs": [],
   "source": [
    "seq.fit(input_array, label_array, batch_size=10,\n",
    "        epochs=5, validation_split=0.05)"
   ]
  },
  {
   "cell_type": "code",
   "execution_count": null,
   "metadata": {},
   "outputs": [],
   "source": [
    "# load in dasked xarray for area\n",
    "\n",
    "daily_climate_1_12_padded_1_file_path = ds_man.get_location() / \"global_ocean_reanalysis/daily_means/daily_climate_1_12_padded_1.nc\"\n",
    "# if daily_climate_1_12_padded_1 .nc file doesn't exist, generate and save\n",
    "if not file_ops.check_file_exists(filepath = daily_climate_1_12_padded_1_file_path):\n",
    "    daily_climate_1_12_padded_1 = spatial_data.spatially_buffer_timeseries(\n",
    "        ds_man.get_dataset(\"daily_climate_1_12\"), buffer_size=1, exclude_vars = [\"spatial_ref\", \"coral_algae_gt\"])\n",
    "    daily_climate_1_12_padded_1.to_netcdf(filepath = daily_climate_1_12_padded_1_file_path)\n",
    "    ds_man.add_dataset(\"daily_climate_1_12_padded_1\", xa.open_dataset(daily_climate_1_12_padded_1_file_path))\n",
    "else:\n",
    "    ds_man.add_dataset(\"daily_climate_1_12_padded_1\", xa.open_dataset(daily_climate_1_12_padded_1_file_path))\n",
    "\n",
    "# "
   ]
  },
  {
   "cell_type": "code",
   "execution_count": null,
   "metadata": {},
   "outputs": [],
   "source": [
    "# inputs of form: (samples, seq_length, height, width, features)\n",
    "# output will have a single feature: the ground truth\n",
    "# where samples here are different snapshots of the landscape: will want to set\n",
    "# up so can control geographically where they're (seq_length, height, width, features) \n",
    "# drawn from \n",
    "\n",
    "# generate 10 samples (10 chunks sent to ml-processed numpy arrays)"
   ]
  },
  {
   "attachments": {},
   "cell_type": "markdown",
   "metadata": {},
   "source": [
    "# Divider\n",
    "https://keras.io/examples/vision/conv_lstm/"
   ]
  },
  {
   "cell_type": "code",
   "execution_count": null,
   "metadata": {},
   "outputs": [],
   "source": []
  },
  {
   "cell_type": "code",
   "execution_count": null,
   "metadata": {},
   "outputs": [],
   "source": []
  },
  {
   "cell_type": "code",
   "execution_count": null,
   "metadata": {},
   "outputs": [],
   "source": [
    "# TODO:\n",
    "# try with longer timeseries\n",
    "# validate on other patch\n",
    "# deal with class imbalance"
   ]
  }
 ],
 "metadata": {
  "kernelspec": {
   "display_name": "CORALSHIFT",
   "language": "python",
   "name": "coralshift"
  },
  "language_info": {
   "codemirror_mode": {
    "name": "ipython",
    "version": 3
   },
   "file_extension": ".py",
   "mimetype": "text/x-python",
   "name": "python",
   "nbconvert_exporter": "python",
   "pygments_lexer": "ipython3",
   "version": "3.10.11"
  },
  "orig_nbformat": 4
 },
 "nbformat": 4,
 "nbformat_minor": 2
}
