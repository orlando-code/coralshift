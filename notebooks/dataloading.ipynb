{
 "cells": [
  {
   "cell_type": "code",
   "execution_count": 49,
   "metadata": {},
   "outputs": [
    {
     "name": "stdout",
     "output_type": "stream",
     "text": [
      "The autoreload extension is already loaded. To reload it, use:\n",
      "  %reload_ext autoreload\n"
     ]
    }
   ],
   "source": [
    "%load_ext autoreload\n",
    "%autoreload 2\n",
    "\n",
    "import sys\n",
    "import os\n",
    "sys.path.append(\"../\")\n"
   ]
  },
  {
   "cell_type": "code",
   "execution_count": 50,
   "metadata": {},
   "outputs": [],
   "source": [
    "# choose whether to work on a remote machine\n",
    "location = \"remote\"\n",
    "# location = \"local\"\n",
    "\n",
    "if location == \"remote\":\n",
    "    # change this line to the where the GitHub repository is located\n",
    "    os.chdir(\"/lustre_scratch/orlando-code/coralshift/\")"
   ]
  },
  {
   "attachments": {},
   "cell_type": "markdown",
   "metadata": {},
   "source": [
    "# Data storage setup"
   ]
  },
  {
   "cell_type": "code",
   "execution_count": 51,
   "metadata": {},
   "outputs": [],
   "source": [
    "# import necessary packages\n",
    "\n",
    "# from __future__ import annotations\n",
    "\n",
    "from pathlib import Path\n",
    "import xarray as xa\n",
    "import numpy as np\n",
    "\n",
    "import matplotlib.pyplot as plt\n",
    "import matplotlib.patches as patches\n",
    "import cartopy.crs as ccrs\n",
    "\n",
    "import rasterio\n",
    "from rasterio.plot import show\n",
    "import rioxarray as rio\n",
    "\n",
    "\n",
    "from coralshift.processing import spatial_data\n",
    "from coralshift.utils import file_ops, directories, utils\n",
    "from coralshift.dataloading import data_structure, climate_data, bathymetry, reef_extent\n",
    "from coralshift.plotting import spatial_plots\n"
   ]
  },
  {
   "cell_type": "code",
   "execution_count": 60,
   "metadata": {},
   "outputs": [
    {
     "data": {
      "text/plain": [
       "36157.97860466514"
      ]
     },
     "execution_count": 60,
     "metadata": {},
     "output_type": "execute_result"
    }
   ],
   "source": [
    "np.mean(spatial_data.degrees_to_distances(1/3))"
   ]
  },
  {
   "cell_type": "code",
   "execution_count": null,
   "metadata": {},
   "outputs": [],
   "source": [
    "# ds_man = data_structure.MyDatasets()\n",
    "# ds_man.set_location(location)"
   ]
  },
  {
   "attachments": {},
   "cell_type": "markdown",
   "metadata": {},
   "source": [
    "## Specify your area of interest\n",
    "\n",
    "The availability of high-resolution (30m) bathymetric data means that areas of interest are currently confided to 4 areas on the Great Barrier Reef (GBR). The following code generates a geoJSON file specifying which area (A-D) you'd like to investigate:\n",
    "\n",
    "| Reef Area Name                \t| Latitudes \t| Longitudes \t|\n",
    "|-------------------------------\t|-----------\t|------------\t|\n",
    "| Great Barrier Reef A 2020 30m \t| 10-17°S   \t| 142-147°E  \t|\n",
    "| Great Barrier Reef B 2020 30m \t| 16-23°S   \t| 144-149°E  \t|\n",
    "| Great Barrier Reef C 2020 30m \t| 18-24°S   \t| 148-154°E  \t|\n",
    "| Great Barrier Reef D 2020 30m \t| 23-29°S   \t| 150-156°E  \t|\n",
    "\n",
    "\n",
    "Download your required area from here: https://ecat.ga.gov.au/geonetwork/srv/eng/catalog.search#/metadata/115066\n",
    "\n",
    "Due to the computational load required to run ML models on such a high resolution data, bathymetric data is currently upsampled to 4km grid cells and areas are limited to a quarter of the GBR's total area."
   ]
  },
  {
   "cell_type": "code",
   "execution_count": 4,
   "metadata": {},
   "outputs": [
    {
     "name": "stdout",
     "output_type": "stream",
     "text": [
      "Data will be downsampled to 0.00923 degrees (~1000m).\n"
     ]
    }
   ],
   "source": [
    "# choose resolution (should be above 1000m for processing in decent time)\n",
    "target_resolution_m, target_resolution_d = spatial_data.choose_resolution(\n",
    "    resolution=1000, unit=\"m\")\n",
    "\n",
    "# convert distance to degrees:\n",
    "# _,_,av_degrees = spatial_data.distance_to_degrees(target_resolution)\n",
    "print(f\"Data will be downsampled to {target_resolution_d:.05f} degrees (~{target_resolution_m}m).\")"
   ]
  },
  {
   "attachments": {},
   "cell_type": "markdown",
   "metadata": {},
   "source": [
    "## Bathymetry"
   ]
  },
  {
   "cell_type": "code",
   "execution_count": 5,
   "metadata": {},
   "outputs": [
    {
     "name": "stdout",
     "output_type": "stream",
     "text": [
      "Great_Barrier_Reef_A_2020_30m_MSL_cog already exists in /lustre_scratch/orlando-code/datasets/bathymetry\n",
      "bathymetry_A_0-00030d already exists in /lustre_scratch/orlando-code/datasets/bathymetry\n",
      "bathymetry_A_0-0092276d already exists in /lustre_scratch/orlando-code/datasets/bathymetry\n"
     ]
    }
   ],
   "source": [
    "# select your area. Region \"A\" is used in the report\n",
    "area_name = \"A\"\n",
    "reef_areas = bathymetry.ReefAreas()\n",
    "\n",
    "# TODO: plot with different areas to choose from\n",
    "\n",
    "_, xa_bath = bathymetry.generate_bathymetry_xa_da(area_name)\n",
    "_, xa_bath_upsampled = spatial_data.upsample_and_save_xa_a(\n",
    "    directories.get_bathymetry_datasets_dir(), xa_d= xa_bath, name=\"bathymetry_A\", target_resolution_d=target_resolution_d)"
   ]
  },
  {
   "cell_type": "code",
   "execution_count": 16,
   "metadata": {},
   "outputs": [],
   "source": [
    "xa_bath.rio.crs"
   ]
  },
  {
   "cell_type": "code",
   "execution_count": 24,
   "metadata": {},
   "outputs": [
    {
     "name": "stdout",
     "output_type": "stream",
     "text": [
      "Great_Barrier_Reef_A_2020_30m_MSL_cog already exists in /lustre_scratch/orlando-code/datasets/bathymetry\n",
      "Writing bathymetry_A_0-00030d to file at /lustre_scratch/orlando-code/datasets/bathymetry/bathymetry_A_0-00030d.nc\n"
     ]
    },
    {
     "ename": "ValueError",
     "evalue": "Given file dataset contains more than one data variable. Please read with xarray.open_dataset and then select the variable you want.",
     "output_type": "error",
     "traceback": [
      "\u001b[0;31m---------------------------------------------------------------------------\u001b[0m",
      "\u001b[0;31mValueError\u001b[0m                                Traceback (most recent call last)",
      "Cell \u001b[0;32mIn[24], line 128\u001b[0m\n\u001b[1;32m    124\u001b[0m     \u001b[39m# sort coords by ascending values\u001b[39;00m\n\u001b[1;32m    125\u001b[0m     \u001b[39mreturn\u001b[39;00m chunked_xa_d\u001b[39m.\u001b[39msortby(\u001b[39mlist\u001b[39m(temp_xa_d\u001b[39m.\u001b[39mdims))\n\u001b[0;32m--> 128\u001b[0m _, xa_bath \u001b[39m=\u001b[39m generate_bathymetry_xa_da(\u001b[39m\"\u001b[39;49m\u001b[39mA\u001b[39;49m\u001b[39m\"\u001b[39;49m)\n",
      "Cell \u001b[0;32mIn[24], line 25\u001b[0m, in \u001b[0;36mgenerate_bathymetry_xa_da\u001b[0;34m(area_name)\u001b[0m\n\u001b[1;32m     23\u001b[0m \u001b[39mdir\u001b[39m \u001b[39m=\u001b[39m directories\u001b[39m.\u001b[39mget_bathymetry_datasets_dir()\n\u001b[1;32m     24\u001b[0m bath_name \u001b[39m=\u001b[39m \u001b[39mf\u001b[39m\u001b[39m\"\u001b[39m\u001b[39m{\u001b[39;00mreef_areas\u001b[39m.\u001b[39mget_xarray_name(area_name)\u001b[39m}\u001b[39;00m\u001b[39m_\u001b[39m\u001b[39m{\u001b[39;00mresolution\u001b[39m:\u001b[39;00m\u001b[39m.05f\u001b[39m\u001b[39m}\u001b[39;00m\u001b[39md\u001b[39m\u001b[39m\"\u001b[39m\n\u001b[0;32m---> 25\u001b[0m filepath, xa_da \u001b[39m=\u001b[39m save_nc(\n\u001b[1;32m     26\u001b[0m     \u001b[39mdir\u001b[39;49m, bath_name, xa_bath, return_array\u001b[39m=\u001b[39;49m\u001b[39mTrue\u001b[39;49;00m\n\u001b[1;32m     27\u001b[0m )\n\u001b[1;32m     29\u001b[0m \u001b[39mreturn\u001b[39;00m filepath, xa_da\n",
      "Cell \u001b[0;32mIn[24], line 62\u001b[0m, in \u001b[0;36msave_nc\u001b[0;34m(save_dir, filename, xa_d, return_array)\u001b[0m\n\u001b[1;32m     60\u001b[0m \u001b[39mif\u001b[39;00m return_array:\n\u001b[1;32m     61\u001b[0m     \u001b[39mif\u001b[39;00m \u001b[39misinstance\u001b[39m(xa_d, xa\u001b[39m.\u001b[39mDataArray):\n\u001b[0;32m---> 62\u001b[0m         \u001b[39mreturn\u001b[39;00m save_path, xa\u001b[39m.\u001b[39;49mopen_dataarray(save_path)\n\u001b[1;32m     63\u001b[0m     \u001b[39melif\u001b[39;00m \u001b[39misinstance\u001b[39m(xa_d, xa\u001b[39m.\u001b[39mDataset):\n\u001b[1;32m     64\u001b[0m         \u001b[39mreturn\u001b[39;00m save_path, xa\u001b[39m.\u001b[39mopen_dataset(save_path)\n",
      "File \u001b[0;32m~/lustre_scratch/conda-envs/coralshift/lib/python3.10/site-packages/xarray/backends/api.py:761\u001b[0m, in \u001b[0;36mopen_dataarray\u001b[0;34m(filename_or_obj, engine, chunks, cache, decode_cf, mask_and_scale, decode_times, decode_timedelta, use_cftime, concat_characters, decode_coords, drop_variables, inline_array, chunked_array_type, from_array_kwargs, backend_kwargs, **kwargs)\u001b[0m\n\u001b[1;32m    740\u001b[0m dataset \u001b[39m=\u001b[39m open_dataset(\n\u001b[1;32m    741\u001b[0m     filename_or_obj,\n\u001b[1;32m    742\u001b[0m     decode_cf\u001b[39m=\u001b[39mdecode_cf,\n\u001b[0;32m   (...)\u001b[0m\n\u001b[1;32m    757\u001b[0m     \u001b[39m*\u001b[39m\u001b[39m*\u001b[39mkwargs,\n\u001b[1;32m    758\u001b[0m )\n\u001b[1;32m    760\u001b[0m \u001b[39mif\u001b[39;00m \u001b[39mlen\u001b[39m(dataset\u001b[39m.\u001b[39mdata_vars) \u001b[39m!=\u001b[39m \u001b[39m1\u001b[39m:\n\u001b[0;32m--> 761\u001b[0m     \u001b[39mraise\u001b[39;00m \u001b[39mValueError\u001b[39;00m(\n\u001b[1;32m    762\u001b[0m         \u001b[39m\"\u001b[39m\u001b[39mGiven file dataset contains more than one data \u001b[39m\u001b[39m\"\u001b[39m\n\u001b[1;32m    763\u001b[0m         \u001b[39m\"\u001b[39m\u001b[39mvariable. Please read with xarray.open_dataset and \u001b[39m\u001b[39m\"\u001b[39m\n\u001b[1;32m    764\u001b[0m         \u001b[39m\"\u001b[39m\u001b[39mthen select the variable you want.\u001b[39m\u001b[39m\"\u001b[39m\n\u001b[1;32m    765\u001b[0m     )\n\u001b[1;32m    766\u001b[0m \u001b[39melse\u001b[39;00m:\n\u001b[1;32m    767\u001b[0m     (data_array,) \u001b[39m=\u001b[39m dataset\u001b[39m.\u001b[39mdata_vars\u001b[39m.\u001b[39mvalues()\n",
      "\u001b[0;31mValueError\u001b[0m: Given file dataset contains more than one data variable. Please read with xarray.open_dataset and then select the variable you want."
     ]
    }
   ],
   "source": [
    "def generate_bathymetry_xa_da(area_name: str):\n",
    "    \"\"\"\n",
    "    Generate bathymetry data for a specified area.\n",
    "\n",
    "    Parameters\n",
    "    ----------\n",
    "        area_name (str): The name of the area.\n",
    "\n",
    "    Returns\n",
    "    -------\n",
    "        tuple[str, xa.DataArray]: A tuple containing the filepath and the processed xarray of the generated bathymetry\n",
    "        data.\n",
    "    \"\"\"\n",
    "    # download .tif if not downloaded aready\n",
    "    reef_areas = bathymetry.ensure_bathymetry_downloaded(area_name)\n",
    "    # cast tif to processed xarray with correct crs\n",
    "    xa_bath = spatial_data.tif_to_xarray(\n",
    "        directories.get_bathymetry_datasets_dir() / reef_areas.get_filename(area_name),\n",
    "        reef_areas.get_xarray_name(area_name),\n",
    "    )\n",
    "\n",
    "    resolution = np.mean(spatial_data.calculate_spatial_resolution(xa_bath))\n",
    "    dir = directories.get_bathymetry_datasets_dir()\n",
    "    bath_name = f\"{reef_areas.get_xarray_name(area_name)}_{resolution:.05f}d\"\n",
    "    filepath, xa_da = save_nc(\n",
    "        dir, bath_name, xa_bath, return_array=True\n",
    "    )\n",
    "\n",
    "    return filepath, xa_da\n",
    "\n",
    "\n",
    "def save_nc(\n",
    "    save_dir: Path | str,\n",
    "    filename: str,\n",
    "    xa_d: xa.DataArray | xa.Dataset,\n",
    "    return_array: bool = False,\n",
    ") -> xa.DataArray | xa.Dataset:\n",
    "    \"\"\"\n",
    "    Save the given xarray DataArray or Dataset to a NetCDF file iff no file with the same\n",
    "    name already exists in the directory.\n",
    "    # TODO: issues when suffix provided\n",
    "    Parameters\n",
    "    ----------\n",
    "        save_dir (Path or str): The directory path to save the NetCDF file.\n",
    "        filename (str): The name of the NetCDF file.\n",
    "        xa_d (xarray.DataArray or xarray.Dataset): The xarray DataArray or Dataset to be saved.\n",
    "\n",
    "    Returns\n",
    "    -------\n",
    "        xarray.DataArray or xarray.Dataset: The input xarray object.\n",
    "    \"\"\"\n",
    "    filename = file_ops.remove_suffix(utils.replace_dot_with_dash(filename))\n",
    "    save_path = (Path(save_dir) / filename).with_suffix(\".nc\")\n",
    "    if not save_path.is_file():\n",
    "        print(f\"Writing {filename} to file at {save_path}\")\n",
    "        test = process_xa_d(xa_d).to_netcdf(save_path)\n",
    "    else:\n",
    "        print(f\"{filename} already exists in {save_dir}\")\n",
    "\n",
    "    if return_array:\n",
    "        if isinstance(xa_d, xa.DataArray):\n",
    "            return save_path, xa.open_dataarray(save_path)\n",
    "        elif isinstance(xa_d, xa.Dataset):\n",
    "            return save_path, xa.open_dataset(save_path)\n",
    "    else:\n",
    "        return save_path\n",
    "\n",
    "\n",
    "def process_xa_d(\n",
    "    xa_d: xa.Dataset | xa.DataArray,\n",
    "    rename_mapping: dict = {\n",
    "        \"lat\": \"latitude\",\n",
    "        \"lon\": \"longitude\",\n",
    "        \"x\": \"longitude\",\n",
    "        \"y\": \"latitude\",\n",
    "    },\n",
    "    squeeze_coords: str | list[str] = None,\n",
    "    chunk_dict: dict = {\"latitude\": 100, \"longitude\": 100, \"time\": 100},\n",
    "    crs: str = \"EPSG:4326\",\n",
    "):\n",
    "    \"\"\"\n",
    "    Process the input xarray Dataset or DataArray by standardizing coordinate names, squeezing dimensions,\n",
    "    chunking along specified dimensions, and sorting coordinates.\n",
    "\n",
    "    Parameters\n",
    "    ----------\n",
    "        xa_d (xa.Dataset or xa.DataArray): The xarray Dataset or DataArray to be processed.\n",
    "        rename_mapping (dict, optional): A dictionary specifying the mapping for coordinate renaming.\n",
    "            The keys are the existing coordinate names, and the values are the desired names.\n",
    "            Defaults to a mapping that standardizes common coordinate names.\n",
    "        squeeze_coords (str or list of str, optional): The coordinates to squeeze by removing size-1 dimensions.\n",
    "                                                      Defaults to ['band'].\n",
    "        chunk_dict (dict, optional): A dictionary specifying the chunk size for each dimension.\n",
    "                                     The keys are the dimension names, and the values are the desired chunk sizes.\n",
    "                                     Defaults to {'latitude': 100, 'longitude': 100, 'time': 100}.\n",
    "\n",
    "    Returns\n",
    "    -------\n",
    "        xa.Dataset or xa.DataArray: The processed xarray Dataset or DataArray.\n",
    "\n",
    "    \"\"\"\n",
    "\n",
    "    # standardise coordinate names\n",
    "    # temp_xa_d = xa_d.rename(\n",
    "    #     {\"lat\": \"latitude\", \"lon\": \"longitude\", \"x\": \"longitude\", \"y\": \"latitude\"}\n",
    "    # )\n",
    "\n",
    "    temp_xa_d = xa_d.copy()\n",
    "\n",
    "    for coord, new_coord in rename_mapping.items():\n",
    "        if new_coord not in temp_xa_d.coords and coord in temp_xa_d.coords:\n",
    "            temp_xa_d = temp_xa_d.rename({coord: new_coord})\n",
    "    # temp_xa_d = xa_d.rename(\n",
    "    #     {coord: rename_mapping.get(coord, coord) for coord in xa_d.coords}\n",
    "    # )\n",
    "    if \"band\" in temp_xa_d.dims:\n",
    "        temp_xa_d = temp_xa_d.squeeze(\"band\")\n",
    "    if squeeze_coords:\n",
    "        temp_xa_d = temp_xa_d.squeeze(squeeze_coords)\n",
    "\n",
    "    # add crs\n",
    "    temp_xa_d.rio.write_crs(crs, inplace=True)\n",
    "    chunked_xa_d = spatial_data.chunk_as_necessary(temp_xa_d, chunk_dict)\n",
    "    # sort coords by ascending values\n",
    "    return chunked_xa_d.sortby(list(temp_xa_d.dims))\n",
    "\n",
    "\n",
    "_, xa_bath = generate_bathymetry_xa_da(\"A\")\n"
   ]
  },
  {
   "cell_type": "code",
   "execution_count": 6,
   "metadata": {},
   "outputs": [],
   "source": [
    "# compute dasked arrays for plotting\n",
    "xa_bath_upsampled = xa_bath_upsampled.compute()"
   ]
  },
  {
   "cell_type": "code",
   "execution_count": 26,
   "metadata": {},
   "outputs": [],
   "source": [
    "xa_bath.rio.crs"
   ]
  },
  {
   "cell_type": "code",
   "execution_count": 7,
   "metadata": {},
   "outputs": [
    {
     "ename": "ValueError",
     "evalue": "Dataset.plot cannot be called directly. Use an explicit plot method, e.g. ds.plot.scatter(...)",
     "output_type": "error",
     "traceback": [
      "\u001b[0;31m---------------------------------------------------------------------------\u001b[0m",
      "\u001b[0;31mValueError\u001b[0m                                Traceback (most recent call last)",
      "Cell \u001b[0;32mIn[7], line 2\u001b[0m\n\u001b[1;32m      1\u001b[0m \u001b[39m# N.B. native resolution not plotted since so high (takes ~10 minutes)\u001b[39;00m\n\u001b[0;32m----> 2\u001b[0m spatial_plots\u001b[39m.\u001b[39;49mplot_spatial(xa_bath_upsampled, val_lims\u001b[39m=\u001b[39;49m(\u001b[39m-\u001b[39;49m\u001b[39m50\u001b[39;49m,\u001b[39m0\u001b[39;49m), name\u001b[39m=\u001b[39;49m\u001b[39m\"\u001b[39;49m\u001b[39mdepth\u001b[39;49m\u001b[39m\"\u001b[39;49m, \n\u001b[1;32m      3\u001b[0m     title\u001b[39m=\u001b[39;49m\u001b[39mf\u001b[39;49m\u001b[39m\"\u001b[39;49m\u001b[39mBathymetry at \u001b[39;49m\u001b[39m{\u001b[39;49;00mtarget_resolution_m\u001b[39m}\u001b[39;49;00m\u001b[39mm resolution\u001b[39;49m\u001b[39m\"\u001b[39;49m)\n",
      "File \u001b[0;32m/lustre_scratch/orlando-code/coralshift/coralshift/plotting/spatial_plots.py:176\u001b[0m, in \u001b[0;36mplot_spatial\u001b[0;34m(xa_da, fax, title, name, figsize, val_lims, cmap_type, symmetric, edgecolor, orient_colorbar)\u001b[0m\n\u001b[1;32m    173\u001b[0m \u001b[39mif\u001b[39;00m symmetric:\n\u001b[1;32m    174\u001b[0m     vmin, vmax \u001b[39m=\u001b[39m (\u001b[39m-\u001b[39mvmax, vmax) \u001b[39mif\u001b[39;00m \u001b[39mabs\u001b[39m(vmin) \u001b[39m>\u001b[39m \u001b[39mabs\u001b[39m(vmax) \u001b[39melse\u001b[39;00m (vmin, \u001b[39m-\u001b[39mvmin)\n\u001b[0;32m--> 176\u001b[0m im \u001b[39m=\u001b[39m xa_da\u001b[39m.\u001b[39;49mplot(ax\u001b[39m=\u001b[39;49max, cmap\u001b[39m=\u001b[39;49mcmap, vmin\u001b[39m=\u001b[39;49mvmin, vmax\u001b[39m=\u001b[39;49mvmax, add_colorbar\u001b[39m=\u001b[39;49m\u001b[39mFalse\u001b[39;49;00m)\n\u001b[1;32m    177\u001b[0m \u001b[39m# nicely format spatial plot\u001b[39;00m\n\u001b[1;32m    178\u001b[0m format_spatial_plot(im, fig, ax, title, name, orient_colorbar, edgecolor)\n",
      "File \u001b[0;32m~/lustre_scratch/conda-envs/coralshift/lib/python3.10/site-packages/xarray/plot/accessor.py:942\u001b[0m, in \u001b[0;36mDatasetPlotAccessor.__call__\u001b[0;34m(self, *args, **kwargs)\u001b[0m\n\u001b[1;32m    941\u001b[0m \u001b[39mdef\u001b[39;00m \u001b[39m__call__\u001b[39m(\u001b[39mself\u001b[39m, \u001b[39m*\u001b[39margs, \u001b[39m*\u001b[39m\u001b[39m*\u001b[39mkwargs) \u001b[39m-\u001b[39m\u001b[39m>\u001b[39m NoReturn:\n\u001b[0;32m--> 942\u001b[0m     \u001b[39mraise\u001b[39;00m \u001b[39mValueError\u001b[39;00m(\n\u001b[1;32m    943\u001b[0m         \u001b[39m\"\u001b[39m\u001b[39mDataset.plot cannot be called directly. Use \u001b[39m\u001b[39m\"\u001b[39m\n\u001b[1;32m    944\u001b[0m         \u001b[39m\"\u001b[39m\u001b[39man explicit plot method, e.g. ds.plot.scatter(...)\u001b[39m\u001b[39m\"\u001b[39m\n\u001b[1;32m    945\u001b[0m     )\n",
      "\u001b[0;31mValueError\u001b[0m: Dataset.plot cannot be called directly. Use an explicit plot method, e.g. ds.plot.scatter(...)"
     ]
    },
    {
     "data": {
      "image/png": "[encoded data removed]",
      "text/plain": [
       "<Figure size 1000x1000 with 1 Axes>"
      ]
     },
     "metadata": {},
     "output_type": "display_data"
    }
   ],
   "source": [
    "# N.B. native resolution not plotted since so high (takes ~10 minutes)\n",
    "spatial_plots.plot_spatial(xa_bath_upsampled, val_lims=(-50,0), name=\"depth\", \n",
    "    title=f\"Bathymetry at {target_resolution_m}m resolution\")"
   ]
  },
  {
   "attachments": {},
   "cell_type": "markdown",
   "metadata": {},
   "source": [
    "## Calculate slopes"
   ]
  },
  {
   "cell_type": "code",
   "execution_count": null,
   "metadata": {},
   "outputs": [],
   "source": [
    "# calculate absolute gradients from bathymetry and save to file\n",
    "grads, grads_path = bathymetry.generate_gradient_magnitude_nc(xa_bath_up_vals, sigma=1)"
   ]
  },
  {
   "cell_type": "code",
   "execution_count": null,
   "metadata": {},
   "outputs": [],
   "source": [
    "# compute dasked array for plotting\n",
    "grads = grads.compute()"
   ]
  },
  {
   "cell_type": "code",
   "execution_count": null,
   "metadata": {},
   "outputs": [],
   "source": [
    "### Display different resolutions\n",
    "fig, (ax_left, ax_right) = plt.subplots(1, 2, figsize=(16,9), subplot_kw=dict(projection=ccrs.PlateCarree()))\n",
    "\n",
    "ax1 = spatial_plots.plot_spatial(xa_bath_upsampled, \n",
    "    fax= (fig,ax_left), val_lims=(-50,0), name=\"depth\", title=f\"Bathymetry at {target_resolution_m}m resolution\")\n",
    "ax2 = spatial_plots.plot_spatial(grads, \n",
    "    fax=(fig, ax_right), val_lims=(0,10), name=\"gradient magnitude\", \n",
    "    title=f\"Absolute seafloor gradients at {target_resolution_m}m resolution\")"
   ]
  },
  {
   "attachments": {},
   "cell_type": "markdown",
   "metadata": {},
   "source": [
    "## Coral ground truth: Allen Coral Atlas\n",
    "\n",
    "\n",
    "There is currently no API for accessing data directly from your local machine. Please follow the instructions* below:\n",
    "1. Make an account on the [Allen Coral Atlas](https://allencoralatlas.org/atlas/#6.00/-13.5257/144.5000) webpage\n",
    "2. Generate a geojson file using the code cell below (generated in the `reef_baseline` directory)\n",
    "\n",
    "*Instructions correct as of 30.06.23"
   ]
  },
  {
   "cell_type": "code",
   "execution_count": null,
   "metadata": {},
   "outputs": [],
   "source": [
    "# generate geojson file in reef_baseline directory for download from the Allen Coral Atlas\n",
    "geojson_path = reef_extent.generate_area_geojson(\n",
    "    area_class = reef_areas, area_name=area_name, save_dir=directories.get_reef_baseline_dir())"
   ]
  },
  {
   "attachments": {},
   "cell_type": "markdown",
   "metadata": {},
   "source": [
    "3. Upload the geojson file via:\n",
    "\n",
    "    \\> My Areas > Upload a GeoJSON or KML file\n",
    "4. Wait for the area to be processed, and select \"Benthic Map (OGC GeoPackage (.gpkg))\". Sign the terms and conditions \n",
    "and select \"Prepare Download\". After ~two minutes a sequence of emails will arrive notifying you that your download is ready.\n",
    "5. Download the file and unzip it using a unzipping utility. Then, add the `benthic.gpkg` file to the `reef_baseline` directory.\n",
    "6. Continue with the subsequent code cells.\n",
    "\n",
    "----\n",
    "\n",
    "You have now downloaded:\n",
    "\n",
    "**`benthic.gpkg`**\n",
    "\n",
    "This is a dataframe of Shapely objects (\"geometry\" polygons) defining the boundaries of different benthic classes:\n",
    "\n",
    "| Class           \t| Number of polygons \t|\n",
    "|-----------------\t|--------------------\t|\n",
    "| Coral/Algae     \t| 877787             \t|\n",
    "| Rock            \t| 766391             \t|\n",
    "| Rubble          \t| 568041             \t|\n",
    "| Sand            \t| 518805             \t|\n",
    "| Microalgal Mats \t| 27569              \t|"
   ]
  },
  {
   "cell_type": "code",
   "execution_count": null,
   "metadata": {},
   "outputs": [],
   "source": [
    "# read .gpkg file and save to .pkl format for faster reading later\n",
    "benthic_df = file_ops.check_pkl_else_read_gpkg(directories.get_reef_baseline_dir(), filename = \"benthic.pkl\")\n",
    "benthic_df.head()"
   ]
  },
  {
   "attachments": {},
   "cell_type": "markdown",
   "metadata": {},
   "source": [
    "### Rasterize polygons\n",
    "\n",
    "Rasterized arrays are necessary to process the geospatial data e.g. to align different gridcells. Doing this locally through rasterio requires such significant compute that cloud computing is the only reasonable option. A JavaScript file (`rasterization.js`) for use in Google Earth Engine (GEE) is provided in the `coralshift` repo. Visit [this page](https://developers.google.com/earth-engine/guides/getstarted) for information regarding setting up a GEE account and getting started.\n",
    "\n",
    "GEE requires shapefile (.shp) format to ingest data. This is generated in the following cell:\n"
   ]
  },
  {
   "cell_type": "code",
   "execution_count": null,
   "metadata": {},
   "outputs": [],
   "source": [
    "# process df to gpd.GeoDataFrame. \n",
    "# We are interested only in the \"Coral/Algae\" class, so gdf is limited to these rows by default\n",
    "gdf_coral = reef_extent.process_benthic_pd(benthic_df)\n",
    "# save as shapely file (if not already present) for rasterisation in GEE\n",
    "reef_extent.generate_coral_shp(gdf_coral)"
   ]
  },
  {
   "attachments": {},
   "cell_type": "markdown",
   "metadata": {},
   "source": [
    "1. Ingest the shapefile (and all accompanying files: .cpg, .dbf, .prj, .shx) as a GEE asset.\n",
    "2. Import the subsequent `Table` into the script.\n",
    "3. Update the `resolution` variable as desired (usually that matching the target resolution specified above).\n",
    "3. Run the script, and submit the `coral_raster_Xm` task. Sit back and wait! After ~1 hour (depending on the chosen resolution) the rasters will be available to download from your Google Drive as GeoTIFFS: after this, add them to the `reef_baseline` directory and carry on with the following cells."
   ]
  },
  {
   "cell_type": "code",
   "execution_count": 48,
   "metadata": {},
   "outputs": [
    {
     "name": "stdout",
     "output_type": "stream",
     "text": [
      "coral_raster_1000m already exists in /lustre_scratch/orlando-code/datasets/reef_baseline/gt_files\n",
      "coral_region_A_30m_mean already exists in /lustre_scratch/orlando-code/datasets/reef_baseline/gt_files\n",
      "Writing coral_region_A_1000m_mean to file at /lustre_scratch/orlando-code/datasets/reef_baseline/gt_files/coral_region_A_1000m_mean.nc\n",
      "coral_region_A_30m already exists in /lustre_scratch/orlando-code/datasets/reef_baseline/gt_files\n"
     ]
    }
   ],
   "source": [
    "# process all tifs in folder, casting to nc files for future use\n",
    "reef_extent.process_reef_extent_tifs()\n"
   ]
  },
  {
   "cell_type": "code",
   "execution_count": 40,
   "metadata": {},
   "outputs": [
    {
     "data": {
      "text/plain": [
       "<matplotlib.collections.QuadMesh at 0x7ff552ec7640>"
      ]
     },
     "execution_count": 40,
     "metadata": {},
     "output_type": "execute_result"
    },
    {
     "data": {
      "image/png": "[encoded data removed]",
      "text/plain": [
       "<Figure size 640x480 with 2 Axes>"
      ]
     },
     "metadata": {},
     "output_type": "display_data"
    }
   ],
   "source": [
    "# TODO: automated visualisation\n",
    "\n",
    "gt_tif_dict['coral_raster_1000m'].plot()"
   ]
  },
  {
   "attachments": {},
   "cell_type": "markdown",
   "metadata": {},
   "source": [
    "## Global Ocean Physics Reanalysis\n",
    "\n",
    "The dataset metadata can be accessed [here](https://doi.org/10.48670/moi-00021)."
   ]
  },
  {
   "attachments": {},
   "cell_type": "markdown",
   "metadata": {},
   "source": [
    "### Download data\n",
    "\n",
    "You're required to set up an account with the [Copernicus Marine Service](https://marine.copernicus.eu/). \n",
    "\n",
    "\n",
    "**Warning:**  this is a large amount of data for which the only way to gather it is to query the copernicus API via motu. Requests are queued, and request sizes are floated to the top of the queue. The following functions take advantage of this by splitting a single request up by date adn variable before amalgamating the files, but this can still take a **very long time**, and vary significantly depending on overall website traffic. For those who aren't interested in the entire database, it's highly recommended that you use the toy dataset provided as a `.npy` file in the GitHub repository.\n"
   ]
  },
  {
   "cell_type": "code",
   "execution_count": null,
   "metadata": {},
   "outputs": [],
   "source": [
    "# download monthly data. Can be adjusted to specify subset of variables, dates, and depths to download.\n",
    "# Values generated here are those reported in the accompanying paper.\n",
    "xa_cmems_monthly, cmems_monthly_path = climate_data.download_reanalysis(download_dir=directories.get_monthly_cmems_dir(), \n",
    "    final_filename = \"cmems_gopr_monthly\",\n",
    "    lat_lims = reef_areas.get_lat_lon_limits(area_name)[0], lon_lims = reef_areas.get_lat_lon_limits(area_name)[1], \n",
    "    product_id = \"cmems_mod_glo_phy_my_0.083_P1M-m\")   \n"
   ]
  },
  {
   "cell_type": "code",
   "execution_count": null,
   "metadata": {},
   "outputs": [],
   "source": [
    "# download daily data\n",
    "xa_cmems_daily, cmems_daily_path = climate_data.download_reanalysis(download_dir=directories.get_daily_cmems_dir(), \n",
    "    final_filename = \"cmems_gopr_daily.nc\",\n",
    "    lat_lims = reef_areas.get_lat_lon_limits(area_name)[0], lon_lims = reef_areas.get_lat_lon_limits(area_name)[1], \n",
    "    product_id = \"cmems_mod_glo_phy_my_0.083_P1D-m\")   "
   ]
  },
  {
   "attachments": {},
   "cell_type": "markdown",
   "metadata": {},
   "source": [
    "### Spatially pad the data\n",
    "\n",
    "TODO: add visual explanation"
   ]
  },
  {
   "cell_type": "code",
   "execution_count": null,
   "metadata": {},
   "outputs": [],
   "source": [
    "def spatially_buffer_timeseries(\n",
    "    xa_ds: xa.Dataset,\n",
    "    buffer_size: int = 3,\n",
    "    exclude_vars: list[str] = [\"spatial_ref\", \"coral_algae_1-12_degree\"],\n",
    ") -> xa.Dataset:\n",
    "    \"\"\"Applies a spatial buffer to each data variable in the xarray dataset.\n",
    "\n",
    "    Parameters\n",
    "        xa_ds (xarray.Dataset): Input xarray dataset.\n",
    "        buffer_size (int): Buffer size in grid cells.\n",
    "        exclude_vars (list[str]): List of variable names to exclude from buffering.\n",
    "\n",
    "    Returns:\n",
    "        xarray.Dataset: Xarray dataset with buffered data variables.\n",
    "    \"\"\"\n",
    "    filtered_vars = [var for var in xa_ds.data_vars if var not in exclude_vars]\n",
    "\n",
    "    buffered_ds = xa.Dataset()\n",
    "    for data_var in tqdm(\n",
    "        filtered_vars, desc=f\"Buffering variables by {buffer_size} pixel(s)\"\n",
    "    ):\n",
    "        buffered = xa.apply_ufunc(\n",
    "            spatial_data.buffer_nans,\n",
    "            xa_ds[data_var],\n",
    "            input_core_dims=[[]],\n",
    "            output_core_dims=[[]],\n",
    "            kwargs={\"size\": buffer_size},\n",
    "            dask=\"parallelized\",\n",
    "        )\n",
    "        buffered_ds[data_var] = buffered\n",
    "\n",
    "    return buffered_ds\n",
    "\n",
    "\n",
    "def spatially_buffer_nc_file(nc_path: Path | str, buffer_size: int = 3):\n",
    "    # TODO: specify distance buffer\n",
    "    nc_path = Path(nc_path)\n",
    "    buffered_name = nc_path.stem + f\"_buffered_{buffer_size}_pixel\"\n",
    "    buffered_path = (nc_path.parent / buffered_name).with_suffix(\".nc\")\n",
    "\n",
    "    # if buffered file doesn't already exist\n",
    "    if not buffered_path.is_file():\n",
    "        nc_file = xa.open_dataset(nc_path)\n",
    "        buffered_ds = spatially_buffer_timeseries(\n",
    "            nc_file, buffer_size=buffer_size\n",
    "        )\n",
    "        buffered_ds.to_netcdf(buffered_path)\n",
    "    else:\n",
    "        buffered_ds = xa.open_dataset(buffered_path)\n",
    "        print(\n",
    "            f\"Area buffered by {buffer_size} pixel(s) already exists at {buffered_path}.\"\n",
    "        )\n",
    "\n",
    "    return buffered_ds, buffered_path"
   ]
  },
  {
   "cell_type": "code",
   "execution_count": null,
   "metadata": {},
   "outputs": [],
   "source": [
    "# xa_cmems_monthly_buffered, _ = spatial_data.spatially_buffer_nc_file(cmems_monthly_path, buffer_size=5)\n",
    "xa_cmems_daily_buffered, _ = spatially_buffer_nc_file(cmems_daily_path, buffer_size=5)\n",
    "# TODO: this taking forever (seemingly getting stuck after second variable)"
   ]
  },
  {
   "cell_type": "code",
   "execution_count": null,
   "metadata": {},
   "outputs": [],
   "source": [
    "spatial_plots.plot_DEM(xa.open_dataset(directories.get_monthly_cmems_dir() / \"cmems_gopr_monthly_buffered_5_pixel\")[\"mlotst\"].isel(time=0), \"\")\n",
    "# spatial_plots.plot_DEM(buffered[\"mlotst\"].isel(time=0), \"\")"
   ]
  },
  {
   "attachments": {},
   "cell_type": "markdown",
   "metadata": {},
   "source": [
    "## Load ERA5 data"
   ]
  },
  {
   "cell_type": "code",
   "execution_count": null,
   "metadata": {},
   "outputs": [],
   "source": [
    "climate_data.generate_era5_data(\n",
    "    lat_lims=reef_areas.get_lat_lon_limits(area_name)[0], lon_lims=reef_areas.get_lat_lon_limits(area_name)[1])"
   ]
  },
  {
   "attachments": {},
   "cell_type": "markdown",
   "metadata": {},
   "source": [
    "### Congratulations!\n",
    "\n"
   ]
  }
 ],
 "metadata": {
  "kernelspec": {
   "display_name": "CORALSHIFT",
   "language": "python",
   "name": "coralshift"
  },
  "language_info": {
   "codemirror_mode": {
    "name": "ipython",
    "version": 3
   },
   "file_extension": ".py",
   "mimetype": "text/x-python",
   "name": "python",
   "nbconvert_exporter": "python",
   "pygments_lexer": "ipython3",
   "version": "3.10.11"
  },
  "orig_nbformat": 4
 },
 "nbformat": 4,
 "nbformat_minor": 2
}
