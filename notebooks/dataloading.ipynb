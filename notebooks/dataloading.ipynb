{
 "cells": [
  {
   "cell_type": "code",
   "execution_count": 1,
   "metadata": {},
   "outputs": [],
   "source": [
    "%load_ext autoreload\n",
    "%autoreload 2\n",
    "\n",
    "import sys\n",
    "import os\n",
    "sys.path.append(\"../\")"
   ]
  },
  {
   "cell_type": "code",
   "execution_count": 2,
   "metadata": {},
   "outputs": [],
   "source": [
    "# choose whether to work on a remote machine\n",
    "location = \"remote\"\n",
    "# location = \"local\"\n",
    "\n",
    "if location == \"remote\":\n",
    "    # change this line to the where the GitHub repository is located\n",
    "    os.chdir(\"/lustre_scratch/orlando-code/coralshift/\")"
   ]
  },
  {
   "attachments": {},
   "cell_type": "markdown",
   "metadata": {},
   "source": [
    "# Data storage setup"
   ]
  },
  {
   "cell_type": "code",
   "execution_count": 3,
   "metadata": {},
   "outputs": [
    {
     "name": "stderr",
     "output_type": "stream",
     "text": [
      "ERROR 1: PROJ: proj_create_from_database: Open of /home/jovyan/lustre_scratch/conda-envs/coralshift/share/proj failed\n"
     ]
    }
   ],
   "source": [
    "# # import necessary packages\n",
    "\n",
    "from __future__ import annotations\n",
    "\n",
    "from pathlib import Path\n",
    "import xarray as xa\n",
    "import numpy as np\n",
    "\n",
    "import matplotlib.pyplot as plt\n",
    "import matplotlib.patches as patches\n",
    "import cartopy.crs as ccrs\n",
    "\n",
    "from rasterio.plot import show\n",
    "import rioxarray as rio\n",
    "import rasterio\n",
    "\n",
    "from coralshift.processing import spatial_data\n",
    "from coralshift.utils import file_ops, directories, utils\n",
    "from coralshift.dataloading import data_structure, climate_data, bathymetry, reef_extent\n",
    "from coralshift.utils import directories\n",
    "from coralshift.plotting import spatial_plots\n",
    "\n"
   ]
  },
  {
   "attachments": {},
   "cell_type": "markdown",
   "metadata": {},
   "source": [
    "## Specify your area of interest\n",
    "\n",
    "The availability of high-resolution (30m) bathymetric data means that areas of interest are currently confided to 4 areas on the Great Barrier Reef (GBR). The following code downloads the specified area of bathymetry data:\n",
    "\n",
    "| Reef Area Name                \t| Latitudes \t| Longitudes \t|\n",
    "|-------------------------------\t|-----------\t|------------\t|\n",
    "| Great Barrier Reef A 2020 30m \t| 10-17°S   \t| 142-147°E  \t|\n",
    "| Great Barrier Reef B 2020 30m \t| 16-23°S   \t| 144-149°E  \t|\n",
    "| Great Barrier Reef C 2020 30m \t| 18-24°S   \t| 148-154°E  \t|\n",
    "| Great Barrier Reef D 2020 30m \t| 23-29°S   \t| 150-156°E  \t|\n",
    "\n",
    "\n",
    "![bathymetry_regions.png](https://github.com/orlando-code/coralshift/blob/dev-setup/bathymetry_regions.png?raw=true)\n",
    "\n",
    "\n",
    "Due to the computational load required to run ML models on such high resolution data, bathymetric data is currently upsampled to 4km grid cells and areas are limited to a quarter of the GBR's total area.\n"
   ]
  },
  {
   "cell_type": "code",
   "execution_count": 4,
   "metadata": {},
   "outputs": [
    {
     "name": "stdout",
     "output_type": "stream",
     "text": [
      "Data will be resampled to 0.03691 degrees (~4000m).\n"
     ]
    }
   ],
   "source": [
    "# choose resolution (should be above 1000m for processing in decent time)\n",
    "# native resolutions are 1 (1, \"m\") or 1/12 degrees (1/12, \"d\"), or 4000m (4000, \"m\") or 1000m (1000, \"m\")\n",
    "target_resolution_m, target_resolution_d = spatial_data.choose_resolution(\n",
    "    resolution=4000, unit=\"m\")\n",
    "\n",
    "print(f\"Data will be resampled to {target_resolution_d:.05f} degrees (~{target_resolution_m}m).\")"
   ]
  },
  {
   "attachments": {},
   "cell_type": "markdown",
   "metadata": {},
   "source": [
    "## Bathymetry"
   ]
  },
  {
   "cell_type": "code",
   "execution_count": 10,
   "metadata": {},
   "outputs": [
    {
     "name": "stdout",
     "output_type": "stream",
     "text": [
      "Great_Barrier_Reef_D_2020_30m_MSL_cog already exists in /lustre_scratch/orlando-code/datasets/bathymetry\n",
      "Writing bathymetry_D_0-00030d to file at /lustre_scratch/orlando-code/datasets/bathymetry/bathymetry_D_0-00030d.nc\n"
     ]
    }
   ],
   "source": [
    "# select your area. Region \"A\" is used in the report\n",
    "area_name = \"D\"\n",
    "\n",
    "reef_areas = bathymetry.ReefAreas()\n",
    "file_name = reef_areas.get_short_filename(area_name)\n",
    "\n",
    "\n",
    "bath_dir = directories.get_bathymetry_datasets_dir()\n",
    "_, xa_bath = bathymetry.generate_bathymetry_xa_da(area_name)\n",
    "_, xa_bath_upsampled = spatial_data.upsample_and_save_xa_a(\n",
    "    bath_dir, xa_d=xa_bath, name=file_name, target_resolution_d=target_resolution_d)"
   ]
  },
  {
   "cell_type": "code",
   "execution_count": null,
   "metadata": {},
   "outputs": [],
   "source": [
    "# # compute dasked arrays for plotting\n",
    "# xa_bath_upsampled = xa_bath_upsampled.compute()\n",
    "\n",
    "# # N.B. native resolution not plotted since so high (takes ~10 minutes)\n",
    "# spatial_plots.plot_spatial(xa_bath_upsampled, val_lims=(-50,0), name=\"depth\", \n",
    "#     title=f\"Bathymetry at {target_resolution_m}m resolution\")"
   ]
  },
  {
   "attachments": {},
   "cell_type": "markdown",
   "metadata": {},
   "source": [
    "## Calculate slopes"
   ]
  },
  {
   "cell_type": "code",
   "execution_count": null,
   "metadata": {},
   "outputs": [],
   "source": [
    "# calculate absolute gradients from bathymetry and save to file\n",
    "grads, grads_path = bathymetry.generate_gradient_magnitude_nc(extract_variable(xa_bath_upsampled), sigma=1)"
   ]
  },
  {
   "cell_type": "code",
   "execution_count": null,
   "metadata": {},
   "outputs": [],
   "source": [
    "### Display different resolutions\n",
    "fig, (ax_left, ax_right) = plt.subplots(1, 2, figsize=(16,9), subplot_kw=dict(projection=ccrs.PlateCarree()))\n",
    "\n",
    "ax1 = spatial_plots.plot_spatial(xa_bath_upsampled, \n",
    "    fax= (fig,ax_left), val_lims=(-50,0), name=\"depth\", title=f\"Bathymetry at {target_resolution_m}m resolution\")\n",
    "ax2 = spatial_plots.plot_spatial(grads, \n",
    "    fax=(fig, ax_right), val_lims=(0,10), name=\"gradient magnitude\", \n",
    "    title=f\"Absolute seafloor gradients at {target_resolution_m}m resolution\")"
   ]
  },
  {
   "attachments": {},
   "cell_type": "markdown",
   "metadata": {},
   "source": [
    "## Coral ground truth: Allen Coral Atlas\n",
    "\n",
    "\n",
    "There is currently no API for accessing data directly from your local machine. Please follow the instructions* below:\n",
    "1. Make an account on the [Allen Coral Atlas](https://allencoralatlas.org/atlas/#6.00/-13.5257/144.5000) webpage\n",
    "2. Generate a geojson file using the code cell below (generated in the `reef_baseline` directory)\n",
    "\n",
    "*Instructions correct as of 30.06.23"
   ]
  },
  {
   "cell_type": "code",
   "execution_count": null,
   "metadata": {},
   "outputs": [],
   "source": [
    "# generate geojson file in reef_baseline directory for download from the Allen Coral Atlas\n",
    "geojson_path = reef_extent.generate_area_geojson(\n",
    "    area_class = reef_areas, area_name=file_name, save_dir=directories.get_reef_baseline_dir())\n",
    "\n",
    "print(f\"geoJSON file saved at {geojson_path} for upload to GEE\")"
   ]
  },
  {
   "attachments": {},
   "cell_type": "markdown",
   "metadata": {},
   "source": [
    "3. Upload the geojson file via:\n",
    "\n",
    "    \\> My Areas > Upload a GeoJSON or KML file\n",
    "4. Specify a region name and navigate to the \"Download data\" tab when it becomes available.\n",
    "4. Select \"Benthic Map (OGC GeoPackage (.gpkg))\". Sign the terms and conditions \n",
    "and select \"Prepare Download\". After ~two minutes a sequence of emails will arrive notifying you that your download is ready.\n",
    "5. Download the file and unzip it using a unzipping utility. Then, add the `benthic.gpkg` file to the `reef_baseline` directory.\n",
    "6. Continue with the subsequent code cells.\n",
    "\n",
    "----\n",
    "\n",
    "You have now downloaded:\n",
    "\n",
    "**`benthic.gpkg`**\n",
    "\n",
    "This is a dataframe of Shapely objects (\"geometry\" polygons) defining the boundaries of different benthic classes:\n",
    "\n",
    "| Class           \t| Number of polygons \t|\n",
    "|-----------------\t|--------------------\t|\n",
    "| Coral/Algae     \t| 877787             \t|\n",
    "| Rock            \t| 766391             \t|\n",
    "| Rubble          \t| 568041             \t|\n",
    "| Sand            \t| 518805             \t|\n",
    "| Microalgal Mats \t| 27569              \t|"
   ]
  },
  {
   "cell_type": "code",
   "execution_count": null,
   "metadata": {},
   "outputs": [],
   "source": [
    "# read .gpkg file and save to .pkl format for faster reading later\n",
    "benthic_df = file_ops.check_pkl_else_read_gpkg(directories.get_reef_baseline_dir(), filename = \"benthic.pkl\")\n",
    "benthic_df.head()"
   ]
  },
  {
   "attachments": {},
   "cell_type": "markdown",
   "metadata": {},
   "source": [
    "### Rasterize polygons\n",
    "\n",
    "Rasterized arrays are necessary to process the geospatial data e.g. to align different gridcells. Doing this locally through rasterio requires such significant compute that cloud computing is the only reasonable option. A JavaScript file (`rasterization.js`) for use in Google Earth Engine (GEE) is accessible [here](https://code.earthengine.google.com/ae68c68309b04643e8f5f5dc45f0dbca). Visit [this page](https://developers.google.com/earth-engine/guides/getstarted) for information regarding setting up a GEE account and getting started.\n",
    "\n",
    "GEE requires shapefile (.shp) format to ingest data. This is generated in the following cell:\n"
   ]
  },
  {
   "cell_type": "code",
   "execution_count": null,
   "metadata": {},
   "outputs": [],
   "source": [
    "# process df to gpd.GeoDataFrame. \n",
    "# We are interested only in the \"Coral/Algae\" class, so gdf is limited to these rows by default\n",
    "gdf_coral = reef_extent.process_benthic_pd(benthic_df)\n",
    "# save as shapely file (if not already present) for rasterisation in GEE\n",
    "reef_extent.generate_coral_shp(gdf_coral)"
   ]
  },
  {
   "attachments": {},
   "cell_type": "markdown",
   "metadata": {},
   "source": [
    "1. Ingest the shapefile (and all accompanying files: .cpg, .dbf, .prj, .shx) as a GEE asset.\n",
    "2. Import the subsequent `Table` into the script.\n",
    "3. Update the `resolution` variable as desired (usually that matching the target resolution specified above).\n",
    "3. Run the script, and submit the `coral_raster_Xm` task. Sit back and wait! After ~1 hour (depending on the chosen resolution) the rasters will be available to download from your Google Drive as GeoTIFFS: after this, add them to the `reef_baseline` directory and carry on with the following cells."
   ]
  },
  {
   "cell_type": "code",
   "execution_count": null,
   "metadata": {},
   "outputs": [],
   "source": [
    "# process all tifs in folder, casting to nc files for future use\n",
    "reef_extent.process_reef_extent_tifs()\n"
   ]
  },
  {
   "cell_type": "code",
   "execution_count": null,
   "metadata": {},
   "outputs": [],
   "source": [
    "# TODO: automated visualisation\n",
    "\n",
    "gt_tif_dict['coral_raster_1000m'].plot()"
   ]
  },
  {
   "attachments": {},
   "cell_type": "markdown",
   "metadata": {},
   "source": [
    "## Global Ocean Physics Reanalysis\n",
    "\n",
    "The dataset metadata can be accessed [here](https://doi.org/10.48670/moi-00021)."
   ]
  },
  {
   "attachments": {},
   "cell_type": "markdown",
   "metadata": {},
   "source": [
    "### Download data\n",
    "\n",
    "You're required to set up an account with the [Copernicus Marine Service](https://marine.copernicus.eu/). \n",
    "\n",
    "\n",
    "**Warning:**  this is a large amount of data for which the only way to gather it is to query the copernicus API via motu. Requests are queued, and request sizes are floated to the top of the queue. The following functions take advantage of this by splitting a single request up by date adn variable before amalgamating the files, but this can still take a **very long time**, and vary significantly depending on overall website traffic. For those who aren't interested in the entire database, it's highly recommended that you use the toy dataset provided as a `.npy` file in the GitHub repository.\n"
   ]
  },
  {
   "cell_type": "code",
   "execution_count": null,
   "metadata": {},
   "outputs": [
    {
     "name": "stderr",
     "output_type": "stream",
     "text": [
      " variable loop:   0%|          | 0/7 [00:00<?, ?it/s]"
     ]
    },
    {
     "name": "stdout",
     "output_type": "stream",
     "text": [
      "Downloading mlotst data...\n"
     ]
    },
    {
     "name": "stderr",
     "output_type": "stream",
     "text": []
    },
    {
     "name": "stdout",
     "output_type": "stream",
     "text": [
      "2023-06-23 17:14:23.357 [ INFO] Asynchronous mode set\n",
      "2023-06-23 17:14:23.357 [ INFO] Authenticating user otimmerman for service https://my.cmems-du.eu/motu-web/Motu\n",
      "2023-06-23 17:14:24.095 [ INFO] Requesting file to download (this can take a while)...\n",
      "2023-06-23 17:14:29.515 [ INFO] Authenticating user otimmerman for service https://my.cmems-du.eu/motu-web/Motu\n",
      "2023-06-23 17:14:35.648 [ INFO] The product is ready for download\n",
      "2023-06-23 17:14:35.648 [ INFO] Downloading file (this can take a while)...\n",
      "2023-06-23 17:14:35.833 [ INFO] File type: application/x-netcdf\n",
      "2023-06-23 17:14:35.833 [ INFO] File size: 127.7 kB (127732 B)\n",
      "2023-06-23 17:14:35.833 [ INFO] Downloading file /lustre_scratch/orlando-code/datasets/global_ocean_reanalysis/monthly_means/Great_Barrier_Reef_B/mlotst/VARS_mlotst_DATES_1992-12-31_1993-12-31_LONS_144_149_LATS_-16_-23_DEPTHS_0-3_1.nc\n",
      "2023-06-23 17:14:35.863 [ INFO] - 127.7 kB (51.3%)\n",
      "2023-06-23 17:14:35.922 [ INFO] - 127.7 kB (100.0%)\n",
      "2023-06-23 17:14:35.922 [ INFO] Processing  time : 0:00:12.476544\n",
      "2023-06-23 17:14:35.922 [ INFO] Downloading time : 0:00:00.089000\n",
      "2023-06-23 17:14:35.923 [ INFO] Total time       : 0:00:12.565544\n",
      "2023-06-23 17:14:35.923 [ INFO] Download rate    : 465.2 kB/s\n",
      "2023-06-23 17:14:35.926 [ INFO] Done\n",
      "\n",
      "Dictionary saved as json file at /lustre_scratch/orlando-code/datasets/global_ocean_reanalysis/monthly_means/Great_Barrier_Reef_B/mlotst/VARS_mlotst_DATES_1992-12-31_1993-12-31_LONS_144_149_LATS_-16_-23_DEPTHS_0-3_1.json\n",
      "VARS_mlotst_DATES_1992-12-31_1993-12-31_LONS_144_149_LATS_-16_-23_DEPTHS_0-3_1 written to /lustre_scratch/orlando-code/datasets/global_ocean_reanalysis/monthly_means/Great_Barrier_Reef_B/mlotst and metadata generated.\n"
     ]
    },
    {
     "name": "stderr",
     "output_type": "stream",
     "text": []
    },
    {
     "name": "stdout",
     "output_type": "stream",
     "text": [
      "2023-06-23 17:14:37.562 [ INFO] Asynchronous mode set\n",
      "2023-06-23 17:14:37.562 [ INFO] Authenticating user otimmerman for service https://my.cmems-du.eu/motu-web/Motu\n",
      "2023-06-23 17:14:38.279 [ INFO] Requesting file to download (this can take a while)...\n",
      "2023-06-23 17:14:43.694 [ INFO] Authenticating user otimmerman for service https://my.cmems-du.eu/motu-web/Motu\n",
      "2023-06-23 17:14:50.123 [ INFO] The product is ready for download\n",
      "2023-06-23 17:14:50.124 [ INFO] Downloading file (this can take a while)...\n",
      "2023-06-23 17:14:50.303 [ INFO] File type: application/x-netcdf\n",
      "2023-06-23 17:14:50.303 [ INFO] File size: 127.7 kB (127732 B)\n",
      "2023-06-23 17:14:50.303 [ INFO] Downloading file /lustre_scratch/orlando-code/datasets/global_ocean_reanalysis/monthly_means/Great_Barrier_Reef_B/mlotst/VARS_mlotst_DATES_1993-12-31_1994-12-31_LONS_144_149_LATS_-16_-23_DEPTHS_0-3_1.nc\n",
      "2023-06-23 17:14:50.332 [ INFO] - 127.7 kB (51.3%)\n",
      "2023-06-23 17:14:50.361 [ INFO] - 127.7 kB (100.0%)\n",
      "2023-06-23 17:14:50.361 [ INFO] Processing  time : 0:00:12.741827\n",
      "2023-06-23 17:14:50.361 [ INFO] Downloading time : 0:00:00.057838\n",
      "2023-06-23 17:14:50.361 [ INFO] Total time       : 0:00:12.799665\n",
      "2023-06-23 17:14:50.361 [ INFO] Download rate    : 537.5 kB/s\n",
      "2023-06-23 17:14:50.364 [ INFO] Done\n",
      "\n",
      "Dictionary saved as json file at /lustre_scratch/orlando-code/datasets/global_ocean_reanalysis/monthly_means/Great_Barrier_Reef_B/mlotst/VARS_mlotst_DATES_1993-12-31_1994-12-31_LONS_144_149_LATS_-16_-23_DEPTHS_0-3_1.json\n",
      "VARS_mlotst_DATES_1993-12-31_1994-12-31_LONS_144_149_LATS_-16_-23_DEPTHS_0-3_1 written to /lustre_scratch/orlando-code/datasets/global_ocean_reanalysis/monthly_means/Great_Barrier_Reef_B/mlotst and metadata generated.\n"
     ]
    },
    {
     "name": "stderr",
     "output_type": "stream",
     "text": []
    },
    {
     "name": "stdout",
     "output_type": "stream",
     "text": [
      "2023-06-23 17:14:52.012 [ INFO] Asynchronous mode set\n",
      "2023-06-23 17:14:52.012 [ INFO] Authenticating user otimmerman for service https://my.cmems-du.eu/motu-web/Motu\n",
      "2023-06-23 17:14:52.712 [ INFO] Requesting file to download (this can take a while)...\n",
      "2023-06-23 17:14:58.131 [ INFO] Authenticating user otimmerman for service https://my.cmems-du.eu/motu-web/Motu\n",
      "2023-06-23 17:15:04.569 [ INFO] The product is ready for download\n",
      "2023-06-23 17:15:04.569 [ INFO] Downloading file (this can take a while)...\n",
      "2023-06-23 17:15:04.720 [ INFO] File type: application/x-netcdf\n",
      "2023-06-23 17:15:04.720 [ INFO] File size: 127.7 kB (127732 B)\n",
      "2023-06-23 17:15:04.720 [ INFO] Downloading file /lustre_scratch/orlando-code/datasets/global_ocean_reanalysis/monthly_means/Great_Barrier_Reef_B/mlotst/VARS_mlotst_DATES_1994-12-31_1995-12-31_LONS_144_149_LATS_-16_-23_DEPTHS_0-3_1.nc\n",
      "2023-06-23 17:15:04.778 [ INFO] - 127.7 kB (51.3%)\n",
      "2023-06-23 17:15:04.809 [ INFO] - 127.7 kB (100.0%)\n",
      "2023-06-23 17:15:04.809 [ INFO] Processing  time : 0:00:12.709125\n",
      "2023-06-23 17:15:04.809 [ INFO] Downloading time : 0:00:00.088323\n",
      "2023-06-23 17:15:04.809 [ INFO] Total time       : 0:00:12.797448\n",
      "2023-06-23 17:15:04.809 [ INFO] Download rate    : 532.8 kB/s\n",
      "2023-06-23 17:15:04.811 [ INFO] Done\n",
      "\n",
      "Dictionary saved as json file at /lustre_scratch/orlando-code/datasets/global_ocean_reanalysis/monthly_means/Great_Barrier_Reef_B/mlotst/VARS_mlotst_DATES_1994-12-31_1995-12-31_LONS_144_149_LATS_-16_-23_DEPTHS_0-3_1.json\n",
      "VARS_mlotst_DATES_1994-12-31_1995-12-31_LONS_144_149_LATS_-16_-23_DEPTHS_0-3_1 written to /lustre_scratch/orlando-code/datasets/global_ocean_reanalysis/monthly_means/Great_Barrier_Reef_B/mlotst and metadata generated.\n"
     ]
    },
    {
     "name": "stderr",
     "output_type": "stream",
     "text": []
    },
    {
     "name": "stdout",
     "output_type": "stream",
     "text": [
      "2023-06-23 17:15:06.456 [ INFO] Asynchronous mode set\n",
      "2023-06-23 17:15:06.457 [ INFO] Authenticating user otimmerman for service https://my.cmems-du.eu/motu-web/Motu\n",
      "2023-06-23 17:15:07.182 [ INFO] Requesting file to download (this can take a while)...\n",
      "2023-06-23 17:15:12.615 [ INFO] Authenticating user otimmerman for service https://my.cmems-du.eu/motu-web/Motu\n",
      "2023-06-23 17:15:18.738 [ INFO] The product is ready for download\n",
      "2023-06-23 17:15:18.738 [ INFO] Downloading file (this can take a while)...\n",
      "2023-06-23 17:15:18.895 [ INFO] File type: application/x-netcdf\n",
      "2023-06-23 17:15:18.895 [ INFO] File size: 127.7 kB (127732 B)\n",
      "2023-06-23 17:15:18.895 [ INFO] Downloading file /lustre_scratch/orlando-code/datasets/global_ocean_reanalysis/monthly_means/Great_Barrier_Reef_B/mlotst/VARS_mlotst_DATES_1995-12-31_1996-12-31_LONS_144_149_LATS_-16_-23_DEPTHS_0-3_1.nc\n",
      "2023-06-23 17:15:18.954 [ INFO] - 127.7 kB (51.3%)\n",
      "2023-06-23 17:15:18.984 [ INFO] - 127.7 kB (100.0%)\n",
      "2023-06-23 17:15:18.984 [ INFO] Processing  time : 0:00:12.438976\n",
      "2023-06-23 17:15:18.984 [ INFO] Downloading time : 0:00:00.089165\n",
      "2023-06-23 17:15:18.984 [ INFO] Total time       : 0:00:12.528141\n",
      "2023-06-23 17:15:18.984 [ INFO] Download rate    : 519.7 kB/s\n",
      "2023-06-23 17:15:18.987 [ INFO] Done\n",
      "\n",
      "Dictionary saved as json file at /lustre_scratch/orlando-code/datasets/global_ocean_reanalysis/monthly_means/Great_Barrier_Reef_B/mlotst/VARS_mlotst_DATES_1995-12-31_1996-12-31_LONS_144_149_LATS_-16_-23_DEPTHS_0-3_1.json\n",
      "VARS_mlotst_DATES_1995-12-31_1996-12-31_LONS_144_149_LATS_-16_-23_DEPTHS_0-3_1 written to /lustre_scratch/orlando-code/datasets/global_ocean_reanalysis/monthly_means/Great_Barrier_Reef_B/mlotst and metadata generated.\n"
     ]
    },
    {
     "name": "stderr",
     "output_type": "stream",
     "text": []
    },
    {
     "name": "stdout",
     "output_type": "stream",
     "text": [
      "2023-06-23 17:15:20.615 [ INFO] Asynchronous mode set\n",
      "2023-06-23 17:15:20.616 [ INFO] Authenticating user otimmerman for service https://my.cmems-du.eu/motu-web/Motu\n",
      "2023-06-23 17:15:23.039 [ INFO] Requesting file to download (this can take a while)...\n",
      "2023-06-23 17:15:28.456 [ INFO] Authenticating user otimmerman for service https://my.cmems-du.eu/motu-web/Motu\n",
      "2023-06-23 17:15:34.570 [ INFO] The product is ready for download\n",
      "2023-06-23 17:15:34.570 [ INFO] Downloading file (this can take a while)...\n",
      "2023-06-23 17:15:34.721 [ INFO] File type: application/x-netcdf\n",
      "2023-06-23 17:15:34.721 [ INFO] File size: 127.7 kB (127732 B)\n",
      "2023-06-23 17:15:34.721 [ INFO] Downloading file /lustre_scratch/orlando-code/datasets/global_ocean_reanalysis/monthly_means/Great_Barrier_Reef_B/mlotst/VARS_mlotst_DATES_1996-12-31_1997-12-31_LONS_144_149_LATS_-16_-23_DEPTHS_0-3_1.nc\n",
      "2023-06-23 17:15:34.780 [ INFO] - 127.7 kB (51.3%)\n",
      "2023-06-23 17:15:34.810 [ INFO] - 127.7 kB (100.0%)\n",
      "2023-06-23 17:15:34.810 [ INFO] Processing  time : 0:00:14.105834\n",
      "2023-06-23 17:15:34.810 [ INFO] Downloading time : 0:00:00.089126\n",
      "2023-06-23 17:15:34.810 [ INFO] Total time       : 0:00:14.194960\n",
      "2023-06-23 17:15:34.810 [ INFO] Download rate    : 532.1 kB/s\n",
      "2023-06-23 17:15:34.812 [ INFO] Done\n",
      "\n",
      "Dictionary saved as json file at /lustre_scratch/orlando-code/datasets/global_ocean_reanalysis/monthly_means/Great_Barrier_Reef_B/mlotst/VARS_mlotst_DATES_1996-12-31_1997-12-31_LONS_144_149_LATS_-16_-23_DEPTHS_0-3_1.json\n",
      "VARS_mlotst_DATES_1996-12-31_1997-12-31_LONS_144_149_LATS_-16_-23_DEPTHS_0-3_1 written to /lustre_scratch/orlando-code/datasets/global_ocean_reanalysis/monthly_means/Great_Barrier_Reef_B/mlotst and metadata generated.\n"
     ]
    },
    {
     "name": "stderr",
     "output_type": "stream",
     "text": []
    },
    {
     "name": "stdout",
     "output_type": "stream",
     "text": [
      "2023-06-23 17:15:36.406 [ INFO] Asynchronous mode set\n",
      "2023-06-23 17:15:36.406 [ INFO] Authenticating user otimmerman for service https://my.cmems-du.eu/motu-web/Motu\n",
      "2023-06-23 17:15:37.362 [ INFO] Requesting file to download (this can take a while)...\n",
      "2023-06-23 17:15:42.786 [ INFO] Authenticating user otimmerman for service https://my.cmems-du.eu/motu-web/Motu\n",
      "2023-06-23 17:15:50.009 [ INFO] The product is ready for download\n",
      "2023-06-23 17:15:50.009 [ INFO] Downloading file (this can take a while)...\n",
      "2023-06-23 17:15:50.161 [ INFO] File type: application/x-netcdf\n",
      "2023-06-23 17:15:50.161 [ INFO] File size: 127.7 kB (127732 B)\n",
      "2023-06-23 17:15:50.161 [ INFO] Downloading file /lustre_scratch/orlando-code/datasets/global_ocean_reanalysis/monthly_means/Great_Barrier_Reef_B/mlotst/VARS_mlotst_DATES_1997-12-31_1998-12-31_LONS_144_149_LATS_-16_-23_DEPTHS_0-3_1.nc\n",
      "2023-06-23 17:15:50.221 [ INFO] - 127.7 kB (51.3%)\n",
      "2023-06-23 17:15:50.251 [ INFO] - 127.7 kB (100.0%)\n",
      "2023-06-23 17:15:50.251 [ INFO] Processing  time : 0:00:13.755594\n",
      "2023-06-23 17:15:50.251 [ INFO] Downloading time : 0:00:00.089941\n",
      "2023-06-23 17:15:50.251 [ INFO] Total time       : 0:00:13.845535\n",
      "2023-06-23 17:15:50.251 [ INFO] Download rate    : 526.8 kB/s\n",
      "2023-06-23 17:15:50.254 [ INFO] Done\n",
      "\n",
      "Dictionary saved as json file at /lustre_scratch/orlando-code/datasets/global_ocean_reanalysis/monthly_means/Great_Barrier_Reef_B/mlotst/VARS_mlotst_DATES_1997-12-31_1998-12-31_LONS_144_149_LATS_-16_-23_DEPTHS_0-3_1.json\n",
      "VARS_mlotst_DATES_1997-12-31_1998-12-31_LONS_144_149_LATS_-16_-23_DEPTHS_0-3_1 written to /lustre_scratch/orlando-code/datasets/global_ocean_reanalysis/monthly_means/Great_Barrier_Reef_B/mlotst and metadata generated.\n"
     ]
    },
    {
     "name": "stderr",
     "output_type": "stream",
     "text": []
    },
    {
     "name": "stdout",
     "output_type": "stream",
     "text": [
      "2023-06-23 17:15:51.906 [ INFO] Asynchronous mode set\n",
      "2023-06-23 17:15:51.906 [ INFO] Authenticating user otimmerman for service https://my.cmems-du.eu/motu-web/Motu\n",
      "2023-06-23 17:15:52.601 [ INFO] Requesting file to download (this can take a while)...\n",
      "2023-06-23 17:15:58.020 [ INFO] Authenticating user otimmerman for service https://my.cmems-du.eu/motu-web/Motu\n",
      "2023-06-23 17:16:04.145 [ INFO] The product is ready for download\n",
      "2023-06-23 17:16:04.145 [ INFO] Downloading file (this can take a while)...\n",
      "2023-06-23 17:16:04.297 [ INFO] File type: application/x-netcdf\n",
      "2023-06-23 17:16:04.297 [ INFO] File size: 127.7 kB (127732 B)\n",
      "2023-06-23 17:16:04.297 [ INFO] Downloading file /lustre_scratch/orlando-code/datasets/global_ocean_reanalysis/monthly_means/Great_Barrier_Reef_B/mlotst/VARS_mlotst_DATES_1998-12-31_1999-12-31_LONS_144_149_LATS_-16_-23_DEPTHS_0-3_1.nc\n",
      "2023-06-23 17:16:04.357 [ INFO] - 127.7 kB (51.3%)\n",
      "2023-06-23 17:16:04.385 [ INFO] - 127.7 kB (100.0%)\n",
      "2023-06-23 17:16:04.385 [ INFO] Processing  time : 0:00:12.391610\n",
      "2023-06-23 17:16:04.385 [ INFO] Downloading time : 0:00:00.088337\n",
      "2023-06-23 17:16:04.385 [ INFO] Total time       : 0:00:12.479947\n",
      "2023-06-23 17:16:04.385 [ INFO] Download rate    : 531.8 kB/s\n",
      "2023-06-23 17:16:04.388 [ INFO] Done\n",
      "\n",
      "Dictionary saved as json file at /lustre_scratch/orlando-code/datasets/global_ocean_reanalysis/monthly_means/Great_Barrier_Reef_B/mlotst/VARS_mlotst_DATES_1998-12-31_1999-12-31_LONS_144_149_LATS_-16_-23_DEPTHS_0-3_1.json\n",
      "VARS_mlotst_DATES_1998-12-31_1999-12-31_LONS_144_149_LATS_-16_-23_DEPTHS_0-3_1 written to /lustre_scratch/orlando-code/datasets/global_ocean_reanalysis/monthly_means/Great_Barrier_Reef_B/mlotst and metadata generated.\n"
     ]
    },
    {
     "name": "stderr",
     "output_type": "stream",
     "text": []
    },
    {
     "name": "stdout",
     "output_type": "stream",
     "text": [
      "2023-06-23 17:16:05.991 [ INFO] Asynchronous mode set\n",
      "2023-06-23 17:16:05.991 [ INFO] Authenticating user otimmerman for service https://my.cmems-du.eu/motu-web/Motu\n",
      "2023-06-23 17:16:06.695 [ INFO] Requesting file to download (this can take a while)...\n",
      "2023-06-23 17:16:12.121 [ INFO] Authenticating user otimmerman for service https://my.cmems-du.eu/motu-web/Motu\n",
      "2023-06-23 17:16:18.320 [ INFO] The product is ready for download\n",
      "2023-06-23 17:16:18.320 [ INFO] Downloading file (this can take a while)...\n",
      "2023-06-23 17:16:18.502 [ INFO] File type: application/x-netcdf\n",
      "2023-06-23 17:16:18.502 [ INFO] File size: 127.7 kB (127732 B)\n",
      "2023-06-23 17:16:18.502 [ INFO] Downloading file /lustre_scratch/orlando-code/datasets/global_ocean_reanalysis/monthly_means/Great_Barrier_Reef_B/mlotst/VARS_mlotst_DATES_1999-12-31_2000-12-31_LONS_144_149_LATS_-16_-23_DEPTHS_0-3_1.nc\n",
      "2023-06-23 17:16:18.532 [ INFO] - 127.7 kB (51.3%)\n",
      "2023-06-23 17:16:18.590 [ INFO] - 127.7 kB (100.0%)\n",
      "2023-06-23 17:16:18.590 [ INFO] Processing  time : 0:00:12.511376\n",
      "2023-06-23 17:16:18.590 [ INFO] Downloading time : 0:00:00.088201\n",
      "2023-06-23 17:16:18.590 [ INFO] Total time       : 0:00:12.599577\n",
      "2023-06-23 17:16:18.590 [ INFO] Download rate    : 473.2 kB/s\n",
      "2023-06-23 17:16:18.593 [ INFO] Done\n",
      "\n",
      "Dictionary saved as json file at /lustre_scratch/orlando-code/datasets/global_ocean_reanalysis/monthly_means/Great_Barrier_Reef_B/mlotst/VARS_mlotst_DATES_1999-12-31_2000-12-31_LONS_144_149_LATS_-16_-23_DEPTHS_0-3_1.json\n",
      "VARS_mlotst_DATES_1999-12-31_2000-12-31_LONS_144_149_LATS_-16_-23_DEPTHS_0-3_1 written to /lustre_scratch/orlando-code/datasets/global_ocean_reanalysis/monthly_means/Great_Barrier_Reef_B/mlotst and metadata generated.\n"
     ]
    },
    {
     "name": "stderr",
     "output_type": "stream",
     "text": []
    },
    {
     "name": "stdout",
     "output_type": "stream",
     "text": [
      "2023-06-23 17:16:20.193 [ INFO] Asynchronous mode set\n",
      "2023-06-23 17:16:20.193 [ INFO] Authenticating user otimmerman for service https://my.cmems-du.eu/motu-web/Motu\n",
      "2023-06-23 17:16:22.603 [ INFO] Requesting file to download (this can take a while)...\n",
      "2023-06-23 17:16:28.786 [ INFO] Authenticating user otimmerman for service https://my.cmems-du.eu/motu-web/Motu\n",
      "2023-06-23 17:16:34.899 [ INFO] The product is ready for download\n",
      "2023-06-23 17:16:34.899 [ INFO] Downloading file (this can take a while)...\n",
      "2023-06-23 17:16:35.053 [ INFO] File type: application/x-netcdf\n",
      "2023-06-23 17:16:35.053 [ INFO] File size: 127.7 kB (127732 B)\n",
      "2023-06-23 17:16:35.053 [ INFO] Downloading file /lustre_scratch/orlando-code/datasets/global_ocean_reanalysis/monthly_means/Great_Barrier_Reef_B/mlotst/VARS_mlotst_DATES_2000-12-31_2001-12-31_LONS_144_149_LATS_-16_-23_DEPTHS_0-3_1.nc\n",
      "2023-06-23 17:16:35.112 [ INFO] - 127.7 kB (51.3%)\n",
      "2023-06-23 17:16:35.142 [ INFO] - 127.7 kB (100.0%)\n",
      "2023-06-23 17:16:35.142 [ INFO] Processing  time : 0:00:14.860827\n",
      "2023-06-23 17:16:35.142 [ INFO] Downloading time : 0:00:00.089016\n",
      "2023-06-23 17:16:35.143 [ INFO] Total time       : 0:00:14.949843\n",
      "2023-06-23 17:16:35.143 [ INFO] Download rate    : 525.4 kB/s\n",
      "2023-06-23 17:16:35.145 [ INFO] Done\n",
      "\n",
      "Dictionary saved as json file at /lustre_scratch/orlando-code/datasets/global_ocean_reanalysis/monthly_means/Great_Barrier_Reef_B/mlotst/VARS_mlotst_DATES_2000-12-31_2001-12-31_LONS_144_149_LATS_-16_-23_DEPTHS_0-3_1.json\n",
      "VARS_mlotst_DATES_2000-12-31_2001-12-31_LONS_144_149_LATS_-16_-23_DEPTHS_0-3_1 written to /lustre_scratch/orlando-code/datasets/global_ocean_reanalysis/monthly_means/Great_Barrier_Reef_B/mlotst and metadata generated.\n"
     ]
    },
    {
     "name": "stderr",
     "output_type": "stream",
     "text": []
    },
    {
     "name": "stdout",
     "output_type": "stream",
     "text": [
      "2023-06-23 17:16:36.759 [ INFO] Asynchronous mode set\n",
      "2023-06-23 17:16:36.760 [ INFO] Authenticating user otimmerman for service https://my.cmems-du.eu/motu-web/Motu\n",
      "2023-06-23 17:16:38.972 [ INFO] Requesting file to download (this can take a while)...\n",
      "2023-06-23 17:16:44.595 [ INFO] Authenticating user otimmerman for service https://my.cmems-du.eu/motu-web/Motu\n",
      "2023-06-23 17:16:50.902 [ INFO] The product is ready for download\n",
      "2023-06-23 17:16:50.902 [ INFO] Downloading file (this can take a while)...\n",
      "2023-06-23 17:16:51.059 [ INFO] File type: application/x-netcdf\n",
      "2023-06-23 17:16:51.059 [ INFO] File size: 127.7 kB (127732 B)\n",
      "2023-06-23 17:16:51.059 [ INFO] Downloading file /lustre_scratch/orlando-code/datasets/global_ocean_reanalysis/monthly_means/Great_Barrier_Reef_B/mlotst/VARS_mlotst_DATES_2001-12-31_2002-12-31_LONS_144_149_LATS_-16_-23_DEPTHS_0-3_1.nc\n",
      "2023-06-23 17:16:51.117 [ INFO] - 127.7 kB (51.3%)\n",
      "2023-06-23 17:16:51.148 [ INFO] - 127.7 kB (100.0%)\n",
      "2023-06-23 17:16:51.148 [ INFO] Processing  time : 0:00:14.299888\n",
      "2023-06-23 17:16:51.148 [ INFO] Downloading time : 0:00:00.089339\n",
      "2023-06-23 17:16:51.148 [ INFO] Total time       : 0:00:14.389227\n",
      "2023-06-23 17:16:51.148 [ INFO] Download rate    : 520.1 kB/s\n",
      "2023-06-23 17:16:51.151 [ INFO] Done\n",
      "\n",
      "Dictionary saved as json file at /lustre_scratch/orlando-code/datasets/global_ocean_reanalysis/monthly_means/Great_Barrier_Reef_B/mlotst/VARS_mlotst_DATES_2001-12-31_2002-12-31_LONS_144_149_LATS_-16_-23_DEPTHS_0-3_1.json\n",
      "VARS_mlotst_DATES_2001-12-31_2002-12-31_LONS_144_149_LATS_-16_-23_DEPTHS_0-3_1 written to /lustre_scratch/orlando-code/datasets/global_ocean_reanalysis/monthly_means/Great_Barrier_Reef_B/mlotst and metadata generated.\n"
     ]
    },
    {
     "name": "stderr",
     "output_type": "stream",
     "text": []
    },
    {
     "name": "stdout",
     "output_type": "stream",
     "text": [
      "2023-06-23 17:16:52.790 [ INFO] Asynchronous mode set\n",
      "2023-06-23 17:16:52.791 [ INFO] Authenticating user otimmerman for service https://my.cmems-du.eu/motu-web/Motu\n",
      "2023-06-23 17:16:54.223 [ INFO] Requesting file to download (this can take a while)...\n",
      "2023-06-23 17:16:59.651 [ INFO] Authenticating user otimmerman for service https://my.cmems-du.eu/motu-web/Motu\n",
      "2023-06-23 17:17:06.225 [ INFO] The product is ready for download\n",
      "2023-06-23 17:17:06.225 [ INFO] Downloading file (this can take a while)...\n",
      "2023-06-23 17:17:06.378 [ INFO] File type: application/x-netcdf\n",
      "2023-06-23 17:17:06.378 [ INFO] File size: 127.7 kB (127732 B)\n",
      "2023-06-23 17:17:06.378 [ INFO] Downloading file /lustre_scratch/orlando-code/datasets/global_ocean_reanalysis/monthly_means/Great_Barrier_Reef_B/mlotst/VARS_mlotst_DATES_2002-12-31_2003-12-31_LONS_144_149_LATS_-16_-23_DEPTHS_0-3_1.nc\n",
      "2023-06-23 17:17:06.436 [ INFO] - 127.7 kB (51.3%)\n",
      "2023-06-23 17:17:06.467 [ INFO] - 127.7 kB (100.0%)\n",
      "2023-06-23 17:17:06.467 [ INFO] Processing  time : 0:00:13.588236\n",
      "2023-06-23 17:17:06.467 [ INFO] Downloading time : 0:00:00.088490\n",
      "2023-06-23 17:17:06.467 [ INFO] Total time       : 0:00:13.676726\n",
      "2023-06-23 17:17:06.467 [ INFO] Download rate    : 527.8 kB/s\n",
      "2023-06-23 17:17:06.470 [ INFO] Done\n",
      "\n",
      "Dictionary saved as json file at /lustre_scratch/orlando-code/datasets/global_ocean_reanalysis/monthly_means/Great_Barrier_Reef_B/mlotst/VARS_mlotst_DATES_2002-12-31_2003-12-31_LONS_144_149_LATS_-16_-23_DEPTHS_0-3_1.json\n",
      "VARS_mlotst_DATES_2002-12-31_2003-12-31_LONS_144_149_LATS_-16_-23_DEPTHS_0-3_1 written to /lustre_scratch/orlando-code/datasets/global_ocean_reanalysis/monthly_means/Great_Barrier_Reef_B/mlotst and metadata generated.\n"
     ]
    },
    {
     "name": "stderr",
     "output_type": "stream",
     "text": []
    },
    {
     "name": "stdout",
     "output_type": "stream",
     "text": [
      "2023-06-23 17:17:08.122 [ INFO] Asynchronous mode set\n",
      "2023-06-23 17:17:08.122 [ INFO] Authenticating user otimmerman for service https://my.cmems-du.eu/motu-web/Motu\n",
      "2023-06-23 17:17:08.826 [ INFO] Requesting file to download (this can take a while)...\n",
      "2023-06-23 17:17:14.486 [ INFO] Authenticating user otimmerman for service https://my.cmems-du.eu/motu-web/Motu\n",
      "2023-06-23 17:17:22.498 [ INFO] The product is ready for download\n",
      "2023-06-23 17:17:22.499 [ INFO] Downloading file (this can take a while)...\n",
      "2023-06-23 17:17:22.652 [ INFO] File type: application/x-netcdf\n",
      "2023-06-23 17:17:22.652 [ INFO] File size: 127.7 kB (127732 B)\n",
      "2023-06-23 17:17:22.652 [ INFO] Downloading file /lustre_scratch/orlando-code/datasets/global_ocean_reanalysis/monthly_means/Great_Barrier_Reef_B/mlotst/VARS_mlotst_DATES_2003-12-31_2004-12-31_LONS_144_149_LATS_-16_-23_DEPTHS_0-3_1.nc\n",
      "2023-06-23 17:17:22.711 [ INFO] - 127.7 kB (51.3%)\n",
      "2023-06-23 17:17:22.740 [ INFO] - 127.7 kB (100.0%)\n",
      "2023-06-23 17:17:22.740 [ INFO] Processing  time : 0:00:14.530378\n",
      "2023-06-23 17:17:22.740 [ INFO] Downloading time : 0:00:00.088114\n",
      "2023-06-23 17:17:22.740 [ INFO] Total time       : 0:00:14.618492\n",
      "2023-06-23 17:17:22.740 [ INFO] Download rate    : 529.3 kB/s\n",
      "2023-06-23 17:17:22.743 [ INFO] Done\n",
      "\n",
      "Dictionary saved as json file at /lustre_scratch/orlando-code/datasets/global_ocean_reanalysis/monthly_means/Great_Barrier_Reef_B/mlotst/VARS_mlotst_DATES_2003-12-31_2004-12-31_LONS_144_149_LATS_-16_-23_DEPTHS_0-3_1.json\n",
      "VARS_mlotst_DATES_2003-12-31_2004-12-31_LONS_144_149_LATS_-16_-23_DEPTHS_0-3_1 written to /lustre_scratch/orlando-code/datasets/global_ocean_reanalysis/monthly_means/Great_Barrier_Reef_B/mlotst and metadata generated.\n"
     ]
    },
    {
     "name": "stderr",
     "output_type": "stream",
     "text": []
    },
    {
     "name": "stdout",
     "output_type": "stream",
     "text": [
      "2023-06-23 17:17:24.429 [ INFO] Asynchronous mode set\n",
      "2023-06-23 17:17:24.430 [ INFO] Authenticating user otimmerman for service https://my.cmems-du.eu/motu-web/Motu\n",
      "2023-06-23 17:17:25.126 [ INFO] Requesting file to download (this can take a while)...\n",
      "2023-06-23 17:17:30.542 [ INFO] Authenticating user otimmerman for service https://my.cmems-du.eu/motu-web/Motu\n",
      "2023-06-23 17:17:36.698 [ INFO] The product is ready for download\n",
      "2023-06-23 17:17:36.698 [ INFO] Downloading file (this can take a while)...\n",
      "2023-06-23 17:17:36.847 [ INFO] File type: application/x-netcdf\n",
      "2023-06-23 17:17:36.847 [ INFO] File size: 127.7 kB (127732 B)\n",
      "2023-06-23 17:17:36.847 [ INFO] Downloading file /lustre_scratch/orlando-code/datasets/global_ocean_reanalysis/monthly_means/Great_Barrier_Reef_B/mlotst/VARS_mlotst_DATES_2004-12-31_2005-12-31_LONS_144_149_LATS_-16_-23_DEPTHS_0-3_1.nc\n",
      "2023-06-23 17:17:36.908 [ INFO] - 127.7 kB (51.3%)\n",
      "2023-06-23 17:17:36.934 [ INFO] - 127.7 kB (100.0%)\n",
      "2023-06-23 17:17:36.934 [ INFO] Processing  time : 0:00:12.418174\n",
      "2023-06-23 17:17:36.935 [ INFO] Downloading time : 0:00:00.087339\n",
      "2023-06-23 17:17:36.935 [ INFO] Total time       : 0:00:12.505513\n",
      "2023-06-23 17:17:36.935 [ INFO] Download rate    : 540.3 kB/s\n",
      "2023-06-23 17:17:36.937 [ INFO] Done\n",
      "\n",
      "Dictionary saved as json file at /lustre_scratch/orlando-code/datasets/global_ocean_reanalysis/monthly_means/Great_Barrier_Reef_B/mlotst/VARS_mlotst_DATES_2004-12-31_2005-12-31_LONS_144_149_LATS_-16_-23_DEPTHS_0-3_1.json\n",
      "VARS_mlotst_DATES_2004-12-31_2005-12-31_LONS_144_149_LATS_-16_-23_DEPTHS_0-3_1 written to /lustre_scratch/orlando-code/datasets/global_ocean_reanalysis/monthly_means/Great_Barrier_Reef_B/mlotst and metadata generated.\n"
     ]
    },
    {
     "name": "stderr",
     "output_type": "stream",
     "text": []
    },
    {
     "name": "stdout",
     "output_type": "stream",
     "text": [
      "2023-06-23 17:17:38.558 [ INFO] Asynchronous mode set\n",
      "2023-06-23 17:17:38.558 [ INFO] Authenticating user otimmerman for service https://my.cmems-du.eu/motu-web/Motu\n",
      "2023-06-23 17:17:42.282 [ INFO] Requesting file to download (this can take a while)...\n",
      "2023-06-23 17:17:47.695 [ INFO] Authenticating user otimmerman for service https://my.cmems-du.eu/motu-web/Motu\n",
      "2023-06-23 17:17:54.234 [ INFO] The product is ready for download\n",
      "2023-06-23 17:17:54.234 [ INFO] Downloading file (this can take a while)...\n",
      "2023-06-23 17:17:54.387 [ INFO] File type: application/x-netcdf\n",
      "2023-06-23 17:17:54.387 [ INFO] File size: 127.7 kB (127732 B)\n",
      "2023-06-23 17:17:54.387 [ INFO] Downloading file /lustre_scratch/orlando-code/datasets/global_ocean_reanalysis/monthly_means/Great_Barrier_Reef_B/mlotst/VARS_mlotst_DATES_2005-12-31_2006-12-31_LONS_144_149_LATS_-16_-23_DEPTHS_0-3_1.nc\n",
      "2023-06-23 17:17:54.447 [ INFO] - 127.7 kB (51.3%)\n",
      "2023-06-23 17:17:54.475 [ INFO] - 127.7 kB (100.0%)\n",
      "2023-06-23 17:17:54.475 [ INFO] Processing  time : 0:00:15.829734\n",
      "2023-06-23 17:17:54.475 [ INFO] Downloading time : 0:00:00.087784\n",
      "2023-06-23 17:17:54.475 [ INFO] Total time       : 0:00:15.917518\n",
      "2023-06-23 17:17:54.475 [ INFO] Download rate    : 529.8 kB/s\n",
      "2023-06-23 17:17:54.477 [ INFO] Done\n",
      "\n",
      "Dictionary saved as json file at /lustre_scratch/orlando-code/datasets/global_ocean_reanalysis/monthly_means/Great_Barrier_Reef_B/mlotst/VARS_mlotst_DATES_2005-12-31_2006-12-31_LONS_144_149_LATS_-16_-23_DEPTHS_0-3_1.json\n",
      "VARS_mlotst_DATES_2005-12-31_2006-12-31_LONS_144_149_LATS_-16_-23_DEPTHS_0-3_1 written to /lustre_scratch/orlando-code/datasets/global_ocean_reanalysis/monthly_means/Great_Barrier_Reef_B/mlotst and metadata generated.\n"
     ]
    },
    {
     "name": "stderr",
     "output_type": "stream",
     "text": []
    },
    {
     "name": "stdout",
     "output_type": "stream",
     "text": [
      "2023-06-23 17:17:56.153 [ INFO] Asynchronous mode set\n",
      "2023-06-23 17:17:56.153 [ INFO] Authenticating user otimmerman for service https://my.cmems-du.eu/motu-web/Motu\n",
      "2023-06-23 17:17:56.840 [ INFO] Requesting file to download (this can take a while)...\n",
      "2023-06-23 17:18:02.291 [ INFO] Authenticating user otimmerman for service https://my.cmems-du.eu/motu-web/Motu\n",
      "2023-06-23 17:18:08.514 [ INFO] The product is ready for download\n",
      "2023-06-23 17:18:08.514 [ INFO] Downloading file (this can take a while)...\n",
      "2023-06-23 17:18:08.667 [ INFO] File type: application/x-netcdf\n",
      "2023-06-23 17:18:08.667 [ INFO] File size: 127.7 kB (127732 B)\n",
      "2023-06-23 17:18:08.667 [ INFO] Downloading file /lustre_scratch/orlando-code/datasets/global_ocean_reanalysis/monthly_means/Great_Barrier_Reef_B/mlotst/VARS_mlotst_DATES_2006-12-31_2007-12-31_LONS_144_149_LATS_-16_-23_DEPTHS_0-3_1.nc\n",
      "2023-06-23 17:18:08.725 [ INFO] - 127.7 kB (51.3%)\n",
      "2023-06-23 17:18:08.754 [ INFO] - 127.7 kB (100.0%)\n",
      "2023-06-23 17:18:08.754 [ INFO] Processing  time : 0:00:12.514520\n",
      "2023-06-23 17:18:08.754 [ INFO] Downloading time : 0:00:00.087525\n",
      "2023-06-23 17:18:08.754 [ INFO] Total time       : 0:00:12.602045\n",
      "2023-06-23 17:18:08.754 [ INFO] Download rate    : 531.5 kB/s\n",
      "2023-06-23 17:18:08.757 [ INFO] Done\n",
      "\n",
      "Dictionary saved as json file at /lustre_scratch/orlando-code/datasets/global_ocean_reanalysis/monthly_means/Great_Barrier_Reef_B/mlotst/VARS_mlotst_DATES_2006-12-31_2007-12-31_LONS_144_149_LATS_-16_-23_DEPTHS_0-3_1.json\n",
      "VARS_mlotst_DATES_2006-12-31_2007-12-31_LONS_144_149_LATS_-16_-23_DEPTHS_0-3_1 written to /lustre_scratch/orlando-code/datasets/global_ocean_reanalysis/monthly_means/Great_Barrier_Reef_B/mlotst and metadata generated.\n"
     ]
    },
    {
     "name": "stderr",
     "output_type": "stream",
     "text": []
    },
    {
     "name": "stdout",
     "output_type": "stream",
     "text": [
      "2023-06-23 17:18:10.393 [ INFO] Asynchronous mode set\n",
      "2023-06-23 17:18:10.393 [ INFO] Authenticating user otimmerman for service https://my.cmems-du.eu/motu-web/Motu\n",
      "2023-06-23 17:18:11.690 [ INFO] Requesting file to download (this can take a while)...\n",
      "2023-06-23 17:18:17.107 [ INFO] Authenticating user otimmerman for service https://my.cmems-du.eu/motu-web/Motu\n",
      "2023-06-23 17:18:23.226 [ INFO] The product is ready for download\n",
      "2023-06-23 17:18:23.226 [ INFO] Downloading file (this can take a while)...\n",
      "2023-06-23 17:18:23.407 [ INFO] File type: application/x-netcdf\n",
      "2023-06-23 17:18:23.407 [ INFO] File size: 127.7 kB (127732 B)\n",
      "2023-06-23 17:18:23.407 [ INFO] Downloading file /lustre_scratch/orlando-code/datasets/global_ocean_reanalysis/monthly_means/Great_Barrier_Reef_B/mlotst/VARS_mlotst_DATES_2007-12-31_2008-12-31_LONS_144_149_LATS_-16_-23_DEPTHS_0-3_1.nc\n",
      "2023-06-23 17:18:23.436 [ INFO] - 127.7 kB (51.3%)\n",
      "2023-06-23 17:18:23.495 [ INFO] - 127.7 kB (100.0%)\n",
      "2023-06-23 17:18:23.496 [ INFO] Processing  time : 0:00:13.014742\n",
      "2023-06-23 17:18:23.496 [ INFO] Downloading time : 0:00:00.088551\n",
      "2023-06-23 17:18:23.496 [ INFO] Total time       : 0:00:13.103293\n",
      "2023-06-23 17:18:23.496 [ INFO] Download rate    : 473.2 kB/s\n",
      "2023-06-23 17:18:23.499 [ INFO] Done\n",
      "\n",
      "Dictionary saved as json file at /lustre_scratch/orlando-code/datasets/global_ocean_reanalysis/monthly_means/Great_Barrier_Reef_B/mlotst/VARS_mlotst_DATES_2007-12-31_2008-12-31_LONS_144_149_LATS_-16_-23_DEPTHS_0-3_1.json\n",
      "VARS_mlotst_DATES_2007-12-31_2008-12-31_LONS_144_149_LATS_-16_-23_DEPTHS_0-3_1 written to /lustre_scratch/orlando-code/datasets/global_ocean_reanalysis/monthly_means/Great_Barrier_Reef_B/mlotst and metadata generated.\n"
     ]
    },
    {
     "name": "stderr",
     "output_type": "stream",
     "text": []
    },
    {
     "name": "stdout",
     "output_type": "stream",
     "text": [
      "2023-06-23 17:18:25.135 [ INFO] Asynchronous mode set\n",
      "2023-06-23 17:18:25.135 [ INFO] Authenticating user otimmerman for service https://my.cmems-du.eu/motu-web/Motu\n",
      "2023-06-23 17:18:25.842 [ INFO] Requesting file to download (this can take a while)...\n",
      "2023-06-23 17:18:31.263 [ INFO] Authenticating user otimmerman for service https://my.cmems-du.eu/motu-web/Motu\n",
      "2023-06-23 17:18:37.529 [ INFO] The product is ready for download\n",
      "2023-06-23 17:18:37.530 [ INFO] Downloading file (this can take a while)...\n",
      "2023-06-23 17:18:37.687 [ INFO] File type: application/x-netcdf\n",
      "2023-06-23 17:18:37.688 [ INFO] File size: 127.7 kB (127732 B)\n",
      "2023-06-23 17:18:37.688 [ INFO] Downloading file /lustre_scratch/orlando-code/datasets/global_ocean_reanalysis/monthly_means/Great_Barrier_Reef_B/mlotst/VARS_mlotst_DATES_2008-12-31_2009-12-31_LONS_144_149_LATS_-16_-23_DEPTHS_0-3_1.nc\n",
      "2023-06-23 17:18:37.746 [ INFO] - 127.7 kB (51.3%)\n",
      "2023-06-23 17:18:37.775 [ INFO] - 127.7 kB (100.0%)\n",
      "2023-06-23 17:18:37.775 [ INFO] Processing  time : 0:00:12.553328\n",
      "2023-06-23 17:18:37.775 [ INFO] Downloading time : 0:00:00.087552\n",
      "2023-06-23 17:18:37.775 [ INFO] Total time       : 0:00:12.640880\n",
      "2023-06-23 17:18:37.775 [ INFO] Download rate    : 520.3 kB/s\n",
      "2023-06-23 17:18:37.778 [ INFO] Done\n",
      "\n",
      "Dictionary saved as json file at /lustre_scratch/orlando-code/datasets/global_ocean_reanalysis/monthly_means/Great_Barrier_Reef_B/mlotst/VARS_mlotst_DATES_2008-12-31_2009-12-31_LONS_144_149_LATS_-16_-23_DEPTHS_0-3_1.json\n",
      "VARS_mlotst_DATES_2008-12-31_2009-12-31_LONS_144_149_LATS_-16_-23_DEPTHS_0-3_1 written to /lustre_scratch/orlando-code/datasets/global_ocean_reanalysis/monthly_means/Great_Barrier_Reef_B/mlotst and metadata generated.\n"
     ]
    },
    {
     "name": "stderr",
     "output_type": "stream",
     "text": []
    },
    {
     "name": "stdout",
     "output_type": "stream",
     "text": [
      "2023-06-23 17:18:39.403 [ INFO] Asynchronous mode set\n",
      "2023-06-23 17:18:39.403 [ INFO] Authenticating user otimmerman for service https://my.cmems-du.eu/motu-web/Motu\n",
      "2023-06-23 17:18:40.123 [ INFO] Requesting file to download (this can take a while)...\n",
      "2023-06-23 17:18:45.541 [ INFO] Authenticating user otimmerman for service https://my.cmems-du.eu/motu-web/Motu\n",
      "2023-06-23 17:18:51.671 [ INFO] The product is ready for download\n",
      "2023-06-23 17:18:51.672 [ INFO] Downloading file (this can take a while)...\n",
      "2023-06-23 17:18:51.856 [ INFO] File type: application/x-netcdf\n",
      "2023-06-23 17:18:51.856 [ INFO] File size: 127.7 kB (127732 B)\n",
      "2023-06-23 17:18:51.856 [ INFO] Downloading file /lustre_scratch/orlando-code/datasets/global_ocean_reanalysis/monthly_means/Great_Barrier_Reef_B/mlotst/VARS_mlotst_DATES_2009-12-31_2010-12-31_LONS_144_149_LATS_-16_-23_DEPTHS_0-3_1.nc\n",
      "2023-06-23 17:18:51.885 [ INFO] - 127.7 kB (51.3%)\n",
      "2023-06-23 17:18:51.916 [ INFO] - 127.7 kB (100.0%)\n",
      "2023-06-23 17:18:51.916 [ INFO] Processing  time : 0:00:12.453984\n",
      "2023-06-23 17:18:51.916 [ INFO] Downloading time : 0:00:00.059823\n",
      "2023-06-23 17:18:51.916 [ INFO] Total time       : 0:00:12.513807\n",
      "2023-06-23 17:18:51.916 [ INFO] Download rate    : 522.5 kB/s\n",
      "2023-06-23 17:18:51.919 [ INFO] Done\n",
      "\n",
      "Dictionary saved as json file at /lustre_scratch/orlando-code/datasets/global_ocean_reanalysis/monthly_means/Great_Barrier_Reef_B/mlotst/VARS_mlotst_DATES_2009-12-31_2010-12-31_LONS_144_149_LATS_-16_-23_DEPTHS_0-3_1.json\n",
      "VARS_mlotst_DATES_2009-12-31_2010-12-31_LONS_144_149_LATS_-16_-23_DEPTHS_0-3_1 written to /lustre_scratch/orlando-code/datasets/global_ocean_reanalysis/monthly_means/Great_Barrier_Reef_B/mlotst and metadata generated.\n"
     ]
    },
    {
     "name": "stderr",
     "output_type": "stream",
     "text": []
    },
    {
     "name": "stdout",
     "output_type": "stream",
     "text": [
      "2023-06-23 17:18:53.543 [ INFO] Asynchronous mode set\n",
      "2023-06-23 17:18:53.543 [ INFO] Authenticating user otimmerman for service https://my.cmems-du.eu/motu-web/Motu\n",
      "2023-06-23 17:18:54.241 [ INFO] Requesting file to download (this can take a while)...\n",
      "2023-06-23 17:18:59.804 [ INFO] Authenticating user otimmerman for service https://my.cmems-du.eu/motu-web/Motu\n",
      "2023-06-23 17:19:05.956 [ INFO] The product is ready for download\n",
      "2023-06-23 17:19:05.956 [ INFO] Downloading file (this can take a while)...\n",
      "2023-06-23 17:19:06.109 [ INFO] File type: application/x-netcdf\n",
      "2023-06-23 17:19:06.109 [ INFO] File size: 127.7 kB (127732 B)\n",
      "2023-06-23 17:19:06.109 [ INFO] Downloading file /lustre_scratch/orlando-code/datasets/global_ocean_reanalysis/monthly_means/Great_Barrier_Reef_B/mlotst/VARS_mlotst_DATES_2010-12-31_2011-12-31_LONS_144_149_LATS_-16_-23_DEPTHS_0-3_1.nc\n",
      "2023-06-23 17:19:06.170 [ INFO] - 127.7 kB (51.3%)\n",
      "2023-06-23 17:19:06.200 [ INFO] - 127.7 kB (100.0%)\n",
      "2023-06-23 17:19:06.200 [ INFO] Processing  time : 0:00:12.566882\n",
      "2023-06-23 17:19:06.200 [ INFO] Downloading time : 0:00:00.091013\n",
      "2023-06-23 17:19:06.200 [ INFO] Total time       : 0:00:12.657895\n",
      "2023-06-23 17:19:06.200 [ INFO] Download rate    : 523.1 kB/s\n",
      "2023-06-23 17:19:06.203 [ INFO] Done\n",
      "\n",
      "Dictionary saved as json file at /lustre_scratch/orlando-code/datasets/global_ocean_reanalysis/monthly_means/Great_Barrier_Reef_B/mlotst/VARS_mlotst_DATES_2010-12-31_2011-12-31_LONS_144_149_LATS_-16_-23_DEPTHS_0-3_1.json\n",
      "VARS_mlotst_DATES_2010-12-31_2011-12-31_LONS_144_149_LATS_-16_-23_DEPTHS_0-3_1 written to /lustre_scratch/orlando-code/datasets/global_ocean_reanalysis/monthly_means/Great_Barrier_Reef_B/mlotst and metadata generated.\n"
     ]
    },
    {
     "name": "stderr",
     "output_type": "stream",
     "text": []
    },
    {
     "name": "stdout",
     "output_type": "stream",
     "text": [
      "2023-06-23 17:19:07.809 [ INFO] Asynchronous mode set\n",
      "2023-06-23 17:19:07.809 [ INFO] Authenticating user otimmerman for service https://my.cmems-du.eu/motu-web/Motu\n",
      "2023-06-23 17:19:08.507 [ INFO] Requesting file to download (this can take a while)...\n",
      "2023-06-23 17:19:13.928 [ INFO] Authenticating user otimmerman for service https://my.cmems-du.eu/motu-web/Motu\n",
      "2023-06-23 17:19:20.048 [ INFO] The product is ready for download\n",
      "2023-06-23 17:19:20.048 [ INFO] Downloading file (this can take a while)...\n",
      "2023-06-23 17:19:20.205 [ INFO] File type: application/x-netcdf\n",
      "2023-06-23 17:19:20.205 [ INFO] File size: 127.7 kB (127732 B)\n",
      "2023-06-23 17:19:20.205 [ INFO] Downloading file /lustre_scratch/orlando-code/datasets/global_ocean_reanalysis/monthly_means/Great_Barrier_Reef_B/mlotst/VARS_mlotst_DATES_2011-12-31_2012-12-31_LONS_144_149_LATS_-16_-23_DEPTHS_0-3_1.nc\n",
      "2023-06-23 17:19:20.266 [ INFO] - 127.7 kB (51.3%)\n",
      "2023-06-23 17:19:20.292 [ INFO] - 127.7 kB (100.0%)\n",
      "2023-06-23 17:19:20.292 [ INFO] Processing  time : 0:00:12.396509\n",
      "2023-06-23 17:19:20.292 [ INFO] Downloading time : 0:00:00.087193\n",
      "2023-06-23 17:19:20.292 [ INFO] Total time       : 0:00:12.483702\n",
      "2023-06-23 17:19:20.292 [ INFO] Download rate    : 523.4 kB/s\n",
      "2023-06-23 17:19:20.295 [ INFO] Done\n",
      "\n",
      "Dictionary saved as json file at /lustre_scratch/orlando-code/datasets/global_ocean_reanalysis/monthly_means/Great_Barrier_Reef_B/mlotst/VARS_mlotst_DATES_2011-12-31_2012-12-31_LONS_144_149_LATS_-16_-23_DEPTHS_0-3_1.json\n",
      "VARS_mlotst_DATES_2011-12-31_2012-12-31_LONS_144_149_LATS_-16_-23_DEPTHS_0-3_1 written to /lustre_scratch/orlando-code/datasets/global_ocean_reanalysis/monthly_means/Great_Barrier_Reef_B/mlotst and metadata generated.\n"
     ]
    },
    {
     "name": "stderr",
     "output_type": "stream",
     "text": []
    },
    {
     "name": "stdout",
     "output_type": "stream",
     "text": [
      "2023-06-23 17:19:21.927 [ INFO] Asynchronous mode set\n",
      "2023-06-23 17:19:21.927 [ INFO] Authenticating user otimmerman for service https://my.cmems-du.eu/motu-web/Motu\n",
      "2023-06-23 17:19:22.614 [ INFO] Requesting file to download (this can take a while)...\n",
      "2023-06-23 17:19:28.032 [ INFO] Authenticating user otimmerman for service https://my.cmems-du.eu/motu-web/Motu\n",
      "2023-06-23 17:19:34.163 [ INFO] The product is ready for download\n",
      "2023-06-23 17:19:34.163 [ INFO] Downloading file (this can take a while)...\n",
      "2023-06-23 17:19:34.349 [ INFO] File type: application/x-netcdf\n",
      "2023-06-23 17:19:34.349 [ INFO] File size: 127.7 kB (127732 B)\n",
      "2023-06-23 17:19:34.349 [ INFO] Downloading file /lustre_scratch/orlando-code/datasets/global_ocean_reanalysis/monthly_means/Great_Barrier_Reef_B/mlotst/VARS_mlotst_DATES_2012-12-31_2013-12-31_LONS_144_149_LATS_-16_-23_DEPTHS_0-3_1.nc\n",
      "2023-06-23 17:19:34.377 [ INFO] - 127.7 kB (51.3%)\n",
      "2023-06-23 17:19:34.436 [ INFO] - 127.7 kB (100.0%)\n",
      "2023-06-23 17:19:34.436 [ INFO] Processing  time : 0:00:12.422099\n",
      "2023-06-23 17:19:34.436 [ INFO] Downloading time : 0:00:00.087265\n",
      "2023-06-23 17:19:34.436 [ INFO] Total time       : 0:00:12.509364\n",
      "2023-06-23 17:19:34.436 [ INFO] Download rate    : 468.5 kB/s\n",
      "2023-06-23 17:19:34.439 [ INFO] Done\n",
      "\n",
      "Dictionary saved as json file at /lustre_scratch/orlando-code/datasets/global_ocean_reanalysis/monthly_means/Great_Barrier_Reef_B/mlotst/VARS_mlotst_DATES_2012-12-31_2013-12-31_LONS_144_149_LATS_-16_-23_DEPTHS_0-3_1.json\n",
      "VARS_mlotst_DATES_2012-12-31_2013-12-31_LONS_144_149_LATS_-16_-23_DEPTHS_0-3_1 written to /lustre_scratch/orlando-code/datasets/global_ocean_reanalysis/monthly_means/Great_Barrier_Reef_B/mlotst and metadata generated.\n"
     ]
    },
    {
     "name": "stderr",
     "output_type": "stream",
     "text": []
    },
    {
     "name": "stdout",
     "output_type": "stream",
     "text": [
      "2023-06-23 17:19:36.059 [ INFO] Asynchronous mode set\n",
      "2023-06-23 17:19:36.059 [ INFO] Authenticating user otimmerman for service https://my.cmems-du.eu/motu-web/Motu\n",
      "2023-06-23 17:19:36.764 [ INFO] Requesting file to download (this can take a while)...\n",
      "2023-06-23 17:19:42.186 [ INFO] Authenticating user otimmerman for service https://my.cmems-du.eu/motu-web/Motu\n",
      "2023-06-23 17:19:48.317 [ INFO] The product is ready for download\n",
      "2023-06-23 17:19:48.317 [ INFO] Downloading file (this can take a while)...\n",
      "2023-06-23 17:19:48.503 [ INFO] File type: application/x-netcdf\n",
      "2023-06-23 17:19:48.503 [ INFO] File size: 127.7 kB (127732 B)\n",
      "2023-06-23 17:19:48.503 [ INFO] Downloading file /lustre_scratch/orlando-code/datasets/global_ocean_reanalysis/monthly_means/Great_Barrier_Reef_B/mlotst/VARS_mlotst_DATES_2013-12-31_2014-12-31_LONS_144_149_LATS_-16_-23_DEPTHS_0-3_1.nc\n",
      "2023-06-23 17:19:48.533 [ INFO] - 127.7 kB (51.3%)\n",
      "2023-06-23 17:19:48.563 [ INFO] - 127.7 kB (100.0%)\n",
      "2023-06-23 17:19:48.563 [ INFO] Processing  time : 0:00:12.444785\n",
      "2023-06-23 17:19:48.563 [ INFO] Downloading time : 0:00:00.059428\n",
      "2023-06-23 17:19:48.563 [ INFO] Total time       : 0:00:12.504213\n",
      "2023-06-23 17:19:48.563 [ INFO] Download rate    : 520.3 kB/s\n",
      "2023-06-23 17:19:48.565 [ INFO] Done\n",
      "\n",
      "Dictionary saved as json file at /lustre_scratch/orlando-code/datasets/global_ocean_reanalysis/monthly_means/Great_Barrier_Reef_B/mlotst/VARS_mlotst_DATES_2013-12-31_2014-12-31_LONS_144_149_LATS_-16_-23_DEPTHS_0-3_1.json\n",
      "VARS_mlotst_DATES_2013-12-31_2014-12-31_LONS_144_149_LATS_-16_-23_DEPTHS_0-3_1 written to /lustre_scratch/orlando-code/datasets/global_ocean_reanalysis/monthly_means/Great_Barrier_Reef_B/mlotst and metadata generated.\n"
     ]
    },
    {
     "name": "stderr",
     "output_type": "stream",
     "text": []
    },
    {
     "name": "stdout",
     "output_type": "stream",
     "text": [
      "2023-06-23 17:19:50.160 [ INFO] Asynchronous mode set\n",
      "2023-06-23 17:19:50.160 [ INFO] Authenticating user otimmerman for service https://my.cmems-du.eu/motu-web/Motu\n",
      "2023-06-23 17:19:51.426 [ INFO] Requesting file to download (this can take a while)...\n",
      "2023-06-23 17:19:56.847 [ INFO] Authenticating user otimmerman for service https://my.cmems-du.eu/motu-web/Motu\n",
      "2023-06-23 17:20:02.952 [ INFO] The product is ready for download\n",
      "2023-06-23 17:20:02.952 [ INFO] Downloading file (this can take a while)...\n",
      "2023-06-23 17:20:03.105 [ INFO] File type: application/x-netcdf\n",
      "2023-06-23 17:20:03.105 [ INFO] File size: 127.7 kB (127732 B)\n",
      "2023-06-23 17:20:03.105 [ INFO] Downloading file /lustre_scratch/orlando-code/datasets/global_ocean_reanalysis/monthly_means/Great_Barrier_Reef_B/mlotst/VARS_mlotst_DATES_2014-12-31_2015-12-31_LONS_144_149_LATS_-16_-23_DEPTHS_0-3_1.nc\n",
      "2023-06-23 17:20:03.164 [ INFO] - 127.7 kB (51.3%)\n",
      "2023-06-23 17:20:03.194 [ INFO] - 127.7 kB (100.0%)\n",
      "2023-06-23 17:20:03.194 [ INFO] Processing  time : 0:00:12.946120\n",
      "2023-06-23 17:20:03.194 [ INFO] Downloading time : 0:00:00.088481\n",
      "2023-06-23 17:20:03.194 [ INFO] Total time       : 0:00:13.034601\n",
      "2023-06-23 17:20:03.194 [ INFO] Download rate    : 527.4 kB/s\n",
      "2023-06-23 17:20:03.196 [ INFO] Done\n",
      "\n",
      "Dictionary saved as json file at /lustre_scratch/orlando-code/datasets/global_ocean_reanalysis/monthly_means/Great_Barrier_Reef_B/mlotst/VARS_mlotst_DATES_2014-12-31_2015-12-31_LONS_144_149_LATS_-16_-23_DEPTHS_0-3_1.json\n",
      "VARS_mlotst_DATES_2014-12-31_2015-12-31_LONS_144_149_LATS_-16_-23_DEPTHS_0-3_1 written to /lustre_scratch/orlando-code/datasets/global_ocean_reanalysis/monthly_means/Great_Barrier_Reef_B/mlotst and metadata generated.\n"
     ]
    },
    {
     "name": "stderr",
     "output_type": "stream",
     "text": []
    },
    {
     "name": "stdout",
     "output_type": "stream",
     "text": [
      "2023-06-23 17:20:04.806 [ INFO] Asynchronous mode set\n",
      "2023-06-23 17:20:04.807 [ INFO] Authenticating user otimmerman for service https://my.cmems-du.eu/motu-web/Motu\n",
      "2023-06-23 17:20:05.499 [ INFO] Requesting file to download (this can take a while)...\n",
      "2023-06-23 17:20:11.010 [ INFO] Authenticating user otimmerman for service https://my.cmems-du.eu/motu-web/Motu\n",
      "2023-06-23 17:20:17.133 [ INFO] The product is ready for download\n",
      "2023-06-23 17:20:17.133 [ INFO] Downloading file (this can take a while)...\n",
      "2023-06-23 17:20:17.285 [ INFO] File type: application/x-netcdf\n",
      "2023-06-23 17:20:17.286 [ INFO] File size: 127.7 kB (127732 B)\n",
      "2023-06-23 17:20:17.286 [ INFO] Downloading file /lustre_scratch/orlando-code/datasets/global_ocean_reanalysis/monthly_means/Great_Barrier_Reef_B/mlotst/VARS_mlotst_DATES_2015-12-31_2016-12-31_LONS_144_149_LATS_-16_-23_DEPTHS_0-3_1.nc\n",
      "2023-06-23 17:20:17.345 [ INFO] - 127.7 kB (51.3%)\n",
      "2023-06-23 17:20:17.376 [ INFO] - 127.7 kB (100.0%)\n",
      "2023-06-23 17:20:17.376 [ INFO] Processing  time : 0:00:12.479823\n",
      "2023-06-23 17:20:17.376 [ INFO] Downloading time : 0:00:00.090144\n",
      "2023-06-23 17:20:17.376 [ INFO] Total time       : 0:00:12.569967\n",
      "2023-06-23 17:20:17.376 [ INFO] Download rate    : 527.1 kB/s\n",
      "2023-06-23 17:20:17.379 [ INFO] Done\n",
      "\n",
      "Dictionary saved as json file at /lustre_scratch/orlando-code/datasets/global_ocean_reanalysis/monthly_means/Great_Barrier_Reef_B/mlotst/VARS_mlotst_DATES_2015-12-31_2016-12-31_LONS_144_149_LATS_-16_-23_DEPTHS_0-3_1.json\n",
      "VARS_mlotst_DATES_2015-12-31_2016-12-31_LONS_144_149_LATS_-16_-23_DEPTHS_0-3_1 written to /lustre_scratch/orlando-code/datasets/global_ocean_reanalysis/monthly_means/Great_Barrier_Reef_B/mlotst and metadata generated.\n"
     ]
    },
    {
     "name": "stderr",
     "output_type": "stream",
     "text": []
    },
    {
     "name": "stdout",
     "output_type": "stream",
     "text": [
      "2023-06-23 17:20:19.006 [ INFO] Asynchronous mode set\n",
      "2023-06-23 17:20:19.006 [ INFO] Authenticating user otimmerman for service https://my.cmems-du.eu/motu-web/Motu\n",
      "2023-06-23 17:20:19.859 [ INFO] Requesting file to download (this can take a while)...\n",
      "2023-06-23 17:20:25.506 [ INFO] Authenticating user otimmerman for service https://my.cmems-du.eu/motu-web/Motu\n",
      "2023-06-23 17:20:33.669 [ INFO] The product is ready for download\n",
      "2023-06-23 17:20:33.669 [ INFO] Downloading file (this can take a while)...\n",
      "2023-06-23 17:20:33.851 [ INFO] File type: application/x-netcdf\n",
      "2023-06-23 17:20:33.851 [ INFO] File size: 127.7 kB (127732 B)\n",
      "2023-06-23 17:20:33.851 [ INFO] Downloading file /lustre_scratch/orlando-code/datasets/global_ocean_reanalysis/monthly_means/Great_Barrier_Reef_B/mlotst/VARS_mlotst_DATES_2016-12-31_2017-12-31_LONS_144_149_LATS_-16_-23_DEPTHS_0-3_1.nc\n",
      "2023-06-23 17:20:33.880 [ INFO] - 127.7 kB (51.3%)\n",
      "2023-06-23 17:20:33.909 [ INFO] - 127.7 kB (100.0%)\n",
      "2023-06-23 17:20:33.910 [ INFO] Processing  time : 0:00:14.845643\n",
      "2023-06-23 17:20:33.910 [ INFO] Downloading time : 0:00:00.058691\n",
      "2023-06-23 17:20:33.910 [ INFO] Total time       : 0:00:14.904334\n",
      "2023-06-23 17:20:33.910 [ INFO] Download rate    : 531.0 kB/s\n",
      "2023-06-23 17:20:33.912 [ INFO] Done\n",
      "\n",
      "Dictionary saved as json file at /lustre_scratch/orlando-code/datasets/global_ocean_reanalysis/monthly_means/Great_Barrier_Reef_B/mlotst/VARS_mlotst_DATES_2016-12-31_2017-12-31_LONS_144_149_LATS_-16_-23_DEPTHS_0-3_1.json\n",
      "VARS_mlotst_DATES_2016-12-31_2017-12-31_LONS_144_149_LATS_-16_-23_DEPTHS_0-3_1 written to /lustre_scratch/orlando-code/datasets/global_ocean_reanalysis/monthly_means/Great_Barrier_Reef_B/mlotst and metadata generated.\n"
     ]
    },
    {
     "name": "stderr",
     "output_type": "stream",
     "text": []
    },
    {
     "name": "stdout",
     "output_type": "stream",
     "text": [
      "2023-06-23 17:20:35.553 [ INFO] Asynchronous mode set\n",
      "2023-06-23 17:20:35.554 [ INFO] Authenticating user otimmerman for service https://my.cmems-du.eu/motu-web/Motu\n",
      "2023-06-23 17:20:37.302 [ INFO] Requesting file to download (this can take a while)...\n",
      "2023-06-23 17:20:43.231 [ INFO] Authenticating user otimmerman for service https://my.cmems-du.eu/motu-web/Motu\n",
      "2023-06-23 17:20:49.343 [ INFO] The product is ready for download\n",
      "2023-06-23 17:20:49.343 [ INFO] Downloading file (this can take a while)...\n",
      "2023-06-23 17:20:49.496 [ INFO] File type: application/x-netcdf\n",
      "2023-06-23 17:20:49.496 [ INFO] File size: 127.7 kB (127732 B)\n",
      "2023-06-23 17:20:49.496 [ INFO] Downloading file /lustre_scratch/orlando-code/datasets/global_ocean_reanalysis/monthly_means/Great_Barrier_Reef_B/mlotst/VARS_mlotst_DATES_2017-12-31_2018-12-31_LONS_144_149_LATS_-16_-23_DEPTHS_0-3_1.nc\n",
      "2023-06-23 17:20:49.555 [ INFO] - 127.7 kB (51.3%)\n",
      "2023-06-23 17:20:49.585 [ INFO] - 127.7 kB (100.0%)\n",
      "2023-06-23 17:20:49.585 [ INFO] Processing  time : 0:00:13.942626\n",
      "2023-06-23 17:20:49.585 [ INFO] Downloading time : 0:00:00.089434\n",
      "2023-06-23 17:20:49.585 [ INFO] Total time       : 0:00:14.032060\n",
      "2023-06-23 17:20:49.585 [ INFO] Download rate    : 527.7 kB/s\n",
      "2023-06-23 17:20:49.587 [ INFO] Done\n",
      "\n",
      "Dictionary saved as json file at /lustre_scratch/orlando-code/datasets/global_ocean_reanalysis/monthly_means/Great_Barrier_Reef_B/mlotst/VARS_mlotst_DATES_2017-12-31_2018-12-31_LONS_144_149_LATS_-16_-23_DEPTHS_0-3_1.json\n",
      "VARS_mlotst_DATES_2017-12-31_2018-12-31_LONS_144_149_LATS_-16_-23_DEPTHS_0-3_1 written to /lustre_scratch/orlando-code/datasets/global_ocean_reanalysis/monthly_means/Great_Barrier_Reef_B/mlotst and metadata generated.\n"
     ]
    },
    {
     "name": "stderr",
     "output_type": "stream",
     "text": []
    },
    {
     "name": "stdout",
     "output_type": "stream",
     "text": [
      "2023-06-23 17:20:51.224 [ INFO] Asynchronous mode set\n",
      "2023-06-23 17:20:51.224 [ INFO] Authenticating user otimmerman for service https://my.cmems-du.eu/motu-web/Motu\n",
      "2023-06-23 17:20:51.925 [ INFO] Requesting file to download (this can take a while)...\n",
      "2023-06-23 17:20:57.343 [ INFO] Authenticating user otimmerman for service https://my.cmems-du.eu/motu-web/Motu\n",
      "2023-06-23 17:21:04.712 [ INFO] The product is ready for download\n",
      "2023-06-23 17:21:04.712 [ INFO] Downloading file (this can take a while)...\n",
      "2023-06-23 17:21:04.862 [ INFO] File type: application/x-netcdf\n",
      "2023-06-23 17:21:04.862 [ INFO] File size: 127.7 kB (127732 B)\n",
      "2023-06-23 17:21:04.862 [ INFO] Downloading file /lustre_scratch/orlando-code/datasets/global_ocean_reanalysis/monthly_means/Great_Barrier_Reef_B/mlotst/VARS_mlotst_DATES_2018-12-31_2019-12-31_LONS_144_149_LATS_-16_-23_DEPTHS_0-3_1.nc\n",
      "2023-06-23 17:21:04.922 [ INFO] - 127.7 kB (51.3%)\n",
      "2023-06-23 17:21:04.953 [ INFO] - 127.7 kB (100.0%)\n",
      "2023-06-23 17:21:04.953 [ INFO] Processing  time : 0:00:13.638019\n",
      "2023-06-23 17:21:04.953 [ INFO] Downloading time : 0:00:00.091188\n",
      "2023-06-23 17:21:04.953 [ INFO] Total time       : 0:00:13.729207\n",
      "2023-06-23 17:21:04.953 [ INFO] Download rate    : 530.0 kB/s\n",
      "2023-06-23 17:21:04.956 [ INFO] Done\n",
      "\n",
      "Dictionary saved as json file at /lustre_scratch/orlando-code/datasets/global_ocean_reanalysis/monthly_means/Great_Barrier_Reef_B/mlotst/VARS_mlotst_DATES_2018-12-31_2019-12-31_LONS_144_149_LATS_-16_-23_DEPTHS_0-3_1.json\n",
      "VARS_mlotst_DATES_2018-12-31_2019-12-31_LONS_144_149_LATS_-16_-23_DEPTHS_0-3_1 written to /lustre_scratch/orlando-code/datasets/global_ocean_reanalysis/monthly_means/Great_Barrier_Reef_B/mlotst and metadata generated.\n",
      "Merging .nc files into /lustre_scratch/orlando-code/datasets/global_ocean_reanalysis/monthly_means/Great_Barrier_Reef_B/merged_vars/VARS_mlotst_DATES_1992-12-31_2020-12-16_LONS_144_149_LATS_-16_-23_DEPTHS_0-3_1.nc\n"
     ]
    },
    {
     "name": "stderr",
     "output_type": "stream",
     "text": [
      " variable loop:  14%|█▍        | 1/7 [06:43<40:21, 403.55s/it]"
     ]
    },
    {
     "name": "stdout",
     "output_type": "stream",
     "text": [
      "Dictionary saved as json file at /lustre_scratch/orlando-code/datasets/global_ocean_reanalysis/monthly_means/Great_Barrier_Reef_B/merged_vars/VARS_mlotst_DATES_1992-12-31_2020-12-16_LONS_144_149_LATS_-16_-23_DEPTHS_0-3_1.json\n",
      "Downloading bottomT data...\n"
     ]
    },
    {
     "name": "stderr",
     "output_type": "stream",
     "text": []
    },
    {
     "name": "stdout",
     "output_type": "stream",
     "text": [
      "2023-06-23 17:21:06.887 [ INFO] Asynchronous mode set\n",
      "2023-06-23 17:21:06.888 [ INFO] Authenticating user otimmerman for service https://my.cmems-du.eu/motu-web/Motu\n",
      "2023-06-23 17:21:07.598 [ INFO] Requesting file to download (this can take a while)...\n",
      "2023-06-23 17:21:13.016 [ INFO] Authenticating user otimmerman for service https://my.cmems-du.eu/motu-web/Motu\n",
      "2023-06-23 17:21:19.119 [ INFO] The product is ready for download\n",
      "2023-06-23 17:21:19.119 [ INFO] Downloading file (this can take a while)...\n",
      "2023-06-23 17:21:19.272 [ INFO] File type: application/x-netcdf\n",
      "2023-06-23 17:21:19.272 [ INFO] File size: 127.7 kB (127736 B)\n",
      "2023-06-23 17:21:19.272 [ INFO] Downloading file /lustre_scratch/orlando-code/datasets/global_ocean_reanalysis/monthly_means/Great_Barrier_Reef_B/bottomT/VARS_bottomT_DATES_1992-12-31_1993-12-31_LONS_144_149_LATS_-16_-23_DEPTHS_0-3_1.nc\n",
      "2023-06-23 17:21:19.332 [ INFO] - 127.7 kB (51.3%)\n",
      "2023-06-23 17:21:19.362 [ INFO] - 127.7 kB (100.0%)\n",
      "2023-06-23 17:21:19.362 [ INFO] Processing  time : 0:00:12.384641\n",
      "2023-06-23 17:21:19.362 [ INFO] Downloading time : 0:00:00.090336\n",
      "2023-06-23 17:21:19.362 [ INFO] Total time       : 0:00:12.474977\n",
      "2023-06-23 17:21:19.363 [ INFO] Download rate    : 524.8 kB/s\n",
      "2023-06-23 17:21:19.365 [ INFO] Done\n",
      "\n",
      "Dictionary saved as json file at /lustre_scratch/orlando-code/datasets/global_ocean_reanalysis/monthly_means/Great_Barrier_Reef_B/bottomT/VARS_bottomT_DATES_1992-12-31_1993-12-31_LONS_144_149_LATS_-16_-23_DEPTHS_0-3_1.json\n",
      "VARS_bottomT_DATES_1992-12-31_1993-12-31_LONS_144_149_LATS_-16_-23_DEPTHS_0-3_1 written to /lustre_scratch/orlando-code/datasets/global_ocean_reanalysis/monthly_means/Great_Barrier_Reef_B/bottomT and metadata generated.\n"
     ]
    },
    {
     "name": "stderr",
     "output_type": "stream",
     "text": []
    },
    {
     "name": "stdout",
     "output_type": "stream",
     "text": [
      "2023-06-23 17:21:21.013 [ INFO] Asynchronous mode set\n",
      "2023-06-23 17:21:21.013 [ INFO] Authenticating user otimmerman for service https://my.cmems-du.eu/motu-web/Motu\n",
      "2023-06-23 17:21:21.953 [ INFO] Requesting file to download (this can take a while)...\n",
      "2023-06-23 17:21:27.371 [ INFO] Authenticating user otimmerman for service https://my.cmems-du.eu/motu-web/Motu\n",
      "2023-06-23 17:21:33.738 [ INFO] The product is ready for download\n",
      "2023-06-23 17:21:33.738 [ INFO] Downloading file (this can take a while)...\n",
      "2023-06-23 17:21:33.893 [ INFO] File type: application/x-netcdf\n",
      "2023-06-23 17:21:33.893 [ INFO] File size: 127.7 kB (127736 B)\n",
      "2023-06-23 17:21:33.893 [ INFO] Downloading file /lustre_scratch/orlando-code/datasets/global_ocean_reanalysis/monthly_means/Great_Barrier_Reef_B/bottomT/VARS_bottomT_DATES_1993-12-31_1994-12-31_LONS_144_149_LATS_-16_-23_DEPTHS_0-3_1.nc\n",
      "2023-06-23 17:21:33.952 [ INFO] - 127.7 kB (51.3%)\n",
      "2023-06-23 17:21:33.981 [ INFO] - 127.7 kB (100.0%)\n",
      "2023-06-23 17:21:33.982 [ INFO] Processing  time : 0:00:12.880863\n",
      "2023-06-23 17:21:33.982 [ INFO] Downloading time : 0:00:00.088372\n",
      "2023-06-23 17:21:33.982 [ INFO] Total time       : 0:00:12.969235\n",
      "2023-06-23 17:21:33.982 [ INFO] Download rate    : 524.9 kB/s\n",
      "2023-06-23 17:21:33.984 [ INFO] Done\n",
      "\n",
      "Dictionary saved as json file at /lustre_scratch/orlando-code/datasets/global_ocean_reanalysis/monthly_means/Great_Barrier_Reef_B/bottomT/VARS_bottomT_DATES_1993-12-31_1994-12-31_LONS_144_149_LATS_-16_-23_DEPTHS_0-3_1.json\n",
      "VARS_bottomT_DATES_1993-12-31_1994-12-31_LONS_144_149_LATS_-16_-23_DEPTHS_0-3_1 written to /lustre_scratch/orlando-code/datasets/global_ocean_reanalysis/monthly_means/Great_Barrier_Reef_B/bottomT and metadata generated.\n"
     ]
    },
    {
     "name": "stderr",
     "output_type": "stream",
     "text": []
    },
    {
     "name": "stdout",
     "output_type": "stream",
     "text": [
      "2023-06-23 17:21:35.608 [ INFO] Asynchronous mode set\n",
      "2023-06-23 17:21:35.608 [ INFO] Authenticating user otimmerman for service https://my.cmems-du.eu/motu-web/Motu\n",
      "2023-06-23 17:21:40.034 [ INFO] Requesting file to download (this can take a while)...\n",
      "2023-06-23 17:21:46.664 [ INFO] Authenticating user otimmerman for service https://my.cmems-du.eu/motu-web/Motu\n",
      "2023-06-23 17:21:55.313 [ INFO] The product is ready for download\n",
      "2023-06-23 17:21:55.313 [ INFO] Downloading file (this can take a while)...\n",
      "2023-06-23 17:21:55.468 [ INFO] File type: application/x-netcdf\n",
      "2023-06-23 17:21:55.469 [ INFO] File size: 127.7 kB (127736 B)\n",
      "2023-06-23 17:21:55.469 [ INFO] Downloading file /lustre_scratch/orlando-code/datasets/global_ocean_reanalysis/monthly_means/Great_Barrier_Reef_B/bottomT/VARS_bottomT_DATES_1994-12-31_1995-12-31_LONS_144_149_LATS_-16_-23_DEPTHS_0-3_1.nc\n",
      "2023-06-23 17:21:55.526 [ INFO] - 127.7 kB (51.3%)\n",
      "2023-06-23 17:21:55.556 [ INFO] - 127.7 kB (100.0%)\n",
      "2023-06-23 17:21:55.556 [ INFO] Processing  time : 0:00:19.861445\n",
      "2023-06-23 17:21:55.556 [ INFO] Downloading time : 0:00:00.087011\n",
      "2023-06-23 17:21:55.556 [ INFO] Total time       : 0:00:19.948456\n",
      "2023-06-23 17:21:55.556 [ INFO] Download rate    : 527.4 kB/s\n",
      "2023-06-23 17:21:55.558 [ INFO] Done\n",
      "\n",
      "Dictionary saved as json file at /lustre_scratch/orlando-code/datasets/global_ocean_reanalysis/monthly_means/Great_Barrier_Reef_B/bottomT/VARS_bottomT_DATES_1994-12-31_1995-12-31_LONS_144_149_LATS_-16_-23_DEPTHS_0-3_1.json\n",
      "VARS_bottomT_DATES_1994-12-31_1995-12-31_LONS_144_149_LATS_-16_-23_DEPTHS_0-3_1 written to /lustre_scratch/orlando-code/datasets/global_ocean_reanalysis/monthly_means/Great_Barrier_Reef_B/bottomT and metadata generated.\n"
     ]
    },
    {
     "name": "stderr",
     "output_type": "stream",
     "text": []
    },
    {
     "name": "stdout",
     "output_type": "stream",
     "text": [
      "2023-06-23 17:21:57.152 [ INFO] Asynchronous mode set\n",
      "2023-06-23 17:21:57.153 [ INFO] Authenticating user otimmerman for service https://my.cmems-du.eu/motu-web/Motu\n",
      "2023-06-23 17:21:57.853 [ INFO] Requesting file to download (this can take a while)...\n",
      "2023-06-23 17:22:03.281 [ INFO] Authenticating user otimmerman for service https://my.cmems-du.eu/motu-web/Motu\n",
      "2023-06-23 17:22:09.391 [ INFO] The product is ready for download\n",
      "2023-06-23 17:22:09.391 [ INFO] Downloading file (this can take a while)...\n",
      "2023-06-23 17:22:09.541 [ INFO] File type: application/x-netcdf\n",
      "2023-06-23 17:22:09.541 [ INFO] File size: 127.7 kB (127736 B)\n",
      "2023-06-23 17:22:09.541 [ INFO] Downloading file /lustre_scratch/orlando-code/datasets/global_ocean_reanalysis/monthly_means/Great_Barrier_Reef_B/bottomT/VARS_bottomT_DATES_1995-12-31_1996-12-31_LONS_144_149_LATS_-16_-23_DEPTHS_0-3_1.nc\n",
      "2023-06-23 17:22:09.599 [ INFO] - 127.7 kB (51.3%)\n",
      "2023-06-23 17:22:09.629 [ INFO] - 127.7 kB (100.0%)\n",
      "2023-06-23 17:22:09.629 [ INFO] Processing  time : 0:00:12.389188\n",
      "2023-06-23 17:22:09.629 [ INFO] Downloading time : 0:00:00.087956\n",
      "2023-06-23 17:22:09.629 [ INFO] Total time       : 0:00:12.477144\n",
      "2023-06-23 17:22:09.629 [ INFO] Download rate    : 536.3 kB/s\n",
      "2023-06-23 17:22:09.631 [ INFO] Done\n",
      "\n",
      "Dictionary saved as json file at /lustre_scratch/orlando-code/datasets/global_ocean_reanalysis/monthly_means/Great_Barrier_Reef_B/bottomT/VARS_bottomT_DATES_1995-12-31_1996-12-31_LONS_144_149_LATS_-16_-23_DEPTHS_0-3_1.json\n",
      "VARS_bottomT_DATES_1995-12-31_1996-12-31_LONS_144_149_LATS_-16_-23_DEPTHS_0-3_1 written to /lustre_scratch/orlando-code/datasets/global_ocean_reanalysis/monthly_means/Great_Barrier_Reef_B/bottomT and metadata generated.\n"
     ]
    },
    {
     "name": "stderr",
     "output_type": "stream",
     "text": []
    },
    {
     "name": "stdout",
     "output_type": "stream",
     "text": [
      "2023-06-23 17:22:11.287 [ INFO] Asynchronous mode set\n",
      "2023-06-23 17:22:11.287 [ INFO] Authenticating user otimmerman for service https://my.cmems-du.eu/motu-web/Motu\n",
      "2023-06-23 17:22:13.848 [ INFO] Requesting file to download (this can take a while)...\n",
      "2023-06-23 17:22:24.073 [ INFO] Authenticating user otimmerman for service https://my.cmems-du.eu/motu-web/Motu\n",
      "2023-06-23 17:22:33.982 [ INFO] The product is ready for download\n",
      "2023-06-23 17:22:33.982 [ INFO] Downloading file (this can take a while)...\n",
      "2023-06-23 17:22:34.138 [ INFO] File type: application/x-netcdf\n",
      "2023-06-23 17:22:34.138 [ INFO] File size: 127.7 kB (127736 B)\n",
      "2023-06-23 17:22:34.138 [ INFO] Downloading file /lustre_scratch/orlando-code/datasets/global_ocean_reanalysis/monthly_means/Great_Barrier_Reef_B/bottomT/VARS_bottomT_DATES_1996-12-31_1997-12-31_LONS_144_149_LATS_-16_-23_DEPTHS_0-3_1.nc\n",
      "2023-06-23 17:22:34.197 [ INFO] - 127.7 kB (51.3%)\n",
      "2023-06-23 17:22:34.228 [ INFO] - 127.7 kB (100.0%)\n",
      "2023-06-23 17:22:34.228 [ INFO] Processing  time : 0:00:22.851602\n",
      "2023-06-23 17:22:34.228 [ INFO] Downloading time : 0:00:00.090324\n",
      "2023-06-23 17:22:34.229 [ INFO] Total time       : 0:00:22.941926\n",
      "2023-06-23 17:22:34.229 [ INFO] Download rate    : 518.4 kB/s\n",
      "2023-06-23 17:22:34.231 [ INFO] Done\n",
      "\n",
      "Dictionary saved as json file at /lustre_scratch/orlando-code/datasets/global_ocean_reanalysis/monthly_means/Great_Barrier_Reef_B/bottomT/VARS_bottomT_DATES_1996-12-31_1997-12-31_LONS_144_149_LATS_-16_-23_DEPTHS_0-3_1.json\n",
      "VARS_bottomT_DATES_1996-12-31_1997-12-31_LONS_144_149_LATS_-16_-23_DEPTHS_0-3_1 written to /lustre_scratch/orlando-code/datasets/global_ocean_reanalysis/monthly_means/Great_Barrier_Reef_B/bottomT and metadata generated.\n"
     ]
    },
    {
     "name": "stderr",
     "output_type": "stream",
     "text": []
    },
    {
     "name": "stdout",
     "output_type": "stream",
     "text": [
      "2023-06-23 17:22:35.892 [ INFO] Asynchronous mode set\n",
      "2023-06-23 17:22:35.892 [ INFO] Authenticating user otimmerman for service https://my.cmems-du.eu/motu-web/Motu\n",
      "2023-06-23 17:22:36.603 [ INFO] Requesting file to download (this can take a while)...\n",
      "2023-06-23 17:22:42.014 [ INFO] Authenticating user otimmerman for service https://my.cmems-du.eu/motu-web/Motu\n",
      "2023-06-23 17:22:48.121 [ INFO] The product is ready for download\n",
      "2023-06-23 17:22:48.121 [ INFO] Downloading file (this can take a while)...\n",
      "2023-06-23 17:22:48.301 [ INFO] File type: application/x-netcdf\n",
      "2023-06-23 17:22:48.302 [ INFO] File size: 127.7 kB (127736 B)\n",
      "2023-06-23 17:22:48.302 [ INFO] Downloading file /lustre_scratch/orlando-code/datasets/global_ocean_reanalysis/monthly_means/Great_Barrier_Reef_B/bottomT/VARS_bottomT_DATES_1997-12-31_1998-12-31_LONS_144_149_LATS_-16_-23_DEPTHS_0-3_1.nc\n",
      "2023-06-23 17:22:48.332 [ INFO] - 127.7 kB (51.3%)\n",
      "2023-06-23 17:22:48.361 [ INFO] - 127.7 kB (100.0%)\n",
      "2023-06-23 17:22:48.361 [ INFO] Processing  time : 0:00:12.409870\n",
      "2023-06-23 17:22:48.361 [ INFO] Downloading time : 0:00:00.059328\n",
      "2023-06-23 17:22:48.361 [ INFO] Total time       : 0:00:12.469198\n",
      "2023-06-23 17:22:48.361 [ INFO] Download rate    : 531.9 kB/s\n",
      "2023-06-23 17:22:48.364 [ INFO] Done\n",
      "\n",
      "Dictionary saved as json file at /lustre_scratch/orlando-code/datasets/global_ocean_reanalysis/monthly_means/Great_Barrier_Reef_B/bottomT/VARS_bottomT_DATES_1997-12-31_1998-12-31_LONS_144_149_LATS_-16_-23_DEPTHS_0-3_1.json\n",
      "VARS_bottomT_DATES_1997-12-31_1998-12-31_LONS_144_149_LATS_-16_-23_DEPTHS_0-3_1 written to /lustre_scratch/orlando-code/datasets/global_ocean_reanalysis/monthly_means/Great_Barrier_Reef_B/bottomT and metadata generated.\n"
     ]
    },
    {
     "name": "stderr",
     "output_type": "stream",
     "text": []
    },
    {
     "name": "stdout",
     "output_type": "stream",
     "text": [
      "2023-06-23 17:22:50.006 [ INFO] Asynchronous mode set\n",
      "2023-06-23 17:22:50.006 [ INFO] Authenticating user otimmerman for service https://my.cmems-du.eu/motu-web/Motu\n",
      "2023-06-23 17:22:50.709 [ INFO] Requesting file to download (this can take a while)...\n",
      "2023-06-23 17:22:56.120 [ INFO] Authenticating user otimmerman for service https://my.cmems-du.eu/motu-web/Motu\n",
      "2023-06-23 17:23:02.235 [ INFO] The product is ready for download\n",
      "2023-06-23 17:23:02.235 [ INFO] Downloading file (this can take a while)...\n",
      "2023-06-23 17:23:02.383 [ INFO] File type: application/x-netcdf\n",
      "2023-06-23 17:23:02.383 [ INFO] File size: 127.7 kB (127736 B)\n",
      "2023-06-23 17:23:02.383 [ INFO] Downloading file /lustre_scratch/orlando-code/datasets/global_ocean_reanalysis/monthly_means/Great_Barrier_Reef_B/bottomT/VARS_bottomT_DATES_1998-12-31_1999-12-31_LONS_144_149_LATS_-16_-23_DEPTHS_0-3_1.nc\n",
      "2023-06-23 17:23:02.443 [ INFO] - 127.7 kB (51.3%)\n",
      "2023-06-23 17:23:02.473 [ INFO] - 127.7 kB (100.0%)\n",
      "2023-06-23 17:23:02.473 [ INFO] Processing  time : 0:00:12.377883\n",
      "2023-06-23 17:23:02.473 [ INFO] Downloading time : 0:00:00.089959\n",
      "2023-06-23 17:23:02.473 [ INFO] Total time       : 0:00:12.467842\n",
      "2023-06-23 17:23:02.473 [ INFO] Download rate    : 537.2 kB/s\n",
      "2023-06-23 17:23:02.476 [ INFO] Done\n",
      "\n",
      "Dictionary saved as json file at /lustre_scratch/orlando-code/datasets/global_ocean_reanalysis/monthly_means/Great_Barrier_Reef_B/bottomT/VARS_bottomT_DATES_1998-12-31_1999-12-31_LONS_144_149_LATS_-16_-23_DEPTHS_0-3_1.json\n",
      "VARS_bottomT_DATES_1998-12-31_1999-12-31_LONS_144_149_LATS_-16_-23_DEPTHS_0-3_1 written to /lustre_scratch/orlando-code/datasets/global_ocean_reanalysis/monthly_means/Great_Barrier_Reef_B/bottomT and metadata generated.\n"
     ]
    },
    {
     "name": "stderr",
     "output_type": "stream",
     "text": []
    },
    {
     "name": "stdout",
     "output_type": "stream",
     "text": [
      "2023-06-23 17:23:04.119 [ INFO] Asynchronous mode set\n",
      "2023-06-23 17:23:04.119 [ INFO] Authenticating user otimmerman for service https://my.cmems-du.eu/motu-web/Motu\n",
      "2023-06-23 17:23:04.865 [ INFO] Requesting file to download (this can take a while)...\n",
      "2023-06-23 17:23:10.287 [ INFO] Authenticating user otimmerman for service https://my.cmems-du.eu/motu-web/Motu\n",
      "2023-06-23 17:23:17.613 [ INFO] The product is ready for download\n",
      "2023-06-23 17:23:17.613 [ INFO] Downloading file (this can take a while)...\n",
      "2023-06-23 17:23:17.768 [ INFO] File type: application/x-netcdf\n",
      "2023-06-23 17:23:17.768 [ INFO] File size: 127.7 kB (127736 B)\n",
      "2023-06-23 17:23:17.768 [ INFO] Downloading file /lustre_scratch/orlando-code/datasets/global_ocean_reanalysis/monthly_means/Great_Barrier_Reef_B/bottomT/VARS_bottomT_DATES_1999-12-31_2000-12-31_LONS_144_149_LATS_-16_-23_DEPTHS_0-3_1.nc\n",
      "2023-06-23 17:23:17.826 [ INFO] - 127.7 kB (51.3%)\n",
      "2023-06-23 17:23:17.856 [ INFO] - 127.7 kB (100.0%)\n",
      "2023-06-23 17:23:17.856 [ INFO] Processing  time : 0:00:13.649363\n",
      "2023-06-23 17:23:17.856 [ INFO] Downloading time : 0:00:00.088103\n",
      "2023-06-23 17:23:17.856 [ INFO] Total time       : 0:00:13.737466\n",
      "2023-06-23 17:23:17.856 [ INFO] Download rate    : 524.9 kB/s\n",
      "2023-06-23 17:23:17.859 [ INFO] Done\n",
      "\n",
      "Dictionary saved as json file at /lustre_scratch/orlando-code/datasets/global_ocean_reanalysis/monthly_means/Great_Barrier_Reef_B/bottomT/VARS_bottomT_DATES_1999-12-31_2000-12-31_LONS_144_149_LATS_-16_-23_DEPTHS_0-3_1.json\n",
      "VARS_bottomT_DATES_1999-12-31_2000-12-31_LONS_144_149_LATS_-16_-23_DEPTHS_0-3_1 written to /lustre_scratch/orlando-code/datasets/global_ocean_reanalysis/monthly_means/Great_Barrier_Reef_B/bottomT and metadata generated.\n"
     ]
    },
    {
     "name": "stderr",
     "output_type": "stream",
     "text": []
    },
    {
     "name": "stdout",
     "output_type": "stream",
     "text": [
      "2023-06-23 17:23:19.523 [ INFO] Asynchronous mode set\n",
      "2023-06-23 17:23:19.524 [ INFO] Authenticating user otimmerman for service https://my.cmems-du.eu/motu-web/Motu\n",
      "2023-06-23 17:23:20.229 [ INFO] Requesting file to download (this can take a while)...\n",
      "2023-06-23 17:23:25.726 [ INFO] Authenticating user otimmerman for service https://my.cmems-du.eu/motu-web/Motu\n",
      "2023-06-23 17:23:31.865 [ INFO] The product is ready for download\n",
      "2023-06-23 17:23:31.865 [ INFO] Downloading file (this can take a while)...\n",
      "2023-06-23 17:23:32.018 [ INFO] File type: application/x-netcdf\n",
      "2023-06-23 17:23:32.018 [ INFO] File size: 127.7 kB (127736 B)\n",
      "2023-06-23 17:23:32.018 [ INFO] Downloading file /lustre_scratch/orlando-code/datasets/global_ocean_reanalysis/monthly_means/Great_Barrier_Reef_B/bottomT/VARS_bottomT_DATES_2000-12-31_2001-12-31_LONS_144_149_LATS_-16_-23_DEPTHS_0-3_1.nc\n",
      "2023-06-23 17:23:32.077 [ INFO] - 127.7 kB (51.3%)\n",
      "2023-06-23 17:23:32.107 [ INFO] - 127.7 kB (100.0%)\n",
      "2023-06-23 17:23:32.107 [ INFO] Processing  time : 0:00:12.495068\n",
      "2023-06-23 17:23:32.107 [ INFO] Downloading time : 0:00:00.088953\n",
      "2023-06-23 17:23:32.107 [ INFO] Total time       : 0:00:12.584021\n",
      "2023-06-23 17:23:32.107 [ INFO] Download rate    : 528.3 kB/s\n",
      "2023-06-23 17:23:32.110 [ INFO] Done\n",
      "\n",
      "Dictionary saved as json file at /lustre_scratch/orlando-code/datasets/global_ocean_reanalysis/monthly_means/Great_Barrier_Reef_B/bottomT/VARS_bottomT_DATES_2000-12-31_2001-12-31_LONS_144_149_LATS_-16_-23_DEPTHS_0-3_1.json\n",
      "VARS_bottomT_DATES_2000-12-31_2001-12-31_LONS_144_149_LATS_-16_-23_DEPTHS_0-3_1 written to /lustre_scratch/orlando-code/datasets/global_ocean_reanalysis/monthly_means/Great_Barrier_Reef_B/bottomT and metadata generated.\n"
     ]
    },
    {
     "name": "stderr",
     "output_type": "stream",
     "text": []
    },
    {
     "name": "stdout",
     "output_type": "stream",
     "text": [
      "2023-06-23 17:23:33.769 [ INFO] Asynchronous mode set\n",
      "2023-06-23 17:23:33.769 [ INFO] Authenticating user otimmerman for service https://my.cmems-du.eu/motu-web/Motu\n",
      "2023-06-23 17:23:42.348 [ INFO] Requesting file to download (this can take a while)...\n",
      "2023-06-23 17:23:48.929 [ INFO] Authenticating user otimmerman for service https://my.cmems-du.eu/motu-web/Motu\n",
      "2023-06-23 17:24:00.391 [ INFO] Product is not yet available (request in progress)\n",
      "2023-06-23 17:24:10.401 [ INFO] Authenticating user otimmerman for service https://my.cmems-du.eu/motu-web/Motu\n",
      "2023-06-23 17:24:16.532 [ INFO] The product is ready for download\n",
      "2023-06-23 17:24:16.532 [ INFO] Downloading file (this can take a while)...\n",
      "2023-06-23 17:24:16.719 [ INFO] File type: application/x-netcdf\n",
      "2023-06-23 17:24:16.719 [ INFO] File size: 127.7 kB (127736 B)\n",
      "2023-06-23 17:24:16.719 [ INFO] Downloading file /lustre_scratch/orlando-code/datasets/global_ocean_reanalysis/monthly_means/Great_Barrier_Reef_B/bottomT/VARS_bottomT_DATES_2001-12-31_2002-12-31_LONS_144_149_LATS_-16_-23_DEPTHS_0-3_1.nc\n",
      "2023-06-23 17:24:16.747 [ INFO] - 127.7 kB (51.3%)\n",
      "2023-06-23 17:24:16.778 [ INFO] - 127.7 kB (100.0%)\n",
      "2023-06-23 17:24:16.778 [ INFO] Processing  time : 0:00:42.950906\n",
      "2023-06-23 17:24:16.778 [ INFO] Downloading time : 0:00:00.058774\n",
      "2023-06-23 17:24:16.778 [ INFO] Total time       : 0:00:43.009680\n",
      "2023-06-23 17:24:16.778 [ INFO] Download rate    : 520.1 kB/s\n",
      "2023-06-23 17:24:16.780 [ INFO] Done\n",
      "\n",
      "Dictionary saved as json file at /lustre_scratch/orlando-code/datasets/global_ocean_reanalysis/monthly_means/Great_Barrier_Reef_B/bottomT/VARS_bottomT_DATES_2001-12-31_2002-12-31_LONS_144_149_LATS_-16_-23_DEPTHS_0-3_1.json\n",
      "VARS_bottomT_DATES_2001-12-31_2002-12-31_LONS_144_149_LATS_-16_-23_DEPTHS_0-3_1 written to /lustre_scratch/orlando-code/datasets/global_ocean_reanalysis/monthly_means/Great_Barrier_Reef_B/bottomT and metadata generated.\n"
     ]
    },
    {
     "name": "stderr",
     "output_type": "stream",
     "text": []
    },
    {
     "name": "stdout",
     "output_type": "stream",
     "text": [
      "2023-06-23 17:24:18.394 [ INFO] Asynchronous mode set\n",
      "2023-06-23 17:24:18.395 [ INFO] Authenticating user otimmerman for service https://my.cmems-du.eu/motu-web/Motu\n",
      "2023-06-23 17:24:19.920 [ INFO] Requesting file to download (this can take a while)...\n",
      "2023-06-23 17:24:26.338 [ INFO] Authenticating user otimmerman for service https://my.cmems-du.eu/motu-web/Motu\n",
      "2023-06-23 17:24:32.810 [ INFO] The product is ready for download\n",
      "2023-06-23 17:24:32.810 [ INFO] Downloading file (this can take a while)...\n",
      "2023-06-23 17:24:32.996 [ INFO] File type: application/x-netcdf\n",
      "2023-06-23 17:24:32.996 [ INFO] File size: 127.7 kB (127736 B)\n",
      "2023-06-23 17:24:32.996 [ INFO] Downloading file /lustre_scratch/orlando-code/datasets/global_ocean_reanalysis/monthly_means/Great_Barrier_Reef_B/bottomT/VARS_bottomT_DATES_2002-12-31_2003-12-31_LONS_144_149_LATS_-16_-23_DEPTHS_0-3_1.nc\n",
      "2023-06-23 17:24:33.026 [ INFO] - 127.7 kB (51.3%)\n",
      "2023-06-23 17:24:33.055 [ INFO] - 127.7 kB (100.0%)\n",
      "2023-06-23 17:24:33.056 [ INFO] Processing  time : 0:00:14.602280\n",
      "2023-06-23 17:24:33.056 [ INFO] Downloading time : 0:00:00.059323\n",
      "2023-06-23 17:24:33.056 [ INFO] Total time       : 0:00:14.661603\n",
      "2023-06-23 17:24:33.056 [ INFO] Download rate    : 520.7 kB/s\n",
      "2023-06-23 17:24:33.058 [ INFO] Done\n",
      "\n",
      "Dictionary saved as json file at /lustre_scratch/orlando-code/datasets/global_ocean_reanalysis/monthly_means/Great_Barrier_Reef_B/bottomT/VARS_bottomT_DATES_2002-12-31_2003-12-31_LONS_144_149_LATS_-16_-23_DEPTHS_0-3_1.json\n",
      "VARS_bottomT_DATES_2002-12-31_2003-12-31_LONS_144_149_LATS_-16_-23_DEPTHS_0-3_1 written to /lustre_scratch/orlando-code/datasets/global_ocean_reanalysis/monthly_means/Great_Barrier_Reef_B/bottomT and metadata generated.\n"
     ]
    },
    {
     "name": "stderr",
     "output_type": "stream",
     "text": []
    },
    {
     "name": "stdout",
     "output_type": "stream",
     "text": [
      "2023-06-23 17:24:34.685 [ INFO] Asynchronous mode set\n",
      "2023-06-23 17:24:34.686 [ INFO] Authenticating user otimmerman for service https://my.cmems-du.eu/motu-web/Motu\n",
      "2023-06-23 17:24:38.640 [ INFO] Requesting file to download (this can take a while)...\n",
      "2023-06-23 17:24:44.069 [ INFO] Authenticating user otimmerman for service https://my.cmems-du.eu/motu-web/Motu\n",
      "2023-06-23 17:24:50.188 [ INFO] The product is ready for download\n",
      "2023-06-23 17:24:50.188 [ INFO] Downloading file (this can take a while)...\n",
      "2023-06-23 17:24:50.340 [ INFO] File type: application/x-netcdf\n",
      "2023-06-23 17:24:50.340 [ INFO] File size: 127.7 kB (127736 B)\n",
      "2023-06-23 17:24:50.340 [ INFO] Downloading file /lustre_scratch/orlando-code/datasets/global_ocean_reanalysis/monthly_means/Great_Barrier_Reef_B/bottomT/VARS_bottomT_DATES_2003-12-31_2004-12-31_LONS_144_149_LATS_-16_-23_DEPTHS_0-3_1.nc\n",
      "2023-06-23 17:24:50.401 [ INFO] - 127.7 kB (51.3%)\n",
      "2023-06-23 17:24:50.431 [ INFO] - 127.7 kB (100.0%)\n",
      "2023-06-23 17:24:50.431 [ INFO] Processing  time : 0:00:15.655306\n",
      "2023-06-23 17:24:50.431 [ INFO] Downloading time : 0:00:00.090550\n",
      "2023-06-23 17:24:50.431 [ INFO] Total time       : 0:00:15.745856\n",
      "2023-06-23 17:24:50.431 [ INFO] Download rate    : 526.1 kB/s\n",
      "2023-06-23 17:24:50.433 [ INFO] Done\n",
      "\n",
      "Dictionary saved as json file at /lustre_scratch/orlando-code/datasets/global_ocean_reanalysis/monthly_means/Great_Barrier_Reef_B/bottomT/VARS_bottomT_DATES_2003-12-31_2004-12-31_LONS_144_149_LATS_-16_-23_DEPTHS_0-3_1.json\n",
      "VARS_bottomT_DATES_2003-12-31_2004-12-31_LONS_144_149_LATS_-16_-23_DEPTHS_0-3_1 written to /lustre_scratch/orlando-code/datasets/global_ocean_reanalysis/monthly_means/Great_Barrier_Reef_B/bottomT and metadata generated.\n"
     ]
    },
    {
     "name": "stderr",
     "output_type": "stream",
     "text": []
    },
    {
     "name": "stdout",
     "output_type": "stream",
     "text": [
      "2023-06-23 17:24:52.075 [ INFO] Asynchronous mode set\n",
      "2023-06-23 17:24:52.075 [ INFO] Authenticating user otimmerman for service https://my.cmems-du.eu/motu-web/Motu\n",
      "2023-06-23 17:24:53.571 [ INFO] Requesting file to download (this can take a while)...\n",
      "2023-06-23 17:24:58.997 [ INFO] Authenticating user otimmerman for service https://my.cmems-du.eu/motu-web/Motu\n",
      "2023-06-23 17:25:05.116 [ INFO] The product is ready for download\n",
      "2023-06-23 17:25:05.116 [ INFO] Downloading file (this can take a while)...\n",
      "2023-06-23 17:25:05.299 [ INFO] File type: application/x-netcdf\n",
      "2023-06-23 17:25:05.299 [ INFO] File size: 127.7 kB (127736 B)\n",
      "2023-06-23 17:25:05.299 [ INFO] Downloading file /lustre_scratch/orlando-code/datasets/global_ocean_reanalysis/monthly_means/Great_Barrier_Reef_B/bottomT/VARS_bottomT_DATES_2004-12-31_2005-12-31_LONS_144_149_LATS_-16_-23_DEPTHS_0-3_1.nc\n",
      "2023-06-23 17:25:05.328 [ INFO] - 127.7 kB (51.3%)\n",
      "2023-06-23 17:25:05.358 [ INFO] - 127.7 kB (100.0%)\n",
      "2023-06-23 17:25:05.358 [ INFO] Processing  time : 0:00:13.225009\n",
      "2023-06-23 17:25:05.358 [ INFO] Downloading time : 0:00:00.058749\n",
      "2023-06-23 17:25:05.358 [ INFO] Total time       : 0:00:13.283758\n",
      "2023-06-23 17:25:05.358 [ INFO] Download rate    : 527.9 kB/s\n",
      "2023-06-23 17:25:05.360 [ INFO] Done\n",
      "\n",
      "Dictionary saved as json file at /lustre_scratch/orlando-code/datasets/global_ocean_reanalysis/monthly_means/Great_Barrier_Reef_B/bottomT/VARS_bottomT_DATES_2004-12-31_2005-12-31_LONS_144_149_LATS_-16_-23_DEPTHS_0-3_1.json\n",
      "VARS_bottomT_DATES_2004-12-31_2005-12-31_LONS_144_149_LATS_-16_-23_DEPTHS_0-3_1 written to /lustre_scratch/orlando-code/datasets/global_ocean_reanalysis/monthly_means/Great_Barrier_Reef_B/bottomT and metadata generated.\n"
     ]
    },
    {
     "name": "stderr",
     "output_type": "stream",
     "text": []
    },
    {
     "name": "stdout",
     "output_type": "stream",
     "text": [
      "2023-06-23 17:25:06.967 [ INFO] Asynchronous mode set\n",
      "2023-06-23 17:25:06.967 [ INFO] Authenticating user otimmerman for service https://my.cmems-du.eu/motu-web/Motu\n",
      "2023-06-23 17:25:07.685 [ INFO] Requesting file to download (this can take a while)...\n",
      "2023-06-23 17:25:13.102 [ INFO] Authenticating user otimmerman for service https://my.cmems-du.eu/motu-web/Motu\n",
      "2023-06-23 17:25:21.153 [ INFO] The product is ready for download\n",
      "2023-06-23 17:25:21.153 [ INFO] Downloading file (this can take a while)...\n",
      "2023-06-23 17:25:21.307 [ INFO] File type: application/x-netcdf\n",
      "2023-06-23 17:25:21.307 [ INFO] File size: 127.7 kB (127736 B)\n",
      "2023-06-23 17:25:21.307 [ INFO] Downloading file /lustre_scratch/orlando-code/datasets/global_ocean_reanalysis/monthly_means/Great_Barrier_Reef_B/bottomT/VARS_bottomT_DATES_2005-12-31_2006-12-31_LONS_144_149_LATS_-16_-23_DEPTHS_0-3_1.nc\n",
      "2023-06-23 17:25:21.368 [ INFO] - 127.7 kB (51.3%)\n",
      "2023-06-23 17:25:21.397 [ INFO] - 127.7 kB (100.0%)\n",
      "2023-06-23 17:25:21.397 [ INFO] Processing  time : 0:00:14.340663\n",
      "2023-06-23 17:25:21.397 [ INFO] Downloading time : 0:00:00.090542\n",
      "2023-06-23 17:25:21.398 [ INFO] Total time       : 0:00:14.431205\n",
      "2023-06-23 17:25:21.398 [ INFO] Download rate    : 523.4 kB/s\n",
      "2023-06-23 17:25:21.400 [ INFO] Done\n",
      "\n",
      "Dictionary saved as json file at /lustre_scratch/orlando-code/datasets/global_ocean_reanalysis/monthly_means/Great_Barrier_Reef_B/bottomT/VARS_bottomT_DATES_2005-12-31_2006-12-31_LONS_144_149_LATS_-16_-23_DEPTHS_0-3_1.json\n",
      "VARS_bottomT_DATES_2005-12-31_2006-12-31_LONS_144_149_LATS_-16_-23_DEPTHS_0-3_1 written to /lustre_scratch/orlando-code/datasets/global_ocean_reanalysis/monthly_means/Great_Barrier_Reef_B/bottomT and metadata generated.\n"
     ]
    },
    {
     "name": "stderr",
     "output_type": "stream",
     "text": []
    },
    {
     "name": "stdout",
     "output_type": "stream",
     "text": [
      "2023-06-23 17:25:23.058 [ INFO] Asynchronous mode set\n",
      "2023-06-23 17:25:23.058 [ INFO] Authenticating user otimmerman for service https://my.cmems-du.eu/motu-web/Motu\n",
      "2023-06-23 17:25:24.328 [ INFO] Requesting file to download (this can take a while)...\n",
      "2023-06-23 17:25:29.755 [ INFO] Authenticating user otimmerman for service https://my.cmems-du.eu/motu-web/Motu\n",
      "2023-06-23 17:25:35.865 [ INFO] The product is ready for download\n",
      "2023-06-23 17:25:35.865 [ INFO] Downloading file (this can take a while)...\n",
      "2023-06-23 17:25:36.016 [ INFO] File type: application/x-netcdf\n",
      "2023-06-23 17:25:36.016 [ INFO] File size: 127.7 kB (127736 B)\n",
      "2023-06-23 17:25:36.016 [ INFO] Downloading file /lustre_scratch/orlando-code/datasets/global_ocean_reanalysis/monthly_means/Great_Barrier_Reef_B/bottomT/VARS_bottomT_DATES_2006-12-31_2007-12-31_LONS_144_149_LATS_-16_-23_DEPTHS_0-3_1.nc\n",
      "2023-06-23 17:25:36.075 [ INFO] - 127.7 kB (51.3%)\n",
      "2023-06-23 17:25:36.104 [ INFO] - 127.7 kB (100.0%)\n",
      "2023-06-23 17:25:36.104 [ INFO] Processing  time : 0:00:12.958833\n",
      "2023-06-23 17:25:36.104 [ INFO] Downloading time : 0:00:00.088037\n",
      "2023-06-23 17:25:36.104 [ INFO] Total time       : 0:00:13.046870\n",
      "2023-06-23 17:25:36.104 [ INFO] Download rate    : 533.4 kB/s\n",
      "2023-06-23 17:25:36.107 [ INFO] Done\n",
      "\n",
      "Dictionary saved as json file at /lustre_scratch/orlando-code/datasets/global_ocean_reanalysis/monthly_means/Great_Barrier_Reef_B/bottomT/VARS_bottomT_DATES_2006-12-31_2007-12-31_LONS_144_149_LATS_-16_-23_DEPTHS_0-3_1.json\n",
      "VARS_bottomT_DATES_2006-12-31_2007-12-31_LONS_144_149_LATS_-16_-23_DEPTHS_0-3_1 written to /lustre_scratch/orlando-code/datasets/global_ocean_reanalysis/monthly_means/Great_Barrier_Reef_B/bottomT and metadata generated.\n"
     ]
    },
    {
     "name": "stderr",
     "output_type": "stream",
     "text": []
    },
    {
     "name": "stdout",
     "output_type": "stream",
     "text": [
      "2023-06-23 17:25:37.781 [ INFO] Asynchronous mode set\n",
      "2023-06-23 17:25:37.782 [ INFO] Authenticating user otimmerman for service https://my.cmems-du.eu/motu-web/Motu\n",
      "2023-06-23 17:25:38.486 [ INFO] Requesting file to download (this can take a while)...\n",
      "2023-06-23 17:25:43.915 [ INFO] Authenticating user otimmerman for service https://my.cmems-du.eu/motu-web/Motu\n",
      "2023-06-23 17:25:50.059 [ INFO] The product is ready for download\n",
      "2023-06-23 17:25:50.059 [ INFO] Downloading file (this can take a while)...\n",
      "2023-06-23 17:25:50.212 [ INFO] File type: application/x-netcdf\n",
      "2023-06-23 17:25:50.212 [ INFO] File size: 127.7 kB (127736 B)\n",
      "2023-06-23 17:25:50.212 [ INFO] Downloading file /lustre_scratch/orlando-code/datasets/global_ocean_reanalysis/monthly_means/Great_Barrier_Reef_B/bottomT/VARS_bottomT_DATES_2007-12-31_2008-12-31_LONS_144_149_LATS_-16_-23_DEPTHS_0-3_1.nc\n",
      "2023-06-23 17:25:50.271 [ INFO] - 127.7 kB (51.3%)\n",
      "2023-06-23 17:25:50.301 [ INFO] - 127.7 kB (100.0%)\n",
      "2023-06-23 17:25:50.301 [ INFO] Processing  time : 0:00:12.431646\n",
      "2023-06-23 17:25:50.301 [ INFO] Downloading time : 0:00:00.088788\n",
      "2023-06-23 17:25:50.301 [ INFO] Total time       : 0:00:12.520434\n",
      "2023-06-23 17:25:50.301 [ INFO] Download rate    : 528.4 kB/s\n",
      "2023-06-23 17:25:50.303 [ INFO] Done\n",
      "\n",
      "Dictionary saved as json file at /lustre_scratch/orlando-code/datasets/global_ocean_reanalysis/monthly_means/Great_Barrier_Reef_B/bottomT/VARS_bottomT_DATES_2007-12-31_2008-12-31_LONS_144_149_LATS_-16_-23_DEPTHS_0-3_1.json\n",
      "VARS_bottomT_DATES_2007-12-31_2008-12-31_LONS_144_149_LATS_-16_-23_DEPTHS_0-3_1 written to /lustre_scratch/orlando-code/datasets/global_ocean_reanalysis/monthly_means/Great_Barrier_Reef_B/bottomT and metadata generated.\n"
     ]
    },
    {
     "name": "stderr",
     "output_type": "stream",
     "text": []
    },
    {
     "name": "stdout",
     "output_type": "stream",
     "text": [
      "2023-06-23 17:25:51.910 [ INFO] Asynchronous mode set\n",
      "2023-06-23 17:25:51.910 [ INFO] Authenticating user otimmerman for service https://my.cmems-du.eu/motu-web/Motu\n",
      "2023-06-23 17:25:52.613 [ INFO] Requesting file to download (this can take a while)...\n",
      "2023-06-23 17:25:58.036 [ INFO] Authenticating user otimmerman for service https://my.cmems-du.eu/motu-web/Motu\n",
      "2023-06-23 17:26:04.134 [ INFO] The product is ready for download\n",
      "2023-06-23 17:26:04.134 [ INFO] Downloading file (this can take a while)...\n",
      "2023-06-23 17:26:04.285 [ INFO] File type: application/x-netcdf\n",
      "2023-06-23 17:26:04.285 [ INFO] File size: 127.7 kB (127736 B)\n",
      "2023-06-23 17:26:04.285 [ INFO] Downloading file /lustre_scratch/orlando-code/datasets/global_ocean_reanalysis/monthly_means/Great_Barrier_Reef_B/bottomT/VARS_bottomT_DATES_2008-12-31_2009-12-31_LONS_144_149_LATS_-16_-23_DEPTHS_0-3_1.nc\n",
      "2023-06-23 17:26:04.345 [ INFO] - 127.7 kB (51.3%)\n",
      "2023-06-23 17:26:04.376 [ INFO] - 127.7 kB (100.0%)\n",
      "2023-06-23 17:26:04.376 [ INFO] Processing  time : 0:00:12.375294\n",
      "2023-06-23 17:26:04.376 [ INFO] Downloading time : 0:00:00.091120\n",
      "2023-06-23 17:26:04.376 [ INFO] Total time       : 0:00:12.466414\n",
      "2023-06-23 17:26:04.376 [ INFO] Download rate    : 527.7 kB/s\n",
      "2023-06-23 17:26:04.379 [ INFO] Done\n",
      "\n",
      "Dictionary saved as json file at /lustre_scratch/orlando-code/datasets/global_ocean_reanalysis/monthly_means/Great_Barrier_Reef_B/bottomT/VARS_bottomT_DATES_2008-12-31_2009-12-31_LONS_144_149_LATS_-16_-23_DEPTHS_0-3_1.json\n",
      "VARS_bottomT_DATES_2008-12-31_2009-12-31_LONS_144_149_LATS_-16_-23_DEPTHS_0-3_1 written to /lustre_scratch/orlando-code/datasets/global_ocean_reanalysis/monthly_means/Great_Barrier_Reef_B/bottomT and metadata generated.\n"
     ]
    },
    {
     "name": "stderr",
     "output_type": "stream",
     "text": []
    },
    {
     "name": "stdout",
     "output_type": "stream",
     "text": [
      "2023-06-23 17:26:05.987 [ INFO] Asynchronous mode set\n",
      "2023-06-23 17:26:05.988 [ INFO] Authenticating user otimmerman for service https://my.cmems-du.eu/motu-web/Motu\n",
      "2023-06-23 17:26:06.688 [ INFO] Requesting file to download (this can take a while)...\n",
      "2023-06-23 17:26:12.113 [ INFO] Authenticating user otimmerman for service https://my.cmems-du.eu/motu-web/Motu\n",
      "2023-06-23 17:26:18.506 [ INFO] The product is ready for download\n",
      "2023-06-23 17:26:18.506 [ INFO] Downloading file (this can take a while)...\n",
      "2023-06-23 17:26:18.686 [ INFO] File type: application/x-netcdf\n",
      "2023-06-23 17:26:18.686 [ INFO] File size: 127.7 kB (127736 B)\n",
      "2023-06-23 17:26:18.686 [ INFO] Downloading file /lustre_scratch/orlando-code/datasets/global_ocean_reanalysis/monthly_means/Great_Barrier_Reef_B/bottomT/VARS_bottomT_DATES_2009-12-31_2010-12-31_LONS_144_149_LATS_-16_-23_DEPTHS_0-3_1.nc\n",
      "2023-06-23 17:26:18.715 [ INFO] - 127.7 kB (51.3%)\n",
      "2023-06-23 17:26:18.775 [ INFO] - 127.7 kB (100.0%)\n",
      "2023-06-23 17:26:18.775 [ INFO] Processing  time : 0:00:12.699607\n",
      "2023-06-23 17:26:18.775 [ INFO] Downloading time : 0:00:00.088447\n",
      "2023-06-23 17:26:18.775 [ INFO] Total time       : 0:00:12.788054\n",
      "2023-06-23 17:26:18.775 [ INFO] Download rate    : 475.5 kB/s\n",
      "2023-06-23 17:26:18.778 [ INFO] Done\n",
      "\n",
      "Dictionary saved as json file at /lustre_scratch/orlando-code/datasets/global_ocean_reanalysis/monthly_means/Great_Barrier_Reef_B/bottomT/VARS_bottomT_DATES_2009-12-31_2010-12-31_LONS_144_149_LATS_-16_-23_DEPTHS_0-3_1.json\n",
      "VARS_bottomT_DATES_2009-12-31_2010-12-31_LONS_144_149_LATS_-16_-23_DEPTHS_0-3_1 written to /lustre_scratch/orlando-code/datasets/global_ocean_reanalysis/monthly_means/Great_Barrier_Reef_B/bottomT and metadata generated.\n"
     ]
    },
    {
     "name": "stderr",
     "output_type": "stream",
     "text": []
    },
    {
     "name": "stdout",
     "output_type": "stream",
     "text": [
      "2023-06-23 17:26:20.386 [ INFO] Asynchronous mode set\n",
      "2023-06-23 17:26:20.387 [ INFO] Authenticating user otimmerman for service https://my.cmems-du.eu/motu-web/Motu\n",
      "2023-06-23 17:26:21.993 [ INFO] Requesting file to download (this can take a while)...\n",
      "2023-06-23 17:26:27.413 [ INFO] Authenticating user otimmerman for service https://my.cmems-du.eu/motu-web/Motu\n",
      "2023-06-23 17:26:33.643 [ INFO] The product is ready for download\n",
      "2023-06-23 17:26:33.643 [ INFO] Downloading file (this can take a while)...\n",
      "2023-06-23 17:26:33.800 [ INFO] File type: application/x-netcdf\n",
      "2023-06-23 17:26:33.800 [ INFO] File size: 127.7 kB (127736 B)\n",
      "2023-06-23 17:26:33.800 [ INFO] Downloading file /lustre_scratch/orlando-code/datasets/global_ocean_reanalysis/monthly_means/Great_Barrier_Reef_B/bottomT/VARS_bottomT_DATES_2010-12-31_2011-12-31_LONS_144_149_LATS_-16_-23_DEPTHS_0-3_1.nc\n",
      "2023-06-23 17:26:33.859 [ INFO] - 127.7 kB (51.3%)\n",
      "2023-06-23 17:26:33.889 [ INFO] - 127.7 kB (100.0%)\n",
      "2023-06-23 17:26:33.889 [ INFO] Processing  time : 0:00:13.414135\n",
      "2023-06-23 17:26:33.890 [ INFO] Downloading time : 0:00:00.089272\n",
      "2023-06-23 17:26:33.890 [ INFO] Total time       : 0:00:13.503407\n",
      "2023-06-23 17:26:33.890 [ INFO] Download rate    : 519.4 kB/s\n",
      "2023-06-23 17:26:33.894 [ INFO] Done\n",
      "\n",
      "Dictionary saved as json file at /lustre_scratch/orlando-code/datasets/global_ocean_reanalysis/monthly_means/Great_Barrier_Reef_B/bottomT/VARS_bottomT_DATES_2010-12-31_2011-12-31_LONS_144_149_LATS_-16_-23_DEPTHS_0-3_1.json\n",
      "VARS_bottomT_DATES_2010-12-31_2011-12-31_LONS_144_149_LATS_-16_-23_DEPTHS_0-3_1 written to /lustre_scratch/orlando-code/datasets/global_ocean_reanalysis/monthly_means/Great_Barrier_Reef_B/bottomT and metadata generated.\n"
     ]
    },
    {
     "name": "stderr",
     "output_type": "stream",
     "text": []
    },
    {
     "name": "stdout",
     "output_type": "stream",
     "text": [
      "2023-06-23 17:26:35.540 [ INFO] Asynchronous mode set\n",
      "2023-06-23 17:26:35.541 [ INFO] Authenticating user otimmerman for service https://my.cmems-du.eu/motu-web/Motu\n",
      "2023-06-23 17:26:36.246 [ INFO] Requesting file to download (this can take a while)...\n",
      "2023-06-23 17:26:41.660 [ INFO] Authenticating user otimmerman for service https://my.cmems-du.eu/motu-web/Motu\n",
      "2023-06-23 17:26:49.798 [ INFO] The product is ready for download\n",
      "2023-06-23 17:26:49.798 [ INFO] Downloading file (this can take a while)...\n",
      "2023-06-23 17:26:49.949 [ INFO] File type: application/x-netcdf\n",
      "2023-06-23 17:26:49.949 [ INFO] File size: 127.7 kB (127736 B)\n",
      "2023-06-23 17:26:49.950 [ INFO] Downloading file /lustre_scratch/orlando-code/datasets/global_ocean_reanalysis/monthly_means/Great_Barrier_Reef_B/bottomT/VARS_bottomT_DATES_2011-12-31_2012-12-31_LONS_144_149_LATS_-16_-23_DEPTHS_0-3_1.nc\n",
      "2023-06-23 17:26:50.010 [ INFO] - 127.7 kB (51.3%)\n",
      "2023-06-23 17:26:50.039 [ INFO] - 127.7 kB (100.0%)\n",
      "2023-06-23 17:26:50.039 [ INFO] Processing  time : 0:00:14.409430\n",
      "2023-06-23 17:26:50.039 [ INFO] Downloading time : 0:00:00.089649\n",
      "2023-06-23 17:26:50.039 [ INFO] Total time       : 0:00:14.499079\n",
      "2023-06-23 17:26:50.039 [ INFO] Download rate    : 529.4 kB/s\n",
      "2023-06-23 17:26:50.042 [ INFO] Done\n",
      "\n",
      "Dictionary saved as json file at /lustre_scratch/orlando-code/datasets/global_ocean_reanalysis/monthly_means/Great_Barrier_Reef_B/bottomT/VARS_bottomT_DATES_2011-12-31_2012-12-31_LONS_144_149_LATS_-16_-23_DEPTHS_0-3_1.json\n",
      "VARS_bottomT_DATES_2011-12-31_2012-12-31_LONS_144_149_LATS_-16_-23_DEPTHS_0-3_1 written to /lustre_scratch/orlando-code/datasets/global_ocean_reanalysis/monthly_means/Great_Barrier_Reef_B/bottomT and metadata generated.\n"
     ]
    },
    {
     "name": "stderr",
     "output_type": "stream",
     "text": []
    },
    {
     "name": "stdout",
     "output_type": "stream",
     "text": [
      "2023-06-23 17:26:51.649 [ INFO] Asynchronous mode set\n",
      "2023-06-23 17:26:51.649 [ INFO] Authenticating user otimmerman for service https://my.cmems-du.eu/motu-web/Motu\n",
      "2023-06-23 17:26:52.659 [ INFO] Requesting file to download (this can take a while)...\n",
      "2023-06-23 17:26:58.071 [ INFO] Authenticating user otimmerman for service https://my.cmems-du.eu/motu-web/Motu\n",
      "2023-06-23 17:27:04.205 [ INFO] The product is ready for download\n",
      "2023-06-23 17:27:04.205 [ INFO] Downloading file (this can take a while)...\n",
      "2023-06-23 17:27:04.360 [ INFO] File type: application/x-netcdf\n",
      "2023-06-23 17:27:04.360 [ INFO] File size: 127.7 kB (127736 B)\n",
      "2023-06-23 17:27:04.360 [ INFO] Downloading file /lustre_scratch/orlando-code/datasets/global_ocean_reanalysis/monthly_means/Great_Barrier_Reef_B/bottomT/VARS_bottomT_DATES_2012-12-31_2013-12-31_LONS_144_149_LATS_-16_-23_DEPTHS_0-3_1.nc\n",
      "2023-06-23 17:27:04.418 [ INFO] - 127.7 kB (51.3%)\n",
      "2023-06-23 17:27:04.448 [ INFO] - 127.7 kB (100.0%)\n",
      "2023-06-23 17:27:04.449 [ INFO] Processing  time : 0:00:12.711318\n",
      "2023-06-23 17:27:04.449 [ INFO] Downloading time : 0:00:00.088747\n",
      "2023-06-23 17:27:04.449 [ INFO] Total time       : 0:00:12.800065\n",
      "2023-06-23 17:27:04.449 [ INFO] Download rate    : 524.1 kB/s\n",
      "2023-06-23 17:27:04.451 [ INFO] Done\n",
      "\n",
      "Dictionary saved as json file at /lustre_scratch/orlando-code/datasets/global_ocean_reanalysis/monthly_means/Great_Barrier_Reef_B/bottomT/VARS_bottomT_DATES_2012-12-31_2013-12-31_LONS_144_149_LATS_-16_-23_DEPTHS_0-3_1.json\n",
      "VARS_bottomT_DATES_2012-12-31_2013-12-31_LONS_144_149_LATS_-16_-23_DEPTHS_0-3_1 written to /lustre_scratch/orlando-code/datasets/global_ocean_reanalysis/monthly_means/Great_Barrier_Reef_B/bottomT and metadata generated.\n"
     ]
    },
    {
     "name": "stderr",
     "output_type": "stream",
     "text": []
    },
    {
     "name": "stdout",
     "output_type": "stream",
     "text": [
      "2023-06-23 17:27:06.083 [ INFO] Asynchronous mode set\n",
      "2023-06-23 17:27:06.084 [ INFO] Authenticating user otimmerman for service https://my.cmems-du.eu/motu-web/Motu\n",
      "2023-06-23 17:27:07.253 [ INFO] Requesting file to download (this can take a while)...\n",
      "2023-06-23 17:27:13.092 [ INFO] Authenticating user otimmerman for service https://my.cmems-du.eu/motu-web/Motu\n",
      "2023-06-23 17:27:23.067 [ INFO] The product is ready for download\n",
      "2023-06-23 17:27:23.067 [ INFO] Downloading file (this can take a while)...\n",
      "2023-06-23 17:27:23.219 [ INFO] File type: application/x-netcdf\n",
      "2023-06-23 17:27:23.219 [ INFO] File size: 127.7 kB (127736 B)\n",
      "2023-06-23 17:27:23.219 [ INFO] Downloading file /lustre_scratch/orlando-code/datasets/global_ocean_reanalysis/monthly_means/Great_Barrier_Reef_B/bottomT/VARS_bottomT_DATES_2013-12-31_2014-12-31_LONS_144_149_LATS_-16_-23_DEPTHS_0-3_1.nc\n",
      "2023-06-23 17:27:23.279 [ INFO] - 127.7 kB (51.3%)\n",
      "2023-06-23 17:27:23.309 [ INFO] - 127.7 kB (100.0%)\n",
      "2023-06-23 17:27:23.309 [ INFO] Processing  time : 0:00:17.135726\n",
      "2023-06-23 17:27:23.309 [ INFO] Downloading time : 0:00:00.090179\n",
      "2023-06-23 17:27:23.309 [ INFO] Total time       : 0:00:17.225905\n",
      "2023-06-23 17:27:23.309 [ INFO] Download rate    : 527.8 kB/s\n",
      "2023-06-23 17:27:23.311 [ INFO] Done\n",
      "\n",
      "Dictionary saved as json file at /lustre_scratch/orlando-code/datasets/global_ocean_reanalysis/monthly_means/Great_Barrier_Reef_B/bottomT/VARS_bottomT_DATES_2013-12-31_2014-12-31_LONS_144_149_LATS_-16_-23_DEPTHS_0-3_1.json\n",
      "VARS_bottomT_DATES_2013-12-31_2014-12-31_LONS_144_149_LATS_-16_-23_DEPTHS_0-3_1 written to /lustre_scratch/orlando-code/datasets/global_ocean_reanalysis/monthly_means/Great_Barrier_Reef_B/bottomT and metadata generated.\n"
     ]
    },
    {
     "name": "stderr",
     "output_type": "stream",
     "text": []
    },
    {
     "name": "stdout",
     "output_type": "stream",
     "text": [
      "2023-06-23 17:27:24.964 [ INFO] Asynchronous mode set\n",
      "2023-06-23 17:27:24.964 [ INFO] Authenticating user otimmerman for service https://my.cmems-du.eu/motu-web/Motu\n",
      "2023-06-23 17:27:27.251 [ INFO] Requesting file to download (this can take a while)...\n",
      "2023-06-23 17:27:32.667 [ INFO] Authenticating user otimmerman for service https://my.cmems-du.eu/motu-web/Motu\n",
      "2023-06-23 17:27:40.400 [ INFO] The product is ready for download\n",
      "2023-06-23 17:27:40.400 [ INFO] Downloading file (this can take a while)...\n",
      "2023-06-23 17:27:40.558 [ INFO] File type: application/x-netcdf\n",
      "2023-06-23 17:27:40.558 [ INFO] File size: 127.7 kB (127736 B)\n",
      "2023-06-23 17:27:40.558 [ INFO] Downloading file /lustre_scratch/orlando-code/datasets/global_ocean_reanalysis/monthly_means/Great_Barrier_Reef_B/bottomT/VARS_bottomT_DATES_2014-12-31_2015-12-31_LONS_144_149_LATS_-16_-23_DEPTHS_0-3_1.nc\n",
      "2023-06-23 17:27:40.617 [ INFO] - 127.7 kB (51.3%)\n",
      "2023-06-23 17:27:40.646 [ INFO] - 127.7 kB (100.0%)\n",
      "2023-06-23 17:27:40.646 [ INFO] Processing  time : 0:00:15.594337\n",
      "2023-06-23 17:27:40.646 [ INFO] Downloading time : 0:00:00.087837\n",
      "2023-06-23 17:27:40.646 [ INFO] Total time       : 0:00:15.682174\n",
      "2023-06-23 17:27:40.646 [ INFO] Download rate    : 519.6 kB/s\n",
      "2023-06-23 17:27:40.648 [ INFO] Done\n",
      "\n",
      "Dictionary saved as json file at /lustre_scratch/orlando-code/datasets/global_ocean_reanalysis/monthly_means/Great_Barrier_Reef_B/bottomT/VARS_bottomT_DATES_2014-12-31_2015-12-31_LONS_144_149_LATS_-16_-23_DEPTHS_0-3_1.json\n",
      "VARS_bottomT_DATES_2014-12-31_2015-12-31_LONS_144_149_LATS_-16_-23_DEPTHS_0-3_1 written to /lustre_scratch/orlando-code/datasets/global_ocean_reanalysis/monthly_means/Great_Barrier_Reef_B/bottomT and metadata generated.\n"
     ]
    },
    {
     "name": "stderr",
     "output_type": "stream",
     "text": []
    },
    {
     "name": "stdout",
     "output_type": "stream",
     "text": [
      "2023-06-23 17:27:42.261 [ INFO] Asynchronous mode set\n",
      "2023-06-23 17:27:42.261 [ INFO] Authenticating user otimmerman for service https://my.cmems-du.eu/motu-web/Motu\n",
      "2023-06-23 17:27:42.963 [ INFO] Requesting file to download (this can take a while)...\n",
      "2023-06-23 17:27:48.388 [ INFO] Authenticating user otimmerman for service https://my.cmems-du.eu/motu-web/Motu\n",
      "2023-06-23 17:27:54.516 [ INFO] The product is ready for download\n",
      "2023-06-23 17:27:54.516 [ INFO] Downloading file (this can take a while)...\n",
      "2023-06-23 17:27:54.676 [ INFO] File type: application/x-netcdf\n",
      "2023-06-23 17:27:54.676 [ INFO] File size: 127.7 kB (127736 B)\n",
      "2023-06-23 17:27:54.676 [ INFO] Downloading file /lustre_scratch/orlando-code/datasets/global_ocean_reanalysis/monthly_means/Great_Barrier_Reef_B/bottomT/VARS_bottomT_DATES_2015-12-31_2016-12-31_LONS_144_149_LATS_-16_-23_DEPTHS_0-3_1.nc\n",
      "2023-06-23 17:27:54.734 [ INFO] - 127.7 kB (51.3%)\n",
      "2023-06-23 17:27:54.764 [ INFO] - 127.7 kB (100.0%)\n",
      "2023-06-23 17:27:54.764 [ INFO] Processing  time : 0:00:12.415976\n",
      "2023-06-23 17:27:54.764 [ INFO] Downloading time : 0:00:00.087288\n",
      "2023-06-23 17:27:54.764 [ INFO] Total time       : 0:00:12.503264\n",
      "2023-06-23 17:27:54.764 [ INFO] Download rate    : 516.4 kB/s\n",
      "2023-06-23 17:27:54.766 [ INFO] Done\n",
      "\n",
      "Dictionary saved as json file at /lustre_scratch/orlando-code/datasets/global_ocean_reanalysis/monthly_means/Great_Barrier_Reef_B/bottomT/VARS_bottomT_DATES_2015-12-31_2016-12-31_LONS_144_149_LATS_-16_-23_DEPTHS_0-3_1.json\n",
      "VARS_bottomT_DATES_2015-12-31_2016-12-31_LONS_144_149_LATS_-16_-23_DEPTHS_0-3_1 written to /lustre_scratch/orlando-code/datasets/global_ocean_reanalysis/monthly_means/Great_Barrier_Reef_B/bottomT and metadata generated.\n"
     ]
    },
    {
     "name": "stderr",
     "output_type": "stream",
     "text": []
    },
    {
     "name": "stdout",
     "output_type": "stream",
     "text": [
      "2023-06-23 17:27:56.475 [ INFO] Asynchronous mode set\n",
      "2023-06-23 17:27:56.475 [ INFO] Authenticating user otimmerman for service https://my.cmems-du.eu/motu-web/Motu\n",
      "2023-06-23 17:27:58.686 [ INFO] Requesting file to download (this can take a while)...\n",
      "2023-06-23 17:28:04.121 [ INFO] Authenticating user otimmerman for service https://my.cmems-du.eu/motu-web/Motu\n",
      "2023-06-23 17:28:10.239 [ INFO] The product is ready for download\n",
      "2023-06-23 17:28:10.239 [ INFO] Downloading file (this can take a while)...\n",
      "2023-06-23 17:28:10.394 [ INFO] File type: application/x-netcdf\n",
      "2023-06-23 17:28:10.394 [ INFO] File size: 127.7 kB (127736 B)\n",
      "2023-06-23 17:28:10.394 [ INFO] Downloading file /lustre_scratch/orlando-code/datasets/global_ocean_reanalysis/monthly_means/Great_Barrier_Reef_B/bottomT/VARS_bottomT_DATES_2016-12-31_2017-12-31_LONS_144_149_LATS_-16_-23_DEPTHS_0-3_1.nc\n",
      "2023-06-23 17:28:10.453 [ INFO] - 127.7 kB (51.3%)\n",
      "2023-06-23 17:28:10.483 [ INFO] - 127.7 kB (100.0%)\n",
      "2023-06-23 17:28:10.483 [ INFO] Processing  time : 0:00:13.919768\n",
      "2023-06-23 17:28:10.483 [ INFO] Downloading time : 0:00:00.088777\n",
      "2023-06-23 17:28:10.483 [ INFO] Total time       : 0:00:14.008545\n",
      "2023-06-23 17:28:10.483 [ INFO] Download rate    : 524.3 kB/s\n",
      "2023-06-23 17:28:10.485 [ INFO] Done\n",
      "\n",
      "Dictionary saved as json file at /lustre_scratch/orlando-code/datasets/global_ocean_reanalysis/monthly_means/Great_Barrier_Reef_B/bottomT/VARS_bottomT_DATES_2016-12-31_2017-12-31_LONS_144_149_LATS_-16_-23_DEPTHS_0-3_1.json\n",
      "VARS_bottomT_DATES_2016-12-31_2017-12-31_LONS_144_149_LATS_-16_-23_DEPTHS_0-3_1 written to /lustre_scratch/orlando-code/datasets/global_ocean_reanalysis/monthly_means/Great_Barrier_Reef_B/bottomT and metadata generated.\n"
     ]
    },
    {
     "name": "stderr",
     "output_type": "stream",
     "text": []
    },
    {
     "name": "stdout",
     "output_type": "stream",
     "text": [
      "2023-06-23 17:28:12.130 [ INFO] Asynchronous mode set\n",
      "2023-06-23 17:28:12.130 [ INFO] Authenticating user otimmerman for service https://my.cmems-du.eu/motu-web/Motu\n",
      "2023-06-23 17:28:12.832 [ INFO] Requesting file to download (this can take a while)...\n",
      "2023-06-23 17:28:18.247 [ INFO] Authenticating user otimmerman for service https://my.cmems-du.eu/motu-web/Motu\n",
      "2023-06-23 17:28:25.517 [ INFO] The product is ready for download\n",
      "2023-06-23 17:28:25.517 [ INFO] Downloading file (this can take a while)...\n",
      "2023-06-23 17:28:25.674 [ INFO] File type: application/x-netcdf\n",
      "2023-06-23 17:28:25.674 [ INFO] File size: 127.7 kB (127736 B)\n",
      "2023-06-23 17:28:25.674 [ INFO] Downloading file /lustre_scratch/orlando-code/datasets/global_ocean_reanalysis/monthly_means/Great_Barrier_Reef_B/bottomT/VARS_bottomT_DATES_2017-12-31_2018-12-31_LONS_144_149_LATS_-16_-23_DEPTHS_0-3_1.nc\n",
      "2023-06-23 17:28:25.733 [ INFO] - 127.7 kB (51.3%)\n",
      "2023-06-23 17:28:25.764 [ INFO] - 127.7 kB (100.0%)\n",
      "2023-06-23 17:28:25.764 [ INFO] Processing  time : 0:00:13.544949\n",
      "2023-06-23 17:28:25.764 [ INFO] Downloading time : 0:00:00.089861\n",
      "2023-06-23 17:28:25.764 [ INFO] Total time       : 0:00:13.634810\n",
      "2023-06-23 17:28:25.764 [ INFO] Download rate    : 516.5 kB/s\n",
      "2023-06-23 17:28:25.767 [ INFO] Done\n",
      "\n",
      "Dictionary saved as json file at /lustre_scratch/orlando-code/datasets/global_ocean_reanalysis/monthly_means/Great_Barrier_Reef_B/bottomT/VARS_bottomT_DATES_2017-12-31_2018-12-31_LONS_144_149_LATS_-16_-23_DEPTHS_0-3_1.json\n",
      "VARS_bottomT_DATES_2017-12-31_2018-12-31_LONS_144_149_LATS_-16_-23_DEPTHS_0-3_1 written to /lustre_scratch/orlando-code/datasets/global_ocean_reanalysis/monthly_means/Great_Barrier_Reef_B/bottomT and metadata generated.\n"
     ]
    },
    {
     "name": "stderr",
     "output_type": "stream",
     "text": []
    },
    {
     "name": "stdout",
     "output_type": "stream",
     "text": [
      "2023-06-23 17:28:27.404 [ INFO] Asynchronous mode set\n",
      "2023-06-23 17:28:27.404 [ INFO] Authenticating user otimmerman for service https://my.cmems-du.eu/motu-web/Motu\n",
      "2023-06-23 17:28:28.098 [ INFO] Requesting file to download (this can take a while)...\n",
      "2023-06-23 17:28:33.525 [ INFO] Authenticating user otimmerman for service https://my.cmems-du.eu/motu-web/Motu\n",
      "2023-06-23 17:28:39.758 [ INFO] The product is ready for download\n",
      "2023-06-23 17:28:39.758 [ INFO] Downloading file (this can take a while)...\n",
      "2023-06-23 17:28:39.914 [ INFO] File type: application/x-netcdf\n",
      "2023-06-23 17:28:39.914 [ INFO] File size: 127.7 kB (127736 B)\n",
      "2023-06-23 17:28:39.914 [ INFO] Downloading file /lustre_scratch/orlando-code/datasets/global_ocean_reanalysis/monthly_means/Great_Barrier_Reef_B/bottomT/VARS_bottomT_DATES_2018-12-31_2019-12-31_LONS_144_149_LATS_-16_-23_DEPTHS_0-3_1.nc\n",
      "2023-06-23 17:28:39.976 [ INFO] - 127.7 kB (51.3%)\n",
      "2023-06-23 17:28:40.005 [ INFO] - 127.7 kB (100.0%)\n",
      "2023-06-23 17:28:40.005 [ INFO] Processing  time : 0:00:12.510888\n",
      "2023-06-23 17:28:40.005 [ INFO] Downloading time : 0:00:00.091076\n",
      "2023-06-23 17:28:40.005 [ INFO] Total time       : 0:00:12.601964\n",
      "2023-06-23 17:28:40.005 [ INFO] Download rate    : 517.1 kB/s\n",
      "2023-06-23 17:28:40.008 [ INFO] Done\n",
      "\n",
      "Dictionary saved as json file at /lustre_scratch/orlando-code/datasets/global_ocean_reanalysis/monthly_means/Great_Barrier_Reef_B/bottomT/VARS_bottomT_DATES_2018-12-31_2019-12-31_LONS_144_149_LATS_-16_-23_DEPTHS_0-3_1.json\n",
      "VARS_bottomT_DATES_2018-12-31_2019-12-31_LONS_144_149_LATS_-16_-23_DEPTHS_0-3_1 written to /lustre_scratch/orlando-code/datasets/global_ocean_reanalysis/monthly_means/Great_Barrier_Reef_B/bottomT and metadata generated.\n",
      "Merging .nc files into /lustre_scratch/orlando-code/datasets/global_ocean_reanalysis/monthly_means/Great_Barrier_Reef_B/merged_vars/VARS_bottomT_DATES_1992-12-31_2020-12-16_LONS_144_149_LATS_-16_-23_DEPTHS_0-3_1.nc\n"
     ]
    },
    {
     "name": "stderr",
     "output_type": "stream",
     "text": [
      " variable loop:  29%|██▊       | 2/7 [14:18<36:09, 433.93s/it]"
     ]
    },
    {
     "name": "stdout",
     "output_type": "stream",
     "text": [
      "Dictionary saved as json file at /lustre_scratch/orlando-code/datasets/global_ocean_reanalysis/monthly_means/Great_Barrier_Reef_B/merged_vars/VARS_bottomT_DATES_1992-12-31_2020-12-16_LONS_144_149_LATS_-16_-23_DEPTHS_0-3_1.json\n",
      "Downloading uo data...\n"
     ]
    },
    {
     "name": "stderr",
     "output_type": "stream",
     "text": []
    },
    {
     "name": "stdout",
     "output_type": "stream",
     "text": [
      "2023-06-23 17:28:42.072 [ INFO] Asynchronous mode set\n",
      "2023-06-23 17:28:42.073 [ INFO] Authenticating user otimmerman for service https://my.cmems-du.eu/motu-web/Motu\n",
      "2023-06-23 17:28:43.436 [ INFO] Requesting file to download (this can take a while)...\n",
      "2023-06-23 17:28:48.856 [ INFO] Authenticating user otimmerman for service https://my.cmems-du.eu/motu-web/Motu\n",
      "2023-06-23 17:28:55.135 [ INFO] The product is ready for download\n",
      "2023-06-23 17:28:55.135 [ INFO] Downloading file (this can take a while)...\n",
      "2023-06-23 17:28:55.288 [ INFO] File type: application/x-netcdf\n",
      "2023-06-23 17:28:55.288 [ INFO] File size: 128.1 kB (128104 B)\n",
      "2023-06-23 17:28:55.288 [ INFO] Downloading file /lustre_scratch/orlando-code/datasets/global_ocean_reanalysis/monthly_means/Great_Barrier_Reef_B/uo/VARS_uo_DATES_1992-12-31_1993-12-31_LONS_144_149_LATS_-16_-23_DEPTHS_0-3_1.nc\n",
      "2023-06-23 17:28:55.347 [ INFO] - 128.1 kB (51.2%)\n",
      "2023-06-23 17:28:55.376 [ INFO] - 128.1 kB (100.0%)\n",
      "2023-06-23 17:28:55.376 [ INFO] Processing  time : 0:00:13.215916\n",
      "2023-06-23 17:28:55.376 [ INFO] Downloading time : 0:00:00.087329\n",
      "2023-06-23 17:28:55.376 [ INFO] Total time       : 0:00:13.303245\n",
      "2023-06-23 17:28:55.376 [ INFO] Download rate    : 533.0 kB/s\n",
      "2023-06-23 17:28:55.378 [ INFO] Done\n",
      "\n",
      "Dictionary saved as json file at /lustre_scratch/orlando-code/datasets/global_ocean_reanalysis/monthly_means/Great_Barrier_Reef_B/uo/VARS_uo_DATES_1992-12-31_1993-12-31_LONS_144_149_LATS_-16_-23_DEPTHS_0-3_1.json\n",
      "VARS_uo_DATES_1992-12-31_1993-12-31_LONS_144_149_LATS_-16_-23_DEPTHS_0-3_1 written to /lustre_scratch/orlando-code/datasets/global_ocean_reanalysis/monthly_means/Great_Barrier_Reef_B/uo and metadata generated.\n"
     ]
    },
    {
     "name": "stderr",
     "output_type": "stream",
     "text": []
    },
    {
     "name": "stdout",
     "output_type": "stream",
     "text": [
      "2023-06-23 17:28:57.008 [ INFO] Asynchronous mode set\n",
      "2023-06-23 17:28:57.009 [ INFO] Authenticating user otimmerman for service https://my.cmems-du.eu/motu-web/Motu\n",
      "2023-06-23 17:28:57.753 [ INFO] Requesting file to download (this can take a while)...\n",
      "2023-06-23 17:29:03.169 [ INFO] Authenticating user otimmerman for service https://my.cmems-du.eu/motu-web/Motu\n",
      "2023-06-23 17:29:09.874 [ INFO] The product is ready for download\n",
      "2023-06-23 17:29:09.874 [ INFO] Downloading file (this can take a while)...\n",
      "2023-06-23 17:29:10.028 [ INFO] File type: application/x-netcdf\n",
      "2023-06-23 17:29:10.028 [ INFO] File size: 128.1 kB (128104 B)\n",
      "2023-06-23 17:29:10.029 [ INFO] Downloading file /lustre_scratch/orlando-code/datasets/global_ocean_reanalysis/monthly_means/Great_Barrier_Reef_B/uo/VARS_uo_DATES_1993-12-31_1994-12-31_LONS_144_149_LATS_-16_-23_DEPTHS_0-3_1.nc\n",
      "2023-06-23 17:29:10.089 [ INFO] - 128.1 kB (51.2%)\n",
      "2023-06-23 17:29:10.120 [ INFO] - 128.1 kB (100.0%)\n",
      "2023-06-23 17:29:10.121 [ INFO] Processing  time : 0:00:13.020561\n",
      "2023-06-23 17:29:10.121 [ INFO] Downloading time : 0:00:00.092009\n",
      "2023-06-23 17:29:10.121 [ INFO] Total time       : 0:00:13.112570\n",
      "2023-06-23 17:29:10.121 [ INFO] Download rate    : 520.6 kB/s\n",
      "2023-06-23 17:29:10.123 [ INFO] Done\n",
      "\n",
      "Dictionary saved as json file at /lustre_scratch/orlando-code/datasets/global_ocean_reanalysis/monthly_means/Great_Barrier_Reef_B/uo/VARS_uo_DATES_1993-12-31_1994-12-31_LONS_144_149_LATS_-16_-23_DEPTHS_0-3_1.json\n",
      "VARS_uo_DATES_1993-12-31_1994-12-31_LONS_144_149_LATS_-16_-23_DEPTHS_0-3_1 written to /lustre_scratch/orlando-code/datasets/global_ocean_reanalysis/monthly_means/Great_Barrier_Reef_B/uo and metadata generated.\n"
     ]
    },
    {
     "name": "stderr",
     "output_type": "stream",
     "text": []
    },
    {
     "name": "stdout",
     "output_type": "stream",
     "text": [
      "2023-06-23 17:29:11.768 [ INFO] Asynchronous mode set\n",
      "2023-06-23 17:29:11.769 [ INFO] Authenticating user otimmerman for service https://my.cmems-du.eu/motu-web/Motu\n",
      "2023-06-23 17:29:14.803 [ INFO] Requesting file to download (this can take a while)...\n",
      "2023-06-23 17:29:20.237 [ INFO] Authenticating user otimmerman for service https://my.cmems-du.eu/motu-web/Motu\n",
      "2023-06-23 17:29:27.077 [ INFO] The product is ready for download\n",
      "2023-06-23 17:29:27.077 [ INFO] Downloading file (this can take a while)...\n",
      "2023-06-23 17:29:27.233 [ INFO] File type: application/x-netcdf\n",
      "2023-06-23 17:29:27.234 [ INFO] File size: 128.1 kB (128104 B)\n",
      "2023-06-23 17:29:27.234 [ INFO] Downloading file /lustre_scratch/orlando-code/datasets/global_ocean_reanalysis/monthly_means/Great_Barrier_Reef_B/uo/VARS_uo_DATES_1994-12-31_1995-12-31_LONS_144_149_LATS_-16_-23_DEPTHS_0-3_1.nc\n",
      "2023-06-23 17:29:27.292 [ INFO] - 128.1 kB (51.2%)\n",
      "2023-06-23 17:29:27.322 [ INFO] - 128.1 kB (100.0%)\n",
      "2023-06-23 17:29:27.322 [ INFO] Processing  time : 0:00:15.465581\n",
      "2023-06-23 17:29:27.322 [ INFO] Downloading time : 0:00:00.088616\n",
      "2023-06-23 17:29:27.322 [ INFO] Total time       : 0:00:15.554197\n",
      "2023-06-23 17:29:27.322 [ INFO] Download rate    : 522.2 kB/s\n",
      "2023-06-23 17:29:27.325 [ INFO] Done\n",
      "\n",
      "Dictionary saved as json file at /lustre_scratch/orlando-code/datasets/global_ocean_reanalysis/monthly_means/Great_Barrier_Reef_B/uo/VARS_uo_DATES_1994-12-31_1995-12-31_LONS_144_149_LATS_-16_-23_DEPTHS_0-3_1.json\n",
      "VARS_uo_DATES_1994-12-31_1995-12-31_LONS_144_149_LATS_-16_-23_DEPTHS_0-3_1 written to /lustre_scratch/orlando-code/datasets/global_ocean_reanalysis/monthly_means/Great_Barrier_Reef_B/uo and metadata generated.\n"
     ]
    },
    {
     "name": "stderr",
     "output_type": "stream",
     "text": []
    },
    {
     "name": "stdout",
     "output_type": "stream",
     "text": [
      "2023-06-23 17:29:28.961 [ INFO] Asynchronous mode set\n",
      "2023-06-23 17:29:28.962 [ INFO] Authenticating user otimmerman for service https://my.cmems-du.eu/motu-web/Motu\n",
      "2023-06-23 17:29:31.448 [ INFO] Requesting file to download (this can take a while)...\n",
      "2023-06-23 17:29:37.735 [ INFO] Authenticating user otimmerman for service https://my.cmems-du.eu/motu-web/Motu\n",
      "2023-06-23 17:29:44.631 [ INFO] The product is ready for download\n",
      "2023-06-23 17:29:44.631 [ INFO] Downloading file (this can take a while)...\n",
      "2023-06-23 17:29:44.784 [ INFO] File type: application/x-netcdf\n",
      "2023-06-23 17:29:44.784 [ INFO] File size: 128.1 kB (128104 B)\n",
      "2023-06-23 17:29:44.784 [ INFO] Downloading file /lustre_scratch/orlando-code/datasets/global_ocean_reanalysis/monthly_means/Great_Barrier_Reef_B/uo/VARS_uo_DATES_1995-12-31_1996-12-31_LONS_144_149_LATS_-16_-23_DEPTHS_0-3_1.nc\n",
      "2023-06-23 17:29:44.845 [ INFO] - 128.1 kB (51.2%)\n",
      "2023-06-23 17:29:44.876 [ INFO] - 128.1 kB (100.0%)\n",
      "2023-06-23 17:29:44.876 [ INFO] Processing  time : 0:00:15.823114\n",
      "2023-06-23 17:29:44.876 [ INFO] Downloading time : 0:00:00.091391\n",
      "2023-06-23 17:29:44.876 [ INFO] Total time       : 0:00:15.914505\n",
      "2023-06-23 17:29:44.876 [ INFO] Download rate    : 523.3 kB/s\n",
      "2023-06-23 17:29:44.878 [ INFO] Done\n",
      "\n",
      "Dictionary saved as json file at /lustre_scratch/orlando-code/datasets/global_ocean_reanalysis/monthly_means/Great_Barrier_Reef_B/uo/VARS_uo_DATES_1995-12-31_1996-12-31_LONS_144_149_LATS_-16_-23_DEPTHS_0-3_1.json\n",
      "VARS_uo_DATES_1995-12-31_1996-12-31_LONS_144_149_LATS_-16_-23_DEPTHS_0-3_1 written to /lustre_scratch/orlando-code/datasets/global_ocean_reanalysis/monthly_means/Great_Barrier_Reef_B/uo and metadata generated.\n"
     ]
    },
    {
     "name": "stderr",
     "output_type": "stream",
     "text": []
    },
    {
     "name": "stdout",
     "output_type": "stream",
     "text": [
      "2023-06-23 17:29:46.466 [ INFO] Asynchronous mode set\n",
      "2023-06-23 17:29:46.466 [ INFO] Authenticating user otimmerman for service https://my.cmems-du.eu/motu-web/Motu\n",
      "2023-06-23 17:29:48.146 [ INFO] Requesting file to download (this can take a while)...\n",
      "2023-06-23 17:29:53.599 [ INFO] Authenticating user otimmerman for service https://my.cmems-du.eu/motu-web/Motu\n",
      "2023-06-23 17:30:00.546 [ INFO] The product is ready for download\n",
      "2023-06-23 17:30:00.546 [ INFO] Downloading file (this can take a while)...\n",
      "2023-06-23 17:30:00.735 [ INFO] File type: application/x-netcdf\n",
      "2023-06-23 17:30:00.735 [ INFO] File size: 128.1 kB (128104 B)\n",
      "2023-06-23 17:30:00.735 [ INFO] Downloading file /lustre_scratch/orlando-code/datasets/global_ocean_reanalysis/monthly_means/Great_Barrier_Reef_B/uo/VARS_uo_DATES_1996-12-31_1997-12-31_LONS_144_149_LATS_-16_-23_DEPTHS_0-3_1.nc\n",
      "2023-06-23 17:30:00.765 [ INFO] - 128.1 kB (51.2%)\n",
      "2023-06-23 17:30:00.795 [ INFO] - 128.1 kB (100.0%)\n",
      "2023-06-23 17:30:00.795 [ INFO] Processing  time : 0:00:14.270087\n",
      "2023-06-23 17:30:00.795 [ INFO] Downloading time : 0:00:00.059785\n",
      "2023-06-23 17:30:00.795 [ INFO] Total time       : 0:00:14.329872\n",
      "2023-06-23 17:30:00.795 [ INFO] Download rate    : 514.3 kB/s\n",
      "2023-06-23 17:30:00.797 [ INFO] Done\n",
      "\n",
      "Dictionary saved as json file at /lustre_scratch/orlando-code/datasets/global_ocean_reanalysis/monthly_means/Great_Barrier_Reef_B/uo/VARS_uo_DATES_1996-12-31_1997-12-31_LONS_144_149_LATS_-16_-23_DEPTHS_0-3_1.json\n",
      "VARS_uo_DATES_1996-12-31_1997-12-31_LONS_144_149_LATS_-16_-23_DEPTHS_0-3_1 written to /lustre_scratch/orlando-code/datasets/global_ocean_reanalysis/monthly_means/Great_Barrier_Reef_B/uo and metadata generated.\n"
     ]
    },
    {
     "name": "stderr",
     "output_type": "stream",
     "text": []
    },
    {
     "name": "stdout",
     "output_type": "stream",
     "text": [
      "2023-06-23 17:30:02.422 [ INFO] Asynchronous mode set\n",
      "2023-06-23 17:30:02.422 [ INFO] Authenticating user otimmerman for service https://my.cmems-du.eu/motu-web/Motu\n",
      "2023-06-23 17:30:03.350 [ INFO] Requesting file to download (this can take a while)...\n",
      "2023-06-23 17:30:08.773 [ INFO] Authenticating user otimmerman for service https://my.cmems-du.eu/motu-web/Motu\n",
      "2023-06-23 17:30:15.344 [ INFO] The product is ready for download\n",
      "2023-06-23 17:30:15.344 [ INFO] Downloading file (this can take a while)...\n",
      "2023-06-23 17:30:15.525 [ INFO] File type: application/x-netcdf\n",
      "2023-06-23 17:30:15.525 [ INFO] File size: 128.1 kB (128104 B)\n",
      "2023-06-23 17:30:15.525 [ INFO] Downloading file /lustre_scratch/orlando-code/datasets/global_ocean_reanalysis/monthly_means/Great_Barrier_Reef_B/uo/VARS_uo_DATES_1997-12-31_1998-12-31_LONS_144_149_LATS_-16_-23_DEPTHS_0-3_1.nc\n",
      "2023-06-23 17:30:15.556 [ INFO] - 128.1 kB (51.2%)\n",
      "2023-06-23 17:30:15.585 [ INFO] - 128.1 kB (100.0%)\n",
      "2023-06-23 17:30:15.585 [ INFO] Processing  time : 0:00:13.103450\n",
      "2023-06-23 17:30:15.585 [ INFO] Downloading time : 0:00:00.060100\n",
      "2023-06-23 17:30:15.585 [ INFO] Total time       : 0:00:13.163550\n",
      "2023-06-23 17:30:15.586 [ INFO] Download rate    : 531.3 kB/s\n",
      "2023-06-23 17:30:15.588 [ INFO] Done\n",
      "\n",
      "Dictionary saved as json file at /lustre_scratch/orlando-code/datasets/global_ocean_reanalysis/monthly_means/Great_Barrier_Reef_B/uo/VARS_uo_DATES_1997-12-31_1998-12-31_LONS_144_149_LATS_-16_-23_DEPTHS_0-3_1.json\n",
      "VARS_uo_DATES_1997-12-31_1998-12-31_LONS_144_149_LATS_-16_-23_DEPTHS_0-3_1 written to /lustre_scratch/orlando-code/datasets/global_ocean_reanalysis/monthly_means/Great_Barrier_Reef_B/uo and metadata generated.\n"
     ]
    },
    {
     "name": "stderr",
     "output_type": "stream",
     "text": []
    },
    {
     "name": "stdout",
     "output_type": "stream",
     "text": [
      "2023-06-23 17:30:17.238 [ INFO] Asynchronous mode set\n",
      "2023-06-23 17:30:17.238 [ INFO] Authenticating user otimmerman for service https://my.cmems-du.eu/motu-web/Motu\n",
      "2023-06-23 17:30:19.684 [ INFO] Requesting file to download (this can take a while)...\n",
      "2023-06-23 17:30:25.260 [ INFO] Authenticating user otimmerman for service https://my.cmems-du.eu/motu-web/Motu\n",
      "2023-06-23 17:30:32.930 [ INFO] The product is ready for download\n",
      "2023-06-23 17:30:32.930 [ INFO] Downloading file (this can take a while)...\n",
      "2023-06-23 17:30:33.113 [ INFO] File type: application/x-netcdf\n",
      "2023-06-23 17:30:33.114 [ INFO] File size: 128.1 kB (128104 B)\n",
      "2023-06-23 17:30:33.114 [ INFO] Downloading file /lustre_scratch/orlando-code/datasets/global_ocean_reanalysis/monthly_means/Great_Barrier_Reef_B/uo/VARS_uo_DATES_1998-12-31_1999-12-31_LONS_144_149_LATS_-16_-23_DEPTHS_0-3_1.nc\n",
      "2023-06-23 17:30:33.142 [ INFO] - 128.1 kB (51.2%)\n",
      "2023-06-23 17:30:33.171 [ INFO] - 128.1 kB (100.0%)\n",
      "2023-06-23 17:30:33.171 [ INFO] Processing  time : 0:00:15.876022\n",
      "2023-06-23 17:30:33.171 [ INFO] Downloading time : 0:00:00.057630\n",
      "2023-06-23 17:30:33.171 [ INFO] Total time       : 0:00:15.933652\n",
      "2023-06-23 17:30:33.172 [ INFO] Download rate    : 531.3 kB/s\n",
      "2023-06-23 17:30:33.174 [ INFO] Done\n",
      "\n",
      "Dictionary saved as json file at /lustre_scratch/orlando-code/datasets/global_ocean_reanalysis/monthly_means/Great_Barrier_Reef_B/uo/VARS_uo_DATES_1998-12-31_1999-12-31_LONS_144_149_LATS_-16_-23_DEPTHS_0-3_1.json\n",
      "VARS_uo_DATES_1998-12-31_1999-12-31_LONS_144_149_LATS_-16_-23_DEPTHS_0-3_1 written to /lustre_scratch/orlando-code/datasets/global_ocean_reanalysis/monthly_means/Great_Barrier_Reef_B/uo and metadata generated.\n"
     ]
    },
    {
     "name": "stderr",
     "output_type": "stream",
     "text": []
    },
    {
     "name": "stdout",
     "output_type": "stream",
     "text": [
      "2023-06-23 17:30:34.797 [ INFO] Asynchronous mode set\n",
      "2023-06-23 17:30:34.797 [ INFO] Authenticating user otimmerman for service https://my.cmems-du.eu/motu-web/Motu\n",
      "2023-06-23 17:30:35.508 [ INFO] Requesting file to download (this can take a while)...\n",
      "2023-06-23 17:30:40.920 [ INFO] Authenticating user otimmerman for service https://my.cmems-du.eu/motu-web/Motu\n",
      "2023-06-23 17:30:49.913 [ INFO] The product is ready for download\n",
      "2023-06-23 17:30:49.913 [ INFO] Downloading file (this can take a while)...\n",
      "2023-06-23 17:30:50.187 [ INFO] File type: application/x-netcdf\n",
      "2023-06-23 17:30:50.187 [ INFO] File size: 128.1 kB (128104 B)\n",
      "2023-06-23 17:30:50.187 [ INFO] Downloading file /lustre_scratch/orlando-code/datasets/global_ocean_reanalysis/monthly_means/Great_Barrier_Reef_B/uo/VARS_uo_DATES_1999-12-31_2000-12-31_LONS_144_149_LATS_-16_-23_DEPTHS_0-3_1.nc\n",
      "2023-06-23 17:30:50.247 [ INFO] - 128.1 kB (51.2%)\n",
      "2023-06-23 17:30:50.278 [ INFO] - 128.1 kB (100.0%)\n",
      "2023-06-23 17:30:50.279 [ INFO] Processing  time : 0:00:15.390790\n",
      "2023-06-23 17:30:50.279 [ INFO] Downloading time : 0:00:00.091412\n",
      "2023-06-23 17:30:50.279 [ INFO] Total time       : 0:00:15.482202\n",
      "2023-06-23 17:30:50.279 [ INFO] Download rate    : 350.8 kB/s\n",
      "2023-06-23 17:30:50.282 [ INFO] Done\n",
      "\n",
      "Dictionary saved as json file at /lustre_scratch/orlando-code/datasets/global_ocean_reanalysis/monthly_means/Great_Barrier_Reef_B/uo/VARS_uo_DATES_1999-12-31_2000-12-31_LONS_144_149_LATS_-16_-23_DEPTHS_0-3_1.json\n",
      "VARS_uo_DATES_1999-12-31_2000-12-31_LONS_144_149_LATS_-16_-23_DEPTHS_0-3_1 written to /lustre_scratch/orlando-code/datasets/global_ocean_reanalysis/monthly_means/Great_Barrier_Reef_B/uo and metadata generated.\n"
     ]
    },
    {
     "name": "stderr",
     "output_type": "stream",
     "text": []
    },
    {
     "name": "stdout",
     "output_type": "stream",
     "text": [
      "2023-06-23 17:30:51.888 [ INFO] Asynchronous mode set\n",
      "2023-06-23 17:30:51.889 [ INFO] Authenticating user otimmerman for service https://my.cmems-du.eu/motu-web/Motu\n",
      "2023-06-23 17:30:55.076 [ INFO] Requesting file to download (this can take a while)...\n",
      "2023-06-23 17:31:01.569 [ INFO] Authenticating user otimmerman for service https://my.cmems-du.eu/motu-web/Motu\n",
      "2023-06-23 17:31:10.631 [ INFO] The product is ready for download\n",
      "2023-06-23 17:31:10.632 [ INFO] Downloading file (this can take a while)...\n",
      "2023-06-23 17:31:10.782 [ INFO] File type: application/x-netcdf\n",
      "2023-06-23 17:31:10.782 [ INFO] File size: 128.1 kB (128104 B)\n",
      "2023-06-23 17:31:10.782 [ INFO] Downloading file /lustre_scratch/orlando-code/datasets/global_ocean_reanalysis/monthly_means/Great_Barrier_Reef_B/uo/VARS_uo_DATES_2000-12-31_2001-12-31_LONS_144_149_LATS_-16_-23_DEPTHS_0-3_1.nc\n",
      "2023-06-23 17:31:10.840 [ INFO] - 128.1 kB (51.2%)\n",
      "2023-06-23 17:31:10.870 [ INFO] - 128.1 kB (100.0%)\n",
      "2023-06-23 17:31:10.870 [ INFO] Processing  time : 0:00:18.893896\n",
      "2023-06-23 17:31:10.870 [ INFO] Downloading time : 0:00:00.087850\n",
      "2023-06-23 17:31:10.870 [ INFO] Total time       : 0:00:18.981746\n",
      "2023-06-23 17:31:10.870 [ INFO] Download rate    : 538.1 kB/s\n",
      "2023-06-23 17:31:10.872 [ INFO] Done\n",
      "\n",
      "Dictionary saved as json file at /lustre_scratch/orlando-code/datasets/global_ocean_reanalysis/monthly_means/Great_Barrier_Reef_B/uo/VARS_uo_DATES_2000-12-31_2001-12-31_LONS_144_149_LATS_-16_-23_DEPTHS_0-3_1.json\n",
      "VARS_uo_DATES_2000-12-31_2001-12-31_LONS_144_149_LATS_-16_-23_DEPTHS_0-3_1 written to /lustre_scratch/orlando-code/datasets/global_ocean_reanalysis/monthly_means/Great_Barrier_Reef_B/uo and metadata generated.\n"
     ]
    },
    {
     "name": "stderr",
     "output_type": "stream",
     "text": []
    },
    {
     "name": "stdout",
     "output_type": "stream",
     "text": [
      "2023-06-23 17:31:12.519 [ INFO] Asynchronous mode set\n",
      "2023-06-23 17:31:12.519 [ INFO] Authenticating user otimmerman for service https://my.cmems-du.eu/motu-web/Motu\n",
      "2023-06-23 17:31:13.219 [ INFO] Requesting file to download (this can take a while)...\n",
      "2023-06-23 17:31:18.985 [ INFO] Authenticating user otimmerman for service https://my.cmems-du.eu/motu-web/Motu\n",
      "2023-06-23 17:31:25.139 [ INFO] The product is ready for download\n",
      "2023-06-23 17:31:25.139 [ INFO] Downloading file (this can take a while)...\n",
      "2023-06-23 17:31:25.292 [ INFO] File type: application/x-netcdf\n",
      "2023-06-23 17:31:25.292 [ INFO] File size: 128.1 kB (128104 B)\n",
      "2023-06-23 17:31:25.292 [ INFO] Downloading file /lustre_scratch/orlando-code/datasets/global_ocean_reanalysis/monthly_means/Great_Barrier_Reef_B/uo/VARS_uo_DATES_2001-12-31_2002-12-31_LONS_144_149_LATS_-16_-23_DEPTHS_0-3_1.nc\n",
      "2023-06-23 17:31:25.351 [ INFO] - 128.1 kB (51.2%)\n",
      "2023-06-23 17:31:25.382 [ INFO] - 128.1 kB (100.0%)\n",
      "2023-06-23 17:31:25.382 [ INFO] Processing  time : 0:00:12.772851\n",
      "2023-06-23 17:31:25.383 [ INFO] Downloading time : 0:00:00.090733\n",
      "2023-06-23 17:31:25.383 [ INFO] Total time       : 0:00:12.863584\n",
      "2023-06-23 17:31:25.383 [ INFO] Download rate    : 527.3 kB/s\n",
      "2023-06-23 17:31:25.385 [ INFO] Done\n",
      "\n",
      "Dictionary saved as json file at /lustre_scratch/orlando-code/datasets/global_ocean_reanalysis/monthly_means/Great_Barrier_Reef_B/uo/VARS_uo_DATES_2001-12-31_2002-12-31_LONS_144_149_LATS_-16_-23_DEPTHS_0-3_1.json\n",
      "VARS_uo_DATES_2001-12-31_2002-12-31_LONS_144_149_LATS_-16_-23_DEPTHS_0-3_1 written to /lustre_scratch/orlando-code/datasets/global_ocean_reanalysis/monthly_means/Great_Barrier_Reef_B/uo and metadata generated.\n"
     ]
    },
    {
     "name": "stderr",
     "output_type": "stream",
     "text": []
    },
    {
     "name": "stdout",
     "output_type": "stream",
     "text": [
      "2023-06-23 17:31:27.011 [ INFO] Asynchronous mode set\n",
      "2023-06-23 17:31:27.011 [ INFO] Authenticating user otimmerman for service https://my.cmems-du.eu/motu-web/Motu\n",
      "2023-06-23 17:31:30.542 [ INFO] Requesting file to download (this can take a while)...\n",
      "2023-06-23 17:31:35.975 [ INFO] Authenticating user otimmerman for service https://my.cmems-du.eu/motu-web/Motu\n",
      "2023-06-23 17:31:43.757 [ INFO] The product is ready for download\n",
      "2023-06-23 17:31:43.757 [ INFO] Downloading file (this can take a while)...\n",
      "2023-06-23 17:31:43.913 [ INFO] File type: application/x-netcdf\n",
      "2023-06-23 17:31:43.914 [ INFO] File size: 128.1 kB (128104 B)\n",
      "2023-06-23 17:31:43.914 [ INFO] Downloading file /lustre_scratch/orlando-code/datasets/global_ocean_reanalysis/monthly_means/Great_Barrier_Reef_B/uo/VARS_uo_DATES_2002-12-31_2003-12-31_LONS_144_149_LATS_-16_-23_DEPTHS_0-3_1.nc\n",
      "2023-06-23 17:31:43.975 [ INFO] - 128.1 kB (51.2%)\n",
      "2023-06-23 17:31:44.006 [ INFO] - 128.1 kB (100.0%)\n",
      "2023-06-23 17:31:44.006 [ INFO] Processing  time : 0:00:16.903091\n",
      "2023-06-23 17:31:44.006 [ INFO] Downloading time : 0:00:00.092496\n",
      "2023-06-23 17:31:44.006 [ INFO] Total time       : 0:00:16.995587\n",
      "2023-06-23 17:31:44.006 [ INFO] Download rate    : 513.5 kB/s\n",
      "2023-06-23 17:31:44.009 [ INFO] Done\n",
      "\n",
      "Dictionary saved as json file at /lustre_scratch/orlando-code/datasets/global_ocean_reanalysis/monthly_means/Great_Barrier_Reef_B/uo/VARS_uo_DATES_2002-12-31_2003-12-31_LONS_144_149_LATS_-16_-23_DEPTHS_0-3_1.json\n",
      "VARS_uo_DATES_2002-12-31_2003-12-31_LONS_144_149_LATS_-16_-23_DEPTHS_0-3_1 written to /lustre_scratch/orlando-code/datasets/global_ocean_reanalysis/monthly_means/Great_Barrier_Reef_B/uo and metadata generated.\n"
     ]
    },
    {
     "name": "stderr",
     "output_type": "stream",
     "text": []
    },
    {
     "name": "stdout",
     "output_type": "stream",
     "text": [
      "2023-06-23 17:31:45.628 [ INFO] Asynchronous mode set\n",
      "2023-06-23 17:31:45.628 [ INFO] Authenticating user otimmerman for service https://my.cmems-du.eu/motu-web/Motu\n",
      "2023-06-23 17:31:47.463 [ INFO] Requesting file to download (this can take a while)...\n",
      "2023-06-23 17:31:53.618 [ INFO] Authenticating user otimmerman for service https://my.cmems-du.eu/motu-web/Motu\n",
      "2023-06-23 17:32:00.430 [ INFO] The product is ready for download\n",
      "2023-06-23 17:32:00.430 [ INFO] Downloading file (this can take a while)...\n",
      "2023-06-23 17:32:00.583 [ INFO] File type: application/x-netcdf\n",
      "2023-06-23 17:32:00.583 [ INFO] File size: 128.1 kB (128104 B)\n",
      "2023-06-23 17:32:00.583 [ INFO] Downloading file /lustre_scratch/orlando-code/datasets/global_ocean_reanalysis/monthly_means/Great_Barrier_Reef_B/uo/VARS_uo_DATES_2003-12-31_2004-12-31_LONS_144_149_LATS_-16_-23_DEPTHS_0-3_1.nc\n",
      "2023-06-23 17:32:00.642 [ INFO] - 128.1 kB (51.2%)\n",
      "2023-06-23 17:32:00.671 [ INFO] - 128.1 kB (100.0%)\n",
      "2023-06-23 17:32:00.671 [ INFO] Processing  time : 0:00:14.955930\n",
      "2023-06-23 17:32:00.672 [ INFO] Downloading time : 0:00:00.088332\n",
      "2023-06-23 17:32:00.672 [ INFO] Total time       : 0:00:15.044262\n",
      "2023-06-23 17:32:00.672 [ INFO] Download rate    : 531.3 kB/s\n",
      "2023-06-23 17:32:00.674 [ INFO] Done\n",
      "\n",
      "Dictionary saved as json file at /lustre_scratch/orlando-code/datasets/global_ocean_reanalysis/monthly_means/Great_Barrier_Reef_B/uo/VARS_uo_DATES_2003-12-31_2004-12-31_LONS_144_149_LATS_-16_-23_DEPTHS_0-3_1.json\n",
      "VARS_uo_DATES_2003-12-31_2004-12-31_LONS_144_149_LATS_-16_-23_DEPTHS_0-3_1 written to /lustre_scratch/orlando-code/datasets/global_ocean_reanalysis/monthly_means/Great_Barrier_Reef_B/uo and metadata generated.\n"
     ]
    },
    {
     "name": "stderr",
     "output_type": "stream",
     "text": []
    },
    {
     "name": "stdout",
     "output_type": "stream",
     "text": [
      "2023-06-23 17:32:02.296 [ INFO] Asynchronous mode set\n",
      "2023-06-23 17:32:02.296 [ INFO] Authenticating user otimmerman for service https://my.cmems-du.eu/motu-web/Motu\n",
      "2023-06-23 17:32:03.322 [ INFO] Requesting file to download (this can take a while)...\n",
      "2023-06-23 17:32:08.743 [ INFO] Authenticating user otimmerman for service https://my.cmems-du.eu/motu-web/Motu\n",
      "2023-06-23 17:32:17.634 [ INFO] The product is ready for download\n",
      "2023-06-23 17:32:17.635 [ INFO] Downloading file (this can take a while)...\n",
      "2023-06-23 17:32:17.789 [ INFO] File type: application/x-netcdf\n",
      "2023-06-23 17:32:17.789 [ INFO] File size: 128.1 kB (128104 B)\n",
      "2023-06-23 17:32:17.789 [ INFO] Downloading file /lustre_scratch/orlando-code/datasets/global_ocean_reanalysis/monthly_means/Great_Barrier_Reef_B/uo/VARS_uo_DATES_2004-12-31_2005-12-31_LONS_144_149_LATS_-16_-23_DEPTHS_0-3_1.nc\n",
      "2023-06-23 17:32:17.848 [ INFO] - 128.1 kB (51.2%)\n",
      "2023-06-23 17:32:17.878 [ INFO] - 128.1 kB (100.0%)\n",
      "2023-06-23 17:32:17.878 [ INFO] Processing  time : 0:00:15.493525\n",
      "2023-06-23 17:32:17.878 [ INFO] Downloading time : 0:00:00.089337\n",
      "2023-06-23 17:32:17.878 [ INFO] Total time       : 0:00:15.582862\n",
      "2023-06-23 17:32:17.878 [ INFO] Download rate    : 526.1 kB/s\n",
      "2023-06-23 17:32:17.880 [ INFO] Done\n",
      "\n",
      "Dictionary saved as json file at /lustre_scratch/orlando-code/datasets/global_ocean_reanalysis/monthly_means/Great_Barrier_Reef_B/uo/VARS_uo_DATES_2004-12-31_2005-12-31_LONS_144_149_LATS_-16_-23_DEPTHS_0-3_1.json\n",
      "VARS_uo_DATES_2004-12-31_2005-12-31_LONS_144_149_LATS_-16_-23_DEPTHS_0-3_1 written to /lustre_scratch/orlando-code/datasets/global_ocean_reanalysis/monthly_means/Great_Barrier_Reef_B/uo and metadata generated.\n"
     ]
    },
    {
     "name": "stderr",
     "output_type": "stream",
     "text": []
    },
    {
     "name": "stdout",
     "output_type": "stream",
     "text": [
      "2023-06-23 17:32:19.531 [ INFO] Asynchronous mode set\n",
      "2023-06-23 17:32:19.531 [ INFO] Authenticating user otimmerman for service https://my.cmems-du.eu/motu-web/Motu\n",
      "2023-06-23 17:32:20.227 [ INFO] Requesting file to download (this can take a while)...\n",
      "2023-06-23 17:32:25.759 [ INFO] Authenticating user otimmerman for service https://my.cmems-du.eu/motu-web/Motu\n",
      "2023-06-23 17:32:31.863 [ INFO] The product is ready for download\n",
      "2023-06-23 17:32:31.864 [ INFO] Downloading file (this can take a while)...\n",
      "2023-06-23 17:32:32.045 [ INFO] File type: application/x-netcdf\n",
      "2023-06-23 17:32:32.045 [ INFO] File size: 128.1 kB (128104 B)\n",
      "2023-06-23 17:32:32.045 [ INFO] Downloading file /lustre_scratch/orlando-code/datasets/global_ocean_reanalysis/monthly_means/Great_Barrier_Reef_B/uo/VARS_uo_DATES_2005-12-31_2006-12-31_LONS_144_149_LATS_-16_-23_DEPTHS_0-3_1.nc\n",
      "2023-06-23 17:32:32.076 [ INFO] - 128.1 kB (51.2%)\n",
      "2023-06-23 17:32:32.105 [ INFO] - 128.1 kB (100.0%)\n",
      "2023-06-23 17:32:32.106 [ INFO] Processing  time : 0:00:12.515174\n",
      "2023-06-23 17:32:32.106 [ INFO] Downloading time : 0:00:00.060173\n",
      "2023-06-23 17:32:32.106 [ INFO] Total time       : 0:00:12.575347\n",
      "2023-06-23 17:32:32.106 [ INFO] Download rate    : 529.6 kB/s\n",
      "2023-06-23 17:32:32.108 [ INFO] Done\n",
      "\n",
      "Dictionary saved as json file at /lustre_scratch/orlando-code/datasets/global_ocean_reanalysis/monthly_means/Great_Barrier_Reef_B/uo/VARS_uo_DATES_2005-12-31_2006-12-31_LONS_144_149_LATS_-16_-23_DEPTHS_0-3_1.json\n",
      "VARS_uo_DATES_2005-12-31_2006-12-31_LONS_144_149_LATS_-16_-23_DEPTHS_0-3_1 written to /lustre_scratch/orlando-code/datasets/global_ocean_reanalysis/monthly_means/Great_Barrier_Reef_B/uo and metadata generated.\n"
     ]
    },
    {
     "name": "stderr",
     "output_type": "stream",
     "text": []
    },
    {
     "name": "stdout",
     "output_type": "stream",
     "text": [
      "2023-06-23 17:32:33.758 [ INFO] Asynchronous mode set\n",
      "2023-06-23 17:32:33.758 [ INFO] Authenticating user otimmerman for service https://my.cmems-du.eu/motu-web/Motu\n",
      "2023-06-23 17:32:36.093 [ INFO] Requesting file to download (this can take a while)...\n",
      "2023-06-23 17:32:41.620 [ INFO] Authenticating user otimmerman for service https://my.cmems-du.eu/motu-web/Motu\n",
      "2023-06-23 17:32:48.211 [ INFO] The product is ready for download\n",
      "2023-06-23 17:32:48.211 [ INFO] Downloading file (this can take a while)...\n",
      "2023-06-23 17:32:48.365 [ INFO] File type: application/x-netcdf\n",
      "2023-06-23 17:32:48.365 [ INFO] File size: 128.1 kB (128104 B)\n",
      "2023-06-23 17:32:48.365 [ INFO] Downloading file /lustre_scratch/orlando-code/datasets/global_ocean_reanalysis/monthly_means/Great_Barrier_Reef_B/uo/VARS_uo_DATES_2006-12-31_2007-12-31_LONS_144_149_LATS_-16_-23_DEPTHS_0-3_1.nc\n",
      "2023-06-23 17:32:48.423 [ INFO] - 128.1 kB (51.2%)\n",
      "2023-06-23 17:32:48.454 [ INFO] - 128.1 kB (100.0%)\n",
      "2023-06-23 17:32:48.454 [ INFO] Processing  time : 0:00:14.607222\n",
      "2023-06-23 17:32:48.454 [ INFO] Downloading time : 0:00:00.089363\n",
      "2023-06-23 17:32:48.454 [ INFO] Total time       : 0:00:14.696585\n",
      "2023-06-23 17:32:48.454 [ INFO] Download rate    : 528.0 kB/s\n",
      "2023-06-23 17:32:48.457 [ INFO] Done\n",
      "\n",
      "Dictionary saved as json file at /lustre_scratch/orlando-code/datasets/global_ocean_reanalysis/monthly_means/Great_Barrier_Reef_B/uo/VARS_uo_DATES_2006-12-31_2007-12-31_LONS_144_149_LATS_-16_-23_DEPTHS_0-3_1.json\n",
      "VARS_uo_DATES_2006-12-31_2007-12-31_LONS_144_149_LATS_-16_-23_DEPTHS_0-3_1 written to /lustre_scratch/orlando-code/datasets/global_ocean_reanalysis/monthly_means/Great_Barrier_Reef_B/uo and metadata generated.\n"
     ]
    },
    {
     "name": "stderr",
     "output_type": "stream",
     "text": []
    },
    {
     "name": "stdout",
     "output_type": "stream",
     "text": [
      "2023-06-23 17:32:50.121 [ INFO] Asynchronous mode set\n",
      "2023-06-23 17:32:50.122 [ INFO] Authenticating user otimmerman for service https://my.cmems-du.eu/motu-web/Motu\n",
      "2023-06-23 17:32:53.057 [ INFO] Requesting file to download (this can take a while)...\n",
      "2023-06-23 17:32:58.894 [ INFO] Authenticating user otimmerman for service https://my.cmems-du.eu/motu-web/Motu\n",
      "2023-06-23 17:33:11.181 [ INFO] Product is not yet available (request in progress)\n",
      "2023-06-23 17:33:21.191 [ INFO] Authenticating user otimmerman for service https://my.cmems-du.eu/motu-web/Motu\n",
      "2023-06-23 17:33:27.695 [ INFO] The product is ready for download\n",
      "2023-06-23 17:33:27.695 [ INFO] Downloading file (this can take a while)...\n",
      "2023-06-23 17:33:27.847 [ INFO] File type: application/x-netcdf\n",
      "2023-06-23 17:33:27.847 [ INFO] File size: 128.1 kB (128104 B)\n",
      "2023-06-23 17:33:27.847 [ INFO] Downloading file /lustre_scratch/orlando-code/datasets/global_ocean_reanalysis/monthly_means/Great_Barrier_Reef_B/uo/VARS_uo_DATES_2007-12-31_2008-12-31_LONS_144_149_LATS_-16_-23_DEPTHS_0-3_1.nc\n",
      "2023-06-23 17:33:27.905 [ INFO] - 128.1 kB (51.2%)\n",
      "2023-06-23 17:33:27.936 [ INFO] - 128.1 kB (100.0%)\n",
      "2023-06-23 17:33:27.936 [ INFO] Processing  time : 0:00:37.725991\n",
      "2023-06-23 17:33:27.936 [ INFO] Downloading time : 0:00:00.088956\n",
      "2023-06-23 17:33:27.936 [ INFO] Total time       : 0:00:37.814947\n",
      "2023-06-23 17:33:27.936 [ INFO] Download rate    : 531.8 kB/s\n",
      "2023-06-23 17:33:27.939 [ INFO] Done\n",
      "\n",
      "Dictionary saved as json file at /lustre_scratch/orlando-code/datasets/global_ocean_reanalysis/monthly_means/Great_Barrier_Reef_B/uo/VARS_uo_DATES_2007-12-31_2008-12-31_LONS_144_149_LATS_-16_-23_DEPTHS_0-3_1.json\n",
      "VARS_uo_DATES_2007-12-31_2008-12-31_LONS_144_149_LATS_-16_-23_DEPTHS_0-3_1 written to /lustre_scratch/orlando-code/datasets/global_ocean_reanalysis/monthly_means/Great_Barrier_Reef_B/uo and metadata generated.\n"
     ]
    },
    {
     "name": "stderr",
     "output_type": "stream",
     "text": []
    },
    {
     "name": "stdout",
     "output_type": "stream",
     "text": [
      "2023-06-23 17:33:29.587 [ INFO] Asynchronous mode set\n",
      "2023-06-23 17:33:29.587 [ INFO] Authenticating user otimmerman for service https://my.cmems-du.eu/motu-web/Motu\n",
      "2023-06-23 17:33:30.524 [ INFO] Requesting file to download (this can take a while)...\n",
      "2023-06-23 17:33:36.222 [ INFO] Authenticating user otimmerman for service https://my.cmems-du.eu/motu-web/Motu\n",
      "2023-06-23 17:33:43.178 [ INFO] The product is ready for download\n",
      "2023-06-23 17:33:43.178 [ INFO] Downloading file (this can take a while)...\n",
      "2023-06-23 17:33:43.331 [ INFO] File type: application/x-netcdf\n",
      "2023-06-23 17:33:43.331 [ INFO] File size: 128.1 kB (128104 B)\n",
      "2023-06-23 17:33:43.331 [ INFO] Downloading file /lustre_scratch/orlando-code/datasets/global_ocean_reanalysis/monthly_means/Great_Barrier_Reef_B/uo/VARS_uo_DATES_2008-12-31_2009-12-31_LONS_144_149_LATS_-16_-23_DEPTHS_0-3_1.nc\n",
      "2023-06-23 17:33:43.389 [ INFO] - 128.1 kB (51.2%)\n",
      "2023-06-23 17:33:43.419 [ INFO] - 128.1 kB (100.0%)\n",
      "2023-06-23 17:33:43.419 [ INFO] Processing  time : 0:00:13.744059\n",
      "2023-06-23 17:33:43.419 [ INFO] Downloading time : 0:00:00.088233\n",
      "2023-06-23 17:33:43.419 [ INFO] Total time       : 0:00:13.832292\n",
      "2023-06-23 17:33:43.419 [ INFO] Download rate    : 530.9 kB/s\n",
      "2023-06-23 17:33:43.422 [ INFO] Done\n",
      "\n",
      "Dictionary saved as json file at /lustre_scratch/orlando-code/datasets/global_ocean_reanalysis/monthly_means/Great_Barrier_Reef_B/uo/VARS_uo_DATES_2008-12-31_2009-12-31_LONS_144_149_LATS_-16_-23_DEPTHS_0-3_1.json\n",
      "VARS_uo_DATES_2008-12-31_2009-12-31_LONS_144_149_LATS_-16_-23_DEPTHS_0-3_1 written to /lustre_scratch/orlando-code/datasets/global_ocean_reanalysis/monthly_means/Great_Barrier_Reef_B/uo and metadata generated.\n"
     ]
    },
    {
     "name": "stderr",
     "output_type": "stream",
     "text": []
    },
    {
     "name": "stdout",
     "output_type": "stream",
     "text": [
      "2023-06-23 17:33:45.034 [ INFO] Asynchronous mode set\n",
      "2023-06-23 17:33:45.035 [ INFO] Authenticating user otimmerman for service https://my.cmems-du.eu/motu-web/Motu\n",
      "2023-06-23 17:33:48.448 [ INFO] Requesting file to download (this can take a while)...\n",
      "2023-06-23 17:33:54.906 [ INFO] Authenticating user otimmerman for service https://my.cmems-du.eu/motu-web/Motu\n",
      "2023-06-23 17:34:02.782 [ INFO] The product is ready for download\n",
      "2023-06-23 17:34:02.782 [ INFO] Downloading file (this can take a while)...\n",
      "2023-06-23 17:34:02.932 [ INFO] File type: application/x-netcdf\n",
      "2023-06-23 17:34:02.932 [ INFO] File size: 128.1 kB (128104 B)\n",
      "2023-06-23 17:34:02.933 [ INFO] Downloading file /lustre_scratch/orlando-code/datasets/global_ocean_reanalysis/monthly_means/Great_Barrier_Reef_B/uo/VARS_uo_DATES_2009-12-31_2010-12-31_LONS_144_149_LATS_-16_-23_DEPTHS_0-3_1.nc\n",
      "2023-06-23 17:34:02.993 [ INFO] - 128.1 kB (51.2%)\n",
      "2023-06-23 17:34:03.021 [ INFO] - 128.1 kB (100.0%)\n",
      "2023-06-23 17:34:03.021 [ INFO] Processing  time : 0:00:17.898663\n",
      "2023-06-23 17:34:03.021 [ INFO] Downloading time : 0:00:00.088836\n",
      "2023-06-23 17:34:03.021 [ INFO] Total time       : 0:00:17.987499\n",
      "2023-06-23 17:34:03.022 [ INFO] Download rate    : 534.7 kB/s\n",
      "2023-06-23 17:34:03.024 [ INFO] Done\n",
      "\n",
      "Dictionary saved as json file at /lustre_scratch/orlando-code/datasets/global_ocean_reanalysis/monthly_means/Great_Barrier_Reef_B/uo/VARS_uo_DATES_2009-12-31_2010-12-31_LONS_144_149_LATS_-16_-23_DEPTHS_0-3_1.json\n",
      "VARS_uo_DATES_2009-12-31_2010-12-31_LONS_144_149_LATS_-16_-23_DEPTHS_0-3_1 written to /lustre_scratch/orlando-code/datasets/global_ocean_reanalysis/monthly_means/Great_Barrier_Reef_B/uo and metadata generated.\n"
     ]
    },
    {
     "name": "stderr",
     "output_type": "stream",
     "text": []
    },
    {
     "name": "stdout",
     "output_type": "stream",
     "text": [
      "2023-06-23 17:34:04.655 [ INFO] Asynchronous mode set\n",
      "2023-06-23 17:34:04.655 [ INFO] Authenticating user otimmerman for service https://my.cmems-du.eu/motu-web/Motu\n",
      "2023-06-23 17:34:06.237 [ INFO] Requesting file to download (this can take a while)...\n",
      "2023-06-23 17:34:12.019 [ INFO] Authenticating user otimmerman for service https://my.cmems-du.eu/motu-web/Motu\n",
      "2023-06-23 17:34:18.157 [ INFO] Product is not yet available (request in progress)\n",
      "2023-06-23 17:34:28.162 [ INFO] Authenticating user otimmerman for service https://my.cmems-du.eu/motu-web/Motu\n",
      "2023-06-23 17:34:34.851 [ INFO] The product is ready for download\n",
      "2023-06-23 17:34:34.851 [ INFO] Downloading file (this can take a while)...\n",
      "2023-06-23 17:34:35.009 [ INFO] File type: application/x-netcdf\n",
      "2023-06-23 17:34:35.010 [ INFO] File size: 128.1 kB (128104 B)\n",
      "2023-06-23 17:34:35.010 [ INFO] Downloading file /lustre_scratch/orlando-code/datasets/global_ocean_reanalysis/monthly_means/Great_Barrier_Reef_B/uo/VARS_uo_DATES_2010-12-31_2011-12-31_LONS_144_149_LATS_-16_-23_DEPTHS_0-3_1.nc\n",
      "2023-06-23 17:34:35.071 [ INFO] - 128.1 kB (51.2%)\n",
      "2023-06-23 17:34:35.100 [ INFO] - 128.1 kB (100.0%)\n",
      "2023-06-23 17:34:35.101 [ INFO] Processing  time : 0:00:30.354711\n",
      "2023-06-23 17:34:35.101 [ INFO] Downloading time : 0:00:00.090916\n",
      "2023-06-23 17:34:35.101 [ INFO] Total time       : 0:00:30.445627\n",
      "2023-06-23 17:34:35.101 [ INFO] Download rate    : 514.3 kB/s\n",
      "2023-06-23 17:34:35.103 [ INFO] Done\n",
      "\n",
      "Dictionary saved as json file at /lustre_scratch/orlando-code/datasets/global_ocean_reanalysis/monthly_means/Great_Barrier_Reef_B/uo/VARS_uo_DATES_2010-12-31_2011-12-31_LONS_144_149_LATS_-16_-23_DEPTHS_0-3_1.json\n",
      "VARS_uo_DATES_2010-12-31_2011-12-31_LONS_144_149_LATS_-16_-23_DEPTHS_0-3_1 written to /lustre_scratch/orlando-code/datasets/global_ocean_reanalysis/monthly_means/Great_Barrier_Reef_B/uo and metadata generated.\n"
     ]
    },
    {
     "name": "stderr",
     "output_type": "stream",
     "text": []
    },
    {
     "name": "stdout",
     "output_type": "stream",
     "text": [
      "2023-06-23 17:34:36.731 [ INFO] Asynchronous mode set\n",
      "2023-06-23 17:34:36.731 [ INFO] Authenticating user otimmerman for service https://my.cmems-du.eu/motu-web/Motu\n",
      "2023-06-23 17:34:37.598 [ INFO] Requesting file to download (this can take a while)...\n",
      "2023-06-23 17:34:43.016 [ INFO] Authenticating user otimmerman for service https://my.cmems-du.eu/motu-web/Motu\n",
      "2023-06-23 17:34:49.129 [ INFO] The product is ready for download\n",
      "2023-06-23 17:34:49.130 [ INFO] Downloading file (this can take a while)...\n",
      "2023-06-23 17:34:49.281 [ INFO] File type: application/x-netcdf\n",
      "2023-06-23 17:34:49.281 [ INFO] File size: 128.1 kB (128104 B)\n",
      "2023-06-23 17:34:49.281 [ INFO] Downloading file /lustre_scratch/orlando-code/datasets/global_ocean_reanalysis/monthly_means/Great_Barrier_Reef_B/uo/VARS_uo_DATES_2011-12-31_2012-12-31_LONS_144_149_LATS_-16_-23_DEPTHS_0-3_1.nc\n",
      "2023-06-23 17:34:49.340 [ INFO] - 128.1 kB (51.2%)\n",
      "2023-06-23 17:34:49.369 [ INFO] - 128.1 kB (100.0%)\n",
      "2023-06-23 17:34:49.369 [ INFO] Processing  time : 0:00:12.550460\n",
      "2023-06-23 17:34:49.369 [ INFO] Downloading time : 0:00:00.087970\n",
      "2023-06-23 17:34:49.369 [ INFO] Total time       : 0:00:12.638430\n",
      "2023-06-23 17:34:49.369 [ INFO] Download rate    : 535.4 kB/s\n",
      "2023-06-23 17:34:49.371 [ INFO] Done\n",
      "\n",
      "Dictionary saved as json file at /lustre_scratch/orlando-code/datasets/global_ocean_reanalysis/monthly_means/Great_Barrier_Reef_B/uo/VARS_uo_DATES_2011-12-31_2012-12-31_LONS_144_149_LATS_-16_-23_DEPTHS_0-3_1.json\n",
      "VARS_uo_DATES_2011-12-31_2012-12-31_LONS_144_149_LATS_-16_-23_DEPTHS_0-3_1 written to /lustre_scratch/orlando-code/datasets/global_ocean_reanalysis/monthly_means/Great_Barrier_Reef_B/uo and metadata generated.\n"
     ]
    },
    {
     "name": "stderr",
     "output_type": "stream",
     "text": []
    },
    {
     "name": "stdout",
     "output_type": "stream",
     "text": [
      "2023-06-23 17:34:50.991 [ INFO] Asynchronous mode set\n",
      "2023-06-23 17:34:50.991 [ INFO] Authenticating user otimmerman for service https://my.cmems-du.eu/motu-web/Motu\n",
      "2023-06-23 17:34:52.997 [ INFO] Requesting file to download (this can take a while)...\n",
      "2023-06-23 17:34:58.419 [ INFO] Authenticating user otimmerman for service https://my.cmems-du.eu/motu-web/Motu\n",
      "2023-06-23 17:35:05.028 [ INFO] The product is ready for download\n",
      "2023-06-23 17:35:05.028 [ INFO] Downloading file (this can take a while)...\n",
      "2023-06-23 17:35:05.182 [ INFO] File type: application/x-netcdf\n",
      "2023-06-23 17:35:05.182 [ INFO] File size: 128.1 kB (128104 B)\n",
      "2023-06-23 17:35:05.182 [ INFO] Downloading file /lustre_scratch/orlando-code/datasets/global_ocean_reanalysis/monthly_means/Great_Barrier_Reef_B/uo/VARS_uo_DATES_2012-12-31_2013-12-31_LONS_144_149_LATS_-16_-23_DEPTHS_0-3_1.nc\n",
      "2023-06-23 17:35:05.241 [ INFO] - 128.1 kB (51.2%)\n",
      "2023-06-23 17:35:05.272 [ INFO] - 128.1 kB (100.0%)\n",
      "2023-06-23 17:35:05.272 [ INFO] Processing  time : 0:00:14.191398\n",
      "2023-06-23 17:35:05.272 [ INFO] Downloading time : 0:00:00.090127\n",
      "2023-06-23 17:35:05.272 [ INFO] Total time       : 0:00:14.281525\n",
      "2023-06-23 17:35:05.272 [ INFO] Download rate    : 525.0 kB/s\n",
      "2023-06-23 17:35:05.275 [ INFO] Done\n",
      "\n",
      "Dictionary saved as json file at /lustre_scratch/orlando-code/datasets/global_ocean_reanalysis/monthly_means/Great_Barrier_Reef_B/uo/VARS_uo_DATES_2012-12-31_2013-12-31_LONS_144_149_LATS_-16_-23_DEPTHS_0-3_1.json\n",
      "VARS_uo_DATES_2012-12-31_2013-12-31_LONS_144_149_LATS_-16_-23_DEPTHS_0-3_1 written to /lustre_scratch/orlando-code/datasets/global_ocean_reanalysis/monthly_means/Great_Barrier_Reef_B/uo and metadata generated.\n"
     ]
    },
    {
     "name": "stderr",
     "output_type": "stream",
     "text": []
    },
    {
     "name": "stdout",
     "output_type": "stream",
     "text": [
      "2023-06-23 17:35:06.882 [ INFO] Asynchronous mode set\n",
      "2023-06-23 17:35:06.883 [ INFO] Authenticating user otimmerman for service https://my.cmems-du.eu/motu-web/Motu\n",
      "2023-06-23 17:35:07.588 [ INFO] Requesting file to download (this can take a while)...\n",
      "2023-06-23 17:35:12.999 [ INFO] Authenticating user otimmerman for service https://my.cmems-du.eu/motu-web/Motu\n",
      "2023-06-23 17:35:20.693 [ INFO] Product is not yet available (request in progress)\n",
      "2023-06-23 17:35:30.704 [ INFO] Authenticating user otimmerman for service https://my.cmems-du.eu/motu-web/Motu\n",
      "2023-06-23 17:35:36.835 [ INFO] The product is ready for download\n",
      "2023-06-23 17:35:36.835 [ INFO] Downloading file (this can take a while)...\n",
      "2023-06-23 17:35:36.986 [ INFO] File type: application/x-netcdf\n",
      "2023-06-23 17:35:36.986 [ INFO] File size: 128.1 kB (128104 B)\n",
      "2023-06-23 17:35:36.986 [ INFO] Downloading file /lustre_scratch/orlando-code/datasets/global_ocean_reanalysis/monthly_means/Great_Barrier_Reef_B/uo/VARS_uo_DATES_2013-12-31_2014-12-31_LONS_144_149_LATS_-16_-23_DEPTHS_0-3_1.nc\n",
      "2023-06-23 17:35:37.046 [ INFO] - 128.1 kB (51.2%)\n",
      "2023-06-23 17:35:37.076 [ INFO] - 128.1 kB (100.0%)\n",
      "2023-06-23 17:35:37.076 [ INFO] Processing  time : 0:00:30.103954\n",
      "2023-06-23 17:35:37.076 [ INFO] Downloading time : 0:00:00.089876\n",
      "2023-06-23 17:35:37.076 [ INFO] Total time       : 0:00:30.193830\n",
      "2023-06-23 17:35:37.076 [ INFO] Download rate    : 532.5 kB/s\n",
      "2023-06-23 17:35:37.079 [ INFO] Done\n",
      "\n",
      "Dictionary saved as json file at /lustre_scratch/orlando-code/datasets/global_ocean_reanalysis/monthly_means/Great_Barrier_Reef_B/uo/VARS_uo_DATES_2013-12-31_2014-12-31_LONS_144_149_LATS_-16_-23_DEPTHS_0-3_1.json\n",
      "VARS_uo_DATES_2013-12-31_2014-12-31_LONS_144_149_LATS_-16_-23_DEPTHS_0-3_1 written to /lustre_scratch/orlando-code/datasets/global_ocean_reanalysis/monthly_means/Great_Barrier_Reef_B/uo and metadata generated.\n"
     ]
    },
    {
     "name": "stderr",
     "output_type": "stream",
     "text": []
    },
    {
     "name": "stdout",
     "output_type": "stream",
     "text": [
      "2023-06-23 17:35:38.696 [ INFO] Asynchronous mode set\n",
      "2023-06-23 17:35:38.697 [ INFO] Authenticating user otimmerman for service https://my.cmems-du.eu/motu-web/Motu\n",
      "2023-06-23 17:35:39.402 [ INFO] Requesting file to download (this can take a while)...\n",
      "2023-06-23 17:35:44.823 [ INFO] Authenticating user otimmerman for service https://my.cmems-du.eu/motu-web/Motu\n",
      "2023-06-23 17:35:53.178 [ INFO] The product is ready for download\n",
      "2023-06-23 17:35:53.178 [ INFO] Downloading file (this can take a while)...\n",
      "2023-06-23 17:35:53.331 [ INFO] File type: application/x-netcdf\n",
      "2023-06-23 17:35:53.331 [ INFO] File size: 128.1 kB (128104 B)\n",
      "2023-06-23 17:35:53.331 [ INFO] Downloading file /lustre_scratch/orlando-code/datasets/global_ocean_reanalysis/monthly_means/Great_Barrier_Reef_B/uo/VARS_uo_DATES_2014-12-31_2015-12-31_LONS_144_149_LATS_-16_-23_DEPTHS_0-3_1.nc\n",
      "2023-06-23 17:35:53.392 [ INFO] - 128.1 kB (51.2%)\n",
      "2023-06-23 17:35:53.419 [ INFO] - 128.1 kB (100.0%)\n",
      "2023-06-23 17:35:53.419 [ INFO] Processing  time : 0:00:14.634886\n",
      "2023-06-23 17:35:53.419 [ INFO] Downloading time : 0:00:00.087915\n",
      "2023-06-23 17:35:53.419 [ INFO] Total time       : 0:00:14.722801\n",
      "2023-06-23 17:35:53.419 [ INFO] Download rate    : 533.1 kB/s\n",
      "2023-06-23 17:35:53.421 [ INFO] Done\n",
      "\n",
      "Dictionary saved as json file at /lustre_scratch/orlando-code/datasets/global_ocean_reanalysis/monthly_means/Great_Barrier_Reef_B/uo/VARS_uo_DATES_2014-12-31_2015-12-31_LONS_144_149_LATS_-16_-23_DEPTHS_0-3_1.json\n",
      "VARS_uo_DATES_2014-12-31_2015-12-31_LONS_144_149_LATS_-16_-23_DEPTHS_0-3_1 written to /lustre_scratch/orlando-code/datasets/global_ocean_reanalysis/monthly_means/Great_Barrier_Reef_B/uo and metadata generated.\n"
     ]
    },
    {
     "name": "stderr",
     "output_type": "stream",
     "text": []
    },
    {
     "name": "stdout",
     "output_type": "stream",
     "text": [
      "2023-06-23 17:35:55.028 [ INFO] Asynchronous mode set\n",
      "2023-06-23 17:35:55.028 [ INFO] Authenticating user otimmerman for service https://my.cmems-du.eu/motu-web/Motu\n",
      "2023-06-23 17:35:56.329 [ INFO] Requesting file to download (this can take a while)...\n",
      "2023-06-23 17:36:01.741 [ INFO] Authenticating user otimmerman for service https://my.cmems-du.eu/motu-web/Motu\n",
      "2023-06-23 17:36:07.874 [ INFO] The product is ready for download\n",
      "2023-06-23 17:36:07.874 [ INFO] Downloading file (this can take a while)...\n",
      "2023-06-23 17:36:08.031 [ INFO] File type: application/x-netcdf\n",
      "2023-06-23 17:36:08.031 [ INFO] File size: 128.1 kB (128104 B)\n",
      "2023-06-23 17:36:08.032 [ INFO] Downloading file /lustre_scratch/orlando-code/datasets/global_ocean_reanalysis/monthly_means/Great_Barrier_Reef_B/uo/VARS_uo_DATES_2015-12-31_2016-12-31_LONS_144_149_LATS_-16_-23_DEPTHS_0-3_1.nc\n",
      "2023-06-23 17:36:08.091 [ INFO] - 128.1 kB (51.2%)\n",
      "2023-06-23 17:36:08.121 [ INFO] - 128.1 kB (100.0%)\n",
      "2023-06-23 17:36:08.121 [ INFO] Processing  time : 0:00:13.003952\n",
      "2023-06-23 17:36:08.121 [ INFO] Downloading time : 0:00:00.089766\n",
      "2023-06-23 17:36:08.121 [ INFO] Total time       : 0:00:13.093718\n",
      "2023-06-23 17:36:08.121 [ INFO] Download rate    : 518.2 kB/s\n",
      "2023-06-23 17:36:08.124 [ INFO] Done\n",
      "\n",
      "Dictionary saved as json file at /lustre_scratch/orlando-code/datasets/global_ocean_reanalysis/monthly_means/Great_Barrier_Reef_B/uo/VARS_uo_DATES_2015-12-31_2016-12-31_LONS_144_149_LATS_-16_-23_DEPTHS_0-3_1.json\n",
      "VARS_uo_DATES_2015-12-31_2016-12-31_LONS_144_149_LATS_-16_-23_DEPTHS_0-3_1 written to /lustre_scratch/orlando-code/datasets/global_ocean_reanalysis/monthly_means/Great_Barrier_Reef_B/uo and metadata generated.\n"
     ]
    },
    {
     "name": "stderr",
     "output_type": "stream",
     "text": []
    },
    {
     "name": "stdout",
     "output_type": "stream",
     "text": [
      "2023-06-23 17:36:09.722 [ INFO] Asynchronous mode set\n",
      "2023-06-23 17:36:09.722 [ INFO] Authenticating user otimmerman for service https://my.cmems-du.eu/motu-web/Motu\n",
      "2023-06-23 17:36:10.445 [ INFO] Requesting file to download (this can take a while)...\n",
      "2023-06-23 17:36:15.867 [ INFO] Authenticating user otimmerman for service https://my.cmems-du.eu/motu-web/Motu\n",
      "2023-06-23 17:36:21.995 [ INFO] The product is ready for download\n",
      "2023-06-23 17:36:21.995 [ INFO] Downloading file (this can take a while)...\n",
      "2023-06-23 17:36:22.151 [ INFO] File type: application/x-netcdf\n",
      "2023-06-23 17:36:22.151 [ INFO] File size: 128.1 kB (128104 B)\n",
      "2023-06-23 17:36:22.152 [ INFO] Downloading file /lustre_scratch/orlando-code/datasets/global_ocean_reanalysis/monthly_means/Great_Barrier_Reef_B/uo/VARS_uo_DATES_2016-12-31_2017-12-31_LONS_144_149_LATS_-16_-23_DEPTHS_0-3_1.nc\n",
      "2023-06-23 17:36:22.210 [ INFO] - 128.1 kB (51.2%)\n",
      "2023-06-23 17:36:22.239 [ INFO] - 128.1 kB (100.0%)\n",
      "2023-06-23 17:36:22.239 [ INFO] Processing  time : 0:00:12.430094\n",
      "2023-06-23 17:36:22.239 [ INFO] Downloading time : 0:00:00.087359\n",
      "2023-06-23 17:36:22.239 [ INFO] Total time       : 0:00:12.517453\n",
      "2023-06-23 17:36:22.239 [ INFO] Download rate    : 526.2 kB/s\n",
      "2023-06-23 17:36:22.242 [ INFO] Done\n",
      "\n",
      "Dictionary saved as json file at /lustre_scratch/orlando-code/datasets/global_ocean_reanalysis/monthly_means/Great_Barrier_Reef_B/uo/VARS_uo_DATES_2016-12-31_2017-12-31_LONS_144_149_LATS_-16_-23_DEPTHS_0-3_1.json\n",
      "VARS_uo_DATES_2016-12-31_2017-12-31_LONS_144_149_LATS_-16_-23_DEPTHS_0-3_1 written to /lustre_scratch/orlando-code/datasets/global_ocean_reanalysis/monthly_means/Great_Barrier_Reef_B/uo and metadata generated.\n"
     ]
    },
    {
     "name": "stderr",
     "output_type": "stream",
     "text": []
    },
    {
     "name": "stdout",
     "output_type": "stream",
     "text": [
      "2023-06-23 17:36:23.873 [ INFO] Asynchronous mode set\n",
      "2023-06-23 17:36:23.873 [ INFO] Authenticating user otimmerman for service https://my.cmems-du.eu/motu-web/Motu\n",
      "2023-06-23 17:36:26.035 [ INFO] Requesting file to download (this can take a while)...\n",
      "2023-06-23 17:36:31.457 [ INFO] Authenticating user otimmerman for service https://my.cmems-du.eu/motu-web/Motu\n",
      "2023-06-23 17:36:38.625 [ INFO] The product is ready for download\n",
      "2023-06-23 17:36:38.625 [ INFO] Downloading file (this can take a while)...\n",
      "2023-06-23 17:36:38.776 [ INFO] File type: application/x-netcdf\n",
      "2023-06-23 17:36:38.776 [ INFO] File size: 128.1 kB (128104 B)\n",
      "2023-06-23 17:36:38.777 [ INFO] Downloading file /lustre_scratch/orlando-code/datasets/global_ocean_reanalysis/monthly_means/Great_Barrier_Reef_B/uo/VARS_uo_DATES_2017-12-31_2018-12-31_LONS_144_149_LATS_-16_-23_DEPTHS_0-3_1.nc\n",
      "2023-06-23 17:36:38.836 [ INFO] - 128.1 kB (51.2%)\n",
      "2023-06-23 17:36:38.866 [ INFO] - 128.1 kB (100.0%)\n",
      "2023-06-23 17:36:38.866 [ INFO] Processing  time : 0:00:14.904262\n",
      "2023-06-23 17:36:38.866 [ INFO] Downloading time : 0:00:00.089657\n",
      "2023-06-23 17:36:38.866 [ INFO] Total time       : 0:00:14.993919\n",
      "2023-06-23 17:36:38.866 [ INFO] Download rate    : 530.6 kB/s\n",
      "2023-06-23 17:36:38.869 [ INFO] Done\n",
      "\n",
      "Dictionary saved as json file at /lustre_scratch/orlando-code/datasets/global_ocean_reanalysis/monthly_means/Great_Barrier_Reef_B/uo/VARS_uo_DATES_2017-12-31_2018-12-31_LONS_144_149_LATS_-16_-23_DEPTHS_0-3_1.json\n",
      "VARS_uo_DATES_2017-12-31_2018-12-31_LONS_144_149_LATS_-16_-23_DEPTHS_0-3_1 written to /lustre_scratch/orlando-code/datasets/global_ocean_reanalysis/monthly_means/Great_Barrier_Reef_B/uo and metadata generated.\n"
     ]
    },
    {
     "name": "stderr",
     "output_type": "stream",
     "text": []
    },
    {
     "name": "stdout",
     "output_type": "stream",
     "text": [
      "2023-06-23 17:36:40.501 [ INFO] Asynchronous mode set\n",
      "2023-06-23 17:36:40.501 [ INFO] Authenticating user otimmerman for service https://my.cmems-du.eu/motu-web/Motu\n",
      "2023-06-23 17:36:42.051 [ INFO] Requesting file to download (this can take a while)...\n",
      "2023-06-23 17:36:47.938 [ INFO] Authenticating user otimmerman for service https://my.cmems-du.eu/motu-web/Motu\n",
      "2023-06-23 17:36:55.653 [ INFO] The product is ready for download\n",
      "2023-06-23 17:36:55.654 [ INFO] Downloading file (this can take a while)...\n",
      "2023-06-23 17:36:55.834 [ INFO] File type: application/x-netcdf\n",
      "2023-06-23 17:36:55.834 [ INFO] File size: 128.1 kB (128104 B)\n",
      "2023-06-23 17:36:55.834 [ INFO] Downloading file /lustre_scratch/orlando-code/datasets/global_ocean_reanalysis/monthly_means/Great_Barrier_Reef_B/uo/VARS_uo_DATES_2018-12-31_2019-12-31_LONS_144_149_LATS_-16_-23_DEPTHS_0-3_1.nc\n",
      "2023-06-23 17:36:55.862 [ INFO] - 128.1 kB (51.2%)\n",
      "2023-06-23 17:36:55.892 [ INFO] - 128.1 kB (100.0%)\n",
      "2023-06-23 17:36:55.892 [ INFO] Processing  time : 0:00:15.332886\n",
      "2023-06-23 17:36:55.892 [ INFO] Downloading time : 0:00:00.058200\n",
      "2023-06-23 17:36:55.892 [ INFO] Total time       : 0:00:15.391086\n",
      "2023-06-23 17:36:55.892 [ INFO] Download rate    : 537.4 kB/s\n",
      "2023-06-23 17:36:55.894 [ INFO] Done\n",
      "\n",
      "Dictionary saved as json file at /lustre_scratch/orlando-code/datasets/global_ocean_reanalysis/monthly_means/Great_Barrier_Reef_B/uo/VARS_uo_DATES_2018-12-31_2019-12-31_LONS_144_149_LATS_-16_-23_DEPTHS_0-3_1.json\n",
      "VARS_uo_DATES_2018-12-31_2019-12-31_LONS_144_149_LATS_-16_-23_DEPTHS_0-3_1 written to /lustre_scratch/orlando-code/datasets/global_ocean_reanalysis/monthly_means/Great_Barrier_Reef_B/uo and metadata generated.\n",
      "Merging .nc files into /lustre_scratch/orlando-code/datasets/global_ocean_reanalysis/monthly_means/Great_Barrier_Reef_B/merged_vars/VARS_uo_DATES_1992-12-31_2020-12-16_LONS_144_149_LATS_-16_-23_DEPTHS_0-3_1.nc\n"
     ]
    },
    {
     "name": "stderr",
     "output_type": "stream",
     "text": [
      " variable loop:  43%|████▎     | 3/7 [22:34<30:48, 462.15s/it]"
     ]
    },
    {
     "name": "stdout",
     "output_type": "stream",
     "text": [
      "Dictionary saved as json file at /lustre_scratch/orlando-code/datasets/global_ocean_reanalysis/monthly_means/Great_Barrier_Reef_B/merged_vars/VARS_uo_DATES_1992-12-31_2020-12-16_LONS_144_149_LATS_-16_-23_DEPTHS_0-3_1.json\n",
      "Downloading so data...\n"
     ]
    },
    {
     "name": "stderr",
     "output_type": "stream",
     "text": []
    },
    {
     "name": "stdout",
     "output_type": "stream",
     "text": [
      "2023-06-23 17:36:57.835 [ INFO] Asynchronous mode set\n",
      "2023-06-23 17:36:57.835 [ INFO] Authenticating user otimmerman for service https://my.cmems-du.eu/motu-web/Motu\n",
      "2023-06-23 17:36:58.536 [ INFO] Requesting file to download (this can take a while)...\n",
      "2023-06-23 17:37:04.154 [ INFO] Authenticating user otimmerman for service https://my.cmems-du.eu/motu-web/Motu\n",
      "2023-06-23 17:37:10.276 [ INFO] The product is ready for download\n",
      "2023-06-23 17:37:10.276 [ INFO] Downloading file (this can take a while)...\n",
      "2023-06-23 17:37:10.428 [ INFO] File type: application/x-netcdf\n",
      "2023-06-23 17:37:10.428 [ INFO] File size: 128.1 kB (128084 B)\n",
      "2023-06-23 17:37:10.428 [ INFO] Downloading file /lustre_scratch/orlando-code/datasets/global_ocean_reanalysis/monthly_means/Great_Barrier_Reef_B/so/VARS_so_DATES_1992-12-31_1993-12-31_LONS_144_149_LATS_-16_-23_DEPTHS_0-3_1.nc\n",
      "2023-06-23 17:37:10.489 [ INFO] - 128.1 kB (51.2%)\n",
      "2023-06-23 17:37:10.517 [ INFO] - 128.1 kB (100.0%)\n",
      "2023-06-23 17:37:10.517 [ INFO] Processing  time : 0:00:12.593445\n",
      "2023-06-23 17:37:10.517 [ INFO] Downloading time : 0:00:00.088775\n",
      "2023-06-23 17:37:10.517 [ INFO] Total time       : 0:00:12.682220\n",
      "2023-06-23 17:37:10.517 [ INFO] Download rate    : 532.4 kB/s\n",
      "2023-06-23 17:37:10.519 [ INFO] Done\n",
      "\n",
      "Dictionary saved as json file at /lustre_scratch/orlando-code/datasets/global_ocean_reanalysis/monthly_means/Great_Barrier_Reef_B/so/VARS_so_DATES_1992-12-31_1993-12-31_LONS_144_149_LATS_-16_-23_DEPTHS_0-3_1.json\n",
      "VARS_so_DATES_1992-12-31_1993-12-31_LONS_144_149_LATS_-16_-23_DEPTHS_0-3_1 written to /lustre_scratch/orlando-code/datasets/global_ocean_reanalysis/monthly_means/Great_Barrier_Reef_B/so and metadata generated.\n"
     ]
    },
    {
     "name": "stderr",
     "output_type": "stream",
     "text": []
    },
    {
     "name": "stdout",
     "output_type": "stream",
     "text": [
      "2023-06-23 17:37:12.166 [ INFO] Asynchronous mode set\n",
      "2023-06-23 17:37:12.166 [ INFO] Authenticating user otimmerman for service https://my.cmems-du.eu/motu-web/Motu\n",
      "2023-06-23 17:37:14.856 [ INFO] Requesting file to download (this can take a while)...\n",
      "2023-06-23 17:37:20.993 [ INFO] Authenticating user otimmerman for service https://my.cmems-du.eu/motu-web/Motu\n",
      "2023-06-23 17:37:28.619 [ INFO] The product is ready for download\n",
      "2023-06-23 17:37:28.619 [ INFO] Downloading file (this can take a while)...\n",
      "2023-06-23 17:37:28.768 [ INFO] File type: application/x-netcdf\n",
      "2023-06-23 17:37:28.768 [ INFO] File size: 128.1 kB (128084 B)\n",
      "2023-06-23 17:37:28.768 [ INFO] Downloading file /lustre_scratch/orlando-code/datasets/global_ocean_reanalysis/monthly_means/Great_Barrier_Reef_B/so/VARS_so_DATES_1993-12-31_1994-12-31_LONS_144_149_LATS_-16_-23_DEPTHS_0-3_1.nc\n",
      "2023-06-23 17:37:28.827 [ INFO] - 128.1 kB (51.2%)\n",
      "2023-06-23 17:37:28.857 [ INFO] - 128.1 kB (100.0%)\n",
      "2023-06-23 17:37:28.857 [ INFO] Processing  time : 0:00:16.603028\n",
      "2023-06-23 17:37:28.857 [ INFO] Downloading time : 0:00:00.088363\n",
      "2023-06-23 17:37:28.857 [ INFO] Total time       : 0:00:16.691391\n",
      "2023-06-23 17:37:28.857 [ INFO] Download rate    : 539.7 kB/s\n",
      "2023-06-23 17:37:28.860 [ INFO] Done\n",
      "\n",
      "Dictionary saved as json file at /lustre_scratch/orlando-code/datasets/global_ocean_reanalysis/monthly_means/Great_Barrier_Reef_B/so/VARS_so_DATES_1993-12-31_1994-12-31_LONS_144_149_LATS_-16_-23_DEPTHS_0-3_1.json\n",
      "VARS_so_DATES_1993-12-31_1994-12-31_LONS_144_149_LATS_-16_-23_DEPTHS_0-3_1 written to /lustre_scratch/orlando-code/datasets/global_ocean_reanalysis/monthly_means/Great_Barrier_Reef_B/so and metadata generated.\n"
     ]
    },
    {
     "name": "stderr",
     "output_type": "stream",
     "text": []
    },
    {
     "name": "stdout",
     "output_type": "stream",
     "text": [
      "2023-06-23 17:37:30.512 [ INFO] Asynchronous mode set\n",
      "2023-06-23 17:37:30.512 [ INFO] Authenticating user otimmerman for service https://my.cmems-du.eu/motu-web/Motu\n",
      "2023-06-23 17:37:31.205 [ INFO] Requesting file to download (this can take a while)...\n",
      "2023-06-23 17:37:36.909 [ INFO] Authenticating user otimmerman for service https://my.cmems-du.eu/motu-web/Motu\n",
      "2023-06-23 17:37:46.561 [ INFO] The product is ready for download\n",
      "2023-06-23 17:37:46.561 [ INFO] Downloading file (this can take a while)...\n",
      "2023-06-23 17:37:46.711 [ INFO] File type: application/x-netcdf\n",
      "2023-06-23 17:37:46.712 [ INFO] File size: 128.1 kB (128084 B)\n",
      "2023-06-23 17:37:46.712 [ INFO] Downloading file /lustre_scratch/orlando-code/datasets/global_ocean_reanalysis/monthly_means/Great_Barrier_Reef_B/so/VARS_so_DATES_1994-12-31_1995-12-31_LONS_144_149_LATS_-16_-23_DEPTHS_0-3_1.nc\n",
      "2023-06-23 17:37:46.773 [ INFO] - 128.1 kB (51.2%)\n",
      "2023-06-23 17:37:46.798 [ INFO] - 128.1 kB (100.0%)\n",
      "2023-06-23 17:37:46.799 [ INFO] Processing  time : 0:00:16.200383\n",
      "2023-06-23 17:37:46.799 [ INFO] Downloading time : 0:00:00.086960\n",
      "2023-06-23 17:37:46.799 [ INFO] Total time       : 0:00:16.287343\n",
      "2023-06-23 17:37:46.799 [ INFO] Download rate    : 539.2 kB/s\n",
      "2023-06-23 17:37:46.801 [ INFO] Done\n",
      "\n",
      "Dictionary saved as json file at /lustre_scratch/orlando-code/datasets/global_ocean_reanalysis/monthly_means/Great_Barrier_Reef_B/so/VARS_so_DATES_1994-12-31_1995-12-31_LONS_144_149_LATS_-16_-23_DEPTHS_0-3_1.json\n",
      "VARS_so_DATES_1994-12-31_1995-12-31_LONS_144_149_LATS_-16_-23_DEPTHS_0-3_1 written to /lustre_scratch/orlando-code/datasets/global_ocean_reanalysis/monthly_means/Great_Barrier_Reef_B/so and metadata generated.\n"
     ]
    },
    {
     "name": "stderr",
     "output_type": "stream",
     "text": []
    },
    {
     "name": "stdout",
     "output_type": "stream",
     "text": [
      "2023-06-23 17:37:48.439 [ INFO] Asynchronous mode set\n",
      "2023-06-23 17:37:48.439 [ INFO] Authenticating user otimmerman for service https://my.cmems-du.eu/motu-web/Motu\n",
      "2023-06-23 17:37:49.759 [ INFO] Requesting file to download (this can take a while)...\n",
      "2023-06-23 17:37:55.392 [ INFO] Authenticating user otimmerman for service https://my.cmems-du.eu/motu-web/Motu\n",
      "2023-06-23 17:38:02.634 [ INFO] The product is ready for download\n",
      "2023-06-23 17:38:02.634 [ INFO] Downloading file (this can take a while)...\n",
      "2023-06-23 17:38:02.816 [ INFO] File type: application/x-netcdf\n",
      "2023-06-23 17:38:02.816 [ INFO] File size: 128.1 kB (128084 B)\n",
      "2023-06-23 17:38:02.816 [ INFO] Downloading file /lustre_scratch/orlando-code/datasets/global_ocean_reanalysis/monthly_means/Great_Barrier_Reef_B/so/VARS_so_DATES_1995-12-31_1996-12-31_LONS_144_149_LATS_-16_-23_DEPTHS_0-3_1.nc\n",
      "2023-06-23 17:38:02.876 [ INFO] - 128.1 kB (51.2%)\n",
      "2023-06-23 17:38:02.906 [ INFO] - 128.1 kB (100.0%)\n",
      "2023-06-23 17:38:02.906 [ INFO] Processing  time : 0:00:14.377560\n",
      "2023-06-23 17:38:02.906 [ INFO] Downloading time : 0:00:00.090498\n",
      "2023-06-23 17:38:02.906 [ INFO] Total time       : 0:00:14.468058\n",
      "2023-06-23 17:38:02.906 [ INFO] Download rate    : 470.6 kB/s\n",
      "2023-06-23 17:38:02.909 [ INFO] Done\n",
      "\n",
      "Dictionary saved as json file at /lustre_scratch/orlando-code/datasets/global_ocean_reanalysis/monthly_means/Great_Barrier_Reef_B/so/VARS_so_DATES_1995-12-31_1996-12-31_LONS_144_149_LATS_-16_-23_DEPTHS_0-3_1.json\n",
      "VARS_so_DATES_1995-12-31_1996-12-31_LONS_144_149_LATS_-16_-23_DEPTHS_0-3_1 written to /lustre_scratch/orlando-code/datasets/global_ocean_reanalysis/monthly_means/Great_Barrier_Reef_B/so and metadata generated.\n"
     ]
    },
    {
     "name": "stderr",
     "output_type": "stream",
     "text": []
    },
    {
     "name": "stdout",
     "output_type": "stream",
     "text": [
      "2023-06-23 17:38:04.537 [ INFO] Asynchronous mode set\n",
      "2023-06-23 17:38:04.537 [ INFO] Authenticating user otimmerman for service https://my.cmems-du.eu/motu-web/Motu\n",
      "2023-06-23 17:38:06.279 [ INFO] Requesting file to download (this can take a while)...\n",
      "2023-06-23 17:38:11.699 [ INFO] Authenticating user otimmerman for service https://my.cmems-du.eu/motu-web/Motu\n",
      "2023-06-23 17:38:17.831 [ INFO] The product is ready for download\n",
      "2023-06-23 17:38:17.832 [ INFO] Downloading file (this can take a while)...\n",
      "2023-06-23 17:38:17.992 [ INFO] File type: application/x-netcdf\n",
      "2023-06-23 17:38:17.992 [ INFO] File size: 128.1 kB (128084 B)\n",
      "2023-06-23 17:38:17.992 [ INFO] Downloading file /lustre_scratch/orlando-code/datasets/global_ocean_reanalysis/monthly_means/Great_Barrier_Reef_B/so/VARS_so_DATES_1996-12-31_1997-12-31_LONS_144_149_LATS_-16_-23_DEPTHS_0-3_1.nc\n",
      "2023-06-23 17:38:18.053 [ INFO] - 128.1 kB (51.2%)\n",
      "2023-06-23 17:38:18.082 [ INFO] - 128.1 kB (100.0%)\n",
      "2023-06-23 17:38:18.082 [ INFO] Processing  time : 0:00:13.455189\n",
      "2023-06-23 17:38:18.083 [ INFO] Downloading time : 0:00:00.090669\n",
      "2023-06-23 17:38:18.083 [ INFO] Total time       : 0:00:13.545858\n",
      "2023-06-23 17:38:18.083 [ INFO] Download rate    : 510.4 kB/s\n",
      "2023-06-23 17:38:18.085 [ INFO] Done\n",
      "\n",
      "Dictionary saved as json file at /lustre_scratch/orlando-code/datasets/global_ocean_reanalysis/monthly_means/Great_Barrier_Reef_B/so/VARS_so_DATES_1996-12-31_1997-12-31_LONS_144_149_LATS_-16_-23_DEPTHS_0-3_1.json\n",
      "VARS_so_DATES_1996-12-31_1997-12-31_LONS_144_149_LATS_-16_-23_DEPTHS_0-3_1 written to /lustre_scratch/orlando-code/datasets/global_ocean_reanalysis/monthly_means/Great_Barrier_Reef_B/so and metadata generated.\n"
     ]
    },
    {
     "name": "stderr",
     "output_type": "stream",
     "text": []
    },
    {
     "name": "stdout",
     "output_type": "stream",
     "text": [
      "2023-06-23 17:38:19.717 [ INFO] Asynchronous mode set\n",
      "2023-06-23 17:38:19.717 [ INFO] Authenticating user otimmerman for service https://my.cmems-du.eu/motu-web/Motu\n",
      "2023-06-23 17:38:20.423 [ INFO] Requesting file to download (this can take a while)...\n",
      "2023-06-23 17:38:25.838 [ INFO] Authenticating user otimmerman for service https://my.cmems-du.eu/motu-web/Motu\n",
      "2023-06-23 17:38:31.956 [ INFO] The product is ready for download\n",
      "2023-06-23 17:38:31.956 [ INFO] Downloading file (this can take a while)...\n",
      "2023-06-23 17:38:32.136 [ INFO] File type: application/x-netcdf\n",
      "2023-06-23 17:38:32.136 [ INFO] File size: 128.1 kB (128084 B)\n",
      "2023-06-23 17:38:32.136 [ INFO] Downloading file /lustre_scratch/orlando-code/datasets/global_ocean_reanalysis/monthly_means/Great_Barrier_Reef_B/so/VARS_so_DATES_1997-12-31_1998-12-31_LONS_144_149_LATS_-16_-23_DEPTHS_0-3_1.nc\n",
      "2023-06-23 17:38:32.165 [ INFO] - 128.1 kB (51.2%)\n",
      "2023-06-23 17:38:32.194 [ INFO] - 128.1 kB (100.0%)\n",
      "2023-06-23 17:38:32.194 [ INFO] Processing  time : 0:00:12.419719\n",
      "2023-06-23 17:38:32.195 [ INFO] Downloading time : 0:00:00.058498\n",
      "2023-06-23 17:38:32.195 [ INFO] Total time       : 0:00:12.478217\n",
      "2023-06-23 17:38:32.195 [ INFO] Download rate    : 538.2 kB/s\n",
      "2023-06-23 17:38:32.197 [ INFO] Done\n",
      "\n",
      "Dictionary saved as json file at /lustre_scratch/orlando-code/datasets/global_ocean_reanalysis/monthly_means/Great_Barrier_Reef_B/so/VARS_so_DATES_1997-12-31_1998-12-31_LONS_144_149_LATS_-16_-23_DEPTHS_0-3_1.json\n",
      "VARS_so_DATES_1997-12-31_1998-12-31_LONS_144_149_LATS_-16_-23_DEPTHS_0-3_1 written to /lustre_scratch/orlando-code/datasets/global_ocean_reanalysis/monthly_means/Great_Barrier_Reef_B/so and metadata generated.\n"
     ]
    },
    {
     "name": "stderr",
     "output_type": "stream",
     "text": []
    },
    {
     "name": "stdout",
     "output_type": "stream",
     "text": [
      "2023-06-23 17:38:33.853 [ INFO] Asynchronous mode set\n",
      "2023-06-23 17:38:33.854 [ INFO] Authenticating user otimmerman for service https://my.cmems-du.eu/motu-web/Motu\n",
      "2023-06-23 17:38:34.554 [ INFO] Requesting file to download (this can take a while)...\n",
      "2023-06-23 17:38:39.981 [ INFO] Authenticating user otimmerman for service https://my.cmems-du.eu/motu-web/Motu\n",
      "2023-06-23 17:38:47.887 [ INFO] The product is ready for download\n",
      "2023-06-23 17:38:47.887 [ INFO] Downloading file (this can take a while)...\n",
      "2023-06-23 17:38:48.039 [ INFO] File type: application/x-netcdf\n",
      "2023-06-23 17:38:48.039 [ INFO] File size: 128.1 kB (128084 B)\n",
      "2023-06-23 17:38:48.039 [ INFO] Downloading file /lustre_scratch/orlando-code/datasets/global_ocean_reanalysis/monthly_means/Great_Barrier_Reef_B/so/VARS_so_DATES_1998-12-31_1999-12-31_LONS_144_149_LATS_-16_-23_DEPTHS_0-3_1.nc\n",
      "2023-06-23 17:38:48.099 [ INFO] - 128.1 kB (51.2%)\n",
      "2023-06-23 17:38:48.128 [ INFO] - 128.1 kB (100.0%)\n",
      "2023-06-23 17:38:48.128 [ INFO] Processing  time : 0:00:14.185626\n",
      "2023-06-23 17:38:48.128 [ INFO] Downloading time : 0:00:00.089122\n",
      "2023-06-23 17:38:48.128 [ INFO] Total time       : 0:00:14.274748\n",
      "2023-06-23 17:38:48.128 [ INFO] Download rate    : 532.4 kB/s\n",
      "2023-06-23 17:38:48.130 [ INFO] Done\n",
      "\n",
      "Dictionary saved as json file at /lustre_scratch/orlando-code/datasets/global_ocean_reanalysis/monthly_means/Great_Barrier_Reef_B/so/VARS_so_DATES_1998-12-31_1999-12-31_LONS_144_149_LATS_-16_-23_DEPTHS_0-3_1.json\n",
      "VARS_so_DATES_1998-12-31_1999-12-31_LONS_144_149_LATS_-16_-23_DEPTHS_0-3_1 written to /lustre_scratch/orlando-code/datasets/global_ocean_reanalysis/monthly_means/Great_Barrier_Reef_B/so and metadata generated.\n"
     ]
    },
    {
     "name": "stderr",
     "output_type": "stream",
     "text": []
    },
    {
     "name": "stdout",
     "output_type": "stream",
     "text": [
      "2023-06-23 17:38:49.784 [ INFO] Asynchronous mode set\n",
      "2023-06-23 17:38:49.784 [ INFO] Authenticating user otimmerman for service https://my.cmems-du.eu/motu-web/Motu\n",
      "2023-06-23 17:38:50.479 [ INFO] Requesting file to download (this can take a while)...\n",
      "2023-06-23 17:38:55.902 [ INFO] Authenticating user otimmerman for service https://my.cmems-du.eu/motu-web/Motu\n",
      "2023-06-23 17:39:02.894 [ INFO] The product is ready for download\n",
      "2023-06-23 17:39:02.894 [ INFO] Downloading file (this can take a while)...\n",
      "2023-06-23 17:39:03.048 [ INFO] File type: application/x-netcdf\n",
      "2023-06-23 17:39:03.048 [ INFO] File size: 128.1 kB (128084 B)\n",
      "2023-06-23 17:39:03.048 [ INFO] Downloading file /lustre_scratch/orlando-code/datasets/global_ocean_reanalysis/monthly_means/Great_Barrier_Reef_B/so/VARS_so_DATES_1999-12-31_2000-12-31_LONS_144_149_LATS_-16_-23_DEPTHS_0-3_1.nc\n",
      "2023-06-23 17:39:03.107 [ INFO] - 128.1 kB (51.2%)\n",
      "2023-06-23 17:39:03.137 [ INFO] - 128.1 kB (100.0%)\n",
      "2023-06-23 17:39:03.137 [ INFO] Processing  time : 0:00:13.264435\n",
      "2023-06-23 17:39:03.137 [ INFO] Downloading time : 0:00:00.088721\n",
      "2023-06-23 17:39:03.137 [ INFO] Total time       : 0:00:13.353156\n",
      "2023-06-23 17:39:03.137 [ INFO] Download rate    : 527.5 kB/s\n",
      "2023-06-23 17:39:03.139 [ INFO] Done\n",
      "\n",
      "Dictionary saved as json file at /lustre_scratch/orlando-code/datasets/global_ocean_reanalysis/monthly_means/Great_Barrier_Reef_B/so/VARS_so_DATES_1999-12-31_2000-12-31_LONS_144_149_LATS_-16_-23_DEPTHS_0-3_1.json\n",
      "VARS_so_DATES_1999-12-31_2000-12-31_LONS_144_149_LATS_-16_-23_DEPTHS_0-3_1 written to /lustre_scratch/orlando-code/datasets/global_ocean_reanalysis/monthly_means/Great_Barrier_Reef_B/so and metadata generated.\n"
     ]
    },
    {
     "name": "stderr",
     "output_type": "stream",
     "text": []
    },
    {
     "name": "stdout",
     "output_type": "stream",
     "text": [
      "2023-06-23 17:39:04.751 [ INFO] Asynchronous mode set\n",
      "2023-06-23 17:39:04.751 [ INFO] Authenticating user otimmerman for service https://my.cmems-du.eu/motu-web/Motu\n",
      "2023-06-23 17:39:06.090 [ INFO] Requesting file to download (this can take a while)...\n",
      "2023-06-23 17:39:11.504 [ INFO] Authenticating user otimmerman for service https://my.cmems-du.eu/motu-web/Motu\n",
      "2023-06-23 17:39:18.001 [ INFO] Product is not yet available (request in progress)\n",
      "2023-06-23 17:39:28.011 [ INFO] Authenticating user otimmerman for service https://my.cmems-du.eu/motu-web/Motu\n",
      "2023-06-23 17:39:34.499 [ INFO] The product is ready for download\n",
      "2023-06-23 17:39:34.500 [ INFO] Downloading file (this can take a while)...\n",
      "2023-06-23 17:39:34.650 [ INFO] File type: application/x-netcdf\n",
      "2023-06-23 17:39:34.650 [ INFO] File size: 128.1 kB (128084 B)\n",
      "2023-06-23 17:39:34.651 [ INFO] Downloading file /lustre_scratch/orlando-code/datasets/global_ocean_reanalysis/monthly_means/Great_Barrier_Reef_B/so/VARS_so_DATES_2000-12-31_2001-12-31_LONS_144_149_LATS_-16_-23_DEPTHS_0-3_1.nc\n",
      "2023-06-23 17:39:34.709 [ INFO] - 128.1 kB (51.2%)\n",
      "2023-06-23 17:39:34.740 [ INFO] - 128.1 kB (100.0%)\n",
      "2023-06-23 17:39:34.740 [ INFO] Processing  time : 0:00:29.899914\n",
      "2023-06-23 17:39:34.740 [ INFO] Downloading time : 0:00:00.089723\n",
      "2023-06-23 17:39:34.740 [ INFO] Total time       : 0:00:29.989637\n",
      "2023-06-23 17:39:34.740 [ INFO] Download rate    : 532.1 kB/s\n",
      "2023-06-23 17:39:34.743 [ INFO] Done\n",
      "\n",
      "Dictionary saved as json file at /lustre_scratch/orlando-code/datasets/global_ocean_reanalysis/monthly_means/Great_Barrier_Reef_B/so/VARS_so_DATES_2000-12-31_2001-12-31_LONS_144_149_LATS_-16_-23_DEPTHS_0-3_1.json\n",
      "VARS_so_DATES_2000-12-31_2001-12-31_LONS_144_149_LATS_-16_-23_DEPTHS_0-3_1 written to /lustre_scratch/orlando-code/datasets/global_ocean_reanalysis/monthly_means/Great_Barrier_Reef_B/so and metadata generated.\n"
     ]
    },
    {
     "name": "stderr",
     "output_type": "stream",
     "text": []
    },
    {
     "name": "stdout",
     "output_type": "stream",
     "text": [
      "2023-06-23 17:39:36.369 [ INFO] Asynchronous mode set\n",
      "2023-06-23 17:39:36.369 [ INFO] Authenticating user otimmerman for service https://my.cmems-du.eu/motu-web/Motu\n",
      "2023-06-23 17:39:37.064 [ INFO] Requesting file to download (this can take a while)...\n",
      "2023-06-23 17:39:42.486 [ INFO] Authenticating user otimmerman for service https://my.cmems-du.eu/motu-web/Motu\n",
      "2023-06-23 17:39:48.587 [ INFO] The product is ready for download\n",
      "2023-06-23 17:39:48.587 [ INFO] Downloading file (this can take a while)...\n",
      "2023-06-23 17:39:48.737 [ INFO] File type: application/x-netcdf\n",
      "2023-06-23 17:39:48.737 [ INFO] File size: 128.1 kB (128084 B)\n",
      "2023-06-23 17:39:48.738 [ INFO] Downloading file /lustre_scratch/orlando-code/datasets/global_ocean_reanalysis/monthly_means/Great_Barrier_Reef_B/so/VARS_so_DATES_2001-12-31_2002-12-31_LONS_144_149_LATS_-16_-23_DEPTHS_0-3_1.nc\n",
      "2023-06-23 17:39:48.797 [ INFO] - 128.1 kB (51.2%)\n",
      "2023-06-23 17:39:48.826 [ INFO] - 128.1 kB (100.0%)\n",
      "2023-06-23 17:39:48.826 [ INFO] Processing  time : 0:00:12.368922\n",
      "2023-06-23 17:39:48.827 [ INFO] Downloading time : 0:00:00.088866\n",
      "2023-06-23 17:39:48.827 [ INFO] Total time       : 0:00:12.457788\n",
      "2023-06-23 17:39:48.827 [ INFO] Download rate    : 536.1 kB/s\n",
      "2023-06-23 17:39:48.829 [ INFO] Done\n",
      "\n",
      "Dictionary saved as json file at /lustre_scratch/orlando-code/datasets/global_ocean_reanalysis/monthly_means/Great_Barrier_Reef_B/so/VARS_so_DATES_2001-12-31_2002-12-31_LONS_144_149_LATS_-16_-23_DEPTHS_0-3_1.json\n",
      "VARS_so_DATES_2001-12-31_2002-12-31_LONS_144_149_LATS_-16_-23_DEPTHS_0-3_1 written to /lustre_scratch/orlando-code/datasets/global_ocean_reanalysis/monthly_means/Great_Barrier_Reef_B/so and metadata generated.\n"
     ]
    },
    {
     "name": "stderr",
     "output_type": "stream",
     "text": []
    },
    {
     "name": "stdout",
     "output_type": "stream",
     "text": [
      "2023-06-23 17:39:50.434 [ INFO] Asynchronous mode set\n",
      "2023-06-23 17:39:50.434 [ INFO] Authenticating user otimmerman for service https://my.cmems-du.eu/motu-web/Motu\n",
      "2023-06-23 17:39:52.597 [ INFO] Requesting file to download (this can take a while)...\n",
      "2023-06-23 17:39:58.098 [ INFO] Authenticating user otimmerman for service https://my.cmems-du.eu/motu-web/Motu\n",
      "2023-06-23 17:40:04.218 [ INFO] The product is ready for download\n",
      "2023-06-23 17:40:04.218 [ INFO] Downloading file (this can take a while)...\n",
      "2023-06-23 17:40:04.404 [ INFO] File type: application/x-netcdf\n",
      "2023-06-23 17:40:04.404 [ INFO] File size: 128.1 kB (128084 B)\n",
      "2023-06-23 17:40:04.404 [ INFO] Downloading file /lustre_scratch/orlando-code/datasets/global_ocean_reanalysis/monthly_means/Great_Barrier_Reef_B/so/VARS_so_DATES_2002-12-31_2003-12-31_LONS_144_149_LATS_-16_-23_DEPTHS_0-3_1.nc\n",
      "2023-06-23 17:40:04.433 [ INFO] - 128.1 kB (51.2%)\n",
      "2023-06-23 17:40:04.462 [ INFO] - 128.1 kB (100.0%)\n",
      "2023-06-23 17:40:04.462 [ INFO] Processing  time : 0:00:13.970800\n",
      "2023-06-23 17:40:04.462 [ INFO] Downloading time : 0:00:00.058116\n",
      "2023-06-23 17:40:04.462 [ INFO] Total time       : 0:00:14.028916\n",
      "2023-06-23 17:40:04.462 [ INFO] Download rate    : 524.7 kB/s\n",
      "2023-06-23 17:40:04.465 [ INFO] Done\n",
      "\n",
      "Dictionary saved as json file at /lustre_scratch/orlando-code/datasets/global_ocean_reanalysis/monthly_means/Great_Barrier_Reef_B/so/VARS_so_DATES_2002-12-31_2003-12-31_LONS_144_149_LATS_-16_-23_DEPTHS_0-3_1.json\n",
      "VARS_so_DATES_2002-12-31_2003-12-31_LONS_144_149_LATS_-16_-23_DEPTHS_0-3_1 written to /lustre_scratch/orlando-code/datasets/global_ocean_reanalysis/monthly_means/Great_Barrier_Reef_B/so and metadata generated.\n"
     ]
    },
    {
     "name": "stderr",
     "output_type": "stream",
     "text": []
    },
    {
     "name": "stdout",
     "output_type": "stream",
     "text": [
      "2023-06-23 17:40:06.055 [ INFO] Asynchronous mode set\n",
      "2023-06-23 17:40:06.055 [ INFO] Authenticating user otimmerman for service https://my.cmems-du.eu/motu-web/Motu\n",
      "2023-06-23 17:40:06.771 [ INFO] Requesting file to download (this can take a while)...\n",
      "2023-06-23 17:40:12.193 [ INFO] Authenticating user otimmerman for service https://my.cmems-du.eu/motu-web/Motu\n",
      "2023-06-23 17:40:18.298 [ INFO] The product is ready for download\n",
      "2023-06-23 17:40:18.298 [ INFO] Downloading file (this can take a while)...\n",
      "2023-06-23 17:40:18.447 [ INFO] File type: application/x-netcdf\n",
      "2023-06-23 17:40:18.447 [ INFO] File size: 128.1 kB (128084 B)\n",
      "2023-06-23 17:40:18.447 [ INFO] Downloading file /lustre_scratch/orlando-code/datasets/global_ocean_reanalysis/monthly_means/Great_Barrier_Reef_B/so/VARS_so_DATES_2003-12-31_2004-12-31_LONS_144_149_LATS_-16_-23_DEPTHS_0-3_1.nc\n",
      "2023-06-23 17:40:18.506 [ INFO] - 128.1 kB (51.2%)\n",
      "2023-06-23 17:40:18.536 [ INFO] - 128.1 kB (100.0%)\n",
      "2023-06-23 17:40:18.536 [ INFO] Processing  time : 0:00:12.393188\n",
      "2023-06-23 17:40:18.536 [ INFO] Downloading time : 0:00:00.088304\n",
      "2023-06-23 17:40:18.536 [ INFO] Total time       : 0:00:12.481492\n",
      "2023-06-23 17:40:18.536 [ INFO] Download rate    : 539.8 kB/s\n",
      "2023-06-23 17:40:18.538 [ INFO] Done\n",
      "\n",
      "Dictionary saved as json file at /lustre_scratch/orlando-code/datasets/global_ocean_reanalysis/monthly_means/Great_Barrier_Reef_B/so/VARS_so_DATES_2003-12-31_2004-12-31_LONS_144_149_LATS_-16_-23_DEPTHS_0-3_1.json\n",
      "VARS_so_DATES_2003-12-31_2004-12-31_LONS_144_149_LATS_-16_-23_DEPTHS_0-3_1 written to /lustre_scratch/orlando-code/datasets/global_ocean_reanalysis/monthly_means/Great_Barrier_Reef_B/so and metadata generated.\n"
     ]
    },
    {
     "name": "stderr",
     "output_type": "stream",
     "text": []
    },
    {
     "name": "stdout",
     "output_type": "stream",
     "text": [
      "2023-06-23 17:40:20.165 [ INFO] Asynchronous mode set\n",
      "2023-06-23 17:40:20.165 [ INFO] Authenticating user otimmerman for service https://my.cmems-du.eu/motu-web/Motu\n",
      "2023-06-23 17:40:21.824 [ INFO] Requesting file to download (this can take a while)...\n",
      "2023-06-23 17:40:27.239 [ INFO] Authenticating user otimmerman for service https://my.cmems-du.eu/motu-web/Motu\n",
      "2023-06-23 17:40:34.290 [ INFO] The product is ready for download\n",
      "2023-06-23 17:40:34.290 [ INFO] Downloading file (this can take a while)...\n",
      "2023-06-23 17:40:34.445 [ INFO] File type: application/x-netcdf\n",
      "2023-06-23 17:40:34.445 [ INFO] File size: 128.1 kB (128084 B)\n",
      "2023-06-23 17:40:34.445 [ INFO] Downloading file /lustre_scratch/orlando-code/datasets/global_ocean_reanalysis/monthly_means/Great_Barrier_Reef_B/so/VARS_so_DATES_2004-12-31_2005-12-31_LONS_144_149_LATS_-16_-23_DEPTHS_0-3_1.nc\n",
      "2023-06-23 17:40:34.505 [ INFO] - 128.1 kB (51.2%)\n",
      "2023-06-23 17:40:34.535 [ INFO] - 128.1 kB (100.0%)\n",
      "2023-06-23 17:40:34.535 [ INFO] Processing  time : 0:00:14.280581\n",
      "2023-06-23 17:40:34.535 [ INFO] Downloading time : 0:00:00.090075\n",
      "2023-06-23 17:40:34.535 [ INFO] Total time       : 0:00:14.370656\n",
      "2023-06-23 17:40:34.535 [ INFO] Download rate    : 524.3 kB/s\n",
      "2023-06-23 17:40:34.537 [ INFO] Done\n",
      "\n",
      "Dictionary saved as json file at /lustre_scratch/orlando-code/datasets/global_ocean_reanalysis/monthly_means/Great_Barrier_Reef_B/so/VARS_so_DATES_2004-12-31_2005-12-31_LONS_144_149_LATS_-16_-23_DEPTHS_0-3_1.json\n",
      "VARS_so_DATES_2004-12-31_2005-12-31_LONS_144_149_LATS_-16_-23_DEPTHS_0-3_1 written to /lustre_scratch/orlando-code/datasets/global_ocean_reanalysis/monthly_means/Great_Barrier_Reef_B/so and metadata generated.\n"
     ]
    },
    {
     "name": "stderr",
     "output_type": "stream",
     "text": []
    },
    {
     "name": "stdout",
     "output_type": "stream",
     "text": [
      "2023-06-23 17:40:36.132 [ INFO] Asynchronous mode set\n",
      "2023-06-23 17:40:36.133 [ INFO] Authenticating user otimmerman for service https://my.cmems-du.eu/motu-web/Motu\n",
      "2023-06-23 17:40:36.855 [ INFO] Requesting file to download (this can take a while)...\n",
      "2023-06-23 17:40:42.413 [ INFO] Authenticating user otimmerman for service https://my.cmems-du.eu/motu-web/Motu\n",
      "2023-06-23 17:40:49.969 [ INFO] The product is ready for download\n",
      "2023-06-23 17:40:49.970 [ INFO] Downloading file (this can take a while)...\n",
      "2023-06-23 17:40:50.121 [ INFO] File type: application/x-netcdf\n",
      "2023-06-23 17:40:50.121 [ INFO] File size: 128.1 kB (128084 B)\n",
      "2023-06-23 17:40:50.121 [ INFO] Downloading file /lustre_scratch/orlando-code/datasets/global_ocean_reanalysis/monthly_means/Great_Barrier_Reef_B/so/VARS_so_DATES_2005-12-31_2006-12-31_LONS_144_149_LATS_-16_-23_DEPTHS_0-3_1.nc\n",
      "2023-06-23 17:40:50.181 [ INFO] - 128.1 kB (51.2%)\n",
      "2023-06-23 17:40:50.211 [ INFO] - 128.1 kB (100.0%)\n",
      "2023-06-23 17:40:50.211 [ INFO] Processing  time : 0:00:13.989290\n",
      "2023-06-23 17:40:50.211 [ INFO] Downloading time : 0:00:00.090046\n",
      "2023-06-23 17:40:50.211 [ INFO] Total time       : 0:00:14.079336\n",
      "2023-06-23 17:40:50.211 [ INFO] Download rate    : 529.8 kB/s\n",
      "2023-06-23 17:40:50.214 [ INFO] Done\n",
      "\n",
      "Dictionary saved as json file at /lustre_scratch/orlando-code/datasets/global_ocean_reanalysis/monthly_means/Great_Barrier_Reef_B/so/VARS_so_DATES_2005-12-31_2006-12-31_LONS_144_149_LATS_-16_-23_DEPTHS_0-3_1.json\n",
      "VARS_so_DATES_2005-12-31_2006-12-31_LONS_144_149_LATS_-16_-23_DEPTHS_0-3_1 written to /lustre_scratch/orlando-code/datasets/global_ocean_reanalysis/monthly_means/Great_Barrier_Reef_B/so and metadata generated.\n"
     ]
    },
    {
     "name": "stderr",
     "output_type": "stream",
     "text": []
    },
    {
     "name": "stdout",
     "output_type": "stream",
     "text": [
      "2023-06-23 17:40:51.845 [ INFO] Asynchronous mode set\n",
      "2023-06-23 17:40:51.845 [ INFO] Authenticating user otimmerman for service https://my.cmems-du.eu/motu-web/Motu\n",
      "2023-06-23 17:40:52.548 [ INFO] Requesting file to download (this can take a while)...\n",
      "2023-06-23 17:40:57.970 [ INFO] Authenticating user otimmerman for service https://my.cmems-du.eu/motu-web/Motu\n",
      "2023-06-23 17:41:04.084 [ INFO] The product is ready for download\n",
      "2023-06-23 17:41:04.085 [ INFO] Downloading file (this can take a while)...\n",
      "2023-06-23 17:41:04.234 [ INFO] File type: application/x-netcdf\n",
      "2023-06-23 17:41:04.234 [ INFO] File size: 128.1 kB (128084 B)\n",
      "2023-06-23 17:41:04.234 [ INFO] Downloading file /lustre_scratch/orlando-code/datasets/global_ocean_reanalysis/monthly_means/Great_Barrier_Reef_B/so/VARS_so_DATES_2006-12-31_2007-12-31_LONS_144_149_LATS_-16_-23_DEPTHS_0-3_1.nc\n",
      "2023-06-23 17:41:04.293 [ INFO] - 128.1 kB (51.2%)\n",
      "2023-06-23 17:41:04.323 [ INFO] - 128.1 kB (100.0%)\n",
      "2023-06-23 17:41:04.323 [ INFO] Processing  time : 0:00:12.389874\n",
      "2023-06-23 17:41:04.323 [ INFO] Downloading time : 0:00:00.088680\n",
      "2023-06-23 17:41:04.323 [ INFO] Total time       : 0:00:12.478554\n",
      "2023-06-23 17:41:04.323 [ INFO] Download rate    : 537.4 kB/s\n",
      "2023-06-23 17:41:04.326 [ INFO] Done\n",
      "\n",
      "Dictionary saved as json file at /lustre_scratch/orlando-code/datasets/global_ocean_reanalysis/monthly_means/Great_Barrier_Reef_B/so/VARS_so_DATES_2006-12-31_2007-12-31_LONS_144_149_LATS_-16_-23_DEPTHS_0-3_1.json\n",
      "VARS_so_DATES_2006-12-31_2007-12-31_LONS_144_149_LATS_-16_-23_DEPTHS_0-3_1 written to /lustre_scratch/orlando-code/datasets/global_ocean_reanalysis/monthly_means/Great_Barrier_Reef_B/so and metadata generated.\n"
     ]
    },
    {
     "name": "stderr",
     "output_type": "stream",
     "text": []
    },
    {
     "name": "stdout",
     "output_type": "stream",
     "text": [
      "2023-06-23 17:41:05.982 [ INFO] Asynchronous mode set\n",
      "2023-06-23 17:41:05.982 [ INFO] Authenticating user otimmerman for service https://my.cmems-du.eu/motu-web/Motu\n",
      "2023-06-23 17:41:07.509 [ INFO] Requesting file to download (this can take a while)...\n",
      "2023-06-23 17:41:12.930 [ INFO] Authenticating user otimmerman for service https://my.cmems-du.eu/motu-web/Motu\n",
      "2023-06-23 17:41:19.885 [ INFO] The product is ready for download\n",
      "2023-06-23 17:41:19.885 [ INFO] Downloading file (this can take a while)...\n",
      "2023-06-23 17:41:20.032 [ INFO] File type: application/x-netcdf\n",
      "2023-06-23 17:41:20.033 [ INFO] File size: 128.1 kB (128084 B)\n",
      "2023-06-23 17:41:20.033 [ INFO] Downloading file /lustre_scratch/orlando-code/datasets/global_ocean_reanalysis/monthly_means/Great_Barrier_Reef_B/so/VARS_so_DATES_2007-12-31_2008-12-31_LONS_144_149_LATS_-16_-23_DEPTHS_0-3_1.nc\n",
      "2023-06-23 17:41:20.091 [ INFO] - 128.1 kB (51.2%)\n",
      "2023-06-23 17:41:20.121 [ INFO] - 128.1 kB (100.0%)\n",
      "2023-06-23 17:41:20.121 [ INFO] Processing  time : 0:00:14.050889\n",
      "2023-06-23 17:41:20.122 [ INFO] Downloading time : 0:00:00.088853\n",
      "2023-06-23 17:41:20.122 [ INFO] Total time       : 0:00:14.139742\n",
      "2023-06-23 17:41:20.122 [ INFO] Download rate    : 541.8 kB/s\n",
      "2023-06-23 17:41:20.124 [ INFO] Done\n",
      "\n",
      "Dictionary saved as json file at /lustre_scratch/orlando-code/datasets/global_ocean_reanalysis/monthly_means/Great_Barrier_Reef_B/so/VARS_so_DATES_2007-12-31_2008-12-31_LONS_144_149_LATS_-16_-23_DEPTHS_0-3_1.json\n",
      "VARS_so_DATES_2007-12-31_2008-12-31_LONS_144_149_LATS_-16_-23_DEPTHS_0-3_1 written to /lustre_scratch/orlando-code/datasets/global_ocean_reanalysis/monthly_means/Great_Barrier_Reef_B/so and metadata generated.\n"
     ]
    },
    {
     "name": "stderr",
     "output_type": "stream",
     "text": []
    },
    {
     "name": "stdout",
     "output_type": "stream",
     "text": [
      "2023-06-23 17:41:21.757 [ INFO] Asynchronous mode set\n",
      "2023-06-23 17:41:21.757 [ INFO] Authenticating user otimmerman for service https://my.cmems-du.eu/motu-web/Motu\n",
      "2023-06-23 17:41:22.459 [ INFO] Requesting file to download (this can take a while)...\n",
      "2023-06-23 17:41:27.890 [ INFO] Authenticating user otimmerman for service https://my.cmems-du.eu/motu-web/Motu\n",
      "2023-06-23 17:41:34.180 [ INFO] Product is not yet available (request in progress)\n",
      "2023-06-23 17:41:44.190 [ INFO] Authenticating user otimmerman for service https://my.cmems-du.eu/motu-web/Motu\n",
      "2023-06-23 17:41:50.520 [ INFO] The product is ready for download\n",
      "2023-06-23 17:41:50.521 [ INFO] Downloading file (this can take a while)...\n",
      "2023-06-23 17:41:50.671 [ INFO] File type: application/x-netcdf\n",
      "2023-06-23 17:41:50.671 [ INFO] File size: 128.1 kB (128084 B)\n",
      "2023-06-23 17:41:50.671 [ INFO] Downloading file /lustre_scratch/orlando-code/datasets/global_ocean_reanalysis/monthly_means/Great_Barrier_Reef_B/so/VARS_so_DATES_2008-12-31_2009-12-31_LONS_144_149_LATS_-16_-23_DEPTHS_0-3_1.nc\n",
      "2023-06-23 17:41:50.731 [ INFO] - 128.1 kB (51.2%)\n",
      "2023-06-23 17:41:50.760 [ INFO] - 128.1 kB (100.0%)\n",
      "2023-06-23 17:41:50.760 [ INFO] Processing  time : 0:00:28.914597\n",
      "2023-06-23 17:41:50.760 [ INFO] Downloading time : 0:00:00.088647\n",
      "2023-06-23 17:41:50.760 [ INFO] Total time       : 0:00:29.003244\n",
      "2023-06-23 17:41:50.760 [ INFO] Download rate    : 534.7 kB/s\n",
      "2023-06-23 17:41:50.763 [ INFO] Done\n",
      "\n",
      "Dictionary saved as json file at /lustre_scratch/orlando-code/datasets/global_ocean_reanalysis/monthly_means/Great_Barrier_Reef_B/so/VARS_so_DATES_2008-12-31_2009-12-31_LONS_144_149_LATS_-16_-23_DEPTHS_0-3_1.json\n",
      "VARS_so_DATES_2008-12-31_2009-12-31_LONS_144_149_LATS_-16_-23_DEPTHS_0-3_1 written to /lustre_scratch/orlando-code/datasets/global_ocean_reanalysis/monthly_means/Great_Barrier_Reef_B/so and metadata generated.\n"
     ]
    },
    {
     "name": "stderr",
     "output_type": "stream",
     "text": []
    },
    {
     "name": "stdout",
     "output_type": "stream",
     "text": [
      "2023-06-23 17:41:52.391 [ INFO] Asynchronous mode set\n",
      "2023-06-23 17:41:52.391 [ INFO] Authenticating user otimmerman for service https://my.cmems-du.eu/motu-web/Motu\n",
      "2023-06-23 17:41:53.089 [ INFO] Requesting file to download (this can take a while)...\n",
      "2023-06-23 17:41:58.554 [ INFO] Authenticating user otimmerman for service https://my.cmems-du.eu/motu-web/Motu\n",
      "2023-06-23 17:42:04.677 [ INFO] The product is ready for download\n",
      "2023-06-23 17:42:04.677 [ INFO] Downloading file (this can take a while)...\n",
      "2023-06-23 17:42:04.856 [ INFO] File type: application/x-netcdf\n",
      "2023-06-23 17:42:04.857 [ INFO] File size: 128.1 kB (128084 B)\n",
      "2023-06-23 17:42:04.857 [ INFO] Downloading file /lustre_scratch/orlando-code/datasets/global_ocean_reanalysis/monthly_means/Great_Barrier_Reef_B/so/VARS_so_DATES_2009-12-31_2010-12-31_LONS_144_149_LATS_-16_-23_DEPTHS_0-3_1.nc\n",
      "2023-06-23 17:42:04.887 [ INFO] - 128.1 kB (51.2%)\n",
      "2023-06-23 17:42:04.917 [ INFO] - 128.1 kB (100.0%)\n",
      "2023-06-23 17:42:04.917 [ INFO] Processing  time : 0:00:12.466115\n",
      "2023-06-23 17:42:04.917 [ INFO] Downloading time : 0:00:00.060631\n",
      "2023-06-23 17:42:04.917 [ INFO] Total time       : 0:00:12.526746\n",
      "2023-06-23 17:42:04.917 [ INFO] Download rate    : 533.8 kB/s\n",
      "2023-06-23 17:42:04.920 [ INFO] Done\n",
      "\n",
      "Dictionary saved as json file at /lustre_scratch/orlando-code/datasets/global_ocean_reanalysis/monthly_means/Great_Barrier_Reef_B/so/VARS_so_DATES_2009-12-31_2010-12-31_LONS_144_149_LATS_-16_-23_DEPTHS_0-3_1.json\n",
      "VARS_so_DATES_2009-12-31_2010-12-31_LONS_144_149_LATS_-16_-23_DEPTHS_0-3_1 written to /lustre_scratch/orlando-code/datasets/global_ocean_reanalysis/monthly_means/Great_Barrier_Reef_B/so and metadata generated.\n"
     ]
    },
    {
     "name": "stderr",
     "output_type": "stream",
     "text": []
    },
    {
     "name": "stdout",
     "output_type": "stream",
     "text": [
      "2023-06-23 17:42:06.555 [ INFO] Asynchronous mode set\n",
      "2023-06-23 17:42:06.555 [ INFO] Authenticating user otimmerman for service https://my.cmems-du.eu/motu-web/Motu\n",
      "2023-06-23 17:42:08.372 [ INFO] Requesting file to download (this can take a while)...\n",
      "2023-06-23 17:42:13.906 [ INFO] Authenticating user otimmerman for service https://my.cmems-du.eu/motu-web/Motu\n",
      "2023-06-23 17:42:21.405 [ INFO] The product is ready for download\n",
      "2023-06-23 17:42:21.405 [ INFO] Downloading file (this can take a while)...\n",
      "2023-06-23 17:42:21.558 [ INFO] File type: application/x-netcdf\n",
      "2023-06-23 17:42:21.558 [ INFO] File size: 128.1 kB (128084 B)\n",
      "2023-06-23 17:42:21.558 [ INFO] Downloading file /lustre_scratch/orlando-code/datasets/global_ocean_reanalysis/monthly_means/Great_Barrier_Reef_B/so/VARS_so_DATES_2010-12-31_2011-12-31_LONS_144_149_LATS_-16_-23_DEPTHS_0-3_1.nc\n",
      "2023-06-23 17:42:21.618 [ INFO] - 128.1 kB (51.2%)\n",
      "2023-06-23 17:42:21.648 [ INFO] - 128.1 kB (100.0%)\n",
      "2023-06-23 17:42:21.648 [ INFO] Processing  time : 0:00:15.003472\n",
      "2023-06-23 17:42:21.648 [ INFO] Downloading time : 0:00:00.090048\n",
      "2023-06-23 17:42:21.648 [ INFO] Total time       : 0:00:15.093520\n",
      "2023-06-23 17:42:21.648 [ INFO] Download rate    : 527.2 kB/s\n",
      "2023-06-23 17:42:21.650 [ INFO] Done\n",
      "\n",
      "Dictionary saved as json file at /lustre_scratch/orlando-code/datasets/global_ocean_reanalysis/monthly_means/Great_Barrier_Reef_B/so/VARS_so_DATES_2010-12-31_2011-12-31_LONS_144_149_LATS_-16_-23_DEPTHS_0-3_1.json\n",
      "VARS_so_DATES_2010-12-31_2011-12-31_LONS_144_149_LATS_-16_-23_DEPTHS_0-3_1 written to /lustre_scratch/orlando-code/datasets/global_ocean_reanalysis/monthly_means/Great_Barrier_Reef_B/so and metadata generated.\n"
     ]
    },
    {
     "name": "stderr",
     "output_type": "stream",
     "text": []
    },
    {
     "name": "stdout",
     "output_type": "stream",
     "text": [
      "2023-06-23 17:42:23.264 [ INFO] Asynchronous mode set\n",
      "2023-06-23 17:42:23.265 [ INFO] Authenticating user otimmerman for service https://my.cmems-du.eu/motu-web/Motu\n",
      "2023-06-23 17:42:23.963 [ INFO] Requesting file to download (this can take a while)...\n",
      "2023-06-23 17:42:29.374 [ INFO] Authenticating user otimmerman for service https://my.cmems-du.eu/motu-web/Motu\n",
      "2023-06-23 17:42:35.506 [ INFO] The product is ready for download\n",
      "2023-06-23 17:42:35.506 [ INFO] Downloading file (this can take a while)...\n",
      "2023-06-23 17:42:35.656 [ INFO] File type: application/x-netcdf\n",
      "2023-06-23 17:42:35.656 [ INFO] File size: 128.1 kB (128084 B)\n",
      "2023-06-23 17:42:35.656 [ INFO] Downloading file /lustre_scratch/orlando-code/datasets/global_ocean_reanalysis/monthly_means/Great_Barrier_Reef_B/so/VARS_so_DATES_2011-12-31_2012-12-31_LONS_144_149_LATS_-16_-23_DEPTHS_0-3_1.nc\n",
      "2023-06-23 17:42:35.715 [ INFO] - 128.1 kB (51.2%)\n",
      "2023-06-23 17:42:35.746 [ INFO] - 128.1 kB (100.0%)\n",
      "2023-06-23 17:42:35.746 [ INFO] Processing  time : 0:00:12.392153\n",
      "2023-06-23 17:42:35.747 [ INFO] Downloading time : 0:00:00.090322\n",
      "2023-06-23 17:42:35.747 [ INFO] Total time       : 0:00:12.482475\n",
      "2023-06-23 17:42:35.747 [ INFO] Download rate    : 532.3 kB/s\n",
      "2023-06-23 17:42:35.749 [ INFO] Done\n",
      "\n",
      "Dictionary saved as json file at /lustre_scratch/orlando-code/datasets/global_ocean_reanalysis/monthly_means/Great_Barrier_Reef_B/so/VARS_so_DATES_2011-12-31_2012-12-31_LONS_144_149_LATS_-16_-23_DEPTHS_0-3_1.json\n",
      "VARS_so_DATES_2011-12-31_2012-12-31_LONS_144_149_LATS_-16_-23_DEPTHS_0-3_1 written to /lustre_scratch/orlando-code/datasets/global_ocean_reanalysis/monthly_means/Great_Barrier_Reef_B/so and metadata generated.\n"
     ]
    },
    {
     "name": "stderr",
     "output_type": "stream",
     "text": []
    },
    {
     "name": "stdout",
     "output_type": "stream",
     "text": [
      "2023-06-23 17:42:37.360 [ INFO] Asynchronous mode set\n",
      "2023-06-23 17:42:37.360 [ INFO] Authenticating user otimmerman for service https://my.cmems-du.eu/motu-web/Motu\n",
      "2023-06-23 17:42:39.321 [ INFO] Requesting file to download (this can take a while)...\n",
      "2023-06-23 17:42:44.797 [ INFO] Authenticating user otimmerman for service https://my.cmems-du.eu/motu-web/Motu\n",
      "2023-06-23 17:42:50.903 [ INFO] Product is not yet available (request in progress)\n",
      "2023-06-23 17:43:00.913 [ INFO] Authenticating user otimmerman for service https://my.cmems-du.eu/motu-web/Motu\n",
      "2023-06-23 17:43:07.356 [ INFO] Product is not yet available (request in progress)\n",
      "2023-06-23 17:43:17.366 [ INFO] Authenticating user otimmerman for service https://my.cmems-du.eu/motu-web/Motu\n",
      "2023-06-23 17:43:24.213 [ INFO] The product is ready for download\n",
      "2023-06-23 17:43:24.213 [ INFO] Downloading file (this can take a while)...\n",
      "2023-06-23 17:43:24.371 [ INFO] File type: application/x-netcdf\n",
      "2023-06-23 17:43:24.371 [ INFO] File size: 128.1 kB (128084 B)\n",
      "2023-06-23 17:43:24.371 [ INFO] Downloading file /lustre_scratch/orlando-code/datasets/global_ocean_reanalysis/monthly_means/Great_Barrier_Reef_B/so/VARS_so_DATES_2012-12-31_2013-12-31_LONS_144_149_LATS_-16_-23_DEPTHS_0-3_1.nc\n",
      "2023-06-23 17:43:24.431 [ INFO] - 128.1 kB (51.2%)\n",
      "2023-06-23 17:43:24.461 [ INFO] - 128.1 kB (100.0%)\n",
      "2023-06-23 17:43:24.461 [ INFO] Processing  time : 0:00:47.011955\n",
      "2023-06-23 17:43:24.461 [ INFO] Downloading time : 0:00:00.089765\n",
      "2023-06-23 17:43:24.461 [ INFO] Total time       : 0:00:47.101720\n",
      "2023-06-23 17:43:24.461 [ INFO] Download rate    : 516.4 kB/s\n",
      "2023-06-23 17:43:24.463 [ INFO] Done\n",
      "\n",
      "Dictionary saved as json file at /lustre_scratch/orlando-code/datasets/global_ocean_reanalysis/monthly_means/Great_Barrier_Reef_B/so/VARS_so_DATES_2012-12-31_2013-12-31_LONS_144_149_LATS_-16_-23_DEPTHS_0-3_1.json\n",
      "VARS_so_DATES_2012-12-31_2013-12-31_LONS_144_149_LATS_-16_-23_DEPTHS_0-3_1 written to /lustre_scratch/orlando-code/datasets/global_ocean_reanalysis/monthly_means/Great_Barrier_Reef_B/so and metadata generated.\n"
     ]
    },
    {
     "name": "stderr",
     "output_type": "stream",
     "text": []
    },
    {
     "name": "stdout",
     "output_type": "stream",
     "text": [
      "2023-06-23 17:43:26.104 [ INFO] Asynchronous mode set\n",
      "2023-06-23 17:43:26.105 [ INFO] Authenticating user otimmerman for service https://my.cmems-du.eu/motu-web/Motu\n",
      "2023-06-23 17:43:26.887 [ INFO] Requesting file to download (this can take a while)...\n",
      "2023-06-23 17:43:32.310 [ INFO] Authenticating user otimmerman for service https://my.cmems-du.eu/motu-web/Motu\n",
      "2023-06-23 17:43:39.096 [ INFO] Product is not yet available (request in progress)\n",
      "2023-06-23 17:43:49.107 [ INFO] Authenticating user otimmerman for service https://my.cmems-du.eu/motu-web/Motu\n",
      "2023-06-23 17:43:55.486 [ INFO] The product is ready for download\n",
      "2023-06-23 17:43:55.486 [ INFO] Downloading file (this can take a while)...\n",
      "2023-06-23 17:43:55.639 [ INFO] File type: application/x-netcdf\n",
      "2023-06-23 17:43:55.639 [ INFO] File size: 128.1 kB (128084 B)\n",
      "2023-06-23 17:43:55.640 [ INFO] Downloading file /lustre_scratch/orlando-code/datasets/global_ocean_reanalysis/monthly_means/Great_Barrier_Reef_B/so/VARS_so_DATES_2013-12-31_2014-12-31_LONS_144_149_LATS_-16_-23_DEPTHS_0-3_1.nc\n",
      "2023-06-23 17:43:55.699 [ INFO] - 128.1 kB (51.2%)\n",
      "2023-06-23 17:43:55.730 [ INFO] - 128.1 kB (100.0%)\n",
      "2023-06-23 17:43:55.730 [ INFO] Processing  time : 0:00:29.535696\n",
      "2023-06-23 17:43:55.730 [ INFO] Downloading time : 0:00:00.090102\n",
      "2023-06-23 17:43:55.730 [ INFO] Total time       : 0:00:29.625798\n",
      "2023-06-23 17:43:55.730 [ INFO] Download rate    : 525.2 kB/s\n",
      "2023-06-23 17:43:55.732 [ INFO] Done\n",
      "\n",
      "Dictionary saved as json file at /lustre_scratch/orlando-code/datasets/global_ocean_reanalysis/monthly_means/Great_Barrier_Reef_B/so/VARS_so_DATES_2013-12-31_2014-12-31_LONS_144_149_LATS_-16_-23_DEPTHS_0-3_1.json\n",
      "VARS_so_DATES_2013-12-31_2014-12-31_LONS_144_149_LATS_-16_-23_DEPTHS_0-3_1 written to /lustre_scratch/orlando-code/datasets/global_ocean_reanalysis/monthly_means/Great_Barrier_Reef_B/so and metadata generated.\n"
     ]
    },
    {
     "name": "stderr",
     "output_type": "stream",
     "text": []
    },
    {
     "name": "stdout",
     "output_type": "stream",
     "text": [
      "2023-06-23 17:43:57.342 [ INFO] Asynchronous mode set\n",
      "2023-06-23 17:43:57.342 [ INFO] Authenticating user otimmerman for service https://my.cmems-du.eu/motu-web/Motu\n",
      "2023-06-23 17:43:59.722 [ INFO] Requesting file to download (this can take a while)...\n",
      "2023-06-23 17:44:05.150 [ INFO] Authenticating user otimmerman for service https://my.cmems-du.eu/motu-web/Motu\n",
      "2023-06-23 17:44:12.493 [ INFO] The product is ready for download\n",
      "2023-06-23 17:44:12.493 [ INFO] Downloading file (this can take a while)...\n",
      "2023-06-23 17:44:12.644 [ INFO] File type: application/x-netcdf\n",
      "2023-06-23 17:44:12.644 [ INFO] File size: 128.1 kB (128084 B)\n",
      "2023-06-23 17:44:12.644 [ INFO] Downloading file /lustre_scratch/orlando-code/datasets/global_ocean_reanalysis/monthly_means/Great_Barrier_Reef_B/so/VARS_so_DATES_2014-12-31_2015-12-31_LONS_144_149_LATS_-16_-23_DEPTHS_0-3_1.nc\n",
      "2023-06-23 17:44:12.705 [ INFO] - 128.1 kB (51.2%)\n",
      "2023-06-23 17:44:12.735 [ INFO] - 128.1 kB (100.0%)\n",
      "2023-06-23 17:44:12.736 [ INFO] Processing  time : 0:00:15.302667\n",
      "2023-06-23 17:44:12.736 [ INFO] Downloading time : 0:00:00.091164\n",
      "2023-06-23 17:44:12.736 [ INFO] Total time       : 0:00:15.393831\n",
      "2023-06-23 17:44:12.736 [ INFO] Download rate    : 528.0 kB/s\n",
      "2023-06-23 17:44:12.739 [ INFO] Done\n",
      "\n",
      "Dictionary saved as json file at /lustre_scratch/orlando-code/datasets/global_ocean_reanalysis/monthly_means/Great_Barrier_Reef_B/so/VARS_so_DATES_2014-12-31_2015-12-31_LONS_144_149_LATS_-16_-23_DEPTHS_0-3_1.json\n",
      "VARS_so_DATES_2014-12-31_2015-12-31_LONS_144_149_LATS_-16_-23_DEPTHS_0-3_1 written to /lustre_scratch/orlando-code/datasets/global_ocean_reanalysis/monthly_means/Great_Barrier_Reef_B/so and metadata generated.\n"
     ]
    },
    {
     "name": "stderr",
     "output_type": "stream",
     "text": []
    },
    {
     "name": "stdout",
     "output_type": "stream",
     "text": [
      "2023-06-23 17:44:14.422 [ INFO] Asynchronous mode set\n",
      "2023-06-23 17:44:14.422 [ INFO] Authenticating user otimmerman for service https://my.cmems-du.eu/motu-web/Motu\n",
      "2023-06-23 17:44:15.559 [ INFO] Requesting file to download (this can take a while)...\n",
      "2023-06-23 17:44:21.735 [ INFO] Authenticating user otimmerman for service https://my.cmems-du.eu/motu-web/Motu\n",
      "2023-06-23 17:44:29.490 [ INFO] Product is not yet available (request in progress)\n",
      "2023-06-23 17:44:39.499 [ INFO] Authenticating user otimmerman for service https://my.cmems-du.eu/motu-web/Motu\n",
      "2023-06-23 17:44:45.849 [ INFO] The product is ready for download\n",
      "2023-06-23 17:44:45.849 [ INFO] Downloading file (this can take a while)...\n",
      "2023-06-23 17:44:46.003 [ INFO] File type: application/x-netcdf\n",
      "2023-06-23 17:44:46.003 [ INFO] File size: 128.1 kB (128084 B)\n",
      "2023-06-23 17:44:46.003 [ INFO] Downloading file /lustre_scratch/orlando-code/datasets/global_ocean_reanalysis/monthly_means/Great_Barrier_Reef_B/so/VARS_so_DATES_2015-12-31_2016-12-31_LONS_144_149_LATS_-16_-23_DEPTHS_0-3_1.nc\n",
      "2023-06-23 17:44:46.061 [ INFO] - 128.1 kB (51.2%)\n",
      "2023-06-23 17:44:46.091 [ INFO] - 128.1 kB (100.0%)\n",
      "2023-06-23 17:44:46.091 [ INFO] Processing  time : 0:00:31.581768\n",
      "2023-06-23 17:44:46.091 [ INFO] Downloading time : 0:00:00.087882\n",
      "2023-06-23 17:44:46.091 [ INFO] Total time       : 0:00:31.669650\n",
      "2023-06-23 17:44:46.091 [ INFO] Download rate    : 530.1 kB/s\n",
      "2023-06-23 17:44:46.094 [ INFO] Done\n",
      "\n",
      "Dictionary saved as json file at /lustre_scratch/orlando-code/datasets/global_ocean_reanalysis/monthly_means/Great_Barrier_Reef_B/so/VARS_so_DATES_2015-12-31_2016-12-31_LONS_144_149_LATS_-16_-23_DEPTHS_0-3_1.json\n",
      "VARS_so_DATES_2015-12-31_2016-12-31_LONS_144_149_LATS_-16_-23_DEPTHS_0-3_1 written to /lustre_scratch/orlando-code/datasets/global_ocean_reanalysis/monthly_means/Great_Barrier_Reef_B/so and metadata generated.\n"
     ]
    },
    {
     "name": "stderr",
     "output_type": "stream",
     "text": []
    },
    {
     "name": "stdout",
     "output_type": "stream",
     "text": [
      "2023-06-23 17:44:47.721 [ INFO] Asynchronous mode set\n",
      "2023-06-23 17:44:47.722 [ INFO] Authenticating user otimmerman for service https://my.cmems-du.eu/motu-web/Motu\n",
      "2023-06-23 17:44:49.197 [ INFO] Requesting file to download (this can take a while)...\n",
      "2023-06-23 17:44:54.613 [ INFO] Authenticating user otimmerman for service https://my.cmems-du.eu/motu-web/Motu\n",
      "2023-06-23 17:45:01.047 [ INFO] The product is ready for download\n",
      "2023-06-23 17:45:01.047 [ INFO] Downloading file (this can take a while)...\n",
      "2023-06-23 17:45:01.200 [ INFO] File type: application/x-netcdf\n",
      "2023-06-23 17:45:01.200 [ INFO] File size: 128.1 kB (128084 B)\n",
      "2023-06-23 17:45:01.200 [ INFO] Downloading file /lustre_scratch/orlando-code/datasets/global_ocean_reanalysis/monthly_means/Great_Barrier_Reef_B/so/VARS_so_DATES_2016-12-31_2017-12-31_LONS_144_149_LATS_-16_-23_DEPTHS_0-3_1.nc\n",
      "2023-06-23 17:45:01.257 [ INFO] - 128.1 kB (51.2%)\n",
      "2023-06-23 17:45:01.288 [ INFO] - 128.1 kB (100.0%)\n",
      "2023-06-23 17:45:01.288 [ INFO] Processing  time : 0:00:13.478755\n",
      "2023-06-23 17:45:01.288 [ INFO] Downloading time : 0:00:00.087995\n",
      "2023-06-23 17:45:01.288 [ INFO] Total time       : 0:00:13.566750\n",
      "2023-06-23 17:45:01.288 [ INFO] Download rate    : 531.5 kB/s\n",
      "2023-06-23 17:45:01.291 [ INFO] Done\n",
      "\n",
      "Dictionary saved as json file at /lustre_scratch/orlando-code/datasets/global_ocean_reanalysis/monthly_means/Great_Barrier_Reef_B/so/VARS_so_DATES_2016-12-31_2017-12-31_LONS_144_149_LATS_-16_-23_DEPTHS_0-3_1.json\n",
      "VARS_so_DATES_2016-12-31_2017-12-31_LONS_144_149_LATS_-16_-23_DEPTHS_0-3_1 written to /lustre_scratch/orlando-code/datasets/global_ocean_reanalysis/monthly_means/Great_Barrier_Reef_B/so and metadata generated.\n"
     ]
    },
    {
     "name": "stderr",
     "output_type": "stream",
     "text": []
    },
    {
     "name": "stdout",
     "output_type": "stream",
     "text": [
      "2023-06-23 17:45:02.909 [ INFO] Asynchronous mode set\n",
      "2023-06-23 17:45:02.909 [ INFO] Authenticating user otimmerman for service https://my.cmems-du.eu/motu-web/Motu\n",
      "2023-06-23 17:45:04.595 [ INFO] Requesting file to download (this can take a while)...\n",
      "2023-06-23 17:45:10.022 [ INFO] Authenticating user otimmerman for service https://my.cmems-du.eu/motu-web/Motu\n",
      "2023-06-23 17:45:16.845 [ INFO] The product is ready for download\n",
      "2023-06-23 17:45:16.845 [ INFO] Downloading file (this can take a while)...\n",
      "2023-06-23 17:45:16.998 [ INFO] File type: application/x-netcdf\n",
      "2023-06-23 17:45:16.998 [ INFO] File size: 128.1 kB (128084 B)\n",
      "2023-06-23 17:45:16.998 [ INFO] Downloading file /lustre_scratch/orlando-code/datasets/global_ocean_reanalysis/monthly_means/Great_Barrier_Reef_B/so/VARS_so_DATES_2017-12-31_2018-12-31_LONS_144_149_LATS_-16_-23_DEPTHS_0-3_1.nc\n",
      "2023-06-23 17:45:17.057 [ INFO] - 128.1 kB (51.2%)\n",
      "2023-06-23 17:45:17.087 [ INFO] - 128.1 kB (100.0%)\n",
      "2023-06-23 17:45:17.087 [ INFO] Processing  time : 0:00:14.090149\n",
      "2023-06-23 17:45:17.087 [ INFO] Downloading time : 0:00:00.088914\n",
      "2023-06-23 17:45:17.087 [ INFO] Total time       : 0:00:14.179063\n",
      "2023-06-23 17:45:17.087 [ INFO] Download rate    : 529.8 kB/s\n",
      "2023-06-23 17:45:17.089 [ INFO] Done\n",
      "\n",
      "Dictionary saved as json file at /lustre_scratch/orlando-code/datasets/global_ocean_reanalysis/monthly_means/Great_Barrier_Reef_B/so/VARS_so_DATES_2017-12-31_2018-12-31_LONS_144_149_LATS_-16_-23_DEPTHS_0-3_1.json\n",
      "VARS_so_DATES_2017-12-31_2018-12-31_LONS_144_149_LATS_-16_-23_DEPTHS_0-3_1 written to /lustre_scratch/orlando-code/datasets/global_ocean_reanalysis/monthly_means/Great_Barrier_Reef_B/so and metadata generated.\n"
     ]
    },
    {
     "name": "stderr",
     "output_type": "stream",
     "text": []
    },
    {
     "name": "stdout",
     "output_type": "stream",
     "text": [
      "2023-06-23 17:45:18.749 [ INFO] Asynchronous mode set\n",
      "2023-06-23 17:45:18.749 [ INFO] Authenticating user otimmerman for service https://my.cmems-du.eu/motu-web/Motu\n",
      "2023-06-23 17:45:19.746 [ INFO] Requesting file to download (this can take a while)...\n",
      "2023-06-23 17:45:25.162 [ INFO] Authenticating user otimmerman for service https://my.cmems-du.eu/motu-web/Motu\n",
      "2023-06-23 17:45:31.285 [ INFO] The product is ready for download\n",
      "2023-06-23 17:45:31.285 [ INFO] Downloading file (this can take a while)...\n",
      "2023-06-23 17:45:31.438 [ INFO] File type: application/x-netcdf\n",
      "2023-06-23 17:45:31.438 [ INFO] File size: 128.1 kB (128084 B)\n",
      "2023-06-23 17:45:31.438 [ INFO] Downloading file /lustre_scratch/orlando-code/datasets/global_ocean_reanalysis/monthly_means/Great_Barrier_Reef_B/so/VARS_so_DATES_2018-12-31_2019-12-31_LONS_144_149_LATS_-16_-23_DEPTHS_0-3_1.nc\n",
      "2023-06-23 17:45:31.496 [ INFO] - 128.1 kB (51.2%)\n",
      "2023-06-23 17:45:31.527 [ INFO] - 128.1 kB (100.0%)\n",
      "2023-06-23 17:45:31.527 [ INFO] Processing  time : 0:00:12.689398\n",
      "2023-06-23 17:45:31.527 [ INFO] Downloading time : 0:00:00.089293\n",
      "2023-06-23 17:45:31.528 [ INFO] Total time       : 0:00:12.778691\n",
      "2023-06-23 17:45:31.528 [ INFO] Download rate    : 529.0 kB/s\n",
      "2023-06-23 17:45:31.530 [ INFO] Done\n",
      "\n",
      "Dictionary saved as json file at /lustre_scratch/orlando-code/datasets/global_ocean_reanalysis/monthly_means/Great_Barrier_Reef_B/so/VARS_so_DATES_2018-12-31_2019-12-31_LONS_144_149_LATS_-16_-23_DEPTHS_0-3_1.json\n",
      "VARS_so_DATES_2018-12-31_2019-12-31_LONS_144_149_LATS_-16_-23_DEPTHS_0-3_1 written to /lustre_scratch/orlando-code/datasets/global_ocean_reanalysis/monthly_means/Great_Barrier_Reef_B/so and metadata generated.\n",
      "Merging .nc files into /lustre_scratch/orlando-code/datasets/global_ocean_reanalysis/monthly_means/Great_Barrier_Reef_B/merged_vars/VARS_so_DATES_1992-12-31_2020-12-16_LONS_144_149_LATS_-16_-23_DEPTHS_0-3_1.nc\n"
     ]
    },
    {
     "name": "stderr",
     "output_type": "stream",
     "text": [
      " variable loop:  57%|█████▋    | 4/7 [31:10<24:09, 483.30s/it]"
     ]
    },
    {
     "name": "stdout",
     "output_type": "stream",
     "text": [
      "Dictionary saved as json file at /lustre_scratch/orlando-code/datasets/global_ocean_reanalysis/monthly_means/Great_Barrier_Reef_B/merged_vars/VARS_so_DATES_1992-12-31_2020-12-16_LONS_144_149_LATS_-16_-23_DEPTHS_0-3_1.json\n",
      "Downloading zos data...\n"
     ]
    },
    {
     "name": "stderr",
     "output_type": "stream",
     "text": []
    },
    {
     "name": "stdout",
     "output_type": "stream",
     "text": [
      "2023-06-23 17:45:33.539 [ INFO] Asynchronous mode set\n",
      "2023-06-23 17:45:33.539 [ INFO] Authenticating user otimmerman for service https://my.cmems-du.eu/motu-web/Motu\n",
      "2023-06-23 17:45:34.447 [ INFO] Requesting file to download (this can take a while)...\n",
      "2023-06-23 17:45:40.238 [ INFO] Authenticating user otimmerman for service https://my.cmems-du.eu/motu-web/Motu\n",
      "2023-06-23 17:45:46.344 [ INFO] The product is ready for download\n",
      "2023-06-23 17:45:46.344 [ INFO] Downloading file (this can take a while)...\n",
      "2023-06-23 17:45:46.495 [ INFO] File type: application/x-netcdf\n",
      "2023-06-23 17:45:46.495 [ INFO] File size: 127.7 kB (127692 B)\n",
      "2023-06-23 17:45:46.496 [ INFO] Downloading file /lustre_scratch/orlando-code/datasets/global_ocean_reanalysis/monthly_means/Great_Barrier_Reef_B/zos/VARS_zos_DATES_1992-12-31_1993-12-31_LONS_144_149_LATS_-16_-23_DEPTHS_0-3_1.nc\n",
      "2023-06-23 17:45:46.554 [ INFO] - 127.7 kB (51.3%)\n",
      "2023-06-23 17:45:46.583 [ INFO] - 127.7 kB (100.0%)\n",
      "2023-06-23 17:45:46.583 [ INFO] Processing  time : 0:00:12.956745\n",
      "2023-06-23 17:45:46.583 [ INFO] Downloading time : 0:00:00.087773\n",
      "2023-06-23 17:45:46.583 [ INFO] Total time       : 0:00:13.044518\n",
      "2023-06-23 17:45:46.584 [ INFO] Download rate    : 533.6 kB/s\n",
      "2023-06-23 17:45:46.586 [ INFO] Done\n",
      "\n",
      "Dictionary saved as json file at /lustre_scratch/orlando-code/datasets/global_ocean_reanalysis/monthly_means/Great_Barrier_Reef_B/zos/VARS_zos_DATES_1992-12-31_1993-12-31_LONS_144_149_LATS_-16_-23_DEPTHS_0-3_1.json\n",
      "VARS_zos_DATES_1992-12-31_1993-12-31_LONS_144_149_LATS_-16_-23_DEPTHS_0-3_1 written to /lustre_scratch/orlando-code/datasets/global_ocean_reanalysis/monthly_means/Great_Barrier_Reef_B/zos and metadata generated.\n"
     ]
    },
    {
     "name": "stderr",
     "output_type": "stream",
     "text": []
    },
    {
     "name": "stdout",
     "output_type": "stream",
     "text": [
      "2023-06-23 17:45:48.213 [ INFO] Asynchronous mode set\n",
      "2023-06-23 17:45:48.214 [ INFO] Authenticating user otimmerman for service https://my.cmems-du.eu/motu-web/Motu\n",
      "2023-06-23 17:45:48.911 [ INFO] Requesting file to download (this can take a while)...\n",
      "2023-06-23 17:45:54.779 [ INFO] Authenticating user otimmerman for service https://my.cmems-du.eu/motu-web/Motu\n",
      "2023-06-23 17:46:02.664 [ INFO] The product is ready for download\n",
      "2023-06-23 17:46:02.665 [ INFO] Downloading file (this can take a while)...\n",
      "2023-06-23 17:46:02.814 [ INFO] File type: application/x-netcdf\n",
      "2023-06-23 17:46:02.814 [ INFO] File size: 127.7 kB (127692 B)\n",
      "2023-06-23 17:46:02.815 [ INFO] Downloading file /lustre_scratch/orlando-code/datasets/global_ocean_reanalysis/monthly_means/Great_Barrier_Reef_B/zos/VARS_zos_DATES_1993-12-31_1994-12-31_LONS_144_149_LATS_-16_-23_DEPTHS_0-3_1.nc\n",
      "2023-06-23 17:46:02.874 [ INFO] - 127.7 kB (51.3%)\n",
      "2023-06-23 17:46:02.904 [ INFO] - 127.7 kB (100.0%)\n",
      "2023-06-23 17:46:02.904 [ INFO] Processing  time : 0:00:14.601474\n",
      "2023-06-23 17:46:02.904 [ INFO] Downloading time : 0:00:00.089066\n",
      "2023-06-23 17:46:02.904 [ INFO] Total time       : 0:00:14.690540\n",
      "2023-06-23 17:46:02.904 [ INFO] Download rate    : 534.2 kB/s\n",
      "2023-06-23 17:46:02.906 [ INFO] Done\n",
      "\n",
      "Dictionary saved as json file at /lustre_scratch/orlando-code/datasets/global_ocean_reanalysis/monthly_means/Great_Barrier_Reef_B/zos/VARS_zos_DATES_1993-12-31_1994-12-31_LONS_144_149_LATS_-16_-23_DEPTHS_0-3_1.json\n",
      "VARS_zos_DATES_1993-12-31_1994-12-31_LONS_144_149_LATS_-16_-23_DEPTHS_0-3_1 written to /lustre_scratch/orlando-code/datasets/global_ocean_reanalysis/monthly_means/Great_Barrier_Reef_B/zos and metadata generated.\n"
     ]
    },
    {
     "name": "stderr",
     "output_type": "stream",
     "text": []
    },
    {
     "name": "stdout",
     "output_type": "stream",
     "text": [
      "2023-06-23 17:46:04.548 [ INFO] Asynchronous mode set\n",
      "2023-06-23 17:46:04.549 [ INFO] Authenticating user otimmerman for service https://my.cmems-du.eu/motu-web/Motu\n",
      "2023-06-23 17:46:05.267 [ INFO] Requesting file to download (this can take a while)...\n",
      "2023-06-23 17:46:10.691 [ INFO] Authenticating user otimmerman for service https://my.cmems-du.eu/motu-web/Motu\n",
      "2023-06-23 17:46:17.165 [ INFO] The product is ready for download\n",
      "2023-06-23 17:46:17.165 [ INFO] Downloading file (this can take a while)...\n",
      "2023-06-23 17:46:17.351 [ INFO] File type: application/x-netcdf\n",
      "2023-06-23 17:46:17.351 [ INFO] File size: 127.7 kB (127692 B)\n",
      "2023-06-23 17:46:17.351 [ INFO] Downloading file /lustre_scratch/orlando-code/datasets/global_ocean_reanalysis/monthly_means/Great_Barrier_Reef_B/zos/VARS_zos_DATES_1994-12-31_1995-12-31_LONS_144_149_LATS_-16_-23_DEPTHS_0-3_1.nc\n",
      "2023-06-23 17:46:17.379 [ INFO] - 127.7 kB (51.3%)\n",
      "2023-06-23 17:46:17.440 [ INFO] - 127.7 kB (100.0%)\n",
      "2023-06-23 17:46:17.440 [ INFO] Processing  time : 0:00:12.803044\n",
      "2023-06-23 17:46:17.440 [ INFO] Downloading time : 0:00:00.088678\n",
      "2023-06-23 17:46:17.440 [ INFO] Total time       : 0:00:12.891722\n",
      "2023-06-23 17:46:17.440 [ INFO] Download rate    : 465.3 kB/s\n",
      "2023-06-23 17:46:17.442 [ INFO] Done\n",
      "\n",
      "Dictionary saved as json file at /lustre_scratch/orlando-code/datasets/global_ocean_reanalysis/monthly_means/Great_Barrier_Reef_B/zos/VARS_zos_DATES_1994-12-31_1995-12-31_LONS_144_149_LATS_-16_-23_DEPTHS_0-3_1.json\n",
      "VARS_zos_DATES_1994-12-31_1995-12-31_LONS_144_149_LATS_-16_-23_DEPTHS_0-3_1 written to /lustre_scratch/orlando-code/datasets/global_ocean_reanalysis/monthly_means/Great_Barrier_Reef_B/zos and metadata generated.\n"
     ]
    },
    {
     "name": "stderr",
     "output_type": "stream",
     "text": []
    },
    {
     "name": "stdout",
     "output_type": "stream",
     "text": [
      "2023-06-23 17:46:19.046 [ INFO] Asynchronous mode set\n",
      "2023-06-23 17:46:19.046 [ INFO] Authenticating user otimmerman for service https://my.cmems-du.eu/motu-web/Motu\n",
      "2023-06-23 17:46:19.740 [ INFO] Requesting file to download (this can take a while)...\n",
      "2023-06-23 17:46:25.152 [ INFO] Authenticating user otimmerman for service https://my.cmems-du.eu/motu-web/Motu\n",
      "2023-06-23 17:46:31.285 [ INFO] The product is ready for download\n",
      "2023-06-23 17:46:31.285 [ INFO] Downloading file (this can take a while)...\n",
      "2023-06-23 17:46:31.471 [ INFO] File type: application/x-netcdf\n",
      "2023-06-23 17:46:31.472 [ INFO] File size: 127.7 kB (127692 B)\n",
      "2023-06-23 17:46:31.472 [ INFO] Downloading file /lustre_scratch/orlando-code/datasets/global_ocean_reanalysis/monthly_means/Great_Barrier_Reef_B/zos/VARS_zos_DATES_1995-12-31_1996-12-31_LONS_144_149_LATS_-16_-23_DEPTHS_0-3_1.nc\n",
      "2023-06-23 17:46:31.502 [ INFO] - 127.7 kB (51.3%)\n",
      "2023-06-23 17:46:31.532 [ INFO] - 127.7 kB (100.0%)\n",
      "2023-06-23 17:46:31.532 [ INFO] Processing  time : 0:00:12.426424\n",
      "2023-06-23 17:46:31.532 [ INFO] Downloading time : 0:00:00.060536\n",
      "2023-06-23 17:46:31.532 [ INFO] Total time       : 0:00:12.486960\n",
      "2023-06-23 17:46:31.532 [ INFO] Download rate    : 516.3 kB/s\n",
      "2023-06-23 17:46:31.535 [ INFO] Done\n",
      "\n",
      "Dictionary saved as json file at /lustre_scratch/orlando-code/datasets/global_ocean_reanalysis/monthly_means/Great_Barrier_Reef_B/zos/VARS_zos_DATES_1995-12-31_1996-12-31_LONS_144_149_LATS_-16_-23_DEPTHS_0-3_1.json\n",
      "VARS_zos_DATES_1995-12-31_1996-12-31_LONS_144_149_LATS_-16_-23_DEPTHS_0-3_1 written to /lustre_scratch/orlando-code/datasets/global_ocean_reanalysis/monthly_means/Great_Barrier_Reef_B/zos and metadata generated.\n"
     ]
    },
    {
     "name": "stderr",
     "output_type": "stream",
     "text": []
    },
    {
     "name": "stdout",
     "output_type": "stream",
     "text": [
      "2023-06-23 17:46:33.153 [ INFO] Asynchronous mode set\n",
      "2023-06-23 17:46:33.153 [ INFO] Authenticating user otimmerman for service https://my.cmems-du.eu/motu-web/Motu\n",
      "2023-06-23 17:46:33.850 [ INFO] Requesting file to download (this can take a while)...\n",
      "2023-06-23 17:46:39.264 [ INFO] Authenticating user otimmerman for service https://my.cmems-du.eu/motu-web/Motu\n",
      "2023-06-23 17:46:45.830 [ INFO] The product is ready for download\n",
      "2023-06-23 17:46:45.830 [ INFO] Downloading file (this can take a while)...\n",
      "2023-06-23 17:46:45.978 [ INFO] File type: application/x-netcdf\n",
      "2023-06-23 17:46:45.978 [ INFO] File size: 127.7 kB (127692 B)\n",
      "2023-06-23 17:46:45.978 [ INFO] Downloading file /lustre_scratch/orlando-code/datasets/global_ocean_reanalysis/monthly_means/Great_Barrier_Reef_B/zos/VARS_zos_DATES_1996-12-31_1997-12-31_LONS_144_149_LATS_-16_-23_DEPTHS_0-3_1.nc\n",
      "2023-06-23 17:46:46.034 [ INFO] - 127.7 kB (51.3%)\n",
      "2023-06-23 17:46:46.064 [ INFO] - 127.7 kB (100.0%)\n",
      "2023-06-23 17:46:46.064 [ INFO] Processing  time : 0:00:12.825724\n",
      "2023-06-23 17:46:46.064 [ INFO] Downloading time : 0:00:00.086301\n",
      "2023-06-23 17:46:46.064 [ INFO] Total time       : 0:00:12.912025\n",
      "2023-06-23 17:46:46.064 [ INFO] Download rate    : 545.2 kB/s\n",
      "2023-06-23 17:46:46.067 [ INFO] Done\n",
      "\n",
      "Dictionary saved as json file at /lustre_scratch/orlando-code/datasets/global_ocean_reanalysis/monthly_means/Great_Barrier_Reef_B/zos/VARS_zos_DATES_1996-12-31_1997-12-31_LONS_144_149_LATS_-16_-23_DEPTHS_0-3_1.json\n",
      "VARS_zos_DATES_1996-12-31_1997-12-31_LONS_144_149_LATS_-16_-23_DEPTHS_0-3_1 written to /lustre_scratch/orlando-code/datasets/global_ocean_reanalysis/monthly_means/Great_Barrier_Reef_B/zos and metadata generated.\n"
     ]
    },
    {
     "name": "stderr",
     "output_type": "stream",
     "text": []
    },
    {
     "name": "stdout",
     "output_type": "stream",
     "text": [
      "2023-06-23 17:46:47.723 [ INFO] Asynchronous mode set\n",
      "2023-06-23 17:46:47.724 [ INFO] Authenticating user otimmerman for service https://my.cmems-du.eu/motu-web/Motu\n",
      "2023-06-23 17:46:49.759 [ INFO] Requesting file to download (this can take a while)...\n",
      "2023-06-23 17:46:55.217 [ INFO] Authenticating user otimmerman for service https://my.cmems-du.eu/motu-web/Motu\n",
      "2023-06-23 17:47:01.669 [ INFO] The product is ready for download\n",
      "2023-06-23 17:47:01.669 [ INFO] Downloading file (this can take a while)...\n",
      "2023-06-23 17:47:01.829 [ INFO] File type: application/x-netcdf\n",
      "2023-06-23 17:47:01.829 [ INFO] File size: 127.7 kB (127692 B)\n",
      "2023-06-23 17:47:01.829 [ INFO] Downloading file /lustre_scratch/orlando-code/datasets/global_ocean_reanalysis/monthly_means/Great_Barrier_Reef_B/zos/VARS_zos_DATES_1997-12-31_1998-12-31_LONS_144_149_LATS_-16_-23_DEPTHS_0-3_1.nc\n",
      "2023-06-23 17:47:01.886 [ INFO] - 127.7 kB (51.3%)\n",
      "2023-06-23 17:47:01.915 [ INFO] - 127.7 kB (100.0%)\n",
      "2023-06-23 17:47:01.916 [ INFO] Processing  time : 0:00:14.105993\n",
      "2023-06-23 17:47:01.916 [ INFO] Downloading time : 0:00:00.086728\n",
      "2023-06-23 17:47:01.916 [ INFO] Total time       : 0:00:14.192721\n",
      "2023-06-23 17:47:01.916 [ INFO] Download rate    : 518.5 kB/s\n",
      "2023-06-23 17:47:01.919 [ INFO] Done\n",
      "\n",
      "Dictionary saved as json file at /lustre_scratch/orlando-code/datasets/global_ocean_reanalysis/monthly_means/Great_Barrier_Reef_B/zos/VARS_zos_DATES_1997-12-31_1998-12-31_LONS_144_149_LATS_-16_-23_DEPTHS_0-3_1.json\n",
      "VARS_zos_DATES_1997-12-31_1998-12-31_LONS_144_149_LATS_-16_-23_DEPTHS_0-3_1 written to /lustre_scratch/orlando-code/datasets/global_ocean_reanalysis/monthly_means/Great_Barrier_Reef_B/zos and metadata generated.\n"
     ]
    },
    {
     "name": "stderr",
     "output_type": "stream",
     "text": []
    },
    {
     "name": "stdout",
     "output_type": "stream",
     "text": [
      "2023-06-23 17:47:03.569 [ INFO] Asynchronous mode set\n",
      "2023-06-23 17:47:03.569 [ INFO] Authenticating user otimmerman for service https://my.cmems-du.eu/motu-web/Motu\n",
      "2023-06-23 17:47:04.348 [ INFO] Requesting file to download (this can take a while)...\n",
      "2023-06-23 17:47:09.768 [ INFO] Authenticating user otimmerman for service https://my.cmems-du.eu/motu-web/Motu\n",
      "2023-06-23 17:47:16.639 [ INFO] The product is ready for download\n",
      "2023-06-23 17:47:16.639 [ INFO] Downloading file (this can take a while)...\n",
      "2023-06-23 17:47:16.791 [ INFO] File type: application/x-netcdf\n",
      "2023-06-23 17:47:16.791 [ INFO] File size: 127.7 kB (127692 B)\n",
      "2023-06-23 17:47:16.791 [ INFO] Downloading file /lustre_scratch/orlando-code/datasets/global_ocean_reanalysis/monthly_means/Great_Barrier_Reef_B/zos/VARS_zos_DATES_1998-12-31_1999-12-31_LONS_144_149_LATS_-16_-23_DEPTHS_0-3_1.nc\n",
      "2023-06-23 17:47:16.852 [ INFO] - 127.7 kB (51.3%)\n",
      "2023-06-23 17:47:16.880 [ INFO] - 127.7 kB (100.0%)\n",
      "2023-06-23 17:47:16.880 [ INFO] Processing  time : 0:00:13.222647\n",
      "2023-06-23 17:47:16.880 [ INFO] Downloading time : 0:00:00.088896\n",
      "2023-06-23 17:47:16.881 [ INFO] Total time       : 0:00:13.311543\n",
      "2023-06-23 17:47:16.881 [ INFO] Download rate    : 529.0 kB/s\n",
      "2023-06-23 17:47:16.883 [ INFO] Done\n",
      "\n",
      "Dictionary saved as json file at /lustre_scratch/orlando-code/datasets/global_ocean_reanalysis/monthly_means/Great_Barrier_Reef_B/zos/VARS_zos_DATES_1998-12-31_1999-12-31_LONS_144_149_LATS_-16_-23_DEPTHS_0-3_1.json\n",
      "VARS_zos_DATES_1998-12-31_1999-12-31_LONS_144_149_LATS_-16_-23_DEPTHS_0-3_1 written to /lustre_scratch/orlando-code/datasets/global_ocean_reanalysis/monthly_means/Great_Barrier_Reef_B/zos and metadata generated.\n"
     ]
    },
    {
     "name": "stderr",
     "output_type": "stream",
     "text": []
    },
    {
     "name": "stdout",
     "output_type": "stream",
     "text": [
      "2023-06-23 17:47:18.517 [ INFO] Asynchronous mode set\n",
      "2023-06-23 17:47:18.518 [ INFO] Authenticating user otimmerman for service https://my.cmems-du.eu/motu-web/Motu\n",
      "2023-06-23 17:47:19.229 [ INFO] Requesting file to download (this can take a while)...\n",
      "2023-06-23 17:47:24.643 [ INFO] Authenticating user otimmerman for service https://my.cmems-du.eu/motu-web/Motu\n",
      "2023-06-23 17:47:30.973 [ INFO] The product is ready for download\n",
      "2023-06-23 17:47:30.973 [ INFO] Downloading file (this can take a while)...\n",
      "2023-06-23 17:47:31.130 [ INFO] File type: application/x-netcdf\n",
      "2023-06-23 17:47:31.130 [ INFO] File size: 127.7 kB (127692 B)\n",
      "2023-06-23 17:47:31.130 [ INFO] Downloading file /lustre_scratch/orlando-code/datasets/global_ocean_reanalysis/monthly_means/Great_Barrier_Reef_B/zos/VARS_zos_DATES_1999-12-31_2000-12-31_LONS_144_149_LATS_-16_-23_DEPTHS_0-3_1.nc\n",
      "2023-06-23 17:47:31.188 [ INFO] - 127.7 kB (51.3%)\n",
      "2023-06-23 17:47:31.218 [ INFO] - 127.7 kB (100.0%)\n",
      "2023-06-23 17:47:31.218 [ INFO] Processing  time : 0:00:12.613455\n",
      "2023-06-23 17:47:31.218 [ INFO] Downloading time : 0:00:00.087974\n",
      "2023-06-23 17:47:31.218 [ INFO] Total time       : 0:00:12.701429\n",
      "2023-06-23 17:47:31.218 [ INFO] Download rate    : 520.6 kB/s\n",
      "2023-06-23 17:47:31.221 [ INFO] Done\n",
      "\n",
      "Dictionary saved as json file at /lustre_scratch/orlando-code/datasets/global_ocean_reanalysis/monthly_means/Great_Barrier_Reef_B/zos/VARS_zos_DATES_1999-12-31_2000-12-31_LONS_144_149_LATS_-16_-23_DEPTHS_0-3_1.json\n",
      "VARS_zos_DATES_1999-12-31_2000-12-31_LONS_144_149_LATS_-16_-23_DEPTHS_0-3_1 written to /lustre_scratch/orlando-code/datasets/global_ocean_reanalysis/monthly_means/Great_Barrier_Reef_B/zos and metadata generated.\n"
     ]
    },
    {
     "name": "stderr",
     "output_type": "stream",
     "text": []
    },
    {
     "name": "stdout",
     "output_type": "stream",
     "text": [
      "2023-06-23 17:47:32.855 [ INFO] Asynchronous mode set\n",
      "2023-06-23 17:47:32.855 [ INFO] Authenticating user otimmerman for service https://my.cmems-du.eu/motu-web/Motu\n",
      "2023-06-23 17:47:33.591 [ INFO] Requesting file to download (this can take a while)...\n",
      "2023-06-23 17:47:39.195 [ INFO] Authenticating user otimmerman for service https://my.cmems-du.eu/motu-web/Motu\n",
      "2023-06-23 17:47:46.504 [ INFO] The product is ready for download\n",
      "2023-06-23 17:47:46.504 [ INFO] Downloading file (this can take a while)...\n",
      "2023-06-23 17:47:46.661 [ INFO] File type: application/x-netcdf\n",
      "2023-06-23 17:47:46.661 [ INFO] File size: 127.7 kB (127692 B)\n",
      "2023-06-23 17:47:46.661 [ INFO] Downloading file /lustre_scratch/orlando-code/datasets/global_ocean_reanalysis/monthly_means/Great_Barrier_Reef_B/zos/VARS_zos_DATES_2000-12-31_2001-12-31_LONS_144_149_LATS_-16_-23_DEPTHS_0-3_1.nc\n",
      "2023-06-23 17:47:46.720 [ INFO] - 127.7 kB (51.3%)\n",
      "2023-06-23 17:47:46.750 [ INFO] - 127.7 kB (100.0%)\n",
      "2023-06-23 17:47:46.750 [ INFO] Processing  time : 0:00:13.806972\n",
      "2023-06-23 17:47:46.750 [ INFO] Downloading time : 0:00:00.088978\n",
      "2023-06-23 17:47:46.750 [ INFO] Total time       : 0:00:13.895950\n",
      "2023-06-23 17:47:46.750 [ INFO] Download rate    : 518.5 kB/s\n",
      "2023-06-23 17:47:46.753 [ INFO] Done\n",
      "\n",
      "Dictionary saved as json file at /lustre_scratch/orlando-code/datasets/global_ocean_reanalysis/monthly_means/Great_Barrier_Reef_B/zos/VARS_zos_DATES_2000-12-31_2001-12-31_LONS_144_149_LATS_-16_-23_DEPTHS_0-3_1.json\n",
      "VARS_zos_DATES_2000-12-31_2001-12-31_LONS_144_149_LATS_-16_-23_DEPTHS_0-3_1 written to /lustre_scratch/orlando-code/datasets/global_ocean_reanalysis/monthly_means/Great_Barrier_Reef_B/zos and metadata generated.\n"
     ]
    },
    {
     "name": "stderr",
     "output_type": "stream",
     "text": []
    },
    {
     "name": "stdout",
     "output_type": "stream",
     "text": [
      "2023-06-23 17:47:48.350 [ INFO] Asynchronous mode set\n",
      "2023-06-23 17:47:48.350 [ INFO] Authenticating user otimmerman for service https://my.cmems-du.eu/motu-web/Motu\n",
      "2023-06-23 17:47:49.074 [ INFO] Requesting file to download (this can take a while)...\n",
      "2023-06-23 17:47:54.511 [ INFO] Authenticating user otimmerman for service https://my.cmems-du.eu/motu-web/Motu\n",
      "2023-06-23 17:48:00.628 [ INFO] The product is ready for download\n",
      "2023-06-23 17:48:00.628 [ INFO] Downloading file (this can take a while)...\n",
      "2023-06-23 17:48:00.810 [ INFO] File type: application/x-netcdf\n",
      "2023-06-23 17:48:00.810 [ INFO] File size: 127.7 kB (127692 B)\n",
      "2023-06-23 17:48:00.810 [ INFO] Downloading file /lustre_scratch/orlando-code/datasets/global_ocean_reanalysis/monthly_means/Great_Barrier_Reef_B/zos/VARS_zos_DATES_2001-12-31_2002-12-31_LONS_144_149_LATS_-16_-23_DEPTHS_0-3_1.nc\n",
      "2023-06-23 17:48:00.842 [ INFO] - 127.7 kB (51.3%)\n",
      "2023-06-23 17:48:00.870 [ INFO] - 127.7 kB (100.0%)\n",
      "2023-06-23 17:48:00.871 [ INFO] Processing  time : 0:00:12.461014\n",
      "2023-06-23 17:48:00.871 [ INFO] Downloading time : 0:00:00.060212\n",
      "2023-06-23 17:48:00.871 [ INFO] Total time       : 0:00:12.521226\n",
      "2023-06-23 17:48:00.871 [ INFO] Download rate    : 527.5 kB/s\n",
      "2023-06-23 17:48:00.873 [ INFO] Done\n",
      "\n",
      "Dictionary saved as json file at /lustre_scratch/orlando-code/datasets/global_ocean_reanalysis/monthly_means/Great_Barrier_Reef_B/zos/VARS_zos_DATES_2001-12-31_2002-12-31_LONS_144_149_LATS_-16_-23_DEPTHS_0-3_1.json\n",
      "VARS_zos_DATES_2001-12-31_2002-12-31_LONS_144_149_LATS_-16_-23_DEPTHS_0-3_1 written to /lustre_scratch/orlando-code/datasets/global_ocean_reanalysis/monthly_means/Great_Barrier_Reef_B/zos and metadata generated.\n"
     ]
    },
    {
     "name": "stderr",
     "output_type": "stream",
     "text": []
    },
    {
     "name": "stdout",
     "output_type": "stream",
     "text": [
      "2023-06-23 17:48:02.513 [ INFO] Asynchronous mode set\n",
      "2023-06-23 17:48:02.513 [ INFO] Authenticating user otimmerman for service https://my.cmems-du.eu/motu-web/Motu\n",
      "2023-06-23 17:48:03.868 [ INFO] Requesting file to download (this can take a while)...\n",
      "2023-06-23 17:48:09.284 [ INFO] Authenticating user otimmerman for service https://my.cmems-du.eu/motu-web/Motu\n",
      "2023-06-23 17:48:15.379 [ INFO] The product is ready for download\n",
      "2023-06-23 17:48:15.379 [ INFO] Downloading file (this can take a while)...\n",
      "2023-06-23 17:48:15.560 [ INFO] File type: application/x-netcdf\n",
      "2023-06-23 17:48:15.561 [ INFO] File size: 127.7 kB (127692 B)\n",
      "2023-06-23 17:48:15.561 [ INFO] Downloading file /lustre_scratch/orlando-code/datasets/global_ocean_reanalysis/monthly_means/Great_Barrier_Reef_B/zos/VARS_zos_DATES_2002-12-31_2003-12-31_LONS_144_149_LATS_-16_-23_DEPTHS_0-3_1.nc\n",
      "2023-06-23 17:48:15.591 [ INFO] - 127.7 kB (51.3%)\n",
      "2023-06-23 17:48:15.621 [ INFO] - 127.7 kB (100.0%)\n",
      "2023-06-23 17:48:15.621 [ INFO] Processing  time : 0:00:13.048162\n",
      "2023-06-23 17:48:15.621 [ INFO] Downloading time : 0:00:00.059961\n",
      "2023-06-23 17:48:15.621 [ INFO] Total time       : 0:00:13.108123\n",
      "2023-06-23 17:48:15.621 [ INFO] Download rate    : 528.8 kB/s\n",
      "2023-06-23 17:48:15.623 [ INFO] Done\n",
      "\n",
      "Dictionary saved as json file at /lustre_scratch/orlando-code/datasets/global_ocean_reanalysis/monthly_means/Great_Barrier_Reef_B/zos/VARS_zos_DATES_2002-12-31_2003-12-31_LONS_144_149_LATS_-16_-23_DEPTHS_0-3_1.json\n",
      "VARS_zos_DATES_2002-12-31_2003-12-31_LONS_144_149_LATS_-16_-23_DEPTHS_0-3_1 written to /lustre_scratch/orlando-code/datasets/global_ocean_reanalysis/monthly_means/Great_Barrier_Reef_B/zos and metadata generated.\n"
     ]
    },
    {
     "name": "stderr",
     "output_type": "stream",
     "text": []
    },
    {
     "name": "stdout",
     "output_type": "stream",
     "text": [
      "2023-06-23 17:48:17.287 [ INFO] Asynchronous mode set\n",
      "2023-06-23 17:48:17.287 [ INFO] Authenticating user otimmerman for service https://my.cmems-du.eu/motu-web/Motu\n",
      "2023-06-23 17:48:18.218 [ INFO] Requesting file to download (this can take a while)...\n",
      "2023-06-23 17:48:23.641 [ INFO] Authenticating user otimmerman for service https://my.cmems-du.eu/motu-web/Motu\n",
      "2023-06-23 17:48:30.096 [ INFO] The product is ready for download\n",
      "2023-06-23 17:48:30.096 [ INFO] Downloading file (this can take a while)...\n",
      "2023-06-23 17:48:30.249 [ INFO] File type: application/x-netcdf\n",
      "2023-06-23 17:48:30.249 [ INFO] File size: 127.7 kB (127692 B)\n",
      "2023-06-23 17:48:30.249 [ INFO] Downloading file /lustre_scratch/orlando-code/datasets/global_ocean_reanalysis/monthly_means/Great_Barrier_Reef_B/zos/VARS_zos_DATES_2003-12-31_2004-12-31_LONS_144_149_LATS_-16_-23_DEPTHS_0-3_1.nc\n",
      "2023-06-23 17:48:30.309 [ INFO] - 127.7 kB (51.3%)\n",
      "2023-06-23 17:48:30.340 [ INFO] - 127.7 kB (100.0%)\n",
      "2023-06-23 17:48:30.340 [ INFO] Processing  time : 0:00:12.962805\n",
      "2023-06-23 17:48:30.340 [ INFO] Downloading time : 0:00:00.090178\n",
      "2023-06-23 17:48:30.340 [ INFO] Total time       : 0:00:13.052983\n",
      "2023-06-23 17:48:30.340 [ INFO] Download rate    : 525.2 kB/s\n",
      "2023-06-23 17:48:30.342 [ INFO] Done\n",
      "\n",
      "Dictionary saved as json file at /lustre_scratch/orlando-code/datasets/global_ocean_reanalysis/monthly_means/Great_Barrier_Reef_B/zos/VARS_zos_DATES_2003-12-31_2004-12-31_LONS_144_149_LATS_-16_-23_DEPTHS_0-3_1.json\n",
      "VARS_zos_DATES_2003-12-31_2004-12-31_LONS_144_149_LATS_-16_-23_DEPTHS_0-3_1 written to /lustre_scratch/orlando-code/datasets/global_ocean_reanalysis/monthly_means/Great_Barrier_Reef_B/zos and metadata generated.\n"
     ]
    },
    {
     "name": "stderr",
     "output_type": "stream",
     "text": []
    },
    {
     "name": "stdout",
     "output_type": "stream",
     "text": [
      "2023-06-23 17:48:31.955 [ INFO] Asynchronous mode set\n",
      "2023-06-23 17:48:31.955 [ INFO] Authenticating user otimmerman for service https://my.cmems-du.eu/motu-web/Motu\n",
      "2023-06-23 17:48:32.929 [ INFO] Requesting file to download (this can take a while)...\n",
      "2023-06-23 17:48:38.341 [ INFO] Authenticating user otimmerman for service https://my.cmems-du.eu/motu-web/Motu\n",
      "2023-06-23 17:48:44.872 [ INFO] The product is ready for download\n",
      "2023-06-23 17:48:44.872 [ INFO] Downloading file (this can take a while)...\n",
      "2023-06-23 17:48:45.028 [ INFO] File type: application/x-netcdf\n",
      "2023-06-23 17:48:45.028 [ INFO] File size: 127.7 kB (127692 B)\n",
      "2023-06-23 17:48:45.028 [ INFO] Downloading file /lustre_scratch/orlando-code/datasets/global_ocean_reanalysis/monthly_means/Great_Barrier_Reef_B/zos/VARS_zos_DATES_2004-12-31_2005-12-31_LONS_144_149_LATS_-16_-23_DEPTHS_0-3_1.nc\n",
      "2023-06-23 17:48:45.088 [ INFO] - 127.7 kB (51.3%)\n",
      "2023-06-23 17:48:45.117 [ INFO] - 127.7 kB (100.0%)\n",
      "2023-06-23 17:48:45.117 [ INFO] Processing  time : 0:00:13.073854\n",
      "2023-06-23 17:48:45.117 [ INFO] Downloading time : 0:00:00.088846\n",
      "2023-06-23 17:48:45.117 [ INFO] Total time       : 0:00:13.162700\n",
      "2023-06-23 17:48:45.117 [ INFO] Download rate    : 521.5 kB/s\n",
      "2023-06-23 17:48:45.120 [ INFO] Done\n",
      "\n",
      "Dictionary saved as json file at /lustre_scratch/orlando-code/datasets/global_ocean_reanalysis/monthly_means/Great_Barrier_Reef_B/zos/VARS_zos_DATES_2004-12-31_2005-12-31_LONS_144_149_LATS_-16_-23_DEPTHS_0-3_1.json\n",
      "VARS_zos_DATES_2004-12-31_2005-12-31_LONS_144_149_LATS_-16_-23_DEPTHS_0-3_1 written to /lustre_scratch/orlando-code/datasets/global_ocean_reanalysis/monthly_means/Great_Barrier_Reef_B/zos and metadata generated.\n"
     ]
    },
    {
     "name": "stderr",
     "output_type": "stream",
     "text": []
    },
    {
     "name": "stdout",
     "output_type": "stream",
     "text": [
      "2023-06-23 17:48:46.773 [ INFO] Asynchronous mode set\n",
      "2023-06-23 17:48:46.774 [ INFO] Authenticating user otimmerman for service https://my.cmems-du.eu/motu-web/Motu\n",
      "2023-06-23 17:48:47.784 [ INFO] Requesting file to download (this can take a while)...\n",
      "2023-06-23 17:48:53.367 [ INFO] Authenticating user otimmerman for service https://my.cmems-du.eu/motu-web/Motu\n",
      "2023-06-23 17:49:00.013 [ INFO] The product is ready for download\n",
      "2023-06-23 17:49:00.013 [ INFO] Downloading file (this can take a while)...\n",
      "2023-06-23 17:49:00.167 [ INFO] File type: application/x-netcdf\n",
      "2023-06-23 17:49:00.168 [ INFO] File size: 127.7 kB (127692 B)\n",
      "2023-06-23 17:49:00.168 [ INFO] Downloading file /lustre_scratch/orlando-code/datasets/global_ocean_reanalysis/monthly_means/Great_Barrier_Reef_B/zos/VARS_zos_DATES_2005-12-31_2006-12-31_LONS_144_149_LATS_-16_-23_DEPTHS_0-3_1.nc\n",
      "2023-06-23 17:49:00.227 [ INFO] - 127.7 kB (51.3%)\n",
      "2023-06-23 17:49:00.257 [ INFO] - 127.7 kB (100.0%)\n",
      "2023-06-23 17:49:00.257 [ INFO] Processing  time : 0:00:13.394601\n",
      "2023-06-23 17:49:00.257 [ INFO] Downloading time : 0:00:00.089383\n",
      "2023-06-23 17:49:00.257 [ INFO] Total time       : 0:00:13.483984\n",
      "2023-06-23 17:49:00.257 [ INFO] Download rate    : 523.1 kB/s\n",
      "2023-06-23 17:49:00.260 [ INFO] Done\n",
      "\n",
      "Dictionary saved as json file at /lustre_scratch/orlando-code/datasets/global_ocean_reanalysis/monthly_means/Great_Barrier_Reef_B/zos/VARS_zos_DATES_2005-12-31_2006-12-31_LONS_144_149_LATS_-16_-23_DEPTHS_0-3_1.json\n",
      "VARS_zos_DATES_2005-12-31_2006-12-31_LONS_144_149_LATS_-16_-23_DEPTHS_0-3_1 written to /lustre_scratch/orlando-code/datasets/global_ocean_reanalysis/monthly_means/Great_Barrier_Reef_B/zos and metadata generated.\n"
     ]
    },
    {
     "name": "stderr",
     "output_type": "stream",
     "text": []
    },
    {
     "name": "stdout",
     "output_type": "stream",
     "text": [
      "2023-06-23 17:49:01.879 [ INFO] Asynchronous mode set\n",
      "2023-06-23 17:49:01.879 [ INFO] Authenticating user otimmerman for service https://my.cmems-du.eu/motu-web/Motu\n",
      "2023-06-23 17:49:05.015 [ INFO] Requesting file to download (this can take a while)...\n",
      "2023-06-23 17:49:10.439 [ INFO] Authenticating user otimmerman for service https://my.cmems-du.eu/motu-web/Motu\n",
      "2023-06-23 17:49:16.875 [ INFO] The product is ready for download\n",
      "2023-06-23 17:49:16.875 [ INFO] Downloading file (this can take a while)...\n",
      "2023-06-23 17:49:17.025 [ INFO] File type: application/x-netcdf\n",
      "2023-06-23 17:49:17.025 [ INFO] File size: 127.7 kB (127692 B)\n",
      "2023-06-23 17:49:17.025 [ INFO] Downloading file /lustre_scratch/orlando-code/datasets/global_ocean_reanalysis/monthly_means/Great_Barrier_Reef_B/zos/VARS_zos_DATES_2006-12-31_2007-12-31_LONS_144_149_LATS_-16_-23_DEPTHS_0-3_1.nc\n",
      "2023-06-23 17:49:17.085 [ INFO] - 127.7 kB (51.3%)\n",
      "2023-06-23 17:49:17.114 [ INFO] - 127.7 kB (100.0%)\n",
      "2023-06-23 17:49:17.114 [ INFO] Processing  time : 0:00:15.147120\n",
      "2023-06-23 17:49:17.114 [ INFO] Downloading time : 0:00:00.088864\n",
      "2023-06-23 17:49:17.114 [ INFO] Total time       : 0:00:15.235984\n",
      "2023-06-23 17:49:17.114 [ INFO] Download rate    : 534.8 kB/s\n",
      "2023-06-23 17:49:17.117 [ INFO] Done\n",
      "\n",
      "Dictionary saved as json file at /lustre_scratch/orlando-code/datasets/global_ocean_reanalysis/monthly_means/Great_Barrier_Reef_B/zos/VARS_zos_DATES_2006-12-31_2007-12-31_LONS_144_149_LATS_-16_-23_DEPTHS_0-3_1.json\n",
      "VARS_zos_DATES_2006-12-31_2007-12-31_LONS_144_149_LATS_-16_-23_DEPTHS_0-3_1 written to /lustre_scratch/orlando-code/datasets/global_ocean_reanalysis/monthly_means/Great_Barrier_Reef_B/zos and metadata generated.\n"
     ]
    },
    {
     "name": "stderr",
     "output_type": "stream",
     "text": []
    },
    {
     "name": "stdout",
     "output_type": "stream",
     "text": [
      "2023-06-23 17:49:18.744 [ INFO] Asynchronous mode set\n",
      "2023-06-23 17:49:18.744 [ INFO] Authenticating user otimmerman for service https://my.cmems-du.eu/motu-web/Motu\n",
      "2023-06-23 17:49:20.835 [ INFO] Requesting file to download (this can take a while)...\n",
      "2023-06-23 17:49:26.558 [ INFO] Authenticating user otimmerman for service https://my.cmems-du.eu/motu-web/Motu\n",
      "2023-06-23 17:49:32.998 [ INFO] The product is ready for download\n",
      "2023-06-23 17:49:32.998 [ INFO] Downloading file (this can take a while)...\n",
      "2023-06-23 17:49:33.184 [ INFO] File type: application/x-netcdf\n",
      "2023-06-23 17:49:33.184 [ INFO] File size: 127.7 kB (127692 B)\n",
      "2023-06-23 17:49:33.184 [ INFO] Downloading file /lustre_scratch/orlando-code/datasets/global_ocean_reanalysis/monthly_means/Great_Barrier_Reef_B/zos/VARS_zos_DATES_2007-12-31_2008-12-31_LONS_144_149_LATS_-16_-23_DEPTHS_0-3_1.nc\n",
      "2023-06-23 17:49:33.214 [ INFO] - 127.7 kB (51.3%)\n",
      "2023-06-23 17:49:33.243 [ INFO] - 127.7 kB (100.0%)\n",
      "2023-06-23 17:49:33.243 [ INFO] Processing  time : 0:00:14.440685\n",
      "2023-06-23 17:49:33.243 [ INFO] Downloading time : 0:00:00.059567\n",
      "2023-06-23 17:49:33.244 [ INFO] Total time       : 0:00:14.500252\n",
      "2023-06-23 17:49:33.244 [ INFO] Download rate    : 520.9 kB/s\n",
      "2023-06-23 17:49:33.246 [ INFO] Done\n",
      "\n",
      "Dictionary saved as json file at /lustre_scratch/orlando-code/datasets/global_ocean_reanalysis/monthly_means/Great_Barrier_Reef_B/zos/VARS_zos_DATES_2007-12-31_2008-12-31_LONS_144_149_LATS_-16_-23_DEPTHS_0-3_1.json\n",
      "VARS_zos_DATES_2007-12-31_2008-12-31_LONS_144_149_LATS_-16_-23_DEPTHS_0-3_1 written to /lustre_scratch/orlando-code/datasets/global_ocean_reanalysis/monthly_means/Great_Barrier_Reef_B/zos and metadata generated.\n"
     ]
    },
    {
     "name": "stderr",
     "output_type": "stream",
     "text": []
    },
    {
     "name": "stdout",
     "output_type": "stream",
     "text": [
      "2023-06-23 17:49:34.827 [ INFO] Asynchronous mode set\n",
      "2023-06-23 17:49:34.827 [ INFO] Authenticating user otimmerman for service https://my.cmems-du.eu/motu-web/Motu\n",
      "2023-06-23 17:49:35.681 [ INFO] Requesting file to download (this can take a while)...\n",
      "2023-06-23 17:49:41.096 [ INFO] Authenticating user otimmerman for service https://my.cmems-du.eu/motu-web/Motu\n",
      "2023-06-23 17:49:48.069 [ INFO] The product is ready for download\n",
      "2023-06-23 17:49:48.069 [ INFO] Downloading file (this can take a while)...\n",
      "2023-06-23 17:49:48.219 [ INFO] File type: application/x-netcdf\n",
      "2023-06-23 17:49:48.219 [ INFO] File size: 127.7 kB (127692 B)\n",
      "2023-06-23 17:49:48.219 [ INFO] Downloading file /lustre_scratch/orlando-code/datasets/global_ocean_reanalysis/monthly_means/Great_Barrier_Reef_B/zos/VARS_zos_DATES_2008-12-31_2009-12-31_LONS_144_149_LATS_-16_-23_DEPTHS_0-3_1.nc\n",
      "2023-06-23 17:49:48.278 [ INFO] - 127.7 kB (51.3%)\n",
      "2023-06-23 17:49:48.308 [ INFO] - 127.7 kB (100.0%)\n",
      "2023-06-23 17:49:48.308 [ INFO] Processing  time : 0:00:13.392312\n",
      "2023-06-23 17:49:48.308 [ INFO] Downloading time : 0:00:00.089068\n",
      "2023-06-23 17:49:48.308 [ INFO] Total time       : 0:00:13.481380\n",
      "2023-06-23 17:49:48.308 [ INFO] Download rate    : 533.6 kB/s\n",
      "2023-06-23 17:49:48.311 [ INFO] Done\n",
      "\n",
      "Dictionary saved as json file at /lustre_scratch/orlando-code/datasets/global_ocean_reanalysis/monthly_means/Great_Barrier_Reef_B/zos/VARS_zos_DATES_2008-12-31_2009-12-31_LONS_144_149_LATS_-16_-23_DEPTHS_0-3_1.json\n",
      "VARS_zos_DATES_2008-12-31_2009-12-31_LONS_144_149_LATS_-16_-23_DEPTHS_0-3_1 written to /lustre_scratch/orlando-code/datasets/global_ocean_reanalysis/monthly_means/Great_Barrier_Reef_B/zos and metadata generated.\n"
     ]
    },
    {
     "name": "stderr",
     "output_type": "stream",
     "text": []
    },
    {
     "name": "stdout",
     "output_type": "stream",
     "text": [
      "2023-06-23 17:49:49.948 [ INFO] Asynchronous mode set\n",
      "2023-06-23 17:49:49.948 [ INFO] Authenticating user otimmerman for service https://my.cmems-du.eu/motu-web/Motu\n",
      "2023-06-23 17:49:50.993 [ INFO] Requesting file to download (this can take a while)...\n",
      "2023-06-23 17:49:57.056 [ INFO] Authenticating user otimmerman for service https://my.cmems-du.eu/motu-web/Motu\n",
      "2023-06-23 17:50:03.463 [ INFO] The product is ready for download\n",
      "2023-06-23 17:50:03.463 [ INFO] Downloading file (this can take a while)...\n",
      "2023-06-23 17:50:03.643 [ INFO] File type: application/x-netcdf\n",
      "2023-06-23 17:50:03.643 [ INFO] File size: 127.7 kB (127692 B)\n",
      "2023-06-23 17:50:03.643 [ INFO] Downloading file /lustre_scratch/orlando-code/datasets/global_ocean_reanalysis/monthly_means/Great_Barrier_Reef_B/zos/VARS_zos_DATES_2009-12-31_2010-12-31_LONS_144_149_LATS_-16_-23_DEPTHS_0-3_1.nc\n",
      "2023-06-23 17:50:03.673 [ INFO] - 127.7 kB (51.3%)\n",
      "2023-06-23 17:50:03.705 [ INFO] - 127.7 kB (100.0%)\n",
      "2023-06-23 17:50:03.705 [ INFO] Processing  time : 0:00:13.695590\n",
      "2023-06-23 17:50:03.705 [ INFO] Downloading time : 0:00:00.061644\n",
      "2023-06-23 17:50:03.705 [ INFO] Total time       : 0:00:13.757234\n",
      "2023-06-23 17:50:03.705 [ INFO] Download rate    : 527.1 kB/s\n",
      "2023-06-23 17:50:03.708 [ INFO] Done\n",
      "\n",
      "Dictionary saved as json file at /lustre_scratch/orlando-code/datasets/global_ocean_reanalysis/monthly_means/Great_Barrier_Reef_B/zos/VARS_zos_DATES_2009-12-31_2010-12-31_LONS_144_149_LATS_-16_-23_DEPTHS_0-3_1.json\n",
      "VARS_zos_DATES_2009-12-31_2010-12-31_LONS_144_149_LATS_-16_-23_DEPTHS_0-3_1 written to /lustre_scratch/orlando-code/datasets/global_ocean_reanalysis/monthly_means/Great_Barrier_Reef_B/zos and metadata generated.\n"
     ]
    },
    {
     "name": "stderr",
     "output_type": "stream",
     "text": []
    },
    {
     "name": "stdout",
     "output_type": "stream",
     "text": [
      "2023-06-23 17:50:05.335 [ INFO] Asynchronous mode set\n",
      "2023-06-23 17:50:05.336 [ INFO] Authenticating user otimmerman for service https://my.cmems-du.eu/motu-web/Motu\n",
      "2023-06-23 17:50:06.045 [ INFO] Requesting file to download (this can take a while)...\n",
      "2023-06-23 17:50:11.468 [ INFO] Authenticating user otimmerman for service https://my.cmems-du.eu/motu-web/Motu\n",
      "2023-06-23 17:50:19.109 [ INFO] The product is ready for download\n",
      "2023-06-23 17:50:19.109 [ INFO] Downloading file (this can take a while)...\n",
      "2023-06-23 17:50:19.265 [ INFO] File type: application/x-netcdf\n",
      "2023-06-23 17:50:19.265 [ INFO] File size: 127.7 kB (127692 B)\n",
      "2023-06-23 17:50:19.265 [ INFO] Downloading file /lustre_scratch/orlando-code/datasets/global_ocean_reanalysis/monthly_means/Great_Barrier_Reef_B/zos/VARS_zos_DATES_2010-12-31_2011-12-31_LONS_144_149_LATS_-16_-23_DEPTHS_0-3_1.nc\n",
      "2023-06-23 17:50:19.323 [ INFO] - 127.7 kB (51.3%)\n",
      "2023-06-23 17:50:19.353 [ INFO] - 127.7 kB (100.0%)\n",
      "2023-06-23 17:50:19.353 [ INFO] Processing  time : 0:00:13.930660\n",
      "2023-06-23 17:50:19.353 [ INFO] Downloading time : 0:00:00.087514\n",
      "2023-06-23 17:50:19.353 [ INFO] Total time       : 0:00:14.018174\n",
      "2023-06-23 17:50:19.353 [ INFO] Download rate    : 523.1 kB/s\n",
      "2023-06-23 17:50:19.355 [ INFO] Done\n",
      "\n",
      "Dictionary saved as json file at /lustre_scratch/orlando-code/datasets/global_ocean_reanalysis/monthly_means/Great_Barrier_Reef_B/zos/VARS_zos_DATES_2010-12-31_2011-12-31_LONS_144_149_LATS_-16_-23_DEPTHS_0-3_1.json\n",
      "VARS_zos_DATES_2010-12-31_2011-12-31_LONS_144_149_LATS_-16_-23_DEPTHS_0-3_1 written to /lustre_scratch/orlando-code/datasets/global_ocean_reanalysis/monthly_means/Great_Barrier_Reef_B/zos and metadata generated.\n"
     ]
    },
    {
     "name": "stderr",
     "output_type": "stream",
     "text": []
    },
    {
     "name": "stdout",
     "output_type": "stream",
     "text": [
      "2023-06-23 17:50:20.970 [ INFO] Asynchronous mode set\n",
      "2023-06-23 17:50:20.970 [ INFO] Authenticating user otimmerman for service https://my.cmems-du.eu/motu-web/Motu\n",
      "2023-06-23 17:50:21.679 [ INFO] Requesting file to download (this can take a while)...\n",
      "2023-06-23 17:50:27.112 [ INFO] Authenticating user otimmerman for service https://my.cmems-du.eu/motu-web/Motu\n",
      "2023-06-23 17:50:33.874 [ INFO] The product is ready for download\n",
      "2023-06-23 17:50:33.874 [ INFO] Downloading file (this can take a while)...\n",
      "2023-06-23 17:50:34.023 [ INFO] File type: application/x-netcdf\n",
      "2023-06-23 17:50:34.023 [ INFO] File size: 127.7 kB (127692 B)\n",
      "2023-06-23 17:50:34.023 [ INFO] Downloading file /lustre_scratch/orlando-code/datasets/global_ocean_reanalysis/monthly_means/Great_Barrier_Reef_B/zos/VARS_zos_DATES_2011-12-31_2012-12-31_LONS_144_149_LATS_-16_-23_DEPTHS_0-3_1.nc\n",
      "2023-06-23 17:50:34.082 [ INFO] - 127.7 kB (51.3%)\n",
      "2023-06-23 17:50:34.111 [ INFO] - 127.7 kB (100.0%)\n",
      "2023-06-23 17:50:34.111 [ INFO] Processing  time : 0:00:13.053771\n",
      "2023-06-23 17:50:34.111 [ INFO] Downloading time : 0:00:00.088296\n",
      "2023-06-23 17:50:34.112 [ INFO] Total time       : 0:00:13.142067\n",
      "2023-06-23 17:50:34.112 [ INFO] Download rate    : 537.3 kB/s\n",
      "2023-06-23 17:50:34.114 [ INFO] Done\n",
      "\n",
      "Dictionary saved as json file at /lustre_scratch/orlando-code/datasets/global_ocean_reanalysis/monthly_means/Great_Barrier_Reef_B/zos/VARS_zos_DATES_2011-12-31_2012-12-31_LONS_144_149_LATS_-16_-23_DEPTHS_0-3_1.json\n",
      "VARS_zos_DATES_2011-12-31_2012-12-31_LONS_144_149_LATS_-16_-23_DEPTHS_0-3_1 written to /lustre_scratch/orlando-code/datasets/global_ocean_reanalysis/monthly_means/Great_Barrier_Reef_B/zos and metadata generated.\n"
     ]
    },
    {
     "name": "stderr",
     "output_type": "stream",
     "text": []
    },
    {
     "name": "stdout",
     "output_type": "stream",
     "text": [
      "2023-06-23 17:50:35.733 [ INFO] Asynchronous mode set\n",
      "2023-06-23 17:50:35.734 [ INFO] Authenticating user otimmerman for service https://my.cmems-du.eu/motu-web/Motu\n",
      "2023-06-23 17:50:37.428 [ INFO] Requesting file to download (this can take a while)...\n",
      "2023-06-23 17:50:42.841 [ INFO] Authenticating user otimmerman for service https://my.cmems-du.eu/motu-web/Motu\n",
      "2023-06-23 17:50:49.953 [ INFO] The product is ready for download\n",
      "2023-06-23 17:50:49.953 [ INFO] Downloading file (this can take a while)...\n",
      "2023-06-23 17:50:50.104 [ INFO] File type: application/x-netcdf\n",
      "2023-06-23 17:50:50.104 [ INFO] File size: 127.7 kB (127692 B)\n",
      "2023-06-23 17:50:50.104 [ INFO] Downloading file /lustre_scratch/orlando-code/datasets/global_ocean_reanalysis/monthly_means/Great_Barrier_Reef_B/zos/VARS_zos_DATES_2012-12-31_2013-12-31_LONS_144_149_LATS_-16_-23_DEPTHS_0-3_1.nc\n",
      "2023-06-23 17:50:50.164 [ INFO] - 127.7 kB (51.3%)\n",
      "2023-06-23 17:50:50.194 [ INFO] - 127.7 kB (100.0%)\n",
      "2023-06-23 17:50:50.194 [ INFO] Processing  time : 0:00:14.370894\n",
      "2023-06-23 17:50:50.194 [ INFO] Downloading time : 0:00:00.090013\n",
      "2023-06-23 17:50:50.194 [ INFO] Total time       : 0:00:14.460907\n",
      "2023-06-23 17:50:50.194 [ INFO] Download rate    : 529.4 kB/s\n",
      "2023-06-23 17:50:50.197 [ INFO] Done\n",
      "\n",
      "Dictionary saved as json file at /lustre_scratch/orlando-code/datasets/global_ocean_reanalysis/monthly_means/Great_Barrier_Reef_B/zos/VARS_zos_DATES_2012-12-31_2013-12-31_LONS_144_149_LATS_-16_-23_DEPTHS_0-3_1.json\n",
      "VARS_zos_DATES_2012-12-31_2013-12-31_LONS_144_149_LATS_-16_-23_DEPTHS_0-3_1 written to /lustre_scratch/orlando-code/datasets/global_ocean_reanalysis/monthly_means/Great_Barrier_Reef_B/zos and metadata generated.\n"
     ]
    },
    {
     "name": "stderr",
     "output_type": "stream",
     "text": []
    },
    {
     "name": "stdout",
     "output_type": "stream",
     "text": [
      "2023-06-23 17:50:51.864 [ INFO] Asynchronous mode set\n",
      "2023-06-23 17:50:51.864 [ INFO] Authenticating user otimmerman for service https://my.cmems-du.eu/motu-web/Motu\n",
      "2023-06-23 17:50:54.131 [ INFO] Requesting file to download (this can take a while)...\n",
      "2023-06-23 17:50:59.960 [ INFO] Authenticating user otimmerman for service https://my.cmems-du.eu/motu-web/Motu\n",
      "2023-06-23 17:51:07.225 [ INFO] The product is ready for download\n",
      "2023-06-23 17:51:07.225 [ INFO] Downloading file (this can take a while)...\n",
      "2023-06-23 17:51:07.374 [ INFO] File type: application/x-netcdf\n",
      "2023-06-23 17:51:07.374 [ INFO] File size: 127.7 kB (127692 B)\n",
      "2023-06-23 17:51:07.374 [ INFO] Downloading file /lustre_scratch/orlando-code/datasets/global_ocean_reanalysis/monthly_means/Great_Barrier_Reef_B/zos/VARS_zos_DATES_2013-12-31_2014-12-31_LONS_144_149_LATS_-16_-23_DEPTHS_0-3_1.nc\n",
      "2023-06-23 17:51:07.436 [ INFO] - 127.7 kB (51.3%)\n",
      "2023-06-23 17:51:07.466 [ INFO] - 127.7 kB (100.0%)\n",
      "2023-06-23 17:51:07.466 [ INFO] Processing  time : 0:00:15.510995\n",
      "2023-06-23 17:51:07.466 [ INFO] Downloading time : 0:00:00.091665\n",
      "2023-06-23 17:51:07.466 [ INFO] Total time       : 0:00:15.602660\n",
      "2023-06-23 17:51:07.466 [ INFO] Download rate    : 530.9 kB/s\n",
      "2023-06-23 17:51:07.469 [ INFO] Done\n",
      "\n",
      "Dictionary saved as json file at /lustre_scratch/orlando-code/datasets/global_ocean_reanalysis/monthly_means/Great_Barrier_Reef_B/zos/VARS_zos_DATES_2013-12-31_2014-12-31_LONS_144_149_LATS_-16_-23_DEPTHS_0-3_1.json\n",
      "VARS_zos_DATES_2013-12-31_2014-12-31_LONS_144_149_LATS_-16_-23_DEPTHS_0-3_1 written to /lustre_scratch/orlando-code/datasets/global_ocean_reanalysis/monthly_means/Great_Barrier_Reef_B/zos and metadata generated.\n"
     ]
    },
    {
     "name": "stderr",
     "output_type": "stream",
     "text": []
    },
    {
     "name": "stdout",
     "output_type": "stream",
     "text": [
      "2023-06-23 17:51:09.096 [ INFO] Asynchronous mode set\n",
      "2023-06-23 17:51:09.096 [ INFO] Authenticating user otimmerman for service https://my.cmems-du.eu/motu-web/Motu\n",
      "2023-06-23 17:51:09.803 [ INFO] Requesting file to download (this can take a while)...\n",
      "2023-06-23 17:51:15.244 [ INFO] Authenticating user otimmerman for service https://my.cmems-du.eu/motu-web/Motu\n",
      "2023-06-23 17:51:21.433 [ INFO] The product is ready for download\n",
      "2023-06-23 17:51:21.433 [ INFO] Downloading file (this can take a while)...\n",
      "2023-06-23 17:51:21.584 [ INFO] File type: application/x-netcdf\n",
      "2023-06-23 17:51:21.584 [ INFO] File size: 127.7 kB (127692 B)\n",
      "2023-06-23 17:51:21.584 [ INFO] Downloading file /lustre_scratch/orlando-code/datasets/global_ocean_reanalysis/monthly_means/Great_Barrier_Reef_B/zos/VARS_zos_DATES_2014-12-31_2015-12-31_LONS_144_149_LATS_-16_-23_DEPTHS_0-3_1.nc\n",
      "2023-06-23 17:51:21.644 [ INFO] - 127.7 kB (51.3%)\n",
      "2023-06-23 17:51:21.671 [ INFO] - 127.7 kB (100.0%)\n",
      "2023-06-23 17:51:21.671 [ INFO] Processing  time : 0:00:12.489112\n",
      "2023-06-23 17:51:21.671 [ INFO] Downloading time : 0:00:00.087021\n",
      "2023-06-23 17:51:21.671 [ INFO] Total time       : 0:00:12.576133\n",
      "2023-06-23 17:51:21.671 [ INFO] Download rate    : 535.5 kB/s\n",
      "2023-06-23 17:51:21.674 [ INFO] Done\n",
      "\n",
      "Dictionary saved as json file at /lustre_scratch/orlando-code/datasets/global_ocean_reanalysis/monthly_means/Great_Barrier_Reef_B/zos/VARS_zos_DATES_2014-12-31_2015-12-31_LONS_144_149_LATS_-16_-23_DEPTHS_0-3_1.json\n",
      "VARS_zos_DATES_2014-12-31_2015-12-31_LONS_144_149_LATS_-16_-23_DEPTHS_0-3_1 written to /lustre_scratch/orlando-code/datasets/global_ocean_reanalysis/monthly_means/Great_Barrier_Reef_B/zos and metadata generated.\n"
     ]
    },
    {
     "name": "stderr",
     "output_type": "stream",
     "text": []
    },
    {
     "name": "stdout",
     "output_type": "stream",
     "text": [
      "2023-06-23 17:51:23.309 [ INFO] Asynchronous mode set\n",
      "2023-06-23 17:51:23.309 [ INFO] Authenticating user otimmerman for service https://my.cmems-du.eu/motu-web/Motu\n",
      "2023-06-23 17:51:24.021 [ INFO] Requesting file to download (this can take a while)...\n",
      "2023-06-23 17:51:29.443 [ INFO] Authenticating user otimmerman for service https://my.cmems-du.eu/motu-web/Motu\n",
      "2023-06-23 17:51:35.558 [ INFO] The product is ready for download\n",
      "2023-06-23 17:51:35.558 [ INFO] Downloading file (this can take a while)...\n",
      "2023-06-23 17:51:35.709 [ INFO] File type: application/x-netcdf\n",
      "2023-06-23 17:51:35.709 [ INFO] File size: 127.7 kB (127692 B)\n",
      "2023-06-23 17:51:35.709 [ INFO] Downloading file /lustre_scratch/orlando-code/datasets/global_ocean_reanalysis/monthly_means/Great_Barrier_Reef_B/zos/VARS_zos_DATES_2015-12-31_2016-12-31_LONS_144_149_LATS_-16_-23_DEPTHS_0-3_1.nc\n",
      "2023-06-23 17:51:35.768 [ INFO] - 127.7 kB (51.3%)\n",
      "2023-06-23 17:51:35.798 [ INFO] - 127.7 kB (100.0%)\n",
      "2023-06-23 17:51:35.798 [ INFO] Processing  time : 0:00:12.400463\n",
      "2023-06-23 17:51:35.798 [ INFO] Downloading time : 0:00:00.089255\n",
      "2023-06-23 17:51:35.798 [ INFO] Total time       : 0:00:12.489718\n",
      "2023-06-23 17:51:35.798 [ INFO] Download rate    : 531.6 kB/s\n",
      "2023-06-23 17:51:35.800 [ INFO] Done\n",
      "\n",
      "Dictionary saved as json file at /lustre_scratch/orlando-code/datasets/global_ocean_reanalysis/monthly_means/Great_Barrier_Reef_B/zos/VARS_zos_DATES_2015-12-31_2016-12-31_LONS_144_149_LATS_-16_-23_DEPTHS_0-3_1.json\n",
      "VARS_zos_DATES_2015-12-31_2016-12-31_LONS_144_149_LATS_-16_-23_DEPTHS_0-3_1 written to /lustre_scratch/orlando-code/datasets/global_ocean_reanalysis/monthly_means/Great_Barrier_Reef_B/zos and metadata generated.\n"
     ]
    },
    {
     "name": "stderr",
     "output_type": "stream",
     "text": []
    },
    {
     "name": "stdout",
     "output_type": "stream",
     "text": [
      "2023-06-23 17:51:37.444 [ INFO] Asynchronous mode set\n",
      "2023-06-23 17:51:37.444 [ INFO] Authenticating user otimmerman for service https://my.cmems-du.eu/motu-web/Motu\n",
      "2023-06-23 17:51:38.385 [ INFO] Requesting file to download (this can take a while)...\n",
      "2023-06-23 17:51:43.796 [ INFO] Authenticating user otimmerman for service https://my.cmems-du.eu/motu-web/Motu\n",
      "2023-06-23 17:51:50.990 [ INFO] The product is ready for download\n",
      "2023-06-23 17:51:50.991 [ INFO] Downloading file (this can take a while)...\n",
      "2023-06-23 17:51:51.145 [ INFO] File type: application/x-netcdf\n",
      "2023-06-23 17:51:51.145 [ INFO] File size: 127.7 kB (127692 B)\n",
      "2023-06-23 17:51:51.145 [ INFO] Downloading file /lustre_scratch/orlando-code/datasets/global_ocean_reanalysis/monthly_means/Great_Barrier_Reef_B/zos/VARS_zos_DATES_2016-12-31_2017-12-31_LONS_144_149_LATS_-16_-23_DEPTHS_0-3_1.nc\n",
      "2023-06-23 17:51:51.204 [ INFO] - 127.7 kB (51.3%)\n",
      "2023-06-23 17:51:51.235 [ INFO] - 127.7 kB (100.0%)\n",
      "2023-06-23 17:51:51.235 [ INFO] Processing  time : 0:00:13.701230\n",
      "2023-06-23 17:51:51.235 [ INFO] Downloading time : 0:00:00.090206\n",
      "2023-06-23 17:51:51.235 [ INFO] Total time       : 0:00:13.791436\n",
      "2023-06-23 17:51:51.235 [ INFO] Download rate    : 522.7 kB/s\n",
      "2023-06-23 17:51:51.238 [ INFO] Done\n",
      "\n",
      "Dictionary saved as json file at /lustre_scratch/orlando-code/datasets/global_ocean_reanalysis/monthly_means/Great_Barrier_Reef_B/zos/VARS_zos_DATES_2016-12-31_2017-12-31_LONS_144_149_LATS_-16_-23_DEPTHS_0-3_1.json\n",
      "VARS_zos_DATES_2016-12-31_2017-12-31_LONS_144_149_LATS_-16_-23_DEPTHS_0-3_1 written to /lustre_scratch/orlando-code/datasets/global_ocean_reanalysis/monthly_means/Great_Barrier_Reef_B/zos and metadata generated.\n"
     ]
    },
    {
     "name": "stderr",
     "output_type": "stream",
     "text": []
    },
    {
     "name": "stdout",
     "output_type": "stream",
     "text": [
      "2023-06-23 17:51:52.887 [ INFO] Asynchronous mode set\n",
      "2023-06-23 17:51:52.887 [ INFO] Authenticating user otimmerman for service https://my.cmems-du.eu/motu-web/Motu\n",
      "2023-06-23 17:51:53.599 [ INFO] Requesting file to download (this can take a while)...\n",
      "2023-06-23 17:51:59.014 [ INFO] Authenticating user otimmerman for service https://my.cmems-du.eu/motu-web/Motu\n",
      "2023-06-23 17:52:05.148 [ INFO] The product is ready for download\n",
      "2023-06-23 17:52:05.148 [ INFO] Downloading file (this can take a while)...\n",
      "2023-06-23 17:52:05.298 [ INFO] File type: application/x-netcdf\n",
      "2023-06-23 17:52:05.298 [ INFO] File size: 127.7 kB (127692 B)\n",
      "2023-06-23 17:52:05.298 [ INFO] Downloading file /lustre_scratch/orlando-code/datasets/global_ocean_reanalysis/monthly_means/Great_Barrier_Reef_B/zos/VARS_zos_DATES_2017-12-31_2018-12-31_LONS_144_149_LATS_-16_-23_DEPTHS_0-3_1.nc\n",
      "2023-06-23 17:52:05.357 [ INFO] - 127.7 kB (51.3%)\n",
      "2023-06-23 17:52:05.386 [ INFO] - 127.7 kB (100.0%)\n",
      "2023-06-23 17:52:05.386 [ INFO] Processing  time : 0:00:12.411611\n",
      "2023-06-23 17:52:05.386 [ INFO] Downloading time : 0:00:00.087643\n",
      "2023-06-23 17:52:05.386 [ INFO] Total time       : 0:00:12.499254\n",
      "2023-06-23 17:52:05.386 [ INFO] Download rate    : 536.8 kB/s\n",
      "2023-06-23 17:52:05.389 [ INFO] Done\n",
      "\n",
      "Dictionary saved as json file at /lustre_scratch/orlando-code/datasets/global_ocean_reanalysis/monthly_means/Great_Barrier_Reef_B/zos/VARS_zos_DATES_2017-12-31_2018-12-31_LONS_144_149_LATS_-16_-23_DEPTHS_0-3_1.json\n",
      "VARS_zos_DATES_2017-12-31_2018-12-31_LONS_144_149_LATS_-16_-23_DEPTHS_0-3_1 written to /lustre_scratch/orlando-code/datasets/global_ocean_reanalysis/monthly_means/Great_Barrier_Reef_B/zos and metadata generated.\n"
     ]
    },
    {
     "name": "stderr",
     "output_type": "stream",
     "text": []
    },
    {
     "name": "stdout",
     "output_type": "stream",
     "text": [
      "2023-06-23 17:52:07.020 [ INFO] Asynchronous mode set\n",
      "2023-06-23 17:52:07.020 [ INFO] Authenticating user otimmerman for service https://my.cmems-du.eu/motu-web/Motu\n",
      "2023-06-23 17:52:07.730 [ INFO] Requesting file to download (this can take a while)...\n",
      "2023-06-23 17:52:13.142 [ INFO] Authenticating user otimmerman for service https://my.cmems-du.eu/motu-web/Motu\n",
      "2023-06-23 17:52:19.259 [ INFO] The product is ready for download\n",
      "2023-06-23 17:52:19.259 [ INFO] Downloading file (this can take a while)...\n",
      "2023-06-23 17:52:19.413 [ INFO] File type: application/x-netcdf\n",
      "2023-06-23 17:52:19.413 [ INFO] File size: 127.7 kB (127692 B)\n",
      "2023-06-23 17:52:19.413 [ INFO] Downloading file /lustre_scratch/orlando-code/datasets/global_ocean_reanalysis/monthly_means/Great_Barrier_Reef_B/zos/VARS_zos_DATES_2018-12-31_2019-12-31_LONS_144_149_LATS_-16_-23_DEPTHS_0-3_1.nc\n",
      "2023-06-23 17:52:19.473 [ INFO] - 127.7 kB (51.3%)\n",
      "2023-06-23 17:52:19.503 [ INFO] - 127.7 kB (100.0%)\n",
      "2023-06-23 17:52:19.504 [ INFO] Processing  time : 0:00:12.393667\n",
      "2023-06-23 17:52:19.504 [ INFO] Downloading time : 0:00:00.090681\n",
      "2023-06-23 17:52:19.504 [ INFO] Total time       : 0:00:12.484348\n",
      "2023-06-23 17:52:19.504 [ INFO] Download rate    : 521.7 kB/s\n",
      "2023-06-23 17:52:19.506 [ INFO] Done\n",
      "\n",
      "Dictionary saved as json file at /lustre_scratch/orlando-code/datasets/global_ocean_reanalysis/monthly_means/Great_Barrier_Reef_B/zos/VARS_zos_DATES_2018-12-31_2019-12-31_LONS_144_149_LATS_-16_-23_DEPTHS_0-3_1.json\n",
      "VARS_zos_DATES_2018-12-31_2019-12-31_LONS_144_149_LATS_-16_-23_DEPTHS_0-3_1 written to /lustre_scratch/orlando-code/datasets/global_ocean_reanalysis/monthly_means/Great_Barrier_Reef_B/zos and metadata generated.\n",
      "Merging .nc files into /lustre_scratch/orlando-code/datasets/global_ocean_reanalysis/monthly_means/Great_Barrier_Reef_B/merged_vars/VARS_zos_DATES_1992-12-31_2020-12-16_LONS_144_149_LATS_-16_-23_DEPTHS_0-3_1.nc\n"
     ]
    },
    {
     "name": "stderr",
     "output_type": "stream",
     "text": [
      " variable loop:  71%|███████▏  | 5/7 [37:58<15:12, 456.11s/it]"
     ]
    },
    {
     "name": "stdout",
     "output_type": "stream",
     "text": [
      "Dictionary saved as json file at /lustre_scratch/orlando-code/datasets/global_ocean_reanalysis/monthly_means/Great_Barrier_Reef_B/merged_vars/VARS_zos_DATES_1992-12-31_2020-12-16_LONS_144_149_LATS_-16_-23_DEPTHS_0-3_1.json\n",
      "Downloading thetao data...\n"
     ]
    },
    {
     "name": "stderr",
     "output_type": "stream",
     "text": []
    },
    {
     "name": "stdout",
     "output_type": "stream",
     "text": [
      "2023-06-23 17:52:21.473 [ INFO] Asynchronous mode set\n",
      "2023-06-23 17:52:21.473 [ INFO] Authenticating user otimmerman for service https://my.cmems-du.eu/motu-web/Motu\n",
      "2023-06-23 17:52:22.165 [ INFO] Requesting file to download (this can take a while)...\n",
      "2023-06-23 17:52:27.586 [ INFO] Authenticating user otimmerman for service https://my.cmems-du.eu/motu-web/Motu\n",
      "2023-06-23 17:52:33.704 [ INFO] Product is not yet available (request in progress)\n",
      "2023-06-23 17:52:43.714 [ INFO] Authenticating user otimmerman for service https://my.cmems-du.eu/motu-web/Motu\n",
      "2023-06-23 17:52:49.832 [ INFO] The product is ready for download\n",
      "2023-06-23 17:52:49.832 [ INFO] Downloading file (this can take a while)...\n",
      "2023-06-23 17:52:49.987 [ INFO] File type: application/x-netcdf\n",
      "2023-06-23 17:52:49.987 [ INFO] File size: 128.1 kB (128104 B)\n",
      "2023-06-23 17:52:49.987 [ INFO] Downloading file /lustre_scratch/orlando-code/datasets/global_ocean_reanalysis/monthly_means/Great_Barrier_Reef_B/thetao/VARS_thetao_DATES_1992-12-31_1993-12-31_LONS_144_149_LATS_-16_-23_DEPTHS_0-3_1.nc\n",
      "2023-06-23 17:52:50.045 [ INFO] - 128.1 kB (51.2%)\n",
      "2023-06-23 17:52:50.075 [ INFO] - 128.1 kB (100.0%)\n",
      "2023-06-23 17:52:50.076 [ INFO] Processing  time : 0:00:28.514156\n",
      "2023-06-23 17:52:50.076 [ INFO] Downloading time : 0:00:00.088858\n",
      "2023-06-23 17:52:50.076 [ INFO] Total time       : 0:00:28.603014\n",
      "2023-06-23 17:52:50.076 [ INFO] Download rate    : 525.4 kB/s\n",
      "2023-06-23 17:52:50.078 [ INFO] Done\n",
      "\n",
      "Dictionary saved as json file at /lustre_scratch/orlando-code/datasets/global_ocean_reanalysis/monthly_means/Great_Barrier_Reef_B/thetao/VARS_thetao_DATES_1992-12-31_1993-12-31_LONS_144_149_LATS_-16_-23_DEPTHS_0-3_1.json\n",
      "VARS_thetao_DATES_1992-12-31_1993-12-31_LONS_144_149_LATS_-16_-23_DEPTHS_0-3_1 written to /lustre_scratch/orlando-code/datasets/global_ocean_reanalysis/monthly_means/Great_Barrier_Reef_B/thetao and metadata generated.\n"
     ]
    },
    {
     "name": "stderr",
     "output_type": "stream",
     "text": []
    },
    {
     "name": "stdout",
     "output_type": "stream",
     "text": [
      "2023-06-23 17:52:51.699 [ INFO] Asynchronous mode set\n",
      "2023-06-23 17:52:51.699 [ INFO] Authenticating user otimmerman for service https://my.cmems-du.eu/motu-web/Motu\n",
      "2023-06-23 17:52:53.679 [ INFO] Requesting file to download (this can take a while)...\n",
      "2023-06-23 17:53:00.071 [ INFO] Authenticating user otimmerman for service https://my.cmems-du.eu/motu-web/Motu\n",
      "2023-06-23 17:53:10.343 [ INFO] The product is ready for download\n",
      "2023-06-23 17:53:10.344 [ INFO] Downloading file (this can take a while)...\n",
      "2023-06-23 17:53:10.496 [ INFO] File type: application/x-netcdf\n",
      "2023-06-23 17:53:10.496 [ INFO] File size: 128.1 kB (128104 B)\n",
      "2023-06-23 17:53:10.496 [ INFO] Downloading file /lustre_scratch/orlando-code/datasets/global_ocean_reanalysis/monthly_means/Great_Barrier_Reef_B/thetao/VARS_thetao_DATES_1993-12-31_1994-12-31_LONS_144_149_LATS_-16_-23_DEPTHS_0-3_1.nc\n",
      "2023-06-23 17:53:10.555 [ INFO] - 128.1 kB (51.2%)\n",
      "2023-06-23 17:53:10.586 [ INFO] - 128.1 kB (100.0%)\n",
      "2023-06-23 17:53:10.586 [ INFO] Processing  time : 0:00:18.797350\n",
      "2023-06-23 17:53:10.586 [ INFO] Downloading time : 0:00:00.089909\n",
      "2023-06-23 17:53:10.586 [ INFO] Total time       : 0:00:18.887259\n",
      "2023-06-23 17:53:10.586 [ INFO] Download rate    : 528.1 kB/s\n",
      "2023-06-23 17:53:10.589 [ INFO] Done\n",
      "\n",
      "Dictionary saved as json file at /lustre_scratch/orlando-code/datasets/global_ocean_reanalysis/monthly_means/Great_Barrier_Reef_B/thetao/VARS_thetao_DATES_1993-12-31_1994-12-31_LONS_144_149_LATS_-16_-23_DEPTHS_0-3_1.json\n",
      "VARS_thetao_DATES_1993-12-31_1994-12-31_LONS_144_149_LATS_-16_-23_DEPTHS_0-3_1 written to /lustre_scratch/orlando-code/datasets/global_ocean_reanalysis/monthly_means/Great_Barrier_Reef_B/thetao and metadata generated.\n"
     ]
    },
    {
     "name": "stderr",
     "output_type": "stream",
     "text": []
    },
    {
     "name": "stdout",
     "output_type": "stream",
     "text": [
      "2023-06-23 17:53:12.199 [ INFO] Asynchronous mode set\n",
      "2023-06-23 17:53:12.200 [ INFO] Authenticating user otimmerman for service https://my.cmems-du.eu/motu-web/Motu\n",
      "2023-06-23 17:53:14.757 [ INFO] Requesting file to download (this can take a while)...\n",
      "2023-06-23 17:53:20.376 [ INFO] Authenticating user otimmerman for service https://my.cmems-du.eu/motu-web/Motu\n",
      "2023-06-23 17:53:26.838 [ INFO] The product is ready for download\n",
      "2023-06-23 17:53:26.838 [ INFO] Downloading file (this can take a while)...\n",
      "2023-06-23 17:53:26.989 [ INFO] File type: application/x-netcdf\n",
      "2023-06-23 17:53:26.990 [ INFO] File size: 128.1 kB (128104 B)\n",
      "2023-06-23 17:53:26.990 [ INFO] Downloading file /lustre_scratch/orlando-code/datasets/global_ocean_reanalysis/monthly_means/Great_Barrier_Reef_B/thetao/VARS_thetao_DATES_1994-12-31_1995-12-31_LONS_144_149_LATS_-16_-23_DEPTHS_0-3_1.nc\n",
      "2023-06-23 17:53:27.047 [ INFO] - 128.1 kB (51.2%)\n",
      "2023-06-23 17:53:27.078 [ INFO] - 128.1 kB (100.0%)\n",
      "2023-06-23 17:53:27.078 [ INFO] Processing  time : 0:00:14.790726\n",
      "2023-06-23 17:53:27.078 [ INFO] Downloading time : 0:00:00.087910\n",
      "2023-06-23 17:53:27.078 [ INFO] Total time       : 0:00:14.878636\n",
      "2023-06-23 17:53:27.078 [ INFO] Download rate    : 534.6 kB/s\n",
      "2023-06-23 17:53:27.080 [ INFO] Done\n",
      "\n",
      "Dictionary saved as json file at /lustre_scratch/orlando-code/datasets/global_ocean_reanalysis/monthly_means/Great_Barrier_Reef_B/thetao/VARS_thetao_DATES_1994-12-31_1995-12-31_LONS_144_149_LATS_-16_-23_DEPTHS_0-3_1.json\n",
      "VARS_thetao_DATES_1994-12-31_1995-12-31_LONS_144_149_LATS_-16_-23_DEPTHS_0-3_1 written to /lustre_scratch/orlando-code/datasets/global_ocean_reanalysis/monthly_means/Great_Barrier_Reef_B/thetao and metadata generated.\n"
     ]
    },
    {
     "name": "stderr",
     "output_type": "stream",
     "text": []
    },
    {
     "name": "stdout",
     "output_type": "stream",
     "text": [
      "2023-06-23 17:53:28.688 [ INFO] Asynchronous mode set\n",
      "2023-06-23 17:53:28.689 [ INFO] Authenticating user otimmerman for service https://my.cmems-du.eu/motu-web/Motu\n",
      "2023-06-23 17:53:30.350 [ INFO] Requesting file to download (this can take a while)...\n",
      "2023-06-23 17:53:35.784 [ INFO] Authenticating user otimmerman for service https://my.cmems-du.eu/motu-web/Motu\n",
      "2023-06-23 17:53:41.879 [ INFO] Product is not yet available (request in progress)\n",
      "2023-06-23 17:53:51.886 [ INFO] Authenticating user otimmerman for service https://my.cmems-du.eu/motu-web/Motu\n",
      "2023-06-23 17:54:00.815 [ INFO] The product is ready for download\n",
      "2023-06-23 17:54:00.815 [ INFO] Downloading file (this can take a while)...\n",
      "2023-06-23 17:54:00.970 [ INFO] File type: application/x-netcdf\n",
      "2023-06-23 17:54:00.970 [ INFO] File size: 128.1 kB (128104 B)\n",
      "2023-06-23 17:54:00.970 [ INFO] Downloading file /lustre_scratch/orlando-code/datasets/global_ocean_reanalysis/monthly_means/Great_Barrier_Reef_B/thetao/VARS_thetao_DATES_1995-12-31_1996-12-31_LONS_144_149_LATS_-16_-23_DEPTHS_0-3_1.nc\n",
      "2023-06-23 17:54:01.030 [ INFO] - 128.1 kB (51.2%)\n",
      "2023-06-23 17:54:01.060 [ INFO] - 128.1 kB (100.0%)\n",
      "2023-06-23 17:54:01.060 [ INFO] Processing  time : 0:00:32.281864\n",
      "2023-06-23 17:54:01.060 [ INFO] Downloading time : 0:00:00.090005\n",
      "2023-06-23 17:54:01.060 [ INFO] Total time       : 0:00:32.371869\n",
      "2023-06-23 17:54:01.060 [ INFO] Download rate    : 523.4 kB/s\n",
      "2023-06-23 17:54:01.062 [ INFO] Done\n",
      "\n",
      "Dictionary saved as json file at /lustre_scratch/orlando-code/datasets/global_ocean_reanalysis/monthly_means/Great_Barrier_Reef_B/thetao/VARS_thetao_DATES_1995-12-31_1996-12-31_LONS_144_149_LATS_-16_-23_DEPTHS_0-3_1.json\n",
      "VARS_thetao_DATES_1995-12-31_1996-12-31_LONS_144_149_LATS_-16_-23_DEPTHS_0-3_1 written to /lustre_scratch/orlando-code/datasets/global_ocean_reanalysis/monthly_means/Great_Barrier_Reef_B/thetao and metadata generated.\n"
     ]
    },
    {
     "name": "stderr",
     "output_type": "stream",
     "text": []
    },
    {
     "name": "stdout",
     "output_type": "stream",
     "text": [
      "2023-06-23 17:54:02.636 [ INFO] Asynchronous mode set\n",
      "2023-06-23 17:54:02.637 [ INFO] Authenticating user otimmerman for service https://my.cmems-du.eu/motu-web/Motu\n",
      "2023-06-23 17:54:04.135 [ INFO] Requesting file to download (this can take a while)...\n",
      "2023-06-23 17:54:11.281 [ INFO] Authenticating user otimmerman for service https://my.cmems-du.eu/motu-web/Motu\n",
      "2023-06-23 17:54:19.003 [ INFO] The product is ready for download\n",
      "2023-06-23 17:54:19.003 [ INFO] Downloading file (this can take a while)...\n",
      "2023-06-23 17:54:19.157 [ INFO] File type: application/x-netcdf\n",
      "2023-06-23 17:54:19.157 [ INFO] File size: 128.1 kB (128104 B)\n",
      "2023-06-23 17:54:19.158 [ INFO] Downloading file /lustre_scratch/orlando-code/datasets/global_ocean_reanalysis/monthly_means/Great_Barrier_Reef_B/thetao/VARS_thetao_DATES_1996-12-31_1997-12-31_LONS_144_149_LATS_-16_-23_DEPTHS_0-3_1.nc\n",
      "2023-06-23 17:54:19.216 [ INFO] - 128.1 kB (51.2%)\n",
      "2023-06-23 17:54:19.247 [ INFO] - 128.1 kB (100.0%)\n",
      "2023-06-23 17:54:19.247 [ INFO] Processing  time : 0:00:16.521430\n",
      "2023-06-23 17:54:19.247 [ INFO] Downloading time : 0:00:00.089115\n",
      "2023-06-23 17:54:19.247 [ INFO] Total time       : 0:00:16.610545\n",
      "2023-06-23 17:54:19.247 [ INFO] Download rate    : 526.6 kB/s\n",
      "2023-06-23 17:54:19.249 [ INFO] Done\n",
      "\n",
      "Dictionary saved as json file at /lustre_scratch/orlando-code/datasets/global_ocean_reanalysis/monthly_means/Great_Barrier_Reef_B/thetao/VARS_thetao_DATES_1996-12-31_1997-12-31_LONS_144_149_LATS_-16_-23_DEPTHS_0-3_1.json\n",
      "VARS_thetao_DATES_1996-12-31_1997-12-31_LONS_144_149_LATS_-16_-23_DEPTHS_0-3_1 written to /lustre_scratch/orlando-code/datasets/global_ocean_reanalysis/monthly_means/Great_Barrier_Reef_B/thetao and metadata generated.\n"
     ]
    },
    {
     "name": "stderr",
     "output_type": "stream",
     "text": []
    },
    {
     "name": "stdout",
     "output_type": "stream",
     "text": [
      "2023-06-23 17:54:20.840 [ INFO] Asynchronous mode set\n",
      "2023-06-23 17:54:20.841 [ INFO] Authenticating user otimmerman for service https://my.cmems-du.eu/motu-web/Motu\n",
      "2023-06-23 17:54:23.195 [ INFO] Requesting file to download (this can take a while)...\n",
      "2023-06-23 17:54:29.578 [ INFO] Authenticating user otimmerman for service https://my.cmems-du.eu/motu-web/Motu\n",
      "2023-06-23 17:54:36.405 [ INFO] The product is ready for download\n",
      "2023-06-23 17:54:36.405 [ INFO] Downloading file (this can take a while)...\n",
      "2023-06-23 17:54:36.585 [ INFO] File type: application/x-netcdf\n",
      "2023-06-23 17:54:36.585 [ INFO] File size: 128.1 kB (128104 B)\n",
      "2023-06-23 17:54:36.586 [ INFO] Downloading file /lustre_scratch/orlando-code/datasets/global_ocean_reanalysis/monthly_means/Great_Barrier_Reef_B/thetao/VARS_thetao_DATES_1997-12-31_1998-12-31_LONS_144_149_LATS_-16_-23_DEPTHS_0-3_1.nc\n",
      "2023-06-23 17:54:36.613 [ INFO] - 128.1 kB (51.2%)\n",
      "2023-06-23 17:54:36.646 [ INFO] - 128.1 kB (100.0%)\n",
      "2023-06-23 17:54:36.646 [ INFO] Processing  time : 0:00:15.745322\n",
      "2023-06-23 17:54:36.646 [ INFO] Downloading time : 0:00:00.060124\n",
      "2023-06-23 17:54:36.646 [ INFO] Total time       : 0:00:15.805446\n",
      "2023-06-23 17:54:36.646 [ INFO] Download rate    : 532.1 kB/s\n",
      "2023-06-23 17:54:36.648 [ INFO] Done\n",
      "\n",
      "Dictionary saved as json file at /lustre_scratch/orlando-code/datasets/global_ocean_reanalysis/monthly_means/Great_Barrier_Reef_B/thetao/VARS_thetao_DATES_1997-12-31_1998-12-31_LONS_144_149_LATS_-16_-23_DEPTHS_0-3_1.json\n",
      "VARS_thetao_DATES_1997-12-31_1998-12-31_LONS_144_149_LATS_-16_-23_DEPTHS_0-3_1 written to /lustre_scratch/orlando-code/datasets/global_ocean_reanalysis/monthly_means/Great_Barrier_Reef_B/thetao and metadata generated.\n"
     ]
    },
    {
     "name": "stderr",
     "output_type": "stream",
     "text": []
    },
    {
     "name": "stdout",
     "output_type": "stream",
     "text": [
      "2023-06-23 17:54:38.258 [ INFO] Asynchronous mode set\n",
      "2023-06-23 17:54:38.258 [ INFO] Authenticating user otimmerman for service https://my.cmems-du.eu/motu-web/Motu\n",
      "2023-06-23 17:54:40.414 [ INFO] Requesting file to download (this can take a while)...\n",
      "2023-06-23 17:54:46.294 [ INFO] Authenticating user otimmerman for service https://my.cmems-du.eu/motu-web/Motu\n",
      "2023-06-23 17:54:52.424 [ INFO] Product is not yet available (request in progress)\n",
      "2023-06-23 17:55:02.434 [ INFO] Authenticating user otimmerman for service https://my.cmems-du.eu/motu-web/Motu\n",
      "2023-06-23 17:55:10.912 [ INFO] The product is ready for download\n",
      "2023-06-23 17:55:10.912 [ INFO] Downloading file (this can take a while)...\n",
      "2023-06-23 17:55:11.065 [ INFO] File type: application/x-netcdf\n",
      "2023-06-23 17:55:11.065 [ INFO] File size: 128.1 kB (128104 B)\n",
      "2023-06-23 17:55:11.065 [ INFO] Downloading file /lustre_scratch/orlando-code/datasets/global_ocean_reanalysis/monthly_means/Great_Barrier_Reef_B/thetao/VARS_thetao_DATES_1998-12-31_1999-12-31_LONS_144_149_LATS_-16_-23_DEPTHS_0-3_1.nc\n",
      "2023-06-23 17:55:11.124 [ INFO] - 128.1 kB (51.2%)\n",
      "2023-06-23 17:55:11.153 [ INFO] - 128.1 kB (100.0%)\n",
      "2023-06-23 17:55:11.153 [ INFO] Processing  time : 0:00:32.807223\n",
      "2023-06-23 17:55:11.153 [ INFO] Downloading time : 0:00:00.088117\n",
      "2023-06-23 17:55:11.153 [ INFO] Total time       : 0:00:32.895340\n",
      "2023-06-23 17:55:11.153 [ INFO] Download rate    : 532.5 kB/s\n",
      "2023-06-23 17:55:11.156 [ INFO] Done\n",
      "\n",
      "Dictionary saved as json file at /lustre_scratch/orlando-code/datasets/global_ocean_reanalysis/monthly_means/Great_Barrier_Reef_B/thetao/VARS_thetao_DATES_1998-12-31_1999-12-31_LONS_144_149_LATS_-16_-23_DEPTHS_0-3_1.json\n",
      "VARS_thetao_DATES_1998-12-31_1999-12-31_LONS_144_149_LATS_-16_-23_DEPTHS_0-3_1 written to /lustre_scratch/orlando-code/datasets/global_ocean_reanalysis/monthly_means/Great_Barrier_Reef_B/thetao and metadata generated.\n"
     ]
    },
    {
     "name": "stderr",
     "output_type": "stream",
     "text": []
    },
    {
     "name": "stdout",
     "output_type": "stream",
     "text": [
      "2023-06-23 17:55:12.813 [ INFO] Asynchronous mode set\n",
      "2023-06-23 17:55:12.813 [ INFO] Authenticating user otimmerman for service https://my.cmems-du.eu/motu-web/Motu\n",
      "2023-06-23 17:55:13.509 [ INFO] Requesting file to download (this can take a while)...\n",
      "2023-06-23 17:55:18.924 [ INFO] Authenticating user otimmerman for service https://my.cmems-du.eu/motu-web/Motu\n",
      "2023-06-23 17:55:25.039 [ INFO] Product is not yet available (request in progress)\n",
      "2023-06-23 17:55:35.046 [ INFO] Authenticating user otimmerman for service https://my.cmems-du.eu/motu-web/Motu\n",
      "2023-06-23 17:55:41.174 [ INFO] The product is ready for download\n",
      "2023-06-23 17:55:41.174 [ INFO] Downloading file (this can take a while)...\n",
      "2023-06-23 17:55:41.323 [ INFO] File type: application/x-netcdf\n",
      "2023-06-23 17:55:41.323 [ INFO] File size: 128.1 kB (128104 B)\n",
      "2023-06-23 17:55:41.323 [ INFO] Downloading file /lustre_scratch/orlando-code/datasets/global_ocean_reanalysis/monthly_means/Great_Barrier_Reef_B/thetao/VARS_thetao_DATES_1999-12-31_2000-12-31_LONS_144_149_LATS_-16_-23_DEPTHS_0-3_1.nc\n",
      "2023-06-23 17:55:41.383 [ INFO] - 128.1 kB (51.2%)\n",
      "2023-06-23 17:55:41.413 [ INFO] - 128.1 kB (100.0%)\n",
      "2023-06-23 17:55:41.413 [ INFO] Processing  time : 0:00:28.510723\n",
      "2023-06-23 17:55:41.414 [ INFO] Downloading time : 0:00:00.090385\n",
      "2023-06-23 17:55:41.414 [ INFO] Total time       : 0:00:28.601108\n",
      "2023-06-23 17:55:41.414 [ INFO] Download rate    : 535.6 kB/s\n",
      "2023-06-23 17:55:41.416 [ INFO] Done\n",
      "\n",
      "Dictionary saved as json file at /lustre_scratch/orlando-code/datasets/global_ocean_reanalysis/monthly_means/Great_Barrier_Reef_B/thetao/VARS_thetao_DATES_1999-12-31_2000-12-31_LONS_144_149_LATS_-16_-23_DEPTHS_0-3_1.json\n",
      "VARS_thetao_DATES_1999-12-31_2000-12-31_LONS_144_149_LATS_-16_-23_DEPTHS_0-3_1 written to /lustre_scratch/orlando-code/datasets/global_ocean_reanalysis/monthly_means/Great_Barrier_Reef_B/thetao and metadata generated.\n"
     ]
    },
    {
     "name": "stderr",
     "output_type": "stream",
     "text": []
    },
    {
     "name": "stdout",
     "output_type": "stream",
     "text": [
      "2023-06-23 17:55:43.041 [ INFO] Asynchronous mode set\n",
      "2023-06-23 17:55:43.042 [ INFO] Authenticating user otimmerman for service https://my.cmems-du.eu/motu-web/Motu\n",
      "2023-06-23 17:55:43.860 [ INFO] Requesting file to download (this can take a while)...\n",
      "2023-06-23 17:55:49.282 [ INFO] Authenticating user otimmerman for service https://my.cmems-du.eu/motu-web/Motu\n",
      "2023-06-23 17:55:55.387 [ INFO] The product is ready for download\n",
      "2023-06-23 17:55:55.387 [ INFO] Downloading file (this can take a while)...\n",
      "2023-06-23 17:55:55.535 [ INFO] File type: application/x-netcdf\n",
      "2023-06-23 17:55:55.536 [ INFO] File size: 128.1 kB (128104 B)\n",
      "2023-06-23 17:55:55.536 [ INFO] Downloading file /lustre_scratch/orlando-code/datasets/global_ocean_reanalysis/monthly_means/Great_Barrier_Reef_B/thetao/VARS_thetao_DATES_2000-12-31_2001-12-31_LONS_144_149_LATS_-16_-23_DEPTHS_0-3_1.nc\n",
      "2023-06-23 17:55:55.595 [ INFO] - 128.1 kB (51.2%)\n",
      "2023-06-23 17:55:55.624 [ INFO] - 128.1 kB (100.0%)\n",
      "2023-06-23 17:55:55.624 [ INFO] Processing  time : 0:00:12.494721\n",
      "2023-06-23 17:55:55.624 [ INFO] Downloading time : 0:00:00.087950\n",
      "2023-06-23 17:55:55.624 [ INFO] Total time       : 0:00:12.582671\n",
      "2023-06-23 17:55:55.624 [ INFO] Download rate    : 541.1 kB/s\n",
      "2023-06-23 17:55:55.626 [ INFO] Done\n",
      "\n",
      "Dictionary saved as json file at /lustre_scratch/orlando-code/datasets/global_ocean_reanalysis/monthly_means/Great_Barrier_Reef_B/thetao/VARS_thetao_DATES_2000-12-31_2001-12-31_LONS_144_149_LATS_-16_-23_DEPTHS_0-3_1.json\n",
      "VARS_thetao_DATES_2000-12-31_2001-12-31_LONS_144_149_LATS_-16_-23_DEPTHS_0-3_1 written to /lustre_scratch/orlando-code/datasets/global_ocean_reanalysis/monthly_means/Great_Barrier_Reef_B/thetao and metadata generated.\n"
     ]
    },
    {
     "name": "stderr",
     "output_type": "stream",
     "text": []
    },
    {
     "name": "stdout",
     "output_type": "stream",
     "text": [
      "2023-06-23 17:55:57.229 [ INFO] Asynchronous mode set\n",
      "2023-06-23 17:55:57.230 [ INFO] Authenticating user otimmerman for service https://my.cmems-du.eu/motu-web/Motu\n",
      "2023-06-23 17:55:58.839 [ INFO] Requesting file to download (this can take a while)...\n",
      "2023-06-23 17:56:04.455 [ INFO] Authenticating user otimmerman for service https://my.cmems-du.eu/motu-web/Motu\n",
      "2023-06-23 17:56:11.022 [ INFO] The product is ready for download\n",
      "2023-06-23 17:56:11.022 [ INFO] Downloading file (this can take a while)...\n",
      "2023-06-23 17:56:11.277 [ INFO] File type: application/x-netcdf\n",
      "2023-06-23 17:56:11.277 [ INFO] File size: 128.1 kB (128104 B)\n",
      "2023-06-23 17:56:11.277 [ INFO] Downloading file /lustre_scratch/orlando-code/datasets/global_ocean_reanalysis/monthly_means/Great_Barrier_Reef_B/thetao/VARS_thetao_DATES_2001-12-31_2002-12-31_LONS_144_149_LATS_-16_-23_DEPTHS_0-3_1.nc\n",
      "2023-06-23 17:56:11.336 [ INFO] - 128.1 kB (51.2%)\n",
      "2023-06-23 17:56:11.366 [ INFO] - 128.1 kB (100.0%)\n",
      "2023-06-23 17:56:11.367 [ INFO] Processing  time : 0:00:14.047809\n",
      "2023-06-23 17:56:11.367 [ INFO] Downloading time : 0:00:00.089823\n",
      "2023-06-23 17:56:11.367 [ INFO] Total time       : 0:00:14.137632\n",
      "2023-06-23 17:56:11.367 [ INFO] Download rate    : 371.6 kB/s\n",
      "2023-06-23 17:56:11.369 [ INFO] Done\n",
      "\n",
      "Dictionary saved as json file at /lustre_scratch/orlando-code/datasets/global_ocean_reanalysis/monthly_means/Great_Barrier_Reef_B/thetao/VARS_thetao_DATES_2001-12-31_2002-12-31_LONS_144_149_LATS_-16_-23_DEPTHS_0-3_1.json\n",
      "VARS_thetao_DATES_2001-12-31_2002-12-31_LONS_144_149_LATS_-16_-23_DEPTHS_0-3_1 written to /lustre_scratch/orlando-code/datasets/global_ocean_reanalysis/monthly_means/Great_Barrier_Reef_B/thetao and metadata generated.\n"
     ]
    },
    {
     "name": "stderr",
     "output_type": "stream",
     "text": []
    },
    {
     "name": "stdout",
     "output_type": "stream",
     "text": [
      "2023-06-23 17:56:12.991 [ INFO] Asynchronous mode set\n",
      "2023-06-23 17:56:12.992 [ INFO] Authenticating user otimmerman for service https://my.cmems-du.eu/motu-web/Motu\n",
      "2023-06-23 17:56:13.700 [ INFO] Requesting file to download (this can take a while)...\n",
      "2023-06-23 17:56:19.620 [ INFO] Authenticating user otimmerman for service https://my.cmems-du.eu/motu-web/Motu\n",
      "2023-06-23 17:56:27.381 [ INFO] The product is ready for download\n",
      "2023-06-23 17:56:27.381 [ INFO] Downloading file (this can take a while)...\n",
      "2023-06-23 17:56:27.537 [ INFO] File type: application/x-netcdf\n",
      "2023-06-23 17:56:27.537 [ INFO] File size: 128.1 kB (128104 B)\n",
      "2023-06-23 17:56:27.537 [ INFO] Downloading file /lustre_scratch/orlando-code/datasets/global_ocean_reanalysis/monthly_means/Great_Barrier_Reef_B/thetao/VARS_thetao_DATES_2002-12-31_2003-12-31_LONS_144_149_LATS_-16_-23_DEPTHS_0-3_1.nc\n",
      "2023-06-23 17:56:27.596 [ INFO] - 128.1 kB (51.2%)\n",
      "2023-06-23 17:56:27.624 [ INFO] - 128.1 kB (100.0%)\n",
      "2023-06-23 17:56:27.624 [ INFO] Processing  time : 0:00:14.546002\n",
      "2023-06-23 17:56:27.625 [ INFO] Downloading time : 0:00:00.087629\n",
      "2023-06-23 17:56:27.625 [ INFO] Total time       : 0:00:14.633631\n",
      "2023-06-23 17:56:27.625 [ INFO] Download rate    : 526.2 kB/s\n",
      "2023-06-23 17:56:27.627 [ INFO] Done\n",
      "\n",
      "Dictionary saved as json file at /lustre_scratch/orlando-code/datasets/global_ocean_reanalysis/monthly_means/Great_Barrier_Reef_B/thetao/VARS_thetao_DATES_2002-12-31_2003-12-31_LONS_144_149_LATS_-16_-23_DEPTHS_0-3_1.json\n",
      "VARS_thetao_DATES_2002-12-31_2003-12-31_LONS_144_149_LATS_-16_-23_DEPTHS_0-3_1 written to /lustre_scratch/orlando-code/datasets/global_ocean_reanalysis/monthly_means/Great_Barrier_Reef_B/thetao and metadata generated.\n"
     ]
    },
    {
     "name": "stderr",
     "output_type": "stream",
     "text": []
    },
    {
     "name": "stdout",
     "output_type": "stream",
     "text": [
      "2023-06-23 17:56:29.253 [ INFO] Asynchronous mode set\n",
      "2023-06-23 17:56:29.254 [ INFO] Authenticating user otimmerman for service https://my.cmems-du.eu/motu-web/Motu\n",
      "2023-06-23 17:56:29.960 [ INFO] Requesting file to download (this can take a while)...\n",
      "2023-06-23 17:56:35.379 [ INFO] Authenticating user otimmerman for service https://my.cmems-du.eu/motu-web/Motu\n",
      "2023-06-23 17:56:41.496 [ INFO] The product is ready for download\n",
      "2023-06-23 17:56:41.496 [ INFO] Downloading file (this can take a while)...\n",
      "2023-06-23 17:56:41.735 [ INFO] File type: application/x-netcdf\n",
      "2023-06-23 17:56:41.736 [ INFO] File size: 128.1 kB (128104 B)\n",
      "2023-06-23 17:56:41.736 [ INFO] Downloading file /lustre_scratch/orlando-code/datasets/global_ocean_reanalysis/monthly_means/Great_Barrier_Reef_B/thetao/VARS_thetao_DATES_2003-12-31_2004-12-31_LONS_144_149_LATS_-16_-23_DEPTHS_0-3_1.nc\n",
      "2023-06-23 17:56:41.794 [ INFO] - 128.1 kB (51.2%)\n",
      "2023-06-23 17:56:41.825 [ INFO] - 128.1 kB (100.0%)\n",
      "2023-06-23 17:56:41.825 [ INFO] Processing  time : 0:00:12.482744\n",
      "2023-06-23 17:56:41.825 [ INFO] Downloading time : 0:00:00.089419\n",
      "2023-06-23 17:56:41.825 [ INFO] Total time       : 0:00:12.572163\n",
      "2023-06-23 17:56:41.825 [ INFO] Download rate    : 389.1 kB/s\n",
      "2023-06-23 17:56:41.828 [ INFO] Done\n",
      "\n",
      "Dictionary saved as json file at /lustre_scratch/orlando-code/datasets/global_ocean_reanalysis/monthly_means/Great_Barrier_Reef_B/thetao/VARS_thetao_DATES_2003-12-31_2004-12-31_LONS_144_149_LATS_-16_-23_DEPTHS_0-3_1.json\n",
      "VARS_thetao_DATES_2003-12-31_2004-12-31_LONS_144_149_LATS_-16_-23_DEPTHS_0-3_1 written to /lustre_scratch/orlando-code/datasets/global_ocean_reanalysis/monthly_means/Great_Barrier_Reef_B/thetao and metadata generated.\n"
     ]
    },
    {
     "name": "stderr",
     "output_type": "stream",
     "text": []
    },
    {
     "name": "stdout",
     "output_type": "stream",
     "text": [
      "2023-06-23 17:56:43.500 [ INFO] Asynchronous mode set\n",
      "2023-06-23 17:56:43.501 [ INFO] Authenticating user otimmerman for service https://my.cmems-du.eu/motu-web/Motu\n",
      "2023-06-23 17:56:44.426 [ INFO] Requesting file to download (this can take a while)...\n",
      "2023-06-23 17:56:50.240 [ INFO] Authenticating user otimmerman for service https://my.cmems-du.eu/motu-web/Motu\n",
      "2023-06-23 17:56:58.597 [ INFO] The product is ready for download\n",
      "2023-06-23 17:56:58.597 [ INFO] Downloading file (this can take a while)...\n",
      "2023-06-23 17:56:58.779 [ INFO] File type: application/x-netcdf\n",
      "2023-06-23 17:56:58.779 [ INFO] File size: 128.1 kB (128104 B)\n",
      "2023-06-23 17:56:58.779 [ INFO] Downloading file /lustre_scratch/orlando-code/datasets/global_ocean_reanalysis/monthly_means/Great_Barrier_Reef_B/thetao/VARS_thetao_DATES_2004-12-31_2005-12-31_LONS_144_149_LATS_-16_-23_DEPTHS_0-3_1.nc\n",
      "2023-06-23 17:56:58.809 [ INFO] - 128.1 kB (51.2%)\n",
      "2023-06-23 17:56:58.838 [ INFO] - 128.1 kB (100.0%)\n",
      "2023-06-23 17:56:58.838 [ INFO] Processing  time : 0:00:15.279442\n",
      "2023-06-23 17:56:58.838 [ INFO] Downloading time : 0:00:00.058980\n",
      "2023-06-23 17:56:58.838 [ INFO] Total time       : 0:00:15.338422\n",
      "2023-06-23 17:56:58.838 [ INFO] Download rate    : 530.9 kB/s\n",
      "2023-06-23 17:56:58.841 [ INFO] Done\n",
      "\n",
      "Dictionary saved as json file at /lustre_scratch/orlando-code/datasets/global_ocean_reanalysis/monthly_means/Great_Barrier_Reef_B/thetao/VARS_thetao_DATES_2004-12-31_2005-12-31_LONS_144_149_LATS_-16_-23_DEPTHS_0-3_1.json\n",
      "VARS_thetao_DATES_2004-12-31_2005-12-31_LONS_144_149_LATS_-16_-23_DEPTHS_0-3_1 written to /lustre_scratch/orlando-code/datasets/global_ocean_reanalysis/monthly_means/Great_Barrier_Reef_B/thetao and metadata generated.\n"
     ]
    },
    {
     "name": "stderr",
     "output_type": "stream",
     "text": []
    },
    {
     "name": "stdout",
     "output_type": "stream",
     "text": [
      "2023-06-23 17:57:00.476 [ INFO] Asynchronous mode set\n",
      "2023-06-23 17:57:00.476 [ INFO] Authenticating user otimmerman for service https://my.cmems-du.eu/motu-web/Motu\n",
      "2023-06-23 17:57:01.200 [ INFO] Requesting file to download (this can take a while)...\n",
      "2023-06-23 17:57:06.613 [ INFO] Authenticating user otimmerman for service https://my.cmems-du.eu/motu-web/Motu\n",
      "2023-06-23 17:57:12.768 [ INFO] The product is ready for download\n",
      "2023-06-23 17:57:12.768 [ INFO] Downloading file (this can take a while)...\n",
      "2023-06-23 17:57:12.952 [ INFO] File type: application/x-netcdf\n",
      "2023-06-23 17:57:12.953 [ INFO] File size: 128.1 kB (128104 B)\n",
      "2023-06-23 17:57:12.953 [ INFO] Downloading file /lustre_scratch/orlando-code/datasets/global_ocean_reanalysis/monthly_means/Great_Barrier_Reef_B/thetao/VARS_thetao_DATES_2005-12-31_2006-12-31_LONS_144_149_LATS_-16_-23_DEPTHS_0-3_1.nc\n",
      "2023-06-23 17:57:12.984 [ INFO] - 128.1 kB (51.2%)\n",
      "2023-06-23 17:57:13.013 [ INFO] - 128.1 kB (100.0%)\n",
      "2023-06-23 17:57:13.014 [ INFO] Processing  time : 0:00:12.476906\n",
      "2023-06-23 17:57:13.014 [ INFO] Downloading time : 0:00:00.060977\n",
      "2023-06-23 17:57:13.014 [ INFO] Total time       : 0:00:12.537883\n",
      "2023-06-23 17:57:13.014 [ INFO] Download rate    : 521.4 kB/s\n",
      "2023-06-23 17:57:13.016 [ INFO] Done\n",
      "\n",
      "Dictionary saved as json file at /lustre_scratch/orlando-code/datasets/global_ocean_reanalysis/monthly_means/Great_Barrier_Reef_B/thetao/VARS_thetao_DATES_2005-12-31_2006-12-31_LONS_144_149_LATS_-16_-23_DEPTHS_0-3_1.json\n",
      "VARS_thetao_DATES_2005-12-31_2006-12-31_LONS_144_149_LATS_-16_-23_DEPTHS_0-3_1 written to /lustre_scratch/orlando-code/datasets/global_ocean_reanalysis/monthly_means/Great_Barrier_Reef_B/thetao and metadata generated.\n"
     ]
    },
    {
     "name": "stderr",
     "output_type": "stream",
     "text": []
    },
    {
     "name": "stdout",
     "output_type": "stream",
     "text": [
      "2023-06-23 17:57:14.633 [ INFO] Asynchronous mode set\n",
      "2023-06-23 17:57:14.633 [ INFO] Authenticating user otimmerman for service https://my.cmems-du.eu/motu-web/Motu\n",
      "2023-06-23 17:57:17.519 [ INFO] Requesting file to download (this can take a while)...\n",
      "2023-06-23 17:57:22.945 [ INFO] Authenticating user otimmerman for service https://my.cmems-du.eu/motu-web/Motu\n",
      "2023-06-23 17:57:29.055 [ INFO] The product is ready for download\n",
      "2023-06-23 17:57:29.055 [ INFO] Downloading file (this can take a while)...\n",
      "2023-06-23 17:57:29.212 [ INFO] File type: application/x-netcdf\n",
      "2023-06-23 17:57:29.212 [ INFO] File size: 128.1 kB (128104 B)\n",
      "2023-06-23 17:57:29.212 [ INFO] Downloading file /lustre_scratch/orlando-code/datasets/global_ocean_reanalysis/monthly_means/Great_Barrier_Reef_B/thetao/VARS_thetao_DATES_2006-12-31_2007-12-31_LONS_144_149_LATS_-16_-23_DEPTHS_0-3_1.nc\n",
      "2023-06-23 17:57:29.270 [ INFO] - 128.1 kB (51.2%)\n",
      "2023-06-23 17:57:29.300 [ INFO] - 128.1 kB (100.0%)\n",
      "2023-06-23 17:57:29.301 [ INFO] Processing  time : 0:00:14.579149\n",
      "2023-06-23 17:57:29.301 [ INFO] Downloading time : 0:00:00.088747\n",
      "2023-06-23 17:57:29.301 [ INFO] Total time       : 0:00:14.667896\n",
      "2023-06-23 17:57:29.301 [ INFO] Download rate    : 521.9 kB/s\n",
      "2023-06-23 17:57:29.303 [ INFO] Done\n",
      "\n",
      "Dictionary saved as json file at /lustre_scratch/orlando-code/datasets/global_ocean_reanalysis/monthly_means/Great_Barrier_Reef_B/thetao/VARS_thetao_DATES_2006-12-31_2007-12-31_LONS_144_149_LATS_-16_-23_DEPTHS_0-3_1.json\n",
      "VARS_thetao_DATES_2006-12-31_2007-12-31_LONS_144_149_LATS_-16_-23_DEPTHS_0-3_1 written to /lustre_scratch/orlando-code/datasets/global_ocean_reanalysis/monthly_means/Great_Barrier_Reef_B/thetao and metadata generated.\n"
     ]
    },
    {
     "name": "stderr",
     "output_type": "stream",
     "text": []
    },
    {
     "name": "stdout",
     "output_type": "stream",
     "text": [
      "2023-06-23 17:57:30.920 [ INFO] Asynchronous mode set\n",
      "2023-06-23 17:57:30.921 [ INFO] Authenticating user otimmerman for service https://my.cmems-du.eu/motu-web/Motu\n",
      "2023-06-23 17:57:31.618 [ INFO] Requesting file to download (this can take a while)...\n",
      "2023-06-23 17:57:37.029 [ INFO] Authenticating user otimmerman for service https://my.cmems-du.eu/motu-web/Motu\n",
      "2023-06-23 17:57:44.723 [ INFO] The product is ready for download\n",
      "2023-06-23 17:57:44.723 [ INFO] Downloading file (this can take a while)...\n",
      "2023-06-23 17:57:44.900 [ INFO] File type: application/x-netcdf\n",
      "2023-06-23 17:57:44.900 [ INFO] File size: 128.1 kB (128104 B)\n",
      "2023-06-23 17:57:44.900 [ INFO] Downloading file /lustre_scratch/orlando-code/datasets/global_ocean_reanalysis/monthly_means/Great_Barrier_Reef_B/thetao/VARS_thetao_DATES_2007-12-31_2008-12-31_LONS_144_149_LATS_-16_-23_DEPTHS_0-3_1.nc\n",
      "2023-06-23 17:57:44.930 [ INFO] - 128.1 kB (51.2%)\n",
      "2023-06-23 17:57:44.958 [ INFO] - 128.1 kB (100.0%)\n",
      "2023-06-23 17:57:44.958 [ INFO] Processing  time : 0:00:13.980126\n",
      "2023-06-23 17:57:44.958 [ INFO] Downloading time : 0:00:00.058053\n",
      "2023-06-23 17:57:44.958 [ INFO] Total time       : 0:00:14.038179\n",
      "2023-06-23 17:57:44.958 [ INFO] Download rate    : 543.8 kB/s\n",
      "2023-06-23 17:57:44.961 [ INFO] Done\n",
      "\n",
      "Dictionary saved as json file at /lustre_scratch/orlando-code/datasets/global_ocean_reanalysis/monthly_means/Great_Barrier_Reef_B/thetao/VARS_thetao_DATES_2007-12-31_2008-12-31_LONS_144_149_LATS_-16_-23_DEPTHS_0-3_1.json\n",
      "VARS_thetao_DATES_2007-12-31_2008-12-31_LONS_144_149_LATS_-16_-23_DEPTHS_0-3_1 written to /lustre_scratch/orlando-code/datasets/global_ocean_reanalysis/monthly_means/Great_Barrier_Reef_B/thetao and metadata generated.\n"
     ]
    },
    {
     "name": "stderr",
     "output_type": "stream",
     "text": []
    },
    {
     "name": "stdout",
     "output_type": "stream",
     "text": [
      "2023-06-23 17:57:46.596 [ INFO] Asynchronous mode set\n",
      "2023-06-23 17:57:46.597 [ INFO] Authenticating user otimmerman for service https://my.cmems-du.eu/motu-web/Motu\n",
      "2023-06-23 17:57:48.588 [ INFO] Requesting file to download (this can take a while)...\n",
      "2023-06-23 17:57:54.047 [ INFO] Authenticating user otimmerman for service https://my.cmems-du.eu/motu-web/Motu\n",
      "2023-06-23 17:58:01.232 [ INFO] The product is ready for download\n",
      "2023-06-23 17:58:01.233 [ INFO] Downloading file (this can take a while)...\n",
      "2023-06-23 17:58:01.624 [ INFO] File type: application/x-netcdf\n",
      "2023-06-23 17:58:01.624 [ INFO] File size: 128.1 kB (128104 B)\n",
      "2023-06-23 17:58:01.624 [ INFO] Downloading file /lustre_scratch/orlando-code/datasets/global_ocean_reanalysis/monthly_means/Great_Barrier_Reef_B/thetao/VARS_thetao_DATES_2008-12-31_2009-12-31_LONS_144_149_LATS_-16_-23_DEPTHS_0-3_1.nc\n",
      "2023-06-23 17:58:01.654 [ INFO] - 128.1 kB (51.2%)\n",
      "2023-06-23 17:58:01.684 [ INFO] - 128.1 kB (100.0%)\n",
      "2023-06-23 17:58:01.684 [ INFO] Processing  time : 0:00:15.028154\n",
      "2023-06-23 17:58:01.685 [ INFO] Downloading time : 0:00:00.060375\n",
      "2023-06-23 17:58:01.685 [ INFO] Total time       : 0:00:15.088529\n",
      "2023-06-23 17:58:01.685 [ INFO] Download rate    : 283.5 kB/s\n",
      "2023-06-23 17:58:01.687 [ INFO] Done\n",
      "\n",
      "Dictionary saved as json file at /lustre_scratch/orlando-code/datasets/global_ocean_reanalysis/monthly_means/Great_Barrier_Reef_B/thetao/VARS_thetao_DATES_2008-12-31_2009-12-31_LONS_144_149_LATS_-16_-23_DEPTHS_0-3_1.json\n",
      "VARS_thetao_DATES_2008-12-31_2009-12-31_LONS_144_149_LATS_-16_-23_DEPTHS_0-3_1 written to /lustre_scratch/orlando-code/datasets/global_ocean_reanalysis/monthly_means/Great_Barrier_Reef_B/thetao and metadata generated.\n"
     ]
    },
    {
     "name": "stderr",
     "output_type": "stream",
     "text": []
    },
    {
     "name": "stdout",
     "output_type": "stream",
     "text": [
      "2023-06-23 17:58:03.353 [ INFO] Asynchronous mode set\n",
      "2023-06-23 17:58:03.354 [ INFO] Authenticating user otimmerman for service https://my.cmems-du.eu/motu-web/Motu\n",
      "2023-06-23 17:58:04.064 [ INFO] Requesting file to download (this can take a while)...\n",
      "2023-06-23 17:58:09.489 [ INFO] Authenticating user otimmerman for service https://my.cmems-du.eu/motu-web/Motu\n",
      "2023-06-23 17:58:15.610 [ INFO] The product is ready for download\n",
      "2023-06-23 17:58:15.611 [ INFO] Downloading file (this can take a while)...\n",
      "2023-06-23 17:58:15.801 [ INFO] File type: application/x-netcdf\n",
      "2023-06-23 17:58:15.801 [ INFO] File size: 128.1 kB (128104 B)\n",
      "2023-06-23 17:58:15.801 [ INFO] Downloading file /lustre_scratch/orlando-code/datasets/global_ocean_reanalysis/monthly_means/Great_Barrier_Reef_B/thetao/VARS_thetao_DATES_2009-12-31_2010-12-31_LONS_144_149_LATS_-16_-23_DEPTHS_0-3_1.nc\n",
      "2023-06-23 17:58:15.828 [ INFO] - 128.1 kB (51.2%)\n",
      "2023-06-23 17:58:15.857 [ INFO] - 128.1 kB (100.0%)\n",
      "2023-06-23 17:58:15.858 [ INFO] Processing  time : 0:00:12.448047\n",
      "2023-06-23 17:58:15.858 [ INFO] Downloading time : 0:00:00.056811\n",
      "2023-06-23 17:58:15.858 [ INFO] Total time       : 0:00:12.504858\n",
      "2023-06-23 17:58:15.858 [ INFO] Download rate    : 518.6 kB/s\n",
      "2023-06-23 17:58:15.861 [ INFO] Done\n",
      "\n",
      "Dictionary saved as json file at /lustre_scratch/orlando-code/datasets/global_ocean_reanalysis/monthly_means/Great_Barrier_Reef_B/thetao/VARS_thetao_DATES_2009-12-31_2010-12-31_LONS_144_149_LATS_-16_-23_DEPTHS_0-3_1.json\n",
      "VARS_thetao_DATES_2009-12-31_2010-12-31_LONS_144_149_LATS_-16_-23_DEPTHS_0-3_1 written to /lustre_scratch/orlando-code/datasets/global_ocean_reanalysis/monthly_means/Great_Barrier_Reef_B/thetao and metadata generated.\n"
     ]
    },
    {
     "name": "stderr",
     "output_type": "stream",
     "text": []
    },
    {
     "name": "stdout",
     "output_type": "stream",
     "text": [
      "2023-06-23 17:58:17.501 [ INFO] Asynchronous mode set\n",
      "2023-06-23 17:58:17.501 [ INFO] Authenticating user otimmerman for service https://my.cmems-du.eu/motu-web/Motu\n",
      "2023-06-23 17:58:18.299 [ INFO] Requesting file to download (this can take a while)...\n",
      "2023-06-23 17:58:23.720 [ INFO] Authenticating user otimmerman for service https://my.cmems-du.eu/motu-web/Motu\n",
      "2023-06-23 17:58:29.831 [ INFO] The product is ready for download\n",
      "2023-06-23 17:58:29.831 [ INFO] Downloading file (this can take a while)...\n",
      "2023-06-23 17:58:30.013 [ INFO] File type: application/x-netcdf\n",
      "2023-06-23 17:58:30.013 [ INFO] File size: 128.1 kB (128104 B)\n",
      "2023-06-23 17:58:30.013 [ INFO] Downloading file /lustre_scratch/orlando-code/datasets/global_ocean_reanalysis/monthly_means/Great_Barrier_Reef_B/thetao/VARS_thetao_DATES_2010-12-31_2011-12-31_LONS_144_149_LATS_-16_-23_DEPTHS_0-3_1.nc\n",
      "2023-06-23 17:58:30.042 [ INFO] - 128.1 kB (51.2%)\n",
      "2023-06-23 17:58:30.072 [ INFO] - 128.1 kB (100.0%)\n",
      "2023-06-23 17:58:30.072 [ INFO] Processing  time : 0:00:12.512224\n",
      "2023-06-23 17:58:30.072 [ INFO] Downloading time : 0:00:00.058911\n",
      "2023-06-23 17:58:30.072 [ INFO] Total time       : 0:00:12.571135\n",
      "2023-06-23 17:58:30.072 [ INFO] Download rate    : 532.4 kB/s\n",
      "2023-06-23 17:58:30.074 [ INFO] Done\n",
      "\n",
      "Dictionary saved as json file at /lustre_scratch/orlando-code/datasets/global_ocean_reanalysis/monthly_means/Great_Barrier_Reef_B/thetao/VARS_thetao_DATES_2010-12-31_2011-12-31_LONS_144_149_LATS_-16_-23_DEPTHS_0-3_1.json\n",
      "VARS_thetao_DATES_2010-12-31_2011-12-31_LONS_144_149_LATS_-16_-23_DEPTHS_0-3_1 written to /lustre_scratch/orlando-code/datasets/global_ocean_reanalysis/monthly_means/Great_Barrier_Reef_B/thetao and metadata generated.\n"
     ]
    },
    {
     "name": "stderr",
     "output_type": "stream",
     "text": []
    },
    {
     "name": "stdout",
     "output_type": "stream",
     "text": [
      "2023-06-23 17:58:31.715 [ INFO] Asynchronous mode set\n",
      "2023-06-23 17:58:31.716 [ INFO] Authenticating user otimmerman for service https://my.cmems-du.eu/motu-web/Motu\n",
      "2023-06-23 17:58:32.415 [ INFO] Requesting file to download (this can take a while)...\n",
      "2023-06-23 17:58:37.833 [ INFO] Authenticating user otimmerman for service https://my.cmems-du.eu/motu-web/Motu\n",
      "2023-06-23 17:58:44.274 [ INFO] The product is ready for download\n",
      "2023-06-23 17:58:44.274 [ INFO] Downloading file (this can take a while)...\n",
      "2023-06-23 17:58:44.423 [ INFO] File type: application/x-netcdf\n",
      "2023-06-23 17:58:44.423 [ INFO] File size: 128.1 kB (128104 B)\n",
      "2023-06-23 17:58:44.423 [ INFO] Downloading file /lustre_scratch/orlando-code/datasets/global_ocean_reanalysis/monthly_means/Great_Barrier_Reef_B/thetao/VARS_thetao_DATES_2011-12-31_2012-12-31_LONS_144_149_LATS_-16_-23_DEPTHS_0-3_1.nc\n",
      "2023-06-23 17:58:44.483 [ INFO] - 128.1 kB (51.2%)\n",
      "2023-06-23 17:58:44.513 [ INFO] - 128.1 kB (100.0%)\n",
      "2023-06-23 17:58:44.513 [ INFO] Processing  time : 0:00:12.708637\n",
      "2023-06-23 17:58:44.513 [ INFO] Downloading time : 0:00:00.089747\n",
      "2023-06-23 17:58:44.513 [ INFO] Total time       : 0:00:12.798384\n",
      "2023-06-23 17:58:44.513 [ INFO] Download rate    : 536.5 kB/s\n",
      "2023-06-23 17:58:44.516 [ INFO] Done\n",
      "\n",
      "Dictionary saved as json file at /lustre_scratch/orlando-code/datasets/global_ocean_reanalysis/monthly_means/Great_Barrier_Reef_B/thetao/VARS_thetao_DATES_2011-12-31_2012-12-31_LONS_144_149_LATS_-16_-23_DEPTHS_0-3_1.json\n",
      "VARS_thetao_DATES_2011-12-31_2012-12-31_LONS_144_149_LATS_-16_-23_DEPTHS_0-3_1 written to /lustre_scratch/orlando-code/datasets/global_ocean_reanalysis/monthly_means/Great_Barrier_Reef_B/thetao and metadata generated.\n"
     ]
    },
    {
     "name": "stderr",
     "output_type": "stream",
     "text": []
    },
    {
     "name": "stdout",
     "output_type": "stream",
     "text": [
      "2023-06-23 17:58:46.120 [ INFO] Asynchronous mode set\n",
      "2023-06-23 17:58:46.120 [ INFO] Authenticating user otimmerman for service https://my.cmems-du.eu/motu-web/Motu\n",
      "2023-06-23 17:58:47.039 [ INFO] Requesting file to download (this can take a while)...\n",
      "2023-06-23 17:58:52.476 [ INFO] Authenticating user otimmerman for service https://my.cmems-du.eu/motu-web/Motu\n",
      "2023-06-23 17:58:58.588 [ INFO] Product is not yet available (request in progress)\n",
      "2023-06-23 17:59:08.598 [ INFO] Authenticating user otimmerman for service https://my.cmems-du.eu/motu-web/Motu\n",
      "2023-06-23 17:59:14.900 [ INFO] The product is ready for download\n",
      "2023-06-23 17:59:14.900 [ INFO] Downloading file (this can take a while)...\n",
      "2023-06-23 17:59:15.080 [ INFO] File type: application/x-netcdf\n",
      "2023-06-23 17:59:15.080 [ INFO] File size: 128.1 kB (128104 B)\n",
      "2023-06-23 17:59:15.080 [ INFO] Downloading file /lustre_scratch/orlando-code/datasets/global_ocean_reanalysis/monthly_means/Great_Barrier_Reef_B/thetao/VARS_thetao_DATES_2012-12-31_2013-12-31_LONS_144_149_LATS_-16_-23_DEPTHS_0-3_1.nc\n",
      "2023-06-23 17:59:15.111 [ INFO] - 128.1 kB (51.2%)\n",
      "2023-06-23 17:59:15.141 [ INFO] - 128.1 kB (100.0%)\n",
      "2023-06-23 17:59:15.141 [ INFO] Processing  time : 0:00:28.960774\n",
      "2023-06-23 17:59:15.141 [ INFO] Downloading time : 0:00:00.060832\n",
      "2023-06-23 17:59:15.141 [ INFO] Total time       : 0:00:29.021606\n",
      "2023-06-23 17:59:15.141 [ INFO] Download rate    : 532.7 kB/s\n",
      "2023-06-23 17:59:15.144 [ INFO] Done\n",
      "\n",
      "Dictionary saved as json file at /lustre_scratch/orlando-code/datasets/global_ocean_reanalysis/monthly_means/Great_Barrier_Reef_B/thetao/VARS_thetao_DATES_2012-12-31_2013-12-31_LONS_144_149_LATS_-16_-23_DEPTHS_0-3_1.json\n",
      "VARS_thetao_DATES_2012-12-31_2013-12-31_LONS_144_149_LATS_-16_-23_DEPTHS_0-3_1 written to /lustre_scratch/orlando-code/datasets/global_ocean_reanalysis/monthly_means/Great_Barrier_Reef_B/thetao and metadata generated.\n"
     ]
    },
    {
     "name": "stderr",
     "output_type": "stream",
     "text": []
    },
    {
     "name": "stdout",
     "output_type": "stream",
     "text": [
      "2023-06-23 17:59:16.785 [ INFO] Asynchronous mode set\n",
      "2023-06-23 17:59:16.786 [ INFO] Authenticating user otimmerman for service https://my.cmems-du.eu/motu-web/Motu\n",
      "2023-06-23 17:59:18.334 [ INFO] Requesting file to download (this can take a while)...\n",
      "2023-06-23 17:59:23.753 [ INFO] Authenticating user otimmerman for service https://my.cmems-du.eu/motu-web/Motu\n",
      "2023-06-23 17:59:29.849 [ INFO] Product is not yet available (request in progress)\n",
      "2023-06-23 17:59:39.860 [ INFO] Authenticating user otimmerman for service https://my.cmems-du.eu/motu-web/Motu\n",
      "2023-06-23 17:59:46.000 [ INFO] The product is ready for download\n",
      "2023-06-23 17:59:46.000 [ INFO] Downloading file (this can take a while)...\n",
      "2023-06-23 17:59:46.153 [ INFO] File type: application/x-netcdf\n",
      "2023-06-23 17:59:46.153 [ INFO] File size: 128.1 kB (128104 B)\n",
      "2023-06-23 17:59:46.153 [ INFO] Downloading file /lustre_scratch/orlando-code/datasets/global_ocean_reanalysis/monthly_means/Great_Barrier_Reef_B/thetao/VARS_thetao_DATES_2013-12-31_2014-12-31_LONS_144_149_LATS_-16_-23_DEPTHS_0-3_1.nc\n",
      "2023-06-23 17:59:46.212 [ INFO] - 128.1 kB (51.2%)\n",
      "2023-06-23 17:59:46.242 [ INFO] - 128.1 kB (100.0%)\n",
      "2023-06-23 17:59:46.242 [ INFO] Processing  time : 0:00:29.368035\n",
      "2023-06-23 17:59:46.242 [ INFO] Downloading time : 0:00:00.088973\n",
      "2023-06-23 17:59:46.242 [ INFO] Total time       : 0:00:29.457008\n",
      "2023-06-23 17:59:46.242 [ INFO] Download rate    : 529.0 kB/s\n",
      "2023-06-23 17:59:46.244 [ INFO] Done\n",
      "\n",
      "Dictionary saved as json file at /lustre_scratch/orlando-code/datasets/global_ocean_reanalysis/monthly_means/Great_Barrier_Reef_B/thetao/VARS_thetao_DATES_2013-12-31_2014-12-31_LONS_144_149_LATS_-16_-23_DEPTHS_0-3_1.json\n",
      "VARS_thetao_DATES_2013-12-31_2014-12-31_LONS_144_149_LATS_-16_-23_DEPTHS_0-3_1 written to /lustre_scratch/orlando-code/datasets/global_ocean_reanalysis/monthly_means/Great_Barrier_Reef_B/thetao and metadata generated.\n"
     ]
    },
    {
     "name": "stderr",
     "output_type": "stream",
     "text": []
    },
    {
     "name": "stdout",
     "output_type": "stream",
     "text": [
      "2023-06-23 17:59:47.890 [ INFO] Asynchronous mode set\n",
      "2023-06-23 17:59:47.891 [ INFO] Authenticating user otimmerman for service https://my.cmems-du.eu/motu-web/Motu\n",
      "2023-06-23 17:59:48.593 [ INFO] Requesting file to download (this can take a while)...\n",
      "2023-06-23 17:59:54.036 [ INFO] Authenticating user otimmerman for service https://my.cmems-du.eu/motu-web/Motu\n",
      "2023-06-23 18:00:00.748 [ INFO] Product is not yet available (request in progress)\n",
      "2023-06-23 18:00:10.759 [ INFO] Authenticating user otimmerman for service https://my.cmems-du.eu/motu-web/Motu\n",
      "2023-06-23 18:00:16.883 [ INFO] The product is ready for download\n",
      "2023-06-23 18:00:16.883 [ INFO] Downloading file (this can take a while)...\n",
      "2023-06-23 18:00:17.037 [ INFO] File type: application/x-netcdf\n",
      "2023-06-23 18:00:17.037 [ INFO] File size: 128.1 kB (128104 B)\n",
      "2023-06-23 18:00:17.037 [ INFO] Downloading file /lustre_scratch/orlando-code/datasets/global_ocean_reanalysis/monthly_means/Great_Barrier_Reef_B/thetao/VARS_thetao_DATES_2014-12-31_2015-12-31_LONS_144_149_LATS_-16_-23_DEPTHS_0-3_1.nc\n",
      "2023-06-23 18:00:17.096 [ INFO] - 128.1 kB (51.2%)\n",
      "2023-06-23 18:00:17.126 [ INFO] - 128.1 kB (100.0%)\n",
      "2023-06-23 18:00:17.126 [ INFO] Processing  time : 0:00:29.146960\n",
      "2023-06-23 18:00:17.126 [ INFO] Downloading time : 0:00:00.088789\n",
      "2023-06-23 18:00:17.126 [ INFO] Total time       : 0:00:29.235749\n",
      "2023-06-23 18:00:17.126 [ INFO] Download rate    : 527.9 kB/s\n",
      "2023-06-23 18:00:17.129 [ INFO] Done\n",
      "\n",
      "Dictionary saved as json file at /lustre_scratch/orlando-code/datasets/global_ocean_reanalysis/monthly_means/Great_Barrier_Reef_B/thetao/VARS_thetao_DATES_2014-12-31_2015-12-31_LONS_144_149_LATS_-16_-23_DEPTHS_0-3_1.json\n",
      "VARS_thetao_DATES_2014-12-31_2015-12-31_LONS_144_149_LATS_-16_-23_DEPTHS_0-3_1 written to /lustre_scratch/orlando-code/datasets/global_ocean_reanalysis/monthly_means/Great_Barrier_Reef_B/thetao and metadata generated.\n"
     ]
    },
    {
     "name": "stderr",
     "output_type": "stream",
     "text": []
    },
    {
     "name": "stdout",
     "output_type": "stream",
     "text": [
      "2023-06-23 18:00:18.784 [ INFO] Asynchronous mode set\n",
      "2023-06-23 18:00:18.785 [ INFO] Authenticating user otimmerman for service https://my.cmems-du.eu/motu-web/Motu\n",
      "2023-06-23 18:00:19.488 [ INFO] Requesting file to download (this can take a while)...\n",
      "2023-06-23 18:00:24.891 [ INFO] Authenticating user otimmerman for service https://my.cmems-du.eu/motu-web/Motu\n",
      "2023-06-23 18:00:30.982 [ INFO] The product is ready for download\n",
      "2023-06-23 18:00:30.982 [ INFO] Downloading file (this can take a while)...\n",
      "2023-06-23 18:00:31.132 [ INFO] File type: application/x-netcdf\n",
      "2023-06-23 18:00:31.132 [ INFO] File size: 128.1 kB (128104 B)\n",
      "2023-06-23 18:00:31.132 [ INFO] Downloading file /lustre_scratch/orlando-code/datasets/global_ocean_reanalysis/monthly_means/Great_Barrier_Reef_B/thetao/VARS_thetao_DATES_2015-12-31_2016-12-31_LONS_144_149_LATS_-16_-23_DEPTHS_0-3_1.nc\n",
      "2023-06-23 18:00:31.190 [ INFO] - 128.1 kB (51.2%)\n",
      "2023-06-23 18:00:31.220 [ INFO] - 128.1 kB (100.0%)\n",
      "2023-06-23 18:00:31.220 [ INFO] Processing  time : 0:00:12.347819\n",
      "2023-06-23 18:00:31.220 [ INFO] Downloading time : 0:00:00.087942\n",
      "2023-06-23 18:00:31.220 [ INFO] Total time       : 0:00:12.435761\n",
      "2023-06-23 18:00:31.220 [ INFO] Download rate    : 538.7 kB/s\n",
      "2023-06-23 18:00:31.222 [ INFO] Done\n",
      "\n",
      "Dictionary saved as json file at /lustre_scratch/orlando-code/datasets/global_ocean_reanalysis/monthly_means/Great_Barrier_Reef_B/thetao/VARS_thetao_DATES_2015-12-31_2016-12-31_LONS_144_149_LATS_-16_-23_DEPTHS_0-3_1.json\n",
      "VARS_thetao_DATES_2015-12-31_2016-12-31_LONS_144_149_LATS_-16_-23_DEPTHS_0-3_1 written to /lustre_scratch/orlando-code/datasets/global_ocean_reanalysis/monthly_means/Great_Barrier_Reef_B/thetao and metadata generated.\n"
     ]
    },
    {
     "name": "stderr",
     "output_type": "stream",
     "text": []
    },
    {
     "name": "stdout",
     "output_type": "stream",
     "text": [
      "2023-06-23 18:00:32.839 [ INFO] Asynchronous mode set\n",
      "2023-06-23 18:00:32.839 [ INFO] Authenticating user otimmerman for service https://my.cmems-du.eu/motu-web/Motu\n",
      "2023-06-23 18:00:33.581 [ INFO] Requesting file to download (this can take a while)...\n",
      "2023-06-23 18:00:38.995 [ INFO] Authenticating user otimmerman for service https://my.cmems-du.eu/motu-web/Motu\n",
      "2023-06-23 18:00:45.099 [ INFO] The product is ready for download\n",
      "2023-06-23 18:00:45.099 [ INFO] Downloading file (this can take a while)...\n",
      "2023-06-23 18:00:45.249 [ INFO] File type: application/x-netcdf\n",
      "2023-06-23 18:00:45.249 [ INFO] File size: 128.1 kB (128104 B)\n",
      "2023-06-23 18:00:45.250 [ INFO] Downloading file /lustre_scratch/orlando-code/datasets/global_ocean_reanalysis/monthly_means/Great_Barrier_Reef_B/thetao/VARS_thetao_DATES_2016-12-31_2017-12-31_LONS_144_149_LATS_-16_-23_DEPTHS_0-3_1.nc\n",
      "2023-06-23 18:00:45.308 [ INFO] - 128.1 kB (51.2%)\n",
      "2023-06-23 18:00:45.338 [ INFO] - 128.1 kB (100.0%)\n",
      "2023-06-23 18:00:45.338 [ INFO] Processing  time : 0:00:12.411188\n",
      "2023-06-23 18:00:45.338 [ INFO] Downloading time : 0:00:00.088788\n",
      "2023-06-23 18:00:45.339 [ INFO] Total time       : 0:00:12.499976\n",
      "2023-06-23 18:00:45.339 [ INFO] Download rate    : 535.9 kB/s\n",
      "2023-06-23 18:00:45.341 [ INFO] Done\n",
      "\n",
      "Dictionary saved as json file at /lustre_scratch/orlando-code/datasets/global_ocean_reanalysis/monthly_means/Great_Barrier_Reef_B/thetao/VARS_thetao_DATES_2016-12-31_2017-12-31_LONS_144_149_LATS_-16_-23_DEPTHS_0-3_1.json\n",
      "VARS_thetao_DATES_2016-12-31_2017-12-31_LONS_144_149_LATS_-16_-23_DEPTHS_0-3_1 written to /lustre_scratch/orlando-code/datasets/global_ocean_reanalysis/monthly_means/Great_Barrier_Reef_B/thetao and metadata generated.\n"
     ]
    },
    {
     "name": "stderr",
     "output_type": "stream",
     "text": []
    },
    {
     "name": "stdout",
     "output_type": "stream",
     "text": [
      "2023-06-23 18:00:46.985 [ INFO] Asynchronous mode set\n",
      "2023-06-23 18:00:46.985 [ INFO] Authenticating user otimmerman for service https://my.cmems-du.eu/motu-web/Motu\n",
      "2023-06-23 18:00:47.696 [ INFO] Requesting file to download (this can take a while)...\n",
      "2023-06-23 18:00:53.121 [ INFO] Authenticating user otimmerman for service https://my.cmems-du.eu/motu-web/Motu\n",
      "2023-06-23 18:00:59.228 [ INFO] The product is ready for download\n",
      "2023-06-23 18:00:59.229 [ INFO] Downloading file (this can take a while)...\n",
      "2023-06-23 18:00:59.381 [ INFO] File type: application/x-netcdf\n",
      "2023-06-23 18:00:59.381 [ INFO] File size: 128.1 kB (128104 B)\n",
      "2023-06-23 18:00:59.382 [ INFO] Downloading file /lustre_scratch/orlando-code/datasets/global_ocean_reanalysis/monthly_means/Great_Barrier_Reef_B/thetao/VARS_thetao_DATES_2017-12-31_2018-12-31_LONS_144_149_LATS_-16_-23_DEPTHS_0-3_1.nc\n",
      "2023-06-23 18:00:59.441 [ INFO] - 128.1 kB (51.2%)\n",
      "2023-06-23 18:00:59.470 [ INFO] - 128.1 kB (100.0%)\n",
      "2023-06-23 18:00:59.470 [ INFO] Processing  time : 0:00:12.396961\n",
      "2023-06-23 18:00:59.470 [ INFO] Downloading time : 0:00:00.088681\n",
      "2023-06-23 18:00:59.470 [ INFO] Total time       : 0:00:12.485642\n",
      "2023-06-23 18:00:59.470 [ INFO] Download rate    : 530.2 kB/s\n",
      "2023-06-23 18:00:59.473 [ INFO] Done\n",
      "\n",
      "Dictionary saved as json file at /lustre_scratch/orlando-code/datasets/global_ocean_reanalysis/monthly_means/Great_Barrier_Reef_B/thetao/VARS_thetao_DATES_2017-12-31_2018-12-31_LONS_144_149_LATS_-16_-23_DEPTHS_0-3_1.json\n",
      "VARS_thetao_DATES_2017-12-31_2018-12-31_LONS_144_149_LATS_-16_-23_DEPTHS_0-3_1 written to /lustre_scratch/orlando-code/datasets/global_ocean_reanalysis/monthly_means/Great_Barrier_Reef_B/thetao and metadata generated.\n"
     ]
    },
    {
     "name": "stderr",
     "output_type": "stream",
     "text": []
    },
    {
     "name": "stdout",
     "output_type": "stream",
     "text": [
      "2023-06-23 18:01:01.082 [ INFO] Asynchronous mode set\n",
      "2023-06-23 18:01:01.083 [ INFO] Authenticating user otimmerman for service https://my.cmems-du.eu/motu-web/Motu\n",
      "2023-06-23 18:01:01.791 [ INFO] Requesting file to download (this can take a while)...\n",
      "2023-06-23 18:01:07.211 [ INFO] Authenticating user otimmerman for service https://my.cmems-du.eu/motu-web/Motu\n",
      "2023-06-23 18:01:13.636 [ INFO] The product is ready for download\n",
      "2023-06-23 18:01:13.636 [ INFO] Downloading file (this can take a while)...\n",
      "2023-06-23 18:01:13.816 [ INFO] File type: application/x-netcdf\n",
      "2023-06-23 18:01:13.816 [ INFO] File size: 128.1 kB (128104 B)\n",
      "2023-06-23 18:01:13.816 [ INFO] Downloading file /lustre_scratch/orlando-code/datasets/global_ocean_reanalysis/monthly_means/Great_Barrier_Reef_B/thetao/VARS_thetao_DATES_2018-12-31_2019-12-31_LONS_144_149_LATS_-16_-23_DEPTHS_0-3_1.nc\n",
      "2023-06-23 18:01:13.845 [ INFO] - 128.1 kB (51.2%)\n",
      "2023-06-23 18:01:13.875 [ INFO] - 128.1 kB (100.0%)\n",
      "2023-06-23 18:01:13.875 [ INFO] Processing  time : 0:00:12.734004\n",
      "2023-06-23 18:01:13.875 [ INFO] Downloading time : 0:00:00.058697\n",
      "2023-06-23 18:01:13.875 [ INFO] Total time       : 0:00:12.792701\n",
      "2023-06-23 18:01:13.875 [ INFO] Download rate    : 535.9 kB/s\n",
      "2023-06-23 18:01:13.877 [ INFO] Done\n",
      "\n",
      "Dictionary saved as json file at /lustre_scratch/orlando-code/datasets/global_ocean_reanalysis/monthly_means/Great_Barrier_Reef_B/thetao/VARS_thetao_DATES_2018-12-31_2019-12-31_LONS_144_149_LATS_-16_-23_DEPTHS_0-3_1.json\n",
      "VARS_thetao_DATES_2018-12-31_2019-12-31_LONS_144_149_LATS_-16_-23_DEPTHS_0-3_1 written to /lustre_scratch/orlando-code/datasets/global_ocean_reanalysis/monthly_means/Great_Barrier_Reef_B/thetao and metadata generated.\n",
      "Merging .nc files into /lustre_scratch/orlando-code/datasets/global_ocean_reanalysis/monthly_means/Great_Barrier_Reef_B/merged_vars/VARS_thetao_DATES_1992-12-31_2020-12-16_LONS_144_149_LATS_-16_-23_DEPTHS_0-3_1.nc\n"
     ]
    },
    {
     "name": "stderr",
     "output_type": "stream",
     "text": [
      " variable loop:  86%|████████▌ | 6/7 [46:52<08:02, 482.72s/it]"
     ]
    },
    {
     "name": "stdout",
     "output_type": "stream",
     "text": [
      "Dictionary saved as json file at /lustre_scratch/orlando-code/datasets/global_ocean_reanalysis/monthly_means/Great_Barrier_Reef_B/merged_vars/VARS_thetao_DATES_1992-12-31_2020-12-16_LONS_144_149_LATS_-16_-23_DEPTHS_0-3_1.json\n",
      "Downloading vo data...\n"
     ]
    },
    {
     "name": "stderr",
     "output_type": "stream",
     "text": []
    },
    {
     "name": "stdout",
     "output_type": "stream",
     "text": [
      "2023-06-23 18:01:15.861 [ INFO] Asynchronous mode set\n",
      "2023-06-23 18:01:15.861 [ INFO] Authenticating user otimmerman for service https://my.cmems-du.eu/motu-web/Motu\n",
      "2023-06-23 18:01:16.957 [ INFO] Requesting file to download (this can take a while)...\n",
      "2023-06-23 18:01:22.380 [ INFO] Authenticating user otimmerman for service https://my.cmems-du.eu/motu-web/Motu\n",
      "2023-06-23 18:01:28.465 [ INFO] The product is ready for download\n",
      "2023-06-23 18:01:28.465 [ INFO] Downloading file (this can take a while)...\n",
      "2023-06-23 18:01:28.617 [ INFO] File type: application/x-netcdf\n",
      "2023-06-23 18:01:28.617 [ INFO] File size: 128.1 kB (128104 B)\n",
      "2023-06-23 18:01:28.617 [ INFO] Downloading file /lustre_scratch/orlando-code/datasets/global_ocean_reanalysis/monthly_means/Great_Barrier_Reef_B/vo/VARS_vo_DATES_1992-12-31_1993-12-31_LONS_144_149_LATS_-16_-23_DEPTHS_0-3_1.nc\n",
      "2023-06-23 18:01:28.675 [ INFO] - 128.1 kB (51.2%)\n",
      "2023-06-23 18:01:28.705 [ INFO] - 128.1 kB (100.0%)\n",
      "2023-06-23 18:01:28.705 [ INFO] Processing  time : 0:00:12.756267\n",
      "2023-06-23 18:01:28.705 [ INFO] Downloading time : 0:00:00.088019\n",
      "2023-06-23 18:01:28.705 [ INFO] Total time       : 0:00:12.844286\n",
      "2023-06-23 18:01:28.705 [ INFO] Download rate    : 534.2 kB/s\n",
      "2023-06-23 18:01:28.708 [ INFO] Done\n",
      "\n",
      "Dictionary saved as json file at /lustre_scratch/orlando-code/datasets/global_ocean_reanalysis/monthly_means/Great_Barrier_Reef_B/vo/VARS_vo_DATES_1992-12-31_1993-12-31_LONS_144_149_LATS_-16_-23_DEPTHS_0-3_1.json\n",
      "VARS_vo_DATES_1992-12-31_1993-12-31_LONS_144_149_LATS_-16_-23_DEPTHS_0-3_1 written to /lustre_scratch/orlando-code/datasets/global_ocean_reanalysis/monthly_means/Great_Barrier_Reef_B/vo and metadata generated.\n"
     ]
    },
    {
     "name": "stderr",
     "output_type": "stream",
     "text": []
    },
    {
     "name": "stdout",
     "output_type": "stream",
     "text": [
      "2023-06-23 18:01:30.308 [ INFO] Asynchronous mode set\n",
      "2023-06-23 18:01:30.308 [ INFO] Authenticating user otimmerman for service https://my.cmems-du.eu/motu-web/Motu\n",
      "2023-06-23 18:01:31.007 [ INFO] Requesting file to download (this can take a while)...\n",
      "2023-06-23 18:01:36.451 [ INFO] Authenticating user otimmerman for service https://my.cmems-du.eu/motu-web/Motu\n",
      "2023-06-23 18:01:42.598 [ INFO] Product is not yet available (request in progress)\n",
      "2023-06-23 18:01:52.608 [ INFO] Authenticating user otimmerman for service https://my.cmems-du.eu/motu-web/Motu\n",
      "2023-06-23 18:01:58.869 [ INFO] The product is ready for download\n",
      "2023-06-23 18:01:58.869 [ INFO] Downloading file (this can take a while)...\n",
      "2023-06-23 18:01:59.016 [ INFO] File type: application/x-netcdf\n",
      "2023-06-23 18:01:59.017 [ INFO] File size: 128.1 kB (128104 B)\n",
      "2023-06-23 18:01:59.017 [ INFO] Downloading file /lustre_scratch/orlando-code/datasets/global_ocean_reanalysis/monthly_means/Great_Barrier_Reef_B/vo/VARS_vo_DATES_1993-12-31_1994-12-31_LONS_144_149_LATS_-16_-23_DEPTHS_0-3_1.nc\n",
      "2023-06-23 18:01:59.075 [ INFO] - 128.1 kB (51.2%)\n",
      "2023-06-23 18:01:59.104 [ INFO] - 128.1 kB (100.0%)\n",
      "2023-06-23 18:01:59.104 [ INFO] Processing  time : 0:00:28.709054\n",
      "2023-06-23 18:01:59.104 [ INFO] Downloading time : 0:00:00.087742\n",
      "2023-06-23 18:01:59.105 [ INFO] Total time       : 0:00:28.796796\n",
      "2023-06-23 18:01:59.105 [ INFO] Download rate    : 543.8 kB/s\n",
      "2023-06-23 18:01:59.107 [ INFO] Done\n",
      "\n",
      "Dictionary saved as json file at /lustre_scratch/orlando-code/datasets/global_ocean_reanalysis/monthly_means/Great_Barrier_Reef_B/vo/VARS_vo_DATES_1993-12-31_1994-12-31_LONS_144_149_LATS_-16_-23_DEPTHS_0-3_1.json\n",
      "VARS_vo_DATES_1993-12-31_1994-12-31_LONS_144_149_LATS_-16_-23_DEPTHS_0-3_1 written to /lustre_scratch/orlando-code/datasets/global_ocean_reanalysis/monthly_means/Great_Barrier_Reef_B/vo and metadata generated.\n"
     ]
    },
    {
     "name": "stderr",
     "output_type": "stream",
     "text": []
    },
    {
     "name": "stdout",
     "output_type": "stream",
     "text": [
      "2023-06-23 18:02:00.739 [ INFO] Asynchronous mode set\n",
      "2023-06-23 18:02:00.740 [ INFO] Authenticating user otimmerman for service https://my.cmems-du.eu/motu-web/Motu\n",
      "2023-06-23 18:02:01.441 [ INFO] Requesting file to download (this can take a while)...\n",
      "2023-06-23 18:02:06.871 [ INFO] Authenticating user otimmerman for service https://my.cmems-du.eu/motu-web/Motu\n",
      "2023-06-23 18:02:13.982 [ INFO] Product is not yet available (request in progress)\n",
      "2023-06-23 18:02:23.992 [ INFO] Authenticating user otimmerman for service https://my.cmems-du.eu/motu-web/Motu\n",
      "2023-06-23 18:02:30.292 [ INFO] The product is ready for download\n",
      "2023-06-23 18:02:30.292 [ INFO] Downloading file (this can take a while)...\n",
      "2023-06-23 18:02:30.442 [ INFO] File type: application/x-netcdf\n",
      "2023-06-23 18:02:30.442 [ INFO] File size: 128.1 kB (128104 B)\n",
      "2023-06-23 18:02:30.442 [ INFO] Downloading file /lustre_scratch/orlando-code/datasets/global_ocean_reanalysis/monthly_means/Great_Barrier_Reef_B/vo/VARS_vo_DATES_1994-12-31_1995-12-31_LONS_144_149_LATS_-16_-23_DEPTHS_0-3_1.nc\n",
      "2023-06-23 18:02:30.502 [ INFO] - 128.1 kB (51.2%)\n",
      "2023-06-23 18:02:30.532 [ INFO] - 128.1 kB (100.0%)\n",
      "2023-06-23 18:02:30.532 [ INFO] Processing  time : 0:00:29.703681\n",
      "2023-06-23 18:02:30.532 [ INFO] Downloading time : 0:00:00.089242\n",
      "2023-06-23 18:02:30.532 [ INFO] Total time       : 0:00:29.792923\n",
      "2023-06-23 18:02:30.532 [ INFO] Download rate    : 534.4 kB/s\n",
      "2023-06-23 18:02:30.534 [ INFO] Done\n",
      "\n",
      "Dictionary saved as json file at /lustre_scratch/orlando-code/datasets/global_ocean_reanalysis/monthly_means/Great_Barrier_Reef_B/vo/VARS_vo_DATES_1994-12-31_1995-12-31_LONS_144_149_LATS_-16_-23_DEPTHS_0-3_1.json\n",
      "VARS_vo_DATES_1994-12-31_1995-12-31_LONS_144_149_LATS_-16_-23_DEPTHS_0-3_1 written to /lustre_scratch/orlando-code/datasets/global_ocean_reanalysis/monthly_means/Great_Barrier_Reef_B/vo and metadata generated.\n"
     ]
    },
    {
     "name": "stderr",
     "output_type": "stream",
     "text": []
    },
    {
     "name": "stdout",
     "output_type": "stream",
     "text": [
      "2023-06-23 18:02:32.179 [ INFO] Asynchronous mode set\n",
      "2023-06-23 18:02:32.180 [ INFO] Authenticating user otimmerman for service https://my.cmems-du.eu/motu-web/Motu\n",
      "2023-06-23 18:02:32.888 [ INFO] Requesting file to download (this can take a while)...\n",
      "2023-06-23 18:02:38.298 [ INFO] Authenticating user otimmerman for service https://my.cmems-du.eu/motu-web/Motu\n",
      "2023-06-23 18:02:45.504 [ INFO] The product is ready for download\n",
      "2023-06-23 18:02:45.504 [ INFO] Downloading file (this can take a while)...\n",
      "2023-06-23 18:02:45.654 [ INFO] File type: application/x-netcdf\n",
      "2023-06-23 18:02:45.654 [ INFO] File size: 128.1 kB (128104 B)\n",
      "2023-06-23 18:02:45.654 [ INFO] Downloading file /lustre_scratch/orlando-code/datasets/global_ocean_reanalysis/monthly_means/Great_Barrier_Reef_B/vo/VARS_vo_DATES_1995-12-31_1996-12-31_LONS_144_149_LATS_-16_-23_DEPTHS_0-3_1.nc\n",
      "2023-06-23 18:02:45.714 [ INFO] - 128.1 kB (51.2%)\n",
      "2023-06-23 18:02:45.744 [ INFO] - 128.1 kB (100.0%)\n",
      "2023-06-23 18:02:45.744 [ INFO] Processing  time : 0:00:13.475560\n",
      "2023-06-23 18:02:45.744 [ INFO] Downloading time : 0:00:00.089840\n",
      "2023-06-23 18:02:45.744 [ INFO] Total time       : 0:00:13.565400\n",
      "2023-06-23 18:02:45.745 [ INFO] Download rate    : 532.7 kB/s\n",
      "2023-06-23 18:02:45.747 [ INFO] Done\n",
      "\n",
      "Dictionary saved as json file at /lustre_scratch/orlando-code/datasets/global_ocean_reanalysis/monthly_means/Great_Barrier_Reef_B/vo/VARS_vo_DATES_1995-12-31_1996-12-31_LONS_144_149_LATS_-16_-23_DEPTHS_0-3_1.json\n",
      "VARS_vo_DATES_1995-12-31_1996-12-31_LONS_144_149_LATS_-16_-23_DEPTHS_0-3_1 written to /lustre_scratch/orlando-code/datasets/global_ocean_reanalysis/monthly_means/Great_Barrier_Reef_B/vo and metadata generated.\n"
     ]
    },
    {
     "name": "stderr",
     "output_type": "stream",
     "text": []
    },
    {
     "name": "stdout",
     "output_type": "stream",
     "text": [
      "2023-06-23 18:02:47.415 [ INFO] Asynchronous mode set\n",
      "2023-06-23 18:02:47.415 [ INFO] Authenticating user otimmerman for service https://my.cmems-du.eu/motu-web/Motu\n",
      "2023-06-23 18:02:48.125 [ INFO] Requesting file to download (this can take a while)...\n",
      "2023-06-23 18:02:53.536 [ INFO] Authenticating user otimmerman for service https://my.cmems-du.eu/motu-web/Motu\n",
      "2023-06-23 18:02:59.642 [ INFO] The product is ready for download\n",
      "2023-06-23 18:02:59.642 [ INFO] Downloading file (this can take a while)...\n",
      "2023-06-23 18:02:59.793 [ INFO] File type: application/x-netcdf\n",
      "2023-06-23 18:02:59.793 [ INFO] File size: 128.1 kB (128104 B)\n",
      "2023-06-23 18:02:59.794 [ INFO] Downloading file /lustre_scratch/orlando-code/datasets/global_ocean_reanalysis/monthly_means/Great_Barrier_Reef_B/vo/VARS_vo_DATES_1996-12-31_1997-12-31_LONS_144_149_LATS_-16_-23_DEPTHS_0-3_1.nc\n",
      "2023-06-23 18:02:59.852 [ INFO] - 128.1 kB (51.2%)\n",
      "2023-06-23 18:02:59.882 [ INFO] - 128.1 kB (100.0%)\n",
      "2023-06-23 18:02:59.882 [ INFO] Processing  time : 0:00:12.378931\n",
      "2023-06-23 18:02:59.882 [ INFO] Downloading time : 0:00:00.088715\n",
      "2023-06-23 18:02:59.882 [ INFO] Total time       : 0:00:12.467646\n",
      "2023-06-23 18:02:59.882 [ INFO] Download rate    : 533.0 kB/s\n",
      "2023-06-23 18:02:59.885 [ INFO] Done\n",
      "\n",
      "Dictionary saved as json file at /lustre_scratch/orlando-code/datasets/global_ocean_reanalysis/monthly_means/Great_Barrier_Reef_B/vo/VARS_vo_DATES_1996-12-31_1997-12-31_LONS_144_149_LATS_-16_-23_DEPTHS_0-3_1.json\n",
      "VARS_vo_DATES_1996-12-31_1997-12-31_LONS_144_149_LATS_-16_-23_DEPTHS_0-3_1 written to /lustre_scratch/orlando-code/datasets/global_ocean_reanalysis/monthly_means/Great_Barrier_Reef_B/vo and metadata generated.\n"
     ]
    },
    {
     "name": "stderr",
     "output_type": "stream",
     "text": []
    },
    {
     "name": "stdout",
     "output_type": "stream",
     "text": [
      "2023-06-23 18:03:01.495 [ INFO] Asynchronous mode set\n",
      "2023-06-23 18:03:01.495 [ INFO] Authenticating user otimmerman for service https://my.cmems-du.eu/motu-web/Motu\n",
      "2023-06-23 18:03:04.498 [ INFO] Requesting file to download (this can take a while)...\n",
      "2023-06-23 18:03:10.959 [ INFO] Authenticating user otimmerman for service https://my.cmems-du.eu/motu-web/Motu\n",
      "2023-06-23 18:03:17.902 [ INFO] The product is ready for download\n",
      "2023-06-23 18:03:17.902 [ INFO] Downloading file (this can take a while)...\n",
      "2023-06-23 18:03:18.177 [ INFO] File type: application/x-netcdf\n",
      "2023-06-23 18:03:18.178 [ INFO] File size: 128.1 kB (128104 B)\n",
      "2023-06-23 18:03:18.178 [ INFO] Downloading file /lustre_scratch/orlando-code/datasets/global_ocean_reanalysis/monthly_means/Great_Barrier_Reef_B/vo/VARS_vo_DATES_1997-12-31_1998-12-31_LONS_144_149_LATS_-16_-23_DEPTHS_0-3_1.nc\n",
      "2023-06-23 18:03:18.238 [ INFO] - 128.1 kB (51.2%)\n",
      "2023-06-23 18:03:18.268 [ INFO] - 128.1 kB (100.0%)\n",
      "2023-06-23 18:03:18.268 [ INFO] Processing  time : 0:00:16.683504\n",
      "2023-06-23 18:03:18.268 [ INFO] Downloading time : 0:00:00.090017\n",
      "2023-06-23 18:03:18.268 [ INFO] Total time       : 0:00:16.773521\n",
      "2023-06-23 18:03:18.268 [ INFO] Download rate    : 350.2 kB/s\n",
      "2023-06-23 18:03:18.271 [ INFO] Done\n",
      "\n",
      "Dictionary saved as json file at /lustre_scratch/orlando-code/datasets/global_ocean_reanalysis/monthly_means/Great_Barrier_Reef_B/vo/VARS_vo_DATES_1997-12-31_1998-12-31_LONS_144_149_LATS_-16_-23_DEPTHS_0-3_1.json\n",
      "VARS_vo_DATES_1997-12-31_1998-12-31_LONS_144_149_LATS_-16_-23_DEPTHS_0-3_1 written to /lustre_scratch/orlando-code/datasets/global_ocean_reanalysis/monthly_means/Great_Barrier_Reef_B/vo and metadata generated.\n"
     ]
    },
    {
     "name": "stderr",
     "output_type": "stream",
     "text": []
    },
    {
     "name": "stdout",
     "output_type": "stream",
     "text": [
      "2023-06-23 18:03:19.912 [ INFO] Asynchronous mode set\n",
      "2023-06-23 18:03:19.912 [ INFO] Authenticating user otimmerman for service https://my.cmems-du.eu/motu-web/Motu\n",
      "2023-06-23 18:03:20.619 [ INFO] Requesting file to download (this can take a while)...\n",
      "2023-06-23 18:03:26.055 [ INFO] Authenticating user otimmerman for service https://my.cmems-du.eu/motu-web/Motu\n",
      "2023-06-23 18:03:34.252 [ INFO] The product is ready for download\n",
      "2023-06-23 18:03:34.253 [ INFO] Downloading file (this can take a while)...\n",
      "2023-06-23 18:03:34.406 [ INFO] File type: application/x-netcdf\n",
      "2023-06-23 18:03:34.406 [ INFO] File size: 128.1 kB (128104 B)\n",
      "2023-06-23 18:03:34.406 [ INFO] Downloading file /lustre_scratch/orlando-code/datasets/global_ocean_reanalysis/monthly_means/Great_Barrier_Reef_B/vo/VARS_vo_DATES_1998-12-31_1999-12-31_LONS_144_149_LATS_-16_-23_DEPTHS_0-3_1.nc\n",
      "2023-06-23 18:03:34.467 [ INFO] - 128.1 kB (51.2%)\n",
      "2023-06-23 18:03:34.495 [ INFO] - 128.1 kB (100.0%)\n",
      "2023-06-23 18:03:34.495 [ INFO] Processing  time : 0:00:14.494253\n",
      "2023-06-23 18:03:34.495 [ INFO] Downloading time : 0:00:00.089133\n",
      "2023-06-23 18:03:34.495 [ INFO] Total time       : 0:00:14.583386\n",
      "2023-06-23 18:03:34.496 [ INFO] Download rate    : 528.0 kB/s\n",
      "2023-06-23 18:03:34.498 [ INFO] Done\n",
      "\n",
      "Dictionary saved as json file at /lustre_scratch/orlando-code/datasets/global_ocean_reanalysis/monthly_means/Great_Barrier_Reef_B/vo/VARS_vo_DATES_1998-12-31_1999-12-31_LONS_144_149_LATS_-16_-23_DEPTHS_0-3_1.json\n",
      "VARS_vo_DATES_1998-12-31_1999-12-31_LONS_144_149_LATS_-16_-23_DEPTHS_0-3_1 written to /lustre_scratch/orlando-code/datasets/global_ocean_reanalysis/monthly_means/Great_Barrier_Reef_B/vo and metadata generated.\n"
     ]
    },
    {
     "name": "stderr",
     "output_type": "stream",
     "text": []
    },
    {
     "name": "stdout",
     "output_type": "stream",
     "text": [
      "2023-06-23 18:03:36.137 [ INFO] Asynchronous mode set\n",
      "2023-06-23 18:03:36.137 [ INFO] Authenticating user otimmerman for service https://my.cmems-du.eu/motu-web/Motu\n",
      "2023-06-23 18:03:36.850 [ INFO] Requesting file to download (this can take a while)...\n",
      "2023-06-23 18:03:42.272 [ INFO] Authenticating user otimmerman for service https://my.cmems-du.eu/motu-web/Motu\n",
      "2023-06-23 18:03:49.148 [ INFO] Product is not yet available (request in progress)\n",
      "2023-06-23 18:03:59.158 [ INFO] Authenticating user otimmerman for service https://my.cmems-du.eu/motu-web/Motu\n",
      "2023-06-23 18:04:05.283 [ INFO] Product is not yet available (request in progress)\n",
      "2023-06-23 18:04:15.293 [ INFO] Authenticating user otimmerman for service https://my.cmems-du.eu/motu-web/Motu\n",
      "2023-06-23 18:04:21.648 [ INFO] The product is ready for download\n",
      "2023-06-23 18:04:21.649 [ INFO] Downloading file (this can take a while)...\n",
      "2023-06-23 18:04:21.799 [ INFO] File type: application/x-netcdf\n",
      "2023-06-23 18:04:21.799 [ INFO] File size: 128.1 kB (128104 B)\n",
      "2023-06-23 18:04:21.799 [ INFO] Downloading file /lustre_scratch/orlando-code/datasets/global_ocean_reanalysis/monthly_means/Great_Barrier_Reef_B/vo/VARS_vo_DATES_1999-12-31_2000-12-31_LONS_144_149_LATS_-16_-23_DEPTHS_0-3_1.nc\n",
      "2023-06-23 18:04:21.858 [ INFO] - 128.1 kB (51.2%)\n",
      "2023-06-23 18:04:21.887 [ INFO] - 128.1 kB (100.0%)\n",
      "2023-06-23 18:04:21.887 [ INFO] Processing  time : 0:00:45.663090\n",
      "2023-06-23 18:04:21.887 [ INFO] Downloading time : 0:00:00.087767\n",
      "2023-06-23 18:04:21.887 [ INFO] Total time       : 0:00:45.750857\n",
      "2023-06-23 18:04:21.887 [ INFO] Download rate    : 537.0 kB/s\n",
      "2023-06-23 18:04:21.890 [ INFO] Done\n",
      "\n",
      "Dictionary saved as json file at /lustre_scratch/orlando-code/datasets/global_ocean_reanalysis/monthly_means/Great_Barrier_Reef_B/vo/VARS_vo_DATES_1999-12-31_2000-12-31_LONS_144_149_LATS_-16_-23_DEPTHS_0-3_1.json\n",
      "VARS_vo_DATES_1999-12-31_2000-12-31_LONS_144_149_LATS_-16_-23_DEPTHS_0-3_1 written to /lustre_scratch/orlando-code/datasets/global_ocean_reanalysis/monthly_means/Great_Barrier_Reef_B/vo and metadata generated.\n"
     ]
    },
    {
     "name": "stderr",
     "output_type": "stream",
     "text": []
    },
    {
     "name": "stdout",
     "output_type": "stream",
     "text": [
      "2023-06-23 18:04:23.510 [ INFO] Asynchronous mode set\n",
      "2023-06-23 18:04:23.510 [ INFO] Authenticating user otimmerman for service https://my.cmems-du.eu/motu-web/Motu\n",
      "2023-06-23 18:04:25.989 [ INFO] Requesting file to download (this can take a while)...\n",
      "2023-06-23 18:04:31.409 [ INFO] Authenticating user otimmerman for service https://my.cmems-du.eu/motu-web/Motu\n",
      "2023-06-23 18:04:37.864 [ INFO] The product is ready for download\n",
      "2023-06-23 18:04:37.864 [ INFO] Downloading file (this can take a while)...\n",
      "2023-06-23 18:04:38.015 [ INFO] File type: application/x-netcdf\n",
      "2023-06-23 18:04:38.015 [ INFO] File size: 128.1 kB (128104 B)\n",
      "2023-06-23 18:04:38.015 [ INFO] Downloading file /lustre_scratch/orlando-code/datasets/global_ocean_reanalysis/monthly_means/Great_Barrier_Reef_B/vo/VARS_vo_DATES_2000-12-31_2001-12-31_LONS_144_149_LATS_-16_-23_DEPTHS_0-3_1.nc\n",
      "2023-06-23 18:04:38.075 [ INFO] - 128.1 kB (51.2%)\n",
      "2023-06-23 18:04:38.105 [ INFO] - 128.1 kB (100.0%)\n",
      "2023-06-23 18:04:38.105 [ INFO] Processing  time : 0:00:14.505381\n",
      "2023-06-23 18:04:38.105 [ INFO] Downloading time : 0:00:00.089966\n",
      "2023-06-23 18:04:38.105 [ INFO] Total time       : 0:00:14.595347\n",
      "2023-06-23 18:04:38.105 [ INFO] Download rate    : 532.4 kB/s\n",
      "2023-06-23 18:04:38.108 [ INFO] Done\n",
      "\n",
      "Dictionary saved as json file at /lustre_scratch/orlando-code/datasets/global_ocean_reanalysis/monthly_means/Great_Barrier_Reef_B/vo/VARS_vo_DATES_2000-12-31_2001-12-31_LONS_144_149_LATS_-16_-23_DEPTHS_0-3_1.json\n",
      "VARS_vo_DATES_2000-12-31_2001-12-31_LONS_144_149_LATS_-16_-23_DEPTHS_0-3_1 written to /lustre_scratch/orlando-code/datasets/global_ocean_reanalysis/monthly_means/Great_Barrier_Reef_B/vo and metadata generated.\n"
     ]
    },
    {
     "name": "stderr",
     "output_type": "stream",
     "text": []
    },
    {
     "name": "stdout",
     "output_type": "stream",
     "text": [
      "2023-06-23 18:04:39.753 [ INFO] Asynchronous mode set\n",
      "2023-06-23 18:04:39.753 [ INFO] Authenticating user otimmerman for service https://my.cmems-du.eu/motu-web/Motu\n",
      "2023-06-23 18:04:40.464 [ INFO] Requesting file to download (this can take a while)...\n",
      "2023-06-23 18:04:45.890 [ INFO] Authenticating user otimmerman for service https://my.cmems-du.eu/motu-web/Motu\n",
      "2023-06-23 18:04:51.992 [ INFO] The product is ready for download\n",
      "2023-06-23 18:04:51.992 [ INFO] Downloading file (this can take a while)...\n",
      "2023-06-23 18:04:52.144 [ INFO] File type: application/x-netcdf\n",
      "2023-06-23 18:04:52.144 [ INFO] File size: 128.1 kB (128104 B)\n",
      "2023-06-23 18:04:52.144 [ INFO] Downloading file /lustre_scratch/orlando-code/datasets/global_ocean_reanalysis/monthly_means/Great_Barrier_Reef_B/vo/VARS_vo_DATES_2001-12-31_2002-12-31_LONS_144_149_LATS_-16_-23_DEPTHS_0-3_1.nc\n",
      "2023-06-23 18:04:52.204 [ INFO] - 128.1 kB (51.2%)\n",
      "2023-06-23 18:04:52.234 [ INFO] - 128.1 kB (100.0%)\n",
      "2023-06-23 18:04:52.234 [ INFO] Processing  time : 0:00:12.391894\n",
      "2023-06-23 18:04:52.234 [ INFO] Downloading time : 0:00:00.089749\n",
      "2023-06-23 18:04:52.234 [ INFO] Total time       : 0:00:12.481643\n",
      "2023-06-23 18:04:52.234 [ INFO] Download rate    : 529.5 kB/s\n",
      "2023-06-23 18:04:52.237 [ INFO] Done\n",
      "\n",
      "Dictionary saved as json file at /lustre_scratch/orlando-code/datasets/global_ocean_reanalysis/monthly_means/Great_Barrier_Reef_B/vo/VARS_vo_DATES_2001-12-31_2002-12-31_LONS_144_149_LATS_-16_-23_DEPTHS_0-3_1.json\n",
      "VARS_vo_DATES_2001-12-31_2002-12-31_LONS_144_149_LATS_-16_-23_DEPTHS_0-3_1 written to /lustre_scratch/orlando-code/datasets/global_ocean_reanalysis/monthly_means/Great_Barrier_Reef_B/vo and metadata generated.\n"
     ]
    },
    {
     "name": "stderr",
     "output_type": "stream",
     "text": []
    },
    {
     "name": "stdout",
     "output_type": "stream",
     "text": [
      "2023-06-23 18:04:53.900 [ INFO] Asynchronous mode set\n",
      "2023-06-23 18:04:53.900 [ INFO] Authenticating user otimmerman for service https://my.cmems-du.eu/motu-web/Motu\n",
      "2023-06-23 18:04:54.596 [ INFO] Requesting file to download (this can take a while)...\n",
      "2023-06-23 18:05:00.011 [ INFO] Authenticating user otimmerman for service https://my.cmems-du.eu/motu-web/Motu\n",
      "2023-06-23 18:05:06.117 [ INFO] The product is ready for download\n",
      "2023-06-23 18:05:06.117 [ INFO] Downloading file (this can take a while)...\n",
      "2023-06-23 18:05:06.269 [ INFO] File type: application/x-netcdf\n",
      "2023-06-23 18:05:06.269 [ INFO] File size: 128.1 kB (128104 B)\n",
      "2023-06-23 18:05:06.269 [ INFO] Downloading file /lustre_scratch/orlando-code/datasets/global_ocean_reanalysis/monthly_means/Great_Barrier_Reef_B/vo/VARS_vo_DATES_2002-12-31_2003-12-31_LONS_144_149_LATS_-16_-23_DEPTHS_0-3_1.nc\n",
      "2023-06-23 18:05:06.328 [ INFO] - 128.1 kB (51.2%)\n",
      "2023-06-23 18:05:06.357 [ INFO] - 128.1 kB (100.0%)\n",
      "2023-06-23 18:05:06.357 [ INFO] Processing  time : 0:00:12.369624\n",
      "2023-06-23 18:05:06.357 [ INFO] Downloading time : 0:00:00.087690\n",
      "2023-06-23 18:05:06.357 [ INFO] Total time       : 0:00:12.457314\n",
      "2023-06-23 18:05:06.357 [ INFO] Download rate    : 535.2 kB/s\n",
      "2023-06-23 18:05:06.359 [ INFO] Done\n",
      "\n",
      "Dictionary saved as json file at /lustre_scratch/orlando-code/datasets/global_ocean_reanalysis/monthly_means/Great_Barrier_Reef_B/vo/VARS_vo_DATES_2002-12-31_2003-12-31_LONS_144_149_LATS_-16_-23_DEPTHS_0-3_1.json\n",
      "VARS_vo_DATES_2002-12-31_2003-12-31_LONS_144_149_LATS_-16_-23_DEPTHS_0-3_1 written to /lustre_scratch/orlando-code/datasets/global_ocean_reanalysis/monthly_means/Great_Barrier_Reef_B/vo and metadata generated.\n"
     ]
    },
    {
     "name": "stderr",
     "output_type": "stream",
     "text": []
    },
    {
     "name": "stdout",
     "output_type": "stream",
     "text": [
      "2023-06-23 18:05:08.006 [ INFO] Asynchronous mode set\n",
      "2023-06-23 18:05:08.006 [ INFO] Authenticating user otimmerman for service https://my.cmems-du.eu/motu-web/Motu\n",
      "2023-06-23 18:05:08.701 [ INFO] Requesting file to download (this can take a while)...\n",
      "2023-06-23 18:05:14.113 [ INFO] Authenticating user otimmerman for service https://my.cmems-du.eu/motu-web/Motu\n",
      "2023-06-23 18:05:20.629 [ INFO] The product is ready for download\n",
      "2023-06-23 18:05:20.629 [ INFO] Downloading file (this can take a while)...\n",
      "2023-06-23 18:05:20.782 [ INFO] File type: application/x-netcdf\n",
      "2023-06-23 18:05:20.782 [ INFO] File size: 128.1 kB (128104 B)\n",
      "2023-06-23 18:05:20.782 [ INFO] Downloading file /lustre_scratch/orlando-code/datasets/global_ocean_reanalysis/monthly_means/Great_Barrier_Reef_B/vo/VARS_vo_DATES_2003-12-31_2004-12-31_LONS_144_149_LATS_-16_-23_DEPTHS_0-3_1.nc\n",
      "2023-06-23 18:05:20.843 [ INFO] - 128.1 kB (51.2%)\n",
      "2023-06-23 18:05:20.872 [ INFO] - 128.1 kB (100.0%)\n",
      "2023-06-23 18:05:20.872 [ INFO] Processing  time : 0:00:12.776991\n",
      "2023-06-23 18:05:20.872 [ INFO] Downloading time : 0:00:00.089908\n",
      "2023-06-23 18:05:20.873 [ INFO] Total time       : 0:00:12.866899\n",
      "2023-06-23 18:05:20.873 [ INFO] Download rate    : 526.4 kB/s\n",
      "2023-06-23 18:05:20.875 [ INFO] Done\n",
      "\n",
      "Dictionary saved as json file at /lustre_scratch/orlando-code/datasets/global_ocean_reanalysis/monthly_means/Great_Barrier_Reef_B/vo/VARS_vo_DATES_2003-12-31_2004-12-31_LONS_144_149_LATS_-16_-23_DEPTHS_0-3_1.json\n",
      "VARS_vo_DATES_2003-12-31_2004-12-31_LONS_144_149_LATS_-16_-23_DEPTHS_0-3_1 written to /lustre_scratch/orlando-code/datasets/global_ocean_reanalysis/monthly_means/Great_Barrier_Reef_B/vo and metadata generated.\n"
     ]
    },
    {
     "name": "stderr",
     "output_type": "stream",
     "text": []
    },
    {
     "name": "stdout",
     "output_type": "stream",
     "text": [
      "2023-06-23 18:05:22.499 [ INFO] Asynchronous mode set\n",
      "2023-06-23 18:05:22.499 [ INFO] Authenticating user otimmerman for service https://my.cmems-du.eu/motu-web/Motu\n",
      "2023-06-23 18:05:23.192 [ INFO] Requesting file to download (this can take a while)...\n",
      "2023-06-23 18:05:28.597 [ INFO] Authenticating user otimmerman for service https://my.cmems-du.eu/motu-web/Motu\n",
      "2023-06-23 18:05:35.617 [ INFO] The product is ready for download\n",
      "2023-06-23 18:05:35.617 [ INFO] Downloading file (this can take a while)...\n",
      "2023-06-23 18:05:35.805 [ INFO] File type: application/x-netcdf\n",
      "2023-06-23 18:05:35.805 [ INFO] File size: 128.1 kB (128104 B)\n",
      "2023-06-23 18:05:35.805 [ INFO] Downloading file /lustre_scratch/orlando-code/datasets/global_ocean_reanalysis/monthly_means/Great_Barrier_Reef_B/vo/VARS_vo_DATES_2004-12-31_2005-12-31_LONS_144_149_LATS_-16_-23_DEPTHS_0-3_1.nc\n",
      "2023-06-23 18:05:35.836 [ INFO] - 128.1 kB (51.2%)\n",
      "2023-06-23 18:05:35.864 [ INFO] - 128.1 kB (100.0%)\n",
      "2023-06-23 18:05:35.864 [ INFO] Processing  time : 0:00:13.306411\n",
      "2023-06-23 18:05:35.865 [ INFO] Downloading time : 0:00:00.059701\n",
      "2023-06-23 18:05:35.865 [ INFO] Total time       : 0:00:13.366112\n",
      "2023-06-23 18:05:35.865 [ INFO] Download rate    : 517.7 kB/s\n",
      "2023-06-23 18:05:35.867 [ INFO] Done\n",
      "\n",
      "Dictionary saved as json file at /lustre_scratch/orlando-code/datasets/global_ocean_reanalysis/monthly_means/Great_Barrier_Reef_B/vo/VARS_vo_DATES_2004-12-31_2005-12-31_LONS_144_149_LATS_-16_-23_DEPTHS_0-3_1.json\n",
      "VARS_vo_DATES_2004-12-31_2005-12-31_LONS_144_149_LATS_-16_-23_DEPTHS_0-3_1 written to /lustre_scratch/orlando-code/datasets/global_ocean_reanalysis/monthly_means/Great_Barrier_Reef_B/vo and metadata generated.\n"
     ]
    },
    {
     "name": "stderr",
     "output_type": "stream",
     "text": []
    },
    {
     "name": "stdout",
     "output_type": "stream",
     "text": [
      "2023-06-23 18:05:37.510 [ INFO] Asynchronous mode set\n",
      "2023-06-23 18:05:37.510 [ INFO] Authenticating user otimmerman for service https://my.cmems-du.eu/motu-web/Motu\n",
      "2023-06-23 18:05:38.434 [ INFO] Requesting file to download (this can take a while)...\n",
      "2023-06-23 18:05:43.843 [ INFO] Authenticating user otimmerman for service https://my.cmems-du.eu/motu-web/Motu\n",
      "2023-06-23 18:05:50.077 [ INFO] The product is ready for download\n",
      "2023-06-23 18:05:50.077 [ INFO] Downloading file (this can take a while)...\n",
      "2023-06-23 18:05:50.232 [ INFO] File type: application/x-netcdf\n",
      "2023-06-23 18:05:50.232 [ INFO] File size: 128.1 kB (128104 B)\n",
      "2023-06-23 18:05:50.232 [ INFO] Downloading file /lustre_scratch/orlando-code/datasets/global_ocean_reanalysis/monthly_means/Great_Barrier_Reef_B/vo/VARS_vo_DATES_2005-12-31_2006-12-31_LONS_144_149_LATS_-16_-23_DEPTHS_0-3_1.nc\n",
      "2023-06-23 18:05:50.289 [ INFO] - 128.1 kB (51.2%)\n",
      "2023-06-23 18:05:50.318 [ INFO] - 128.1 kB (100.0%)\n",
      "2023-06-23 18:05:50.318 [ INFO] Processing  time : 0:00:12.723286\n",
      "2023-06-23 18:05:50.319 [ INFO] Downloading time : 0:00:00.086142\n",
      "2023-06-23 18:05:50.319 [ INFO] Total time       : 0:00:12.809428\n",
      "2023-06-23 18:05:50.319 [ INFO] Download rate    : 530.1 kB/s\n",
      "2023-06-23 18:05:50.321 [ INFO] Done\n",
      "\n",
      "Dictionary saved as json file at /lustre_scratch/orlando-code/datasets/global_ocean_reanalysis/monthly_means/Great_Barrier_Reef_B/vo/VARS_vo_DATES_2005-12-31_2006-12-31_LONS_144_149_LATS_-16_-23_DEPTHS_0-3_1.json\n",
      "VARS_vo_DATES_2005-12-31_2006-12-31_LONS_144_149_LATS_-16_-23_DEPTHS_0-3_1 written to /lustre_scratch/orlando-code/datasets/global_ocean_reanalysis/monthly_means/Great_Barrier_Reef_B/vo and metadata generated.\n"
     ]
    },
    {
     "name": "stderr",
     "output_type": "stream",
     "text": []
    },
    {
     "name": "stdout",
     "output_type": "stream",
     "text": [
      "2023-06-23 18:05:51.958 [ INFO] Asynchronous mode set\n",
      "2023-06-23 18:05:51.959 [ INFO] Authenticating user otimmerman for service https://my.cmems-du.eu/motu-web/Motu\n",
      "2023-06-23 18:05:53.846 [ INFO] Requesting file to download (this can take a while)...\n",
      "2023-06-23 18:05:59.261 [ INFO] Authenticating user otimmerman for service https://my.cmems-du.eu/motu-web/Motu\n",
      "2023-06-23 18:06:05.378 [ INFO] The product is ready for download\n",
      "2023-06-23 18:06:05.378 [ INFO] Downloading file (this can take a while)...\n",
      "2023-06-23 18:06:05.534 [ INFO] File type: application/x-netcdf\n",
      "2023-06-23 18:06:05.534 [ INFO] File size: 128.1 kB (128104 B)\n",
      "2023-06-23 18:06:05.534 [ INFO] Downloading file /lustre_scratch/orlando-code/datasets/global_ocean_reanalysis/monthly_means/Great_Barrier_Reef_B/vo/VARS_vo_DATES_2006-12-31_2007-12-31_LONS_144_149_LATS_-16_-23_DEPTHS_0-3_1.nc\n",
      "2023-06-23 18:06:05.591 [ INFO] - 128.1 kB (51.2%)\n",
      "2023-06-23 18:06:05.621 [ INFO] - 128.1 kB (100.0%)\n",
      "2023-06-23 18:06:05.621 [ INFO] Processing  time : 0:00:13.576338\n",
      "2023-06-23 18:06:05.621 [ INFO] Downloading time : 0:00:00.087252\n",
      "2023-06-23 18:06:05.621 [ INFO] Total time       : 0:00:13.663590\n",
      "2023-06-23 18:06:05.621 [ INFO] Download rate    : 527.1 kB/s\n",
      "2023-06-23 18:06:05.624 [ INFO] Done\n",
      "\n",
      "Dictionary saved as json file at /lustre_scratch/orlando-code/datasets/global_ocean_reanalysis/monthly_means/Great_Barrier_Reef_B/vo/VARS_vo_DATES_2006-12-31_2007-12-31_LONS_144_149_LATS_-16_-23_DEPTHS_0-3_1.json\n",
      "VARS_vo_DATES_2006-12-31_2007-12-31_LONS_144_149_LATS_-16_-23_DEPTHS_0-3_1 written to /lustre_scratch/orlando-code/datasets/global_ocean_reanalysis/monthly_means/Great_Barrier_Reef_B/vo and metadata generated.\n"
     ]
    },
    {
     "name": "stderr",
     "output_type": "stream",
     "text": []
    },
    {
     "name": "stdout",
     "output_type": "stream",
     "text": [
      "2023-06-23 18:06:07.272 [ INFO] Asynchronous mode set\n",
      "2023-06-23 18:06:07.272 [ INFO] Authenticating user otimmerman for service https://my.cmems-du.eu/motu-web/Motu\n",
      "2023-06-23 18:06:07.974 [ INFO] Requesting file to download (this can take a while)...\n",
      "2023-06-23 18:06:13.398 [ INFO] Authenticating user otimmerman for service https://my.cmems-du.eu/motu-web/Motu\n",
      "2023-06-23 18:06:19.579 [ INFO] The product is ready for download\n",
      "2023-06-23 18:06:19.579 [ INFO] Downloading file (this can take a while)...\n",
      "2023-06-23 18:06:19.734 [ INFO] File type: application/x-netcdf\n",
      "2023-06-23 18:06:19.734 [ INFO] File size: 128.1 kB (128104 B)\n",
      "2023-06-23 18:06:19.734 [ INFO] Downloading file /lustre_scratch/orlando-code/datasets/global_ocean_reanalysis/monthly_means/Great_Barrier_Reef_B/vo/VARS_vo_DATES_2007-12-31_2008-12-31_LONS_144_149_LATS_-16_-23_DEPTHS_0-3_1.nc\n",
      "2023-06-23 18:06:19.792 [ INFO] - 128.1 kB (51.2%)\n",
      "2023-06-23 18:06:19.822 [ INFO] - 128.1 kB (100.0%)\n",
      "2023-06-23 18:06:19.823 [ INFO] Processing  time : 0:00:12.462267\n",
      "2023-06-23 18:06:19.823 [ INFO] Downloading time : 0:00:00.088720\n",
      "2023-06-23 18:06:19.823 [ INFO] Total time       : 0:00:12.550987\n",
      "2023-06-23 18:06:19.823 [ INFO] Download rate    : 526.4 kB/s\n",
      "2023-06-23 18:06:19.825 [ INFO] Done\n",
      "\n",
      "Dictionary saved as json file at /lustre_scratch/orlando-code/datasets/global_ocean_reanalysis/monthly_means/Great_Barrier_Reef_B/vo/VARS_vo_DATES_2007-12-31_2008-12-31_LONS_144_149_LATS_-16_-23_DEPTHS_0-3_1.json\n",
      "VARS_vo_DATES_2007-12-31_2008-12-31_LONS_144_149_LATS_-16_-23_DEPTHS_0-3_1 written to /lustre_scratch/orlando-code/datasets/global_ocean_reanalysis/monthly_means/Great_Barrier_Reef_B/vo and metadata generated.\n"
     ]
    },
    {
     "name": "stderr",
     "output_type": "stream",
     "text": []
    },
    {
     "name": "stdout",
     "output_type": "stream",
     "text": [
      "2023-06-23 18:06:21.469 [ INFO] Asynchronous mode set\n",
      "2023-06-23 18:06:21.470 [ INFO] Authenticating user otimmerman for service https://my.cmems-du.eu/motu-web/Motu\n",
      "2023-06-23 18:06:22.371 [ INFO] Requesting file to download (this can take a while)...\n",
      "2023-06-23 18:06:27.788 [ INFO] Authenticating user otimmerman for service https://my.cmems-du.eu/motu-web/Motu\n",
      "2023-06-23 18:06:34.604 [ INFO] The product is ready for download\n",
      "2023-06-23 18:06:34.605 [ INFO] Downloading file (this can take a while)...\n",
      "2023-06-23 18:06:34.788 [ INFO] File type: application/x-netcdf\n",
      "2023-06-23 18:06:34.789 [ INFO] File size: 128.1 kB (128104 B)\n",
      "2023-06-23 18:06:34.789 [ INFO] Downloading file /lustre_scratch/orlando-code/datasets/global_ocean_reanalysis/monthly_means/Great_Barrier_Reef_B/vo/VARS_vo_DATES_2008-12-31_2009-12-31_LONS_144_149_LATS_-16_-23_DEPTHS_0-3_1.nc\n",
      "2023-06-23 18:06:34.817 [ INFO] - 128.1 kB (51.2%)\n",
      "2023-06-23 18:06:34.848 [ INFO] - 128.1 kB (100.0%)\n",
      "2023-06-23 18:06:34.848 [ INFO] Processing  time : 0:00:13.319750\n",
      "2023-06-23 18:06:34.848 [ INFO] Downloading time : 0:00:00.059142\n",
      "2023-06-23 18:06:34.848 [ INFO] Total time       : 0:00:13.378892\n",
      "2023-06-23 18:06:34.848 [ INFO] Download rate    : 527.2 kB/s\n",
      "2023-06-23 18:06:34.850 [ INFO] Done\n",
      "\n",
      "Dictionary saved as json file at /lustre_scratch/orlando-code/datasets/global_ocean_reanalysis/monthly_means/Great_Barrier_Reef_B/vo/VARS_vo_DATES_2008-12-31_2009-12-31_LONS_144_149_LATS_-16_-23_DEPTHS_0-3_1.json\n",
      "VARS_vo_DATES_2008-12-31_2009-12-31_LONS_144_149_LATS_-16_-23_DEPTHS_0-3_1 written to /lustre_scratch/orlando-code/datasets/global_ocean_reanalysis/monthly_means/Great_Barrier_Reef_B/vo and metadata generated.\n"
     ]
    },
    {
     "name": "stderr",
     "output_type": "stream",
     "text": []
    },
    {
     "name": "stdout",
     "output_type": "stream",
     "text": [
      "2023-06-23 18:06:36.519 [ INFO] Asynchronous mode set\n",
      "2023-06-23 18:06:36.519 [ INFO] Authenticating user otimmerman for service https://my.cmems-du.eu/motu-web/Motu\n",
      "2023-06-23 18:06:37.412 [ INFO] Requesting file to download (this can take a while)...\n",
      "2023-06-23 18:06:42.837 [ INFO] Authenticating user otimmerman for service https://my.cmems-du.eu/motu-web/Motu\n",
      "2023-06-23 18:06:48.949 [ INFO] The product is ready for download\n",
      "2023-06-23 18:06:48.949 [ INFO] Downloading file (this can take a while)...\n",
      "2023-06-23 18:06:49.106 [ INFO] File type: application/x-netcdf\n",
      "2023-06-23 18:06:49.106 [ INFO] File size: 128.1 kB (128104 B)\n",
      "2023-06-23 18:06:49.106 [ INFO] Downloading file /lustre_scratch/orlando-code/datasets/global_ocean_reanalysis/monthly_means/Great_Barrier_Reef_B/vo/VARS_vo_DATES_2009-12-31_2010-12-31_LONS_144_149_LATS_-16_-23_DEPTHS_0-3_1.nc\n",
      "2023-06-23 18:06:49.164 [ INFO] - 128.1 kB (51.2%)\n",
      "2023-06-23 18:06:49.194 [ INFO] - 128.1 kB (100.0%)\n",
      "2023-06-23 18:06:49.194 [ INFO] Processing  time : 0:00:12.587126\n",
      "2023-06-23 18:06:49.194 [ INFO] Downloading time : 0:00:00.088379\n",
      "2023-06-23 18:06:49.194 [ INFO] Total time       : 0:00:12.675505\n",
      "2023-06-23 18:06:49.194 [ INFO] Download rate    : 522.8 kB/s\n",
      "2023-06-23 18:06:49.197 [ INFO] Done\n",
      "\n",
      "Dictionary saved as json file at /lustre_scratch/orlando-code/datasets/global_ocean_reanalysis/monthly_means/Great_Barrier_Reef_B/vo/VARS_vo_DATES_2009-12-31_2010-12-31_LONS_144_149_LATS_-16_-23_DEPTHS_0-3_1.json\n",
      "VARS_vo_DATES_2009-12-31_2010-12-31_LONS_144_149_LATS_-16_-23_DEPTHS_0-3_1 written to /lustre_scratch/orlando-code/datasets/global_ocean_reanalysis/monthly_means/Great_Barrier_Reef_B/vo and metadata generated.\n"
     ]
    },
    {
     "name": "stderr",
     "output_type": "stream",
     "text": []
    },
    {
     "name": "stdout",
     "output_type": "stream",
     "text": [
      "2023-06-23 18:06:50.848 [ INFO] Asynchronous mode set\n",
      "2023-06-23 18:06:50.848 [ INFO] Authenticating user otimmerman for service https://my.cmems-du.eu/motu-web/Motu\n",
      "2023-06-23 18:06:51.615 [ INFO] Requesting file to download (this can take a while)...\n",
      "2023-06-23 18:06:57.232 [ INFO] Authenticating user otimmerman for service https://my.cmems-du.eu/motu-web/Motu\n",
      "2023-06-23 18:07:05.165 [ INFO] Product is not yet available (request in progress)\n",
      "2023-06-23 18:07:15.175 [ INFO] Authenticating user otimmerman for service https://my.cmems-du.eu/motu-web/Motu\n",
      "2023-06-23 18:07:21.293 [ INFO] Product is not yet available (request in progress)\n",
      "2023-06-23 18:07:31.303 [ INFO] Authenticating user otimmerman for service https://my.cmems-du.eu/motu-web/Motu\n",
      "2023-06-23 18:07:37.432 [ INFO] The product is ready for download\n",
      "2023-06-23 18:07:37.432 [ INFO] Downloading file (this can take a while)...\n",
      "2023-06-23 18:07:37.586 [ INFO] File type: application/x-netcdf\n",
      "2023-06-23 18:07:37.586 [ INFO] File size: 128.1 kB (128104 B)\n",
      "2023-06-23 18:07:37.586 [ INFO] Downloading file /lustre_scratch/orlando-code/datasets/global_ocean_reanalysis/monthly_means/Great_Barrier_Reef_B/vo/VARS_vo_DATES_2010-12-31_2011-12-31_LONS_144_149_LATS_-16_-23_DEPTHS_0-3_1.nc\n",
      "2023-06-23 18:07:37.646 [ INFO] - 128.1 kB (51.2%)\n",
      "2023-06-23 18:07:37.675 [ INFO] - 128.1 kB (100.0%)\n",
      "2023-06-23 18:07:37.675 [ INFO] Processing  time : 0:00:46.738954\n",
      "2023-06-23 18:07:37.675 [ INFO] Downloading time : 0:00:00.088908\n",
      "2023-06-23 18:07:37.675 [ INFO] Total time       : 0:00:46.827862\n",
      "2023-06-23 18:07:37.675 [ INFO] Download rate    : 527.3 kB/s\n",
      "2023-06-23 18:07:37.677 [ INFO] Done\n",
      "\n",
      "Dictionary saved as json file at /lustre_scratch/orlando-code/datasets/global_ocean_reanalysis/monthly_means/Great_Barrier_Reef_B/vo/VARS_vo_DATES_2010-12-31_2011-12-31_LONS_144_149_LATS_-16_-23_DEPTHS_0-3_1.json\n",
      "VARS_vo_DATES_2010-12-31_2011-12-31_LONS_144_149_LATS_-16_-23_DEPTHS_0-3_1 written to /lustre_scratch/orlando-code/datasets/global_ocean_reanalysis/monthly_means/Great_Barrier_Reef_B/vo and metadata generated.\n"
     ]
    },
    {
     "name": "stderr",
     "output_type": "stream",
     "text": []
    },
    {
     "name": "stdout",
     "output_type": "stream",
     "text": [
      "2023-06-23 18:07:39.325 [ INFO] Asynchronous mode set\n",
      "2023-06-23 18:07:39.325 [ INFO] Authenticating user otimmerman for service https://my.cmems-du.eu/motu-web/Motu\n",
      "2023-06-23 18:07:41.665 [ INFO] Requesting file to download (this can take a while)...\n",
      "2023-06-23 18:07:47.675 [ INFO] Authenticating user otimmerman for service https://my.cmems-du.eu/motu-web/Motu\n",
      "2023-06-23 18:07:53.902 [ INFO] The product is ready for download\n",
      "2023-06-23 18:07:53.902 [ INFO] Downloading file (this can take a while)...\n",
      "2023-06-23 18:07:54.052 [ INFO] File type: application/x-netcdf\n",
      "2023-06-23 18:07:54.052 [ INFO] File size: 128.1 kB (128104 B)\n",
      "2023-06-23 18:07:54.053 [ INFO] Downloading file /lustre_scratch/orlando-code/datasets/global_ocean_reanalysis/monthly_means/Great_Barrier_Reef_B/vo/VARS_vo_DATES_2011-12-31_2012-12-31_LONS_144_149_LATS_-16_-23_DEPTHS_0-3_1.nc\n",
      "2023-06-23 18:07:54.112 [ INFO] - 128.1 kB (51.2%)\n",
      "2023-06-23 18:07:54.142 [ INFO] - 128.1 kB (100.0%)\n",
      "2023-06-23 18:07:54.142 [ INFO] Processing  time : 0:00:14.728001\n",
      "2023-06-23 18:07:54.142 [ INFO] Downloading time : 0:00:00.089157\n",
      "2023-06-23 18:07:54.142 [ INFO] Total time       : 0:00:14.817158\n",
      "2023-06-23 18:07:54.142 [ INFO] Download rate    : 535.3 kB/s\n",
      "2023-06-23 18:07:54.144 [ INFO] Done\n",
      "\n",
      "Dictionary saved as json file at /lustre_scratch/orlando-code/datasets/global_ocean_reanalysis/monthly_means/Great_Barrier_Reef_B/vo/VARS_vo_DATES_2011-12-31_2012-12-31_LONS_144_149_LATS_-16_-23_DEPTHS_0-3_1.json\n",
      "VARS_vo_DATES_2011-12-31_2012-12-31_LONS_144_149_LATS_-16_-23_DEPTHS_0-3_1 written to /lustre_scratch/orlando-code/datasets/global_ocean_reanalysis/monthly_means/Great_Barrier_Reef_B/vo and metadata generated.\n"
     ]
    },
    {
     "name": "stderr",
     "output_type": "stream",
     "text": []
    },
    {
     "name": "stdout",
     "output_type": "stream",
     "text": [
      "2023-06-23 18:07:55.784 [ INFO] Asynchronous mode set\n",
      "2023-06-23 18:07:55.785 [ INFO] Authenticating user otimmerman for service https://my.cmems-du.eu/motu-web/Motu\n",
      "2023-06-23 18:07:56.487 [ INFO] Requesting file to download (this can take a while)...\n",
      "2023-06-23 18:08:01.913 [ INFO] Authenticating user otimmerman for service https://my.cmems-du.eu/motu-web/Motu\n",
      "2023-06-23 18:08:08.063 [ INFO] The product is ready for download\n",
      "2023-06-23 18:08:08.063 [ INFO] Downloading file (this can take a while)...\n",
      "2023-06-23 18:08:08.214 [ INFO] File type: application/x-netcdf\n",
      "2023-06-23 18:08:08.214 [ INFO] File size: 128.1 kB (128104 B)\n",
      "2023-06-23 18:08:08.214 [ INFO] Downloading file /lustre_scratch/orlando-code/datasets/global_ocean_reanalysis/monthly_means/Great_Barrier_Reef_B/vo/VARS_vo_DATES_2012-12-31_2013-12-31_LONS_144_149_LATS_-16_-23_DEPTHS_0-3_1.nc\n",
      "2023-06-23 18:08:08.275 [ INFO] - 128.1 kB (51.2%)\n",
      "2023-06-23 18:08:08.305 [ INFO] - 128.1 kB (100.0%)\n",
      "2023-06-23 18:08:08.305 [ INFO] Processing  time : 0:00:12.429685\n",
      "2023-06-23 18:08:08.305 [ INFO] Downloading time : 0:00:00.090907\n",
      "2023-06-23 18:08:08.305 [ INFO] Total time       : 0:00:12.520592\n",
      "2023-06-23 18:08:08.305 [ INFO] Download rate    : 529.1 kB/s\n",
      "2023-06-23 18:08:08.307 [ INFO] Done\n",
      "\n",
      "Dictionary saved as json file at /lustre_scratch/orlando-code/datasets/global_ocean_reanalysis/monthly_means/Great_Barrier_Reef_B/vo/VARS_vo_DATES_2012-12-31_2013-12-31_LONS_144_149_LATS_-16_-23_DEPTHS_0-3_1.json\n",
      "VARS_vo_DATES_2012-12-31_2013-12-31_LONS_144_149_LATS_-16_-23_DEPTHS_0-3_1 written to /lustre_scratch/orlando-code/datasets/global_ocean_reanalysis/monthly_means/Great_Barrier_Reef_B/vo and metadata generated.\n"
     ]
    },
    {
     "name": "stderr",
     "output_type": "stream",
     "text": []
    },
    {
     "name": "stdout",
     "output_type": "stream",
     "text": [
      "2023-06-23 18:08:09.926 [ INFO] Asynchronous mode set\n",
      "2023-06-23 18:08:09.926 [ INFO] Authenticating user otimmerman for service https://my.cmems-du.eu/motu-web/Motu\n",
      "2023-06-23 18:08:12.300 [ INFO] Requesting file to download (this can take a while)...\n",
      "2023-06-23 18:08:17.753 [ INFO] Authenticating user otimmerman for service https://my.cmems-du.eu/motu-web/Motu\n",
      "2023-06-23 18:08:24.660 [ INFO] The product is ready for download\n",
      "2023-06-23 18:08:24.660 [ INFO] Downloading file (this can take a while)...\n",
      "2023-06-23 18:08:24.842 [ INFO] File type: application/x-netcdf\n",
      "2023-06-23 18:08:24.842 [ INFO] File size: 128.1 kB (128104 B)\n",
      "2023-06-23 18:08:24.842 [ INFO] Downloading file /lustre_scratch/orlando-code/datasets/global_ocean_reanalysis/monthly_means/Great_Barrier_Reef_B/vo/VARS_vo_DATES_2013-12-31_2014-12-31_LONS_144_149_LATS_-16_-23_DEPTHS_0-3_1.nc\n",
      "2023-06-23 18:08:24.871 [ INFO] - 128.1 kB (51.2%)\n",
      "2023-06-23 18:08:24.900 [ INFO] - 128.1 kB (100.0%)\n",
      "2023-06-23 18:08:24.900 [ INFO] Processing  time : 0:00:14.916654\n",
      "2023-06-23 18:08:24.901 [ INFO] Downloading time : 0:00:00.058431\n",
      "2023-06-23 18:08:24.901 [ INFO] Total time       : 0:00:14.975085\n",
      "2023-06-23 18:08:24.901 [ INFO] Download rate    : 533.1 kB/s\n",
      "2023-06-23 18:08:24.903 [ INFO] Done\n",
      "\n",
      "Dictionary saved as json file at /lustre_scratch/orlando-code/datasets/global_ocean_reanalysis/monthly_means/Great_Barrier_Reef_B/vo/VARS_vo_DATES_2013-12-31_2014-12-31_LONS_144_149_LATS_-16_-23_DEPTHS_0-3_1.json\n",
      "VARS_vo_DATES_2013-12-31_2014-12-31_LONS_144_149_LATS_-16_-23_DEPTHS_0-3_1 written to /lustre_scratch/orlando-code/datasets/global_ocean_reanalysis/monthly_means/Great_Barrier_Reef_B/vo and metadata generated.\n"
     ]
    },
    {
     "name": "stderr",
     "output_type": "stream",
     "text": []
    },
    {
     "name": "stdout",
     "output_type": "stream",
     "text": [
      "2023-06-23 18:08:26.574 [ INFO] Asynchronous mode set\n",
      "2023-06-23 18:08:26.574 [ INFO] Authenticating user otimmerman for service https://my.cmems-du.eu/motu-web/Motu\n",
      "2023-06-23 18:08:27.284 [ INFO] Requesting file to download (this can take a while)...\n",
      "2023-06-23 18:08:32.700 [ INFO] Authenticating user otimmerman for service https://my.cmems-du.eu/motu-web/Motu\n",
      "2023-06-23 18:08:38.814 [ INFO] The product is ready for download\n",
      "2023-06-23 18:08:38.814 [ INFO] Downloading file (this can take a while)...\n",
      "2023-06-23 18:08:38.966 [ INFO] File type: application/x-netcdf\n",
      "2023-06-23 18:08:38.966 [ INFO] File size: 128.1 kB (128104 B)\n",
      "2023-06-23 18:08:38.966 [ INFO] Downloading file /lustre_scratch/orlando-code/datasets/global_ocean_reanalysis/monthly_means/Great_Barrier_Reef_B/vo/VARS_vo_DATES_2014-12-31_2015-12-31_LONS_144_149_LATS_-16_-23_DEPTHS_0-3_1.nc\n",
      "2023-06-23 18:08:39.024 [ INFO] - 128.1 kB (51.2%)\n",
      "2023-06-23 18:08:39.055 [ INFO] - 128.1 kB (100.0%)\n",
      "2023-06-23 18:08:39.055 [ INFO] Processing  time : 0:00:12.392897\n",
      "2023-06-23 18:08:39.055 [ INFO] Downloading time : 0:00:00.088684\n",
      "2023-06-23 18:08:39.055 [ INFO] Total time       : 0:00:12.481581\n",
      "2023-06-23 18:08:39.055 [ INFO] Download rate    : 532.8 kB/s\n",
      "2023-06-23 18:08:39.058 [ INFO] Done\n",
      "\n",
      "Dictionary saved as json file at /lustre_scratch/orlando-code/datasets/global_ocean_reanalysis/monthly_means/Great_Barrier_Reef_B/vo/VARS_vo_DATES_2014-12-31_2015-12-31_LONS_144_149_LATS_-16_-23_DEPTHS_0-3_1.json\n",
      "VARS_vo_DATES_2014-12-31_2015-12-31_LONS_144_149_LATS_-16_-23_DEPTHS_0-3_1 written to /lustre_scratch/orlando-code/datasets/global_ocean_reanalysis/monthly_means/Great_Barrier_Reef_B/vo and metadata generated.\n"
     ]
    },
    {
     "name": "stderr",
     "output_type": "stream",
     "text": []
    },
    {
     "name": "stdout",
     "output_type": "stream",
     "text": [
      "2023-06-23 18:08:40.716 [ INFO] Asynchronous mode set\n",
      "2023-06-23 18:08:40.717 [ INFO] Authenticating user otimmerman for service https://my.cmems-du.eu/motu-web/Motu\n",
      "2023-06-23 18:08:41.424 [ INFO] Requesting file to download (this can take a while)...\n",
      "2023-06-23 18:08:46.842 [ INFO] Authenticating user otimmerman for service https://my.cmems-du.eu/motu-web/Motu\n",
      "2023-06-23 18:08:52.956 [ INFO] The product is ready for download\n",
      "2023-06-23 18:08:52.956 [ INFO] Downloading file (this can take a while)...\n",
      "2023-06-23 18:08:53.109 [ INFO] File type: application/x-netcdf\n",
      "2023-06-23 18:08:53.109 [ INFO] File size: 128.1 kB (128104 B)\n",
      "2023-06-23 18:08:53.109 [ INFO] Downloading file /lustre_scratch/orlando-code/datasets/global_ocean_reanalysis/monthly_means/Great_Barrier_Reef_B/vo/VARS_vo_DATES_2015-12-31_2016-12-31_LONS_144_149_LATS_-16_-23_DEPTHS_0-3_1.nc\n",
      "2023-06-23 18:08:53.168 [ INFO] - 128.1 kB (51.2%)\n",
      "2023-06-23 18:08:53.197 [ INFO] - 128.1 kB (100.0%)\n",
      "2023-06-23 18:08:53.197 [ INFO] Processing  time : 0:00:12.393159\n",
      "2023-06-23 18:08:53.197 [ INFO] Downloading time : 0:00:00.087742\n",
      "2023-06-23 18:08:53.197 [ INFO] Total time       : 0:00:12.480901\n",
      "2023-06-23 18:08:53.197 [ INFO] Download rate    : 531.2 kB/s\n",
      "2023-06-23 18:08:53.201 [ INFO] Done\n",
      "\n",
      "Dictionary saved as json file at /lustre_scratch/orlando-code/datasets/global_ocean_reanalysis/monthly_means/Great_Barrier_Reef_B/vo/VARS_vo_DATES_2015-12-31_2016-12-31_LONS_144_149_LATS_-16_-23_DEPTHS_0-3_1.json\n",
      "VARS_vo_DATES_2015-12-31_2016-12-31_LONS_144_149_LATS_-16_-23_DEPTHS_0-3_1 written to /lustre_scratch/orlando-code/datasets/global_ocean_reanalysis/monthly_means/Great_Barrier_Reef_B/vo and metadata generated.\n"
     ]
    },
    {
     "name": "stderr",
     "output_type": "stream",
     "text": []
    },
    {
     "name": "stdout",
     "output_type": "stream",
     "text": [
      "2023-06-23 18:08:54.813 [ INFO] Asynchronous mode set\n",
      "2023-06-23 18:08:54.813 [ INFO] Authenticating user otimmerman for service https://my.cmems-du.eu/motu-web/Motu\n",
      "2023-06-23 18:08:57.328 [ INFO] Requesting file to download (this can take a while)...\n",
      "2023-06-23 18:09:02.993 [ INFO] Authenticating user otimmerman for service https://my.cmems-du.eu/motu-web/Motu\n",
      "2023-06-23 18:09:10.717 [ INFO] The product is ready for download\n",
      "2023-06-23 18:09:10.717 [ INFO] Downloading file (this can take a while)...\n",
      "2023-06-23 18:09:10.870 [ INFO] File type: application/x-netcdf\n",
      "2023-06-23 18:09:10.870 [ INFO] File size: 128.1 kB (128104 B)\n",
      "2023-06-23 18:09:10.871 [ INFO] Downloading file /lustre_scratch/orlando-code/datasets/global_ocean_reanalysis/monthly_means/Great_Barrier_Reef_B/vo/VARS_vo_DATES_2016-12-31_2017-12-31_LONS_144_149_LATS_-16_-23_DEPTHS_0-3_1.nc\n",
      "2023-06-23 18:09:10.929 [ INFO] - 128.1 kB (51.2%)\n",
      "2023-06-23 18:09:10.959 [ INFO] - 128.1 kB (100.0%)\n",
      "2023-06-23 18:09:10.959 [ INFO] Processing  time : 0:00:16.058409\n",
      "2023-06-23 18:09:10.959 [ INFO] Downloading time : 0:00:00.088195\n",
      "2023-06-23 18:09:10.959 [ INFO] Total time       : 0:00:16.146604\n",
      "2023-06-23 18:09:10.959 [ INFO] Download rate    : 531.0 kB/s\n",
      "2023-06-23 18:09:10.961 [ INFO] Done\n",
      "\n",
      "Dictionary saved as json file at /lustre_scratch/orlando-code/datasets/global_ocean_reanalysis/monthly_means/Great_Barrier_Reef_B/vo/VARS_vo_DATES_2016-12-31_2017-12-31_LONS_144_149_LATS_-16_-23_DEPTHS_0-3_1.json\n",
      "VARS_vo_DATES_2016-12-31_2017-12-31_LONS_144_149_LATS_-16_-23_DEPTHS_0-3_1 written to /lustre_scratch/orlando-code/datasets/global_ocean_reanalysis/monthly_means/Great_Barrier_Reef_B/vo and metadata generated.\n"
     ]
    },
    {
     "name": "stderr",
     "output_type": "stream",
     "text": []
    },
    {
     "name": "stdout",
     "output_type": "stream",
     "text": [
      "2023-06-23 18:09:12.602 [ INFO] Asynchronous mode set\n",
      "2023-06-23 18:09:12.602 [ INFO] Authenticating user otimmerman for service https://my.cmems-du.eu/motu-web/Motu\n",
      "2023-06-23 18:09:13.308 [ INFO] Requesting file to download (this can take a while)...\n",
      "2023-06-23 18:09:19.332 [ INFO] Authenticating user otimmerman for service https://my.cmems-du.eu/motu-web/Motu\n",
      "2023-06-23 18:09:25.715 [ INFO] The product is ready for download\n",
      "2023-06-23 18:09:25.715 [ INFO] Downloading file (this can take a while)...\n",
      "2023-06-23 18:09:25.903 [ INFO] File type: application/x-netcdf\n",
      "2023-06-23 18:09:25.903 [ INFO] File size: 128.1 kB (128104 B)\n",
      "2023-06-23 18:09:25.903 [ INFO] Downloading file /lustre_scratch/orlando-code/datasets/global_ocean_reanalysis/monthly_means/Great_Barrier_Reef_B/vo/VARS_vo_DATES_2017-12-31_2018-12-31_LONS_144_149_LATS_-16_-23_DEPTHS_0-3_1.nc\n",
      "2023-06-23 18:09:25.935 [ INFO] - 128.1 kB (51.2%)\n",
      "2023-06-23 18:09:25.966 [ INFO] - 128.1 kB (100.0%)\n",
      "2023-06-23 18:09:25.966 [ INFO] Processing  time : 0:00:13.301908\n",
      "2023-06-23 18:09:25.966 [ INFO] Downloading time : 0:00:00.062284\n",
      "2023-06-23 18:09:25.966 [ INFO] Total time       : 0:00:13.364192\n",
      "2023-06-23 18:09:25.966 [ INFO] Download rate    : 510.7 kB/s\n",
      "2023-06-23 18:09:25.968 [ INFO] Done\n",
      "\n",
      "Dictionary saved as json file at /lustre_scratch/orlando-code/datasets/global_ocean_reanalysis/monthly_means/Great_Barrier_Reef_B/vo/VARS_vo_DATES_2017-12-31_2018-12-31_LONS_144_149_LATS_-16_-23_DEPTHS_0-3_1.json\n",
      "VARS_vo_DATES_2017-12-31_2018-12-31_LONS_144_149_LATS_-16_-23_DEPTHS_0-3_1 written to /lustre_scratch/orlando-code/datasets/global_ocean_reanalysis/monthly_means/Great_Barrier_Reef_B/vo and metadata generated.\n"
     ]
    },
    {
     "name": "stderr",
     "output_type": "stream",
     "text": []
    },
    {
     "name": "stdout",
     "output_type": "stream",
     "text": [
      "2023-06-23 18:09:27.589 [ INFO] Asynchronous mode set\n",
      "2023-06-23 18:09:27.590 [ INFO] Authenticating user otimmerman for service https://my.cmems-du.eu/motu-web/Motu\n",
      "2023-06-23 18:09:28.297 [ INFO] Requesting file to download (this can take a while)...\n",
      "2023-06-23 18:09:33.715 [ INFO] Authenticating user otimmerman for service https://my.cmems-du.eu/motu-web/Motu\n",
      "2023-06-23 18:09:40.431 [ INFO] The product is ready for download\n",
      "2023-06-23 18:09:40.431 [ INFO] Downloading file (this can take a while)...\n",
      "2023-06-23 18:09:40.612 [ INFO] File type: application/x-netcdf\n",
      "2023-06-23 18:09:40.612 [ INFO] File size: 128.1 kB (128104 B)\n",
      "2023-06-23 18:09:40.612 [ INFO] Downloading file /lustre_scratch/orlando-code/datasets/global_ocean_reanalysis/monthly_means/Great_Barrier_Reef_B/vo/VARS_vo_DATES_2018-12-31_2019-12-31_LONS_144_149_LATS_-16_-23_DEPTHS_0-3_1.nc\n",
      "2023-06-23 18:09:40.643 [ INFO] - 128.1 kB (51.2%)\n",
      "2023-06-23 18:09:40.672 [ INFO] - 128.1 kB (100.0%)\n",
      "2023-06-23 18:09:40.672 [ INFO] Processing  time : 0:00:13.023328\n",
      "2023-06-23 18:09:40.672 [ INFO] Downloading time : 0:00:00.059749\n",
      "2023-06-23 18:09:40.672 [ INFO] Total time       : 0:00:13.083077\n",
      "2023-06-23 18:09:40.672 [ INFO] Download rate    : 532.3 kB/s\n",
      "2023-06-23 18:09:40.674 [ INFO] Done\n",
      "\n",
      "Dictionary saved as json file at /lustre_scratch/orlando-code/datasets/global_ocean_reanalysis/monthly_means/Great_Barrier_Reef_B/vo/VARS_vo_DATES_2018-12-31_2019-12-31_LONS_144_149_LATS_-16_-23_DEPTHS_0-3_1.json\n",
      "VARS_vo_DATES_2018-12-31_2019-12-31_LONS_144_149_LATS_-16_-23_DEPTHS_0-3_1 written to /lustre_scratch/orlando-code/datasets/global_ocean_reanalysis/monthly_means/Great_Barrier_Reef_B/vo and metadata generated.\n",
      "Merging .nc files into /lustre_scratch/orlando-code/datasets/global_ocean_reanalysis/monthly_means/Great_Barrier_Reef_B/merged_vars/VARS_vo_DATES_1992-12-31_2020-12-16_LONS_144_149_LATS_-16_-23_DEPTHS_0-3_1.nc\n"
     ]
    },
    {
     "name": "stderr",
     "output_type": "stream",
     "text": [
      " variable loop: 100%|██████████| 7/7 [55:19<00:00, 474.18s/it]"
     ]
    },
    {
     "name": "stdout",
     "output_type": "stream",
     "text": [
      "Dictionary saved as json file at /lustre_scratch/orlando-code/datasets/global_ocean_reanalysis/monthly_means/Great_Barrier_Reef_B/merged_vars/VARS_vo_DATES_1992-12-31_2020-12-16_LONS_144_149_LATS_-16_-23_DEPTHS_0-3_1.json\n",
      "Writing cmems_gopr_monthly_B to file at /lustre_scratch/orlando-code/datasets/global_ocean_reanalysis/monthly_means/Great_Barrier_Reef_B/cmems_gopr_monthly_B.nc\n"
     ]
    },
    {
     "name": "stderr",
     "output_type": "stream",
     "text": [
      "\n"
     ]
    },
    {
     "name": "stdout",
     "output_type": "stream",
     "text": [
      "Writing complete.\n",
      "Dictionary saved as json file at /lustre_scratch/orlando-code/datasets/global_ocean_reanalysis/monthly_means/Great_Barrier_Reef_B/cmems_gopr_monthly_B.json\n"
     ]
    }
   ],
   "source": [
    "# download monthly data. Can be adjusted to specify subset of variables, dates, and depths to download.\n",
    "# Values generated here are those reported in the accompanying paper.\n",
    "xa_cmems_monthly, cmems_monthly_path = climate_data.download_reanalysis(download_dir=directories.get_monthly_cmems_dir(),\n",
    "    region = reef_areas.get_short_filename(area_name),\n",
    "    final_filename = f\"cmems_gopr_monthly_{area_name}\",\n",
    "    lat_lims = reef_areas.get_lat_lon_limits(area_name)[0], lon_lims = reef_areas.get_lat_lon_limits(area_name)[1], \n",
    "    product_id = \"cmems_mod_glo_phy_my_0.083_P1M-m\")   \n"
   ]
  },
  {
   "cell_type": "code",
   "execution_count": null,
   "metadata": {},
   "outputs": [],
   "source": [
    "spatial_plots.plot_spatial(xa.open_dataset(directories.get_monthly_cmems_dir() / \"Great_Barrier_Reef_C/cmems_gopr_monthly_B.nc\")[\"bottomT\"].isel(time=0))"
   ]
  },
  {
   "cell_type": "code",
   "execution_count": null,
   "metadata": {},
   "outputs": [],
   "source": [
    "# download daily data\n",
    "xa_cmems_daily, cmems_daily_path = climate_data.download_reanalysis(download_dir=directories.get_daily_cmems_dir(), \n",
    "    final_filename = \"cmems_gopr_daily.nc\",\n",
    "    lat_lims = reef_areas.get_lat_lon_limits(area_name)[0], lon_lims = reef_areas.get_lat_lon_limits(area_name)[1], \n",
    "    product_id = \"cmems_mod_glo_phy_my_0.083_P1D-m\")   "
   ]
  },
  {
   "attachments": {},
   "cell_type": "markdown",
   "metadata": {},
   "source": [
    "### Spatially pad the data\n",
    "\n",
    "TODO: add visual explanation"
   ]
  },
  {
   "cell_type": "code",
   "execution_count": null,
   "metadata": {},
   "outputs": [],
   "source": [
    "def spatially_buffer_timeseries(\n",
    "    xa_ds: xa.Dataset,\n",
    "    buffer_size: int = 3,\n",
    "    exclude_vars: list[str] = [\"spatial_ref\", \"coral_algae_1-12_degree\"],\n",
    ") -> xa.Dataset:\n",
    "    \"\"\"Applies a spatial buffer to each data variable in the xarray dataset.\n",
    "\n",
    "    Parameters\n",
    "        xa_ds (xarray.Dataset): Input xarray dataset.\n",
    "        buffer_size (int): Buffer size in grid cells.\n",
    "        exclude_vars (list[str]): List of variable names to exclude from buffering.\n",
    "\n",
    "    Returns:\n",
    "        xarray.Dataset: Xarray dataset with buffered data variables.\n",
    "    \"\"\"\n",
    "    filtered_vars = [var for var in xa_ds.data_vars if var not in exclude_vars]\n",
    "\n",
    "    buffered_ds = xa.Dataset()\n",
    "    for data_var in tqdm(\n",
    "        filtered_vars, desc=f\"Buffering variables by {buffer_size} pixel(s)\"\n",
    "    ):\n",
    "        buffered = xa.apply_ufunc(\n",
    "            spatial_data.buffer_nans,\n",
    "            xa_ds[data_var],\n",
    "            input_core_dims=[[]],\n",
    "            output_core_dims=[[]],\n",
    "            kwargs={\"size\": buffer_size},\n",
    "            dask=\"parallelized\",\n",
    "        )\n",
    "        buffered_ds[data_var] = buffered\n",
    "\n",
    "    return buffered_ds\n",
    "\n",
    "\n",
    "def spatially_buffer_nc_file(nc_path: Path | str, buffer_size: int = 3):\n",
    "    # TODO: specify distance buffer\n",
    "    nc_path = Path(nc_path)\n",
    "    buffered_name = nc_path.stem + f\"_buffered_{buffer_size}_pixel\"\n",
    "    buffered_path = (nc_path.parent / buffered_name).with_suffix(\".nc\")\n",
    "\n",
    "    # if buffered file doesn't already exist\n",
    "    if not buffered_path.is_file():\n",
    "        nc_file = xa.open_dataset(nc_path)\n",
    "        buffered_ds = spatially_buffer_timeseries(\n",
    "            nc_file, buffer_size=buffer_size\n",
    "        )\n",
    "        buffered_ds.to_netcdf(buffered_path)\n",
    "    else:\n",
    "        buffered_ds = xa.open_dataset(buffered_path)\n",
    "        print(\n",
    "            f\"Area buffered by {buffer_size} pixel(s) already exists at {buffered_path}.\"\n",
    "        )\n",
    "\n",
    "    return buffered_ds, buffered_path"
   ]
  },
  {
   "cell_type": "code",
   "execution_count": null,
   "metadata": {},
   "outputs": [],
   "source": [
    "# xa_cmems_monthly_buffered, _ = spatial_data.spatially_buffer_nc_file(cmems_monthly_path, buffer_size=5)\n",
    "xa_cmems_daily_buffered, _ = spatially_buffer_nc_file(cmems_daily_path, buffer_size=5)\n",
    "# TODO: this taking forever (seemingly getting stuck after second variable)"
   ]
  },
  {
   "cell_type": "code",
   "execution_count": null,
   "metadata": {},
   "outputs": [],
   "source": [
    "spatial_plots.plot_DEM(xa.open_dataset(directories.get_monthly_cmems_dir() / \"cmems_gopr_monthly_buffered_5_pixel\")[\"mlotst\"].isel(time=0), \"\")\n",
    "# spatial_plots.plot_DEM(buffered[\"mlotst\"].isel(time=0), \"\")"
   ]
  },
  {
   "attachments": {},
   "cell_type": "markdown",
   "metadata": {},
   "source": [
    "## Load ERA5 data"
   ]
  },
  {
   "cell_type": "code",
   "execution_count": null,
   "metadata": {},
   "outputs": [],
   "source": [
    "climate_data.generate_era5_data(\n",
    "    lat_lims=reef_areas.get_lat_lon_limits(area_name)[0], lon_lims=reef_areas.get_lat_lon_limits(area_name)[1])"
   ]
  },
  {
   "attachments": {},
   "cell_type": "markdown",
   "metadata": {},
   "source": [
    "### Congratulations!\n",
    "\n"
   ]
  }
 ],
 "metadata": {
  "kernelspec": {
   "display_name": "CORALSHIFT",
   "language": "python",
   "name": "coralshift"
  },
  "language_info": {
   "codemirror_mode": {
    "name": "ipython",
    "version": 3
   },
   "file_extension": ".py",
   "mimetype": "text/x-python",
   "name": "python",
   "nbconvert_exporter": "python",
   "pygments_lexer": "ipython3",
   "version": "3.10.11"
  },
  "orig_nbformat": 4
 },
 "nbformat": 4,
 "nbformat_minor": 2
}
