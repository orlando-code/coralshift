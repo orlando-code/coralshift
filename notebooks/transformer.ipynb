{
 "cells": [
  {
   "attachments": {},
   "cell_type": "markdown",
   "metadata": {},
   "source": [
    "Source: https://keras.io/examples/timeseries/timeseries_transformer_classification/"
   ]
  },
  {
   "cell_type": "code",
   "execution_count": 1,
   "metadata": {},
   "outputs": [],
   "source": [
    "%load_ext autoreload\n",
    "%autoreload 2\n",
    "\n",
    "import sys\n",
    "import os\n",
    "sys.path.append(\"../\")\n",
    "\n",
    "location = \"remote\"\n",
    "if location == \"remote\":\n",
    "    # TODO: hacky, shouldn't be necessary\n",
    "    os.environ[\"WANDB_NOTEBOOK_NAME\"] = \"lustre_scratch/coralshift/notebooks/transformer.ipynb\"\n",
    "    os.chdir(\"/lustre_scratch/orlando-code/coralshift/\")\n"
   ]
  },
  {
   "cell_type": "code",
   "execution_count": 59,
   "metadata": {},
   "outputs": [],
   "source": [
    "from tensorflow import keras\n",
    "from tensorflow.keras import layers\n",
    "import tensorflow as tf\n",
    "\n",
    "from sklearn.utils import class_weight\n",
    "import wandb\n",
    "from wandb.keras import WandbMetricsLogger\n",
    "import wandb\n",
    "from wandb.keras import WandbCallback\n",
    "\n",
    "\n",
    "\n",
    "import numpy as np\n",
    "import matplotlib.pyplot as plt\n",
    "import pandas as pd\n",
    "import xarray as xa\n",
    "from pathlib import Path\n",
    "from coralshift.dataloading import bathymetry\n",
    "from coralshift.machine_learning import baselines\n",
    "from coralshift.processing import spatial_data\n",
    "from coralshift.utils import utils\n",
    "from coralshift.plotting import model_results\n",
    "from tqdm import tqdm\n",
    "\n",
    "from coralshift.utils import file_ops, directories"
   ]
  },
  {
   "cell_type": "code",
   "execution_count": 4,
   "metadata": {},
   "outputs": [
    {
     "name": "stderr",
     "output_type": "stream",
     "text": [
      "2023-06-29 18:12:04.950081: I tensorflow/core/platform/cpu_feature_guard.cc:193] This TensorFlow binary is optimized with oneAPI Deep Neural Network Library (oneDNN) to use the following CPU instructions in performance-critical operations:  SSE4.1 SSE4.2 AVX AVX2 FMA\n",
      "To enable them in other operations, rebuild TensorFlow with the appropriate compiler flags.\n",
      "2023-06-29 18:12:06.335444: I tensorflow/core/common_runtime/gpu/gpu_device.cc:1613] Created device /job:localhost/replica:0/task:0/device:GPU:0 with 28946 MB memory:  -> device: 1, name: Tesla V100-SXM2-32GB-LS, pci bus id: 0000:85:00.0, compute capability: 7.0\n"
     ]
    },
    {
     "name": "stdout",
     "output_type": "stream",
     "text": [
      "2 Physical GPUs, 1 Logical GPUs\n",
      "[PhysicalDevice(name='/physical_device:GPU:1', device_type='GPU')]\n",
      "Thu Jun 29 18:12:06 2023       \n",
      "+-----------------------------------------------------------------------------+\n",
      "| NVIDIA-SMI 418.181.07   Driver Version: 418.181.07   CUDA Version: 11.3     |\n",
      "|-------------------------------+----------------------+----------------------+\n",
      "| GPU  Name        Persistence-M| Bus-Id        Disp.A | Volatile Uncorr. ECC |\n",
      "| Fan  Temp  Perf  Pwr:Usage/Cap|         Memory-Usage | GPU-Util  Compute M. |\n",
      "|===============================+======================+======================|\n",
      "|   0  Tesla V100-SXM2...  On   | 00000000:0A:00.0 Off |                    0 |\n",
      "| N/A   30C    P0    41W / 163W |     11MiB / 32480MiB |      0%      Default |\n",
      "+-------------------------------+----------------------+----------------------+\n",
      "|   1  Tesla V100-SXM2...  On   | 00000000:85:00.0 Off |                    0 |\n",
      "| N/A   32C    P0    47W / 163W |   2483MiB / 32480MiB |      0%      Default |\n",
      "+-------------------------------+----------------------+----------------------+\n",
      "                                                                               \n",
      "+-----------------------------------------------------------------------------+\n",
      "| Processes:                                                       GPU Memory |\n",
      "|  GPU       PID   Type   Process name                             Usage      |\n",
      "|=============================================================================|\n",
      "+-----------------------------------------------------------------------------+\n"
     ]
    }
   ],
   "source": [
    "gpus = tf.config.experimental.list_physical_devices('GPU')\n",
    "if gpus:\n",
    "    try:\n",
    "        for gpu in gpus:\n",
    "            tf.config.experimental.set_memory_growth(gpu, True)\n",
    "            tf.config.experimental.set_visible_devices(gpus[1], 'GPU')\n",
    "        logical_gpus = tf.config.experimental.list_logical_devices('GPU')\n",
    "        print(len(gpus), \"Physical GPUs,\", len(logical_gpus), \"Logical GPUs\")\n",
    "        print(tf.config.experimental.get_visible_devices('GPU'))\n",
    "    except RuntimeError as e:\n",
    "        print(e)\n",
    "\n",
    "!nvidia-smi"
   ]
  },
  {
   "attachments": {},
   "cell_type": "markdown",
   "metadata": {},
   "source": [
    "# Toy data"
   ]
  },
  {
   "cell_type": "code",
   "execution_count": null,
   "metadata": {},
   "outputs": [],
   "source": [
    "cells = 1280\n",
    "seq_len = 1000\n",
    "num_fs = 15\n",
    "target_frac = 0.1\n",
    "\n",
    "# N.B. num_samples should eventually represent a single batch\n",
    "# Creating the features array (num_samples, sequence_length, number of features)\n",
    "features = np.random.random((cells, seq_len, num_fs)).astype(np.float32)\n",
    "\n",
    "# Creating the label array (weighted random 1s and 0s, same length as num_samples)\n",
    "labels = np.random.choice((2), size=(cells,), p=[1-target_frac,target_frac])\n",
    "\n",
    "class_weights = class_weight.compute_class_weight('balanced', classes=np.unique(labels), y=labels)\n",
    "\n",
    "# Verifying the shape of the arrays\n",
    "print(\"Features shape:\", features.shape)\n",
    "print(\"Label shape:\", labels.shape)\n",
    "print(\"Class weights:\", class_weights)\n",
    "\n",
    "# send numpy features/label array to tf.Data.Dataset\n",
    "train_dataset = tf.data.Dataset.from_tensor_slices((features, labels))\n",
    "\n",
    "BATCH_SIZE = 32\n",
    "SHUFFLE_BUFFER_SIZE = 10\n",
    "\n",
    "train_dataset = train_dataset.shuffle(SHUFFLE_BUFFER_SIZE).batch(BATCH_SIZE)\n",
    "print(\"Number of batches:\", len(train_dataset))"
   ]
  },
  {
   "attachments": {},
   "cell_type": "markdown",
   "metadata": {},
   "source": [
    "# Real data"
   ]
  },
  {
   "cell_type": "code",
   "execution_count": null,
   "metadata": {},
   "outputs": [],
   "source": [
    "# TODO: replace with all variables\n",
    "dir = directories.get_datasets_dir() / \"test\"\n",
    "Xs, ys = np.load(dir / \"Xs_lstm.npy\"), np.load(dir / \"ys_lstm.npy\")\n",
    "\n",
    "Xs = np.moveaxis(Xs,1,2)\n",
    "\n",
    "print(\"Xs shape: \", Xs.shape)\n",
    "print(\"ys shape: \", ys.shape)\n",
    "\n",
    "limit_to = 20000\n",
    "# X_train = Xs[:1000, :, :20]\n",
    "# y_train = ys[:1000]\n",
    "X_train = Xs[:limit_to]\n",
    "y_train = ys[:limit_to]\n",
    "\n",
    "X_test = Xs\n",
    "y_test = ys\n",
    "\n"
   ]
  },
  {
   "attachments": {},
   "cell_type": "markdown",
   "metadata": {},
   "source": [
    "# Better real data"
   ]
  },
  {
   "cell_type": "code",
   "execution_count": 5,
   "metadata": {},
   "outputs": [],
   "source": [
    "def remove_empty_variables(dataset):\n",
    "    # Create a mask indicating variables with all zeros, all NaNs, or a mix of zeros and NaNs\n",
    "    mask = ((dataset == 0) | np.isnan(dataset)).all(dim=['latitude', 'longitude', 'time'])\n",
    "    \n",
    "    # Filter out variables based on the mask\n",
    "    variables = np.array(dataset.data_vars)[~mask.to_array().values]\n",
    "    dropped_variables = list(set(dataset.data_vars) - set(variables))\n",
    "    print(f\"Variables: {dropped_variables} were removed from the dataset\")\n",
    "\n",
    "    filtered_dataset = dataset.drop_vars(names=dropped_variables)\n",
    "\n",
    "    return filtered_dataset, dropped_variables\n",
    "\n",
    "\n",
    "def convert_dataset_to_array(dataset):\n",
    "    # Convert the dataset to a NumPy array\n",
    "    array = dataset.to_array().values\n",
    "    \n",
    "    # Transpose the dimensions to match the desired shape (latitudes x longitudes x variable_num x time)\n",
    "    array = np.transpose(array, (1, 2, 0, 3))\n",
    "    \n",
    "    return array\n",
    "\n",
    "\n",
    "def process_xa_ds_ml_ready(\n",
    "    xa_ds: xa.Dataset,\n",
    "    feature_vars: list[str] = [\"vo\", \"so\", \"thetao\"],\n",
    "    gt_var: str = \"gt\",\n",
    "    normalise: bool = True,\n",
    "    onehot: bool = True,\n",
    "    conv: bool = False):\n",
    "\n",
    "    # remove any variables which are entirely none/all zero (looking at you sea ice)\n",
    "    xa_ds, dropped = remove_empty_variables(xa_ds)\n",
    "\n",
    "    # features array (discarding nans)\n",
    "    X_array = xa_ds[[feature for feature in feature_vars if feature not in dropped]]\n",
    "    # gt array\n",
    "    y_array = xa_ds.isel(time=-1)[gt_var]\n",
    "\n",
    "    Xs = convert_dataset_to_array(X_array)\n",
    "    ys = y_array.values\n",
    "\n",
    "    # naive nan replacement\n",
    "    ys = spatial_data.naive_nan_replacement(ys)\n",
    "\n",
    "    if normalise:\n",
    "        Xs = spatial_data.normalise_3d_array(Xs)\n",
    "\n",
    "    if onehot:\n",
    "        Xs = spatial_data.encode_nans_one_hot(Xs)\n",
    "    Xs = spatial_data.naive_nan_replacement(Xs)\n",
    "    # fix axes order\n",
    "    Xs = np.moveaxis(Xs, [0, 1, 2, 3], [3, 0, 2, 1])\n",
    "\n",
    "    if not conv:\n",
    "        # if not conv (standard lstm), cast to column\n",
    "        Xs = spatial_data.spatial_array_to_column(Xs)\n",
    "        ys = spatial_data.spatial_array_to_column(ys)\n",
    "\n",
    "    return Xs, ys"
   ]
  },
  {
   "cell_type": "code",
   "execution_count": 68,
   "metadata": {},
   "outputs": [],
   "source": [
    "train_rows = pd.read_pickle(directories.get_datasets_dir() / \"monthly_0-037_arrays/spatially_combined/train.pkl\")\n",
    "test_rows = pd.read_pickle(directories.get_datasets_dir() / \"monthly_0-037_arrays/spatially_combined/test.pkl\")\n",
    "\n",
    "train_xa_pp = spatial_data.process_xa_d(train_rows.drop(columns=[\"onehotnan\"]).to_xarray().resample(time=\"1MS\").mean(dim=\"time\"))\n",
    "test_xa_pp = spatial_data.process_xa_d(test_rows.drop(columns=[\"onehotnan\"]).to_xarray().resample(time=\"1MS\").mean(dim=\"time\"))"
   ]
  },
  {
   "cell_type": "code",
   "execution_count": null,
   "metadata": {},
   "outputs": [],
   "source": [
    "feature_vars = ['bathymetry','ssr','mlotst','bottomT','uo','so','zos','thetao','vo','gradient',]\n",
    "X_train, y_train = process_xa_ds_ml_ready(train_xa_pp, feature_vars=feature_vars, gt_var=\"gt\")\n",
    "X_test, y_test = process_xa_ds_ml_ready(test_xa_pp, feature_vars=feature_vars, gt_var=\"gt\")\n",
    "\n",
    "print(\"X_train.shape\", X_train.shape)\n",
    "print(\"y_train.shape\", y_train.shape)\n",
    "print(\"X_test.shape\", X_test.shape)\n",
    "print(\"y_test.shape\", y_test.shape)"
   ]
  },
  {
   "cell_type": "code",
   "execution_count": null,
   "metadata": {},
   "outputs": [],
   "source": [
    "len(train_rows[train_rows[\"bathymetry\"] == 0])"
   ]
  },
  {
   "cell_type": "code",
   "execution_count": null,
   "metadata": {},
   "outputs": [],
   "source": [
    "len(train_rows[train_rows[\"bathymetry\"] == 0])/len(train_rows)"
   ]
  },
  {
   "cell_type": "code",
   "execution_count": null,
   "metadata": {},
   "outputs": [],
   "source": [
    "lim_test_rows.columns"
   ]
  },
  {
   "cell_type": "code",
   "execution_count": null,
   "metadata": {},
   "outputs": [],
   "source": [
    "train_xa_pp"
   ]
  },
  {
   "cell_type": "code",
   "execution_count": 7,
   "metadata": {},
   "outputs": [],
   "source": [
    "time_resampled_train_rows = train_xa_pp.to_dataframe()\n",
    "time_resampled_test_rows = test_xa_pp.to_dataframe()"
   ]
  },
  {
   "cell_type": "code",
   "execution_count": 8,
   "metadata": {},
   "outputs": [],
   "source": [
    "# drop rows which are entirely nans, onehot encode remaining nans\n",
    "lim_train_rows = baselines.process_df_for_ml(time_resampled_train_rows[time_resampled_train_rows[\"bathymetry\"] < 0], ignore_vars=[])\n",
    "lim_test_rows = baselines.process_df_for_ml(time_resampled_test_rows[time_resampled_test_rows[\"bathymetry\"] < 0], ignore_vars=[])"
   ]
  },
  {
   "cell_type": "code",
   "execution_count": 9,
   "metadata": {},
   "outputs": [],
   "source": [
    "def normalise_df(df: pd.DataFrame) -> pd.DataFrame:\n",
    "    min_val = df.min().min()\n",
    "    max_val = df.max().max()\n",
    "\n",
    "    # Apply min-max scaling while preserving zero values as zero\n",
    "    normalized_df = (df - min_val) / (max_val - min_val)\n",
    "    return normalized_df.replace(np.nan, 0)\n",
    "# normalise \n",
    "norm_lim_train_rows = normalise_df(lim_train_rows)\n",
    "norm_lim_test_rows = normalise_df(lim_test_rows)"
   ]
  },
  {
   "cell_type": "code",
   "execution_count": null,
   "metadata": {},
   "outputs": [],
   "source": [
    "norm_lim_test_rows"
   ]
  },
  {
   "cell_type": "code",
   "execution_count": 12,
   "metadata": {},
   "outputs": [],
   "source": [
    "def X_y_from_df(df: pd.DataFrame, \n",
    "    feature_cols: list[str] = ['bathymetry','ssr','mlotst','bottomT','uo','so','zos','thetao','vo','gradient',], \n",
    "    target_col: str = \"gt\") -> tuple[pd.DataFrame]:\n",
    "    if not feature_cols:\n",
    "        feature_cols = [feature for feature in df.columns if feature != target_col]\n",
    "    return df[feature_cols], df[target_col]\n",
    "\n",
    "def df_to_linear(df: pd.DataFrame) -> np.ndarray:\n",
    "    return df.stack().values.reshape(-1, len(df.index.levels[-1]), len(df.columns))\n",
    "\n",
    "def series_to_linear(series: pd.Series) -> np.ndarray:\n",
    "    return series.reset_index(drop=True).values.reshape(-1, len(series.index.levels[-1]))\n",
    "\n",
    "def linear_X_y_from_df(df: pd.DataFrame, feature_cols: list[str] = None, target_col: str = \"gt\") -> tuple[pd.DataFrame]:\n",
    "    X, y = X_y_from_df(df, feature_cols=feature_cols, target_col=target_col)\n",
    "    X_lin, y_lin = df_to_linear(X), series_to_linear(y)\n",
    "    return np.moveaxis(X_lin, [1,2], [2,1]), y_lin[:,0], y\n",
    "\n"
   ]
  },
  {
   "cell_type": "code",
   "execution_count": 76,
   "metadata": {},
   "outputs": [
    {
     "data": {
      "text/plain": [
       "0.033500075"
      ]
     },
     "execution_count": 76,
     "metadata": {},
     "output_type": "execute_result"
    }
   ],
   "source": [
    "np.nanmean(train_xa_pp[\"gt\"].isel(time=0).values)"
   ]
  },
  {
   "cell_type": "code",
   "execution_count": 82,
   "metadata": {},
   "outputs": [
    {
     "data": {
      "text/plain": [
       "0.03228427"
      ]
     },
     "execution_count": 82,
     "metadata": {},
     "output_type": "execute_result"
    }
   ],
   "source": [
    "np.nanmean(y_train_lim * 17)"
   ]
  },
  {
   "cell_type": "code",
   "execution_count": 87,
   "metadata": {},
   "outputs": [
    {
     "data": {
      "text/plain": [
       "1.0"
      ]
     },
     "execution_count": 87,
     "metadata": {},
     "output_type": "execute_result"
    }
   ],
   "source": [
    "np.max(X_train_lim)"
   ]
  },
  {
   "cell_type": "code",
   "execution_count": 85,
   "metadata": {},
   "outputs": [
    {
     "data": {
      "text/plain": [
       "array([0.00190371, 0.00190408, 0.00190466, ..., 0.00190531, 0.00190538,\n",
       "       0.00190545])"
      ]
     },
     "execution_count": 85,
     "metadata": {},
     "output_type": "execute_result"
    }
   ],
   "source": [
    "X_train_lim[:,0,0]"
   ]
  },
  {
   "cell_type": "code",
   "execution_count": null,
   "metadata": {},
   "outputs": [],
   "source": [
    "y_train_lim.reset_index(drop=True).values.reshape(-1, len(y_train_lim.index.levels[-1])).shape"
   ]
  },
  {
   "cell_type": "code",
   "execution_count": null,
   "metadata": {},
   "outputs": [],
   "source": [
    "y_train_lim[:,0].shape"
   ]
  },
  {
   "cell_type": "code",
   "execution_count": null,
   "metadata": {},
   "outputs": [],
   "source": [
    "len(norm_lim_test_rows)"
   ]
  },
  {
   "cell_type": "code",
   "execution_count": 14,
   "metadata": {},
   "outputs": [
    {
     "name": "stdout",
     "output_type": "stream",
     "text": [
      "X_train_lim.shape (13465, 11, 336)\n",
      "y_train_lim.shape (13465,)\n",
      "X_test_lim.shape (24973, 11, 336)\n",
      "y_test_lim.shape (24973,)\n"
     ]
    }
   ],
   "source": [
    "X_train_lim, y_train_lim, train_y_series = linear_X_y_from_df(norm_lim_train_rows.drop(columns=list(set([\"spatial_ref\"]).intersection(norm_lim_train_rows.columns))))\n",
    "X_test_lim, y_test_lim, test_y_series = linear_X_y_from_df(norm_lim_test_rows.drop(columns=list(set([\"spatial_ref\"]).intersection(norm_lim_test_rows.columns))))\n",
    "\n",
    "print(\"X_train_lim.shape\", X_train_lim.shape)\n",
    "print(\"y_train_lim.shape\", y_train_lim.shape)\n",
    "print(\"X_test_lim.shape\", X_test_lim.shape)\n",
    "print(\"y_test_lim.shape\", y_test_lim.shape)"
   ]
  },
  {
   "cell_type": "code",
   "execution_count": null,
   "metadata": {},
   "outputs": [],
   "source": [
    "np.nanmax(spatial_data.process_xa_d(y_series.to_xarray()).isel(time=0).values)"
   ]
  },
  {
   "cell_type": "code",
   "execution_count": 16,
   "metadata": {},
   "outputs": [
    {
     "data": {
      "text/plain": [
       "latitude    longitude   time      \n",
       "-18.000000  146.111111  1993-01-01    0.001899\n",
       "                        1993-02-01    0.001899\n",
       "                        1993-03-01    0.001899\n",
       "                        1993-04-01    0.001899\n",
       "                        1993-05-01    0.001899\n",
       "                                        ...   \n",
       "-10.037037  145.962963  2020-08-01    0.001899\n",
       "                        2020-09-01    0.001899\n",
       "                        2020-10-01    0.001899\n",
       "                        2020-11-01    0.001899\n",
       "                        2020-12-01    0.001899\n",
       "Name: gt, Length: 4524240, dtype: float32"
      ]
     },
     "execution_count": 16,
     "metadata": {},
     "output_type": "execute_result"
    }
   ],
   "source": [
    "train_y_series"
   ]
  },
  {
   "cell_type": "code",
   "execution_count": 20,
   "metadata": {},
   "outputs": [
    {
     "data": {
      "text/plain": [
       "latitude    longitude \n",
       "-18.000000  146.111111    0.638085\n",
       "            146.148148    0.638126\n",
       "            146.185185    0.638090\n",
       "            146.222222    0.638067\n",
       "            146.259259    0.638066\n",
       "                            ...   \n",
       "-10.037037  145.814815    0.638082\n",
       "            145.851852    0.638066\n",
       "            145.888889    0.638066\n",
       "            145.925926    0.638066\n",
       "            145.962963    0.638066\n",
       "Name: gt, Length: 13465, dtype: float32"
      ]
     },
     "execution_count": 20,
     "metadata": {},
     "output_type": "execute_result"
    }
   ],
   "source": [
    "out_df = train_y_series.reset_index(level=\"time\", drop=True)\n",
    "out_df.groupby([\"latitude\", \"longitude\"]).sum()"
   ]
  },
  {
   "cell_type": "code",
   "execution_count": 90,
   "metadata": {},
   "outputs": [],
   "source": [
    "out_df = test_y_series.reset_index(level=\"time\", drop=True)\n",
    "grouped_out = out_df.groupby([\"latitude\", \"longitude\"]).sum()"
   ]
  },
  {
   "cell_type": "code",
   "execution_count": 37,
   "metadata": {},
   "outputs": [
    {
     "data": {
      "text/plain": [
       "latitude    longitude \n",
       "-29.000000  153.481481    0.001861\n",
       "            153.481481    0.001861\n",
       "            153.481481    0.001861\n",
       "            153.481481    0.001861\n",
       "            153.481481    0.001861\n",
       "                            ...   \n",
       "-18.037037  154.000000    0.001861\n",
       "            154.000000    0.001861\n",
       "            154.000000    0.001861\n",
       "            154.000000    0.001861\n",
       "            154.000000    0.001861\n",
       "Name: gt, Length: 8390928, dtype: float32"
      ]
     },
     "execution_count": 37,
     "metadata": {},
     "output_type": "execute_result"
    }
   ],
   "source": [
    "out_df"
   ]
  },
  {
   "cell_type": "code",
   "execution_count": 25,
   "metadata": {},
   "outputs": [
    {
     "data": {
      "text/plain": [
       "(24973, 1)"
      ]
     },
     "execution_count": 25,
     "metadata": {},
     "output_type": "execute_result"
    }
   ],
   "source": [
    "prediction.s"
   ]
  },
  {
   "cell_type": "code",
   "execution_count": 39,
   "metadata": {},
   "outputs": [],
   "source": [
    "pred_df = pd.DataFrame(prediction)"
   ]
  },
  {
   "cell_type": "code",
   "execution_count": 40,
   "metadata": {},
   "outputs": [
    {
     "data": {
      "text/html": [
       "<div>\n",
       "<style scoped>\n",
       "    .dataframe tbody tr th:only-of-type {\n",
       "        vertical-align: middle;\n",
       "    }\n",
       "\n",
       "    .dataframe tbody tr th {\n",
       "        vertical-align: top;\n",
       "    }\n",
       "\n",
       "    .dataframe thead th {\n",
       "        text-align: right;\n",
       "    }\n",
       "</style>\n",
       "<table border=\"1\" class=\"dataframe\">\n",
       "  <thead>\n",
       "    <tr style=\"text-align: right;\">\n",
       "      <th></th>\n",
       "      <th>0</th>\n",
       "    </tr>\n",
       "  </thead>\n",
       "  <tbody>\n",
       "    <tr>\n",
       "      <th>0</th>\n",
       "      <td>0.002306</td>\n",
       "    </tr>\n",
       "    <tr>\n",
       "      <th>1</th>\n",
       "      <td>0.002310</td>\n",
       "    </tr>\n",
       "    <tr>\n",
       "      <th>2</th>\n",
       "      <td>0.002317</td>\n",
       "    </tr>\n",
       "    <tr>\n",
       "      <th>3</th>\n",
       "      <td>0.002320</td>\n",
       "    </tr>\n",
       "    <tr>\n",
       "      <th>4</th>\n",
       "      <td>0.002304</td>\n",
       "    </tr>\n",
       "    <tr>\n",
       "      <th>...</th>\n",
       "      <td>...</td>\n",
       "    </tr>\n",
       "    <tr>\n",
       "      <th>24968</th>\n",
       "      <td>0.002332</td>\n",
       "    </tr>\n",
       "    <tr>\n",
       "      <th>24969</th>\n",
       "      <td>0.002332</td>\n",
       "    </tr>\n",
       "    <tr>\n",
       "      <th>24970</th>\n",
       "      <td>0.002332</td>\n",
       "    </tr>\n",
       "    <tr>\n",
       "      <th>24971</th>\n",
       "      <td>0.002331</td>\n",
       "    </tr>\n",
       "    <tr>\n",
       "      <th>24972</th>\n",
       "      <td>0.002330</td>\n",
       "    </tr>\n",
       "  </tbody>\n",
       "</table>\n",
       "<p>24973 rows × 1 columns</p>\n",
       "</div>"
      ],
      "text/plain": [
       "              0\n",
       "0      0.002306\n",
       "1      0.002310\n",
       "2      0.002317\n",
       "3      0.002320\n",
       "4      0.002304\n",
       "...         ...\n",
       "24968  0.002332\n",
       "24969  0.002332\n",
       "24970  0.002332\n",
       "24971  0.002331\n",
       "24972  0.002330\n",
       "\n",
       "[24973 rows x 1 columns]"
      ]
     },
     "execution_count": 40,
     "metadata": {},
     "output_type": "execute_result"
    }
   ],
   "source": [
    "pred_df"
   ]
  },
  {
   "cell_type": "code",
   "execution_count": 97,
   "metadata": {},
   "outputs": [],
   "source": [
    "# Create a new Series with NaN values of length 24973\n",
    "new_series = pd.Series(np.nan, index=grouped_out.index, name=\"prediction\")\n",
    "\n",
    "# Assign the values from the array to the appropriate positions in the Series\n",
    "new_series[:len(prediction)] = prediction.flatten()\n",
    "\n",
    "concatted = pd.concat([grouped_out, new_series], axis=1)\n",
    "\n",
    "concatted_xa = concatted.to_xarray()"
   ]
  },
  {
   "cell_type": "code",
   "execution_count": 101,
   "metadata": {},
   "outputs": [],
   "source": [
    "out_df = train_y_series.reset_index(level=\"time\", drop=True)\n",
    "grouped_out = out_df.groupby([\"latitude\", \"longitude\"]).sum()\n",
    "\n",
    "# Create a new Series with NaN values of length 24973\n",
    "new_series = pd.Series(np.nan, index=grouped_out.index, name=\"prediction\")\n",
    "\n",
    "# Assign the values from the array to the appropriate positions in the Series\n",
    "new_series[:len(train_prediction)] = train_prediction.flatten()\n",
    "\n",
    "concatted = pd.concat([grouped_out, new_series], axis=1)\n",
    "\n",
    "concatted_xa = concatted.to_xarray()"
   ]
  },
  {
   "cell_type": "code",
   "execution_count": 48,
   "metadata": {},
   "outputs": [
    {
     "data": {
      "text/plain": [
       "latitude    longitude \n",
       "-29.000000  153.481481    0.625302\n",
       "            153.518519    0.625302\n",
       "            153.555556    0.625302\n",
       "            153.592593    0.625302\n",
       "            153.629630    0.625302\n",
       "                            ...   \n",
       "-18.037037  152.444444    0.625302\n",
       "            152.481481    0.625302\n",
       "            152.518519    0.625302\n",
       "            152.555556    0.625302\n",
       "            154.000000    0.625302\n",
       "Name: gt, Length: 24973, dtype: float32"
      ]
     },
     "execution_count": 48,
     "metadata": {},
     "output_type": "execute_result"
    }
   ],
   "source": [
    "grouped_out"
   ]
  },
  {
   "cell_type": "code",
   "execution_count": 47,
   "metadata": {},
   "outputs": [
    {
     "data": {
      "text/plain": [
       "latitude    longitude \n",
       "-29.000000  153.481481    0.002306\n",
       "            153.518519    0.002310\n",
       "            153.555556    0.002317\n",
       "            153.592593    0.002320\n",
       "            153.629630    0.002304\n",
       "                            ...   \n",
       "-18.037037  152.444444    0.002332\n",
       "            152.481481    0.002332\n",
       "            152.518519    0.002332\n",
       "            152.555556    0.002331\n",
       "            154.000000    0.002330\n",
       "Name: prediction, Length: 24973, dtype: float64"
      ]
     },
     "execution_count": 47,
     "metadata": {},
     "output_type": "execute_result"
    }
   ],
   "source": [
    "new_series"
   ]
  },
  {
   "cell_type": "code",
   "execution_count": 51,
   "metadata": {},
   "outputs": [],
   "source": []
  },
  {
   "cell_type": "code",
   "execution_count": 53,
   "metadata": {},
   "outputs": [],
   "source": []
  },
  {
   "cell_type": "code",
   "execution_count": 45,
   "metadata": {},
   "outputs": [],
   "source": [
    "pred_df = pd.concat([grouped_out, new_series], )"
   ]
  },
  {
   "cell_type": "code",
   "execution_count": 46,
   "metadata": {},
   "outputs": [
    {
     "data": {
      "text/plain": [
       "latitude    longitude \n",
       "-29.000000  153.481481    0.625302\n",
       "            153.518519    0.625302\n",
       "            153.555556    0.625302\n",
       "            153.592593    0.625302\n",
       "            153.629630    0.625302\n",
       "                            ...   \n",
       "-18.037037  152.444444    0.002332\n",
       "            152.481481    0.002332\n",
       "            152.518519    0.002332\n",
       "            152.555556    0.002331\n",
       "            154.000000    0.002330\n",
       "Length: 49946, dtype: float64"
      ]
     },
     "execution_count": 46,
     "metadata": {},
     "output_type": "execute_result"
    }
   ],
   "source": [
    "pred_df"
   ]
  },
  {
   "cell_type": "code",
   "execution_count": null,
   "metadata": {},
   "outputs": [],
   "source": [
    "num_pos = len(lim_test_rows[lim_test_rows[\"gt\"] > 0])\n",
    "gt_frac = num_pos/len(lim_test_rows)\n",
    "gt_frac"
   ]
  },
  {
   "cell_type": "code",
   "execution_count": null,
   "metadata": {},
   "outputs": [],
   "source": []
  },
  {
   "cell_type": "code",
   "execution_count": null,
   "metadata": {},
   "outputs": [],
   "source": [
    "feature_vars = ['bathymetry','ssr','mlotst','bottomT','uo','so','zos','thetao','vo','gradient',]\n",
    "X_train, y_train = process_xa_ds_ml_ready(train_xa_pp, feature_vars=feature_vars, gt_var=\"gt\")\n",
    "X_test, y_test = process_xa_ds_ml_ready(test_xa_pp, feature_vars=feature_vars, gt_var=\"gt\")\n",
    "\n",
    "print(\"X_train.shape\", X_train.shape)\n",
    "print(\"y_train.shape\", y_train.shape)\n",
    "print(\"X_test.shape\", X_test.shape)\n",
    "print(\"y_test.shape\", y_test.shape)"
   ]
  },
  {
   "cell_type": "code",
   "execution_count": null,
   "metadata": {},
   "outputs": [],
   "source": [
    "from coralshift.plotting import spatial_plots\n",
    "spatial_plots.plot_spatial(train_xa_pp[\"gt\"].isel(time=0))"
   ]
  },
  {
   "cell_type": "code",
   "execution_count": null,
   "metadata": {},
   "outputs": [],
   "source": []
  },
  {
   "cell_type": "code",
   "execution_count": 95,
   "metadata": {},
   "outputs": [
    {
     "data": {
      "application/vnd.jupyter.widget-view+json": {
       "model_id": "cf88766a5a794ad6a81ca4138963f40a",
       "version_major": 2,
       "version_minor": 0
      },
      "text/plain": [
       "VBox(children=(Label(value='Waiting for wandb.init()...\\r'), FloatProgress(value=0.016669793737431368, max=1.0…"
      ]
     },
     "metadata": {},
     "output_type": "display_data"
    },
    {
     "data": {
      "text/html": [
       "wandb version 0.15.4 is available!  To upgrade, please run:\n",
       " $ pip install wandb --upgrade"
      ],
      "text/plain": [
       "<IPython.core.display.HTML object>"
      ]
     },
     "metadata": {},
     "output_type": "display_data"
    },
    {
     "data": {
      "text/html": [
       "Tracking run with wandb version 0.15.3"
      ],
      "text/plain": [
       "<IPython.core.display.HTML object>"
      ]
     },
     "metadata": {},
     "output_type": "display_data"
    },
    {
     "data": {
      "text/html": [
       "Run data is saved locally in <code>/lustre_scratch/orlando-code/coralshift/wandb/run-20230629_191114-bjghue1o</code>"
      ],
      "text/plain": [
       "<IPython.core.display.HTML object>"
      ]
     },
     "metadata": {},
     "output_type": "display_data"
    },
    {
     "data": {
      "text/html": [
       "Syncing run <strong><a href='https://wandb.ai/orlando-code/coraltransformer/runs/bjghue1o' target=\"_blank\">ethereal-capybara-25</a></strong> to <a href='https://wandb.ai/orlando-code/coraltransformer' target=\"_blank\">Weights & Biases</a> (<a href='https://wandb.me/run' target=\"_blank\">docs</a>)<br/>"
      ],
      "text/plain": [
       "<IPython.core.display.HTML object>"
      ]
     },
     "metadata": {},
     "output_type": "display_data"
    },
    {
     "data": {
      "text/html": [
       " View project at <a href='https://wandb.ai/orlando-code/coraltransformer' target=\"_blank\">https://wandb.ai/orlando-code/coraltransformer</a>"
      ],
      "text/plain": [
       "<IPython.core.display.HTML object>"
      ]
     },
     "metadata": {},
     "output_type": "display_data"
    },
    {
     "data": {
      "text/html": [
       " View run at <a href='https://wandb.ai/orlando-code/coraltransformer/runs/bjghue1o' target=\"_blank\">https://wandb.ai/orlando-code/coraltransformer/runs/bjghue1o</a>"
      ],
      "text/plain": [
       "<IPython.core.display.HTML object>"
      ]
     },
     "metadata": {},
     "output_type": "display_data"
    },
    {
     "name": "stdout",
     "output_type": "stream",
     "text": [
      "Epoch 1/100\n",
      "169/169 [==============================] - 30s 52ms/step - loss: 0.2301 - binary_crossentropy: 0.2301 - val_loss: 0.2800 - val_binary_crossentropy: 0.2800\n",
      "Epoch 2/100\n",
      "169/169 [==============================] - 8s 46ms/step - loss: 0.1704 - binary_crossentropy: 0.1704 - val_loss: 0.1932 - val_binary_crossentropy: 0.1932\n",
      "Epoch 3/100\n",
      "169/169 [==============================] - 8s 47ms/step - loss: 0.1664 - binary_crossentropy: 0.1664 - val_loss: 0.1491 - val_binary_crossentropy: 0.1491\n",
      "Epoch 4/100\n",
      "169/169 [==============================] - 8s 46ms/step - loss: 0.1536 - binary_crossentropy: 0.1536 - val_loss: 0.1567 - val_binary_crossentropy: 0.1567\n",
      "Epoch 5/100\n",
      "169/169 [==============================] - 8s 46ms/step - loss: 0.1527 - binary_crossentropy: 0.1527 - val_loss: 0.1566 - val_binary_crossentropy: 0.1566\n",
      "Epoch 6/100\n",
      "169/169 [==============================] - 8s 44ms/step - loss: 0.1522 - binary_crossentropy: 0.1522 - val_loss: 0.1622 - val_binary_crossentropy: 0.1622\n",
      "Epoch 7/100\n",
      "169/169 [==============================] - 8s 46ms/step - loss: 0.1518 - binary_crossentropy: 0.1518 - val_loss: 0.1499 - val_binary_crossentropy: 0.1499\n",
      "Epoch 8/100\n",
      "169/169 [==============================] - 8s 45ms/step - loss: 0.1516 - binary_crossentropy: 0.1516 - val_loss: 0.1608 - val_binary_crossentropy: 0.1608\n",
      "Epoch 9/100\n",
      "169/169 [==============================] - 8s 46ms/step - loss: 0.1515 - binary_crossentropy: 0.1515 - val_loss: 0.1514 - val_binary_crossentropy: 0.1514\n",
      "Epoch 10/100\n",
      "169/169 [==============================] - 8s 45ms/step - loss: 0.1514 - binary_crossentropy: 0.1514 - val_loss: 0.1492 - val_binary_crossentropy: 0.1492\n",
      "Epoch 11/100\n",
      "169/169 [==============================] - 8s 45ms/step - loss: 0.1513 - binary_crossentropy: 0.1513 - val_loss: 0.1496 - val_binary_crossentropy: 0.1496\n",
      "Epoch 12/100\n",
      "169/169 [==============================] - 7s 44ms/step - loss: 0.1511 - binary_crossentropy: 0.1511 - val_loss: 0.1492 - val_binary_crossentropy: 0.1492\n",
      "Epoch 13/100\n",
      "169/169 [==============================] - 8s 47ms/step - loss: 0.1508 - binary_crossentropy: 0.1508 - val_loss: 0.1493 - val_binary_crossentropy: 0.1493\n",
      "Epoch 14/100\n",
      "169/169 [==============================] - 8s 46ms/step - loss: 0.1507 - binary_crossentropy: 0.1507 - val_loss: 0.1491 - val_binary_crossentropy: 0.1491\n",
      "Epoch 15/100\n",
      "169/169 [==============================] - 7s 44ms/step - loss: 0.1509 - binary_crossentropy: 0.1509 - val_loss: 0.1491 - val_binary_crossentropy: 0.1491\n",
      "Epoch 16/100\n",
      "169/169 [==============================] - 8s 45ms/step - loss: 0.1505 - binary_crossentropy: 0.1505 - val_loss: 0.1504 - val_binary_crossentropy: 0.1504\n",
      "Epoch 17/100\n",
      "169/169 [==============================] - 8s 45ms/step - loss: 0.1504 - binary_crossentropy: 0.1504 - val_loss: 0.1493 - val_binary_crossentropy: 0.1493\n",
      "Epoch 18/100\n",
      "169/169 [==============================] - 7s 44ms/step - loss: 0.1503 - binary_crossentropy: 0.1503 - val_loss: 0.1494 - val_binary_crossentropy: 0.1494\n",
      "Epoch 19/100\n",
      "169/169 [==============================] - 7s 44ms/step - loss: 0.1502 - binary_crossentropy: 0.1502 - val_loss: 0.1508 - val_binary_crossentropy: 0.1508\n",
      "Epoch 20/100\n",
      "169/169 [==============================] - 8s 45ms/step - loss: 0.1501 - binary_crossentropy: 0.1501 - val_loss: 0.1514 - val_binary_crossentropy: 0.1514\n",
      "Epoch 21/100\n",
      "169/169 [==============================] - 7s 44ms/step - loss: 0.1500 - binary_crossentropy: 0.1500 - val_loss: 0.1509 - val_binary_crossentropy: 0.1509\n",
      "Epoch 22/100\n",
      "169/169 [==============================] - 7s 44ms/step - loss: 0.1500 - binary_crossentropy: 0.1500 - val_loss: 0.1529 - val_binary_crossentropy: 0.1529\n",
      "Epoch 23/100\n",
      "169/169 [==============================] - 8s 46ms/step - loss: 0.1498 - binary_crossentropy: 0.1498 - val_loss: 0.1520 - val_binary_crossentropy: 0.1520\n",
      "Epoch 24/100\n",
      "169/169 [==============================] - 8s 46ms/step - loss: 0.1498 - binary_crossentropy: 0.1498 - val_loss: 0.1502 - val_binary_crossentropy: 0.1502\n",
      "Epoch 25/100\n",
      "169/169 [==============================] - 7s 44ms/step - loss: 0.1498 - binary_crossentropy: 0.1498 - val_loss: 0.1510 - val_binary_crossentropy: 0.1510\n",
      "Epoch 26/100\n",
      "169/169 [==============================] - 7s 44ms/step - loss: 0.1497 - binary_crossentropy: 0.1497 - val_loss: 0.1512 - val_binary_crossentropy: 0.1512\n",
      "Epoch 27/100\n",
      "169/169 [==============================] - 7s 44ms/step - loss: 0.1496 - binary_crossentropy: 0.1496 - val_loss: 0.1550 - val_binary_crossentropy: 0.1550\n",
      "Epoch 28/100\n",
      "169/169 [==============================] - 8s 45ms/step - loss: 0.1495 - binary_crossentropy: 0.1495 - val_loss: 0.1508 - val_binary_crossentropy: 0.1508\n",
      "Epoch 29/100\n",
      "169/169 [==============================] - 8s 47ms/step - loss: 0.1495 - binary_crossentropy: 0.1495 - val_loss: 0.1515 - val_binary_crossentropy: 0.1515\n",
      "Epoch 30/100\n",
      "169/169 [==============================] - 8s 45ms/step - loss: 0.1495 - binary_crossentropy: 0.1495 - val_loss: 0.1511 - val_binary_crossentropy: 0.1511\n",
      "Epoch 31/100\n",
      "169/169 [==============================] - 8s 45ms/step - loss: 0.1494 - binary_crossentropy: 0.1494 - val_loss: 0.1496 - val_binary_crossentropy: 0.1496\n",
      "Epoch 32/100\n",
      "169/169 [==============================] - 8s 45ms/step - loss: 0.1494 - binary_crossentropy: 0.1494 - val_loss: 0.1497 - val_binary_crossentropy: 0.1497\n",
      "Epoch 33/100\n",
      "169/169 [==============================] - 8s 44ms/step - loss: 0.1493 - binary_crossentropy: 0.1493 - val_loss: 0.1509 - val_binary_crossentropy: 0.1509\n",
      "Epoch 34/100\n",
      "169/169 [==============================] - 8s 45ms/step - loss: 0.1493 - binary_crossentropy: 0.1493 - val_loss: 0.1502 - val_binary_crossentropy: 0.1502\n",
      "Epoch 35/100\n",
      "169/169 [==============================] - 8s 46ms/step - loss: 0.1492 - binary_crossentropy: 0.1492 - val_loss: 0.1503 - val_binary_crossentropy: 0.1503\n",
      "Epoch 36/100\n",
      "169/169 [==============================] - 8s 45ms/step - loss: 0.1492 - binary_crossentropy: 0.1492 - val_loss: 0.1497 - val_binary_crossentropy: 0.1497\n",
      "Epoch 37/100\n",
      "169/169 [==============================] - 8s 45ms/step - loss: 0.1492 - binary_crossentropy: 0.1492 - val_loss: 0.1494 - val_binary_crossentropy: 0.1494\n",
      "Epoch 38/100\n",
      "169/169 [==============================] - 8s 45ms/step - loss: 0.1492 - binary_crossentropy: 0.1492 - val_loss: 0.1503 - val_binary_crossentropy: 0.1503\n",
      "Epoch 39/100\n",
      "169/169 [==============================] - 8s 45ms/step - loss: 0.1491 - binary_crossentropy: 0.1491 - val_loss: 0.1501 - val_binary_crossentropy: 0.1501\n",
      "Epoch 40/100\n",
      "169/169 [==============================] - 7s 44ms/step - loss: 0.1491 - binary_crossentropy: 0.1491 - val_loss: 0.1495 - val_binary_crossentropy: 0.1495\n",
      "Epoch 41/100\n",
      "169/169 [==============================] - 8s 45ms/step - loss: 0.1491 - binary_crossentropy: 0.1491 - val_loss: 0.1496 - val_binary_crossentropy: 0.1496\n",
      "Epoch 42/100\n",
      "169/169 [==============================] - 7s 44ms/step - loss: 0.1491 - binary_crossentropy: 0.1491 - val_loss: 0.1495 - val_binary_crossentropy: 0.1495\n",
      "Epoch 43/100\n",
      "169/169 [==============================] - 7s 44ms/step - loss: 0.1491 - binary_crossentropy: 0.1491 - val_loss: 0.1492 - val_binary_crossentropy: 0.1492\n",
      "Epoch 44/100\n",
      "169/169 [==============================] - 7s 44ms/step - loss: 0.1491 - binary_crossentropy: 0.1491 - val_loss: 0.1494 - val_binary_crossentropy: 0.1494\n",
      "Epoch 45/100\n",
      "169/169 [==============================] - 7s 44ms/step - loss: 0.1490 - binary_crossentropy: 0.1490 - val_loss: 0.1494 - val_binary_crossentropy: 0.1494\n",
      "Epoch 46/100\n",
      "169/169 [==============================] - 7s 43ms/step - loss: 0.1490 - binary_crossentropy: 0.1490 - val_loss: 0.1492 - val_binary_crossentropy: 0.1492\n",
      "Epoch 47/100\n",
      "169/169 [==============================] - 7s 44ms/step - loss: 0.1490 - binary_crossentropy: 0.1490 - val_loss: 0.1491 - val_binary_crossentropy: 0.1491\n",
      "Epoch 48/100\n",
      "169/169 [==============================] - 7s 43ms/step - loss: 0.1490 - binary_crossentropy: 0.1490 - val_loss: 0.1491 - val_binary_crossentropy: 0.1491\n",
      "Epoch 49/100\n",
      "169/169 [==============================] - 7s 44ms/step - loss: 0.1490 - binary_crossentropy: 0.1490 - val_loss: 0.1491 - val_binary_crossentropy: 0.1491\n",
      "Epoch 50/100\n",
      "169/169 [==============================] - 7s 44ms/step - loss: 0.1490 - binary_crossentropy: 0.1490 - val_loss: 0.1491 - val_binary_crossentropy: 0.1491\n",
      "Epoch 51/100\n",
      "169/169 [==============================] - 8s 45ms/step - loss: 0.1490 - binary_crossentropy: 0.1490 - val_loss: 0.1491 - val_binary_crossentropy: 0.1491\n",
      "Epoch 52/100\n",
      "169/169 [==============================] - 8s 45ms/step - loss: 0.1490 - binary_crossentropy: 0.1490 - val_loss: 0.1490 - val_binary_crossentropy: 0.1490\n",
      "Epoch 53/100\n",
      "169/169 [==============================] - 8s 45ms/step - loss: 0.1490 - binary_crossentropy: 0.1490 - val_loss: 0.1490 - val_binary_crossentropy: 0.1490\n",
      "Epoch 54/100\n",
      "169/169 [==============================] - 8s 44ms/step - loss: 0.1490 - binary_crossentropy: 0.1490 - val_loss: 0.1490 - val_binary_crossentropy: 0.1490\n",
      "Epoch 55/100\n",
      "169/169 [==============================] - 8s 45ms/step - loss: 0.1490 - binary_crossentropy: 0.1490 - val_loss: 0.1490 - val_binary_crossentropy: 0.1490\n",
      "Epoch 56/100\n",
      "169/169 [==============================] - 8s 45ms/step - loss: 0.1490 - binary_crossentropy: 0.1490 - val_loss: 0.1490 - val_binary_crossentropy: 0.1490\n",
      "Epoch 57/100\n",
      "169/169 [==============================] - 7s 44ms/step - loss: 0.1490 - binary_crossentropy: 0.1490 - val_loss: 0.1490 - val_binary_crossentropy: 0.1490\n",
      "Epoch 58/100\n",
      "169/169 [==============================] - 8s 45ms/step - loss: 0.1490 - binary_crossentropy: 0.1490 - val_loss: 0.1490 - val_binary_crossentropy: 0.1490\n",
      "Epoch 59/100\n",
      "169/169 [==============================] - 8s 45ms/step - loss: 0.1490 - binary_crossentropy: 0.1490 - val_loss: 0.1490 - val_binary_crossentropy: 0.1490\n",
      "Epoch 60/100\n",
      "169/169 [==============================] - 7s 44ms/step - loss: 0.1490 - binary_crossentropy: 0.1490 - val_loss: 0.1490 - val_binary_crossentropy: 0.1490\n",
      "Epoch 61/100\n",
      "169/169 [==============================] - 8s 46ms/step - loss: 0.1490 - binary_crossentropy: 0.1490 - val_loss: 0.1490 - val_binary_crossentropy: 0.1490\n",
      "Epoch 62/100\n",
      "169/169 [==============================] - 8s 45ms/step - loss: 0.1490 - binary_crossentropy: 0.1490 - val_loss: 0.1490 - val_binary_crossentropy: 0.1490\n",
      "Epoch 63/100\n",
      "169/169 [==============================] - 8s 45ms/step - loss: 0.1490 - binary_crossentropy: 0.1490 - val_loss: 0.1490 - val_binary_crossentropy: 0.1490\n",
      "Epoch 64/100\n",
      "169/169 [==============================] - 7s 44ms/step - loss: 0.1490 - binary_crossentropy: 0.1490 - val_loss: 0.1490 - val_binary_crossentropy: 0.1490\n",
      "Epoch 65/100\n",
      "169/169 [==============================] - 7s 44ms/step - loss: 0.1490 - binary_crossentropy: 0.1490 - val_loss: 0.1490 - val_binary_crossentropy: 0.1490\n",
      "Epoch 66/100\n",
      "169/169 [==============================] - 7s 44ms/step - loss: 0.1490 - binary_crossentropy: 0.1490 - val_loss: 0.1490 - val_binary_crossentropy: 0.1490\n",
      "Epoch 67/100\n",
      "169/169 [==============================] - 8s 45ms/step - loss: 0.1490 - binary_crossentropy: 0.1490 - val_loss: 0.1490 - val_binary_crossentropy: 0.1490\n",
      "Epoch 68/100\n",
      "169/169 [==============================] - 8s 45ms/step - loss: 0.1490 - binary_crossentropy: 0.1490 - val_loss: 0.1490 - val_binary_crossentropy: 0.1490\n",
      "Epoch 69/100\n",
      "169/169 [==============================] - 8s 46ms/step - loss: 0.1490 - binary_crossentropy: 0.1490 - val_loss: 0.1490 - val_binary_crossentropy: 0.1490\n",
      "Epoch 70/100\n",
      "169/169 [==============================] - 8s 47ms/step - loss: 0.1490 - binary_crossentropy: 0.1490 - val_loss: 0.1490 - val_binary_crossentropy: 0.1490\n",
      "Epoch 71/100\n",
      "169/169 [==============================] - 8s 47ms/step - loss: 0.1490 - binary_crossentropy: 0.1490 - val_loss: 0.1490 - val_binary_crossentropy: 0.1490\n",
      "Epoch 72/100\n",
      "169/169 [==============================] - 8s 47ms/step - loss: 0.1490 - binary_crossentropy: 0.1490 - val_loss: 0.1490 - val_binary_crossentropy: 0.1490\n",
      "Epoch 73/100\n",
      "169/169 [==============================] - 8s 46ms/step - loss: 0.1490 - binary_crossentropy: 0.1490 - val_loss: 0.1490 - val_binary_crossentropy: 0.1490\n",
      "Epoch 74/100\n",
      "169/169 [==============================] - 8s 45ms/step - loss: 0.1490 - binary_crossentropy: 0.1490 - val_loss: 0.1490 - val_binary_crossentropy: 0.1490\n",
      "Epoch 75/100\n",
      "169/169 [==============================] - 8s 46ms/step - loss: 0.1490 - binary_crossentropy: 0.1490 - val_loss: 0.1490 - val_binary_crossentropy: 0.1490\n",
      "Epoch 76/100\n",
      "169/169 [==============================] - 8s 46ms/step - loss: 0.1490 - binary_crossentropy: 0.1490 - val_loss: 0.1490 - val_binary_crossentropy: 0.1490\n",
      "Epoch 77/100\n",
      "169/169 [==============================] - 7s 44ms/step - loss: 0.1490 - binary_crossentropy: 0.1490 - val_loss: 0.1490 - val_binary_crossentropy: 0.1490\n",
      "Epoch 78/100\n",
      "169/169 [==============================] - 8s 45ms/step - loss: 0.1490 - binary_crossentropy: 0.1490 - val_loss: 0.1490 - val_binary_crossentropy: 0.1490\n",
      "Epoch 79/100\n",
      "169/169 [==============================] - 8s 46ms/step - loss: 0.1490 - binary_crossentropy: 0.1490 - val_loss: 0.1490 - val_binary_crossentropy: 0.1490\n",
      "Epoch 80/100\n",
      "169/169 [==============================] - 7s 44ms/step - loss: 0.1490 - binary_crossentropy: 0.1490 - val_loss: 0.1490 - val_binary_crossentropy: 0.1490\n",
      "Epoch 81/100\n",
      "169/169 [==============================] - 8s 45ms/step - loss: 0.1490 - binary_crossentropy: 0.1490 - val_loss: 0.1490 - val_binary_crossentropy: 0.1490\n",
      "Epoch 82/100\n",
      "169/169 [==============================] - 8s 45ms/step - loss: 0.1490 - binary_crossentropy: 0.1490 - val_loss: 0.1490 - val_binary_crossentropy: 0.1490\n",
      "Epoch 83/100\n",
      "169/169 [==============================] - 8s 46ms/step - loss: 0.1490 - binary_crossentropy: 0.1490 - val_loss: 0.1490 - val_binary_crossentropy: 0.1490\n",
      "Epoch 84/100\n",
      "169/169 [==============================] - 8s 46ms/step - loss: 0.1490 - binary_crossentropy: 0.1490 - val_loss: 0.1490 - val_binary_crossentropy: 0.1490\n",
      "Epoch 85/100\n",
      "169/169 [==============================] - 8s 46ms/step - loss: 0.1490 - binary_crossentropy: 0.1490 - val_loss: 0.1490 - val_binary_crossentropy: 0.1490\n",
      "Epoch 86/100\n",
      "169/169 [==============================] - 8s 46ms/step - loss: 0.1490 - binary_crossentropy: 0.1490 - val_loss: 0.1490 - val_binary_crossentropy: 0.1490\n",
      "Epoch 87/100\n",
      "169/169 [==============================] - 8s 47ms/step - loss: 0.1490 - binary_crossentropy: 0.1490 - val_loss: 0.1490 - val_binary_crossentropy: 0.1490\n",
      "Epoch 88/100\n",
      "169/169 [==============================] - 8s 47ms/step - loss: 0.1490 - binary_crossentropy: 0.1490 - val_loss: 0.1490 - val_binary_crossentropy: 0.1490\n",
      "Epoch 89/100\n",
      "169/169 [==============================] - 8s 47ms/step - loss: 0.1490 - binary_crossentropy: 0.1490 - val_loss: 0.1490 - val_binary_crossentropy: 0.1490\n",
      "Epoch 90/100\n",
      "169/169 [==============================] - 7s 44ms/step - loss: 0.1490 - binary_crossentropy: 0.1490 - val_loss: 0.1490 - val_binary_crossentropy: 0.1490\n",
      "Epoch 91/100\n",
      "169/169 [==============================] - 8s 45ms/step - loss: 0.1490 - binary_crossentropy: 0.1490 - val_loss: 0.1490 - val_binary_crossentropy: 0.1490\n",
      "Epoch 92/100\n",
      "169/169 [==============================] - 8s 45ms/step - loss: 0.1490 - binary_crossentropy: 0.1490 - val_loss: 0.1490 - val_binary_crossentropy: 0.1490\n",
      "Epoch 93/100\n",
      "169/169 [==============================] - 8s 45ms/step - loss: 0.1490 - binary_crossentropy: 0.1490 - val_loss: 0.1490 - val_binary_crossentropy: 0.1490\n",
      "Epoch 94/100\n",
      "169/169 [==============================] - 7s 44ms/step - loss: 0.1490 - binary_crossentropy: 0.1490 - val_loss: 0.1490 - val_binary_crossentropy: 0.1490\n",
      "Epoch 95/100\n",
      "169/169 [==============================] - 7s 44ms/step - loss: 0.1490 - binary_crossentropy: 0.1490 - val_loss: 0.1490 - val_binary_crossentropy: 0.1490\n",
      "Epoch 96/100\n",
      "169/169 [==============================] - 7s 44ms/step - loss: 0.1490 - binary_crossentropy: 0.1490 - val_loss: 0.1490 - val_binary_crossentropy: 0.1490\n",
      "Epoch 97/100\n",
      "169/169 [==============================] - 7s 43ms/step - loss: 0.1490 - binary_crossentropy: 0.1490 - val_loss: 0.1490 - val_binary_crossentropy: 0.1490\n",
      "Epoch 98/100\n",
      "169/169 [==============================] - 7s 44ms/step - loss: 0.1490 - binary_crossentropy: 0.1490 - val_loss: 0.1490 - val_binary_crossentropy: 0.1490\n",
      "Epoch 99/100\n",
      "169/169 [==============================] - 7s 44ms/step - loss: 0.1490 - binary_crossentropy: 0.1490 - val_loss: 0.1490 - val_binary_crossentropy: 0.1490\n",
      "Epoch 100/100\n",
      "169/169 [==============================] - 7s 44ms/step - loss: 0.1490 - binary_crossentropy: 0.1490 - val_loss: 0.1490 - val_binary_crossentropy: 0.1490\n"
     ]
    },
    {
     "data": {
      "text/html": [
       "Waiting for W&B process to finish... <strong style=\"color:green\">(success).</strong>"
      ],
      "text/plain": [
       "<IPython.core.display.HTML object>"
      ]
     },
     "metadata": {},
     "output_type": "display_data"
    },
    {
     "data": {
      "text/html": [
       "<style>\n",
       "    table.wandb td:nth-child(1) { padding: 0 10px; text-align: left ; width: auto;} td:nth-child(2) {text-align: left ; width: 100%}\n",
       "    .wandb-row { display: flex; flex-direction: row; flex-wrap: wrap; justify-content: flex-start; width: 100% }\n",
       "    .wandb-col { display: flex; flex-direction: column; flex-basis: 100%; flex: 1; padding: 10px; }\n",
       "    </style>\n",
       "<div class=\"wandb-row\"><div class=\"wandb-col\"><h3>Run history:</h3><br/><table class=\"wandb\"><tr><td>epoch/binary_crossentropy</td><td>█▃▁▁▁▁▁▁▁▁▁▁▁▁▁▁▁▁▁▁▁▁▁▁▁▁▁▁▁▁▁▁▁▁▁▁▁▁▁▁</td></tr><tr><td>epoch/epoch</td><td>▁▁▁▁▂▂▂▂▂▃▃▃▃▃▃▄▄▄▄▄▅▅▅▅▅▅▆▆▆▆▆▇▇▇▇▇▇███</td></tr><tr><td>epoch/learning_rate</td><td>▁▁▁▁▁▁▁▁▁▁▁▁▁▁▁▁▁▁▁▁▁▁▁▁▁▁▁▁▁▁▁▁▁▁▁▁▁▁▁▁</td></tr><tr><td>epoch/loss</td><td>█▃▁▁▁▁▁▁▁▁▁▁▁▁▁▁▁▁▁▁▁▁▁▁▁▁▁▁▁▁▁▁▁▁▁▁▁▁▁▁</td></tr><tr><td>epoch/val_binary_crossentropy</td><td>█▁▂▂▁▁▁▁▁▁▁▁▁▁▁▁▁▁▁▁▁▁▁▁▁▁▁▁▁▁▁▁▁▁▁▁▁▁▁▁</td></tr><tr><td>epoch/val_loss</td><td>█▁▂▂▁▁▁▁▁▁▁▁▁▁▁▁▁▁▁▁▁▁▁▁▁▁▁▁▁▁▁▁▁▁▁▁▁▁▁▁</td></tr></table><br/></div><div class=\"wandb-col\"><h3>Run summary:</h3><br/><table class=\"wandb\"><tr><td>epoch/binary_crossentropy</td><td>0.149</td></tr><tr><td>epoch/epoch</td><td>99</td></tr><tr><td>epoch/learning_rate</td><td>0.00375</td></tr><tr><td>epoch/loss</td><td>0.149</td></tr><tr><td>epoch/val_binary_crossentropy</td><td>0.149</td></tr><tr><td>epoch/val_loss</td><td>0.149</td></tr></table><br/></div></div>"
      ],
      "text/plain": [
       "<IPython.core.display.HTML object>"
      ]
     },
     "metadata": {},
     "output_type": "display_data"
    },
    {
     "data": {
      "text/html": [
       " View run <strong style=\"color:#cdcd00\">ethereal-capybara-25</strong> at: <a href='https://wandb.ai/orlando-code/coraltransformer/runs/bjghue1o' target=\"_blank\">https://wandb.ai/orlando-code/coraltransformer/runs/bjghue1o</a><br/>Synced 6 W&B file(s), 0 media file(s), 0 artifact file(s) and 0 other file(s)"
      ],
      "text/plain": [
       "<IPython.core.display.HTML object>"
      ]
     },
     "metadata": {},
     "output_type": "display_data"
    },
    {
     "data": {
      "text/html": [
       "Find logs at: <code>./wandb/run-20230629_191114-bjghue1o/logs</code>"
      ],
      "text/plain": [
       "<IPython.core.display.HTML object>"
      ]
     },
     "metadata": {},
     "output_type": "display_data"
    }
   ],
   "source": [
    "METRICS = [\n",
    "      keras.metrics.TruePositives(name='tp'),\n",
    "      keras.metrics.FalsePositives(name='fp'),\n",
    "      keras.metrics.TrueNegatives(name='tn'),\n",
    "      keras.metrics.FalseNegatives(name='fn'), \n",
    "      keras.metrics.BinaryAccuracy(name='accuracy'),\n",
    "      keras.metrics.Precision(name='precision'),\n",
    "      keras.metrics.Recall(name='recall'),\n",
    "      keras.metrics.AUC(name='auc'),\n",
    "      keras.metrics.AUC(name='prc', curve='PR'), # precision-recall curve\n",
    "]\n",
    "\n",
    "input_shape = X_train_lim.shape[1:]\n",
    "\n",
    "\n",
    "def transformer_encoder(inputs, head_size, num_heads, ff_dim, dropout=0):\n",
    "    # Normalization and Attention\n",
    "    x = layers.LayerNormalization(epsilon=1e-6)(inputs)\n",
    "    x = layers.MultiHeadAttention(\n",
    "        key_dim=head_size, num_heads=num_heads, dropout=dropout\n",
    "    )(x, x)\n",
    "    x = layers.Dropout(dropout)(x)\n",
    "    res = x + inputs\n",
    "\n",
    "    # Feed Forward Part\n",
    "    x = layers.LayerNormalization(epsilon=1e-6)(res)\n",
    "    x = layers.Conv1D(filters=ff_dim, kernel_size=1, activation=\"relu\")(x)\n",
    "    x = layers.Dropout(dropout)(x)\n",
    "    x = layers.Conv1D(filters=inputs.shape[-1], kernel_size=1)(x)\n",
    "    return x + res\n",
    "\n",
    "\n",
    "def build_model(\n",
    "    input_shape,\n",
    "    head_size,\n",
    "    num_heads,\n",
    "    ff_dim,\n",
    "    num_transformer_blocks,\n",
    "    mlp_units,\n",
    "    dropout=0,\n",
    "    mlp_dropout=0,\n",
    "    # output_bias=1\n",
    "):\n",
    "    # if output_bias is not None:\n",
    "    #     output_bias = tf.keras.initializers.Constant(output_bias)\n",
    "    inputs = keras.Input(shape=input_shape)\n",
    "    x = inputs\n",
    "    for _ in range(num_transformer_blocks):\n",
    "        x = transformer_encoder(x, head_size, num_heads, ff_dim, dropout)\n",
    "\n",
    "    x = layers.GlobalAveragePooling1D(data_format=\"channels_first\")(x)\n",
    "    for dim in mlp_units:\n",
    "        # x = layers.Dense(dim, activation=\"relu\", bias_initializer=output_bias)(x)\n",
    "        x = layers.Dense(dim, activation=\"relu\")(x)\n",
    "        x = layers.Dropout(mlp_dropout)(x)\n",
    "    # outputs = layers.Dense(N_CLASSES, activation=\"softmax\")(x)\n",
    "    outputs = layers.Dense(1, activation=\"sigmoid\"\n",
    "        # , bias_initializer=output_bias\n",
    "        )(x)\n",
    "\n",
    "    return keras.Model(inputs, outputs)\n",
    "\n",
    "wandb.init(\n",
    "    config = {\n",
    "        \"batch_size\": 64,\n",
    "        \"epochs\": 100,\n",
    "        \"lr\": 0.003755,\n",
    "        \"head_size\": 512,\n",
    "        \"num_heads\": 2,\n",
    "        \"ff_dim\": 4,\n",
    "        \"num_transformer_blocks\": 8,\n",
    "        \"mlp_units\": 64,\n",
    "        \"mlp_dropout\": 0.2,\n",
    "        \"dropout\": 0.4\n",
    "    },\n",
    "    project=\"coraltransformer\",\n",
    ")\n",
    "\n",
    "model = build_model(\n",
    "    input_shape = X_train_lim.shape[1:],\n",
    "    head_size=wandb.config.head_size,\n",
    "    num_heads=wandb.config.num_heads,\n",
    "    ff_dim=wandb.config.ff_dim,\n",
    "    num_transformer_blocks=wandb.config.num_transformer_blocks,\n",
    "    mlp_units=[wandb.config.mlp_units],\n",
    "    mlp_dropout=wandb.config.mlp_dropout,\n",
    "    dropout=wandb.config.dropout\n",
    "    )\n",
    "\n",
    "\n",
    "# model.compile(\n",
    "#     loss=\"sparse_categorical_crossentropy\",\n",
    "#     optimizer=keras.optimizers.Adam(learning_rate=1e-4),\n",
    "#     metrics=[\"sparse_categorical_accuracy\"],\n",
    "# )\n",
    "\n",
    "# model.compile(\n",
    "#     optimizer=keras.optimizers.Adam(learning_rate=1e-3),\n",
    "#     loss=keras.losses.BinaryCrossentropy(),\n",
    "#     # loss=\"sparse_categorical_crossentropy\",\n",
    "#     metrics=METRICS)\n",
    "\n",
    "# BEST\n",
    "model.compile(\n",
    "    loss=keras.losses.BinaryCrossentropy(),\n",
    "    optimizer=keras.optimizers.Adam(wandb.config.lr),\n",
    "    metrics=[keras.metrics.BinaryCrossentropy()],\n",
    ")\n",
    "\n",
    "# model.summary()\n",
    "\n",
    "model.fit(\n",
    "    X_train_lim,\n",
    "    y_train_lim*18,\n",
    "    validation_split=0.2,\n",
    "    epochs=wandb.config.epochs,\n",
    "    batch_size=wandb.config.batch_size,\n",
    "    # callbacks=callbacks,\n",
    "    callbacks=[WandbMetricsLogger()]\n",
    "\n",
    ")\n",
    "\n",
    "wandb.finish()\n",
    "\n"
   ]
  },
  {
   "cell_type": "code",
   "execution_count": 96,
   "metadata": {},
   "outputs": [
    {
     "name": "stdout",
     "output_type": "stream",
     "text": [
      "781/781 [==============================] - 8s 10ms/step\n",
      "(24973, 1)\n",
      "[[0.0341763 ]\n",
      " [0.03417633]\n",
      " [0.03417635]\n",
      " ...\n",
      " [0.03417888]\n",
      " [0.03417888]\n",
      " [0.0341789 ]]\n"
     ]
    }
   ],
   "source": [
    "prediction = model.predict(X_test_lim)\n",
    "print(prediction.shape)\n",
    "print(prediction)"
   ]
  },
  {
   "cell_type": "code",
   "execution_count": null,
   "metadata": {},
   "outputs": [],
   "source": [
    "sum(prediction)"
   ]
  },
  {
   "cell_type": "code",
   "execution_count": null,
   "metadata": {},
   "outputs": [],
   "source": [
    "\n",
    "wandb.login()\n",
    "def main(x=X_train, y=y_train):\n",
    "    config_defaults = {\n",
    "        \"batch_size\": 64,\n",
    "        \"epochs\": 5,\n",
    "        \"lr\": 0.003755,\n",
    "        \"head_size\": 512,\n",
    "        \"num_heads\": 2,\n",
    "        \"ff_dim\": 4,\n",
    "        \"num_transformer_blocks\": 8,\n",
    "        \"mlp_units\": 64,\n",
    "        \"mlp_dropout\": 0.2,\n",
    "        \"dropout\": 0.4\n",
    "    }\n",
    "    wandb.init(\n",
    "        # project=\"coraltransformer\", \n",
    "        config=config_defaults)\n",
    "    config = wandb.config\n",
    "    \n",
    "    # Use the config values in your model and training code\n",
    "    model = build_model(\n",
    "        input_shape = X_train.shape[1:],\n",
    "        head_size=wandb.config.head_size,\n",
    "        num_heads=wandb.config.num_heads,\n",
    "        ff_dim=wandb.config.ff_dim,\n",
    "        num_transformer_blocks=wandb.config.num_transformer_blocks,\n",
    "        mlp_units=[wandb.config.mlp_units],\n",
    "        mlp_dropout=wandb.config.mlp_dropout,\n",
    "        dropout=wandb.config.dropout\n",
    "        )\n",
    "    model.compile(\n",
    "        optimizer=keras.optimizers.Adam(learning_rate=config.lr),\n",
    "        loss=keras.losses.BinaryCrossentropy(),\n",
    "        metrics=[keras.metrics.BinaryCrossentropy()]  # Add your desired metrics here\n",
    "    )\n",
    "    \n",
    "    model.fit(\n",
    "        x=X_train[:50000],\n",
    "        y=y_train[:50000],\n",
    "        validation_split=0.2,\n",
    "        epochs=wandb.config.epochs,\n",
    "        batch_size=wandb.config.batch_size,\n",
    "        # callbacks=callbacks,\n",
    "        callbacks=[WandbMetricsLogger()],\n",
    "        workers=0\n",
    "\n",
    "    )\n",
    "\n",
    "sweep_configuration = {\n",
    "    'method': 'random',\n",
    "    'name': 'first_sweep',\n",
    "    'metric': {\n",
    "        'goal': 'minimize', \n",
    "        'name': 'epoch/binary_crossentropy'\n",
    "    },\n",
    "    'parameters': {\n",
    "        'batch_size': {'values': [16, 32, 64]},\n",
    "        'epochs': {'values': [3]},\n",
    "        'lr': {'max': 0.1, 'min': 0.0001},\n",
    "        \"head_size\": {'values': [256, 512]},\n",
    "        \"num_heads\": {'values': [2, 4, 6]},\n",
    "        \"ff_dim\": {'values': [2, 4, 6]},\n",
    "        \"num_transformer_blocks\": {'min': 2, 'max': 8},\n",
    "        \"mlp_units\": {'values': [32, 64, 128]},\n",
    "        \"mlp_dropout\": {'values': [0.2, 0.4, 0.6]},\n",
    "        \"dropout\": {'values': [0.25, 0.4, 0.5]}\n",
    "    }\n",
    "    }\n",
    "\n",
    "sweep_id = wandb.sweep(sweep_configuration, project=\"coraltransformer\")\n",
    "count = 10\n",
    "wandb.agent(sweep_id, count=count, function=main)\n"
   ]
  },
  {
   "cell_type": "code",
   "execution_count": null,
   "metadata": {},
   "outputs": [],
   "source": [
    "# Find rows where all entries in the first dimension of `array1` are zero\n",
    "rows_to_remove = np.where(np.all(X_train[:, 0, :] == 0.0, axis=1))[0]\n",
    "\n",
    "# Remove the corresponding rows from both arrays\n",
    "filtered_X_train = np.delete(X_train, rows_to_remove, axis=0)\n",
    "filtered_y_train = np.delete(y_train, rows_to_remove, axis=0)\n",
    "\n",
    "# Verify the new shapes\n",
    "print(filtered_X_train.shape)  # Updated shape of X_train\n",
    "print(filtered_y_train.shape)  # Updated shape of y_train"
   ]
  },
  {
   "cell_type": "code",
   "execution_count": null,
   "metadata": {},
   "outputs": [],
   "source": [
    "rows_to_remove"
   ]
  },
  {
   "cell_type": "code",
   "execution_count": null,
   "metadata": {},
   "outputs": [],
   "source": [
    "# callbacks = [keras.callbacks.EarlyStopping(patience=10, restore_best_weights=True)]\n",
    "\n",
    "# limit = 1000\n",
    "\n",
    "model.fit(\n",
    "    X_train_lim,\n",
    "    y_train_lim,\n",
    "    validation_split=0.2,\n",
    "    epochs=wandb.config.epochs,\n",
    "    batch_size=wandb.config.batch_size,\n",
    "    # callbacks=callbacks,\n",
    "    callbacks=[WandbMetricsLogger()]\n",
    "\n",
    ")\n",
    "\n",
    "wandb.finish()\n",
    "\n",
    "prediction = model.predict(X_test)\n",
    "print(prediction.shape)\n",
    "print(prediction)\n",
    "# model.evaluate(X_test, y_test, verbose=1)"
   ]
  },
  {
   "cell_type": "code",
   "execution_count": 102,
   "metadata": {},
   "outputs": [
    {
     "data": {
      "image/png": "[encoded data removed]",
      "text/plain": [
       "<Figure size 1600x1400 with 6 Axes>"
      ]
     },
     "metadata": {},
     "output_type": "display_data"
    }
   ],
   "source": [
    "from coralshift.plotting import spatial_plots\n",
    "\n",
    "confusion_values, vals_dict = model_results.spatial_confusion_matrix_da(\n",
    "        concatted_xa[\"prediction\"], concatted_xa[\"gt\"]\n",
    "    )\n",
    "plot_spatial_diffs(concatted_xa[\"prediction\"], concatted_xa[\"gt\"])"
   ]
  },
  {
   "cell_type": "code",
   "execution_count": 99,
   "metadata": {},
   "outputs": [
    {
     "name": "stdout",
     "output_type": "stream",
     "text": [
      "421/421 [==============================] - 4s 10ms/step\n",
      "(13465, 1)\n",
      "[[0.03417636]\n",
      " [0.03417636]\n",
      " [0.03417636]\n",
      " ...\n",
      " [0.03417702]\n",
      " [0.03417697]\n",
      " [0.03417695]]\n"
     ]
    }
   ],
   "source": [
    "train_prediction = model.predict(X_train_lim)\n",
    "print(train_prediction.shape)\n",
    "print(train_prediction)\n",
    "\n",
    "# temp_xa_train = train_xa_pp.copy()\n",
    "\n",
    "# prediction_xa = spatial_data.process_xa_d(reshape_prediction_into_ds(prediction[:,1], temp_xa))\n",
    "# binary\n",
    "# train_prediction_xa = spatial_data.process_xa_d(reshape_prediction_into_ds(train_prediction[:,0], temp_xa_train))\n",
    "\n",
    "# spatial_plots.plot_spatial(train_prediction_xa[\"prediction\"])\n",
    "\n",
    "\n",
    "# confusion_values, vals_dict = model_results.spatial_confusion_matrix_da(\n",
    "#         temp_xa_train[\"prediction\"], temp_xa_train[\"gt\"].isel(time=0)\n",
    "#     )\n",
    "# plot_spatial_diffs(train_prediction_xa[\"prediction\"], train_prediction_xa[\"gt\"].isel(time=0))\n"
   ]
  },
  {
   "cell_type": "code",
   "execution_count": null,
   "metadata": {},
   "outputs": [],
   "source": [
    "from coralshift.plotting import spatial_plots\n",
    "\n",
    "def reshape_prediction_into_ds(numpy_array, ds, newname=\"prediction\"):\n",
    "    num_lats, num_lons = len(ds[\"latitude\"].values), len(ds[\"longitude\"].values)\n",
    "\n",
    "    # Reshape the array to have the same dimensions as the dataset\n",
    "    reshaped_array = np.reshape(numpy_array, (num_lats, num_lons))\n",
    "    # Convert the reshaped array to an xarray DataArray\n",
    "    prediction_data = xa.DataArray(data = reshaped_array, \n",
    "        coords={\"latitude\": ds[\"latitude\"], \"longitude\": ds[\"longitude\"]})\n",
    "    # Append the new variable to the ds with the label \"prediction\"\n",
    "    ds[newname] = prediction_data\n",
    "\n",
    "    return ds\n",
    "\n",
    "temp_xa = test_xa_pp.copy()\n",
    "\n",
    "# prediction_xa = spatial_data.process_xa_d(reshape_prediction_into_ds(prediction[:,1], temp_xa))\n",
    "# binary\n",
    "prediction_xa = spatial_data.process_xa_d(reshape_prediction_into_ds(prediction[:,0], temp_xa))\n",
    "\n",
    "spatial_plots.plot_spatial(prediction_xa[\"prediction\"])"
   ]
  },
  {
   "cell_type": "code",
   "execution_count": 61,
   "metadata": {},
   "outputs": [
    {
     "ename": "NameError",
     "evalue": "name 'temp_xa' is not defined",
     "output_type": "error",
     "traceback": [
      "\u001b[0;31m---------------------------------------------------------------------------\u001b[0m",
      "\u001b[0;31mNameError\u001b[0m                                 Traceback (most recent call last)",
      "Cell \u001b[0;32mIn[61], line 107\u001b[0m\n\u001b[1;32m    101\u001b[0m     ax_l_b \u001b[39m=\u001b[39m fig\u001b[39m.\u001b[39madd_subplot(gs[\u001b[39m1\u001b[39m, \u001b[39m1\u001b[39m], projection\u001b[39m=\u001b[39mccrs\u001b[39m.\u001b[39mPlateCarree())\n\u001b[1;32m    102\u001b[0m     spatial_plots\u001b[39m.\u001b[39mplot_spatial(xa_d_pred, fax\u001b[39m=\u001b[39m(fig, ax_l_b), title\u001b[39m=\u001b[39m\u001b[39m\"\u001b[39m\u001b[39minferred label\u001b[39m\u001b[39m\"\u001b[39m, cbar_pad\u001b[39m=\u001b[39mcbar_pad)\n\u001b[1;32m    106\u001b[0m confusion_values, vals_dict \u001b[39m=\u001b[39m model_results\u001b[39m.\u001b[39mspatial_confusion_matrix_da(\n\u001b[0;32m--> 107\u001b[0m         temp_xa[\u001b[39m\"\u001b[39m\u001b[39mprediction\u001b[39m\u001b[39m\"\u001b[39m], temp_xa[\u001b[39m\"\u001b[39m\u001b[39mgt\u001b[39m\u001b[39m\"\u001b[39m]\u001b[39m.\u001b[39misel(time\u001b[39m=\u001b[39m\u001b[39m0\u001b[39m)\n\u001b[1;32m    108\u001b[0m     )\n\u001b[1;32m    109\u001b[0m plot_spatial_diffs(prediction_xa[\u001b[39m\"\u001b[39m\u001b[39mprediction\u001b[39m\u001b[39m\"\u001b[39m], prediction_xa[\u001b[39m\"\u001b[39m\u001b[39mgt\u001b[39m\u001b[39m\"\u001b[39m]\u001b[39m.\u001b[39misel(time\u001b[39m=\u001b[39m\u001b[39m0\u001b[39m))\n",
      "\u001b[0;31mNameError\u001b[0m: name 'temp_xa' is not defined"
     ]
    }
   ],
   "source": [
    "import seaborn as sns\n",
    "import matplotlib.colors as mcolors\n",
    "import cartopy.feature as cfeature\n",
    "import cartopy.crs as ccrs\n",
    "\n",
    "def plot_spatial_confusion(\n",
    "    xa_ds: xa.Dataset, ground_truth_var: str, predicted_var: str, vals_dict: dict, fax = None, cbar_pad = 0.1\n",
    ") -> xa.Dataset:\n",
    "    \"\"\"Plot a spatial confusion matrix based on the predicted and ground truth variables in the xarray dataset.\n",
    "\n",
    "    Parameters\n",
    "    ----------\n",
    "        xa_ds (xarray.Dataset): Input xarray dataset.\n",
    "        ground_truth_var (str): Name of the ground truth variable in the dataset.\n",
    "        predicted_var (str): Name of the predicted variable in the dataset.\n",
    "\n",
    "    Returns\n",
    "    -------    -------\n",
    "        xarray.Dataset: Updated xarray dataset with the \"comparison\" variable added.\n",
    "    \"\"\"\n",
    "    # calculate spatial confusion values and assign to new variable in Dataset\n",
    "    map_proj = ccrs.PlateCarree()\n",
    "    if not fax:\n",
    "        # may need to change this\n",
    "        fig = plt.figure(figsize=[16,8])\n",
    "        ax = plt.axes(projection=map_proj)\n",
    "    else:\n",
    "        fig = fax[0]\n",
    "        ax = fax[1]\n",
    "        \n",
    "    # from Wes Anderson: https://github.com/karthik/wesanderson/blob/master/R/colors.R\n",
    "    cmap_colors = [\"#EEEEEE\", \"#3B9AB2\", \"#78B7C5\", \"#d83c04\", \"#E1AF00\"]\n",
    "\n",
    "    im = xa_ds[\"comparison\"].plot.imshow(ax=ax, vmin=0, vmax=4, cmap = mcolors.ListedColormap(cmap_colors))\n",
    "\n",
    "    spatial_plots.format_spatial_plot(im, fig, ax, title=\"\", name=\"\", cbar=False, edgecolor=\"black\")\n",
    "    ax.set_aspect(\"equal\")\n",
    "    # remove old colorbar\n",
    "    cb = im.colorbar\n",
    "    cb.remove()\n",
    "\n",
    "    colorbar = plt.colorbar(im, ax = [ax], location = 'right', pad=cbar_pad)\n",
    "    num_ticks = len(cmap_colors)\n",
    "    vmin, vmax = colorbar.vmin, colorbar.vmax\n",
    "    colorbar.set_ticks([vmin + (vmax - vmin) / num_ticks * (0.5 + i) for i in range(num_ticks)])\n",
    "    colorbar.set_ticklabels(list(vals_dict.keys()), rotation=0)\n",
    "\n",
    "\n",
    "def model_output_to_spatial_confusion(label, prediction, lat_lims: tuple[float]=None, lon_lims: tuple[float]=None, fax=None, cbar_pad=0.1) -> None:    \n",
    "    ds = outputs_to_xa_ds(label, prediction)\n",
    "    confusion_values, vals_dict = model_results.spatial_confusion_matrix_da(\n",
    "        ds[\"predictions\"], ds[\"labels\"]\n",
    "    )\n",
    "    if lat_lims and lon_lims:\n",
    "        region = {\"latitude\": slice(min(lat_lims), max(lat_lims)), \"longitude\": slice(min(lon_lims), max(lon_lims))}\n",
    "        ds = confusion_values.sel(region)\n",
    "    ds[\"comparison\"] = confusion_values\n",
    "\n",
    "    plot_spatial_confusion(ds, \"labels\", \"predictions\", vals_dict=vals_dict, fax=fax, cbar_pad=cbar_pad)\n",
    "\n",
    "def outputs_to_xa_ds(labels, predictions) -> xa.Dataset:\n",
    "    df = pd.DataFrame({\"labels\": labels, \"predictions\": predictions})\n",
    "    return df.to_xarray().sortby([\"longitude\", \"latitude\"])\n",
    "\n",
    "\n",
    "from coralshift.plotting import model_results\n",
    "\n",
    "\n",
    "import matplotlib.gridspec as gridspec\n",
    "def plot_spatial_diffs(\n",
    "    xa_d_pred: xa.DataArray,\n",
    "    xa_d_gt: xa.DataArray,\n",
    "    figsize: tuple[float, float] = (16, 14),\n",
    "    cbar_pad: float = 0.1\n",
    ") -> None:\n",
    "    \"\"\"\n",
    "    Plot the spatial differences between predicted and ground truth data.\n",
    "\n",
    "    Parameters\n",
    "    ----------\n",
    "        xa_d_pred (xa.DataArray): Predicted data.\n",
    "        xa_d_gt (xa.DataArray): Ground truth data.\n",
    "        figsize (tuple[float, float], optional): Figure size. Default is (16, 9).\n",
    "\n",
    "    Returns\n",
    "    -------\n",
    "        None\n",
    "    \"\"\"\n",
    "    xa_diff = (xa_d_gt - xa_d_pred).rename(\"predicted/gt_residuals\")\n",
    "\n",
    "    fig = plt.figure(figsize=figsize)\n",
    "    gs = gridspec.GridSpec(2, 2)\n",
    "\n",
    "    # left plot\n",
    "    ax_r = fig.add_subplot(gs[:, 0], projection=ccrs.PlateCarree())\n",
    "    spatial_plots.plot_spatial(fax=(fig, ax_r), xa_da=xa_diff, cmap_type=\"div\", symmetric=True, cbar_pad=cbar_pad)\n",
    "\n",
    "    # right plots\n",
    "    ax_l_t = fig.add_subplot(gs[0, 1], projection=ccrs.PlateCarree())\n",
    "    spatial_plots.plot_spatial(xa_d_gt, fax=(fig, ax_l_t), title=\"ground truth\", cbar_pad=cbar_pad)\n",
    "    ax_l_b = fig.add_subplot(gs[1, 1], projection=ccrs.PlateCarree())\n",
    "    spatial_plots.plot_spatial(xa_d_pred, fax=(fig, ax_l_b), title=\"inferred label\", cbar_pad=cbar_pad)\n",
    "\n",
    "\n",
    "\n",
    "confusion_values, vals_dict = model_results.spatial_confusion_matrix_da(\n",
    "        temp_xa[\"prediction\"], temp_xa[\"gt\"].isel(time=0)\n",
    "    )\n",
    "plot_spatial_diffs(prediction_xa[\"prediction\"], prediction_xa[\"gt\"].isel(time=0))\n"
   ]
  },
  {
   "cell_type": "code",
   "execution_count": null,
   "metadata": {},
   "outputs": [],
   "source": []
  },
  {
   "cell_type": "code",
   "execution_count": null,
   "metadata": {},
   "outputs": [],
   "source": [
    "spatial_plots.plot_spatial(processed_test_xa[\"bathymetry\"].isel(time=0).sel({\"latitude\":slice(-29,-18), \"longitude\": slice(144,156)}))"
   ]
  },
  {
   "cell_type": "code",
   "execution_count": null,
   "metadata": {},
   "outputs": [],
   "source": [
    "test_xa[\"prediction\"]"
   ]
  },
  {
   "cell_type": "code",
   "execution_count": null,
   "metadata": {},
   "outputs": [],
   "source": [
    "sum(confusion_values)"
   ]
  },
  {
   "cell_type": "code",
   "execution_count": null,
   "metadata": {},
   "outputs": [],
   "source": [
    "test_xa[\"comparison\"] = confusion_values"
   ]
  },
  {
   "cell_type": "code",
   "execution_count": null,
   "metadata": {},
   "outputs": [],
   "source": [
    "sum(test_xa[\"comparison\"])"
   ]
  },
  {
   "cell_type": "code",
   "execution_count": null,
   "metadata": {},
   "outputs": [],
   "source": [
    "test_xa[\"comparison\"].plot()"
   ]
  },
  {
   "cell_type": "code",
   "execution_count": null,
   "metadata": {},
   "outputs": [],
   "source": [
    "plot_spatial_confusion(test_xa, \"gt\", \"prediction\", vals_dict=vals_dict)\n"
   ]
  },
  {
   "cell_type": "code",
   "execution_count": null,
   "metadata": {},
   "outputs": [],
   "source": [
    "(prediction_xa[\"gt\"].isel(time=0).values).flatten()"
   ]
  },
  {
   "cell_type": "code",
   "execution_count": null,
   "metadata": {},
   "outputs": [],
   "source": [
    "prediction_xa"
   ]
  },
  {
   "cell_type": "code",
   "execution_count": null,
   "metadata": {},
   "outputs": [],
   "source": [
    "np.max(prediction)"
   ]
  },
  {
   "cell_type": "code",
   "execution_count": null,
   "metadata": {},
   "outputs": [],
   "source": [
    "prediction_xa[\"gt\"].isel(time=0).values"
   ]
  },
  {
   "attachments": {},
   "cell_type": "markdown",
   "metadata": {},
   "source": [
    "# Better real data"
   ]
  },
  {
   "cell_type": "code",
   "execution_count": null,
   "metadata": {},
   "outputs": [],
   "source": [
    "\n",
    "\n",
    "\n",
    "def generate_list_net_solars(\n",
    "    regions: list[str] = [\"A\", \"B\", \"C\", \"D\"], timesample: str = \"1D\", \n",
    "    chunk_dict: dict={\"latitude\": 100, \"longitude\": 100, \"time\": 100}\n",
    "    ) -> list[xa.DataArray]:\n",
    "    era5_dir = directories.get_era5_data_dir()\n",
    "    era5_list = []\n",
    "    for region in tqdm(regions, total=len(regions), desc=f\" Processing hourly era5 data to '{timesample}' das\"):\n",
    "        region_name = bathymetry.ReefAreas().get_short_filename(region)\n",
    "        region_net_solar_path = list(\n",
    "            (era5_dir / f\"{region_name}/weather_parameters/\").glob(\"*surface_net_solar_radiation_*.nc\"))[0]\n",
    "        region_dailies = file_ops.open_xa_file(region_net_solar_path)\n",
    "        era5_list.append(region_dailies.resample(time=timesample).mean(dim=\"time\"))\n",
    "\n",
    "    return era5_list\n",
    "\n",
    "\n",
    "def generate_list_gts(regions: list[str] = [\"A\", \"B\", \"C\", \"D\"], target_resolution_d: float = 1/27, \n",
    "    chunk_dict: dict={\"latitude\": 100, \"longitude\": 100, \"time\": 100}\n",
    "    ) -> list[xa.DataArray]:\n",
    "    reef_baseline_dir = directories.get_reef_baseline_dir()\n",
    "    gt_dir = reef_baseline_dir / \"gt_files/0-0370d_arrays\"\n",
    "\n",
    "    res_string = utils.generate_resolution_str(target_resolution_d)\n",
    "    coral_list = []\n",
    "    for region in tqdm(regions, total=len(regions), desc=f\" Loading in reef presence data to das\"):\n",
    "        coral_file = list(gt_dir.glob(f\"*{region}*{res_string}*.nc\"))[0]\n",
    "        coral_list.append(file_ops.open_xa_file(coral_file))\n",
    "\n",
    "    return coral_list\n",
    "\n",
    "\n",
    "def generate_list_cmems(regions: list[str] = [\"A\", \"B\", \"C\", \"D\"], \n",
    "    chunk_dict: dict={\"latitude\": 100, \"longitude\": 100, \"time\": 100}, period: str=\"monthly\") -> list[xa.Dataset]:\n",
    "\n",
    "    if period == \"monthly\":\n",
    "        cmems_dir = directories.get_monthly_cmems_dir()\n",
    "    elif period == \"daily\":\n",
    "        cmems_dir = directories.get_daily_cmems_dir()\n",
    "    else:\n",
    "        raise ValueError(f\"Period: {period} not found.\")\n",
    "\n",
    "    filename_search = f\"cmems_gopr_{period}_*.nc\"\n",
    "\n",
    "    cmems_list = []\n",
    "    for region in tqdm(regions, total=len(regions), desc=f\" Loading in cmems {period} data to dss\"):\n",
    "        region_name = bathymetry.ReefAreas().get_short_filename(region)\n",
    "        cmems_file = list((cmems_dir / region_name).glob(filename_search))[0]\n",
    "        cmems_list.append(file_ops.open_xa_file(cmems_file).isel(depth=0))\n",
    "        \n",
    "    return cmems_list\n",
    "\n",
    "\n",
    "def generate_bath_list(regions: list[str] = [\"A\", \"B\", \"C\", \"D\"], target_resolution_d: float = 1/27,\n",
    "    chunk_dict: dict={\"latitude\": 100, \"longitude\": 100, \"time\": 100}) -> list[xa.DataArray]:\n",
    "    bath_dir = directories.get_bathymetry_datasets_dir()\n",
    "\n",
    "    res_string = utils.generate_resolution_str(target_resolution_d)\n",
    "\n",
    "    baths_list = []\n",
    "    for region in tqdm(regions, total=len(regions), desc=f\" Loading in bathymetry data to das\"):\n",
    "        region_name = bathymetry.ReefAreas().get_short_filename(region)\n",
    "        bath_file = list(bath_dir.glob(f\"{region_name}_*{res_string[:3]}*.nc\"))[0]\n",
    "        baths_list.append(file_ops.open_xa_file(bath_file))\n",
    "        \n",
    "    return baths_list\n",
    "\n",
    "\n",
    "def generate_gradients(regions: list[str] = [\"A\", \"B\", \"C\", \"D\"], target_resolution_d: float = 1/27,\n",
    "    chunk_dict: dict={\"latitude\": 100, \"longitude\": 100, \"time\": 100}) -> list[xa.DataArray]:\n",
    "    grads_dir = directories.get_gradients_dir()\n",
    "\n",
    "    res_string = utils.generate_resolution_str(target_resolution_d)\n",
    "\n",
    "    grads_list = []\n",
    "    for region in tqdm(regions, total=len(regions), desc=f\" Loading in seafloor gradients data to das\"):\n",
    "        grad_file = list(grads_dir.glob(f\"*{region}_{res_string[:5]}*.nc\"))[0]\n",
    "        grads_list.append(file_ops.open_xa_file(grad_file))\n",
    "\n",
    "    return grads_list\n",
    "\n",
    "\n",
    "def resample_list_xa_to_target(\n",
    "    xa_ds_list: list[xa.DataArray | xa.Dataset], target_resolution_d: float = 1/27, lat_lims: tuple[float] = None,\n",
    "    lon_lims: tuple[float] = None) -> list[xa.DataArray | xa.Dataset]:\n",
    "\n",
    "    for i, xa_d in tqdm(\n",
    "        enumerate(xa_ds_list), total=len(xa_ds_list), desc=f\" Resampling xa_ds to {target_resolution_d:.04f}\"):\n",
    "        # overwrite present list to save space\n",
    "        xa_ds_list[i] = spatial_data.resample_xarray_to_target(\n",
    "            xa_d, target_resolution_d=target_resolution_d, lat_lims=lat_lims, lon_lims=lon_lims)\n",
    "\n",
    "    return xa_ds_list\n",
    "\n",
    "\n",
    "def resample_and_save_to_dir(save_dir: Path | str, xa_d, target_resolution_d: float = 1/27, name: str = \"eg\",\n",
    "    lat_lims: tuple[float] = None, lon_lims: tuple[float] = None):\n",
    "    region_list = [\"A\", \"B\", \"C\", \"D\"]\n",
    "    save_dir = file_ops.guarantee_existence(save_dir)\n",
    "    # if list\n",
    "    if type(xa_d) == list:\n",
    "        for i, xa_array in tqdm(\n",
    "            enumerate(xa_d), total=len(xa_d), desc=f\" Resampling xa_ds to {target_resolution_d:.04f}\"):\n",
    "            # overwrite present list to save space\n",
    "            resampled_xa_d = spatial_data.resample_xarray_to_target(\n",
    "                xa_array, target_resolution_d=target_resolution_d, lat_lims=lat_lims, lon_lims=lon_lims)\n",
    "\n",
    "            file_ops.save_nc(save_dir, filename=f\"{name}_{region_list[i]}\", xa_d=resampled_xa_d)\n",
    "    else:\n",
    "        resampled_xa_d = spatial_data.resample_xarray_to_target(\n",
    "                xa_d, target_resolution_d=target_resolution_d, lat_lims=lat_lims, lon_lims=lon_lims)\n",
    "\n",
    "\n",
    "\n",
    "def get_files_starting_same(dir):\n",
    "    filepaths = list(dir.glob('*_*'))\n",
    "    filepaths = [str(filepath) for filepath in filepaths if filepath.is_file()]\n",
    "\n",
    "    file_dict = {}\n",
    "\n",
    "    for filepath in filepaths:\n",
    "        prefix = Path(filepath).stem.split('_')[0]\n",
    "        if prefix not in file_dict:\n",
    "            file_dict[prefix] = []\n",
    "        file_dict[prefix].append(filepath)\n",
    "\n",
    "    return file_dict\n",
    "\n",
    "\n",
    "def spatially_combine_dict_ncs_and_save(file_dict, save_dir, resolution_d:float=1/27):\n",
    "\n",
    "    save_dir = file_ops.guarantee_existence(save_dir)\n",
    "    for k, v in tqdm(file_dict.items(), desc=\" Merging and saving arrays\"):\n",
    "        array_list = []\n",
    "        for array in v:\n",
    "            array_list.append(file_ops.open_xa_file(array))\n",
    "\n",
    "        combined = spatial_data.combine_ds_tiles(array_list, resolution_d=resolution_d)\n",
    "        file_ops.save_nc(save_dir, k, combined)\n",
    "\n",
    "\n",
    "# # # bathymetry: resolution *03691*\n",
    "# bath_xas = generate_bath_list()   # done\n",
    "# # # cmems monthly (daily later). Split by region, \"cmems_gopr_monthly_X.nc\"\n",
    "# cmems_xss = generate_list_cmems() # done\n",
    "# # # gradients: bathymetry_X_0.03704_gradients.nc\n",
    "# grad_xas = generate_gradients()\n",
    "# # # reef presence: gt_files/coral_region_X_1000m_rs_0-0370d.nc\n",
    "# reef_xas = generate_list_gts()    # done\n",
    "# # # era5\n",
    "# era5_xas = generate_list_net_solars(timesample=\"1M\") # done\n",
    "\n",
    "# called with each list above\n",
    "resample_and_save_to_dir(save_dir=directories.get_datasets_dir() / \"monthly_0-037_arrays\", xa_d=reef_xas, name=\"coral\")"
   ]
  },
  {
   "cell_type": "code",
   "execution_count": null,
   "metadata": {},
   "outputs": [],
   "source": [
    "# xa.open_dataset(directories.get_datasets_dir() / \"monthly_0-037_arrays/coral_D.nc\")[\"coral_region_D_1000m_0-0370d\"].plot()\n",
    "\n",
    "# xa_d = file_ops.open_xa_file(directories.get_reef_baseline_dir() / \"gt_files\")\n",
    "# resampled = spatial_data.resample_xarray_to_target()\n",
    "\n",
    "# xa.open_dataset(directories.get_reef_baseline_dir() / \"gt_files/coral_region_B_1000m.nc\")[\"coral_region_B_1000m\"].plot()\n",
    "\n",
    "# file_dict = get_files_starting_same(directories.get_datasets_dir() / \"monthly_0-037_arrays\")\n",
    "# spatially_combine_dict_ncs_and_save(file_dict, directories.get_datasets_dir() / \"monthly_0-037_arrays/spatially_combined\")"
   ]
  },
  {
   "attachments": {},
   "cell_type": "markdown",
   "metadata": {},
   "source": [
    "## Load in nc files and cleverly cast to dfs. Either automate or hide."
   ]
  },
  {
   "cell_type": "code",
   "execution_count": null,
   "metadata": {},
   "outputs": [],
   "source": [
    "bathymetry_data = xa.open_dataset(\n",
    "    directories.get_datasets_dir() / \"monthly_0-037_arrays/spatially_combined/bathymetry.nc\").rename({\"blank\": \"bathymetry\"})\n",
    "\n",
    "\n",
    "# splitting spatially, training on North\n",
    "bath_df = baselines.xa_dss_to_df([bathymetry_data])[0]\n",
    "train_coords_list, test_coords_list = baselines.generate_test_train_coords_from_dfs(\n",
    "    [bath_df], split_type=\"spatial\", train_test_lat_divide=-18)"
   ]
  },
  {
   "cell_type": "code",
   "execution_count": null,
   "metadata": {},
   "outputs": [],
   "source": [
    "cmems_all = xa.open_dataset(\n",
    "    directories.get_datasets_dir() / \"monthly_0-037_arrays/spatially_combined/cmems.nc\")\n",
    "\n",
    "coral_all = xa.open_dataset(\n",
    "    directories.get_datasets_dir() / \"monthly_0-037_arrays/spatially_combined/coral.nc\").rename({\"coral_region_B_1000m_0-0370d\": \"gt\"})\n",
    "coral_df = baselines.xa_dss_to_df([coral_all], bath_mask=False)[0]\n",
    "solar_all = xa.open_dataset(\n",
    "    directories.get_datasets_dir() / \"monthly_0-037_arrays/spatially_combined/solar.nc\")\n",
    "\n",
    "gradients_all = xa.open_dataset(\n",
    "    directories.get_datasets_dir() / \"monthly_0-037_arrays/spatially_combined/gradients.nc\").rename({\"__xarray_dataarray_variable__\": \"gradient\"})\n",
    "grads_df = baselines.xa_dss_to_df([gradients_all], bath_mask=False)[0]"
   ]
  },
  {
   "cell_type": "code",
   "execution_count": null,
   "metadata": {},
   "outputs": [],
   "source": [
    "# dummy_xa = spatial_data.generate_dummy_xa(target_1/27, lat_lims=(-29,-10), lon_lims=(142, 156))\n",
    "target_resolution_d = 1/27\n",
    "for i, array in enumerate([cmems_all, coral_all, solar_all, gradients_all, bathymetry_data]):\n",
    "    if i == 0:\n",
    "        cmems_all_rs = spatial_data.resample_xarray_to_target(cmems_all.rio.write_crs(\"EPSG:4326\"), target_resolution_d=target_resolution_d,\n",
    "            lat_lims=(-29,-10), lon_lims=(142, 156))\n",
    "    if i == 1:\n",
    "        coral_all_rs = spatial_data.resample_xarray_to_target(coral_all.rio.write_crs(\"EPSG:4326\"), target_resolution_d=target_resolution_d,\n",
    "            lat_lims=(-29,-10), lon_lims=(142, 156))\n",
    "    if i == 2:\n",
    "        solar_all_rs = spatial_data.resample_xarray_to_target(solar_all.rio.write_crs(\"EPSG:4326\"), target_resolution_d=target_resolution_d,\n",
    "            lat_lims=(-29,-10), lon_lims=(142, 156))\n",
    "    if i == 3:\n",
    "        grads_all_rs = spatial_data.resample_xarray_to_target(gradients_all.rio.write_crs(\"EPSG:4326\"), target_resolution_d=target_resolution_d,\n",
    "            lat_lims=(-29,-10), lon_lims=(142, 156))\n",
    "    if i == 4:\n",
    "        baths_all_rs = spatial_data.resample_xarray_to_target(bathymetry_data.rio.write_crs(\"EPSG:4326\"), target_resolution_d=target_resolution_d,\n",
    "            lat_lims=(-29,-10), lon_lims=(142, 156))\n"
   ]
  },
  {
   "cell_type": "code",
   "execution_count": null,
   "metadata": {},
   "outputs": [],
   "source": [
    "solar_all_rs.resample(time=\"1MS\").mean(dim=\"time\")"
   ]
  },
  {
   "cell_type": "code",
   "execution_count": null,
   "metadata": {},
   "outputs": [],
   "source": [
    "# cmems_all_rs[\"bottomT\"].isel(time=0).plot()\n",
    "# solar_all_rs[\"ssr\"].isel(time=0).plot()\n",
    "coral_all_rs[\"gt\"].plot()"
   ]
  },
  {
   "cell_type": "code",
   "execution_count": null,
   "metadata": {},
   "outputs": [],
   "source": [
    "(solar_bath_xa,) = xa.broadcast(xa.merge([baths_all_rs, solar_all_rs]))"
   ]
  },
  {
   "cell_type": "code",
   "execution_count": null,
   "metadata": {},
   "outputs": [],
   "source": [
    "solar_bath_df = baselines.xa_dss_to_df([solar_bath_xa], bath_mask=True)[0]\n",
    "# solar_bath_df.head()"
   ]
  },
  {
   "cell_type": "code",
   "execution_count": null,
   "metadata": {},
   "outputs": [],
   "source": [
    "cmems_df = baselines.xa_dss_to_df([cmems_all_rs], bath_mask=False)[0]"
   ]
  },
  {
   "cell_type": "code",
   "execution_count": null,
   "metadata": {},
   "outputs": [],
   "source": [
    "# merge by matching coordinates\n",
    "solar_bath_cmems_df = cmems_df.join(solar_bath_df.drop(columns=[\"latitude\",\"longitude\",\"onehotnan\"]), how=\"outer\")"
   ]
  },
  {
   "cell_type": "code",
   "execution_count": null,
   "metadata": {},
   "outputs": [],
   "source": [
    "np.nansum(solar_bath_cmems_df[\"vo\"])"
   ]
  },
  {
   "cell_type": "code",
   "execution_count": null,
   "metadata": {},
   "outputs": [],
   "source": [
    "grads_df = baselines.xa_dss_to_df([grads_all_rs], bath_mask=False)[0]\n",
    "solar_bath_cmems_grads_df = solar_bath_cmems_df.join(grads_df.drop(columns=[\"latitude\",\"longitude\",\"onehotnan\"]))"
   ]
  },
  {
   "cell_type": "code",
   "execution_count": null,
   "metadata": {},
   "outputs": [],
   "source": [
    "np.nansum(solar_bath_cmems_grads_df[\"ssr\"])"
   ]
  },
  {
   "cell_type": "code",
   "execution_count": null,
   "metadata": {},
   "outputs": [],
   "source": [
    "coral_df = baselines.xa_dss_to_df([coral_all_rs], bath_mask=False)[0]\n",
    "\n",
    "all_df = solar_bath_cmems_grads_df.join(coral_df.drop(columns=[\"latitude\",\"longitude\",\"onehotnan\"]))\n",
    "all_df.head(10)"
   ]
  },
  {
   "cell_type": "code",
   "execution_count": null,
   "metadata": {},
   "outputs": [],
   "source": [
    "all_df.iloc[:100].groupby(level=[\"time\"]).mean()"
   ]
  },
  {
   "cell_type": "code",
   "execution_count": null,
   "metadata": {},
   "outputs": [],
   "source": [
    "print(\"ssr\",np.nansum(all_df[\"ssr\"]))\n",
    "print(\"gt\",np.nansum(all_df[\"gt\"]))\n",
    "print(\"bathymetry\",np.nansum(all_df[\"bathymetry\"]))\n",
    "print(\"gradient\",np.nansum(all_df[\"gradient\"]))"
   ]
  },
  {
   "attachments": {},
   "cell_type": "markdown",
   "metadata": {},
   "source": [
    "## Writing files here"
   ]
  },
  {
   "cell_type": "code",
   "execution_count": null,
   "metadata": {},
   "outputs": [],
   "source": [
    "all_df.to_pickle(directories.get_datasets_dir() / \"monthly_0-037_arrays/spatially_combined/all.pkl\")"
   ]
  },
  {
   "cell_type": "code",
   "execution_count": null,
   "metadata": {},
   "outputs": [],
   "source": [
    "processed_df = baselines.process_df_for_ml(all_df, ignore_vars=[\"latitude\", \"longitude\", \"onehotnan\"])\n",
    "# processed_df.head(10)"
   ]
  },
  {
   "cell_type": "code",
   "execution_count": null,
   "metadata": {},
   "outputs": [],
   "source": [
    "train_rows = processed_df.loc[processed_df.index.get_level_values('latitude') > -18]\n",
    "test_rows = processed_df.loc[processed_df.index.get_level_values('latitude') < -18]\n",
    "\n",
    "train_rows.to_pickle(directories.get_datasets_dir() / \"monthly_0-037_arrays/spatially_combined/train.pkl\")\n",
    "test_rows.to_pickle(directories.get_datasets_dir() / \"monthly_0-037_arrays/spatially_combined/test.pkl\")"
   ]
  }
 ],
 "metadata": {
  "kernelspec": {
   "display_name": "CORALSHIFT",
   "language": "python",
   "name": "coralshift"
  },
  "orig_nbformat": 4
 },
 "nbformat": 4,
 "nbformat_minor": 2
}
