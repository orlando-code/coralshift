{
 "cells": [
  {
   "cell_type": "code",
   "execution_count": 1,
   "metadata": {},
   "outputs": [
    {
     "name": "stdout",
     "output_type": "stream",
     "text": [
      "asdf\n"
     ]
    }
   ],
   "source": [
    "print(\"asdf\")"
   ]
  },
  {
   "cell_type": "code",
   "execution_count": null,
   "metadata": {},
   "outputs": [],
   "source": [
    "%load_ext autoreload\n",
    "%autoreload 2\n",
    "\n",
    "from datetime import datetime\n",
    "from pathlib import Path\n",
    "\n",
    "import matplotlib.pyplot as plt\n",
    "\n",
    "from coralshift.utils import file_ops\n",
    "from coralshift.dataloading import config, get_data\n",
    "\n",
    "import warnings\n",
    "warnings.filterwarnings(action=\"ignore\", category=RuntimeWarning)\n",
    "\n",
    "# # gt_data dir\n",
    "gt_data_dir = config.gt_data_dir\n",
    "\n",
    "config_info = file_ops.read_yaml(\"/maps/rt582/coralshift/runs/config_files/config_test.yaml\")\n",
    "\n",
    "from dask.distributed import get_client, Client, LocalCluster\n",
    "\n",
    "cluster = LocalCluster(n_workers=4)\n",
    "client = Client(cluster)\n",
    "# client.close()\n",
    "# cluster.close()\n",
    "\n",
    "\n",
    "from coralshift.plotting import spatial_plots\n",
    "from coralshift import functions_creche"
   ]
  },
  {
   "cell_type": "code",
   "execution_count": null,
   "metadata": {},
   "outputs": [],
   "source": [
    "curacao_config_info = file_ops.read_yaml(\"/maps/rt582/coralshift/runs/config_files/curacao.yaml\") \n",
    "\n",
    "get_data.ProcessML(config_info=curacao_config_info).get_merged_datasets()"
   ]
  },
  {
   "cell_type": "code",
   "execution_count": null,
   "metadata": {},
   "outputs": [],
   "source": [
    "config_info = file_ops.read_yaml(\"/maps/rt582/coralshift/runs/config_files/config_test.yaml\")\n",
    "\n",
    "(trains, tests, vals), ds_info = get_data.ProcessML(\n",
    "    model_data=config_info[\"ds_type\"],\n",
    "    datasets=config_info[\"datasets\"],\n",
    "    train_test_val_frac=config_info[\"train_test_val_frac\"],\n",
    "    X_scaler=config_info[\"predictor_scaler\"],\n",
    "    y_scaler=config_info[\"predictand_scaler\"],\n",
    "    split_type=config_info[\"split_type\"],\n",
    "    depth_mask_lims=config_info[\"depth_mask_lims\"],\n",
    "    lats=config_info[\"lats\"],\n",
    "    lons=config_info[\"lons\"],\n",
    "    levs=config_info[\"levs\"],\n",
    "    resolution=config_info[\"resolution\"],\n",
    "    pos_neg_ratio=config_info[\"pos_neg_ratio\"],\n",
    "    resolution_unit=config_info[\"resolution_unit\"],\n",
    "    upsample_method=config_info[\"upsample_method\"],\n",
    "    downsample_method=config_info[\"downsample_method\"],\n",
    "    env_vars=config_info[\"env_vars\"],\n",
    "    predictand=config_info[\"predictand\"],\n",
    "    random_state=config_info[\"random_state\"],\n",
    ").generate_ml_ready_data()"
   ]
  },
  {
   "cell_type": "code",
   "execution_count": null,
   "metadata": {},
   "outputs": [],
   "source": [
    "config_info = file_ops.read_yaml(\"/maps/rt582/coralshift/runs/config_files/config_test.yaml\")\n",
    "\n",
    "model = get_data.RunML(\n",
    "    trains=trains,\n",
    "    tests=tests,\n",
    "    vals=vals,\n",
    "    # regressor_classification_threshold=config_info[\"regressor_classification_threshold\"],\n",
    "    # n_samples=config_info[\"hyperparameter_search\"][\"n_samples\"],\n",
    "    # model_code=config_info[\"model_code\"],\n",
    "    # cv_folds=config_info[\"hyperparameter_search\"][\"cv_folds\"],\n",
    "    # n_iter=config_info[\"hyperparameter_search\"][\"n_iter\"],\n",
    "    # do_search=config_info[\"hyperparameter_search\"][\"do_search\"],\n",
    "    # do_save_model=config_info[\"do_save_model\"],\n",
    "    # do_train=config_info[\"do_train\"],\n",
    "    # param_search_type=config_info[\"hyperparameter_search\"][\"type\"],\n",
    "    config_info=config_info,\n",
    "    additional_info=ds_info).run_model()"
   ]
  },
  {
   "cell_type": "code",
   "execution_count": null,
   "metadata": {},
   "outputs": [],
   "source": [
    "y = tests[1]\n",
    "predictions = get_data.AnalyseResults(\n",
    "    model=model,\n",
    "    trains=trains,\n",
    "    tests=tests,\n",
    "    vals=vals,\n",
    "    config_info=file_ops.read_yaml(\"/maps/rt582/coralshift/runs/0-05d/xgb_reg/ID005_cmip6_unep_gebco_CONFIG.yaml\")).make_predictions(tests[0])\n",
    "\n",
    "conf_vals = get_data.AnalyseResults(\n",
    "    model=model,\n",
    "    trains=trains,\n",
    "    tests=tests,\n",
    "    vals=vals,\n",
    "    config_info=file_ops.read_yaml(\"/maps/rt582/coralshift/runs/0-05d/xgb_reg/ID005_cmip6_unep_gebco_CONFIG.yaml\")).produce_plots(y, predictions)"
   ]
  },
  {
   "cell_type": "code",
   "execution_count": null,
   "metadata": {},
   "outputs": [],
   "source": [
    "get_data.AnalyseResults(\n",
    "    model=model,\n",
    "    trains=trains,\n",
    "    tests=tests,\n",
    "    vals=vals,\n",
    "    config_info=file_ops.read_yaml(\"/maps/rt582/coralshift/runs/0-05d/xgb_reg/ID005_cmip6_unep_gebco_CONFIG.yaml\")).analyse_results()"
   ]
  },
  {
   "cell_type": "code",
   "execution_count": null,
   "metadata": {},
   "outputs": [],
   "source": [
    "from coralshift.processing import spatial_data\n",
    "import cartopy.crs as ccrs\n",
    "\n",
    "result = spatial_data.spatial_predictions_from_data(y, predictions)\n",
    "\n",
    "fig, axes = plt.subplots(ncols=2, figsize=[20,10], subplot_kw={\"projection\": ccrs.PlateCarree()})\n",
    "spatial_plots.plot_spatial(result[\"label\"], fax=(fig,axes[0]))\n",
    "spatial_plots.plot_spatial(result[\"predictions\"], fax=(fig,axes[1]))"
   ]
  },
  {
   "cell_type": "code",
   "execution_count": null,
   "metadata": {},
   "outputs": [],
   "source": [
    "max(y)"
   ]
  },
  {
   "cell_type": "code",
   "execution_count": null,
   "metadata": {},
   "outputs": [],
   "source": [
    "predictions"
   ]
  },
  {
   "cell_type": "code",
   "execution_count": null,
   "metadata": {},
   "outputs": [],
   "source": [
    "sum(sum(conf_vals.values == 4))"
   ]
  },
  {
   "cell_type": "code",
   "execution_count": null,
   "metadata": {},
   "outputs": [],
   "source": [
    "plt.hist(conf_vals.values.flatten())"
   ]
  },
  {
   "cell_type": "code",
   "execution_count": null,
   "metadata": {},
   "outputs": [],
   "source": [
    "get_data.AnalyseResults(\n",
    "    model=model,\n",
    "    trains=trains,\n",
    "    tests=tests,\n",
    "    vals=vals,\n",
    "    config_info=file_ops.read_yaml(\"/maps/rt582/coralshift/runs/0-05d/xgb_reg/ID003_cmip6_unep_gebco_CONFIG.yaml\")).analyse_results()"
   ]
  },
  {
   "cell_type": "code",
   "execution_count": null,
   "metadata": {},
   "outputs": [],
   "source": [
    "file_ops.read_pkl(\"/maps/rt582/coralshift/runs/0-05d/xgb_reg/ID003_cmip6_unep_gebco_MODEL.pickle\")"
   ]
  },
  {
   "cell_type": "code",
   "execution_count": null,
   "metadata": {},
   "outputs": [],
   "source": [
    "model.get_score()"
   ]
  },
  {
   "cell_type": "code",
   "execution_count": null,
   "metadata": {},
   "outputs": [],
   "source": [
    "trains([0][\"elevation\"])"
   ]
  },
  {
   "cell_type": "code",
   "execution_count": null,
   "metadata": {},
   "outputs": [],
   "source": [
    "trains[0][\"elevation\"]"
   ]
  },
  {
   "cell_type": "code",
   "execution_count": null,
   "metadata": {},
   "outputs": [],
   "source": [
    "merged = get_data.ProcessML(\n",
    "    model_data=config_info[\"ds_type\"],\n",
    "    datasets=config_info[\"datasets\"],\n",
    "    train_test_val_frac=config_info[\"train_test_val_frac\"],\n",
    "    X_scaler=config_info[\"predictor_scaler\"],\n",
    "    y_scaler=config_info[\"predictand_scaler\"],\n",
    "    split_type=config_info[\"split_type\"],\n",
    "    depth_mask_lims=config_info[\"depth_mask_lims\"],\n",
    "    lats=config_info[\"lats\"],\n",
    "    lons=config_info[\"lons\"],\n",
    "    levs=config_info[\"levs\"],\n",
    "    resolution=config_info[\"resolution\"],\n",
    "    pos_neg_ratio=config_info[\"pos_neg_ratio\"],\n",
    "    resolution_unit=config_info[\"resolution_unit\"],\n",
    "    upsample_method=config_info[\"upsample_method\"],\n",
    "    downsample_method=config_info[\"downsample_method\"],\n",
    "    env_vars=config_info[\"env_vars\"],\n",
    "    predictand=config_info[\"predictand\"],\n",
    "    random_state=config_info[\"random_state\"],\n",
    ").get_merged_datasets()"
   ]
  },
  {
   "cell_type": "code",
   "execution_count": null,
   "metadata": {},
   "outputs": [],
   "source": [
    "spatial_plots.plot_spatial(merged[\"mlotst_january_mean\"])"
   ]
  },
  {
   "cell_type": "code",
   "execution_count": null,
   "metadata": {},
   "outputs": [],
   "source": [
    "# process data for ml\n",
    "config_info = file_ops.read_yaml(\"/maps/rt582/coralshift/config_test.yaml\")\n",
    "\n",
    "trains, tests, vals = get_data.ProcessML(\n",
    "    model_data=config_info[\"ds_type\"],\n",
    "    datasets=config_info[\"datasets\"],\n",
    "    train_test_val_frac=config_info[\"train_test_val_frac\"],\n",
    "    X_scaler=config_info[\"predictor_scaler\"],\n",
    "    y_scaler=config_info[\"predictand_scaler\"],\n",
    "    split_type=config_info[\"split_type\"],\n",
    "    depth_mask_lims=config_info[\"depth_mask_lims\"],\n",
    "    lats=config_info[\"lats\"],\n",
    "    lons=config_info[\"lons\"],\n",
    "    levs=config_info[\"levs\"],\n",
    "    resolution=config_info[\"resolution\"],\n",
    "    pos_neg_ratio=config_info[\"pos_neg_ratio\"],\n",
    "    resolution_unit=config_info[\"resolution_unit\"],\n",
    "    upsample_method=config_info[\"upsample_method\"],\n",
    "    downsample_method=config_info[\"downsample_method\"],\n",
    "    env_vars=config_info[\"env_vars\"],\n",
    "    predictand=config_info[\"predictand\"],\n",
    "    random_state=config_info[\"random_state\"],\n",
    ").generate_ml_ready_data()"
   ]
  },
  {
   "cell_type": "code",
   "execution_count": null,
   "metadata": {},
   "outputs": [],
   "source": [
    "trains[1]"
   ]
  },
  {
   "cell_type": "code",
   "execution_count": null,
   "metadata": {},
   "outputs": [],
   "source": [
    "functions_creche.calc_non_zero_ratio(trains[1])"
   ]
  },
  {
   "cell_type": "code",
   "execution_count": null,
   "metadata": {},
   "outputs": [],
   "source": [
    "out = functions_creche.pd_to_array(trains[1])\n",
    "spatial_plots.plot_spatial(out, title=\"UNEP_GDCR\")"
   ]
  },
  {
   "cell_type": "code",
   "execution_count": null,
   "metadata": {},
   "outputs": [],
   "source": []
  },
  {
   "cell_type": "code",
   "execution_count": null,
   "metadata": {},
   "outputs": [],
   "source": [
    "config_info = file_ops.read_yaml(\"/maps/rt582/coralshift/config_test.yaml\")\n",
    "# raster = get_data.ReturnRaster(dataset=\"cmip6\", config_info=config_info).get_raw_raster()\n",
    "resampled = get_data.ReturnRaster(dataset=\"gebco\", config_info=config_info).return_raster()\n",
    "# spatial_plots.plot_spatial(resampled[\"mlotst_january_mean\"])"
   ]
  },
  {
   "cell_type": "code",
   "execution_count": null,
   "metadata": {},
   "outputs": [],
   "source": []
  },
  {
   "cell_type": "code",
   "execution_count": null,
   "metadata": {},
   "outputs": [],
   "source": [
    "cmip = get_data.ReturnRaster(\n",
    "    dataset=\"cmip6\",\n",
    "    config_info=config_info).return_raster()\n",
    "# cmip[\"mlotst_january_mean\"].plot()\n",
    "\n",
    "spatial_plots.plot_spatial(cmip[\"mlotst_january_mean\"])"
   ]
  },
  {
   "cell_type": "code",
   "execution_count": null,
   "metadata": {},
   "outputs": [],
   "source": [
    "cmip"
   ]
  },
  {
   "cell_type": "code",
   "execution_count": null,
   "metadata": {},
   "outputs": [],
   "source": [
    "cmip = get_data.ReturnRaster(\n",
    "    dataset=\"cmip6\",\n",
    "    config_info=config_info).get_raw_raster()\n",
    "cmip = get_data.ReturnRaster(\n",
    "    dataset=\"cmip6\",\n",
    "    config_info=config_info).get_spatially_buffered_raster(cmip)\n",
    "\n",
    "spatial_plots.plot_spatial(cmip[\"mlotst_january_mean\"], figsize=[2,2])"
   ]
  },
  {
   "cell_type": "code",
   "execution_count": null,
   "metadata": {},
   "outputs": [],
   "source": [
    "cmip.isel(latitude=slice(1,6), longitude=slice(1,6))"
   ]
  },
  {
   "cell_type": "code",
   "execution_count": null,
   "metadata": {},
   "outputs": [],
   "source": [
    "cmip[\"mlotst_april_max\"].isel(latitude=slice(100,105), longitude=slice(100,105))"
   ]
  },
  {
   "cell_type": "code",
   "execution_count": null,
   "metadata": {},
   "outputs": [],
   "source": [
    "spatial_plots.plot_spatial(cmip[\"mlotst_april_max\"]\n",
    "    .isel(latitude=slice(100,105), longitude=slice(100,105))\n",
    "    )"
   ]
  },
  {
   "cell_type": "code",
   "execution_count": null,
   "metadata": {},
   "outputs": [],
   "source": [
    "lats = cmip.latitude.values\n",
    "lons = cmip.longitude.values\n",
    "\n",
    "from coralshift.processing import spatial_data\n",
    "\n",
    "regrid_cmip = functions_creche.xesmf_regrid(cmip, lat_range=(min(lats), max(lats)), lon_range=(min(lons), max(lons)), resolution=1)\n",
    "# regrid_cmip = regrid_cmip.rename({\"x\": \"longitude\", \"y\": \"latitude\", \"lon\": \"longitude\", \"lat\": \"latitude\"})\n",
    "regrid_cmip"
   ]
  },
  {
   "cell_type": "code",
   "execution_count": null,
   "metadata": {},
   "outputs": [],
   "source": [
    "regrid_unep = functions_creche.xesmf_regrid(unep_pointzero1, lat_range=(min(lats), max(lats)), lon_range=(min(lons), max(lons)), resolution=1)"
   ]
  },
  {
   "cell_type": "code",
   "execution_count": null,
   "metadata": {},
   "outputs": [],
   "source": [
    "spatial_plots.plot_spatial(regrid_cmip[\"mlotst_april_max\"])"
   ]
  },
  {
   "cell_type": "code",
   "execution_count": null,
   "metadata": {},
   "outputs": [],
   "source": [
    "spatial_plots.plot_spatial(regrid_unep[\"UNEP_GDCR\"])"
   ]
  },
  {
   "cell_type": "code",
   "execution_count": null,
   "metadata": {},
   "outputs": [],
   "source": [
    "lats = cmip[\"mlotst_january_mean\"].latitude.values\n",
    "lons = cmip[\"mlotst_january_mean\"].longitude.values\n",
    "resampled = functions_creche.xesmf_regrid(cmip, lat_range=(min(lats),max(lats)), lon_range=(min(lons),max(lons)), resolution=1)"
   ]
  },
  {
   "cell_type": "code",
   "execution_count": null,
   "metadata": {},
   "outputs": [],
   "source": [
    "import xarray as xa\n",
    "\n",
    "new_ds = resampled.copy()\n",
    "new_ds = new_ds.rename({\"x\": \"longitude\", \"y\": \"latitude\"})\n",
    "new_ds\n",
    "# new_ds.coords[\"longitude\"] = cmip[\"mlotst_january_mean\"].lon.values[0,:]\n",
    "# new_ds.coords[\"latitude\"] = cmip[\"mlotst_january_mean\"].lat.values[:,0]\n",
    "\n",
    "# new_ds.reset_coords([\"lon\", \"lat\"], drop=True)\n",
    "# new_ds.drop_dims([\"x\", \"y\"])"
   ]
  },
  {
   "cell_type": "code",
   "execution_count": null,
   "metadata": {},
   "outputs": [],
   "source": [
    "# rename x and y to lon and lat\n",
    "new_ds = new_ds.rename({\"x\": \"longitude\", \"y\": \"latitude\"})\n",
    "new_ds"
   ]
  },
  {
   "cell_type": "code",
   "execution_count": null,
   "metadata": {},
   "outputs": [],
   "source": [
    "from coralshift.plotting import spatial_plots\n",
    "spatial_plots.plot_spatial(new_ds[\"mlotst_january_mean\"])"
   ]
  },
  {
   "cell_type": "code",
   "execution_count": null,
   "metadata": {},
   "outputs": [],
   "source": [
    "unep = get_data.ReturnRaster(\n",
    "    dataset=\"unep\",\n",
    "    config_info=config_info).return_raster()\n",
    "unep[\"UNEP_GDCR\"].plot()"
   ]
  },
  {
   "cell_type": "code",
   "execution_count": null,
   "metadata": {},
   "outputs": [],
   "source": [
    "gebco"
   ]
  },
  {
   "cell_type": "code",
   "execution_count": null,
   "metadata": {},
   "outputs": [],
   "source": [
    "gebco = get_data.ReturnRaster(\n",
    "    dataset=\"gebco\",\n",
    "    config_info=config_info).return_raster()\n",
    "gebco[\"elevation\"].plot()"
   ]
  },
  {
   "cell_type": "code",
   "execution_count": null,
   "metadata": {},
   "outputs": [],
   "source": [
    "gebco[\"elevation\"].values"
   ]
  },
  {
   "cell_type": "code",
   "execution_count": null,
   "metadata": {},
   "outputs": [],
   "source": [
    "gebco"
   ]
  },
  {
   "cell_type": "code",
   "execution_count": null,
   "metadata": {},
   "outputs": [],
   "source": [
    "from coralshift.plotting import spatial_plots\n",
    "spatial_plots.plot_spatial(gebco[\"elevation\"])"
   ]
  },
  {
   "cell_type": "code",
   "execution_count": null,
   "metadata": {},
   "outputs": [],
   "source": [
    "unep"
   ]
  },
  {
   "cell_type": "code",
   "execution_count": null,
   "metadata": {},
   "outputs": [],
   "source": [
    "gebco"
   ]
  },
  {
   "cell_type": "code",
   "execution_count": null,
   "metadata": {},
   "outputs": [],
   "source": [
    "cmip"
   ]
  },
  {
   "cell_type": "code",
   "execution_count": null,
   "metadata": {},
   "outputs": [],
   "source": [
    "c"
   ]
  },
  {
   "cell_type": "code",
   "execution_count": null,
   "metadata": {},
   "outputs": [],
   "source": [
    "cmip.reset_coords()[\"mlotst_january_mean\"].plot()"
   ]
  },
  {
   "cell_type": "code",
   "execution_count": null,
   "metadata": {},
   "outputs": [],
   "source": [
    "reseted = cmip.reset_coords()"
   ]
  },
  {
   "cell_type": "code",
   "execution_count": null,
   "metadata": {},
   "outputs": [],
   "source": [
    "ds = reseted.assign_coords(latitude=reseted.lat, longitude=reseted.lon)\n"
   ]
  },
  {
   "cell_type": "code",
   "execution_count": null,
   "metadata": {},
   "outputs": [],
   "source": [
    "ds"
   ]
  },
  {
   "cell_type": "code",
   "execution_count": null,
   "metadata": {},
   "outputs": [],
   "source": [
    "ds.latitude.values[:,0]"
   ]
  },
  {
   "cell_type": "code",
   "execution_count": null,
   "metadata": {},
   "outputs": [],
   "source": [
    "ds[\"mlotst_january_mean\"].values"
   ]
  },
  {
   "cell_type": "code",
   "execution_count": null,
   "metadata": {},
   "outputs": [],
   "source": [
    "lat_vals = list(ds.latitude.values[:,0])\n",
    "lon_vals = list(ds.longitude.values[0,:])\n",
    "\n",
    "out = xa.Dataset(\n",
    "    {'data': (['latitude', 'longitude'], [lat_vals], [lon_vals])},  # Example data variable\n",
    "    coords={'latitude': lat_vals, 'longitude': lon_vals}\n",
    ")\n",
    "\n",
    "# ds = xr.Dataset(\n",
    "#     {'data': (['latitude', 'longitude'], [[1, 2, 3, 4], [5, 6, 7, 8]])},  # Example data variable\n",
    "#     coords={'latitude': latitude_values, 'longitude': longitude_values}\n",
    "# )"
   ]
  },
  {
   "cell_type": "code",
   "execution_count": null,
   "metadata": {},
   "outputs": [],
   "source": [
    "\n",
    "ds.longitude.values[0,:]\n"
   ]
  },
  {
   "cell_type": "code",
   "execution_count": null,
   "metadata": {},
   "outputs": [],
   "source": [
    "import cartopy.crs as ccrs\n",
    "ax = plt.axes(projection=ccrs.PlateCarree())\n",
    "\n",
    "cmip[\"mlotst_january_mean\"].plot.pcolormesh(\n",
    "    ax=ax, transform=ccrs.PlateCarree(), x=\"lon\", y=\"lat\", add_colorbar=False\n",
    ")"
   ]
  },
  {
   "cell_type": "code",
   "execution_count": null,
   "metadata": {},
   "outputs": [],
   "source": [
    "import xarray as xa\n",
    "# merged = xa.merge([gebco[\"elevation\"], cmip[\"mlotst_january_mean\"]])\n",
    "merged = xa.merge([gebco[\"elevation\"], unep[\"UNEP_GDCR\"]])\n",
    "merged[\"elevation\"].plot()"
   ]
  },
  {
   "cell_type": "code",
   "execution_count": null,
   "metadata": {},
   "outputs": [],
   "source": [
    "resampled = get_data.ProcessML(\n",
    "    config_info=config_info,\n",
    "    datasets=[\"gebco\"]\n",
    ").get_merged_datasets()\n",
    "resampled[\"elevation\"].plot()"
   ]
  },
  {
   "cell_type": "code",
   "execution_count": null,
   "metadata": {},
   "outputs": [],
   "source": [
    "trains"
   ]
  },
  {
   "cell_type": "code",
   "execution_count": null,
   "metadata": {},
   "outputs": [],
   "source": [
    "from coralshift import functions_creche\n",
    "out = functions_creche.pd_to_array(trains[1])\n",
    "\n",
    "out.plot()"
   ]
  },
  {
   "cell_type": "code",
   "execution_count": null,
   "metadata": {},
   "outputs": [],
   "source": [
    "# cast dataframe to xarray dataset\n",
    "\n",
    "trains[0][\"mlotst_april_max\"].to_xarray().plot()"
   ]
  },
  {
   "cell_type": "code",
   "execution_count": null,
   "metadata": {},
   "outputs": [],
   "source": [
    "trains[0].to_xarray()"
   ]
  },
  {
   "cell_type": "code",
   "execution_count": null,
   "metadata": {},
   "outputs": [],
   "source": [
    "df = ds.to_dataframe().dropna()"
   ]
  },
  {
   "cell_type": "code",
   "execution_count": null,
   "metadata": {},
   "outputs": [],
   "source": [
    "from coralshift import functions_creche\n",
    "functions_creche.adaptive_depth_mask(df, depth_mask_lims=[-50,0], pos_neg_ratio=0.5)"
   ]
  },
  {
   "cell_type": "code",
   "execution_count": null,
   "metadata": {},
   "outputs": [],
   "source": [
    "def compute_value(x, proportion=0.1):\n",
    "    if isinstance(x, float):\n",
    "        return proportion * x\n",
    "    elif isinstance(x, int):\n",
    "        # Find the closest integer to proportion of the value (which isn't x)\n",
    "        if x > 0:\n",
    "            return round(x + proportion)\n",
    "        elif x < 0:\n",
    "            return round(x - proportion)\n",
    "        else:\n",
    "            return proportion  # Special case when x is 0\n",
    "    else:\n",
    "        raise ValueError(\"Input must be either float or integer\")\n",
    "\n",
    "def generate_gridsearch_parameter_grid(params_dict: dict, num_samples: int = 2) -> dict:\n",
    "    grid_params = {}\n",
    "    for key, value in params_dict.items():\n",
    "        if key == \"verbose\":\n",
    "            grid_params[key] = [value]\n",
    "        elif isinstance(value, bool) or isinstance(value, str):\n",
    "            grid_params[key] = [value]\n",
    "        elif isinstance(value, int) or isinstance(value, float):\n",
    "            if num_samples == 0:\n",
    "                raise ValueError(\"num_samples cannot be zero\")\n",
    "            elif num_samples % 2 == 0:\n",
    "                # For even num_samples, space the values around the original value\n",
    "                step = compute_value(value)\n",
    "                above_below_values = [value + 1 for value in values] + [value - 1 for value in values]\n",
    "                # Ensure all remains as int if they started off that way\n",
    "                if isinstance(value, int):\n",
    "                    values = [int(val) for val in values]\n",
    "                grid_params[key] = values\n",
    "            else:\n",
    "                # For odd num_samples, include the original value and have equal steps around it\n",
    "                step = round(abs(value) / (num_samples // 2), 2)\n",
    "                values = [\n",
    "                    round(value - step * i, 2)\n",
    "                    for i in range(num_samples // 2, -num_samples // 2 - 1, -1)\n",
    "                ]\n",
    "                # Ensure all remains as int if they started off that way\n",
    "                if isinstance(value, int):\n",
    "                    values = [int(val) for val in values]\n",
    "                grid_params[key] = values\n",
    "    return grid_params\n",
    "\n",
    "\n",
    "params_dict = {\"val\": 2}\n",
    "\n",
    "generate_gridsearch_parameter_grid(params_dict, num_samples=2)"
   ]
  },
  {
   "cell_type": "code",
   "execution_count": null,
   "metadata": {},
   "outputs": [],
   "source": [
    "# config_info = file_ops.read_yaml(\"/maps/rt582/coralshift/runs/0-1d/xgb_reg/ID002_cmip6_unep_gebco_CONFIG.yaml\")\n",
    "config_info = file_ops.read_yaml(\"/maps/rt582/coralshift/config_test.yaml\")\n",
    "model = get_data.RunML(\n",
    "    trains=trains,\n",
    "    tests=tests,\n",
    "    vals=vals,\n",
    "    # regressor_classification_threshold=config_info[\"regressor_classification_threshold\"],\n",
    "    # n_samples=config_info[\"hyperparameter_search\"][\"n_samples\"],\n",
    "    # model_code=config_info[\"model_code\"],\n",
    "    # cv_folds=config_info[\"hyperparameter_search\"][\"cv_folds\"],\n",
    "    # n_iter=config_info[\"hyperparameter_search\"][\"n_iter\"],\n",
    "    # do_search=config_info[\"hyperparameter_search\"][\"do_search\"],\n",
    "    # do_save_model=config_info[\"do_save_model\"],\n",
    "    # do_train=config_info[\"do_train\"],\n",
    "    # param_search_type=config_info[\"hyperparameter_search\"][\"type\"],\n",
    "    config_info=config_info).run_model()"
   ]
  },
  {
   "cell_type": "code",
   "execution_count": null,
   "metadata": {},
   "outputs": [],
   "source": [
    "config_info = file_ops.read_yaml(\"/maps/rt582/coralshift/config_test.yaml\")\n",
    "# check if grid and random search are in search_types\n",
    "\"grid\" and \"asdf\" in config_info[\"hyperparameter_search\"][\"search_types\"]"
   ]
  },
  {
   "cell_type": "code",
   "execution_count": null,
   "metadata": {},
   "outputs": [],
   "source": [
    "model = file_ops.read_pkl(\"/maps/rt582/coralshift/runs/0-1d/xgb_reg/ID004_cmip6_unep_gebco_MODEL.pickle\")\n",
    "confusion_values = get_data.AnalyseResults(\n",
    "    model=model,\n",
    "    trains=trains,\n",
    "    tests=tests,\n",
    "    vals=vals,\n",
    "    conf_mat=True,\n",
    "    config_info=file_ops.read_yaml(\"/maps/rt582/coralshift/runs/0-1d/xgb_reg/ID002_cmip6_unep_gebco_CONFIG.yaml\")\n",
    ").plot_spatial_confusion_matrix(X=trains[0], y=trains[1])"
   ]
  },
  {
   "cell_type": "code",
   "execution_count": null,
   "metadata": {},
   "outputs": [],
   "source": [
    "model = file_ops.read_pkl(\"/maps/rt582/coralshift/runs/0-1d/gb_reg/ID002_cmip6_unep_gebco_MODEL.pickle\")\n",
    "\n",
    "ar_object = get_data.AnalyseResults(\n",
    "    model=model,\n",
    "    trains=trains,\n",
    "    tests=tests,\n",
    "    vals=vals,\n",
    "    conf_mat=True,\n",
    "    config_info=file_ops.read_yaml(\"/maps/rt582/coralshift/runs/0-1d/gb_reg/ID002_cmip6_unep_gebco_CONFIG.yaml\")\n",
    ")\n",
    "\n",
    "\n",
    "predictions = ar_object.make_predictions(trains[0])\n",
    "ar_object.plot_regression(y=trains[1], predictions=predictions)\n",
    "\n",
    "# confusion_values = get_data.AnalyseResults(\n",
    "#     model=model,\n",
    "#     trains=trains,\n",
    "#     tests=tests,\n",
    "#     vals=vals,\n",
    "#     conf_mat=True,\n",
    "#     config_info=file_ops.read_yaml(\"/maps/rt582/coralshift/runs/0-1d/gb_reg/ID002_cmip6_unep_gebco_CONFIG.yaml\")\n",
    "# ).plot_regression(y=trains[1], predictions=predictions)"
   ]
  },
  {
   "cell_type": "code",
   "execution_count": null,
   "metadata": {},
   "outputs": [],
   "source": [
    "model = file_ops.read_pkl(\"/maps/rt582/coralshift/runs/0-1d/gb_reg/ID002_cmip6_unep_gebco_MODEL.pickle\")\n",
    "confusion_values = get_data.AnalyseResults(\n",
    "    model=model,\n",
    "    trains=trains,\n",
    "    tests=tests,\n",
    "    vals=vals,\n",
    "    conf_mat=True,\n",
    "    config_info=file_ops.read_yaml(\"/maps/rt582/coralshift/runs/0-1d/gb_reg/ID002_cmip6_unep_gebco_CONFIG.yaml\")\n",
    ").analyse_results()"
   ]
  },
  {
   "cell_type": "code",
   "execution_count": null,
   "metadata": {},
   "outputs": [],
   "source": [
    "predictions = get_data.AnalyseResults(\n",
    "    model=model,\n",
    "    trains=trains,\n",
    "    tests=tests,\n",
    "    vals=vals,\n",
    "    conf_mat=True,\n",
    "    config_info=file_ops.read_yaml(\"/maps/rt582/coralshift/runs/0-1d/xgb_reg/ID000_cmip6_unep_gebco_CONFIG.yaml\")\n",
    ").plot_confusion_matrix(X=trains[0], y=trains[1])\n"
   ]
  },
  {
   "cell_type": "code",
   "execution_count": null,
   "metadata": {},
   "outputs": [],
   "source": [
    "model_config_fps = [\n",
    "    \"/maps/rt582/coralshift/runs/0-1d/mlp_cf/ID000_cmip6_unep_gebco_CONFIG.yaml\",\n",
    "    \"/maps/rt582/coralshift/runs/0-1d/mlp_reg/ID00_cmip6_unep_gebco_CONFIG.yaml\"\n",
    "]\n",
    "\n",
    "get_data.run_config_files(model_config_fps)"
   ]
  },
  {
   "cell_type": "code",
   "execution_count": null,
   "metadata": {},
   "outputs": [],
   "source": [
    "fig, ax = plt.subplots(dpi=300)\n",
    "\n",
    "from coralshift.plotting import spatial_plots\n",
    "from sklearn.metrics import confusion_matrix, ConfusionMatrixDisplay\n",
    "\n",
    "cmap = spatial_plots.get_cbar()\n",
    "\n",
    "thresholded_pred = functions_creche.cont_to_class(\n",
    "                    predictions, config_info[\"regressor_classification_threshold\"]\n",
    "                )\n",
    "thresholded_act = functions_creche.cont_to_class(\n",
    "                    trains[1], config_info[\"regressor_classification_threshold\"]\n",
    "                )\n",
    "\n",
    "cm = confusion_matrix(thresholded_act, thresholded_pred, labels=[0, 1], normalize=\"true\")\n",
    "disp = ConfusionMatrixDisplay(confusion_matrix=cm,\n",
    "                               display_labels=[\"absence\", \"presence\"],\n",
    "                             )\n",
    "\n",
    "functions_creche.customize_plot_colors(fig,ax)\n",
    "disp.plot(ax=ax, cmap=cmap, text_kw={\"c\":\"k\", \"size\": 16, \"visible\": True}, colorbar=False)\n",
    "\n",
    "ax.set_xlabel('');\n",
    "ax.set_ylabel('');\n",
    "# print(\"Threshold: {}\".format(threshold))"
   ]
  },
  {
   "cell_type": "code",
   "execution_count": null,
   "metadata": {},
   "outputs": [],
   "source": [
    "from coralshift import functions_creche\n",
    "plt.hist(functions_creche.cont_to_class(tests[1], 0.1))"
   ]
  },
  {
   "cell_type": "code",
   "execution_count": null,
   "metadata": {},
   "outputs": [],
   "source": [
    "plt.hist(tests[1])"
   ]
  },
  {
   "cell_type": "markdown",
   "metadata": {},
   "source": [
    "## Collate data\n",
    "First check that data for current extent exists.\n",
    "\n",
    "- Ground truths\n",
    "    - UNEP-WCMC – look for raster at correct resolution. If not exists, generate and save\n",
    "    - TODO: ACA – look for raster at\n",
    "- Bathymetry\n",
    "    - GEBCO – look for raster covering correct area. If not exists, look for .nc with correct (subsetting) extent. If this not present, throw error.\n",
    "- Environmental variables\n",
    "    - CMIP – look in env_vars subdirs for dir with encapsulating all of spatial_extent. If not exists, throw error. If exists, look for rf_all_vars_{res}_{extent}.nc file where extent fully encapsulates spatial_extent. If not exists, create from concatted_vars folder."
   ]
  },
  {
   "cell_type": "code",
   "execution_count": null,
   "metadata": {},
   "outputs": [],
   "source": [
    "# example loading in ground truth at required resolution\n",
    "unep = get_data.ReturnRaster(\"unep\", resolution=1).get_resampled_raster()"
   ]
  },
  {
   "cell_type": "code",
   "execution_count": null,
   "metadata": {},
   "outputs": [],
   "source": [
    "gebco = get_data.ReturnRaster(\"gebco\", lats=lats, lons=lons).get_resampled_raster()"
   ]
  },
  {
   "cell_type": "code",
   "execution_count": null,
   "metadata": {},
   "outputs": [],
   "source": [
    "elevation = get_data.ReturnRaster(\"bathymetry\", resolution=0.1, lats=lats, lons=lons).get_raw_raster()\n",
    "elevation"
   ]
  },
  {
   "cell_type": "code",
   "execution_count": null,
   "metadata": {},
   "outputs": [],
   "source": [
    "elevation = get_data.ReturnRaster(\"bathymetry\", resolution=0.1, lats=[-30,0], lons=[130,170]).get_resampled_raster()\n",
    "elevation"
   ]
  },
  {
   "cell_type": "code",
   "execution_count": null,
   "metadata": {},
   "outputs": [],
   "source": [
    "# TODO: spatial buffering of data (at edges)\n",
    "# TODO: mloess buffering of climate data\n",
    "cmip = get_data.ReturnRaster(\"cmip\", lats=[-40,0], lons=[130,170]).get_raw_raster()\n",
    "cmip"
   ]
  },
  {
   "cell_type": "code",
   "execution_count": null,
   "metadata": {},
   "outputs": [],
   "source": [
    "cmip = get_data.ReturnRaster(\"cmip\", lats=[-70,0], lons=[130,170], spatial_buffer=2).return_raster()\n",
    "cmip"
   ]
  },
  {
   "cell_type": "code",
   "execution_count": null,
   "metadata": {},
   "outputs": [],
   "source": [
    "static_ds = get_data.ReturnRaster(\"cmip\", lats=[-40,-20], lons=[150,170]).get_raw_raster()\n",
    "static_ds"
   ]
  },
  {
   "cell_type": "code",
   "execution_count": null,
   "metadata": {},
   "outputs": [],
   "source": [
    "trains, tests, vals = get_data.ProcessML().generate_ml_ready_data()"
   ]
  },
  {
   "cell_type": "code",
   "execution_count": null,
   "metadata": {},
   "outputs": [],
   "source": [
    "train, test, val = get_data.RunML().threshold_data(trains, tests, vals)"
   ]
  },
  {
   "cell_type": "code",
   "execution_count": null,
   "metadata": {},
   "outputs": [],
   "source": [
    "train[0].shape"
   ]
  },
  {
   "cell_type": "code",
   "execution_count": null,
   "metadata": {},
   "outputs": [],
   "source": [
    "model_code = \"xgbasdf\"\n",
    "\n",
    "\"xgb\" in model_code"
   ]
  },
  {
   "cell_type": "code",
   "execution_count": null,
   "metadata": {},
   "outputs": [],
   "source": [
    "from dask.distributed import get_client, Client, LocalCluster\n",
    "cluster = LocalCluster(n_workers=4)\n",
    "client = Client(cluster)\n",
    "\n",
    "\n",
    "get_data.RunML(trains=trains, tests=tests, vals=vals, model_code=\"logreg\", param_search=True).run_model()"
   ]
  },
  {
   "cell_type": "code",
   "execution_count": null,
   "metadata": {},
   "outputs": [],
   "source": [
    "static_ds.tos.isel(time=0).plot()"
   ]
  },
  {
   "cell_type": "code",
   "execution_count": null,
   "metadata": {},
   "outputs": [],
   "source": [
    "s_train, s_test, s_val = get_data.ProcessML(model_type=\"timeseries\", datasets=[\"unep\", \"cmip\", \"gebco\", \"gebco_slope\"], lats=[-40,0], lons=[130,170]).generate_scaled_data()"
   ]
  },
  {
   "cell_type": "code",
   "execution_count": null,
   "metadata": {},
   "outputs": [],
   "source": [
    "# generate an array of 1000 elements between 0 and 1 with a unimodal distribution close to 0.2\n",
    "from sklearn.preprocessing import PowerTransformer, QuantileTransformer\n",
    "\n",
    "test = np.random.triangular(0, 0.9, 1, 1000)\n",
    "fitted = PowerTransformer().fit(test.reshape(-1, 1))\n",
    "trans_test = fitted.transform(test.reshape(-1, 1))\n",
    "\n",
    "import matplotlib.pyplot as plt\n",
    "\n",
    "f, ax = plt.subplots(ncols=2)\n",
    "ax[0].hist(test)\n",
    "ax[1].hist(logged_test)\n",
    "\n",
    "for a in [ax[0], ax[1]]:\n",
    "    a.set_xlim(0, 1)"
   ]
  },
  {
   "cell_type": "code",
   "execution_count": null,
   "metadata": {},
   "outputs": [],
   "source": [
    "plt.hist(np.random.normal(0.2, 0.05, 1000000))"
   ]
  },
  {
   "cell_type": "code",
   "execution_count": null,
   "metadata": {},
   "outputs": [],
   "source": [
    "import xarray as xa\n",
    "xa.open_dataset(\"/maps/rt582/coralshift/data/env_vars/cmip6/EC-Earth3P-HR/r1i1p2f1/testing/thetao_mlotst_uo_vo_so_tos_rsdo_N0_S-40_W130_E170_levs_0-20_ll_195001-201412.nc\")"
   ]
  },
  {
   "cell_type": "markdown",
   "metadata": {},
   "source": []
  },
  {
   "cell_type": "code",
   "execution_count": null,
   "metadata": {},
   "outputs": [],
   "source": [
    "nc_fps= list(Path(\"/maps/rt582/coralshift/data/env_vars/cmip6/EC-Earth3P-HR/r1i1p2f1/testing/concatted_vars_N0_S-50_W130_E170\").glob(\"*.nc\"))\n",
    "[xa.open_dataset(fp) for fp in nc_fps[:]]"
   ]
  },
  {
   "cell_type": "code",
   "execution_count": null,
   "metadata": {},
   "outputs": [],
   "source": [
    "import subprocess\n",
    "import os\n",
    "\n",
    "get_data.execute_subprocess_command(command, \"/maps/rt582/coralshift/testlogs/cmip6_download_logs/SH-EC-Earth3P-HR_rsdo.txt\", \"/maps/rt582/coralshift/testlogs/cmip6_download_logs/SH-EC-Earth3P-HR_rsdo.txt\")\n",
    "# result = subprocess.run(\n",
    "#             command, stdout=subprocess.PIPE, stderr=subprocess.STDOUT, check=True\n",
    "#         )\n",
    "\n",
    "# os.system(\" \".join(command))"
   ]
  },
  {
   "cell_type": "code",
   "execution_count": null,
   "metadata": {},
   "outputs": [],
   "source": [
    "result"
   ]
  },
  {
   "cell_type": "code",
   "execution_count": null,
   "metadata": {},
   "outputs": [],
   "source": [
    "get_data.ReturnRaster(\"cmip6\", env_vars=[\"rsdo\"]\n",
    "# , lats=[-41, 0], lons=[129,170]\n",
    ").get_raw_raster()"
   ]
  },
  {
   "cell_type": "code",
   "execution_count": null,
   "metadata": {},
   "outputs": [],
   "source": [
    "import xarray as xa\n",
    "# xa.open_dataset(\"/maps/rt582/coralshift/data/env_vars/cmip6/EC-Earth3P-HR/r1i1p2f1/testing/rsdo_mlotst_so_thetao_uo_vo_tos_N90.0_S-90.0_W-180.0_E180.0_levs_0-20_ll_195001-201412.nc\").isel(time=0)[\"thetao\"].plot()\n",
    "\n",
    "xa.open_dataset(\"/maps/rt582/coralshift/data/env_vars/cmip6/EC-Earth3P-HR/r1i1p2f1/testing/concatted_vars_N0_S-50_W130_E170/vo_N0_S-50_W130_E170_sfl-20_ll_195001-201412.nc\")"
   ]
  }
 ],
 "metadata": {
  "kernelspec": {
   "display_name": "coralshift",
   "language": "python",
   "name": "python3"
  },
  "language_info": {
   "codemirror_mode": {
    "name": "ipython",
    "version": 3
   },
   "file_extension": ".py",
   "mimetype": "text/x-python",
   "name": "python",
   "nbconvert_exporter": "python",
   "pygments_lexer": "ipython3",
   "version": "3.11.7"
  }
 },
 "nbformat": 4,
 "nbformat_minor": 2
}
