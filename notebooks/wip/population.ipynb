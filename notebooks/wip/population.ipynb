{
 "cells": [
  {
   "cell_type": "code",
   "execution_count": 1,
   "metadata": {},
   "outputs": [],
   "source": [
    "%load_ext autoreload\n",
    "%autoreload 2"
   ]
  },
  {
   "cell_type": "code",
   "execution_count": 9,
   "metadata": {},
   "outputs": [],
   "source": [
    "tif_fp = \"/maps/rt582/coralshift/data/population/historic/popdynamics-global-pop-count-time-series-estimates-1990-geotiff/popdynamics-global-pop-count-time-series-estimates_1970.tif\"\n",
    "\n",
    "# load geotiff\n",
    "import rasterio\n",
    "import numpy as np\n",
    "from rasterio.plot import show\n",
    "import matplotlib.pyplot as plt\n",
    "import rioxarray as rio\n",
    "img = rasterio.open(tif_fp)\n",
    "    "
   ]
  },
  {
   "cell_type": "code",
   "execution_count": 6,
   "metadata": {},
   "outputs": [
    {
     "name": "stdout",
     "output_type": "stream",
     "text": [
      "21600\n"
     ]
    }
   ],
   "source": [
    "print(img.height)"
   ]
  },
  {
   "cell_type": "code",
   "execution_count": 13,
   "metadata": {},
   "outputs": [
    {
     "ename": "NoDataInBounds",
     "evalue": "No data found in bounds.",
     "output_type": "error",
     "traceback": [
      "\u001b[0;31m---------------------------------------------------------------------------\u001b[0m",
      "\u001b[0;31mNoDataInBounds\u001b[0m                            Traceback (most recent call last)",
      "Cell \u001b[0;32mIn[13], line 14\u001b[0m\n\u001b[1;32m      1\u001b[0m ds \u001b[38;5;241m=\u001b[39m rio\u001b[38;5;241m.\u001b[39mopen_rasterio(tif_fp)\n\u001b[1;32m      3\u001b[0m geometries \u001b[38;5;241m=\u001b[39m [\n\u001b[1;32m      4\u001b[0m {\n\u001b[1;32m      5\u001b[0m     \u001b[38;5;124m'\u001b[39m\u001b[38;5;124mtype\u001b[39m\u001b[38;5;124m'\u001b[39m: \u001b[38;5;124m'\u001b[39m\u001b[38;5;124mPolygon\u001b[39m\u001b[38;5;124m'\u001b[39m,\n\u001b[0;32m   (...)\u001b[0m\n\u001b[1;32m     12\u001b[0m }\n\u001b[1;32m     13\u001b[0m ]\n\u001b[0;32m---> 14\u001b[0m clipped \u001b[38;5;241m=\u001b[39m \u001b[43mds\u001b[49m\u001b[38;5;241;43m.\u001b[39;49m\u001b[43mrio\u001b[49m\u001b[38;5;241;43m.\u001b[39;49m\u001b[43mclip\u001b[49m\u001b[43m(\u001b[49m\u001b[43mgeometries\u001b[49m\u001b[43m)\u001b[49m\n\u001b[1;32m     15\u001b[0m clipped\u001b[38;5;241m.\u001b[39mplot()\n",
      "File \u001b[0;32m~/miniforge3/envs/coralshift/lib/python3.11/site-packages/rioxarray/raster_array.py:923\u001b[0m, in \u001b[0;36mRasterArray.clip\u001b[0;34m(self, geometries, crs, all_touched, drop, invert, from_disk)\u001b[0m\n\u001b[1;32m    911\u001b[0m     cropped_ds \u001b[38;5;241m=\u001b[39m _clip_xarray(\n\u001b[1;32m    912\u001b[0m         \u001b[38;5;28mself\u001b[39m\u001b[38;5;241m.\u001b[39m_obj,\n\u001b[1;32m    913\u001b[0m         geometries\u001b[38;5;241m=\u001b[39mgeometries,\n\u001b[0;32m   (...)\u001b[0m\n\u001b[1;32m    916\u001b[0m         invert\u001b[38;5;241m=\u001b[39minvert,\n\u001b[1;32m    917\u001b[0m     )\n\u001b[1;32m    919\u001b[0m \u001b[38;5;28;01mif\u001b[39;00m (\n\u001b[1;32m    920\u001b[0m     cropped_ds\u001b[38;5;241m.\u001b[39mcoords[\u001b[38;5;28mself\u001b[39m\u001b[38;5;241m.\u001b[39mx_dim]\u001b[38;5;241m.\u001b[39msize \u001b[38;5;241m<\u001b[39m \u001b[38;5;241m1\u001b[39m\n\u001b[1;32m    921\u001b[0m     \u001b[38;5;129;01mor\u001b[39;00m cropped_ds\u001b[38;5;241m.\u001b[39mcoords[\u001b[38;5;28mself\u001b[39m\u001b[38;5;241m.\u001b[39my_dim]\u001b[38;5;241m.\u001b[39msize \u001b[38;5;241m<\u001b[39m \u001b[38;5;241m1\u001b[39m\n\u001b[1;32m    922\u001b[0m ):\n\u001b[0;32m--> 923\u001b[0m     \u001b[38;5;28;01mraise\u001b[39;00m NoDataInBounds(\n\u001b[1;32m    924\u001b[0m         \u001b[38;5;124mf\u001b[39m\u001b[38;5;124m\"\u001b[39m\u001b[38;5;124mNo data found in bounds.\u001b[39m\u001b[38;5;132;01m{\u001b[39;00m_get_data_var_message(\u001b[38;5;28mself\u001b[39m\u001b[38;5;241m.\u001b[39m_obj)\u001b[38;5;132;01m}\u001b[39;00m\u001b[38;5;124m\"\u001b[39m\n\u001b[1;32m    925\u001b[0m     )\n\u001b[1;32m    927\u001b[0m \u001b[38;5;66;03m# make sure correct attributes preserved & projection added\u001b[39;00m\n\u001b[1;32m    928\u001b[0m _add_attrs_proj(cropped_ds, \u001b[38;5;28mself\u001b[39m\u001b[38;5;241m.\u001b[39m_obj)\n",
      "\u001b[0;31mNoDataInBounds\u001b[0m: No data found in bounds."
     ]
    }
   ],
   "source": [
    "ds = rio.open_rasterio(tif_fp)\n",
    "\n",
    "geometries = [\n",
    "{\n",
    "    'type': 'Polygon',\n",
    "    'coordinates': [[\n",
    "        [0, 130],\n",
    "        [30, 170],\n",
    "        [0, 170],\n",
    "        [30, 130]\n",
    "    ]]\n",
    "}\n",
    "]\n",
    "clipped = ds.rio.clip(geometries)\n",
    "clipped.plot()"
   ]
  },
  {
   "cell_type": "code",
   "execution_count": 3,
   "metadata": {},
   "outputs": [
    {
     "data": {
      "image/png": "[encoded data removed]",
      "text/plain": [
       "<Figure size 640x480 with 1 Axes>"
      ]
     },
     "metadata": {},
     "output_type": "display_data"
    },
    {
     "data": {
      "text/plain": [
       "<Axes: >"
      ]
     },
     "execution_count": 3,
     "metadata": {},
     "output_type": "execute_result"
    }
   ],
   "source": [
    "img.pl"
   ]
  }
 ],
 "metadata": {
  "kernelspec": {
   "display_name": "coralshift",
   "language": "python",
   "name": "python3"
  },
  "language_info": {
   "codemirror_mode": {
    "name": "ipython",
    "version": 3
   },
   "file_extension": ".py",
   "mimetype": "text/x-python",
   "name": "python",
   "nbconvert_exporter": "python",
   "pygments_lexer": "ipython3",
   "version": "3.11.7"
  }
 },
 "nbformat": 4,
 "nbformat_minor": 2
}
