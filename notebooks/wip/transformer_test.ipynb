{
 "cells": [
  {
   "cell_type": "code",
   "execution_count": 1,
   "metadata": {},
   "outputs": [],
   "source": [
    "%load_ext autoreload\n",
    "%autoreload 2\n",
    "\n",
    "# TODO: there really must be a better way to do this\n",
    "import sys\n",
    "import os\n",
    "sys.path.append(\"../\")\n",
    "\n",
    "# change this line to the where directory in which the GitHub repository is located: datasets will be installed into \n",
    "# the directory one level above this\n",
    "os.chdir(\"/lustre_scratch/orlando-code/coralshift/\")"
   ]
  },
  {
   "cell_type": "markdown",
   "metadata": {},
   "source": [
    "## Getting HAR transformer running on my data"
   ]
  },
  {
   "cell_type": "code",
   "execution_count": 4,
   "metadata": {},
   "outputs": [],
   "source": [
    "from coralshift.machine_learning.transformer.transformer import TSTransformerEncoderClassiregressor\n",
    "from coralshift.machine_learning.trainer.trainer import Trainer\n",
    "from coralshift.machine_learning.transformer_utils import get_data\n",
    "\n",
    "from torch.optim import Adam"
   ]
  },
  {
   "cell_type": "code",
   "execution_count": null,
   "metadata": {},
   "outputs": [],
   "source": [
    "# get data. N.B. only works when connected to Jupyter server\n",
    "# dh = get_data(train_path='lustre_scratch/datasets/har_test/MotionSenseHAR_TRAIN.ts',\n",
    "#                 test_path='lustre_scratch/datasets/har_test/MotionSenseHAR_TEST.ts')\n",
    "\n",
    "# dh = get_data()"
   ]
  },
  {
   "cell_type": "code",
   "execution_count": null,
   "metadata": {},
   "outputs": [],
   "source": [
    "# TODO: parameter sweep on lr, feat_dim, d_model, max_len, n_heads, num_layers, dim_feedforward, num_classes, dropout, \n",
    "# pos_encoding, activation, norm, freeze \n",
    "for lr in [1e-4]:\n",
    "    model = TSTransformerEncoderClassiregressor(\n",
    "        feat_dim=12,\n",
    "        d_model=64,\n",
    "        max_len=1000,\n",
    "        n_heads=8,\n",
    "        num_layers=6,\n",
    "        dim_feedforward=512,\n",
    "        num_classes=6,\n",
    "        dropout=0.1,\n",
    "        pos_encoding=\"learnable\",\n",
    "        activation=\"gelu\",\n",
    "        norm=\"BatchNorm\",\n",
    "        freeze=False,\n",
    "    )\n",
    "    trainer = Trainer(dh=dh, epochs=1)\n",
    "    dh.create_dataset()\n",
    "    dh.split_data(train_split=0.8)\n",
    "    dataloader_train = dh.create_dataloader(dh.train_data, batch_size=8)\n",
    "    optimiser = torch.optim.Adam(model.parameters(), lr=lr)\n",
    "    trainer.fit(dataloader=dataloader_train, model=model, optimiser=optimiser)\n",
    "    dataloader_test = dh.create_dataloader(dh.test_data, batch_size=8)\n",
    "    accuracy = trainer.evaluate(dataloader=dataloader_test, model=model)\n",
    "    print(accuracy)\n"
   ]
  }
 ],
 "metadata": {
  "kernelspec": {
   "display_name": "Python 3 (ipykernel)",
   "language": "python",
   "name": "python3"
  }
 },
 "nbformat": 4,
 "nbformat_minor": 2
}
